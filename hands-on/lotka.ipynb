{
 "cells": [
  {
   "cell_type": "markdown",
   "metadata": {},
   "source": [
    "# Applying Universal Differential Equations for Recovering Unknown Mechanism\n",
    "[![Binder](https://mybinder.org/badge_logo.svg)](https://mybinder.org/v2/gh/stevengogogo/Julia-for-SciML/doc-intro-slide?labpath=hands-on%2Flott.ipynb)"
   ]
  },
  {
   "cell_type": "markdown",
   "metadata": {},
   "source": [
    "Sample code is modified from [ChrisRackauckas/universsal_differential_equations](https://github.com/ChrisRackauckas/universal_differential_equations/blob/master/LotkaVolterra/scenario_1.jl). This is the part of the work of \n",
    "\n",
    "> Rackauckas, Christopher, et al. \"Universal differential equations for scientific machine learning.\" arXiv preprint arXiv:2001.04385 (2020)."
   ]
  },
  {
   "cell_type": "markdown",
   "metadata": {},
   "source": [
    "## Activate the environment"
   ]
  },
  {
   "cell_type": "code",
   "execution_count": 1,
   "metadata": {},
   "outputs": [
    {
     "name": "stderr",
     "output_type": "stream",
     "text": [
      "\u001b[32m\u001b[1m  Activating\u001b[22m\u001b[39m project at `~/Documents/GitHub/Julia-for-SciML/hands-on/lotka`\n"
     ]
    }
   ],
   "source": [
    "## Environment and packages\n",
    "cd(@__DIR__)\n",
    "using Pkg\n",
    "Pkg.activate(\"lotka\")"
   ]
  },
  {
   "cell_type": "code",
   "execution_count": 2,
   "metadata": {},
   "outputs": [
    {
     "name": "stderr",
     "output_type": "stream",
     "text": [
      "┌ Warning: The active manifest file is an older format with no julia version entry. Dependencies may have been resolved with a different julia version.\n",
      "└ @ nothing /Users/stevenchiu/Documents/GitHub/Julia-for-SciML/hands-on/lotka/Manifest.toml:0\n"
     ]
    }
   ],
   "source": [
    "Pkg.instantiate() # This step will take a while for numerous packages"
   ]
  },
  {
   "cell_type": "markdown",
   "metadata": {},
   "source": [
    "## Import packages\n",
    "\n",
    "- When importing multiple packages, this requires precompilation that takes some time."
   ]
  },
  {
   "cell_type": "code",
   "execution_count": 4,
   "metadata": {},
   "outputs": [],
   "source": [
    "using OrdinaryDiffEq\n",
    "using ModelingToolkit\n",
    "using DataDrivenDiffEq\n",
    "using LinearAlgebra, ComponentArrays\n",
    "using Optimization, OptimizationOptimisers, OptimizationOptimJL #OptimizationFlux for ADAM and OptimizationOptimJL for BFGS\n",
    "using DiffEqSensitivity\n",
    "using Lux\n",
    "using Plots\n",
    "gr()\n",
    "using Statistics\n",
    "\n",
    "# Set a random seed for reproduceable behaviour\n",
    "using Random\n",
    "rng = Random.default_rng()\n",
    "Random.seed!(1234);"
   ]
  },
  {
   "cell_type": "markdown",
   "metadata": {},
   "source": [
    "## Building ODE model: Ground truth model\n",
    "\n",
    "For simplicity, we use [Lotka-Volterra system](https://en.wikipedia.org/wiki/Lotka%E2%80%93Volterra_equations) as an example\n",
    "\n",
    "\\begin{align}\n",
    "    \\dot{x} &= \\alpha x - \\beta xy\\\\\n",
    "    \\dot{y} &= \\gamma xy- \\delta y\n",
    "\\end{align}\n",
    "\n",
    "where $\\alpha, \\beta, \\gamma$, and $\\delta$ are positive real parameters"
   ]
  },
  {
   "cell_type": "code",
   "execution_count": 5,
   "metadata": {},
   "outputs": [
    {
     "data": {
      "text/plain": [
       "lotka! (generic function with 1 method)"
      ]
     },
     "execution_count": 5,
     "metadata": {},
     "output_type": "execute_result"
    }
   ],
   "source": [
    "## Data generation\n",
    "function lotka!(du, u, p, t)\n",
    "    α, β, γ, δ = p\n",
    "    du[1] = α*u[1] - β*u[2]*u[1]\n",
    "    du[2] = γ*u[1]*u[2]  - δ*u[2]\n",
    "end"
   ]
  },
  {
   "cell_type": "code",
   "execution_count": 6,
   "metadata": {},
   "outputs": [
    {
     "data": {
      "text/plain": [
       "4-element Vector{Float64}:\n",
       " 1.3\n",
       " 0.9\n",
       " 0.8\n",
       " 1.8"
      ]
     },
     "execution_count": 6,
     "metadata": {},
     "output_type": "execute_result"
    }
   ],
   "source": [
    "# Define the experimental parameter\n",
    "tspan = (0.0,3.0)\n",
    "u0 = [0.44249296,4.6280594]\n",
    "p_ = [1.3, 0.9, 0.8, 1.8]"
   ]
  },
  {
   "cell_type": "markdown",
   "metadata": {},
   "source": [
    "### Solving ODE\n",
    "- `Vern7` is used for non-stiff problems. Numerous solvers can be found on [DifferentialEquations.jl's doc](https://diffeq.sciml.ai/stable/solvers/ode_solve/)\n",
    "    "
   ]
  },
  {
   "cell_type": "code",
   "execution_count": 7,
   "metadata": {},
   "outputs": [
    {
     "data": {
      "text/plain": [
       "retcode: Success\n",
       "Interpolation: 1st order linear\n",
       "t: 31-element Vector{Float64}:\n",
       " 0.0\n",
       " 0.1\n",
       " 0.2\n",
       " 0.3\n",
       " 0.4\n",
       " 0.5\n",
       " 0.6\n",
       " 0.7\n",
       " 0.8\n",
       " 0.9\n",
       " 1.0\n",
       " 1.1\n",
       " 1.2\n",
       " ⋮\n",
       " 1.9\n",
       " 2.0\n",
       " 2.1\n",
       " 2.2\n",
       " 2.3\n",
       " 2.4\n",
       " 2.5\n",
       " 2.6\n",
       " 2.7\n",
       " 2.8\n",
       " 2.9\n",
       " 3.0\n",
       "u: 31-element Vector{Vector{Float64}}:\n",
       " [0.44249296, 4.6280594]\n",
       " [0.34212452862086234, 3.98764547181634]\n",
       " [0.2793966078254349, 3.4139529441083147]\n",
       " [0.2394952228707143, 2.9110318130603883]\n",
       " [0.21413620714095402, 2.4758280205419836]\n",
       " [0.19854852659179129, 2.1022922430734137]\n",
       " [0.18991187927524103, 1.7834096349202704]\n",
       " [0.18652973211225643, 1.5121821427640152]\n",
       " [0.18737918127509637, 1.2820806846455604]\n",
       " [0.1918587411736629, 1.087227597605956]\n",
       " [0.1996432344128222, 0.9224424008592909]\n",
       " [0.2105985019620811, 0.7832199752377471]\n",
       " [0.22473063540355143, 0.6656774980182895]\n",
       " ⋮\n",
       " [0.4333056937367298, 0.22471175932636067]\n",
       " [0.48425346211989406, 0.1947029152564331]\n",
       " [0.5425361548950363, 0.16943926722620506]\n",
       " [0.6091040110729008, 0.14819092695665834]\n",
       " [0.6850407509453579, 0.13034710141497852]\n",
       " [0.7715795653361799, 0.11539841080610512]\n",
       " [0.8701212001899306, 0.10292221843899205]\n",
       " [0.9822541897624152, 0.09257065810821445]\n",
       " [1.1097772412678872, 0.08406114122763123]\n",
       " [1.2547236687788759, 0.07716924328704818]\n",
       " [1.419387582491876, 0.07172402271816045]\n",
       " [1.606351205697802, 0.06760604257226555]"
      ]
     },
     "execution_count": 7,
     "metadata": {},
     "output_type": "execute_result"
    }
   ],
   "source": [
    "# Solve\n",
    "prob = ODEProblem(lotka!, u0,tspan, p_)\n",
    "solution = solve(prob, Vern7(), abstol=1e-12, reltol=1e-12, saveat = 0.1)"
   ]
  },
  {
   "cell_type": "markdown",
   "metadata": {},
   "source": [
    "## Data processing"
   ]
  },
  {
   "cell_type": "code",
   "execution_count": 8,
   "metadata": {},
   "outputs": [
    {
     "data": {
      "text/plain": [
       "2×31 Matrix{Float64}:\n",
       " 0.444955  0.344412  0.277873  0.246362  …  1.2542     1.41631    1.60945\n",
       " 4.6231    3.98748   3.40663   2.91876      0.0810739  0.0772539  0.0672219"
      ]
     },
     "execution_count": 8,
     "metadata": {},
     "output_type": "execute_result"
    }
   ],
   "source": [
    "# Ideal data\n",
    "X = Array(solution)\n",
    "t = solution.t\n",
    "DX = Array(solution(solution.t, Val{1}))\n",
    "\n",
    "full_problem = DataDrivenProblem(X, t = t, DX = DX)\n",
    "\n",
    "# Add noise in terms of the mean\n",
    "x̄ = mean(X, dims = 2)\n",
    "noise_magnitude = 5e-3\n",
    "Xₙ = X .+ (noise_magnitude*x̄) .* randn(eltype(X), size(X))"
   ]
  },
  {
   "cell_type": "markdown",
   "metadata": {},
   "source": [
    "## Data Visualization"
   ]
  },
  {
   "cell_type": "code",
   "execution_count": 9,
   "metadata": {},
   "outputs": [
    {
     "data": {
      "image/svg+xml": [
       "<?xml version=\"1.0\" encoding=\"utf-8\"?>\n",
       "<svg xmlns=\"http://www.w3.org/2000/svg\" xmlns:xlink=\"http://www.w3.org/1999/xlink\" width=\"600\" height=\"400\" viewBox=\"0 0 2400 1600\">\n",
       "<defs>\n",
       "  <clipPath id=\"clip430\">\n",
       "    <rect x=\"0\" y=\"0\" width=\"2400\" height=\"1600\"/>\n",
       "  </clipPath>\n",
       "</defs>\n",
       "<path clip-path=\"url(#clip430)\" d=\"\n",
       "M0 1600 L2400 1600 L2400 0 L0 0  Z\n",
       "  \" fill=\"#ffffff\" fill-rule=\"evenodd\" fill-opacity=\"1\"/>\n",
       "<defs>\n",
       "  <clipPath id=\"clip431\">\n",
       "    <rect x=\"480\" y=\"0\" width=\"1681\" height=\"1600\"/>\n",
       "  </clipPath>\n",
       "</defs>\n",
       "<path clip-path=\"url(#clip430)\" d=\"\n",
       "M112.177 1423.18 L2352.76 1423.18 L2352.76 47.2441 L112.177 47.2441  Z\n",
       "  \" fill=\"#ffffff\" fill-rule=\"evenodd\" fill-opacity=\"1\"/>\n",
       "<defs>\n",
       "  <clipPath id=\"clip432\">\n",
       "    <rect x=\"112\" y=\"47\" width=\"2242\" height=\"1377\"/>\n",
       "  </clipPath>\n",
       "</defs>\n",
       "<polyline clip-path=\"url(#clip432)\" style=\"stroke:#000000; stroke-linecap:butt; stroke-linejoin:round; stroke-width:2; stroke-opacity:0.1; fill:none\" points=\"\n",
       "  112.177,1423.18 112.177,47.2441 \n",
       "  \"/>\n",
       "<polyline clip-path=\"url(#clip432)\" style=\"stroke:#000000; stroke-linecap:butt; stroke-linejoin:round; stroke-width:2; stroke-opacity:0.1; fill:none\" points=\"\n",
       "  859.037,1423.18 859.037,47.2441 \n",
       "  \"/>\n",
       "<polyline clip-path=\"url(#clip432)\" style=\"stroke:#000000; stroke-linecap:butt; stroke-linejoin:round; stroke-width:2; stroke-opacity:0.1; fill:none\" points=\"\n",
       "  1605.9,1423.18 1605.9,47.2441 \n",
       "  \"/>\n",
       "<polyline clip-path=\"url(#clip432)\" style=\"stroke:#000000; stroke-linecap:butt; stroke-linejoin:round; stroke-width:2; stroke-opacity:0.1; fill:none\" points=\"\n",
       "  2352.76,1423.18 2352.76,47.2441 \n",
       "  \"/>\n",
       "<polyline clip-path=\"url(#clip430)\" style=\"stroke:#000000; stroke-linecap:butt; stroke-linejoin:round; stroke-width:4; stroke-opacity:1; fill:none\" points=\"\n",
       "  112.177,1423.18 2352.76,1423.18 \n",
       "  \"/>\n",
       "<polyline clip-path=\"url(#clip430)\" style=\"stroke:#000000; stroke-linecap:butt; stroke-linejoin:round; stroke-width:4; stroke-opacity:1; fill:none\" points=\"\n",
       "  112.177,1423.18 112.177,1404.28 \n",
       "  \"/>\n",
       "<polyline clip-path=\"url(#clip430)\" style=\"stroke:#000000; stroke-linecap:butt; stroke-linejoin:round; stroke-width:4; stroke-opacity:1; fill:none\" points=\"\n",
       "  859.037,1423.18 859.037,1404.28 \n",
       "  \"/>\n",
       "<polyline clip-path=\"url(#clip430)\" style=\"stroke:#000000; stroke-linecap:butt; stroke-linejoin:round; stroke-width:4; stroke-opacity:1; fill:none\" points=\"\n",
       "  1605.9,1423.18 1605.9,1404.28 \n",
       "  \"/>\n",
       "<polyline clip-path=\"url(#clip430)\" style=\"stroke:#000000; stroke-linecap:butt; stroke-linejoin:round; stroke-width:4; stroke-opacity:1; fill:none\" points=\"\n",
       "  2352.76,1423.18 2352.76,1404.28 \n",
       "  \"/>\n",
       "<path clip-path=\"url(#clip430)\" d=\"M112.177 1454.1 Q108.566 1454.1 106.737 1457.66 Q104.932 1461.2 104.932 1468.33 Q104.932 1475.44 106.737 1479.01 Q108.566 1482.55 112.177 1482.55 Q115.811 1482.55 117.617 1479.01 Q119.446 1475.44 119.446 1468.33 Q119.446 1461.2 117.617 1457.66 Q115.811 1454.1 112.177 1454.1 M112.177 1450.39 Q117.987 1450.39 121.043 1455 Q124.122 1459.58 124.122 1468.33 Q124.122 1477.06 121.043 1481.67 Q117.987 1486.25 112.177 1486.25 Q106.367 1486.25 103.288 1481.67 Q100.233 1477.06 100.233 1468.33 Q100.233 1459.58 103.288 1455 Q106.367 1450.39 112.177 1450.39 Z\" fill=\"#000000\" fill-rule=\"evenodd\" fill-opacity=\"1\" /><path clip-path=\"url(#clip430)\" d=\"M849.419 1481.64 L857.058 1481.64 L857.058 1455.28 L848.747 1456.95 L848.747 1452.69 L857.011 1451.02 L861.687 1451.02 L861.687 1481.64 L869.326 1481.64 L869.326 1485.58 L849.419 1485.58 L849.419 1481.64 Z\" fill=\"#000000\" fill-rule=\"evenodd\" fill-opacity=\"1\" /><path clip-path=\"url(#clip430)\" d=\"M1600.55 1481.64 L1616.87 1481.64 L1616.87 1485.58 L1594.92 1485.58 L1594.92 1481.64 Q1597.59 1478.89 1602.17 1474.26 Q1606.78 1469.61 1607.96 1468.27 Q1610.2 1465.74 1611.08 1464.01 Q1611.98 1462.25 1611.98 1460.56 Q1611.98 1457.8 1610.04 1456.07 Q1608.12 1454.33 1605.02 1454.33 Q1602.82 1454.33 1600.36 1455.09 Q1597.93 1455.86 1595.16 1457.41 L1595.16 1452.69 Q1597.98 1451.55 1600.43 1450.97 Q1602.89 1450.39 1604.92 1450.39 Q1610.29 1450.39 1613.49 1453.08 Q1616.68 1455.77 1616.68 1460.26 Q1616.68 1462.39 1615.87 1464.31 Q1615.09 1466.2 1612.98 1468.8 Q1612.4 1469.47 1609.3 1472.69 Q1606.2 1475.88 1600.55 1481.64 Z\" fill=\"#000000\" fill-rule=\"evenodd\" fill-opacity=\"1\" /><path clip-path=\"url(#clip430)\" d=\"M2357 1466.95 Q2360.36 1467.66 2362.24 1469.93 Q2364.13 1472.2 2364.13 1475.53 Q2364.13 1480.65 2360.61 1483.45 Q2357.1 1486.25 2350.61 1486.25 Q2348.44 1486.25 2346.12 1485.81 Q2343.83 1485.39 2341.38 1484.54 L2341.38 1480.02 Q2343.32 1481.16 2345.64 1481.74 Q2347.95 1482.32 2350.48 1482.32 Q2354.87 1482.32 2357.17 1480.58 Q2359.48 1478.84 2359.48 1475.53 Q2359.48 1472.48 2357.33 1470.77 Q2355.2 1469.03 2351.38 1469.03 L2347.35 1469.03 L2347.35 1465.19 L2351.56 1465.19 Q2355.01 1465.19 2356.84 1463.82 Q2358.67 1462.43 2358.67 1459.84 Q2358.67 1457.18 2356.77 1455.77 Q2354.9 1454.33 2351.38 1454.33 Q2349.46 1454.33 2347.26 1454.75 Q2345.06 1455.16 2342.42 1456.04 L2342.42 1451.88 Q2345.08 1451.14 2347.4 1450.77 Q2349.74 1450.39 2351.8 1450.39 Q2357.12 1450.39 2360.22 1452.83 Q2363.32 1455.23 2363.32 1459.35 Q2363.32 1462.22 2361.68 1464.21 Q2360.04 1466.18 2357 1466.95 Z\" fill=\"#000000\" fill-rule=\"evenodd\" fill-opacity=\"1\" /><path clip-path=\"url(#clip430)\" d=\"M1231.53 1522.27 L1231.53 1532.4 L1243.59 1532.4 L1243.59 1536.95 L1231.53 1536.95 L1231.53 1556.3 Q1231.53 1560.66 1232.71 1561.9 Q1233.91 1563.14 1237.58 1563.14 L1243.59 1563.14 L1243.59 1568.04 L1237.58 1568.04 Q1230.8 1568.04 1228.22 1565.53 Q1225.64 1562.98 1225.64 1556.3 L1225.64 1536.95 L1221.34 1536.95 L1221.34 1532.4 L1225.64 1532.4 L1225.64 1522.27 L1231.53 1522.27 Z\" fill=\"#000000\" fill-rule=\"evenodd\" fill-opacity=\"1\" /><polyline clip-path=\"url(#clip432)\" style=\"stroke:#000000; stroke-linecap:butt; stroke-linejoin:round; stroke-width:2; stroke-opacity:0.1; fill:none\" points=\"\n",
       "  112.177,1403.37 2352.76,1403.37 \n",
       "  \"/>\n",
       "<polyline clip-path=\"url(#clip432)\" style=\"stroke:#000000; stroke-linecap:butt; stroke-linejoin:round; stroke-width:2; stroke-opacity:0.1; fill:none\" points=\"\n",
       "  112.177,1118.76 2352.76,1118.76 \n",
       "  \"/>\n",
       "<polyline clip-path=\"url(#clip432)\" style=\"stroke:#000000; stroke-linecap:butt; stroke-linejoin:round; stroke-width:2; stroke-opacity:0.1; fill:none\" points=\"\n",
       "  112.177,834.153 2352.76,834.153 \n",
       "  \"/>\n",
       "<polyline clip-path=\"url(#clip432)\" style=\"stroke:#000000; stroke-linecap:butt; stroke-linejoin:round; stroke-width:2; stroke-opacity:0.1; fill:none\" points=\"\n",
       "  112.177,549.545 2352.76,549.545 \n",
       "  \"/>\n",
       "<polyline clip-path=\"url(#clip432)\" style=\"stroke:#000000; stroke-linecap:butt; stroke-linejoin:round; stroke-width:2; stroke-opacity:0.1; fill:none\" points=\"\n",
       "  112.177,264.937 2352.76,264.937 \n",
       "  \"/>\n",
       "<polyline clip-path=\"url(#clip430)\" style=\"stroke:#000000; stroke-linecap:butt; stroke-linejoin:round; stroke-width:4; stroke-opacity:1; fill:none\" points=\"\n",
       "  112.177,1423.18 112.177,47.2441 \n",
       "  \"/>\n",
       "<polyline clip-path=\"url(#clip430)\" style=\"stroke:#000000; stroke-linecap:butt; stroke-linejoin:round; stroke-width:4; stroke-opacity:1; fill:none\" points=\"\n",
       "  112.177,1403.37 131.075,1403.37 \n",
       "  \"/>\n",
       "<polyline clip-path=\"url(#clip430)\" style=\"stroke:#000000; stroke-linecap:butt; stroke-linejoin:round; stroke-width:4; stroke-opacity:1; fill:none\" points=\"\n",
       "  112.177,1118.76 131.075,1118.76 \n",
       "  \"/>\n",
       "<polyline clip-path=\"url(#clip430)\" style=\"stroke:#000000; stroke-linecap:butt; stroke-linejoin:round; stroke-width:4; stroke-opacity:1; fill:none\" points=\"\n",
       "  112.177,834.153 131.075,834.153 \n",
       "  \"/>\n",
       "<polyline clip-path=\"url(#clip430)\" style=\"stroke:#000000; stroke-linecap:butt; stroke-linejoin:round; stroke-width:4; stroke-opacity:1; fill:none\" points=\"\n",
       "  112.177,549.545 131.075,549.545 \n",
       "  \"/>\n",
       "<polyline clip-path=\"url(#clip430)\" style=\"stroke:#000000; stroke-linecap:butt; stroke-linejoin:round; stroke-width:4; stroke-opacity:1; fill:none\" points=\"\n",
       "  112.177,264.937 131.075,264.937 \n",
       "  \"/>\n",
       "<path clip-path=\"url(#clip430)\" d=\"M64.2328 1389.17 Q60.6217 1389.17 58.793 1392.73 Q56.9875 1396.28 56.9875 1403.4 Q56.9875 1410.51 58.793 1414.08 Q60.6217 1417.62 64.2328 1417.62 Q67.867 1417.62 69.6726 1414.08 Q71.5013 1410.51 71.5013 1403.4 Q71.5013 1396.28 69.6726 1392.73 Q67.867 1389.17 64.2328 1389.17 M64.2328 1385.47 Q70.0429 1385.47 73.0985 1390.07 Q76.1772 1394.65 76.1772 1403.4 Q76.1772 1412.13 73.0985 1416.74 Q70.0429 1421.32 64.2328 1421.32 Q58.4226 1421.32 55.344 1416.74 Q52.2884 1412.13 52.2884 1403.4 Q52.2884 1394.65 55.344 1390.07 Q58.4226 1385.47 64.2328 1385.47 Z\" fill=\"#000000\" fill-rule=\"evenodd\" fill-opacity=\"1\" /><path clip-path=\"url(#clip430)\" d=\"M56.2699 1132.11 L63.9087 1132.11 L63.9087 1105.74 L55.5986 1107.41 L55.5986 1103.15 L63.8624 1101.48 L68.5383 1101.48 L68.5383 1132.11 L76.1772 1132.11 L76.1772 1136.04 L56.2699 1136.04 L56.2699 1132.11 Z\" fill=\"#000000\" fill-rule=\"evenodd\" fill-opacity=\"1\" /><path clip-path=\"url(#clip430)\" d=\"M59.8578 847.498 L76.1772 847.498 L76.1772 851.433 L54.2328 851.433 L54.2328 847.498 Q56.8949 844.744 61.4782 840.114 Q66.0846 835.461 67.2652 834.119 Q69.5105 831.596 70.3902 829.859 Q71.2929 828.1 71.2929 826.41 Q71.2929 823.656 69.3485 821.92 Q67.4272 820.184 64.3254 820.184 Q62.1263 820.184 59.6726 820.947 Q57.2421 821.711 54.4643 823.262 L54.4643 818.54 Q57.2884 817.406 59.7421 816.827 Q62.1958 816.248 64.2328 816.248 Q69.6031 816.248 72.7976 818.934 Q75.992 821.619 75.992 826.109 Q75.992 828.239 75.1818 830.16 Q74.3948 832.059 72.2883 834.651 Q71.7096 835.322 68.6078 838.54 Q65.5059 841.734 59.8578 847.498 Z\" fill=\"#000000\" fill-rule=\"evenodd\" fill-opacity=\"1\" /><path clip-path=\"url(#clip430)\" d=\"M69.0476 548.191 Q72.404 548.908 74.279 551.177 Q76.1772 553.445 76.1772 556.779 Q76.1772 561.894 72.6587 564.695 Q69.1402 567.496 62.6587 567.496 Q60.4828 567.496 58.168 567.057 Q55.8764 566.64 53.4227 565.783 L53.4227 561.269 Q55.3671 562.404 57.6819 562.982 Q59.9967 563.561 62.5198 563.561 Q66.918 563.561 69.2096 561.825 Q71.5244 560.089 71.5244 556.779 Q71.5244 553.723 69.3717 552.01 Q67.242 550.274 63.4226 550.274 L59.3949 550.274 L59.3949 546.432 L63.6078 546.432 Q67.0569 546.432 68.8855 545.066 Q70.7142 543.677 70.7142 541.084 Q70.7142 538.422 68.8161 537.01 Q66.9411 535.575 63.4226 535.575 Q61.5013 535.575 59.3023 535.992 Q57.1032 536.409 54.4643 537.288 L54.4643 533.122 Q57.1264 532.381 59.4412 532.01 Q61.7791 531.64 63.8393 531.64 Q69.1633 531.64 72.2652 534.071 Q75.367 536.478 75.367 540.598 Q75.367 543.469 73.7235 545.459 Q72.08 547.427 69.0476 548.191 Z\" fill=\"#000000\" fill-rule=\"evenodd\" fill-opacity=\"1\" /><path clip-path=\"url(#clip430)\" d=\"M66.5939 251.731 L54.7884 270.18 L66.5939 270.18 L66.5939 251.731 M65.367 247.657 L71.2466 247.657 L71.2466 270.18 L76.1772 270.18 L76.1772 274.069 L71.2466 274.069 L71.2466 282.217 L66.5939 282.217 L66.5939 274.069 L50.9921 274.069 L50.9921 269.555 L65.367 247.657 Z\" fill=\"#000000\" fill-rule=\"evenodd\" fill-opacity=\"1\" /><polyline clip-path=\"url(#clip432)\" style=\"stroke:#000000; stroke-linecap:butt; stroke-linejoin:round; stroke-width:4; stroke-opacity:0.75; fill:none\" points=\"\n",
       "  112.177,1277.43 186.863,1306 261.549,1323.85 336.235,1335.21 410.921,1342.43 485.607,1346.86 560.293,1349.32 634.979,1350.28 709.665,1350.04 784.351,1348.77 \n",
       "  859.037,1346.55 933.723,1343.43 1008.41,1339.41 1083.09,1334.45 1157.78,1328.49 1232.47,1321.46 1307.15,1313.24 1381.84,1303.7 1456.52,1292.7 1531.21,1280.05 \n",
       "  1605.9,1265.55 1680.58,1248.96 1755.27,1230.01 1829.95,1208.4 1904.64,1183.77 1979.33,1155.73 2054.01,1123.81 2128.7,1087.52 2203.38,1046.27 2278.07,999.401 \n",
       "  2352.76,946.189 \n",
       "  \"/>\n",
       "<polyline clip-path=\"url(#clip432)\" style=\"stroke:#000000; stroke-linecap:butt; stroke-linejoin:round; stroke-width:4; stroke-opacity:0.75; fill:none\" points=\"\n",
       "  112.177,86.1857 186.863,268.453 261.549,431.731 336.235,574.866 410.921,698.729 485.607,805.04 560.293,895.797 634.979,972.99 709.665,1038.48 784.351,1093.94 \n",
       "  859.037,1140.84 933.723,1180.46 1008.41,1213.91 1083.09,1242.14 1157.78,1265.96 1232.47,1286.04 1307.15,1302.97 1381.84,1317.24 1456.52,1329.28 1531.21,1339.42 \n",
       "  1605.9,1347.96 1680.58,1355.15 1755.27,1361.19 1829.95,1366.27 1904.64,1370.53 1979.33,1374.08 2054.01,1377.02 2128.7,1379.45 2203.38,1381.41 2278.07,1382.96 \n",
       "  2352.76,1384.13 \n",
       "  \"/>\n",
       "<circle clip-path=\"url(#clip432)\" cx=\"112.177\" cy=\"1276.73\" r=\"14.4\" fill=\"#ff0000\" fill-rule=\"evenodd\" fill-opacity=\"1\" stroke=\"#000000\" stroke-opacity=\"1\" stroke-width=\"3.2\"/>\n",
       "<circle clip-path=\"url(#clip432)\" cx=\"186.863\" cy=\"1305.35\" r=\"14.4\" fill=\"#ff0000\" fill-rule=\"evenodd\" fill-opacity=\"1\" stroke=\"#000000\" stroke-opacity=\"1\" stroke-width=\"3.2\"/>\n",
       "<circle clip-path=\"url(#clip432)\" cx=\"261.549\" cy=\"1324.29\" r=\"14.4\" fill=\"#ff0000\" fill-rule=\"evenodd\" fill-opacity=\"1\" stroke=\"#000000\" stroke-opacity=\"1\" stroke-width=\"3.2\"/>\n",
       "<circle clip-path=\"url(#clip432)\" cx=\"336.235\" cy=\"1333.25\" r=\"14.4\" fill=\"#ff0000\" fill-rule=\"evenodd\" fill-opacity=\"1\" stroke=\"#000000\" stroke-opacity=\"1\" stroke-width=\"3.2\"/>\n",
       "<circle clip-path=\"url(#clip432)\" cx=\"410.921\" cy=\"1341.88\" r=\"14.4\" fill=\"#ff0000\" fill-rule=\"evenodd\" fill-opacity=\"1\" stroke=\"#000000\" stroke-opacity=\"1\" stroke-width=\"3.2\"/>\n",
       "<circle clip-path=\"url(#clip432)\" cx=\"485.607\" cy=\"1346.35\" r=\"14.4\" fill=\"#ff0000\" fill-rule=\"evenodd\" fill-opacity=\"1\" stroke=\"#000000\" stroke-opacity=\"1\" stroke-width=\"3.2\"/>\n",
       "<circle clip-path=\"url(#clip432)\" cx=\"560.293\" cy=\"1348.69\" r=\"14.4\" fill=\"#ff0000\" fill-rule=\"evenodd\" fill-opacity=\"1\" stroke=\"#000000\" stroke-opacity=\"1\" stroke-width=\"3.2\"/>\n",
       "<circle clip-path=\"url(#clip432)\" cx=\"634.979\" cy=\"1349.59\" r=\"14.4\" fill=\"#ff0000\" fill-rule=\"evenodd\" fill-opacity=\"1\" stroke=\"#000000\" stroke-opacity=\"1\" stroke-width=\"3.2\"/>\n",
       "<circle clip-path=\"url(#clip432)\" cx=\"709.665\" cy=\"1351.1\" r=\"14.4\" fill=\"#ff0000\" fill-rule=\"evenodd\" fill-opacity=\"1\" stroke=\"#000000\" stroke-opacity=\"1\" stroke-width=\"3.2\"/>\n",
       "<circle clip-path=\"url(#clip432)\" cx=\"784.351\" cy=\"1348.35\" r=\"14.4\" fill=\"#ff0000\" fill-rule=\"evenodd\" fill-opacity=\"1\" stroke=\"#000000\" stroke-opacity=\"1\" stroke-width=\"3.2\"/>\n",
       "<circle clip-path=\"url(#clip432)\" cx=\"859.037\" cy=\"1347.31\" r=\"14.4\" fill=\"#ff0000\" fill-rule=\"evenodd\" fill-opacity=\"1\" stroke=\"#000000\" stroke-opacity=\"1\" stroke-width=\"3.2\"/>\n",
       "<circle clip-path=\"url(#clip432)\" cx=\"933.723\" cy=\"1344.76\" r=\"14.4\" fill=\"#ff0000\" fill-rule=\"evenodd\" fill-opacity=\"1\" stroke=\"#000000\" stroke-opacity=\"1\" stroke-width=\"3.2\"/>\n",
       "<circle clip-path=\"url(#clip432)\" cx=\"1008.41\" cy=\"1338.74\" r=\"14.4\" fill=\"#ff0000\" fill-rule=\"evenodd\" fill-opacity=\"1\" stroke=\"#000000\" stroke-opacity=\"1\" stroke-width=\"3.2\"/>\n",
       "<circle clip-path=\"url(#clip432)\" cx=\"1083.09\" cy=\"1334.28\" r=\"14.4\" fill=\"#ff0000\" fill-rule=\"evenodd\" fill-opacity=\"1\" stroke=\"#000000\" stroke-opacity=\"1\" stroke-width=\"3.2\"/>\n",
       "<circle clip-path=\"url(#clip432)\" cx=\"1157.78\" cy=\"1328.56\" r=\"14.4\" fill=\"#ff0000\" fill-rule=\"evenodd\" fill-opacity=\"1\" stroke=\"#000000\" stroke-opacity=\"1\" stroke-width=\"3.2\"/>\n",
       "<circle clip-path=\"url(#clip432)\" cx=\"1232.47\" cy=\"1321.45\" r=\"14.4\" fill=\"#ff0000\" fill-rule=\"evenodd\" fill-opacity=\"1\" stroke=\"#000000\" stroke-opacity=\"1\" stroke-width=\"3.2\"/>\n",
       "<circle clip-path=\"url(#clip432)\" cx=\"1307.15\" cy=\"1312.95\" r=\"14.4\" fill=\"#ff0000\" fill-rule=\"evenodd\" fill-opacity=\"1\" stroke=\"#000000\" stroke-opacity=\"1\" stroke-width=\"3.2\"/>\n",
       "<circle clip-path=\"url(#clip432)\" cx=\"1381.84\" cy=\"1304.6\" r=\"14.4\" fill=\"#ff0000\" fill-rule=\"evenodd\" fill-opacity=\"1\" stroke=\"#000000\" stroke-opacity=\"1\" stroke-width=\"3.2\"/>\n",
       "<circle clip-path=\"url(#clip432)\" cx=\"1456.52\" cy=\"1293.03\" r=\"14.4\" fill=\"#ff0000\" fill-rule=\"evenodd\" fill-opacity=\"1\" stroke=\"#000000\" stroke-opacity=\"1\" stroke-width=\"3.2\"/>\n",
       "<circle clip-path=\"url(#clip432)\" cx=\"1531.21\" cy=\"1280.95\" r=\"14.4\" fill=\"#ff0000\" fill-rule=\"evenodd\" fill-opacity=\"1\" stroke=\"#000000\" stroke-opacity=\"1\" stroke-width=\"3.2\"/>\n",
       "<circle clip-path=\"url(#clip432)\" cx=\"1605.9\" cy=\"1265.46\" r=\"14.4\" fill=\"#ff0000\" fill-rule=\"evenodd\" fill-opacity=\"1\" stroke=\"#000000\" stroke-opacity=\"1\" stroke-width=\"3.2\"/>\n",
       "<circle clip-path=\"url(#clip432)\" cx=\"1680.58\" cy=\"1249.18\" r=\"14.4\" fill=\"#ff0000\" fill-rule=\"evenodd\" fill-opacity=\"1\" stroke=\"#000000\" stroke-opacity=\"1\" stroke-width=\"3.2\"/>\n",
       "<circle clip-path=\"url(#clip432)\" cx=\"1755.27\" cy=\"1230.67\" r=\"14.4\" fill=\"#ff0000\" fill-rule=\"evenodd\" fill-opacity=\"1\" stroke=\"#000000\" stroke-opacity=\"1\" stroke-width=\"3.2\"/>\n",
       "<circle clip-path=\"url(#clip432)\" cx=\"1829.95\" cy=\"1207.63\" r=\"14.4\" fill=\"#ff0000\" fill-rule=\"evenodd\" fill-opacity=\"1\" stroke=\"#000000\" stroke-opacity=\"1\" stroke-width=\"3.2\"/>\n",
       "<circle clip-path=\"url(#clip432)\" cx=\"1904.64\" cy=\"1183.81\" r=\"14.4\" fill=\"#ff0000\" fill-rule=\"evenodd\" fill-opacity=\"1\" stroke=\"#000000\" stroke-opacity=\"1\" stroke-width=\"3.2\"/>\n",
       "<circle clip-path=\"url(#clip432)\" cx=\"1979.33\" cy=\"1155.88\" r=\"14.4\" fill=\"#ff0000\" fill-rule=\"evenodd\" fill-opacity=\"1\" stroke=\"#000000\" stroke-opacity=\"1\" stroke-width=\"3.2\"/>\n",
       "<circle clip-path=\"url(#clip432)\" cx=\"2054.01\" cy=\"1124.33\" r=\"14.4\" fill=\"#ff0000\" fill-rule=\"evenodd\" fill-opacity=\"1\" stroke=\"#000000\" stroke-opacity=\"1\" stroke-width=\"3.2\"/>\n",
       "<circle clip-path=\"url(#clip432)\" cx=\"2128.7\" cy=\"1086.94\" r=\"14.4\" fill=\"#ff0000\" fill-rule=\"evenodd\" fill-opacity=\"1\" stroke=\"#000000\" stroke-opacity=\"1\" stroke-width=\"3.2\"/>\n",
       "<circle clip-path=\"url(#clip432)\" cx=\"2203.38\" cy=\"1046.41\" r=\"14.4\" fill=\"#ff0000\" fill-rule=\"evenodd\" fill-opacity=\"1\" stroke=\"#000000\" stroke-opacity=\"1\" stroke-width=\"3.2\"/>\n",
       "<circle clip-path=\"url(#clip432)\" cx=\"2278.07\" cy=\"1000.28\" r=\"14.4\" fill=\"#ff0000\" fill-rule=\"evenodd\" fill-opacity=\"1\" stroke=\"#000000\" stroke-opacity=\"1\" stroke-width=\"3.2\"/>\n",
       "<circle clip-path=\"url(#clip432)\" cx=\"2352.76\" cy=\"945.309\" r=\"14.4\" fill=\"#ff0000\" fill-rule=\"evenodd\" fill-opacity=\"1\" stroke=\"#000000\" stroke-opacity=\"1\" stroke-width=\"3.2\"/>\n",
       "<circle clip-path=\"url(#clip432)\" cx=\"112.177\" cy=\"87.5976\" r=\"14.4\" fill=\"#ff0000\" fill-rule=\"evenodd\" fill-opacity=\"1\" stroke=\"#000000\" stroke-opacity=\"1\" stroke-width=\"3.2\"/>\n",
       "<circle clip-path=\"url(#clip432)\" cx=\"186.863\" cy=\"268.5\" r=\"14.4\" fill=\"#ff0000\" fill-rule=\"evenodd\" fill-opacity=\"1\" stroke=\"#000000\" stroke-opacity=\"1\" stroke-width=\"3.2\"/>\n",
       "<circle clip-path=\"url(#clip432)\" cx=\"261.549\" cy=\"433.814\" r=\"14.4\" fill=\"#ff0000\" fill-rule=\"evenodd\" fill-opacity=\"1\" stroke=\"#000000\" stroke-opacity=\"1\" stroke-width=\"3.2\"/>\n",
       "<circle clip-path=\"url(#clip432)\" cx=\"336.235\" cy=\"572.668\" r=\"14.4\" fill=\"#ff0000\" fill-rule=\"evenodd\" fill-opacity=\"1\" stroke=\"#000000\" stroke-opacity=\"1\" stroke-width=\"3.2\"/>\n",
       "<circle clip-path=\"url(#clip432)\" cx=\"410.921\" cy=\"700\" r=\"14.4\" fill=\"#ff0000\" fill-rule=\"evenodd\" fill-opacity=\"1\" stroke=\"#000000\" stroke-opacity=\"1\" stroke-width=\"3.2\"/>\n",
       "<circle clip-path=\"url(#clip432)\" cx=\"485.607\" cy=\"803.466\" r=\"14.4\" fill=\"#ff0000\" fill-rule=\"evenodd\" fill-opacity=\"1\" stroke=\"#000000\" stroke-opacity=\"1\" stroke-width=\"3.2\"/>\n",
       "<circle clip-path=\"url(#clip432)\" cx=\"560.293\" cy=\"895.673\" r=\"14.4\" fill=\"#ff0000\" fill-rule=\"evenodd\" fill-opacity=\"1\" stroke=\"#000000\" stroke-opacity=\"1\" stroke-width=\"3.2\"/>\n",
       "<circle clip-path=\"url(#clip432)\" cx=\"634.979\" cy=\"971.681\" r=\"14.4\" fill=\"#ff0000\" fill-rule=\"evenodd\" fill-opacity=\"1\" stroke=\"#000000\" stroke-opacity=\"1\" stroke-width=\"3.2\"/>\n",
       "<circle clip-path=\"url(#clip432)\" cx=\"709.665\" cy=\"1038.79\" r=\"14.4\" fill=\"#ff0000\" fill-rule=\"evenodd\" fill-opacity=\"1\" stroke=\"#000000\" stroke-opacity=\"1\" stroke-width=\"3.2\"/>\n",
       "<circle clip-path=\"url(#clip432)\" cx=\"784.351\" cy=\"1096.53\" r=\"14.4\" fill=\"#ff0000\" fill-rule=\"evenodd\" fill-opacity=\"1\" stroke=\"#000000\" stroke-opacity=\"1\" stroke-width=\"3.2\"/>\n",
       "<circle clip-path=\"url(#clip432)\" cx=\"859.037\" cy=\"1140.62\" r=\"14.4\" fill=\"#ff0000\" fill-rule=\"evenodd\" fill-opacity=\"1\" stroke=\"#000000\" stroke-opacity=\"1\" stroke-width=\"3.2\"/>\n",
       "<circle clip-path=\"url(#clip432)\" cx=\"933.723\" cy=\"1182.01\" r=\"14.4\" fill=\"#ff0000\" fill-rule=\"evenodd\" fill-opacity=\"1\" stroke=\"#000000\" stroke-opacity=\"1\" stroke-width=\"3.2\"/>\n",
       "<circle clip-path=\"url(#clip432)\" cx=\"1008.41\" cy=\"1216.68\" r=\"14.4\" fill=\"#ff0000\" fill-rule=\"evenodd\" fill-opacity=\"1\" stroke=\"#000000\" stroke-opacity=\"1\" stroke-width=\"3.2\"/>\n",
       "<circle clip-path=\"url(#clip432)\" cx=\"1083.09\" cy=\"1241.56\" r=\"14.4\" fill=\"#ff0000\" fill-rule=\"evenodd\" fill-opacity=\"1\" stroke=\"#000000\" stroke-opacity=\"1\" stroke-width=\"3.2\"/>\n",
       "<circle clip-path=\"url(#clip432)\" cx=\"1157.78\" cy=\"1263.73\" r=\"14.4\" fill=\"#ff0000\" fill-rule=\"evenodd\" fill-opacity=\"1\" stroke=\"#000000\" stroke-opacity=\"1\" stroke-width=\"3.2\"/>\n",
       "<circle clip-path=\"url(#clip432)\" cx=\"1232.47\" cy=\"1287.34\" r=\"14.4\" fill=\"#ff0000\" fill-rule=\"evenodd\" fill-opacity=\"1\" stroke=\"#000000\" stroke-opacity=\"1\" stroke-width=\"3.2\"/>\n",
       "<circle clip-path=\"url(#clip432)\" cx=\"1307.15\" cy=\"1302.75\" r=\"14.4\" fill=\"#ff0000\" fill-rule=\"evenodd\" fill-opacity=\"1\" stroke=\"#000000\" stroke-opacity=\"1\" stroke-width=\"3.2\"/>\n",
       "<circle clip-path=\"url(#clip432)\" cx=\"1381.84\" cy=\"1318.6\" r=\"14.4\" fill=\"#ff0000\" fill-rule=\"evenodd\" fill-opacity=\"1\" stroke=\"#000000\" stroke-opacity=\"1\" stroke-width=\"3.2\"/>\n",
       "<circle clip-path=\"url(#clip432)\" cx=\"1456.52\" cy=\"1329.62\" r=\"14.4\" fill=\"#ff0000\" fill-rule=\"evenodd\" fill-opacity=\"1\" stroke=\"#000000\" stroke-opacity=\"1\" stroke-width=\"3.2\"/>\n",
       "<circle clip-path=\"url(#clip432)\" cx=\"1531.21\" cy=\"1340.5\" r=\"14.4\" fill=\"#ff0000\" fill-rule=\"evenodd\" fill-opacity=\"1\" stroke=\"#000000\" stroke-opacity=\"1\" stroke-width=\"3.2\"/>\n",
       "<circle clip-path=\"url(#clip432)\" cx=\"1605.9\" cy=\"1349.77\" r=\"14.4\" fill=\"#ff0000\" fill-rule=\"evenodd\" fill-opacity=\"1\" stroke=\"#000000\" stroke-opacity=\"1\" stroke-width=\"3.2\"/>\n",
       "<circle clip-path=\"url(#clip432)\" cx=\"1680.58\" cy=\"1354.95\" r=\"14.4\" fill=\"#ff0000\" fill-rule=\"evenodd\" fill-opacity=\"1\" stroke=\"#000000\" stroke-opacity=\"1\" stroke-width=\"3.2\"/>\n",
       "<circle clip-path=\"url(#clip432)\" cx=\"1755.27\" cy=\"1358.81\" r=\"14.4\" fill=\"#ff0000\" fill-rule=\"evenodd\" fill-opacity=\"1\" stroke=\"#000000\" stroke-opacity=\"1\" stroke-width=\"3.2\"/>\n",
       "<circle clip-path=\"url(#clip432)\" cx=\"1829.95\" cy=\"1367.59\" r=\"14.4\" fill=\"#ff0000\" fill-rule=\"evenodd\" fill-opacity=\"1\" stroke=\"#000000\" stroke-opacity=\"1\" stroke-width=\"3.2\"/>\n",
       "<circle clip-path=\"url(#clip432)\" cx=\"1904.64\" cy=\"1368.41\" r=\"14.4\" fill=\"#ff0000\" fill-rule=\"evenodd\" fill-opacity=\"1\" stroke=\"#000000\" stroke-opacity=\"1\" stroke-width=\"3.2\"/>\n",
       "<circle clip-path=\"url(#clip432)\" cx=\"1979.33\" cy=\"1372.39\" r=\"14.4\" fill=\"#ff0000\" fill-rule=\"evenodd\" fill-opacity=\"1\" stroke=\"#000000\" stroke-opacity=\"1\" stroke-width=\"3.2\"/>\n",
       "<circle clip-path=\"url(#clip432)\" cx=\"2054.01\" cy=\"1373.91\" r=\"14.4\" fill=\"#ff0000\" fill-rule=\"evenodd\" fill-opacity=\"1\" stroke=\"#000000\" stroke-opacity=\"1\" stroke-width=\"3.2\"/>\n",
       "<circle clip-path=\"url(#clip432)\" cx=\"2128.7\" cy=\"1378.41\" r=\"14.4\" fill=\"#ff0000\" fill-rule=\"evenodd\" fill-opacity=\"1\" stroke=\"#000000\" stroke-opacity=\"1\" stroke-width=\"3.2\"/>\n",
       "<circle clip-path=\"url(#clip432)\" cx=\"2203.38\" cy=\"1380.3\" r=\"14.4\" fill=\"#ff0000\" fill-rule=\"evenodd\" fill-opacity=\"1\" stroke=\"#000000\" stroke-opacity=\"1\" stroke-width=\"3.2\"/>\n",
       "<circle clip-path=\"url(#clip432)\" cx=\"2278.07\" cy=\"1381.38\" r=\"14.4\" fill=\"#ff0000\" fill-rule=\"evenodd\" fill-opacity=\"1\" stroke=\"#000000\" stroke-opacity=\"1\" stroke-width=\"3.2\"/>\n",
       "<circle clip-path=\"url(#clip432)\" cx=\"2352.76\" cy=\"1384.24\" r=\"14.4\" fill=\"#ff0000\" fill-rule=\"evenodd\" fill-opacity=\"1\" stroke=\"#000000\" stroke-opacity=\"1\" stroke-width=\"3.2\"/>\n",
       "<path clip-path=\"url(#clip430)\" d=\"\n",
       "M1779.42 248.629 L2278.07 248.629 L2278.07 93.1086 L1779.42 93.1086  Z\n",
       "  \" fill=\"#ffffff\" fill-rule=\"evenodd\" fill-opacity=\"1\"/>\n",
       "<polyline clip-path=\"url(#clip430)\" style=\"stroke:#000000; stroke-linecap:butt; stroke-linejoin:round; stroke-width:4; stroke-opacity:1; fill:none\" points=\"\n",
       "  1779.42,248.629 2278.07,248.629 2278.07,93.1086 1779.42,93.1086 1779.42,248.629 \n",
       "  \"/>\n",
       "<polyline clip-path=\"url(#clip430)\" style=\"stroke:#000000; stroke-linecap:butt; stroke-linejoin:round; stroke-width:4; stroke-opacity:0.75; fill:none\" points=\"\n",
       "  1804.31,144.949 1953.69,144.949 \n",
       "  \"/>\n",
       "<path clip-path=\"url(#clip430)\" d=\"M1978.58 127.669 L2007.82 127.669 L2007.82 131.604 L1995.55 131.604 L1995.55 162.229 L1990.85 162.229 L1990.85 131.604 L1978.58 131.604 L1978.58 127.669 Z\" fill=\"#000000\" fill-rule=\"evenodd\" fill-opacity=\"1\" /><path clip-path=\"url(#clip430)\" d=\"M2020.2 140.284 Q2019.48 139.868 2018.63 139.682 Q2017.79 139.474 2016.78 139.474 Q2013.16 139.474 2011.22 141.835 Q2009.3 144.173 2009.3 148.571 L2009.3 162.229 L2005.02 162.229 L2005.02 136.303 L2009.3 136.303 L2009.3 140.331 Q2010.64 137.969 2012.79 136.835 Q2014.95 135.678 2018.03 135.678 Q2018.47 135.678 2019 135.747 Q2019.53 135.794 2020.18 135.909 L2020.2 140.284 Z\" fill=\"#000000\" fill-rule=\"evenodd\" fill-opacity=\"1\" /><path clip-path=\"url(#clip430)\" d=\"M2024.23 151.997 L2024.23 136.303 L2028.49 136.303 L2028.49 151.835 Q2028.49 155.516 2029.92 157.368 Q2031.36 159.196 2034.23 159.196 Q2037.68 159.196 2039.67 156.997 Q2041.68 154.798 2041.68 151.002 L2041.68 136.303 L2045.94 136.303 L2045.94 162.229 L2041.68 162.229 L2041.68 158.247 Q2040.13 160.608 2038.07 161.766 Q2036.03 162.9 2033.33 162.9 Q2028.86 162.9 2026.54 160.122 Q2024.23 157.344 2024.23 151.997 M2034.95 135.678 L2034.95 135.678 Z\" fill=\"#000000\" fill-rule=\"evenodd\" fill-opacity=\"1\" /><path clip-path=\"url(#clip430)\" d=\"M2076.89 148.201 L2076.89 150.284 L2057.31 150.284 Q2057.59 154.682 2059.95 156.997 Q2062.33 159.289 2066.57 159.289 Q2069.02 159.289 2071.31 158.687 Q2073.63 158.085 2075.9 156.881 L2075.9 160.909 Q2073.6 161.881 2071.2 162.391 Q2068.79 162.9 2066.31 162.9 Q2060.11 162.9 2056.47 159.289 Q2052.86 155.678 2052.86 149.52 Q2052.86 143.155 2056.29 139.428 Q2059.74 135.678 2065.57 135.678 Q2070.8 135.678 2073.84 139.057 Q2076.89 142.414 2076.89 148.201 M2072.63 146.951 Q2072.59 143.456 2070.66 141.372 Q2068.77 139.289 2065.62 139.289 Q2062.05 139.289 2059.9 141.303 Q2057.77 143.317 2057.45 146.974 L2072.63 146.951 Z\" fill=\"#000000\" fill-rule=\"evenodd\" fill-opacity=\"1\" /><path clip-path=\"url(#clip430)\" d=\"M2103.81 131.511 L2103.81 158.386 L2109.46 158.386 Q2116.61 158.386 2119.92 155.145 Q2123.26 151.905 2123.26 144.914 Q2123.26 137.969 2119.92 134.752 Q2116.61 131.511 2109.46 131.511 L2103.81 131.511 M2099.14 127.669 L2108.74 127.669 Q2118.79 127.669 2123.49 131.858 Q2128.19 136.025 2128.19 144.914 Q2128.19 153.849 2123.47 158.039 Q2118.74 162.229 2108.74 162.229 L2099.14 162.229 L2099.14 127.669 Z\" fill=\"#000000\" fill-rule=\"evenodd\" fill-opacity=\"1\" /><path clip-path=\"url(#clip430)\" d=\"M2147.24 149.196 Q2142.08 149.196 2140.09 150.377 Q2138.09 151.557 2138.09 154.405 Q2138.09 156.673 2139.58 158.016 Q2141.08 159.335 2143.65 159.335 Q2147.19 159.335 2149.32 156.835 Q2151.47 154.312 2151.47 150.145 L2151.47 149.196 L2147.24 149.196 M2155.73 147.437 L2155.73 162.229 L2151.47 162.229 L2151.47 158.293 Q2150.02 160.655 2147.84 161.789 Q2145.66 162.9 2142.52 162.9 Q2138.53 162.9 2136.17 160.678 Q2133.84 158.432 2133.84 154.682 Q2133.84 150.307 2136.75 148.085 Q2139.69 145.863 2145.5 145.863 L2151.47 145.863 L2151.47 145.446 Q2151.47 142.507 2149.53 140.909 Q2147.61 139.289 2144.11 139.289 Q2141.89 139.289 2139.78 139.821 Q2137.68 140.354 2135.73 141.419 L2135.73 137.483 Q2138.07 136.581 2140.27 136.141 Q2142.47 135.678 2144.55 135.678 Q2150.18 135.678 2152.96 138.594 Q2155.73 141.511 2155.73 147.437 Z\" fill=\"#000000\" fill-rule=\"evenodd\" fill-opacity=\"1\" /><path clip-path=\"url(#clip430)\" d=\"M2168.72 128.942 L2168.72 136.303 L2177.49 136.303 L2177.49 139.613 L2168.72 139.613 L2168.72 153.687 Q2168.72 156.858 2169.58 157.761 Q2170.46 158.664 2173.12 158.664 L2177.49 158.664 L2177.49 162.229 L2173.12 162.229 Q2168.19 162.229 2166.31 160.4 Q2164.44 158.548 2164.44 153.687 L2164.44 139.613 L2161.31 139.613 L2161.31 136.303 L2164.44 136.303 L2164.44 128.942 L2168.72 128.942 Z\" fill=\"#000000\" fill-rule=\"evenodd\" fill-opacity=\"1\" /><path clip-path=\"url(#clip430)\" d=\"M2194.88 149.196 Q2189.71 149.196 2187.72 150.377 Q2185.73 151.557 2185.73 154.405 Q2185.73 156.673 2187.21 158.016 Q2188.72 159.335 2191.29 159.335 Q2194.83 159.335 2196.96 156.835 Q2199.11 154.312 2199.11 150.145 L2199.11 149.196 L2194.88 149.196 M2203.37 147.437 L2203.37 162.229 L2199.11 162.229 L2199.11 158.293 Q2197.65 160.655 2195.48 161.789 Q2193.3 162.9 2190.15 162.9 Q2186.17 162.9 2183.81 160.678 Q2181.47 158.432 2181.47 154.682 Q2181.47 150.307 2184.39 148.085 Q2187.33 145.863 2193.14 145.863 L2199.11 145.863 L2199.11 145.446 Q2199.11 142.507 2197.17 140.909 Q2195.25 139.289 2191.75 139.289 Q2189.53 139.289 2187.42 139.821 Q2185.32 140.354 2183.37 141.419 L2183.37 137.483 Q2185.71 136.581 2187.91 136.141 Q2190.11 135.678 2192.19 135.678 Q2197.82 135.678 2200.59 138.594 Q2203.37 141.511 2203.37 147.437 Z\" fill=\"#000000\" fill-rule=\"evenodd\" fill-opacity=\"1\" /><circle clip-path=\"url(#clip430)\" cx=\"1879\" cy=\"196.789\" r=\"23.04\" fill=\"#ff0000\" fill-rule=\"evenodd\" fill-opacity=\"1\" stroke=\"#000000\" stroke-opacity=\"1\" stroke-width=\"5.12\"/>\n",
       "<path clip-path=\"url(#clip430)\" d=\"M1978.58 179.509 L1984.88 179.509 L2000.2 208.421 L2000.2 179.509 L2004.74 179.509 L2004.74 214.069 L1998.44 214.069 L1983.12 185.157 L1983.12 214.069 L1978.58 214.069 L1978.58 179.509 Z\" fill=\"#000000\" fill-rule=\"evenodd\" fill-opacity=\"1\" /><path clip-path=\"url(#clip430)\" d=\"M2023.91 191.129 Q2020.48 191.129 2018.49 193.814 Q2016.5 196.476 2016.5 201.129 Q2016.5 205.782 2018.47 208.467 Q2020.46 211.129 2023.91 211.129 Q2027.31 211.129 2029.3 208.444 Q2031.29 205.758 2031.29 201.129 Q2031.29 196.522 2029.3 193.837 Q2027.31 191.129 2023.91 191.129 M2023.91 187.518 Q2029.46 187.518 2032.63 191.129 Q2035.8 194.74 2035.8 201.129 Q2035.8 207.495 2032.63 211.129 Q2029.46 214.74 2023.91 214.74 Q2018.33 214.74 2015.16 211.129 Q2012.01 207.495 2012.01 201.129 Q2012.01 194.74 2015.16 191.129 Q2018.33 187.518 2023.91 187.518 Z\" fill=\"#000000\" fill-rule=\"evenodd\" fill-opacity=\"1\" /><path clip-path=\"url(#clip430)\" d=\"M2042.86 188.143 L2047.12 188.143 L2047.12 214.069 L2042.86 214.069 L2042.86 188.143 M2042.86 178.05 L2047.12 178.05 L2047.12 183.444 L2042.86 183.444 L2042.86 178.05 Z\" fill=\"#000000\" fill-rule=\"evenodd\" fill-opacity=\"1\" /><path clip-path=\"url(#clip430)\" d=\"M2072.56 188.907 L2072.56 192.934 Q2070.76 192.009 2068.81 191.546 Q2066.87 191.083 2064.78 191.083 Q2061.61 191.083 2060.02 192.055 Q2058.44 193.027 2058.44 194.971 Q2058.44 196.453 2059.58 197.309 Q2060.71 198.143 2064.14 198.907 L2065.59 199.231 Q2070.13 200.203 2072.03 201.985 Q2073.95 203.745 2073.95 206.916 Q2073.95 210.527 2071.08 212.633 Q2068.23 214.74 2063.23 214.74 Q2061.15 214.74 2058.88 214.323 Q2056.64 213.93 2054.14 213.12 L2054.14 208.721 Q2056.5 209.948 2058.79 210.573 Q2061.08 211.175 2063.33 211.175 Q2066.34 211.175 2067.96 210.157 Q2069.58 209.115 2069.58 207.24 Q2069.58 205.504 2068.4 204.578 Q2067.24 203.652 2063.28 202.796 L2061.8 202.448 Q2057.84 201.615 2056.08 199.902 Q2054.32 198.166 2054.32 195.157 Q2054.32 191.499 2056.91 189.509 Q2059.51 187.518 2064.28 187.518 Q2066.64 187.518 2068.72 187.865 Q2070.8 188.212 2072.56 188.907 Z\" fill=\"#000000\" fill-rule=\"evenodd\" fill-opacity=\"1\" /><path clip-path=\"url(#clip430)\" d=\"M2091.52 216.476 Q2089.72 221.106 2088 222.518 Q2086.29 223.93 2083.42 223.93 L2080.02 223.93 L2080.02 220.365 L2082.52 220.365 Q2084.28 220.365 2085.25 219.532 Q2086.22 218.698 2087.4 215.596 L2088.16 213.652 L2077.68 188.143 L2082.19 188.143 L2090.29 208.421 L2098.4 188.143 L2102.91 188.143 L2091.52 216.476 Z\" fill=\"#000000\" fill-rule=\"evenodd\" fill-opacity=\"1\" /><path clip-path=\"url(#clip430)\" d=\"M2128.72 183.351 L2128.72 210.226 L2134.37 210.226 Q2141.52 210.226 2144.83 206.985 Q2148.16 203.745 2148.16 196.754 Q2148.16 189.809 2144.83 186.592 Q2141.52 183.351 2134.37 183.351 L2128.72 183.351 M2124.04 179.509 L2133.65 179.509 Q2143.7 179.509 2148.4 183.698 Q2153.09 187.865 2153.09 196.754 Q2153.09 205.689 2148.37 209.879 Q2143.65 214.069 2133.65 214.069 L2124.04 214.069 L2124.04 179.509 Z\" fill=\"#000000\" fill-rule=\"evenodd\" fill-opacity=\"1\" /><path clip-path=\"url(#clip430)\" d=\"M2172.15 201.036 Q2166.98 201.036 2164.99 202.217 Q2163 203.397 2163 206.245 Q2163 208.513 2164.48 209.856 Q2165.99 211.175 2168.56 211.175 Q2172.1 211.175 2174.23 208.675 Q2176.38 206.152 2176.38 201.985 L2176.38 201.036 L2172.15 201.036 M2180.64 199.277 L2180.64 214.069 L2176.38 214.069 L2176.38 210.133 Q2174.92 212.495 2172.75 213.629 Q2170.57 214.74 2167.42 214.74 Q2163.44 214.74 2161.08 212.518 Q2158.74 210.272 2158.74 206.522 Q2158.74 202.147 2161.66 199.925 Q2164.6 197.703 2170.41 197.703 L2176.38 197.703 L2176.38 197.286 Q2176.38 194.347 2174.44 192.749 Q2172.52 191.129 2169.02 191.129 Q2166.8 191.129 2164.69 191.661 Q2162.59 192.194 2160.64 193.259 L2160.64 189.323 Q2162.98 188.421 2165.18 187.981 Q2167.38 187.518 2169.46 187.518 Q2175.09 187.518 2177.86 190.434 Q2180.64 193.351 2180.64 199.277 Z\" fill=\"#000000\" fill-rule=\"evenodd\" fill-opacity=\"1\" /><path clip-path=\"url(#clip430)\" d=\"M2193.63 180.782 L2193.63 188.143 L2202.4 188.143 L2202.4 191.453 L2193.63 191.453 L2193.63 205.527 Q2193.63 208.698 2194.48 209.601 Q2195.36 210.504 2198.02 210.504 L2202.4 210.504 L2202.4 214.069 L2198.02 214.069 Q2193.09 214.069 2191.22 212.24 Q2189.34 210.388 2189.34 205.527 L2189.34 191.453 L2186.22 191.453 L2186.22 188.143 L2189.34 188.143 L2189.34 180.782 L2193.63 180.782 Z\" fill=\"#000000\" fill-rule=\"evenodd\" fill-opacity=\"1\" /><path clip-path=\"url(#clip430)\" d=\"M2219.78 201.036 Q2214.62 201.036 2212.63 202.217 Q2210.64 203.397 2210.64 206.245 Q2210.64 208.513 2212.12 209.856 Q2213.63 211.175 2216.2 211.175 Q2219.74 211.175 2221.87 208.675 Q2224.02 206.152 2224.02 201.985 L2224.02 201.036 L2219.78 201.036 M2228.28 199.277 L2228.28 214.069 L2224.02 214.069 L2224.02 210.133 Q2222.56 212.495 2220.39 213.629 Q2218.21 214.74 2215.06 214.74 Q2211.08 214.74 2208.72 212.518 Q2206.38 210.272 2206.38 206.522 Q2206.38 202.147 2209.3 199.925 Q2212.24 197.703 2218.05 197.703 L2224.02 197.703 L2224.02 197.286 Q2224.02 194.347 2222.08 192.749 Q2220.15 191.129 2216.66 191.129 Q2214.44 191.129 2212.33 191.661 Q2210.22 192.194 2208.28 193.259 L2208.28 189.323 Q2210.62 188.421 2212.82 187.981 Q2215.02 187.518 2217.1 187.518 Q2222.72 187.518 2225.5 190.434 Q2228.28 193.351 2228.28 199.277 Z\" fill=\"#000000\" fill-rule=\"evenodd\" fill-opacity=\"1\" /></svg>\n"
      ]
     },
     "execution_count": 9,
     "metadata": {},
     "output_type": "execute_result"
    }
   ],
   "source": [
    "plot(solution, alpha = 0.75, color = :black, label = [\"True Data\" nothing])\n",
    "scatter!(t, transpose(Xₙ), color = :red, label = [\"Noisy Data\" nothing])"
   ]
  },
  {
   "cell_type": "markdown",
   "metadata": {},
   "source": [
    "## Build surrogate model\n",
    "\n",
    "Suppose we only know part of the Lotka-Voltera model, and use CNN to surrogate the unknown part\n",
    "\n",
    "\\begin{align}\n",
    "    \\dot{x} &= \\theta_1 x + U_1(\\theta_3, x, y)\\\\ \n",
    "    \\dot{y} &= -\\theta_2 y + U_2(\\theta_3..., x, y)\n",
    "\\end{align}"
   ]
  },
  {
   "cell_type": "code",
   "execution_count": 10,
   "metadata": {},
   "outputs": [
    {
     "data": {
      "text/plain": [
       "ude_dynamics! (generic function with 1 method)"
      ]
     },
     "execution_count": 10,
     "metadata": {},
     "output_type": "execute_result"
    }
   ],
   "source": [
    "## Define the network\n",
    "# Gaussian RBF as activation\n",
    "rbf(x) = exp.(-(x.^2))\n",
    "\n",
    "# Multilayer FeedForward\n",
    "U = Lux.Chain(\n",
    "    Lux.Dense(2,5,rbf), Lux.Dense(5,5, rbf), Lux.Dense(5,5, rbf), Lux.Dense(5,2)\n",
    ")\n",
    "# Get the initial parameters and state variables of the model\n",
    "p, st = Lux.setup(rng, U)\n",
    "\n",
    "# Define the hybrid model\n",
    "function ude_dynamics!(du,u, p, t, p_true)\n",
    "    û = U(u, p, st)[1] # Network prediction\n",
    "    du[1] = p_true[1]*u[1] + û[1]\n",
    "    du[2] = -p_true[4]*u[2] + û[2]\n",
    "end"
   ]
  },
  {
   "cell_type": "code",
   "execution_count": 11,
   "metadata": {},
   "outputs": [
    {
     "ename": "LoadError",
     "evalue": "UndefVarError: FullSpecialize not defined",
     "output_type": "error",
     "traceback": [
      "UndefVarError: FullSpecialize not defined",
      "",
      "Stacktrace:",
      " [1] getproperty(x::Module, f::Symbol)",
      "   @ Base ./Base.jl:31",
      " [2] top-level scope",
      "   @ In[11]:4",
      " [3] eval",
      "   @ ./boot.jl:368 [inlined]",
      " [4] include_string(mapexpr::typeof(REPL.softscope), mod::Module, code::String, filename::String)",
      "   @ Base ./loading.jl:1428"
     ]
    }
   ],
   "source": [
    "# Closure with the known parameter\n",
    "nn_dynamics!(du,u,p,t) = ude_dynamics!(du,u,p,t,p_)\n",
    "# Define the problem (Fix: https://discourse.julialang.org/t/issue-with-ude-repository-lv-scenario-1/88618/5)\n",
    "prob_nn = ODEProblem{true, SciMLBase.FullSpecialize}(nn_dynamics!,Xₙ[:, 1], tspan, p)"
   ]
  },
  {
   "cell_type": "markdown",
   "metadata": {},
   "source": [
    "## Training Setting"
   ]
  },
  {
   "cell_type": "code",
   "execution_count": 12,
   "metadata": {},
   "outputs": [
    {
     "data": {
      "text/plain": [
       "#1 (generic function with 1 method)"
      ]
     },
     "execution_count": 12,
     "metadata": {},
     "output_type": "execute_result"
    }
   ],
   "source": [
    "## Function to train the network\n",
    "# Define a predictor\n",
    "function predict(θ, X = Xₙ[:,1], T = t)\n",
    "    _prob = remake(prob_nn, u0 = X, tspan = (T[1], T[end]), p = θ)\n",
    "    Array(solve(_prob, Vern7(), saveat = T,\n",
    "                abstol=1e-6, reltol=1e-6,\n",
    "                sensealg = ForwardDiffSensitivity()\n",
    "                ))\n",
    "end\n",
    "\n",
    "# Simple L2 loss\n",
    "function loss(θ)\n",
    "    X̂ = predict(θ)\n",
    "    sum(abs2, Xₙ .- X̂)\n",
    "end\n",
    "\n",
    "# Container to track the losses\n",
    "losses = Float64[]\n",
    "\n",
    "callback = function (p, l)\n",
    "  push!(losses, l)\n",
    "  if length(losses)%50==0\n",
    "      println(\"Current loss after $(length(losses)) iterations: $(losses[end])\")\n",
    "  end\n",
    "  return false\n",
    "end"
   ]
  },
  {
   "cell_type": "markdown",
   "metadata": {},
   "source": [
    "## Training\n",
    "\n",
    "The training is [splitted to two steps](https://github.com/ChrisRackauckas/universal_differential_equations/blob/7d2b21a082c517f6f2d94274376d4f1553fdebc3/LotkaVolterra/scenario_1.jl#L109-L119):\n",
    "1. ADAM: for better convergence\n",
    "2. BFGS: get better position"
   ]
  },
  {
   "cell_type": "code",
   "execution_count": 13,
   "metadata": {},
   "outputs": [
    {
     "ename": "LoadError",
     "evalue": "UndefVarError: prob_nn not defined",
     "output_type": "error",
     "traceback": [
      "UndefVarError: prob_nn not defined",
      "",
      "Stacktrace:",
      "  [1] _pullback",
      "    @ ~/.julia/packages/Zygote/IoW2g/src/compiler/interface2.jl:9 [inlined]",
      "  [2] _pullback",
      "    @ ./In[12]:4 [inlined]",
      "  [3] _pullback(::Zygote.Context, ::typeof(predict), ::ComponentVector{Float64, Vector{Float64}, Tuple{Axis{(layer_1 = ViewAxis(1:15, Axis(weight = ViewAxis(1:10, ShapedAxis((5, 2), NamedTuple())), bias = ViewAxis(11:15, ShapedAxis((5, 1), NamedTuple())))), layer_2 = ViewAxis(16:45, Axis(weight = ViewAxis(1:25, ShapedAxis((5, 5), NamedTuple())), bias = ViewAxis(26:30, ShapedAxis((5, 1), NamedTuple())))), layer_3 = ViewAxis(46:75, Axis(weight = ViewAxis(1:25, ShapedAxis((5, 5), NamedTuple())), bias = ViewAxis(26:30, ShapedAxis((5, 1), NamedTuple())))), layer_4 = ViewAxis(76:87, Axis(weight = ViewAxis(1:10, ShapedAxis((2, 5), NamedTuple())), bias = ViewAxis(11:12, ShapedAxis((2, 1), NamedTuple())))))}}}, ::Vector{Float64}, ::Vector{Float64})",
      "    @ Zygote ~/.julia/packages/Zygote/IoW2g/src/compiler/interface2.jl:0",
      "  [4] _pullback",
      "    @ ./In[12]:4 [inlined]",
      "  [5] _pullback(ctx::Zygote.Context, f::typeof(predict), args::ComponentVector{Float64, Vector{Float64}, Tuple{Axis{(layer_1 = ViewAxis(1:15, Axis(weight = ViewAxis(1:10, ShapedAxis((5, 2), NamedTuple())), bias = ViewAxis(11:15, ShapedAxis((5, 1), NamedTuple())))), layer_2 = ViewAxis(16:45, Axis(weight = ViewAxis(1:25, ShapedAxis((5, 5), NamedTuple())), bias = ViewAxis(26:30, ShapedAxis((5, 1), NamedTuple())))), layer_3 = ViewAxis(46:75, Axis(weight = ViewAxis(1:25, ShapedAxis((5, 5), NamedTuple())), bias = ViewAxis(26:30, ShapedAxis((5, 1), NamedTuple())))), layer_4 = ViewAxis(76:87, Axis(weight = ViewAxis(1:10, ShapedAxis((2, 5), NamedTuple())), bias = ViewAxis(11:12, ShapedAxis((2, 1), NamedTuple())))))}}})",
      "    @ Zygote ~/.julia/packages/Zygote/IoW2g/src/compiler/interface2.jl:0",
      "  [6] _pullback",
      "    @ ./In[12]:13 [inlined]",
      "  [7] _pullback(ctx::Zygote.Context, f::typeof(loss), args::ComponentVector{Float64, Vector{Float64}, Tuple{Axis{(layer_1 = ViewAxis(1:15, Axis(weight = ViewAxis(1:10, ShapedAxis((5, 2), NamedTuple())), bias = ViewAxis(11:15, ShapedAxis((5, 1), NamedTuple())))), layer_2 = ViewAxis(16:45, Axis(weight = ViewAxis(1:25, ShapedAxis((5, 5), NamedTuple())), bias = ViewAxis(26:30, ShapedAxis((5, 1), NamedTuple())))), layer_3 = ViewAxis(46:75, Axis(weight = ViewAxis(1:25, ShapedAxis((5, 5), NamedTuple())), bias = ViewAxis(26:30, ShapedAxis((5, 1), NamedTuple())))), layer_4 = ViewAxis(76:87, Axis(weight = ViewAxis(1:10, ShapedAxis((2, 5), NamedTuple())), bias = ViewAxis(11:12, ShapedAxis((2, 1), NamedTuple())))))}}})",
      "    @ Zygote ~/.julia/packages/Zygote/IoW2g/src/compiler/interface2.jl:0",
      "  [8] _pullback",
      "    @ ./In[13]:2 [inlined]",
      "  [9] _pullback(::Zygote.Context, ::var\"#3#4\", ::ComponentVector{Float64, Vector{Float64}, Tuple{Axis{(layer_1 = ViewAxis(1:15, Axis(weight = ViewAxis(1:10, ShapedAxis((5, 2), NamedTuple())), bias = ViewAxis(11:15, ShapedAxis((5, 1), NamedTuple())))), layer_2 = ViewAxis(16:45, Axis(weight = ViewAxis(1:25, ShapedAxis((5, 5), NamedTuple())), bias = ViewAxis(26:30, ShapedAxis((5, 1), NamedTuple())))), layer_3 = ViewAxis(46:75, Axis(weight = ViewAxis(1:25, ShapedAxis((5, 5), NamedTuple())), bias = ViewAxis(26:30, ShapedAxis((5, 1), NamedTuple())))), layer_4 = ViewAxis(76:87, Axis(weight = ViewAxis(1:10, ShapedAxis((2, 5), NamedTuple())), bias = ViewAxis(11:12, ShapedAxis((2, 1), NamedTuple())))))}}}, ::SciMLBase.NullParameters)",
      "    @ Zygote ~/.julia/packages/Zygote/IoW2g/src/compiler/interface2.jl:0",
      " [10] _apply",
      "    @ ./boot.jl:816 [inlined]",
      " [11] adjoint",
      "    @ ~/.julia/packages/Zygote/IoW2g/src/lib/lib.jl:204 [inlined]",
      " [12] _pullback",
      "    @ ~/.julia/packages/ZygoteRules/AIbCs/src/adjoint.jl:65 [inlined]",
      " [13] _pullback",
      "    @ ~/.julia/packages/SciMLBase/QzHjf/src/scimlfunctions.jl:2885 [inlined]",
      " [14] _pullback(::Zygote.Context, ::OptimizationFunction{true, Optimization.AutoZygote, var\"#3#4\", Nothing, Nothing, Nothing, Nothing, Nothing, Nothing, Nothing, Nothing, Nothing, Nothing, Nothing, Nothing, Nothing, Nothing, Nothing}, ::ComponentVector{Float64, Vector{Float64}, Tuple{Axis{(layer_1 = ViewAxis(1:15, Axis(weight = ViewAxis(1:10, ShapedAxis((5, 2), NamedTuple())), bias = ViewAxis(11:15, ShapedAxis((5, 1), NamedTuple())))), layer_2 = ViewAxis(16:45, Axis(weight = ViewAxis(1:25, ShapedAxis((5, 5), NamedTuple())), bias = ViewAxis(26:30, ShapedAxis((5, 1), NamedTuple())))), layer_3 = ViewAxis(46:75, Axis(weight = ViewAxis(1:25, ShapedAxis((5, 5), NamedTuple())), bias = ViewAxis(26:30, ShapedAxis((5, 1), NamedTuple())))), layer_4 = ViewAxis(76:87, Axis(weight = ViewAxis(1:10, ShapedAxis((2, 5), NamedTuple())), bias = ViewAxis(11:12, ShapedAxis((2, 1), NamedTuple())))))}}}, ::SciMLBase.NullParameters)",
      "    @ Zygote ~/.julia/packages/Zygote/IoW2g/src/compiler/interface2.jl:0",
      " [15] _apply(::Function, ::Vararg{Any})",
      "    @ Core ./boot.jl:816",
      " [16] adjoint",
      "    @ ~/.julia/packages/Zygote/IoW2g/src/lib/lib.jl:204 [inlined]",
      " [17] _pullback",
      "    @ ~/.julia/packages/ZygoteRules/AIbCs/src/adjoint.jl:65 [inlined]",
      " [18] _pullback",
      "    @ ~/.julia/packages/Optimization/k85Rf/src/function/zygote.jl:30 [inlined]",
      " [19] _pullback(ctx::Zygote.Context, f::Optimization.var\"#139#149\"{OptimizationFunction{true, Optimization.AutoZygote, var\"#3#4\", Nothing, Nothing, Nothing, Nothing, Nothing, Nothing, Nothing, Nothing, Nothing, Nothing, Nothing, Nothing, Nothing, Nothing, Nothing}, SciMLBase.NullParameters}, args::ComponentVector{Float64, Vector{Float64}, Tuple{Axis{(layer_1 = ViewAxis(1:15, Axis(weight = ViewAxis(1:10, ShapedAxis((5, 2), NamedTuple())), bias = ViewAxis(11:15, ShapedAxis((5, 1), NamedTuple())))), layer_2 = ViewAxis(16:45, Axis(weight = ViewAxis(1:25, ShapedAxis((5, 5), NamedTuple())), bias = ViewAxis(26:30, ShapedAxis((5, 1), NamedTuple())))), layer_3 = ViewAxis(46:75, Axis(weight = ViewAxis(1:25, ShapedAxis((5, 5), NamedTuple())), bias = ViewAxis(26:30, ShapedAxis((5, 1), NamedTuple())))), layer_4 = ViewAxis(76:87, Axis(weight = ViewAxis(1:10, ShapedAxis((2, 5), NamedTuple())), bias = ViewAxis(11:12, ShapedAxis((2, 1), NamedTuple())))))}}})",
      "    @ Zygote ~/.julia/packages/Zygote/IoW2g/src/compiler/interface2.jl:0",
      " [20] _apply(::Function, ::Vararg{Any})",
      "    @ Core ./boot.jl:816",
      " [21] adjoint",
      "    @ ~/.julia/packages/Zygote/IoW2g/src/lib/lib.jl:204 [inlined]",
      " [22] _pullback",
      "    @ ~/.julia/packages/ZygoteRules/AIbCs/src/adjoint.jl:65 [inlined]",
      " [23] _pullback",
      "    @ ~/.julia/packages/Optimization/k85Rf/src/function/zygote.jl:32 [inlined]",
      " [24] _pullback(ctx::Zygote.Context, f::Optimization.var\"#142#152\"{Tuple{}, Optimization.var\"#139#149\"{OptimizationFunction{true, Optimization.AutoZygote, var\"#3#4\", Nothing, Nothing, Nothing, Nothing, Nothing, Nothing, Nothing, Nothing, Nothing, Nothing, Nothing, Nothing, Nothing, Nothing, Nothing}, SciMLBase.NullParameters}}, args::ComponentVector{Float64, Vector{Float64}, Tuple{Axis{(layer_1 = ViewAxis(1:15, Axis(weight = ViewAxis(1:10, ShapedAxis((5, 2), NamedTuple())), bias = ViewAxis(11:15, ShapedAxis((5, 1), NamedTuple())))), layer_2 = ViewAxis(16:45, Axis(weight = ViewAxis(1:25, ShapedAxis((5, 5), NamedTuple())), bias = ViewAxis(26:30, ShapedAxis((5, 1), NamedTuple())))), layer_3 = ViewAxis(46:75, Axis(weight = ViewAxis(1:25, ShapedAxis((5, 5), NamedTuple())), bias = ViewAxis(26:30, ShapedAxis((5, 1), NamedTuple())))), layer_4 = ViewAxis(76:87, Axis(weight = ViewAxis(1:10, ShapedAxis((2, 5), NamedTuple())), bias = ViewAxis(11:12, ShapedAxis((2, 1), NamedTuple())))))}}})",
      "    @ Zygote ~/.julia/packages/Zygote/IoW2g/src/compiler/interface2.jl:0",
      " [25] _pullback(f::Function, args::ComponentVector{Float64, Vector{Float64}, Tuple{Axis{(layer_1 = ViewAxis(1:15, Axis(weight = ViewAxis(1:10, ShapedAxis((5, 2), NamedTuple())), bias = ViewAxis(11:15, ShapedAxis((5, 1), NamedTuple())))), layer_2 = ViewAxis(16:45, Axis(weight = ViewAxis(1:25, ShapedAxis((5, 5), NamedTuple())), bias = ViewAxis(26:30, ShapedAxis((5, 1), NamedTuple())))), layer_3 = ViewAxis(46:75, Axis(weight = ViewAxis(1:25, ShapedAxis((5, 5), NamedTuple())), bias = ViewAxis(26:30, ShapedAxis((5, 1), NamedTuple())))), layer_4 = ViewAxis(76:87, Axis(weight = ViewAxis(1:10, ShapedAxis((2, 5), NamedTuple())), bias = ViewAxis(11:12, ShapedAxis((2, 1), NamedTuple())))))}}})",
      "    @ Zygote ~/.julia/packages/Zygote/IoW2g/src/compiler/interface.jl:34",
      " [26] pullback(f::Function, args::ComponentVector{Float64, Vector{Float64}, Tuple{Axis{(layer_1 = ViewAxis(1:15, Axis(weight = ViewAxis(1:10, ShapedAxis((5, 2), NamedTuple())), bias = ViewAxis(11:15, ShapedAxis((5, 1), NamedTuple())))), layer_2 = ViewAxis(16:45, Axis(weight = ViewAxis(1:25, ShapedAxis((5, 5), NamedTuple())), bias = ViewAxis(26:30, ShapedAxis((5, 1), NamedTuple())))), layer_3 = ViewAxis(46:75, Axis(weight = ViewAxis(1:25, ShapedAxis((5, 5), NamedTuple())), bias = ViewAxis(26:30, ShapedAxis((5, 1), NamedTuple())))), layer_4 = ViewAxis(76:87, Axis(weight = ViewAxis(1:10, ShapedAxis((2, 5), NamedTuple())), bias = ViewAxis(11:12, ShapedAxis((2, 1), NamedTuple())))))}}})",
      "    @ Zygote ~/.julia/packages/Zygote/IoW2g/src/compiler/interface.jl:40",
      " [27] gradient(f::Function, args::ComponentVector{Float64, Vector{Float64}, Tuple{Axis{(layer_1 = ViewAxis(1:15, Axis(weight = ViewAxis(1:10, ShapedAxis((5, 2), NamedTuple())), bias = ViewAxis(11:15, ShapedAxis((5, 1), NamedTuple())))), layer_2 = ViewAxis(16:45, Axis(weight = ViewAxis(1:25, ShapedAxis((5, 5), NamedTuple())), bias = ViewAxis(26:30, ShapedAxis((5, 1), NamedTuple())))), layer_3 = ViewAxis(46:75, Axis(weight = ViewAxis(1:25, ShapedAxis((5, 5), NamedTuple())), bias = ViewAxis(26:30, ShapedAxis((5, 1), NamedTuple())))), layer_4 = ViewAxis(76:87, Axis(weight = ViewAxis(1:10, ShapedAxis((2, 5), NamedTuple())), bias = ViewAxis(11:12, ShapedAxis((2, 1), NamedTuple())))))}}})",
      "    @ Zygote ~/.julia/packages/Zygote/IoW2g/src/compiler/interface.jl:75",
      " [28] (::Optimization.var\"#140#150\"{Optimization.var\"#139#149\"{OptimizationFunction{true, Optimization.AutoZygote, var\"#3#4\", Nothing, Nothing, Nothing, Nothing, Nothing, Nothing, Nothing, Nothing, Nothing, Nothing, Nothing, Nothing, Nothing, Nothing, Nothing}, SciMLBase.NullParameters}})(::ComponentVector{Float64, Vector{Float64}, Tuple{Axis{(layer_1 = ViewAxis(1:15, Axis(weight = ViewAxis(1:10, ShapedAxis((5, 2), NamedTuple())), bias = ViewAxis(11:15, ShapedAxis((5, 1), NamedTuple())))), layer_2 = ViewAxis(16:45, Axis(weight = ViewAxis(1:25, ShapedAxis((5, 5), NamedTuple())), bias = ViewAxis(26:30, ShapedAxis((5, 1), NamedTuple())))), layer_3 = ViewAxis(46:75, Axis(weight = ViewAxis(1:25, ShapedAxis((5, 5), NamedTuple())), bias = ViewAxis(26:30, ShapedAxis((5, 1), NamedTuple())))), layer_4 = ViewAxis(76:87, Axis(weight = ViewAxis(1:10, ShapedAxis((2, 5), NamedTuple())), bias = ViewAxis(11:12, ShapedAxis((2, 1), NamedTuple())))))}}}, ::ComponentVector{Float64, Vector{Float64}, Tuple{Axis{(layer_1 = ViewAxis(1:15, Axis(weight = ViewAxis(1:10, ShapedAxis((5, 2), NamedTuple())), bias = ViewAxis(11:15, ShapedAxis((5, 1), NamedTuple())))), layer_2 = ViewAxis(16:45, Axis(weight = ViewAxis(1:25, ShapedAxis((5, 5), NamedTuple())), bias = ViewAxis(26:30, ShapedAxis((5, 1), NamedTuple())))), layer_3 = ViewAxis(46:75, Axis(weight = ViewAxis(1:25, ShapedAxis((5, 5), NamedTuple())), bias = ViewAxis(26:30, ShapedAxis((5, 1), NamedTuple())))), layer_4 = ViewAxis(76:87, Axis(weight = ViewAxis(1:10, ShapedAxis((2, 5), NamedTuple())), bias = ViewAxis(11:12, ShapedAxis((2, 1), NamedTuple())))))}}})",
      "    @ Optimization ~/.julia/packages/Optimization/k85Rf/src/function/zygote.jl:32",
      " [29] macro expansion",
      "    @ ~/.julia/packages/OptimizationOptimisers/XLPqT/src/OptimizationOptimisers.jl:35 [inlined]",
      " [30] macro expansion",
      "    @ ~/.julia/packages/Optimization/k85Rf/src/utils.jl:35 [inlined]",
      " [31] __solve(prob::OptimizationProblem{true, OptimizationFunction{true, Optimization.AutoZygote, var\"#3#4\", Nothing, Nothing, Nothing, Nothing, Nothing, Nothing, Nothing, Nothing, Nothing, Nothing, Nothing, Nothing, Nothing, Nothing, Nothing}, ComponentVector{Float64, Vector{Float64}, Tuple{Axis{(layer_1 = ViewAxis(1:15, Axis(weight = ViewAxis(1:10, ShapedAxis((5, 2), NamedTuple())), bias = ViewAxis(11:15, ShapedAxis((5, 1), NamedTuple())))), layer_2 = ViewAxis(16:45, Axis(weight = ViewAxis(1:25, ShapedAxis((5, 5), NamedTuple())), bias = ViewAxis(26:30, ShapedAxis((5, 1), NamedTuple())))), layer_3 = ViewAxis(46:75, Axis(weight = ViewAxis(1:25, ShapedAxis((5, 5), NamedTuple())), bias = ViewAxis(26:30, ShapedAxis((5, 1), NamedTuple())))), layer_4 = ViewAxis(76:87, Axis(weight = ViewAxis(1:10, ShapedAxis((2, 5), NamedTuple())), bias = ViewAxis(11:12, ShapedAxis((2, 1), NamedTuple())))))}}}, SciMLBase.NullParameters, Nothing, Nothing, Nothing, Nothing, Base.Pairs{Symbol, Union{}, Tuple{}, NamedTuple{(), Tuple{}}}}, opt::Adam{Float64}, data::Base.Iterators.Cycle{Tuple{Optimization.NullData}}; maxiters::Int64, callback::Function, progress::Bool, save_best::Bool, kwargs::Base.Pairs{Symbol, Union{}, Tuple{}, NamedTuple{(), Tuple{}}})",
      "    @ OptimizationOptimisers ~/.julia/packages/OptimizationOptimisers/XLPqT/src/OptimizationOptimisers.jl:33",
      " [32] #solve#516",
      "    @ ~/.julia/packages/SciMLBase/QzHjf/src/solve.jl:71 [inlined]",
      " [33] top-level scope",
      "    @ In[13]:4",
      " [34] eval",
      "    @ ./boot.jl:368 [inlined]",
      " [35] include_string(mapexpr::typeof(REPL.softscope), mod::Module, code::String, filename::String)",
      "    @ Base ./loading.jl:1428"
     ]
    }
   ],
   "source": [
    "adtype = Optimization.AutoZygote()\n",
    "optf = Optimization.OptimizationFunction((x,p)->loss(x), adtype)\n",
    "optprob = Optimization.OptimizationProblem(optf, ComponentVector{Float64}(p))\n",
    "res1 = Optimization.solve(optprob, ADAM(0.1), callback=callback, maxiters = 200)\n",
    "\n",
    "@info \"Training loss after $(length(losses)) iterations: $(losses[end])\"\n",
    "# Train with BFGS\n",
    "@time optprob2 = Optimization.OptimizationProblem(optf, res1.minimizer)\n",
    "@time res2 = Optimization.solve(optprob2, Optim.BFGS(initial_stepnorm=0.01), callback=callback, maxiters = 3000)\n",
    "@info \"Final training loss after $(length(losses)) iterations: $(losses[end])\""
   ]
  },
  {
   "cell_type": "markdown",
   "metadata": {},
   "source": [
    "## Visualize loss"
   ]
  },
  {
   "cell_type": "code",
   "execution_count": 14,
   "metadata": {},
   "outputs": [
    {
     "ename": "LoadError",
     "evalue": "BoundsError: attempt to access 0-element Vector{Float64} at index [1:200]",
     "output_type": "error",
     "traceback": [
      "BoundsError: attempt to access 0-element Vector{Float64} at index [1:200]",
      "",
      "Stacktrace:",
      " [1] throw_boundserror(A::Vector{Float64}, I::Tuple{UnitRange{Int64}})",
      "   @ Base ./abstractarray.jl:703",
      " [2] checkbounds",
      "   @ ./abstractarray.jl:668 [inlined]",
      " [3] getindex(A::Vector{Float64}, I::UnitRange{Int64})",
      "   @ Base ./array.jl:930",
      " [4] top-level scope",
      "   @ In[14]:2",
      " [5] eval",
      "   @ ./boot.jl:368 [inlined]",
      " [6] include_string(mapexpr::typeof(REPL.softscope), mod::Module, code::String, filename::String)",
      "   @ Base ./loading.jl:1428"
     ]
    }
   ],
   "source": [
    "# Plot the losses\n",
    "pl_losses = plot(1:200, losses[1:200], yaxis = :log10, xaxis = :log10, xlabel = \"Iterations\", ylabel = \"Loss\", label = \"ADAM\", color = :blue)\n",
    "plot!(201:length(losses), losses[201:end], yaxis = :log10, xaxis = :log10, xlabel = \"Iterations\", ylabel = \"Loss\", label = \"BFGS\", color = :red)"
   ]
  },
  {
   "cell_type": "code",
   "execution_count": 15,
   "metadata": {},
   "outputs": [
    {
     "ename": "LoadError",
     "evalue": "UndefVarError: res2 not defined",
     "output_type": "error",
     "traceback": [
      "UndefVarError: res2 not defined",
      "",
      "Stacktrace:",
      " [1] top-level scope",
      "   @ In[15]:2",
      " [2] eval",
      "   @ ./boot.jl:368 [inlined]",
      " [3] include_string(mapexpr::typeof(REPL.softscope), mod::Module, code::String, filename::String)",
      "   @ Base ./loading.jl:1428"
     ]
    }
   ],
   "source": [
    "# Rename the best candidate\n",
    "p_trained = res2.minimizer;"
   ]
  },
  {
   "cell_type": "code",
   "execution_count": 16,
   "metadata": {},
   "outputs": [
    {
     "ename": "LoadError",
     "evalue": "UndefVarError: p_trained not defined",
     "output_type": "error",
     "traceback": [
      "UndefVarError: p_trained not defined",
      "",
      "Stacktrace:",
      " [1] top-level scope",
      "   @ In[16]:4",
      " [2] eval",
      "   @ ./boot.jl:368 [inlined]",
      " [3] include_string(mapexpr::typeof(REPL.softscope), mod::Module, code::String, filename::String)",
      "   @ Base ./loading.jl:1428"
     ]
    }
   ],
   "source": [
    "## Analysis of the trained network\n",
    "# Plot the data and the approximation\n",
    "ts = first(solution.t):mean(diff(solution.t))/2:last(solution.t)\n",
    "X̂ = predict(p_trained, Xₙ[:,1], ts)\n",
    "# Trained on noisy data vs real solution\n",
    "pl_trajectory = plot(ts, transpose(X̂), xlabel = \"t\", ylabel =\"x(t), y(t)\", color = :red, label = [\"UDE Approximation\" nothing])\n",
    "scatter!(solution.t, transpose(Xₙ), color = :black, label = [\"Measurements\" nothing])\n",
    "\n",
    "# Ideal unknown interactions of the predictor\n",
    "Ȳ = [-p_[2]*(X̂[1,:].*X̂[2,:])';p_[3]*(X̂[1,:].*X̂[2,:])']\n",
    "# Neural network guess\n",
    "Ŷ = U(X̂,p_trained,st)[1]\n",
    "\n",
    "pl_reconstruction = plot(ts, transpose(Ŷ), xlabel = \"t\", ylabel =\"U(x,y)\", color = :red, label = [\"UDE Approximation\" nothing])\n",
    "plot!(ts, transpose(Ȳ), color = :black, label = [\"True Interaction\" nothing])\n",
    "\n",
    "# Plot the error\n",
    "pl_reconstruction_error = plot(ts, norm.(eachcol(Ȳ-Ŷ)), yaxis = :log, xlabel = \"t\", ylabel = \"L2-Error\", label = nothing, color = :red)\n",
    "pl_missing = plot(pl_reconstruction, pl_reconstruction_error, layout = (2,1))\n",
    "\n",
    "pl_overall = plot(pl_trajectory, pl_missing)\n",
    "## Symbolic regression via sparse regression ( SINDy based )"
   ]
  },
  {
   "cell_type": "markdown",
   "metadata": {},
   "source": [
    "## Symbolic Regression"
   ]
  },
  {
   "cell_type": "code",
   "execution_count": 17,
   "metadata": {},
   "outputs": [
    {
     "ename": "LoadError",
     "evalue": "UndefVarError: X̂ not defined",
     "output_type": "error",
     "traceback": [
      "UndefVarError: X̂ not defined",
      "",
      "Stacktrace:",
      " [1] top-level scope",
      "   @ In[17]:14",
      " [2] eval",
      "   @ ./boot.jl:368 [inlined]",
      " [3] include_string(mapexpr::typeof(REPL.softscope), mod::Module, code::String, filename::String)",
      "   @ Base ./loading.jl:1428"
     ]
    }
   ],
   "source": [
    "# Create a Basis\n",
    "@variables u[1:2]\n",
    "# Generate the basis functions, multivariate polynomials up to deg 5\n",
    "# and sine\n",
    "b = [polynomial_basis(u, 5); sin.(u)]\n",
    "basis = Basis(b,u);\n",
    "\n",
    "# Create the thresholds which should be used in the search process\n",
    "λ = exp10.(-3:0.01:5)\n",
    "# Create an optimizer for the SINDy problem\n",
    "opt = STLSQ(λ)\n",
    "\n",
    "# Define different problems for the recovery\n",
    "ideal_problem = DirectDataDrivenProblem(X̂, Ȳ)\n",
    "nn_problem = DirectDataDrivenProblem(X̂, Ŷ)\n",
    "\n",
    "# Test on ideal derivative data for unknown function ( not available )\n",
    "println(\"Sparse regression\")\n",
    "full_res = solve(full_problem, basis, opt, maxiter = 10000, progress = true)\n",
    "ideal_res = solve(ideal_problem, basis, opt, maxiter = 10000, progress = true)\n",
    "nn_res = solve(nn_problem, basis, opt, maxiter = 10000, progress = true, sampler = DataSampler(Batcher(n = 4, shuffle = true)))\n",
    "\n",
    "\n",
    "# Store the results\n",
    "results = [full_res; ideal_res; nn_res]\n",
    "# Show the results\n",
    "map(println, results)\n",
    "# Show the results\n",
    "map(println ∘ result, results)\n",
    "# Show the identified parameters\n",
    "map(println ∘ parameter_map, results)\n",
    "\n",
    "# Define the recovered, hyrid model\n",
    "function recovered_dynamics!(du,u, p, t)\n",
    "    û = nn_res(u, p) # Network prediction\n",
    "    du[1] = p_[1]*u[1] + û[1]\n",
    "    du[2] = -p_[4]*u[2] + û[2]\n",
    "end\n",
    "\n",
    "\n",
    "estimation_prob = ODEProblem(recovered_dynamics!, u0, tspan, parameters(nn_res))\n",
    "estimate = solve(estimation_prob, Tsit5(), saveat = solution.t)"
   ]
  },
  {
   "cell_type": "markdown",
   "metadata": {},
   "source": [
    "## Visualization"
   ]
  },
  {
   "cell_type": "code",
   "execution_count": 18,
   "metadata": {},
   "outputs": [
    {
     "ename": "LoadError",
     "evalue": "UndefVarError: estimate not defined",
     "output_type": "error",
     "traceback": [
      "UndefVarError: estimate not defined",
      "",
      "Stacktrace:",
      " [1] top-level scope",
      "   @ In[18]:3",
      " [2] eval",
      "   @ ./boot.jl:368 [inlined]",
      " [3] include_string(mapexpr::typeof(REPL.softscope), mod::Module, code::String, filename::String)",
      "   @ Base ./loading.jl:1428"
     ]
    }
   ],
   "source": [
    "# Plot\n",
    "plot(solution)\n",
    "plot!(estimate)\n",
    "\n",
    "## Simulation\n",
    "\n",
    "# Look at long term prediction\n",
    "t_long = (0.0, 50.0)\n",
    "estimation_prob = ODEProblem(recovered_dynamics!, u0, t_long, parameters(nn_res))\n",
    "estimate_long = solve(estimation_prob, Tsit5()) # Using higher tolerances here results in exit of julia\n",
    "plot(estimate_long)\n",
    "\n",
    "true_prob = ODEProblem(lotka!, u0, t_long, p_)\n",
    "true_solution_long = solve(true_prob, Tsit5(), saveat = estimate_long.t)\n",
    "plot!(true_solution_long)\n",
    "\n",
    "\n",
    "\n",
    "## Post Processing and Plots\n",
    "\n",
    "c1 = 3 # RGBA(174/255,192/255,201/255,1) # Maroon\n",
    "c2 = :orange # RGBA(132/255,159/255,173/255,1) # Red\n",
    "c3 = :blue # RGBA(255/255,90/255,0,1) # Orange\n",
    "c4 = :purple # RGBA(153/255,50/255,204/255,1) # Purple\n",
    "\n",
    "p1 = plot(t,abs.(Array(solution) .- estimate)' .+ eps(Float32),\n",
    "          lw = 3, yaxis = :log, title = \"Timeseries of UODE Error\",\n",
    "          color = [3 :orange], xlabel = \"t\",\n",
    "          label = [\"x(t)\" \"y(t)\"],\n",
    "          titlefont = \"Helvetica\", legendfont = \"Helvetica\",\n",
    "          legend = :topright)\n",
    "\n",
    "# Plot L₂\n",
    "p2 = plot3d(X̂[1,:], X̂[2,:], Ŷ[2,:], lw = 3,\n",
    "     title = \"Neural Network Fit of U2(t)\", color = c1,\n",
    "     label = \"Neural Network\", xaxis = \"x\", yaxis=\"y\",\n",
    "     titlefont = \"Helvetica\", legendfont = \"Helvetica\",\n",
    "     legend = :bottomright)\n",
    "plot!(X̂[1,:], X̂[2,:], Ȳ[2,:], lw = 3, label = \"True Missing Term\", color=c2)\n",
    "\n",
    "p3 = scatter(solution, color = [c1 c2], label = [\"x data\" \"y data\"],\n",
    "             title = \"Extrapolated Fit From Short Training Data\",\n",
    "             titlefont = \"Helvetica\", legendfont = \"Helvetica\",\n",
    "             markersize = 5)\n",
    "\n",
    "plot!(p3,true_solution_long, color = [c1 c2], linestyle = :dot, lw=5, label = [\"True x(t)\" \"True y(t)\"])\n",
    "plot!(p3,estimate_long, color = [c3 c4], lw=1, label = [\"Estimated x(t)\" \"Estimated y(t)\"])\n",
    "plot!(p3,[2.99,3.01],[0.0,10.0],lw=1,color=:black, label = nothing)\n",
    "annotate!([(1.5,13,text(\"Training \\nData\", 10, :center, :top, :black, \"Helvetica\"))])\n",
    "l = @layout [grid(1,2)\n",
    "             grid(1,1)]\n",
    "plot(p1,p2,p3,layout = l)"
   ]
  },
  {
   "cell_type": "code",
   "execution_count": null,
   "metadata": {},
   "outputs": [],
   "source": []
  }
 ],
 "metadata": {
  "kernelspec": {
   "display_name": "Julia 1.8.0",
   "language": "julia",
   "name": "julia-1.8"
  },
  "language_info": {
   "file_extension": ".jl",
   "mimetype": "application/julia",
   "name": "julia",
   "version": "1.8.2"
  },
  "vscode": {
   "interpreter": {
    "hash": "aee8b7b246df8f9039afb4144a1f6fd8d2ca17a180786b69acc140d282b71a49"
   }
  }
 },
 "nbformat": 4,
 "nbformat_minor": 4
}
