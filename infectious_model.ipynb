{
 "cells": [
  {
   "cell_type": "markdown",
   "metadata": {},
   "source": [
    "---\n",
    "title: 'Example: Infectious Model'\n",
    "jupyter: 'julia-1.8'\n",
    "execute: \n",
    "  freeze: auto\n",
    "---"
   ]
  },
  {
   "cell_type": "code",
   "execution_count": 1,
   "metadata": {
    "execution": {
     "iopub.execute_input": "2022-10-13T16:47:28.048000Z",
     "iopub.status.busy": "2022-10-13T16:47:27.377000Z",
     "iopub.status.idle": "2022-10-13T16:47:28.357000Z",
     "shell.execute_reply": "2022-10-13T16:47:28.286000Z"
    }
   },
   "outputs": [],
   "source": [
    "using Pkg"
   ]
  },
  {
   "cell_type": "code",
   "execution_count": 2,
   "metadata": {
    "execution": {
     "iopub.execute_input": "2022-10-13T16:47:28.360000Z",
     "iopub.status.busy": "2022-10-13T16:47:28.359000Z",
     "iopub.status.idle": "2022-10-13T16:47:28.905000Z",
     "shell.execute_reply": "2022-10-13T16:47:28.904000Z"
    }
   },
   "outputs": [
    {
     "data": {
      "text/plain": [
       "2"
      ]
     },
     "execution_count": 2,
     "metadata": {},
     "output_type": "execute_result"
    }
   ],
   "source": [
    "x = 1 + 1"
   ]
  },
  {
   "cell_type": "code",
   "execution_count": null,
   "metadata": {},
   "outputs": [],
   "source": []
  }
 ],
 "metadata": {
  "kernelspec": {
   "display_name": "Julia 1.8.0",
   "language": "julia",
   "name": "julia-1.8"
  },
  "language_info": {
   "file_extension": ".jl",
   "mimetype": "application/julia",
   "name": "julia",
   "version": "1.8.2"
  },
  "vscode": {
   "interpreter": {
    "hash": "aee8b7b246df8f9039afb4144a1f6fd8d2ca17a180786b69acc140d282b71a49"
   }
  }
 },
 "nbformat": 4,
 "nbformat_minor": 2
}
