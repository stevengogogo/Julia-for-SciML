{
 "cells": [
  {
   "cell_type": "markdown",
   "metadata": {},
   "source": [
    "# Julia Basics"
   ]
  },
  {
   "cell_type": "markdown",
   "metadata": {},
   "source": [
    "In this section, we are going to run julia with Jupyter    "
   ]
  },
  {
   "cell_type": "markdown",
   "metadata": {},
   "source": [
    "## Activate Environment"
   ]
  },
  {
   "cell_type": "code",
   "execution_count": 1,
   "metadata": {
    "execution": {
     "iopub.execute_input": "2022-10-21T00:10:30.242000Z",
     "iopub.status.busy": "2022-10-21T00:10:29.692000Z",
     "iopub.status.idle": "2022-10-21T00:25:19.224000Z",
     "shell.execute_reply": "2022-10-21T00:25:19.087000Z"
    }
   },
   "outputs": [
    {
     "name": "stderr",
     "output_type": "stream",
     "text": [
      "\u001b[32m\u001b[1m  Activating\u001b[22m\u001b[39m project at `~/work/Julia-for-SciML/Julia-for-SciML/hands-on/tutorial`\n",
      "\u001b[32m\u001b[1mPrecompiling\u001b[22m\u001b[39m project...\n",
      "\u001b[32m  ✓ \u001b[39m\u001b[90mPCRE2_jll\u001b[39m\n",
      "\u001b[32m  ✓ \u001b[39m\u001b[90mOpenLibm_jll\u001b[39m\n",
      "\u001b[32m  ✓ \u001b[39m\u001b[90mSuiteSparse_jll\u001b[39m\n",
      "\u001b[32m  ✓ \u001b[39m\u001b[90mNaNMath\u001b[39m\n",
      "\u001b[32m  ✓ \u001b[39m\u001b[90mKLU\u001b[39m\n",
      "\u001b[32m  ✓ \u001b[39m\u001b[90mGlib_jll\u001b[39m\n",
      "\u001b[32m  ✓ \u001b[39m\u001b[90mSundials_jll\u001b[39m\n",
      "\u001b[32m  ✓ \u001b[39m\u001b[90mCairo_jll\u001b[39m\n",
      "\u001b[32m  ✓ \u001b[39m\u001b[90mSpecialFunctions\u001b[39m\n",
      "\u001b[32m  ✓ \u001b[39m\u001b[90mHarfBuzz_jll\u001b[39m\n",
      "\u001b[32m  ✓ \u001b[39m\u001b[90mLevyArea\u001b[39m\n",
      "\u001b[32m  ✓ \u001b[39m\u001b[90mDualNumbers\u001b[39m\n",
      "\u001b[32m  ✓ \u001b[39m\u001b[90mDiffRules\u001b[39m\n",
      "\u001b[32m  ✓ \u001b[39m\u001b[90mColorVectorSpace\u001b[39m\n",
      "\u001b[32m  ✓ \u001b[39m\u001b[90mlibass_jll\u001b[39m\n",
      "\u001b[32m  ✓ \u001b[39m\u001b[90mQt5Base_jll\u001b[39m\n",
      "\u001b[32m  ✓ \u001b[39m\u001b[90mHypergeometricFunctions\u001b[39m\n",
      "\u001b[32m  ✓ \u001b[39m\u001b[90mColorSchemes\u001b[39m\n",
      "\u001b[32m  ✓ \u001b[39m\u001b[90mFFMPEG_jll\u001b[39m\n",
      "\u001b[32m  ✓ \u001b[39m\u001b[90mForwardDiff\u001b[39m\n",
      "\u001b[32m  ✓ \u001b[39m\u001b[90mStatsFuns\u001b[39m\n",
      "\u001b[32m  ✓ \u001b[39m\u001b[90mFFMPEG\u001b[39m\n",
      "\u001b[32m  ✓ \u001b[39m\u001b[90mGR_jll\u001b[39m\n",
      "\u001b[32m  ✓ \u001b[39m\u001b[90mPlotUtils\u001b[39m\n",
      "\u001b[32m  ✓ \u001b[39m\u001b[90mSparseDiffTools\u001b[39m\n",
      "\u001b[32m  ✓ \u001b[39m\u001b[90mTracker\u001b[39m\n",
      "\u001b[32m  ✓ \u001b[39m\u001b[90mPreallocationTools\u001b[39m\n",
      "\u001b[32m  ✓ \u001b[39m\u001b[90mSIMDDualNumbers\u001b[39m\n",
      "\u001b[32m  ✓ \u001b[39m\u001b[90mReverseDiff\u001b[39m\n",
      "\u001b[32m  ✓ \u001b[39m\u001b[90mNLSolversBase\u001b[39m\n",
      "\u001b[32m  ✓ \u001b[39m\u001b[90mCUDA\u001b[39m\n",
      "\u001b[32m  ✓ \u001b[39m\u001b[90mGR\u001b[39m\n",
      "\u001b[32m  ✓ \u001b[39m\u001b[90mDistributions\u001b[39m\n",
      "\u001b[32m  ✓ \u001b[39m\u001b[90mZygote\u001b[39m\n",
      "\u001b[32m  ✓ \u001b[39m\u001b[90mArrayInterfaceTracker\u001b[39m\n",
      "\u001b[32m  ✓ \u001b[39m\u001b[90mPlotThemes\u001b[39m\n",
      "\u001b[32m  ✓ \u001b[39m\u001b[90mRecipesPipeline\u001b[39m\n",
      "\u001b[32m  ✓ \u001b[39m\u001b[90mLabelledArrays\u001b[39m\n",
      "\u001b[32m  ✓ \u001b[39m\u001b[90mLineSearches\u001b[39m\n",
      "\u001b[32m  ✓ \u001b[39m\u001b[90mNNlibCUDA\u001b[39m\n",
      "\u001b[32m  ✓ \u001b[39m\u001b[90mCUDAKernels\u001b[39m\n",
      "\u001b[32m  ✓ \u001b[39m\u001b[90mDistributionsAD\u001b[39m\n",
      "\u001b[32m  ✓ \u001b[39m\u001b[90mLoopVectorization\u001b[39m\n",
      "\u001b[32m  ✓ \u001b[39m\u001b[90mNLsolve\u001b[39m\n",
      "\u001b[32m  ✓ \u001b[39mOptim\n",
      "\u001b[32m  ✓ \u001b[39m\u001b[90mSymbolicUtils\u001b[39m\n",
      "\u001b[32m  ✓ \u001b[39m\u001b[90mLuxLib\u001b[39m\n",
      "\u001b[32m  ✓ \u001b[39mFlux\n",
      "\u001b[32m  ✓ \u001b[39m\u001b[90mOptimizationOptimJL\u001b[39m\n",
      "\u001b[32m  ✓ \u001b[39m\u001b[90mLeastSquaresOptim\u001b[39m\n",
      "\u001b[32m  ✓ \u001b[39mPlots\n",
      "\u001b[32m  ✓ \u001b[39m\u001b[90mSymbolics\u001b[39m\n",
      "\u001b[32m  ✓ \u001b[39m\u001b[90mTriangularSolve\u001b[39m\n",
      "\u001b[32m  ✓ \u001b[39m\u001b[90mOptimizationPolyalgorithms\u001b[39m\n",
      "\u001b[32m  ✓ \u001b[39m\u001b[90mOptimizationFlux\u001b[39m\n",
      "\u001b[32m  ✓ \u001b[39m\u001b[90mRegularizationTools\u001b[39m\n",
      "\u001b[32m  ✓ \u001b[39m\u001b[90mDataInterpolations\u001b[39m\n",
      "\u001b[32m  ✓ \u001b[39m\u001b[90mRecursiveFactorization\u001b[39m\n",
      "\u001b[32m  ✓ \u001b[39m\u001b[90mNonlinearSolve\u001b[39m\n",
      "\u001b[32m  ✓ \u001b[39m\u001b[90mLinearSolve\u001b[39m\n",
      "\u001b[32m  ✓ \u001b[39m\u001b[90mDiffEqBase\u001b[39m\n",
      "\u001b[32m  ✓ \u001b[39m\u001b[90mJumpProcesses\u001b[39m\n",
      "\u001b[32m  ✓ \u001b[39m\u001b[90mDiffEqCallbacks\u001b[39m\n",
      "\u001b[32m  ✓ \u001b[39m\u001b[90mSundials\u001b[39m\n",
      "\u001b[32m  ✓ \u001b[39m\u001b[90mBoundaryValueDiffEq\u001b[39m\n",
      "\u001b[32m  ✓ \u001b[39m\u001b[90mDiffEqNoiseProcess\u001b[39m\n",
      "\u001b[32m  ✓ \u001b[39m\u001b[90mLux\u001b[39m\n",
      "\u001b[32m  ✓ \u001b[39m\u001b[90mSteadyStateDiffEq\u001b[39m\n",
      "\u001b[32m  ✓ \u001b[39m\u001b[90mDiffEqOperators\u001b[39m\n",
      "\u001b[32m  ✓ \u001b[39mModelingToolkit\n",
      "\u001b[32m  ✓ \u001b[39mDataDrivenDiffEq\n",
      "\u001b[32m  ✓ \u001b[39m\u001b[90mOrdinaryDiffEq\u001b[39m\n",
      "\u001b[32m  ✓ \u001b[39m\u001b[90mDelayDiffEq\u001b[39m\n",
      "\u001b[32m  ✓ \u001b[39m\u001b[90mStochasticDiffEq\u001b[39m\n",
      "\u001b[32m  ✓ \u001b[39mDifferentialEquations\n",
      "\u001b[32m  ✓ \u001b[39m\u001b[90mSciMLSensitivity\u001b[39m\n",
      "\u001b[32m  ✓ \u001b[39mDiffEqSensitivity\n",
      "\u001b[32m  ✓ \u001b[39mDiffEqFlux\n",
      "  78 dependencies successfully precompiled in 878 seconds. 287 already precompiled.\n"
     ]
    }
   ],
   "source": [
    "using Pkg\n",
    "Pkg.activate(\"tutorial\")\n",
    "Pkg.instantiate()"
   ]
  },
  {
   "cell_type": "code",
   "execution_count": 2,
   "metadata": {
    "execution": {
     "iopub.execute_input": "2022-10-21T00:25:19.271000Z",
     "iopub.status.busy": "2022-10-21T00:25:19.268000Z",
     "iopub.status.idle": "2022-10-21T00:25:23.072000Z",
     "shell.execute_reply": "2022-10-21T00:25:23.072000Z"
    }
   },
   "outputs": [
    {
     "name": "stdout",
     "output_type": "stream",
     "text": [
      "\u001b[32m\u001b[1mStatus\u001b[22m\u001b[39m `~/work/Julia-for-SciML/Julia-for-SciML/hands-on/tutorial/Project.toml`\n",
      " \u001b[90m [6e4b80f9] \u001b[39mBenchmarkTools v1.3.1\n",
      " \u001b[90m [2445eb08] \u001b[39mDataDrivenDiffEq v0.8.5\n",
      " \u001b[90m [aae7a2af] \u001b[39mDiffEqFlux v1.52.0\n",
      " \u001b[90m [41bf760c] \u001b[39mDiffEqSensitivity v6.79.0\n",
      " \u001b[90m [0c46a032] \u001b[39mDifferentialEquations v7.5.0\n",
      " \u001b[90m [587475ba] \u001b[39mFlux v0.13.6\n",
      "\u001b[32m⌃\u001b[39m\u001b[90m [961ee093] \u001b[39mModelingToolkit v8.27.0\n",
      " \u001b[90m [429524aa] \u001b[39mOptim v1.7.3\n",
      "\u001b[32m⌃\u001b[39m\u001b[90m [7f7a1694] \u001b[39mOptimization v3.9.0\n",
      "\u001b[32m⌃\u001b[39m\u001b[90m [91a5bcdd] \u001b[39mPlots v1.35.3\n",
      "\u001b[36m\u001b[1mInfo\u001b[22m\u001b[39m Packages marked with \u001b[32m⌃\u001b[39m have new versions available and may be upgradable.\n"
     ]
    }
   ],
   "source": [
    "] st"
   ]
  },
  {
   "cell_type": "markdown",
   "metadata": {},
   "source": [
    "## Import packages"
   ]
  },
  {
   "cell_type": "code",
   "execution_count": 3,
   "metadata": {
    "execution": {
     "iopub.execute_input": "2022-10-21T00:25:23.078000Z",
     "iopub.status.busy": "2022-10-21T00:25:23.078000Z",
     "iopub.status.idle": "2022-10-21T00:25:23.105000Z",
     "shell.execute_reply": "2022-10-21T00:25:23.105000Z"
    }
   },
   "outputs": [],
   "source": [
    "using BenchmarkTools"
   ]
  },
  {
   "cell_type": "code",
   "execution_count": 4,
   "metadata": {
    "execution": {
     "iopub.execute_input": "2022-10-21T00:25:23.109000Z",
     "iopub.status.busy": "2022-10-21T00:25:23.108000Z",
     "iopub.status.idle": "2022-10-21T00:25:37.348000Z",
     "shell.execute_reply": "2022-10-21T00:25:37.347000Z"
    }
   },
   "outputs": [],
   "source": [
    "using DifferentialEquations"
   ]
  },
  {
   "cell_type": "markdown",
   "metadata": {},
   "source": [
    "## Documentation"
   ]
  },
  {
   "cell_type": "code",
   "execution_count": 5,
   "metadata": {
    "execution": {
     "iopub.execute_input": "2022-10-21T00:25:37.518000Z",
     "iopub.status.busy": "2022-10-21T00:25:37.350000Z",
     "iopub.status.idle": "2022-10-21T00:25:39.743000Z",
     "shell.execute_reply": "2022-10-21T00:25:39.743000Z"
    }
   },
   "outputs": [
    {
     "name": "stdout",
     "output_type": "stream",
     "text": [
      "search: \u001b[0m\u001b[1mO\u001b[22m\u001b[0m\u001b[1mD\u001b[22m\u001b[0m\u001b[1mE\u001b[22m\u001b[0m\u001b[1mP\u001b[22m\u001b[0m\u001b[1mr\u001b[22m\u001b[0m\u001b[1mo\u001b[22m\u001b[0m\u001b[1mb\u001b[22m\u001b[0m\u001b[1ml\u001b[22m\u001b[0m\u001b[1me\u001b[22m\u001b[0m\u001b[1mm\u001b[22m R\u001b[0m\u001b[1mO\u001b[22m\u001b[0m\u001b[1mD\u001b[22m\u001b[0m\u001b[1mE\u001b[22m\u001b[0m\u001b[1mP\u001b[22m\u001b[0m\u001b[1mr\u001b[22m\u001b[0m\u001b[1mo\u001b[22m\u001b[0m\u001b[1mb\u001b[22m\u001b[0m\u001b[1ml\u001b[22m\u001b[0m\u001b[1me\u001b[22m\u001b[0m\u001b[1mm\u001b[22m Split\u001b[0m\u001b[1mO\u001b[22m\u001b[0m\u001b[1mD\u001b[22m\u001b[0m\u001b[1mE\u001b[22m\u001b[0m\u001b[1mP\u001b[22m\u001b[0m\u001b[1mr\u001b[22m\u001b[0m\u001b[1mo\u001b[22m\u001b[0m\u001b[1mb\u001b[22m\u001b[0m\u001b[1ml\u001b[22m\u001b[0m\u001b[1me\u001b[22m\u001b[0m\u001b[1mm\u001b[22m Dynamical\u001b[0m\u001b[1mO\u001b[22m\u001b[0m\u001b[1mD\u001b[22m\u001b[0m\u001b[1mE\u001b[22m\u001b[0m\u001b[1mP\u001b[22m\u001b[0m\u001b[1mr\u001b[22m\u001b[0m\u001b[1mo\u001b[22m\u001b[0m\u001b[1mb\u001b[22m\u001b[0m\u001b[1ml\u001b[22m\u001b[0m\u001b[1me\u001b[22m\u001b[0m\u001b[1mm\u001b[22m\n",
      "\n"
     ]
    },
    {
     "data": {
      "text/latex": [
       "Defines an ordinary differential equation (ODE) problem. Documentation Page: https://diffeq.sciml.ai/stable/types/ode\\_types/\n",
       "\n",
       "\\subsection{Mathematical Specification of an ODE Problem}\n",
       "To define an ODE Problem, you simply need to give the function $f$ and the initial condition $u_0$ which define an ODE:\n",
       "\n",
       "$$M \\frac{du}{dt} = f(u,p,t)$$\n",
       "There are two different ways of specifying \\texttt{f}:\n",
       "\n",
       "\\begin{itemize}\n",
       "\\item \\texttt{f(du,u,p,t)}: in-place. Memory-efficient when avoiding allocations. Best option for most cases unless mutation is not allowed.\n",
       "\n",
       "\n",
       "\\item \\texttt{f(u,p,t)}: returning \\texttt{du}. Less memory-efficient way, particularly suitable when mutation is not allowed (e.g. with certain automatic differentiation packages such as Zygote).\n",
       "\n",
       "\\end{itemize}\n",
       "\\texttt{u₀} should be an AbstractArray (or number) whose geometry matches the desired geometry of \\texttt{u}. Note that we are not limited to numbers or vectors for \\texttt{u₀}; one is allowed to provide \\texttt{u₀} as arbitrary matrices / higher dimension tensors as well.\n",
       "\n",
       "For the mass matrix $M$, see the documentation of \\texttt{ODEFunction}.\n",
       "\n",
       "\\subsection{Problem Type}\n",
       "\\subsubsection{Constructors}\n",
       "\\texttt{ODEProblem} can be constructed by first building an \\texttt{ODEFunction} or by simply passing the ODE right-hand side to the constructor. The constructors are:\n",
       "\n",
       "\\begin{itemize}\n",
       "\\item \\texttt{ODEProblem(f::ODEFunction,u0,tspan,p=NullParameters();kwargs...)}\n",
       "\n",
       "\n",
       "\\item \\texttt{ODEProblem\\{isinplace,specialize\\}(f,u0,tspan,p=NullParameters();kwargs...)} : Defines the ODE with the specified functions. \\texttt{isinplace} optionally sets whether the function is inplace or not. This is determined automatically, but not inferred. \\texttt{specialize} optionally controls the specialization level. See the \\href{https://scimlbase.sciml.ai/stable/interfaces/Problems/#Specialization-Levels}{specialization levels section of the SciMLBase documentation} for more details. The default is \\texttt{AutoSpecialize}.\n",
       "\n",
       "\\end{itemize}\n",
       "For more details on the in-place and specialization controls, see the ODEFunction documentation.\n",
       "\n",
       "Parameters are optional, and if not given then a \\texttt{NullParameters()} singleton will be used which will throw nice errors if you try to index non-existent parameters. Any extra keyword arguments are passed on to the solvers. For example, if you set a \\texttt{callback} in the problem, then that \\texttt{callback} will be added in every solve call.\n",
       "\n",
       "For specifying Jacobians and mass matrices, see the \\texttt{ODEFunction} documentation.\n",
       "\n",
       "\\subsubsection{Fields}\n",
       "\\begin{itemize}\n",
       "\\item \\texttt{f}: The function in the ODE.\n",
       "\n",
       "\n",
       "\\item \\texttt{u0}: The initial condition.\n",
       "\n",
       "\n",
       "\\item \\texttt{tspan}: The timespan for the problem.\n",
       "\n",
       "\n",
       "\\item \\texttt{p}: The parameters.\n",
       "\n",
       "\n",
       "\\item \\texttt{kwargs}: The keyword arguments passed onto the solves.\n",
       "\n",
       "\\end{itemize}\n",
       "\\subsection{Example Problems}\n",
       "Example problems can be found in \\href{https://github.com/JuliaDiffEq/DiffEqProblemLibrary.jl/tree/master/src/ode}{DiffEqProblemLibrary.jl}.\n",
       "\n",
       "To use a sample problem, such as \\texttt{prob\\_ode\\_linear}, you can do something like:\n",
       "\n",
       "\\begin{verbatim}\n",
       "#] add DiffEqProblemLibrary\n",
       "using DiffEqProblemLibrary.ODEProblemLibrary\n",
       "# load problems\n",
       "ODEProblemLibrary.importodeproblems()\n",
       "prob = ODEProblemLibrary.prob_ode_linear\n",
       "sol = solve(prob)\n",
       "\\end{verbatim}\n",
       "\\rule{\\textwidth}{1pt}\n",
       "\\begin{verbatim}\n",
       "ODEProblem(f::ODEFunction,u0,tspan,p=NullParameters(),callback=CallbackSet())\n",
       "\\end{verbatim}\n",
       "Define an ODE problem from an \\href{@ref}{\\texttt{ODEFunction}}.\n",
       "\n"
      ],
      "text/markdown": [
       "Defines an ordinary differential equation (ODE) problem. Documentation Page: https://diffeq.sciml.ai/stable/types/ode_types/\n",
       "\n",
       "## Mathematical Specification of an ODE Problem\n",
       "\n",
       "To define an ODE Problem, you simply need to give the function $f$ and the initial condition $u_0$ which define an ODE:\n",
       "\n",
       "$$\n",
       "M \\frac{du}{dt} = f(u,p,t)\n",
       "$$\n",
       "\n",
       "There are two different ways of specifying `f`:\n",
       "\n",
       "  * `f(du,u,p,t)`: in-place. Memory-efficient when avoiding allocations. Best option for most cases unless mutation is not allowed.\n",
       "  * `f(u,p,t)`: returning `du`. Less memory-efficient way, particularly suitable when mutation is not allowed (e.g. with certain automatic differentiation packages such as Zygote).\n",
       "\n",
       "`u₀` should be an AbstractArray (or number) whose geometry matches the desired geometry of `u`. Note that we are not limited to numbers or vectors for `u₀`; one is allowed to provide `u₀` as arbitrary matrices / higher dimension tensors as well.\n",
       "\n",
       "For the mass matrix $M$, see the documentation of `ODEFunction`.\n",
       "\n",
       "## Problem Type\n",
       "\n",
       "### Constructors\n",
       "\n",
       "`ODEProblem` can be constructed by first building an `ODEFunction` or by simply passing the ODE right-hand side to the constructor. The constructors are:\n",
       "\n",
       "  * `ODEProblem(f::ODEFunction,u0,tspan,p=NullParameters();kwargs...)`\n",
       "  * `ODEProblem{isinplace,specialize}(f,u0,tspan,p=NullParameters();kwargs...)` : Defines the ODE with the specified functions. `isinplace` optionally sets whether the function is inplace or not. This is determined automatically, but not inferred. `specialize` optionally controls the specialization level. See the [specialization levels section of the SciMLBase documentation](https://scimlbase.sciml.ai/stable/interfaces/Problems/#Specialization-Levels) for more details. The default is `AutoSpecialize`.\n",
       "\n",
       "For more details on the in-place and specialization controls, see the ODEFunction documentation.\n",
       "\n",
       "Parameters are optional, and if not given then a `NullParameters()` singleton will be used which will throw nice errors if you try to index non-existent parameters. Any extra keyword arguments are passed on to the solvers. For example, if you set a `callback` in the problem, then that `callback` will be added in every solve call.\n",
       "\n",
       "For specifying Jacobians and mass matrices, see the `ODEFunction` documentation.\n",
       "\n",
       "### Fields\n",
       "\n",
       "  * `f`: The function in the ODE.\n",
       "  * `u0`: The initial condition.\n",
       "  * `tspan`: The timespan for the problem.\n",
       "  * `p`: The parameters.\n",
       "  * `kwargs`: The keyword arguments passed onto the solves.\n",
       "\n",
       "## Example Problems\n",
       "\n",
       "Example problems can be found in [DiffEqProblemLibrary.jl](https://github.com/JuliaDiffEq/DiffEqProblemLibrary.jl/tree/master/src/ode).\n",
       "\n",
       "To use a sample problem, such as `prob_ode_linear`, you can do something like:\n",
       "\n",
       "```julia\n",
       "#] add DiffEqProblemLibrary\n",
       "using DiffEqProblemLibrary.ODEProblemLibrary\n",
       "# load problems\n",
       "ODEProblemLibrary.importodeproblems()\n",
       "prob = ODEProblemLibrary.prob_ode_linear\n",
       "sol = solve(prob)\n",
       "```\n",
       "\n",
       "---\n",
       "\n",
       "```\n",
       "ODEProblem(f::ODEFunction,u0,tspan,p=NullParameters(),callback=CallbackSet())\n",
       "```\n",
       "\n",
       "Define an ODE problem from an [`ODEFunction`](@ref).\n"
      ],
      "text/plain": [
       "  Defines an ordinary differential equation (ODE) problem. Documentation Page:\n",
       "  https://diffeq.sciml.ai/stable/types/ode_types/\n",
       "\n",
       "\u001b[1m  Mathematical Specification of an ODE Problem\u001b[22m\n",
       "\u001b[1m  ==============================================\u001b[22m\n",
       "\n",
       "  To define an ODE Problem, you simply need to give the function \u001b[35mf\u001b[39m and the\n",
       "  initial condition \u001b[35mu_0\u001b[39m which define an ODE:\n",
       "\n",
       "\u001b[35m  M \\frac{du}{dt} = f(u,p,t)\u001b[39m\n",
       "\n",
       "  There are two different ways of specifying \u001b[36mf\u001b[39m:\n",
       "\n",
       "    •  \u001b[36mf(du,u,p,t)\u001b[39m: in-place. Memory-efficient when avoiding allocations.\n",
       "       Best option for most cases unless mutation is not allowed.\n",
       "\n",
       "    •  \u001b[36mf(u,p,t)\u001b[39m: returning \u001b[36mdu\u001b[39m. Less memory-efficient way, particularly\n",
       "       suitable when mutation is not allowed (e.g. with certain automatic\n",
       "       differentiation packages such as Zygote).\n",
       "\n",
       "  \u001b[36mu₀\u001b[39m should be an AbstractArray (or number) whose geometry matches the desired\n",
       "  geometry of \u001b[36mu\u001b[39m. Note that we are not limited to numbers or vectors for \u001b[36mu₀\u001b[39m;\n",
       "  one is allowed to provide \u001b[36mu₀\u001b[39m as arbitrary matrices / higher dimension\n",
       "  tensors as well.\n",
       "\n",
       "  For the mass matrix \u001b[35mM\u001b[39m, see the documentation of \u001b[36mODEFunction\u001b[39m.\n",
       "\n",
       "\u001b[1m  Problem Type\u001b[22m\n",
       "\u001b[1m  ==============\u001b[22m\n",
       "\n",
       "\u001b[1m  Constructors\u001b[22m\n",
       "\u001b[1m  ––––––––––––––\u001b[22m\n",
       "\n",
       "  \u001b[36mODEProblem\u001b[39m can be constructed by first building an \u001b[36mODEFunction\u001b[39m or by simply\n",
       "  passing the ODE right-hand side to the constructor. The constructors are:\n",
       "\n",
       "    •  \u001b[36mODEProblem(f::ODEFunction,u0,tspan,p=NullParameters();kwargs...)\u001b[39m\n",
       "\n",
       "    •  \u001b[36mODEProblem{isinplace,specialize}(f,u0,tspan,p=NullParameters();kwargs...)\u001b[39m\n",
       "       : Defines the ODE with the specified functions. \u001b[36misinplace\u001b[39m\n",
       "       optionally sets whether the function is inplace or not. This is\n",
       "       determined automatically, but not inferred. \u001b[36mspecialize\u001b[39m optionally\n",
       "       controls the specialization level. See the specialization levels\n",
       "       section of the SciMLBase documentation\n",
       "       (https://scimlbase.sciml.ai/stable/interfaces/Problems/#Specialization-Levels)\n",
       "       for more details. The default is \u001b[36mAutoSpecialize\u001b[39m.\n",
       "\n",
       "  For more details on the in-place and specialization controls, see the\n",
       "  ODEFunction documentation.\n",
       "\n",
       "  Parameters are optional, and if not given then a \u001b[36mNullParameters()\u001b[39m singleton\n",
       "  will be used which will throw nice errors if you try to index non-existent\n",
       "  parameters. Any extra keyword arguments are passed on to the solvers. For\n",
       "  example, if you set a \u001b[36mcallback\u001b[39m in the problem, then that \u001b[36mcallback\u001b[39m will be\n",
       "  added in every solve call.\n",
       "\n",
       "  For specifying Jacobians and mass matrices, see the \u001b[36mODEFunction\u001b[39m\n",
       "  documentation.\n",
       "\n",
       "\u001b[1m  Fields\u001b[22m\n",
       "\u001b[1m  ––––––––\u001b[22m\n",
       "\n",
       "    •  \u001b[36mf\u001b[39m: The function in the ODE.\n",
       "\n",
       "    •  \u001b[36mu0\u001b[39m: The initial condition.\n",
       "\n",
       "    •  \u001b[36mtspan\u001b[39m: The timespan for the problem.\n",
       "\n",
       "    •  \u001b[36mp\u001b[39m: The parameters.\n",
       "\n",
       "    •  \u001b[36mkwargs\u001b[39m: The keyword arguments passed onto the solves.\n",
       "\n",
       "\u001b[1m  Example Problems\u001b[22m\n",
       "\u001b[1m  ==================\u001b[22m\n",
       "\n",
       "  Example problems can be found in DiffEqProblemLibrary.jl\n",
       "  (https://github.com/JuliaDiffEq/DiffEqProblemLibrary.jl/tree/master/src/ode).\n",
       "\n",
       "  To use a sample problem, such as \u001b[36mprob_ode_linear\u001b[39m, you can do something like:\n",
       "\n",
       "\u001b[36m  #] add DiffEqProblemLibrary\u001b[39m\n",
       "\u001b[36m  using DiffEqProblemLibrary.ODEProblemLibrary\u001b[39m\n",
       "\u001b[36m  # load problems\u001b[39m\n",
       "\u001b[36m  ODEProblemLibrary.importodeproblems()\u001b[39m\n",
       "\u001b[36m  prob = ODEProblemLibrary.prob_ode_linear\u001b[39m\n",
       "\u001b[36m  sol = solve(prob)\u001b[39m\n",
       "\n",
       "  ────────────────────────────────────────────────────────────────────────────\n",
       "\n",
       "\u001b[36m  ODEProblem(f::ODEFunction,u0,tspan,p=NullParameters(),callback=CallbackSet())\u001b[39m\n",
       "\n",
       "  Define an ODE problem from an \u001b[36mODEFunction\u001b[39m."
      ]
     },
     "execution_count": 5,
     "metadata": {},
     "output_type": "execute_result"
    }
   ],
   "source": [
    "?ODEProblem"
   ]
  },
  {
   "cell_type": "code",
   "execution_count": null,
   "metadata": {},
   "outputs": [],
   "source": []
  }
 ],
 "metadata": {
  "kernelspec": {
   "display_name": "Julia 1.8.0",
   "language": "julia",
   "name": "julia-1.8"
  },
  "language_info": {
   "file_extension": ".jl",
   "mimetype": "application/julia",
   "name": "julia",
   "version": "1.8.2"
  },
  "vscode": {
   "interpreter": {
    "hash": "aee8b7b246df8f9039afb4144a1f6fd8d2ca17a180786b69acc140d282b71a49"
   }
  }
 },
 "nbformat": 4,
 "nbformat_minor": 4
}
