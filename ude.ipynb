{
 "cells": [
  {
   "cell_type": "markdown",
   "metadata": {},
   "source": [
    "---\n",
    "title: \" Applying Universal differential equation for discovering infectious disease model\"\n",
    "---\n",
    "# Applying Universal differential equation for discovering infectious disease model\n",
    "\n",
    "SciML software provides functionality to mix physical laws and machine learning model. This approach integrate the two long separated fields: physical modeling and machine learning, and leverage the strengths from both sides.\n",
    "\n",
    "Specifically, the universal differential equation (UDE) is a unifying framework connecting physical modeling and data-driven approach, and SciML software provides state-of-art implementation and high-performance computing with Julia.\n",
    "\n",
    "In this session, we are going to investigate an infectious disease model, SIR model, as a demonstration of applying UDE approach. This method can be divided by three parts:\n",
    "\n",
    "\n",
    "**Part I: Data acquisition with ground truth model**\n",
    "\n",
    "- Use DifferentialEquation.jl to implement SIR model\n",
    "- Use ODE solver to get solution\n",
    "- Apply noise\n",
    "\n",
    "**Part II: Model Surrogation**\n",
    "\n",
    "- Assume SIR model is partly known, and use convolution neural network (CNN) as universal approximator to surrogate the unknown process.\n",
    "- The UDE model is a combination of ODE and CNN frameworks\n",
    "- Use Automatic Differentiation to achieve gradient descent\n",
    "\n",
    "\n",
    "**Part III: Model discovery**\n",
    "\n",
    "\n",
    "## References\n",
    "> This notebook is modified from \n",
    "> 1. https://github.com/epirecipes/sir-julia/blob/master/notebook/ude/ude.ipynb \n",
    "> 2. https://github.com/ChrisRackauckas/universal_differential_equations/blob/master/LotkaVolterra/scenario_1.jl\n",
    ">\n",
    "> The original UDE paper: Rackauckas, Christopher, et al. \"Universal differential equations for scientific machine learning.\" arXiv preprint arXiv:2001.04385 (2020).\n"
   ]
  },
  {
   "cell_type": "markdown",
   "metadata": {},
   "source": [
    "## Activate Environment"
   ]
  },
  {
   "cell_type": "code",
   "execution_count": 1,
   "metadata": {
    "execution": {
     "iopub.execute_input": "2022-10-24T13:46:43.859000Z",
     "iopub.status.busy": "2022-10-24T13:46:43.283000Z",
     "iopub.status.idle": "2022-10-24T13:47:15.725000Z",
     "shell.execute_reply": "2022-10-24T13:47:15.662000Z"
    }
   },
   "outputs": [
    {
     "name": "stderr",
     "output_type": "stream",
     "text": [
      "\u001b[32m\u001b[1m  Activating\u001b[22m\u001b[39m project at `~/work/Julia-for-SciML/Julia-for-SciML/hands-on/ude`\n",
      "\u001b[32m\u001b[1m    Updating\u001b[22m\u001b[39m registry at `~/.julia/registries/General.toml`\n",
      "\u001b[32m\u001b[1m   Installed\u001b[22m\u001b[39m ShowCases ──────────────────────── v0.1.0\n",
      "\u001b[32m\u001b[1m   Installed\u001b[22m\u001b[39m ContextVariablesX ──────────────── v0.1.3\n",
      "\u001b[32m\u001b[1m   Installed\u001b[22m\u001b[39m Enzyme_jll ─────────────────────── v0.0.43+0\n",
      "\u001b[32m\u001b[1m   Installed\u001b[22m\u001b[39m Accessors ──────────────────────── v0.1.20\n",
      "\u001b[32m\u001b[1m   Installed\u001b[22m\u001b[39m ConsoleProgressMonitor ─────────── v0.1.2\n",
      "\u001b[32m\u001b[1m   Installed\u001b[22m\u001b[39m NNlib ──────────────────────────── v0.8.9\n",
      "\u001b[32m\u001b[1m   Installed\u001b[22m\u001b[39m LuxLib ─────────────────────────── v0.1.6\n",
      "\u001b[32m\u001b[1m   Installed\u001b[22m\u001b[39m SciMLSensitivity ───────────────── v7.10.2\n",
      "\u001b[32m\u001b[1m   Installed\u001b[22m\u001b[39m PDMats ─────────────────────────── v0.11.16\n",
      "\u001b[32m\u001b[1m   Installed\u001b[22m\u001b[39m Contour ────────────────────────── v0.6.2\n",
      "\u001b[32m\u001b[1m   Installed\u001b[22m\u001b[39m TimerOutputs ───────────────────── v0.5.21\n",
      "\u001b[32m\u001b[1m   Installed\u001b[22m\u001b[39m NNlibCUDA ──────────────────────── v0.2.4\n",
      "\u001b[32m\u001b[1m   Installed\u001b[22m\u001b[39m Measures ───────────────────────── v0.3.1\n",
      "\u001b[32m\u001b[1m   Installed\u001b[22m\u001b[39m ProgressMeter ──────────────────── v1.7.2\n",
      "\u001b[32m\u001b[1m   Installed\u001b[22m\u001b[39m LabelledArrays ─────────────────── v1.12.4\n",
      "\u001b[32m\u001b[1m   Installed\u001b[22m\u001b[39m StaticArrays ───────────────────── v1.5.9\n",
      "\u001b[32m\u001b[1m   Installed\u001b[22m\u001b[39m Grisu ──────────────────────────── v1.0.2\n",
      "\u001b[32m\u001b[1m   Installed\u001b[22m\u001b[39m Polyester ──────────────────────── v0.6.16\n",
      "\u001b[32m\u001b[1m   Installed\u001b[22m\u001b[39m Optimisers ─────────────────────── v0.2.10\n",
      "\u001b[32m\u001b[1m   Installed\u001b[22m\u001b[39m Xorg_xcb_util_wm_jll ───────────── v0.4.1+1\n",
      "\u001b[32m\u001b[1m   Installed\u001b[22m\u001b[39m Xorg_xcb_util_image_jll ────────── v0.4.0+1\n",
      "\u001b[32m\u001b[1m   Installed\u001b[22m\u001b[39m Formatting ─────────────────────── v0.4.2\n",
      "\u001b[32m\u001b[1m   Installed\u001b[22m\u001b[39m Bijections ─────────────────────── v0.1.4\n",
      "\u001b[32m\u001b[1m   Installed\u001b[22m\u001b[39m PlotUtils ──────────────────────── v1.3.1\n",
      "\u001b[32m\u001b[1m   Installed\u001b[22m\u001b[39m EnumX ──────────────────────────── v1.0.3\n",
      "\u001b[32m\u001b[1m   Installed\u001b[22m\u001b[39m RecipesPipeline ────────────────── v0.6.7\n",
      "\u001b[32m\u001b[1m   Installed\u001b[22m\u001b[39m ColorSchemes ───────────────────── v3.19.0\n",
      "\u001b[32m\u001b[1m   Installed\u001b[22m\u001b[39m DataDrivenDiffEq ───────────────── v0.8.5\n",
      "\u001b[32m\u001b[1m   Installed\u001b[22m\u001b[39m Xorg_libpthread_stubs_jll ──────── v0.1.0+3\n",
      "\u001b[32m\u001b[1m   Installed\u001b[22m\u001b[39m InitialValues ──────────────────── v0.3.1\n",
      "\u001b[32m\u001b[1m   Installed\u001b[22m\u001b[39m OpenSSL ────────────────────────── v1.3.0\n",
      "\u001b[32m\u001b[1m   Installed\u001b[22m\u001b[39m RecursiveArrayTools ────────────── v2.32.0\n",
      "\u001b[32m\u001b[1m   Installed\u001b[22m\u001b[39m FunctionWrappers ───────────────── v1.1.3\n",
      "\u001b[32m\u001b[1m   Installed\u001b[22m\u001b[39m Cairo_jll ──────────────────────── v1.16.1+1\n",
      "\u001b[32m\u001b[1m   Installed\u001b[22m\u001b[39m BFloat16s ──────────────────────── v0.2.0\n",
      "\u001b[32m\u001b[1m   Installed\u001b[22m\u001b[39m HTTP ───────────────────────────── v1.5.1\n",
      "\u001b[32m\u001b[1m   Installed\u001b[22m\u001b[39m Xorg_xcb_util_jll ──────────────── v0.4.0+1\n",
      "\u001b[32m\u001b[1m   Installed\u001b[22m\u001b[39m ThreadsX ───────────────────────── v0.1.11\n",
      "\u001b[32m\u001b[1m   Installed\u001b[22m\u001b[39m Fontconfig_jll ─────────────────── v2.13.93+0\n",
      "\u001b[32m\u001b[1m   Installed\u001b[22m\u001b[39m TriangularSolve ────────────────── v0.1.14\n",
      "\u001b[32m\u001b[1m   Installed\u001b[22m\u001b[39m GPUArrays ──────────────────────── v8.5.0\n",
      "\u001b[32m\u001b[1m   Installed\u001b[22m\u001b[39m CEnum ──────────────────────────── v0.4.2\n",
      "\u001b[32m\u001b[1m   Installed\u001b[22m\u001b[39m RandomNumbers ──────────────────── v1.5.3\n",
      "\u001b[32m\u001b[1m   Installed\u001b[22m\u001b[39m Libgpg_error_jll ───────────────── v1.42.0+0\n",
      "\u001b[32m\u001b[1m   Installed\u001b[22m\u001b[39m Xorg_libxkbfile_jll ────────────── v1.1.0+4\n",
      "\u001b[32m\u001b[1m   Installed\u001b[22m\u001b[39m ArrayInterfaceOffsetArrays ─────── v0.1.6\n",
      "\u001b[32m\u001b[1m   Installed\u001b[22m\u001b[39m Memoize ────────────────────────── v0.4.4\n",
      "\u001b[32m\u001b[1m   Installed\u001b[22m\u001b[39m Xorg_libXinerama_jll ───────────── v1.1.4+4\n",
      "\u001b[32m\u001b[1m   Installed\u001b[22m\u001b[39m ZygoteRules ────────────────────── v0.2.2\n",
      "\u001b[32m\u001b[1m   Installed\u001b[22m\u001b[39m Xorg_libXau_jll ────────────────── v1.0.9+4\n",
      "\u001b[32m\u001b[1m   Installed\u001b[22m\u001b[39m Static ─────────────────────────── v0.7.7\n",
      "\u001b[32m\u001b[1m   Installed\u001b[22m\u001b[39m PrettyPrint ────────────────────── v0.2.0\n",
      "\u001b[32m\u001b[1m   Installed\u001b[22m\u001b[39m SLEEFPirates ───────────────────── v0.6.36\n",
      "\u001b[32m\u001b[1m   Installed\u001b[22m\u001b[39m LeastSquaresOptim ──────────────── v0.8.3\n",
      "\u001b[32m\u001b[1m   Installed\u001b[22m\u001b[39m MLUtils ────────────────────────── v0.2.11\n",
      "\u001b[32m\u001b[1m   Installed\u001b[22m\u001b[39m GR ─────────────────────────────── v0.69.5\n",
      "\u001b[32m\u001b[1m   Installed\u001b[22m\u001b[39m Missings ───────────────────────── v1.0.2\n",
      "\u001b[32m\u001b[1m   Installed\u001b[22m\u001b[39m Distances ──────────────────────── v0.10.7\n",
      "\u001b[32m\u001b[1m   Installed\u001b[22m\u001b[39m Tricks ─────────────────────────── v0.1.6\n",
      "\u001b[32m\u001b[1m   Installed\u001b[22m\u001b[39m FiniteDiff ─────────────────────── v2.15.0\n",
      "\u001b[32m\u001b[1m   Installed\u001b[22m\u001b[39m KrylovKit ──────────────────────── v0.5.4\n",
      "\u001b[32m\u001b[1m   Installed\u001b[22m\u001b[39m EllipsisNotation ───────────────── v1.6.0\n",
      "\u001b[32m\u001b[1m   Installed\u001b[22m\u001b[39m LLVM ───────────────────────────── v4.14.0\n",
      "\u001b[32m\u001b[1m   Installed\u001b[22m\u001b[39m FFMPEG ─────────────────────────── v0.4.1\n",
      "\u001b[32m\u001b[1m   Installed\u001b[22m\u001b[39m RealDot ────────────────────────── v0.1.0\n",
      "\u001b[32m\u001b[1m   Installed\u001b[22m\u001b[39m SIMDTypes ──────────────────────── v0.1.0\n",
      "\u001b[32m\u001b[1m   Installed\u001b[22m\u001b[39m IRTools ────────────────────────── v0.4.7\n",
      "\u001b[32m\u001b[1m   Installed\u001b[22m\u001b[39m IrrationalConstants ────────────── v0.1.1\n",
      "\u001b[32m\u001b[1m   Installed\u001b[22m\u001b[39m AutoHashEquals ─────────────────── v0.2.0\n",
      "\u001b[32m\u001b[1m   Installed\u001b[22m\u001b[39m MuladdMacro ────────────────────── v0.2.3\n",
      "\u001b[32m\u001b[1m   Installed\u001b[22m\u001b[39m ComponentArrays ────────────────── v0.13.4\n",
      "\u001b[32m\u001b[1m   Installed\u001b[22m\u001b[39m Showoff ────────────────────────── v1.0.3\n",
      "\u001b[32m\u001b[1m   Installed\u001b[22m\u001b[39m Functors ───────────────────────── v0.3.0\n",
      "\u001b[32m\u001b[1m   Installed\u001b[22m\u001b[39m ArrayInterfaceTracker ──────────── v0.1.1\n",
      "\u001b[32m\u001b[1m   Installed\u001b[22m\u001b[39m MultivariatePolynomials ────────── v0.4.6\n",
      "\u001b[32m\u001b[1m   Installed\u001b[22m\u001b[39m ArnoldiMethod ──────────────────── v0.2.0\n",
      "\u001b[32m\u001b[1m   Installed\u001b[22m\u001b[39m SciMLBase ──────────────────────── v1.65.0\n",
      "\u001b[32m\u001b[1m   Installed\u001b[22m\u001b[39m OptimizationOptimisers ─────────── v0.1.0\n",
      "\u001b[32m\u001b[1m   Installed\u001b[22m\u001b[39m CpuId ──────────────────────────── v0.3.1\n",
      "\u001b[32m\u001b[1m   Installed\u001b[22m\u001b[39m FLoopsBase ─────────────────────── v0.1.1\n",
      "\u001b[32m\u001b[1m   Installed\u001b[22m\u001b[39m CompositeTypes ─────────────────── v0.1.2\n",
      "\u001b[32m\u001b[1m   Installed\u001b[22m\u001b[39m DiffEqBase ─────────────────────── v6.105.2\n",
      "\u001b[32m\u001b[1m   Installed\u001b[22m\u001b[39m Qt5Base_jll ────────────────────── v5.15.3+1\n",
      "\u001b[32m\u001b[1m   Installed\u001b[22m\u001b[39m LinearSolve ────────────────────── v1.27.1\n",
      "\u001b[32m\u001b[1m   Installed\u001b[22m\u001b[39m xkbcommon_jll ──────────────────── v1.4.1+0\n",
      "\u001b[32m\u001b[1m   Installed\u001b[22m\u001b[39m Bzip2_jll ──────────────────────── v1.0.8+0\n",
      "\u001b[32m\u001b[1m   Installed\u001b[22m\u001b[39m NLsolve ────────────────────────── v4.5.1\n",
      "\u001b[32m\u001b[1m   Installed\u001b[22m\u001b[39m Xorg_xcb_util_keysyms_jll ──────── v0.4.0+1\n",
      "\u001b[32m\u001b[1m   Installed\u001b[22m\u001b[39m SpecialFunctions ───────────────── v2.1.7\n",
      "\u001b[32m\u001b[1m   Installed\u001b[22m\u001b[39m Symbolics ──────────────────────── v4.13.0\n",
      "\u001b[32m\u001b[1m   Installed\u001b[22m\u001b[39m Pipe ───────────────────────────── v1.3.0\n",
      "\u001b[32m\u001b[1m   Installed\u001b[22m\u001b[39m SimpleBufferStream ─────────────── v1.1.0\n",
      "\u001b[32m\u001b[1m   Installed\u001b[22m\u001b[39m ProgressLogging ────────────────── v0.1.4\n",
      "\u001b[32m\u001b[1m   Installed\u001b[22m\u001b[39m HarfBuzz_jll ───────────────────── v2.8.1+1\n",
      "\u001b[32m\u001b[1m   Installed\u001b[22m\u001b[39m IfElse ─────────────────────────── v0.1.1\n",
      "\u001b[32m\u001b[1m   Installed\u001b[22m\u001b[39m Enzyme ─────────────────────────── v0.10.12\n",
      "\u001b[32m\u001b[1m   Installed\u001b[22m\u001b[39m PlotThemes ─────────────────────── v3.1.0\n",
      "\u001b[32m\u001b[1m   Installed\u001b[22m\u001b[39m OrdinaryDiffEq ─────────────────── v6.29.3\n",
      "\u001b[32m\u001b[1m   Installed\u001b[22m\u001b[39m DiffEqNoiseProcess ─────────────── v5.14.0\n",
      "\u001b[32m\u001b[1m   Installed\u001b[22m\u001b[39m Lux ────────────────────────────── v0.4.31\n",
      "\u001b[32m\u001b[1m   Installed\u001b[22m\u001b[39m ArrayInterfaceGPUArrays ────────── v0.2.2\n",
      "\u001b[32m\u001b[1m   Installed\u001b[22m\u001b[39m StaticArraysCore ───────────────── v1.4.0\n",
      "\u001b[32m\u001b[1m   Installed\u001b[22m\u001b[39m OneHotArrays ───────────────────── v0.1.0\n",
      "\u001b[32m\u001b[1m   Installed\u001b[22m\u001b[39m Literate ───────────────────────── v2.14.0\n",
      "\u001b[32m\u001b[1m   Installed\u001b[22m\u001b[39m Zygote ─────────────────────────── v0.6.49\n",
      "\u001b[32m\u001b[1m   Installed\u001b[22m\u001b[39m NaNMath ────────────────────────── v1.0.1\n",
      "\u001b[32m\u001b[1m   Installed\u001b[22m\u001b[39m ArrayInterfaceCore ─────────────── v0.1.23\n",
      "\u001b[32m\u001b[1m   Installed\u001b[22m\u001b[39m CommonMark ─────────────────────── v0.8.6\n",
      "\u001b[32m\u001b[1m   Installed\u001b[22m\u001b[39m DefineSingletons ───────────────── v0.1.2\n",
      "\u001b[32m\u001b[1m   Installed\u001b[22m\u001b[39m LZO_jll ────────────────────────── v2.10.1+0\n",
      "\u001b[32m\u001b[1m   Installed\u001b[22m\u001b[39m MicroCollections ───────────────── v0.1.3\n",
      "\u001b[32m\u001b[1m   Installed\u001b[22m\u001b[39m NameResolution ─────────────────── v0.1.5\n",
      "\u001b[32m\u001b[1m   Installed\u001b[22m\u001b[39m UnsafeAtomicsLLVM ──────────────── v0.1.0\n",
      "\u001b[32m\u001b[1m   Installed\u001b[22m\u001b[39m fzf_jll ────────────────────────── v0.29.0+0\n",
      "\u001b[32m\u001b[1m   Installed\u001b[22m\u001b[39m ThreadingUtilities ─────────────── v0.5.0\n",
      "\u001b[32m\u001b[1m   Installed\u001b[22m\u001b[39m TranscodingStreams ─────────────── v0.9.9\n",
      "\u001b[32m\u001b[1m   Installed\u001b[22m\u001b[39m FriBidi_jll ────────────────────── v1.0.10+0\n",
      "\u001b[32m\u001b[1m   Installed\u001b[22m\u001b[39m Random123 ──────────────────────── v1.6.0\n",
      "\u001b[32m\u001b[1m   Installed\u001b[22m\u001b[39m SnoopPrecompile ────────────────── v1.0.1\n",
      "\u001b[32m\u001b[1m   Installed\u001b[22m\u001b[39m NLSolversBase ──────────────────── v7.8.2\n",
      "\u001b[32m\u001b[1m   Installed\u001b[22m\u001b[39m JumpProcesses ──────────────────── v9.2.1\n",
      "\u001b[32m\u001b[1m   Installed\u001b[22m\u001b[39m ManualMemory ───────────────────── v0.1.8\n",
      "\u001b[32m\u001b[1m   Installed\u001b[22m\u001b[39m UnicodeFun ─────────────────────── v0.4.1\n",
      "\u001b[32m\u001b[1m   Installed\u001b[22m\u001b[39m LevyArea ───────────────────────── v1.0.0\n",
      "\u001b[32m\u001b[1m   Installed\u001b[22m\u001b[39m x264_jll ───────────────────────── v2021.5.5+0\n",
      "\u001b[32m\u001b[1m   Installed\u001b[22m\u001b[39m Rmath_jll ──────────────────────── v0.3.0+0\n",
      "\u001b[32m\u001b[1m   Installed\u001b[22m\u001b[39m GLFW_jll ───────────────────────── v3.3.8+0\n",
      "\u001b[32m\u001b[1m   Installed\u001b[22m\u001b[39m MbedTLS ────────────────────────── v1.1.7\n",
      "\u001b[32m\u001b[1m   Installed\u001b[22m\u001b[39m Graphs ─────────────────────────── v1.7.4\n",
      "\u001b[32m\u001b[1m   Installed\u001b[22m\u001b[39m Groebner ───────────────────────── v0.2.10\n",
      "\u001b[32m\u001b[1m   Installed\u001b[22m\u001b[39m LeftChildRightSiblingTrees ─────── v0.2.0\n",
      "\u001b[32m\u001b[1m   Installed\u001b[22m\u001b[39m JLFzf ──────────────────────────── v0.1.5\n",
      "\u001b[32m\u001b[1m   Installed\u001b[22m\u001b[39m FreeType2_jll ──────────────────── v2.10.4+0\n",
      "\u001b[32m\u001b[1m   Installed\u001b[22m\u001b[39m ChainRules ─────────────────────── v1.44.7\n",
      "\u001b[32m\u001b[1m   Installed\u001b[22m\u001b[39m DataStructures ─────────────────── v0.18.13\n",
      "\u001b[32m\u001b[1m   Installed\u001b[22m\u001b[39m CommonSubexpressions ───────────── v0.3.0\n",
      "\u001b[32m\u001b[1m   Installed\u001b[22m\u001b[39m Colors ─────────────────────────── v0.12.8\n",
      "\u001b[32m\u001b[1m   Installed\u001b[22m\u001b[39m OptimizationOptimJL ────────────── v0.1.4\n",
      "\u001b[32m\u001b[1m   Installed\u001b[22m\u001b[39m MLStyle ────────────────────────── v0.4.14\n",
      "\u001b[32m\u001b[1m   Installed\u001b[22m\u001b[39m ExprTools ──────────────────────── v0.1.8\n",
      "\u001b[32m\u001b[1m   Installed\u001b[22m\u001b[39m BangBang ───────────────────────── v0.3.37\n",
      "\u001b[32m\u001b[1m   Installed\u001b[22m\u001b[39m StatsAPI ───────────────────────── v1.5.0\n",
      "\u001b[32m\u001b[1m   Installed\u001b[22m\u001b[39m Compat ─────────────────────────── v4.3.0\n",
      "\u001b[32m\u001b[1m   Installed\u001b[22m\u001b[39m Lazy ───────────────────────────── v0.15.1\n",
      "\u001b[32m\u001b[1m   Installed\u001b[22m\u001b[39m Tracker ────────────────────────── v0.2.22\n",
      "\u001b[32m\u001b[1m   Installed\u001b[22m\u001b[39m Glob ───────────────────────────── v1.3.0\n",
      "\u001b[32m\u001b[1m   Installed\u001b[22m\u001b[39m CodecZlib ──────────────────────── v0.7.0\n",
      "\u001b[32m\u001b[1m   Installed\u001b[22m\u001b[39m Xorg_libxcb_jll ────────────────── v1.13.0+3\n",
      "\u001b[32m\u001b[1m   Installed\u001b[22m\u001b[39m libaom_jll ─────────────────────── v3.4.0+0\n",
      "\u001b[32m\u001b[1m   Installed\u001b[22m\u001b[39m libpng_jll ─────────────────────── v1.6.38+0\n",
      "\u001b[32m\u001b[1m   Installed\u001b[22m\u001b[39m RegularizationTools ────────────── v0.6.0\n",
      "\u001b[32m\u001b[1m   Installed\u001b[22m\u001b[39m FLoops ─────────────────────────── v0.2.1\n",
      "\u001b[32m\u001b[1m   Installed\u001b[22m\u001b[39m StatsBase ──────────────────────── v0.33.21\n",
      "\u001b[32m\u001b[1m   Installed\u001b[22m\u001b[39m ModelingToolkit ────────────────── v8.29.1\n",
      "\u001b[32m\u001b[1m   Installed\u001b[22m\u001b[39m BitTwiddlingConvenienceFunctions ─ v0.1.4\n",
      "\u001b[32m\u001b[1m   Installed\u001b[22m\u001b[39m Scratch ────────────────────────── v1.1.1\n",
      "\u001b[32m\u001b[1m   Installed\u001b[22m\u001b[39m DynamicPolynomials ─────────────── v0.4.5\n",
      "\u001b[32m\u001b[1m   Installed\u001b[22m\u001b[39m DistributionsAD ────────────────── v0.6.43\n",
      "\u001b[32m\u001b[1m   Installed\u001b[22m\u001b[39m ColorTypes ─────────────────────── v0.11.4\n",
      "\u001b[32m\u001b[1m   Installed\u001b[22m\u001b[39m DiffRules ──────────────────────── v1.12.0\n",
      "\u001b[32m\u001b[1m   Installed\u001b[22m\u001b[39m FunctionWrappersWrappers ───────── v0.1.1\n",
      "\u001b[32m\u001b[1m   Installed\u001b[22m\u001b[39m GenericSchur ───────────────────── v0.5.3\n",
      "\u001b[32m\u001b[1m   Installed\u001b[22m\u001b[39m StochasticDiffEq ───────────────── v6.55.0\n",
      "\u001b[32m\u001b[1m   Installed\u001b[22m\u001b[39m Plots ──────────────────────────── v1.35.5\n",
      "\u001b[32m\u001b[1m   Installed\u001b[22m\u001b[39m OptimizationFlux ───────────────── v0.1.1\n",
      "\u001b[32m\u001b[1m   Installed\u001b[22m\u001b[39m Flux ───────────────────────────── v0.13.6\n",
      "\u001b[32m\u001b[1m   Installed\u001b[22m\u001b[39m LayoutPointers ─────────────────── v0.1.11\n",
      "\u001b[32m\u001b[1m   Installed\u001b[22m\u001b[39m Xorg_libXext_jll ───────────────── v1.3.4+4\n",
      "\u001b[32m\u001b[1m   Installed\u001b[22m\u001b[39m ArgCheck ───────────────────────── v2.3.0\n",
      "\u001b[32m\u001b[1m   Installed\u001b[22m\u001b[39m CUDAKernels ────────────────────── v0.4.3\n",
      "\u001b[32m\u001b[1m   Installed\u001b[22m\u001b[39m Zstd_jll ───────────────────────── v1.5.2+0\n",
      "\u001b[32m\u001b[1m   Installed\u001b[22m\u001b[39m TableTraits ────────────────────── v1.0.1\n",
      "\u001b[32m\u001b[1m   Installed\u001b[22m\u001b[39m Inflate ────────────────────────── v0.1.3\n",
      "\u001b[32m\u001b[1m   Installed\u001b[22m\u001b[39m TensorCore ─────────────────────── v0.1.1\n",
      "\u001b[32m\u001b[1m   Installed\u001b[22m\u001b[39m DiffResults ────────────────────── v1.1.0\n",
      "\u001b[32m\u001b[1m   Installed\u001b[22m\u001b[39m Expat_jll ──────────────────────── v2.4.8+0\n",
      "\u001b[32m\u001b[1m   Installed\u001b[22m\u001b[39m OptimizationPolyalgorithms ─────── v0.1.1\n",
      "\u001b[32m\u001b[1m   Installed\u001b[22m\u001b[39m PositiveFactorizations ─────────── v0.2.4\n",
      "\u001b[32m\u001b[1m   Installed\u001b[22m\u001b[39m DiffEqCallbacks ────────────────── v2.24.2\n",
      "\u001b[32m\u001b[1m   Installed\u001b[22m\u001b[39m Libtiff_jll ────────────────────── v4.4.0+0\n",
      "\u001b[32m\u001b[1m   Installed\u001b[22m\u001b[39m AbstractFFTs ───────────────────── v1.2.1\n",
      "\u001b[32m\u001b[1m   Installed\u001b[22m\u001b[39m Setfield ───────────────────────── v1.1.1\n",
      "\u001b[32m\u001b[1m   Installed\u001b[22m\u001b[39m ArrayInterfaceStaticArraysCore ─── v0.1.3\n",
      "\u001b[32m\u001b[1m   Installed\u001b[22m\u001b[39m LoopVectorization ──────────────── v0.12.136\n",
      "\u001b[32m\u001b[1m   Installed\u001b[22m\u001b[39m EnzymeCore ─────────────────────── v0.1.0\n",
      "\u001b[32m\u001b[1m   Installed\u001b[22m\u001b[39m Measurements ───────────────────── v2.8.0\n",
      "\u001b[32m\u001b[1m   Installed\u001b[22m\u001b[39m Tokenize ───────────────────────── v0.5.24\n",
      "\u001b[32m\u001b[1m   Installed\u001b[22m\u001b[39m ColorVectorSpace ───────────────── v0.9.9\n",
      "\u001b[32m\u001b[1m   Installed\u001b[22m\u001b[39m ConstructionBase ───────────────── v1.4.1\n",
      "\u001b[32m\u001b[1m   Installed\u001b[22m\u001b[39m LambertW ───────────────────────── v0.4.5\n",
      "\u001b[32m\u001b[1m   Installed\u001b[22m\u001b[39m DataValueInterfaces ────────────── v1.0.0\n",
      "\u001b[32m\u001b[1m   Installed\u001b[22m\u001b[39m LLVMExtra_jll ──────────────────── v0.0.16+0\n",
      "\u001b[32m\u001b[1m   Installed\u001b[22m\u001b[39m Libffi_jll ─────────────────────── v3.2.2+1\n",
      "\u001b[32m\u001b[1m   Installed\u001b[22m\u001b[39m Xorg_libXrender_jll ────────────── v0.9.10+4\n",
      "\u001b[32m\u001b[1m   Installed\u001b[22m\u001b[39m AbstractTrees ──────────────────── v0.4.3\n",
      "\u001b[32m\u001b[1m   Installed\u001b[22m\u001b[39m OrderedCollections ─────────────── v1.4.1\n",
      "\u001b[32m\u001b[1m   Installed\u001b[22m\u001b[39m ChainRulesCore ─────────────────── v1.15.6\n",
      "\u001b[32m\u001b[1m   Installed\u001b[22m\u001b[39m Ogg_jll ────────────────────────── v1.3.5+1\n",
      "\u001b[32m\u001b[1m   Installed\u001b[22m\u001b[39m FastClosures ───────────────────── v0.3.2\n",
      "\u001b[32m\u001b[1m   Installed\u001b[22m\u001b[39m XSLT_jll ───────────────────────── v1.1.34+0\n",
      "\u001b[32m\u001b[1m   Installed\u001b[22m\u001b[39m Xorg_libXi_jll ─────────────────── v1.7.10+4\n",
      "\u001b[32m\u001b[1m   Installed\u001b[22m\u001b[39m Combinatorics ──────────────────── v1.0.2\n",
      "\u001b[32m\u001b[1m   Installed\u001b[22m\u001b[39m TerminalLoggers ────────────────── v0.1.6\n",
      "\u001b[32m\u001b[1m   Installed\u001b[22m\u001b[39m PolyesterWeave ─────────────────── v0.1.10\n",
      "\u001b[32m\u001b[1m   Installed\u001b[22m\u001b[39m Reexport ───────────────────────── v1.2.2\n",
      "\u001b[32m\u001b[1m   Installed\u001b[22m\u001b[39m LineSearches ───────────────────── v7.2.0\n",
      "\u001b[32m\u001b[1m   Installed\u001b[22m\u001b[39m ArrayInterface ─────────────────── v6.0.23\n",
      "\u001b[32m\u001b[1m   Installed\u001b[22m\u001b[39m CloseOpenIntervals ─────────────── v0.1.10\n",
      "\u001b[32m\u001b[1m   Installed\u001b[22m\u001b[39m PreallocationTools ─────────────── v0.4.4\n",
      "\u001b[32m\u001b[1m   Installed\u001b[22m\u001b[39m KLU ────────────────────────────── v0.4.0\n",
      "\u001b[32m\u001b[1m   Installed\u001b[22m\u001b[39m FastLapackInterface ────────────── v1.2.7\n",
      "\u001b[32m\u001b[1m   Installed\u001b[22m\u001b[39m LogExpFunctions ────────────────── v0.3.18\n",
      "\u001b[32m\u001b[1m   Installed\u001b[22m\u001b[39m GroupsCore ─────────────────────── v0.4.0\n",
      "\u001b[32m\u001b[1m   Installed\u001b[22m\u001b[39m KernelAbstractions ─────────────── v0.8.4\n",
      "\u001b[32m\u001b[1m   Installed\u001b[22m\u001b[39m CompositionsBase ───────────────── v0.1.1\n",
      "\u001b[32m\u001b[1m   Installed\u001b[22m\u001b[39m OpenSpecFun_jll ────────────────── v0.5.5+0\n",
      "\u001b[32m\u001b[1m   Installed\u001b[22m\u001b[39m Xorg_libXcursor_jll ────────────── v1.2.0+4\n",
      "\u001b[32m\u001b[1m   Installed\u001b[22m\u001b[39m UnPack ─────────────────────────── v1.0.2\n",
      "\u001b[32m\u001b[1m   Installed\u001b[22m\u001b[39m UnsafeAtomics ──────────────────── v0.2.1\n",
      "\u001b[32m\u001b[1m   Installed\u001b[22m\u001b[39m Krylov ─────────────────────────── v0.8.4\n",
      "\u001b[32m\u001b[1m   Installed\u001b[22m\u001b[39m Libuuid_jll ────────────────────── v2.36.0+0\n",
      "\u001b[32m\u001b[1m   Installed\u001b[22m\u001b[39m SimpleTraits ───────────────────── v0.9.4\n",
      "\u001b[32m\u001b[1m   Installed\u001b[22m\u001b[39m JuliaVariables ─────────────────── v0.2.4\n",
      "\u001b[32m\u001b[1m   Installed\u001b[22m\u001b[39m InverseFunctions ───────────────── v0.1.8\n",
      "\u001b[32m\u001b[1m   Installed\u001b[22m\u001b[39m DocStringExtensions ────────────── v0.9.2\n",
      "\u001b[32m\u001b[1m   Installed\u001b[22m\u001b[39m Atomix ─────────────────────────── v0.1.0\n",
      "\u001b[32m\u001b[1m   Installed\u001b[22m\u001b[39m CommonSolve ────────────────────── v0.2.3\n",
      "\u001b[32m\u001b[1m   Installed\u001b[22m\u001b[39m GPUArraysCore ──────────────────── v0.1.2\n",
      "\u001b[32m\u001b[1m   Installed\u001b[22m\u001b[39m Xorg_xcb_util_renderutil_jll ───── v0.3.9+1\n",
      "\u001b[32m\u001b[1m   Installed\u001b[22m\u001b[39m Wayland_protocols_jll ──────────── v1.25.0+0\n",
      "\u001b[32m\u001b[1m   Installed\u001b[22m\u001b[39m ExponentialUtilities ───────────── v1.21.0\n",
      "\u001b[32m\u001b[1m   Installed\u001b[22m\u001b[39m RandomExtensions ───────────────── v0.4.3\n",
      "\u001b[32m\u001b[1m   Installed\u001b[22m\u001b[39m Crayons ────────────────────────── v4.1.1\n",
      "\u001b[32m\u001b[1m   Installed\u001b[22m\u001b[39m Transducers ────────────────────── v0.4.74\n",
      "\u001b[32m\u001b[1m   Installed\u001b[22m\u001b[39m ArrayInterfaceStaticArrays ─────── v0.1.4\n",
      "\u001b[32m\u001b[1m   Installed\u001b[22m\u001b[39m Pixman_jll ─────────────────────── v0.40.1+0\n",
      "\u001b[32m\u001b[1m   Installed\u001b[22m\u001b[39m Graphite2_jll ──────────────────── v1.3.14+0\n",
      "\u001b[32m\u001b[1m   Installed\u001b[22m\u001b[39m Adapt ──────────────────────────── v3.4.0\n",
      "\u001b[32m\u001b[1m   Installed\u001b[22m\u001b[39m XML2_jll ───────────────────────── v2.9.14+0\n",
      "\u001b[32m\u001b[1m   Installed\u001b[22m\u001b[39m libass_jll ─────────────────────── v0.15.1+0\n",
      "\u001b[32m\u001b[1m   Installed\u001b[22m\u001b[39m IntegerMathUtils ───────────────── v0.1.0\n",
      "\u001b[32m\u001b[1m   Installed\u001b[22m\u001b[39m VectorizationBase ──────────────── v0.21.54\n",
      "\u001b[32m\u001b[1m   Installed\u001b[22m\u001b[39m DualNumbers ────────────────────── v0.6.8\n",
      "\u001b[32m\u001b[1m   Installed\u001b[22m\u001b[39m StrideArraysCore ───────────────── v0.3.15\n",
      "\u001b[32m\u001b[1m   Installed\u001b[22m\u001b[39m Rmath ──────────────────────────── v0.7.0\n",
      "\u001b[32m\u001b[1m   Installed\u001b[22m\u001b[39m IntervalSets ───────────────────── v0.7.3\n",
      "\u001b[32m\u001b[1m   Installed\u001b[22m\u001b[39m Gettext_jll ────────────────────── v0.21.0+0\n",
      "\u001b[32m\u001b[1m   Installed\u001b[22m\u001b[39m Wayland_jll ────────────────────── v1.19.0+0\n",
      "\u001b[32m\u001b[1m   Installed\u001b[22m\u001b[39m Latexify ───────────────────────── v0.15.17\n",
      "\u001b[32m\u001b[1m   Installed\u001b[22m\u001b[39m Xorg_xtrans_jll ────────────────── v1.4.0+3\n",
      "\u001b[32m\u001b[1m   Installed\u001b[22m\u001b[39m Cassette ───────────────────────── v0.3.10\n",
      "\u001b[32m\u001b[1m   Installed\u001b[22m\u001b[39m RuntimeGeneratedFunctions ──────── v0.5.4\n",
      "\u001b[32m\u001b[1m   Installed\u001b[22m\u001b[39m GPUCompiler ────────────────────── v0.16.4\n",
      "\u001b[32m\u001b[1m   Installed\u001b[22m\u001b[39m Optimization ───────────────────── v3.9.2\n",
      "\u001b[32m\u001b[1m   Installed\u001b[22m\u001b[39m FFMPEG_jll ─────────────────────── v4.4.2+2\n",
      "\u001b[32m\u001b[1m   Installed\u001b[22m\u001b[39m IOCapture ──────────────────────── v0.2.2\n",
      "\u001b[32m\u001b[1m   Installed\u001b[22m\u001b[39m OpenSSL_jll ────────────────────── v1.1.17+0\n",
      "\u001b[32m\u001b[1m   Installed\u001b[22m\u001b[39m Libgcrypt_jll ──────────────────── v1.8.7+0\n",
      "\u001b[32m\u001b[1m   Installed\u001b[22m\u001b[39m CPUSummary ─────────────────────── v0.1.27\n",
      "\u001b[32m\u001b[1m   Installed\u001b[22m\u001b[39m BitFlags ───────────────────────── v0.1.5\n",
      "\u001b[32m\u001b[1m   Installed\u001b[22m\u001b[39m FoldsThreads ───────────────────── v0.1.1\n",
      "\u001b[32m\u001b[1m   Installed\u001b[22m\u001b[39m Optim ──────────────────────────── v1.7.3\n",
      "\u001b[32m\u001b[1m   Installed\u001b[22m\u001b[39m Xorg_xkeyboard_config_jll ──────── v2.27.0+4\n",
      "\u001b[32m\u001b[1m   Installed\u001b[22m\u001b[39m Underscores ────────────────────── v3.0.0\n",
      "\u001b[32m\u001b[1m   Installed\u001b[22m\u001b[39m TermInterface ──────────────────── v0.2.3\n",
      "\u001b[32m\u001b[1m   Installed\u001b[22m\u001b[39m DataAPI ────────────────────────── v1.12.0\n",
      "\u001b[32m\u001b[1m   Installed\u001b[22m\u001b[39m VertexSafeGraphs ───────────────── v0.2.0\n",
      "\u001b[32m\u001b[1m   Installed\u001b[22m\u001b[39m Tables ─────────────────────────── v1.10.0\n",
      "\u001b[32m\u001b[1m   Installed\u001b[22m\u001b[39m FixedPointNumbers ──────────────── v0.8.4\n",
      "\u001b[32m\u001b[1m   Installed\u001b[22m\u001b[39m Xorg_libXfixes_jll ─────────────── v5.0.3+4\n",
      "\u001b[32m\u001b[1m   Installed\u001b[22m\u001b[39m RecipesBase ────────────────────── v1.3.1\n",
      "\u001b[32m\u001b[1m   Installed\u001b[22m\u001b[39m LAME_jll ───────────────────────── v3.100.1+0\n",
      "\u001b[32m\u001b[1m   Installed\u001b[22m\u001b[39m Xorg_libXrandr_jll ─────────────── v1.5.2+4\n",
      "\u001b[32m\u001b[1m   Installed\u001b[22m\u001b[39m Baselet ────────────────────────── v0.1.1\n",
      "\u001b[32m\u001b[1m   Installed\u001b[22m\u001b[39m Primes ─────────────────────────── v0.5.3\n",
      "\u001b[32m\u001b[1m   Installed\u001b[22m\u001b[39m IterativeSolvers ───────────────── v0.9.2\n",
      "\u001b[32m\u001b[1m   Installed\u001b[22m\u001b[39m StructIO ───────────────────────── v0.3.0\n",
      "\u001b[32m\u001b[1m   Installed\u001b[22m\u001b[39m IteratorInterfaceExtensions ────── v1.0.0\n",
      "\u001b[32m\u001b[1m   Installed\u001b[22m\u001b[39m IniFile ────────────────────────── v0.5.1\n",
      "\u001b[32m\u001b[1m   Installed\u001b[22m\u001b[39m SymbolicUtils ──────────────────── v0.19.11\n",
      "\u001b[32m\u001b[1m   Installed\u001b[22m\u001b[39m ReverseDiff ────────────────────── v1.14.4\n",
      "\u001b[32m\u001b[1m   Installed\u001b[22m\u001b[39m Libiconv_jll ───────────────────── v1.16.1+1\n",
      "\u001b[32m\u001b[1m   Installed\u001b[22m\u001b[39m DataInterpolations ─────────────── v3.10.1\n",
      "\u001b[32m\u001b[1m   Installed\u001b[22m\u001b[39m StructArrays ───────────────────── v0.6.13\n",
      "\u001b[32m\u001b[1m   Installed\u001b[22m\u001b[39m HostCPUFeatures ────────────────── v0.1.8\n",
      "\u001b[32m\u001b[1m   Installed\u001b[22m\u001b[39m URIs ───────────────────────────── v1.4.0\n",
      "\u001b[32m\u001b[1m   Installed\u001b[22m\u001b[39m AbstractAlgebra ────────────────── v0.27.6\n",
      "\u001b[32m\u001b[1m   Installed\u001b[22m\u001b[39m PoissonRandom ──────────────────── v0.4.2\n",
      "\u001b[32m\u001b[1m   Installed\u001b[22m\u001b[39m Glib_jll ───────────────────────── v2.74.0+1\n",
      "\u001b[32m\u001b[1m   Installed\u001b[22m\u001b[39m LaTeXStrings ───────────────────── v1.3.0\n",
      "\u001b[32m\u001b[1m   Installed\u001b[22m\u001b[39m libvorbis_jll ──────────────────── v1.3.7+1\n",
      "\u001b[32m\u001b[1m   Installed\u001b[22m\u001b[39m Libglvnd_jll ───────────────────── v1.3.0+3\n",
      "\u001b[32m\u001b[1m   Installed\u001b[22m\u001b[39m ResettableStacks ───────────────── v1.1.1\n",
      "\u001b[32m\u001b[1m   Installed\u001b[22m\u001b[39m SplittablesBase ────────────────── v0.1.15\n",
      "\u001b[32m\u001b[1m   Installed\u001b[22m\u001b[39m QuadGK ─────────────────────────── v2.6.0\n",
      "\u001b[32m\u001b[1m   Installed\u001b[22m\u001b[39m ForwardDiff ────────────────────── v0.10.32\n",
      "\u001b[32m\u001b[1m   Installed\u001b[22m\u001b[39m DiffEqFlux ─────────────────────── v1.52.0\n",
      "\u001b[32m\u001b[1m   Installed\u001b[22m\u001b[39m FillArrays ─────────────────────── v0.13.5\n",
      "\u001b[32m\u001b[1m   Installed\u001b[22m\u001b[39m Xorg_libX11_jll ────────────────── v1.6.9+4\n",
      "\u001b[32m\u001b[1m   Installed\u001b[22m\u001b[39m FastBroadcast ──────────────────── v0.2.1\n",
      "\u001b[32m\u001b[1m   Installed\u001b[22m\u001b[39m Requires ───────────────────────── v1.3.0\n",
      "\u001b[32m\u001b[1m   Installed\u001b[22m\u001b[39m Xorg_libXdmcp_jll ──────────────── v1.1.3+4\n",
      "\u001b[32m\u001b[1m   Installed\u001b[22m\u001b[39m Metatheory ─────────────────────── v1.3.5\n",
      "\u001b[32m\u001b[1m   Installed\u001b[22m\u001b[39m ObjectFile ─────────────────────── v0.3.7\n",
      "\u001b[32m\u001b[1m   Installed\u001b[22m\u001b[39m SortingAlgorithms ──────────────── v1.0.1\n",
      "\u001b[32m\u001b[1m   Installed\u001b[22m\u001b[39m Distributions ──────────────────── v0.25.76\n",
      "\u001b[32m\u001b[1m   Installed\u001b[22m\u001b[39m Parameters ─────────────────────── v0.12.3\n",
      "\u001b[32m\u001b[1m   Installed\u001b[22m\u001b[39m RecursiveFactorization ─────────── v0.2.12\n",
      "\u001b[32m\u001b[1m   Installed\u001b[22m\u001b[39m CSTParser ──────────────────────── v3.3.6\n",
      "\u001b[32m\u001b[1m   Installed\u001b[22m\u001b[39m Unzip ──────────────────────────── v0.2.0\n",
      "\u001b[32m\u001b[1m   Installed\u001b[22m\u001b[39m SparseDiffTools ────────────────── v1.29.0\n",
      "\u001b[32m\u001b[1m   Installed\u001b[22m\u001b[39m ChangesOfVariables ─────────────── v0.1.4\n",
      "\u001b[32m\u001b[1m   Installed\u001b[22m\u001b[39m CUDA ───────────────────────────── v3.12.0\n",
      "\u001b[32m\u001b[1m   Installed\u001b[22m\u001b[39m DensityInterface ───────────────── v0.4.0\n",
      "\u001b[32m\u001b[1m    Updating\u001b[22m\u001b[39m `~/work/Julia-for-SciML/Julia-for-SciML/hands-on/ude/Project.toml`\n",
      " \u001b[90m [b0b7db55] \u001b[39m\u001b[92m+ ComponentArrays v0.13.4\u001b[39m\n",
      " \u001b[90m [2445eb08] \u001b[39m\u001b[92m+ DataDrivenDiffEq v0.8.5\u001b[39m\n",
      " \u001b[90m [aae7a2af] \u001b[39m\u001b[92m+ DiffEqFlux v1.52.0\u001b[39m\n",
      " \u001b[90m [31c24e10] \u001b[39m\u001b[92m+ Distributions v0.25.76\u001b[39m\n",
      " \u001b[90m [587475ba] \u001b[39m\u001b[92m+ Flux v0.13.6\u001b[39m\n",
      " \u001b[90m [b2108857] \u001b[39m\u001b[92m+ Lux v0.4.31\u001b[39m\n",
      " \u001b[90m [961ee093] \u001b[39m\u001b[92m+ ModelingToolkit v8.29.1\u001b[39m\n",
      " \u001b[90m [7f7a1694] \u001b[39m\u001b[92m+ Optimization v3.9.2\u001b[39m\n",
      " \u001b[90m [500b13db] \u001b[39m\u001b[92m+ OptimizationPolyalgorithms v0.1.1\u001b[39m\n",
      " \u001b[90m [1dea7af3] \u001b[39m\u001b[92m+ OrdinaryDiffEq v6.29.3\u001b[39m\n",
      " \u001b[90m [91a5bcdd] \u001b[39m\u001b[92m+ Plots v1.35.5\u001b[39m\n",
      "\u001b[32m\u001b[1m    Updating\u001b[22m\u001b[39m `~/work/Julia-for-SciML/Julia-for-SciML/hands-on/ude/Manifest.toml`\n",
      " \u001b[90m [c3fe647b] \u001b[39m\u001b[92m+ AbstractAlgebra v0.27.6\u001b[39m\n",
      " \u001b[90m [621f4979] \u001b[39m\u001b[92m+ AbstractFFTs v1.2.1\u001b[39m\n",
      " \u001b[90m [1520ce14] \u001b[39m\u001b[92m+ AbstractTrees v0.4.3\u001b[39m\n",
      " \u001b[90m [7d9f7c33] \u001b[39m\u001b[92m+ Accessors v0.1.20\u001b[39m\n",
      " \u001b[90m [79e6a3ab] \u001b[39m\u001b[92m+ Adapt v3.4.0\u001b[39m\n",
      " \u001b[90m [dce04be8] \u001b[39m\u001b[92m+ ArgCheck v2.3.0\u001b[39m\n",
      " \u001b[90m [ec485272] \u001b[39m\u001b[92m+ ArnoldiMethod v0.2.0\u001b[39m\n",
      " \u001b[90m [4fba245c] \u001b[39m\u001b[92m+ ArrayInterface v6.0.23\u001b[39m\n",
      " \u001b[90m [30b0a656] \u001b[39m\u001b[92m+ ArrayInterfaceCore v0.1.23\u001b[39m\n",
      " \u001b[90m [6ba088a2] \u001b[39m\u001b[92m+ ArrayInterfaceGPUArrays v0.2.2\u001b[39m\n",
      " \u001b[90m [015c0d05] \u001b[39m\u001b[92m+ ArrayInterfaceOffsetArrays v0.1.6\u001b[39m\n",
      " \u001b[90m [b0d46f97] \u001b[39m\u001b[92m+ ArrayInterfaceStaticArrays v0.1.4\u001b[39m\n",
      " \u001b[90m [dd5226c6] \u001b[39m\u001b[92m+ ArrayInterfaceStaticArraysCore v0.1.3\u001b[39m\n",
      " \u001b[90m [a2b0951a] \u001b[39m\u001b[92m+ ArrayInterfaceTracker v0.1.1\u001b[39m\n",
      " \u001b[90m [a9b6321e] \u001b[39m\u001b[92m+ Atomix v0.1.0\u001b[39m\n",
      " \u001b[90m [15f4f7f2] \u001b[39m\u001b[92m+ AutoHashEquals v0.2.0\u001b[39m\n",
      "\u001b[33m⌅\u001b[39m\u001b[90m [ab4f0b2a] \u001b[39m\u001b[92m+ BFloat16s v0.2.0\u001b[39m\n",
      " \u001b[90m [198e06fe] \u001b[39m\u001b[92m+ BangBang v0.3.37\u001b[39m\n",
      " \u001b[90m [9718e550] \u001b[39m\u001b[92m+ Baselet v0.1.1\u001b[39m\n",
      " \u001b[90m [e2ed5e7c] \u001b[39m\u001b[92m+ Bijections v0.1.4\u001b[39m\n",
      " \u001b[90m [d1d4a3ce] \u001b[39m\u001b[92m+ BitFlags v0.1.5\u001b[39m\n",
      " \u001b[90m [62783981] \u001b[39m\u001b[92m+ BitTwiddlingConvenienceFunctions v0.1.4\u001b[39m\n",
      " \u001b[90m [fa961155] \u001b[39m\u001b[92m+ CEnum v0.4.2\u001b[39m\n",
      " \u001b[90m [2a0fbf3d] \u001b[39m\u001b[92m+ CPUSummary v0.1.27\u001b[39m\n",
      " \u001b[90m [00ebfdb7] \u001b[39m\u001b[92m+ CSTParser v3.3.6\u001b[39m\n",
      " \u001b[90m [052768ef] \u001b[39m\u001b[92m+ CUDA v3.12.0\u001b[39m\n",
      " \u001b[90m [72cfdca4] \u001b[39m\u001b[92m+ CUDAKernels v0.4.3\u001b[39m\n",
      " \u001b[90m [49dc2e85] \u001b[39m\u001b[92m+ Calculus v0.5.1\u001b[39m\n",
      " \u001b[90m [7057c7e9] \u001b[39m\u001b[92m+ Cassette v0.3.10\u001b[39m\n",
      " \u001b[90m [082447d4] \u001b[39m\u001b[92m+ ChainRules v1.44.7\u001b[39m\n",
      " \u001b[90m [d360d2e6] \u001b[39m\u001b[92m+ ChainRulesCore v1.15.6\u001b[39m\n",
      " \u001b[90m [9e997f8a] \u001b[39m\u001b[92m+ ChangesOfVariables v0.1.4\u001b[39m\n",
      " \u001b[90m [fb6a15b2] \u001b[39m\u001b[92m+ CloseOpenIntervals v0.1.10\u001b[39m\n",
      " \u001b[90m [944b1d66] \u001b[39m\u001b[92m+ CodecZlib v0.7.0\u001b[39m\n",
      " \u001b[90m [35d6a980] \u001b[39m\u001b[92m+ ColorSchemes v3.19.0\u001b[39m\n",
      " \u001b[90m [3da002f7] \u001b[39m\u001b[92m+ ColorTypes v0.11.4\u001b[39m\n",
      " \u001b[90m [c3611d14] \u001b[39m\u001b[92m+ ColorVectorSpace v0.9.9\u001b[39m\n",
      " \u001b[90m [5ae59095] \u001b[39m\u001b[92m+ Colors v0.12.8\u001b[39m\n",
      " \u001b[90m [861a8166] \u001b[39m\u001b[92m+ Combinatorics v1.0.2\u001b[39m\n",
      " \u001b[90m [a80b9123] \u001b[39m\u001b[92m+ CommonMark v0.8.6\u001b[39m\n",
      " \u001b[90m [38540f10] \u001b[39m\u001b[92m+ CommonSolve v0.2.3\u001b[39m\n",
      " \u001b[90m [bbf7d656] \u001b[39m\u001b[92m+ CommonSubexpressions v0.3.0\u001b[39m\n",
      " \u001b[90m [34da2185] \u001b[39m\u001b[92m+ Compat v4.3.0\u001b[39m\n",
      " \u001b[90m [b0b7db55] \u001b[39m\u001b[92m+ ComponentArrays v0.13.4\u001b[39m\n",
      " \u001b[90m [b152e2b5] \u001b[39m\u001b[92m+ CompositeTypes v0.1.2\u001b[39m\n",
      " \u001b[90m [a33af91c] \u001b[39m\u001b[92m+ CompositionsBase v0.1.1\u001b[39m\n",
      " \u001b[90m [88cd18e8] \u001b[39m\u001b[92m+ ConsoleProgressMonitor v0.1.2\u001b[39m\n",
      " \u001b[90m [187b0558] \u001b[39m\u001b[92m+ ConstructionBase v1.4.1\u001b[39m\n",
      " \u001b[90m [6add18c4] \u001b[39m\u001b[92m+ ContextVariablesX v0.1.3\u001b[39m\n",
      " \u001b[90m [d38c429a] \u001b[39m\u001b[92m+ Contour v0.6.2\u001b[39m\n",
      " \u001b[90m [adafc99b] \u001b[39m\u001b[92m+ CpuId v0.3.1\u001b[39m\n",
      " \u001b[90m [a8cc5b0e] \u001b[39m\u001b[92m+ Crayons v4.1.1\u001b[39m\n",
      " \u001b[90m [9a962f9c] \u001b[39m\u001b[92m+ DataAPI v1.12.0\u001b[39m\n",
      " \u001b[90m [2445eb08] \u001b[39m\u001b[92m+ DataDrivenDiffEq v0.8.5\u001b[39m\n",
      " \u001b[90m [82cc6244] \u001b[39m\u001b[92m+ DataInterpolations v3.10.1\u001b[39m\n",
      " \u001b[90m [864edb3b] \u001b[39m\u001b[92m+ DataStructures v0.18.13\u001b[39m\n",
      " \u001b[90m [e2d170a0] \u001b[39m\u001b[92m+ DataValueInterfaces v1.0.0\u001b[39m\n",
      " \u001b[90m [244e2a9f] \u001b[39m\u001b[92m+ DefineSingletons v0.1.2\u001b[39m\n",
      " \u001b[90m [b429d917] \u001b[39m\u001b[92m+ DensityInterface v0.4.0\u001b[39m\n",
      " \u001b[90m [2b5f629d] \u001b[39m\u001b[92m+ DiffEqBase v6.105.2\u001b[39m\n",
      " \u001b[90m [459566f4] \u001b[39m\u001b[92m+ DiffEqCallbacks v2.24.2\u001b[39m\n",
      " \u001b[90m [aae7a2af] \u001b[39m\u001b[92m+ DiffEqFlux v1.52.0\u001b[39m\n",
      " \u001b[90m [77a26b50] \u001b[39m\u001b[92m+ DiffEqNoiseProcess v5.14.0\u001b[39m\n",
      " \u001b[90m [163ba53b] \u001b[39m\u001b[92m+ DiffResults v1.1.0\u001b[39m\n",
      " \u001b[90m [b552c78f] \u001b[39m\u001b[92m+ DiffRules v1.12.0\u001b[39m\n",
      " \u001b[90m [b4f34e82] \u001b[39m\u001b[92m+ Distances v0.10.7\u001b[39m\n",
      " \u001b[90m [31c24e10] \u001b[39m\u001b[92m+ Distributions v0.25.76\u001b[39m\n",
      " \u001b[90m [ced4e74d] \u001b[39m\u001b[92m+ DistributionsAD v0.6.43\u001b[39m\n",
      " \u001b[90m [ffbed154] \u001b[39m\u001b[92m+ DocStringExtensions v0.9.2\u001b[39m\n",
      " \u001b[90m [5b8099bc] \u001b[39m\u001b[92m+ DomainSets v0.5.14\u001b[39m\n",
      " \u001b[90m [fa6b7ba4] \u001b[39m\u001b[92m+ DualNumbers v0.6.8\u001b[39m\n",
      " \u001b[90m [7c1d4256] \u001b[39m\u001b[92m+ DynamicPolynomials v0.4.5\u001b[39m\n",
      " \u001b[90m [da5c29d0] \u001b[39m\u001b[92m+ EllipsisNotation v1.6.0\u001b[39m\n",
      " \u001b[90m [4e289a0a] \u001b[39m\u001b[92m+ EnumX v1.0.3\u001b[39m\n",
      " \u001b[90m [7da242da] \u001b[39m\u001b[92m+ Enzyme v0.10.12\u001b[39m\n",
      " \u001b[90m [f151be2c] \u001b[39m\u001b[92m+ EnzymeCore v0.1.0\u001b[39m\n",
      " \u001b[90m [d4d017d3] \u001b[39m\u001b[92m+ ExponentialUtilities v1.21.0\u001b[39m\n",
      " \u001b[90m [e2ba6199] \u001b[39m\u001b[92m+ ExprTools v0.1.8\u001b[39m\n",
      " \u001b[90m [c87230d0] \u001b[39m\u001b[92m+ FFMPEG v0.4.1\u001b[39m\n",
      " \u001b[90m [cc61a311] \u001b[39m\u001b[92m+ FLoops v0.2.1\u001b[39m\n",
      " \u001b[90m [b9860ae5] \u001b[39m\u001b[92m+ FLoopsBase v0.1.1\u001b[39m\n",
      " \u001b[90m [7034ab61] \u001b[39m\u001b[92m+ FastBroadcast v0.2.1\u001b[39m\n",
      " \u001b[90m [9aa1b823] \u001b[39m\u001b[92m+ FastClosures v0.3.2\u001b[39m\n",
      " \u001b[90m [29a986be] \u001b[39m\u001b[92m+ FastLapackInterface v1.2.7\u001b[39m\n",
      " \u001b[90m [1a297f60] \u001b[39m\u001b[92m+ FillArrays v0.13.5\u001b[39m\n",
      " \u001b[90m [6a86dc24] \u001b[39m\u001b[92m+ FiniteDiff v2.15.0\u001b[39m\n",
      " \u001b[90m [53c48c17] \u001b[39m\u001b[92m+ FixedPointNumbers v0.8.4\u001b[39m\n",
      " \u001b[90m [587475ba] \u001b[39m\u001b[92m+ Flux v0.13.6\u001b[39m\n",
      " \u001b[90m [9c68100b] \u001b[39m\u001b[92m+ FoldsThreads v0.1.1\u001b[39m\n",
      " \u001b[90m [59287772] \u001b[39m\u001b[92m+ Formatting v0.4.2\u001b[39m\n",
      " \u001b[90m [f6369f11] \u001b[39m\u001b[92m+ ForwardDiff v0.10.32\u001b[39m\n",
      " \u001b[90m [069b7b12] \u001b[39m\u001b[92m+ FunctionWrappers v1.1.3\u001b[39m\n",
      " \u001b[90m [77dc65aa] \u001b[39m\u001b[92m+ FunctionWrappersWrappers v0.1.1\u001b[39m\n",
      " \u001b[90m [d9f16b24] \u001b[39m\u001b[92m+ Functors v0.3.0\u001b[39m\n",
      " \u001b[90m [0c68f7d7] \u001b[39m\u001b[92m+ GPUArrays v8.5.0\u001b[39m\n",
      " \u001b[90m [46192b85] \u001b[39m\u001b[92m+ GPUArraysCore v0.1.2\u001b[39m\n",
      " \u001b[90m [61eb1bfa] \u001b[39m\u001b[92m+ GPUCompiler v0.16.4\u001b[39m\n",
      " \u001b[90m [28b8d3ca] \u001b[39m\u001b[92m+ GR v0.69.5\u001b[39m\n",
      " \u001b[90m [c145ed77] \u001b[39m\u001b[92m+ GenericSchur v0.5.3\u001b[39m\n",
      " \u001b[90m [c27321d9] \u001b[39m\u001b[92m+ Glob v1.3.0\u001b[39m\n",
      " \u001b[90m [86223c79] \u001b[39m\u001b[92m+ Graphs v1.7.4\u001b[39m\n",
      " \u001b[90m [42e2da0e] \u001b[39m\u001b[92m+ Grisu v1.0.2\u001b[39m\n",
      " \u001b[90m [0b43b601] \u001b[39m\u001b[92m+ Groebner v0.2.10\u001b[39m\n",
      " \u001b[90m [d5909c97] \u001b[39m\u001b[92m+ GroupsCore v0.4.0\u001b[39m\n",
      " \u001b[90m [cd3eb016] \u001b[39m\u001b[92m+ HTTP v1.5.1\u001b[39m\n",
      " \u001b[90m [3e5b6fbb] \u001b[39m\u001b[92m+ HostCPUFeatures v0.1.8\u001b[39m\n",
      " \u001b[90m [34004b35] \u001b[39m\u001b[92m+ HypergeometricFunctions v0.3.11\u001b[39m\n",
      " \u001b[90m [b5f81e59] \u001b[39m\u001b[92m+ IOCapture v0.2.2\u001b[39m\n",
      " \u001b[90m [7869d1d1] \u001b[39m\u001b[92m+ IRTools v0.4.7\u001b[39m\n",
      " \u001b[90m [615f187c] \u001b[39m\u001b[92m+ IfElse v0.1.1\u001b[39m\n",
      " \u001b[90m [d25df0c9] \u001b[39m\u001b[92m+ Inflate v0.1.3\u001b[39m\n",
      " \u001b[90m [83e8ac13] \u001b[39m\u001b[92m+ IniFile v0.5.1\u001b[39m\n",
      " \u001b[90m [22cec73e] \u001b[39m\u001b[92m+ InitialValues v0.3.1\u001b[39m\n",
      " \u001b[90m [18e54dd8] \u001b[39m\u001b[92m+ IntegerMathUtils v0.1.0\u001b[39m\n",
      " \u001b[90m [8197267c] \u001b[39m\u001b[92m+ IntervalSets v0.7.3\u001b[39m\n",
      " \u001b[90m [3587e190] \u001b[39m\u001b[92m+ InverseFunctions v0.1.8\u001b[39m\n",
      " \u001b[90m [92d709cd] \u001b[39m\u001b[92m+ IrrationalConstants v0.1.1\u001b[39m\n",
      " \u001b[90m [42fd0dbc] \u001b[39m\u001b[92m+ IterativeSolvers v0.9.2\u001b[39m\n",
      " \u001b[90m [82899510] \u001b[39m\u001b[92m+ IteratorInterfaceExtensions v1.0.0\u001b[39m\n",
      " \u001b[90m [1019f520] \u001b[39m\u001b[92m+ JLFzf v0.1.5\u001b[39m\n",
      " \u001b[90m [692b3bcd] \u001b[39m\u001b[92m+ JLLWrappers v1.4.1\u001b[39m\n",
      " \u001b[90m [682c06a0] \u001b[39m\u001b[92m+ JSON v0.21.3\u001b[39m\n",
      " \u001b[90m [98e50ef6] \u001b[39m\u001b[92m+ JuliaFormatter v1.0.14\u001b[39m\n",
      " \u001b[90m [b14d175d] \u001b[39m\u001b[92m+ JuliaVariables v0.2.4\u001b[39m\n",
      " \u001b[90m [ccbc3e58] \u001b[39m\u001b[92m+ JumpProcesses v9.2.1\u001b[39m\n",
      " \u001b[90m [ef3ab10e] \u001b[39m\u001b[92m+ KLU v0.4.0\u001b[39m\n",
      " \u001b[90m [63c18a36] \u001b[39m\u001b[92m+ KernelAbstractions v0.8.4\u001b[39m\n",
      " \u001b[90m [ba0b0d4f] \u001b[39m\u001b[92m+ Krylov v0.8.4\u001b[39m\n",
      " \u001b[90m [0b1a1467] \u001b[39m\u001b[92m+ KrylovKit v0.5.4\u001b[39m\n",
      " \u001b[90m [929cbde3] \u001b[39m\u001b[92m+ LLVM v4.14.0\u001b[39m\n",
      " \u001b[90m [b964fa9f] \u001b[39m\u001b[92m+ LaTeXStrings v1.3.0\u001b[39m\n",
      " \u001b[90m [2ee39098] \u001b[39m\u001b[92m+ LabelledArrays v1.12.4\u001b[39m\n",
      " \u001b[90m [984bce1d] \u001b[39m\u001b[92m+ LambertW v0.4.5\u001b[39m\n",
      " \u001b[90m [23fbe1c1] \u001b[39m\u001b[92m+ Latexify v0.15.17\u001b[39m\n",
      " \u001b[90m [10f19ff3] \u001b[39m\u001b[92m+ LayoutPointers v0.1.11\u001b[39m\n",
      " \u001b[90m [50d2b5c4] \u001b[39m\u001b[92m+ Lazy v0.15.1\u001b[39m\n",
      " \u001b[90m [0fc2ff8b] \u001b[39m\u001b[92m+ LeastSquaresOptim v0.8.3\u001b[39m\n",
      " \u001b[90m [1d6d02ad] \u001b[39m\u001b[92m+ LeftChildRightSiblingTrees v0.2.0\u001b[39m\n",
      " \u001b[90m [2d8b4e74] \u001b[39m\u001b[92m+ LevyArea v1.0.0\u001b[39m\n",
      " \u001b[90m [d3d80556] \u001b[39m\u001b[92m+ LineSearches v7.2.0\u001b[39m\n",
      " \u001b[90m [7ed4a6bd] \u001b[39m\u001b[92m+ LinearSolve v1.27.1\u001b[39m\n",
      " \u001b[90m [98b081ad] \u001b[39m\u001b[92m+ Literate v2.14.0\u001b[39m\n",
      " \u001b[90m [2ab3a3ac] \u001b[39m\u001b[92m+ LogExpFunctions v0.3.18\u001b[39m\n",
      " \u001b[90m [e6f89c97] \u001b[39m\u001b[92m+ LoggingExtras v0.4.9\u001b[39m\n",
      " \u001b[90m [bdcacae8] \u001b[39m\u001b[92m+ LoopVectorization v0.12.136\u001b[39m\n",
      " \u001b[90m [b2108857] \u001b[39m\u001b[92m+ Lux v0.4.31\u001b[39m\n",
      " \u001b[90m [82251201] \u001b[39m\u001b[92m+ LuxLib v0.1.6\u001b[39m\n",
      " \u001b[90m [d8e11817] \u001b[39m\u001b[92m+ MLStyle v0.4.14\u001b[39m\n",
      " \u001b[90m [f1d291b0] \u001b[39m\u001b[92m+ MLUtils v0.2.11\u001b[39m\n",
      " \u001b[90m [1914dd2f] \u001b[39m\u001b[92m+ MacroTools v0.5.10\u001b[39m\n",
      " \u001b[90m [d125e4d3] \u001b[39m\u001b[92m+ ManualMemory v0.1.8\u001b[39m\n",
      " \u001b[90m [739be429] \u001b[39m\u001b[92m+ MbedTLS v1.1.7\u001b[39m\n",
      " \u001b[90m [eff96d63] \u001b[39m\u001b[92m+ Measurements v2.8.0\u001b[39m\n",
      " \u001b[90m [442fdcdd] \u001b[39m\u001b[92m+ Measures v0.3.1\u001b[39m\n",
      " \u001b[90m [c03570c3] \u001b[39m\u001b[92m+ Memoize v0.4.4\u001b[39m\n",
      " \u001b[90m [e9d8d322] \u001b[39m\u001b[92m+ Metatheory v1.3.5\u001b[39m\n",
      " \u001b[90m [128add7d] \u001b[39m\u001b[92m+ MicroCollections v0.1.3\u001b[39m\n",
      " \u001b[90m [e1d29d7a] \u001b[39m\u001b[92m+ Missings v1.0.2\u001b[39m\n",
      " \u001b[90m [961ee093] \u001b[39m\u001b[92m+ ModelingToolkit v8.29.1\u001b[39m\n",
      " \u001b[90m [46d2c3a1] \u001b[39m\u001b[92m+ MuladdMacro v0.2.3\u001b[39m\n",
      " \u001b[90m [102ac46a] \u001b[39m\u001b[92m+ MultivariatePolynomials v0.4.6\u001b[39m\n",
      " \u001b[90m [d8a4904e] \u001b[39m\u001b[92m+ MutableArithmetics v1.0.5\u001b[39m\n",
      " \u001b[90m [d41bc354] \u001b[39m\u001b[92m+ NLSolversBase v7.8.2\u001b[39m\n",
      " \u001b[90m [2774e3e8] \u001b[39m\u001b[92m+ NLsolve v4.5.1\u001b[39m\n",
      " \u001b[90m [872c559c] \u001b[39m\u001b[92m+ NNlib v0.8.9\u001b[39m\n",
      " \u001b[90m [a00861dc] \u001b[39m\u001b[92m+ NNlibCUDA v0.2.4\u001b[39m\n",
      " \u001b[90m [77ba4419] \u001b[39m\u001b[92m+ NaNMath v1.0.1\u001b[39m\n",
      " \u001b[90m [71a1bf82] \u001b[39m\u001b[92m+ NameResolution v0.1.5\u001b[39m\n",
      " \u001b[90m [8913a72c] \u001b[39m\u001b[92m+ NonlinearSolve v0.3.22\u001b[39m\n",
      " \u001b[90m [d8793406] \u001b[39m\u001b[92m+ ObjectFile v0.3.7\u001b[39m\n",
      " \u001b[90m [6fe1bfb0] \u001b[39m\u001b[92m+ OffsetArrays v1.12.8\u001b[39m\n",
      " \u001b[90m [0b1bfda6] \u001b[39m\u001b[92m+ OneHotArrays v0.1.0\u001b[39m\n",
      " \u001b[90m [4d8831e6] \u001b[39m\u001b[92m+ OpenSSL v1.3.0\u001b[39m\n",
      " \u001b[90m [429524aa] \u001b[39m\u001b[92m+ Optim v1.7.3\u001b[39m\n",
      " \u001b[90m [3bd65402] \u001b[39m\u001b[92m+ Optimisers v0.2.10\u001b[39m\n",
      " \u001b[90m [7f7a1694] \u001b[39m\u001b[92m+ Optimization v3.9.2\u001b[39m\n",
      " \u001b[90m [253f991c] \u001b[39m\u001b[92m+ OptimizationFlux v0.1.1\u001b[39m\n",
      " \u001b[90m [36348300] \u001b[39m\u001b[92m+ OptimizationOptimJL v0.1.4\u001b[39m\n",
      " \u001b[90m [42dfb2eb] \u001b[39m\u001b[92m+ OptimizationOptimisers v0.1.0\u001b[39m\n",
      " \u001b[90m [500b13db] \u001b[39m\u001b[92m+ OptimizationPolyalgorithms v0.1.1\u001b[39m\n",
      " \u001b[90m [bac558e1] \u001b[39m\u001b[92m+ OrderedCollections v1.4.1\u001b[39m\n",
      " \u001b[90m [1dea7af3] \u001b[39m\u001b[92m+ OrdinaryDiffEq v6.29.3\u001b[39m\n",
      " \u001b[90m [90014a1f] \u001b[39m\u001b[92m+ PDMats v0.11.16\u001b[39m\n",
      " \u001b[90m [d96e819e] \u001b[39m\u001b[92m+ Parameters v0.12.3\u001b[39m\n",
      " \u001b[90m [69de0a69] \u001b[39m\u001b[92m+ Parsers v2.4.2\u001b[39m\n",
      " \u001b[90m [b98c9c47] \u001b[39m\u001b[92m+ Pipe v1.3.0\u001b[39m\n",
      " \u001b[90m [ccf2f8ad] \u001b[39m\u001b[92m+ PlotThemes v3.1.0\u001b[39m\n",
      " \u001b[90m [995b91a9] \u001b[39m\u001b[92m+ PlotUtils v1.3.1\u001b[39m\n",
      " \u001b[90m [91a5bcdd] \u001b[39m\u001b[92m+ Plots v1.35.5\u001b[39m\n",
      " \u001b[90m [e409e4f3] \u001b[39m\u001b[92m+ PoissonRandom v0.4.2\u001b[39m\n",
      " \u001b[90m [f517fe37] \u001b[39m\u001b[92m+ Polyester v0.6.16\u001b[39m\n",
      " \u001b[90m [1d0040c9] \u001b[39m\u001b[92m+ PolyesterWeave v0.1.10\u001b[39m\n",
      " \u001b[90m [85a6dd25] \u001b[39m\u001b[92m+ PositiveFactorizations v0.2.4\u001b[39m\n",
      " \u001b[90m [d236fae5] \u001b[39m\u001b[92m+ PreallocationTools v0.4.4\u001b[39m\n",
      " \u001b[90m [21216c6a] \u001b[39m\u001b[92m+ Preferences v1.3.0\u001b[39m\n",
      " \u001b[90m [8162dcfd] \u001b[39m\u001b[92m+ PrettyPrint v0.2.0\u001b[39m\n",
      " \u001b[90m [27ebfcd6] \u001b[39m\u001b[92m+ Primes v0.5.3\u001b[39m\n",
      " \u001b[90m [33c8b6b6] \u001b[39m\u001b[92m+ ProgressLogging v0.1.4\u001b[39m\n",
      " \u001b[90m [92933f4c] \u001b[39m\u001b[92m+ ProgressMeter v1.7.2\u001b[39m\n",
      " \u001b[90m [1fd47b50] \u001b[39m\u001b[92m+ QuadGK v2.6.0\u001b[39m\n",
      " \u001b[90m [74087812] \u001b[39m\u001b[92m+ Random123 v1.6.0\u001b[39m\n",
      " \u001b[90m [fb686558] \u001b[39m\u001b[92m+ RandomExtensions v0.4.3\u001b[39m\n",
      " \u001b[90m [e6cf234a] \u001b[39m\u001b[92m+ RandomNumbers v1.5.3\u001b[39m\n",
      " \u001b[90m [c1ae055f] \u001b[39m\u001b[92m+ RealDot v0.1.0\u001b[39m\n",
      " \u001b[90m [3cdcf5f2] \u001b[39m\u001b[92m+ RecipesBase v1.3.1\u001b[39m\n",
      " \u001b[90m [01d81517] \u001b[39m\u001b[92m+ RecipesPipeline v0.6.7\u001b[39m\n",
      " \u001b[90m [731186ca] \u001b[39m\u001b[92m+ RecursiveArrayTools v2.32.0\u001b[39m\n",
      " \u001b[90m [f2c3362d] \u001b[39m\u001b[92m+ RecursiveFactorization v0.2.12\u001b[39m\n",
      " \u001b[90m [189a3867] \u001b[39m\u001b[92m+ Reexport v1.2.2\u001b[39m\n",
      " \u001b[90m [42d2dcc6] \u001b[39m\u001b[92m+ Referenceables v0.1.2\u001b[39m\n",
      " \u001b[90m [29dad682] \u001b[39m\u001b[92m+ RegularizationTools v0.6.0\u001b[39m\n",
      " \u001b[90m [05181044] \u001b[39m\u001b[92m+ RelocatableFolders v1.0.0\u001b[39m\n",
      " \u001b[90m [ae029012] \u001b[39m\u001b[92m+ Requires v1.3.0\u001b[39m\n",
      " \u001b[90m [ae5879a3] \u001b[39m\u001b[92m+ ResettableStacks v1.1.1\u001b[39m\n",
      " \u001b[90m [37e2e3b7] \u001b[39m\u001b[92m+ ReverseDiff v1.14.4\u001b[39m\n",
      " \u001b[90m [79098fc4] \u001b[39m\u001b[92m+ Rmath v0.7.0\u001b[39m\n",
      " \u001b[90m [7e49a35a] \u001b[39m\u001b[92m+ RuntimeGeneratedFunctions v0.5.4\u001b[39m\n",
      " \u001b[90m [3cdde19b] \u001b[39m\u001b[92m+ SIMDDualNumbers v0.1.1\u001b[39m\n",
      " \u001b[90m [94e857df] \u001b[39m\u001b[92m+ SIMDTypes v0.1.0\u001b[39m\n",
      " \u001b[90m [476501e8] \u001b[39m\u001b[92m+ SLEEFPirates v0.6.36\u001b[39m\n",
      " \u001b[90m [0bca4576] \u001b[39m\u001b[92m+ SciMLBase v1.65.0\u001b[39m\n",
      " \u001b[90m [1ed8b502] \u001b[39m\u001b[92m+ SciMLSensitivity v7.10.2\u001b[39m\n",
      " \u001b[90m [6c6a2e73] \u001b[39m\u001b[92m+ Scratch v1.1.1\u001b[39m\n",
      " \u001b[90m [efcf1570] \u001b[39m\u001b[92m+ Setfield v1.1.1\u001b[39m\n",
      " \u001b[90m [605ecd9f] \u001b[39m\u001b[92m+ ShowCases v0.1.0\u001b[39m\n",
      " \u001b[90m [992d4aef] \u001b[39m\u001b[92m+ Showoff v1.0.3\u001b[39m\n",
      " \u001b[90m [777ac1f9] \u001b[39m\u001b[92m+ SimpleBufferStream v1.1.0\u001b[39m\n",
      " \u001b[90m [699a6c99] \u001b[39m\u001b[92m+ SimpleTraits v0.9.4\u001b[39m\n",
      " \u001b[90m [66db9d55] \u001b[39m\u001b[92m+ SnoopPrecompile v1.0.1\u001b[39m\n",
      " \u001b[90m [a2af1166] \u001b[39m\u001b[92m+ SortingAlgorithms v1.0.1\u001b[39m\n",
      " \u001b[90m [47a9eef4] \u001b[39m\u001b[92m+ SparseDiffTools v1.29.0\u001b[39m\n",
      " \u001b[90m [276daf66] \u001b[39m\u001b[92m+ SpecialFunctions v2.1.7\u001b[39m\n",
      " \u001b[90m [171d559e] \u001b[39m\u001b[92m+ SplittablesBase v0.1.15\u001b[39m\n",
      " \u001b[90m [aedffcd0] \u001b[39m\u001b[92m+ Static v0.7.7\u001b[39m\n",
      " \u001b[90m [90137ffa] \u001b[39m\u001b[92m+ StaticArrays v1.5.9\u001b[39m\n",
      " \u001b[90m [1e83bf80] \u001b[39m\u001b[92m+ StaticArraysCore v1.4.0\u001b[39m\n",
      " \u001b[90m [82ae8749] \u001b[39m\u001b[92m+ StatsAPI v1.5.0\u001b[39m\n",
      " \u001b[90m [2913bbd2] \u001b[39m\u001b[92m+ StatsBase v0.33.21\u001b[39m\n",
      " \u001b[90m [4c63d2b9] \u001b[39m\u001b[92m+ StatsFuns v1.0.1\u001b[39m\n",
      " \u001b[90m [789caeaf] \u001b[39m\u001b[92m+ StochasticDiffEq v6.55.0\u001b[39m\n",
      " \u001b[90m [7792a7ef] \u001b[39m\u001b[92m+ StrideArraysCore v0.3.15\u001b[39m\n",
      " \u001b[90m [09ab397b] \u001b[39m\u001b[92m+ StructArrays v0.6.13\u001b[39m\n",
      " \u001b[90m [53d494c1] \u001b[39m\u001b[92m+ StructIO v0.3.0\u001b[39m\n",
      " \u001b[90m [d1185830] \u001b[39m\u001b[92m+ SymbolicUtils v0.19.11\u001b[39m\n",
      " \u001b[90m [0c5d862f] \u001b[39m\u001b[92m+ Symbolics v4.13.0\u001b[39m\n",
      " \u001b[90m [3783bdb8] \u001b[39m\u001b[92m+ TableTraits v1.0.1\u001b[39m\n",
      " \u001b[90m [bd369af6] \u001b[39m\u001b[92m+ Tables v1.10.0\u001b[39m\n",
      " \u001b[90m [62fd8b95] \u001b[39m\u001b[92m+ TensorCore v0.1.1\u001b[39m\n",
      "\u001b[33m⌅\u001b[39m\u001b[90m [8ea1fca8] \u001b[39m\u001b[92m+ TermInterface v0.2.3\u001b[39m\n",
      " \u001b[90m [5d786b92] \u001b[39m\u001b[92m+ TerminalLoggers v0.1.6\u001b[39m\n",
      " \u001b[90m [8290d209] \u001b[39m\u001b[92m+ ThreadingUtilities v0.5.0\u001b[39m\n",
      " \u001b[90m [ac1d9e8a] \u001b[39m\u001b[92m+ ThreadsX v0.1.11\u001b[39m\n",
      " \u001b[90m [a759f4b9] \u001b[39m\u001b[92m+ TimerOutputs v0.5.21\u001b[39m\n",
      " \u001b[90m [0796e94c] \u001b[39m\u001b[92m+ Tokenize v0.5.24\u001b[39m\n",
      " \u001b[90m [9f7883ad] \u001b[39m\u001b[92m+ Tracker v0.2.22\u001b[39m\n",
      " \u001b[90m [3bb67fe8] \u001b[39m\u001b[92m+ TranscodingStreams v0.9.9\u001b[39m\n",
      " \u001b[90m [28d57a85] \u001b[39m\u001b[92m+ Transducers v0.4.74\u001b[39m\n",
      " \u001b[90m [a2a6695c] \u001b[39m\u001b[92m+ TreeViews v0.3.0\u001b[39m\n",
      " \u001b[90m [d5829a12] \u001b[39m\u001b[92m+ TriangularSolve v0.1.14\u001b[39m\n",
      " \u001b[90m [410a4b4d] \u001b[39m\u001b[92m+ Tricks v0.1.6\u001b[39m\n",
      " \u001b[90m [5c2747f8] \u001b[39m\u001b[92m+ URIs v1.4.0\u001b[39m\n",
      " \u001b[90m [3a884ed6] \u001b[39m\u001b[92m+ UnPack v1.0.2\u001b[39m\n",
      " \u001b[90m [d9a01c3f] \u001b[39m\u001b[92m+ Underscores v3.0.0\u001b[39m\n",
      " \u001b[90m [1cfade01] \u001b[39m\u001b[92m+ UnicodeFun v0.4.1\u001b[39m\n",
      " \u001b[90m [1986cc42] \u001b[39m\u001b[92m+ Unitful v1.12.0\u001b[39m\n",
      " \u001b[90m [013be700] \u001b[39m\u001b[92m+ UnsafeAtomics v0.2.1\u001b[39m\n",
      " \u001b[90m [d80eeb9a] \u001b[39m\u001b[92m+ UnsafeAtomicsLLVM v0.1.0\u001b[39m\n",
      " \u001b[90m [41fe7b60] \u001b[39m\u001b[92m+ Unzip v0.2.0\u001b[39m\n",
      " \u001b[90m [3d5dd08c] \u001b[39m\u001b[92m+ VectorizationBase v0.21.54\u001b[39m\n",
      " \u001b[90m [19fa3120] \u001b[39m\u001b[92m+ VertexSafeGraphs v0.2.0\u001b[39m\n",
      " \u001b[90m [e88e6eb3] \u001b[39m\u001b[92m+ Zygote v0.6.49\u001b[39m\n",
      " \u001b[90m [700de1a5] \u001b[39m\u001b[92m+ ZygoteRules v0.2.2\u001b[39m\n",
      " \u001b[90m [6e34b625] \u001b[39m\u001b[92m+ Bzip2_jll v1.0.8+0\u001b[39m\n",
      " \u001b[90m [83423d85] \u001b[39m\u001b[92m+ Cairo_jll v1.16.1+1\u001b[39m\n",
      "\u001b[33m⌅\u001b[39m\u001b[90m [7cc45869] \u001b[39m\u001b[92m+ Enzyme_jll v0.0.43+0\u001b[39m\n",
      " \u001b[90m [2e619515] \u001b[39m\u001b[92m+ Expat_jll v2.4.8+0\u001b[39m\n",
      " \u001b[90m [b22a6f82] \u001b[39m\u001b[92m+ FFMPEG_jll v4.4.2+2\u001b[39m\n",
      " \u001b[90m [a3f928ae] \u001b[39m\u001b[92m+ Fontconfig_jll v2.13.93+0\u001b[39m\n",
      " \u001b[90m [d7e528f0] \u001b[39m\u001b[92m+ FreeType2_jll v2.10.4+0\u001b[39m\n",
      " \u001b[90m [559328eb] \u001b[39m\u001b[92m+ FriBidi_jll v1.0.10+0\u001b[39m\n",
      " \u001b[90m [0656b61e] \u001b[39m\u001b[92m+ GLFW_jll v3.3.8+0\u001b[39m\n",
      " \u001b[90m [d2c73de3] \u001b[39m\u001b[92m+ GR_jll v0.69.1+0\u001b[39m\n",
      " \u001b[90m [78b55507] \u001b[39m\u001b[92m+ Gettext_jll v0.21.0+0\u001b[39m\n",
      " \u001b[90m [7746bdde] \u001b[39m\u001b[92m+ Glib_jll v2.74.0+1\u001b[39m\n",
      " \u001b[90m [3b182d85] \u001b[39m\u001b[92m+ Graphite2_jll v1.3.14+0\u001b[39m\n",
      " \u001b[90m [2e76f6c2] \u001b[39m\u001b[92m+ HarfBuzz_jll v2.8.1+1\u001b[39m\n",
      " \u001b[90m [aacddb02] \u001b[39m\u001b[92m+ JpegTurbo_jll v2.1.2+0\u001b[39m\n",
      " \u001b[90m [c1c5ebd0] \u001b[39m\u001b[92m+ LAME_jll v3.100.1+0\u001b[39m\n",
      " \u001b[90m [88015f11] \u001b[39m\u001b[92m+ LERC_jll v3.0.0+1\u001b[39m\n",
      " \u001b[90m [dad2f222] \u001b[39m\u001b[92m+ LLVMExtra_jll v0.0.16+0\u001b[39m\n",
      " \u001b[90m [dd4b983a] \u001b[39m\u001b[92m+ LZO_jll v2.10.1+0\u001b[39m\n",
      " \u001b[90m [e9f186c6] \u001b[39m\u001b[92m+ Libffi_jll v3.2.2+1\u001b[39m\n",
      " \u001b[90m [d4300ac3] \u001b[39m\u001b[92m+ Libgcrypt_jll v1.8.7+0\u001b[39m\n",
      " \u001b[90m [7e76a0d4] \u001b[39m\u001b[92m+ Libglvnd_jll v1.3.0+3\u001b[39m\n",
      " \u001b[90m [7add5ba3] \u001b[39m\u001b[92m+ Libgpg_error_jll v1.42.0+0\u001b[39m\n",
      " \u001b[90m [94ce4f54] \u001b[39m\u001b[92m+ Libiconv_jll v1.16.1+1\u001b[39m\n",
      " \u001b[90m [4b2f31a3] \u001b[39m\u001b[92m+ Libmount_jll v2.35.0+0\u001b[39m\n",
      " \u001b[90m [89763e89] \u001b[39m\u001b[92m+ Libtiff_jll v4.4.0+0\u001b[39m\n",
      " \u001b[90m [38a345b3] \u001b[39m\u001b[92m+ Libuuid_jll v2.36.0+0\u001b[39m\n",
      " \u001b[90m [e7412a2a] \u001b[39m\u001b[92m+ Ogg_jll v1.3.5+1\u001b[39m\n",
      " \u001b[90m [458c3c95] \u001b[39m\u001b[92m+ OpenSSL_jll v1.1.17+0\u001b[39m\n",
      " \u001b[90m [efe28fd5] \u001b[39m\u001b[92m+ OpenSpecFun_jll v0.5.5+0\u001b[39m\n",
      " \u001b[90m [91d4177d] \u001b[39m\u001b[92m+ Opus_jll v1.3.2+0\u001b[39m\n",
      " \u001b[90m [30392449] \u001b[39m\u001b[92m+ Pixman_jll v0.40.1+0\u001b[39m\n",
      " \u001b[90m [ea2cea3b] \u001b[39m\u001b[92m+ Qt5Base_jll v5.15.3+1\u001b[39m\n",
      " \u001b[90m [f50d1b31] \u001b[39m\u001b[92m+ Rmath_jll v0.3.0+0\u001b[39m\n",
      " \u001b[90m [a2964d1f] \u001b[39m\u001b[92m+ Wayland_jll v1.19.0+0\u001b[39m\n",
      " \u001b[90m [2381bf8a] \u001b[39m\u001b[92m+ Wayland_protocols_jll v1.25.0+0\u001b[39m\n",
      " \u001b[90m [02c8fc9c] \u001b[39m\u001b[92m+ XML2_jll v2.9.14+0\u001b[39m\n",
      " \u001b[90m [aed1982a] \u001b[39m\u001b[92m+ XSLT_jll v1.1.34+0\u001b[39m\n",
      " \u001b[90m [4f6342f7] \u001b[39m\u001b[92m+ Xorg_libX11_jll v1.6.9+4\u001b[39m\n",
      " \u001b[90m [0c0b7dd1] \u001b[39m\u001b[92m+ Xorg_libXau_jll v1.0.9+4\u001b[39m\n",
      " \u001b[90m [935fb764] \u001b[39m\u001b[92m+ Xorg_libXcursor_jll v1.2.0+4\u001b[39m\n",
      " \u001b[90m [a3789734] \u001b[39m\u001b[92m+ Xorg_libXdmcp_jll v1.1.3+4\u001b[39m\n",
      " \u001b[90m [1082639a] \u001b[39m\u001b[92m+ Xorg_libXext_jll v1.3.4+4\u001b[39m\n",
      " \u001b[90m [d091e8ba] \u001b[39m\u001b[92m+ Xorg_libXfixes_jll v5.0.3+4\u001b[39m\n",
      " \u001b[90m [a51aa0fd] \u001b[39m\u001b[92m+ Xorg_libXi_jll v1.7.10+4\u001b[39m\n",
      " \u001b[90m [d1454406] \u001b[39m\u001b[92m+ Xorg_libXinerama_jll v1.1.4+4\u001b[39m\n",
      " \u001b[90m [ec84b674] \u001b[39m\u001b[92m+ Xorg_libXrandr_jll v1.5.2+4\u001b[39m\n",
      " \u001b[90m [ea2f1a96] \u001b[39m\u001b[92m+ Xorg_libXrender_jll v0.9.10+4\u001b[39m\n",
      " \u001b[90m [14d82f49] \u001b[39m\u001b[92m+ Xorg_libpthread_stubs_jll v0.1.0+3\u001b[39m\n",
      " \u001b[90m [c7cfdc94] \u001b[39m\u001b[92m+ Xorg_libxcb_jll v1.13.0+3\u001b[39m\n",
      " \u001b[90m [cc61e674] \u001b[39m\u001b[92m+ Xorg_libxkbfile_jll v1.1.0+4\u001b[39m\n",
      " \u001b[90m [12413925] \u001b[39m\u001b[92m+ Xorg_xcb_util_image_jll v0.4.0+1\u001b[39m\n",
      " \u001b[90m [2def613f] \u001b[39m\u001b[92m+ Xorg_xcb_util_jll v0.4.0+1\u001b[39m\n",
      " \u001b[90m [975044d2] \u001b[39m\u001b[92m+ Xorg_xcb_util_keysyms_jll v0.4.0+1\u001b[39m\n",
      " \u001b[90m [0d47668e] \u001b[39m\u001b[92m+ Xorg_xcb_util_renderutil_jll v0.3.9+1\u001b[39m\n",
      " \u001b[90m [c22f9ab0] \u001b[39m\u001b[92m+ Xorg_xcb_util_wm_jll v0.4.1+1\u001b[39m\n",
      " \u001b[90m [35661453] \u001b[39m\u001b[92m+ Xorg_xkbcomp_jll v1.4.2+4\u001b[39m\n",
      " \u001b[90m [33bec58e] \u001b[39m\u001b[92m+ Xorg_xkeyboard_config_jll v2.27.0+4\u001b[39m\n",
      " \u001b[90m [c5fb5394] \u001b[39m\u001b[92m+ Xorg_xtrans_jll v1.4.0+3\u001b[39m\n",
      " \u001b[90m [3161d3a3] \u001b[39m\u001b[92m+ Zstd_jll v1.5.2+0\u001b[39m\n",
      "\u001b[33m⌅\u001b[39m\u001b[90m [214eeab7] \u001b[39m\u001b[92m+ fzf_jll v0.29.0+0\u001b[39m\n",
      " \u001b[90m [a4ae2306] \u001b[39m\u001b[92m+ libaom_jll v3.4.0+0\u001b[39m\n",
      " \u001b[90m [0ac62f75] \u001b[39m\u001b[92m+ libass_jll v0.15.1+0\u001b[39m\n",
      " \u001b[90m [f638f0a6] \u001b[39m\u001b[92m+ libfdk_aac_jll v2.0.2+0\u001b[39m\n",
      " \u001b[90m [b53b4c65] \u001b[39m\u001b[92m+ libpng_jll v1.6.38+0\u001b[39m\n",
      " \u001b[90m [f27f6e37] \u001b[39m\u001b[92m+ libvorbis_jll v1.3.7+1\u001b[39m\n",
      " \u001b[90m [1270edf5] \u001b[39m\u001b[92m+ x264_jll v2021.5.5+0\u001b[39m\n",
      " \u001b[90m [dfaa095f] \u001b[39m\u001b[92m+ x265_jll v3.5.0+0\u001b[39m\n",
      " \u001b[90m [d8fb68d0] \u001b[39m\u001b[92m+ xkbcommon_jll v1.4.1+0\u001b[39m\n",
      " \u001b[90m [0dad84c5] \u001b[39m\u001b[92m+ ArgTools v1.1.1\u001b[39m\n",
      " \u001b[90m [56f22d72] \u001b[39m\u001b[92m+ Artifacts\u001b[39m\n",
      " \u001b[90m [2a0f44e3] \u001b[39m\u001b[92m+ Base64\u001b[39m\n",
      " \u001b[90m [ade2ca70] \u001b[39m\u001b[92m+ Dates\u001b[39m\n",
      " \u001b[90m [8bb1440f] \u001b[39m\u001b[92m+ DelimitedFiles\u001b[39m\n",
      " \u001b[90m [8ba89e20] \u001b[39m\u001b[92m+ Distributed\u001b[39m\n",
      " \u001b[90m [f43a241f] \u001b[39m\u001b[92m+ Downloads v1.6.0\u001b[39m\n",
      " \u001b[90m [7b1f6079] \u001b[39m\u001b[92m+ FileWatching\u001b[39m\n",
      " \u001b[90m [9fa8497b] \u001b[39m\u001b[92m+ Future\u001b[39m\n",
      " \u001b[90m [b77e0a4c] \u001b[39m\u001b[92m+ InteractiveUtils\u001b[39m\n",
      " \u001b[90m [4af54fe1] \u001b[39m\u001b[92m+ LazyArtifacts\u001b[39m\n",
      " \u001b[90m [b27032c2] \u001b[39m\u001b[92m+ LibCURL v0.6.3\u001b[39m\n",
      " \u001b[90m [76f85450] \u001b[39m\u001b[92m+ LibGit2\u001b[39m\n",
      " \u001b[90m [8f399da3] \u001b[39m\u001b[92m+ Libdl\u001b[39m\n",
      " \u001b[90m [37e2e46d] \u001b[39m\u001b[92m+ LinearAlgebra\u001b[39m\n",
      " \u001b[90m [56ddb016] \u001b[39m\u001b[92m+ Logging\u001b[39m\n",
      " \u001b[90m [d6f4376e] \u001b[39m\u001b[92m+ Markdown\u001b[39m\n",
      " \u001b[90m [a63ad114] \u001b[39m\u001b[92m+ Mmap\u001b[39m\n",
      " \u001b[90m [ca575930] \u001b[39m\u001b[92m+ NetworkOptions v1.2.0\u001b[39m\n",
      " \u001b[90m [44cfe95a] \u001b[39m\u001b[92m+ Pkg v1.8.0\u001b[39m\n",
      " \u001b[90m [de0858da] \u001b[39m\u001b[92m+ Printf\u001b[39m\n",
      " \u001b[90m [3fa0cd96] \u001b[39m\u001b[92m+ REPL\u001b[39m\n",
      " \u001b[90m [9a3f8284] \u001b[39m\u001b[92m+ Random\u001b[39m\n",
      " \u001b[90m [ea8e919c] \u001b[39m\u001b[92m+ SHA v0.7.0\u001b[39m\n",
      " \u001b[90m [9e88b42a] \u001b[39m\u001b[92m+ Serialization\u001b[39m\n",
      " \u001b[90m [1a1011a3] \u001b[39m\u001b[92m+ SharedArrays\u001b[39m\n",
      " \u001b[90m [6462fe0b] \u001b[39m\u001b[92m+ Sockets\u001b[39m\n",
      " \u001b[90m [2f01184e] \u001b[39m\u001b[92m+ SparseArrays\u001b[39m\n",
      " \u001b[90m [10745b16] \u001b[39m\u001b[92m+ Statistics\u001b[39m\n",
      " \u001b[90m [4607b0f0] \u001b[39m\u001b[92m+ SuiteSparse\u001b[39m\n",
      " \u001b[90m [fa267f1f] \u001b[39m\u001b[92m+ TOML v1.0.0\u001b[39m\n",
      " \u001b[90m [a4e569a6] \u001b[39m\u001b[92m+ Tar v1.10.1\u001b[39m\n",
      " \u001b[90m [8dfed614] \u001b[39m\u001b[92m+ Test\u001b[39m\n",
      " \u001b[90m [cf7118a7] \u001b[39m\u001b[92m+ UUIDs\u001b[39m\n",
      " \u001b[90m [4ec0a83e] \u001b[39m\u001b[92m+ Unicode\u001b[39m\n",
      " \u001b[90m [e66e0078] \u001b[39m\u001b[92m+ CompilerSupportLibraries_jll v0.5.2+0\u001b[39m\n",
      " \u001b[90m [deac9b47] \u001b[39m\u001b[92m+ LibCURL_jll v7.84.0+0\u001b[39m\n",
      " \u001b[90m [29816b5a] \u001b[39m\u001b[92m+ LibSSH2_jll v1.10.2+0\u001b[39m\n",
      " \u001b[90m [c8ffd9c3] \u001b[39m\u001b[92m+ MbedTLS_jll v2.28.0+0\u001b[39m\n",
      " \u001b[90m [14a3606d] \u001b[39m\u001b[92m+ MozillaCACerts_jll v2022.2.1\u001b[39m\n",
      " \u001b[90m [4536629a] \u001b[39m\u001b[92m+ OpenBLAS_jll v0.3.20+0\u001b[39m\n",
      " \u001b[90m [05823500] \u001b[39m\u001b[92m+ OpenLibm_jll v0.8.1+0\u001b[39m\n",
      " \u001b[90m [efcefdf7] \u001b[39m\u001b[92m+ PCRE2_jll v10.40.0+0\u001b[39m\n",
      " \u001b[90m [bea87d4a] \u001b[39m\u001b[92m+ SuiteSparse_jll v5.10.1+0\u001b[39m\n",
      " \u001b[90m [83775a58] \u001b[39m\u001b[92m+ Zlib_jll v1.2.12+3\u001b[39m\n",
      " \u001b[90m [8e850b90] \u001b[39m\u001b[92m+ libblastrampoline_jll v5.1.1+0\u001b[39m\n",
      " \u001b[90m [8e850ede] \u001b[39m\u001b[92m+ nghttp2_jll v1.48.0+0\u001b[39m\n",
      " \u001b[90m [3f19e933] \u001b[39m\u001b[92m+ p7zip_jll v17.4.0+0\u001b[39m\n",
      "\u001b[36m\u001b[1m        Info\u001b[22m\u001b[39m Packages marked with \u001b[33m⌅\u001b[39m have new versions available but compatibility constraints restrict them from upgrading. To see why use `status --outdated -m`\n"
     ]
    }
   ],
   "source": [
    "using Pkg\n",
    "Pkg.activate(\"ude\")\n",
    "Pkg.instantiate()"
   ]
  },
  {
   "cell_type": "markdown",
   "metadata": {},
   "source": [
    "## Libraries"
   ]
  },
  {
   "cell_type": "code",
   "execution_count": 2,
   "metadata": {
    "execution": {
     "iopub.execute_input": "2022-10-24T13:47:15.729000Z",
     "iopub.status.busy": "2022-10-24T13:47:15.728000Z",
     "iopub.status.idle": "2022-10-24T14:08:13.344000Z",
     "shell.execute_reply": "2022-10-24T14:08:13.343000Z"
    }
   },
   "outputs": [
    {
     "name": "stderr",
     "output_type": "stream",
     "text": [
      "┌ Info: Precompiling OrdinaryDiffEq [1dea7af3-3e70-54e6-95c3-0bf5283fa5ed]\n",
      "└ @ Base loading.jl:1664\n",
      "\u001b[33m\u001b[1m┌ \u001b[22m\u001b[39m\u001b[33m\u001b[1mWarning: \u001b[22m\u001b[39mReplacing docs for `SciMLBase.sol :: Union{Tuple, Tuple{D}, Tuple{S}, Tuple{N}, Tuple{T}} where {T, N, S, D}` in module `SciMLBase`\n",
      "\u001b[33m\u001b[1m└ \u001b[22m\u001b[39m\u001b[90m@ Base.Docs docs/Docs.jl:240\u001b[39m\n",
      "WARNING: method definition for TwiceDifferentiable at /home/runner/.julia/packages/NLSolversBase/cfJrN/src/objective_types/incomplete.jl:96 declares type variable TH but does not use it.\n",
      "┌ Info: Precompiling DataDrivenDiffEq [2445eb08-9709-466a-b3fc-47e12bd697a2]\n",
      "└ @ Base loading.jl:1664\n",
      "WARNING: method definition for OneHotArray at /home/runner/.julia/packages/MicroCollections/yJPLe/src/onehot.jl:79 declares type variable N but does not use it.\n",
      "WARNING: method definition for adapt_structure at /home/runner/.julia/packages/Transducers/DSfBv/src/partitionby.jl:50 declares type variable inbounds but does not use it.\n",
      "WARNING: method definition for _foldl_array at /home/runner/.julia/packages/Transducers/DSfBv/src/processes.jl:222 declares type variable T but does not use it.\n",
      "WARNING: method definition for multiplyexistingvar at /home/runner/.julia/packages/DynamicPolynomials/juS7t/src/mult.jl:1 declares type variable C but does not use it.\n",
      "WARNING: method definition for multiplyexistingvar at /home/runner/.julia/packages/DynamicPolynomials/juS7t/src/mult.jl:6 declares type variable C but does not use it.\n",
      "WARNING: method definition for convert_to_output at /home/runner/.julia/packages/Groebner/yLVEZ/src/io.jl:483 declares type variable T but does not use it.\n",
      "WARNING: method definition for groebner at /home/runner/.julia/packages/Groebner/yLVEZ/src/gb/groebner.jl:93 declares type variable Rng but does not use it.\n",
      "WARNING: method definition for fglm_f4 at /home/runner/.julia/packages/Groebner/yLVEZ/src/fglm/fglm.jl:184 declares type variable Rng but does not use it.\n",
      "WARNING: method definition for kbase_f4 at /home/runner/.julia/packages/Groebner/yLVEZ/src/fglm/fglm.jl:226 declares type variable Rng but does not use it.\n",
      "WARNING: method definition for show at /home/runner/.julia/packages/Optim/Zq1jM/src/univariate/printing.jl:7 declares type variable T but does not use it.\n",
      "WARNING: method definition for mul! at /home/runner/.julia/packages/LeastSquaresOptim/B1WKJ/src/solver/iterative_lsmr.jl:87 declares type variable T but does not use it.\n",
      "\u001b[33m\u001b[1m┌ \u001b[22m\u001b[39m\u001b[33m\u001b[1mWarning: \u001b[22m\u001b[39mThe variable syntax (u[1:n])(t) is deprecated. Use (u(t))[1:n] instead.\n",
      "\u001b[33m\u001b[1m│ \u001b[22m\u001b[39m                  The former creates an array of functions, while the latter creates an array valued function.\n",
      "\u001b[33m\u001b[1m│ \u001b[22m\u001b[39m                  The deprecated syntax will cause an error in the next major release of Symbolics.\n",
      "\u001b[33m\u001b[1m│ \u001b[22m\u001b[39m                  This change will facilitate better implementation of various features of Symbolics.\n",
      "\u001b[33m\u001b[1m└ \u001b[22m\u001b[39m\u001b[90m@ Symbolics ~/.julia/packages/Symbolics/FGTCH/src/variable.jl:129\u001b[39m\n",
      "\u001b[33m\u001b[1m┌ \u001b[22m\u001b[39m\u001b[33m\u001b[1mWarning: \u001b[22m\u001b[39mType annotations on keyword arguments not currently supported in recipes. Type information has been discarded\n",
      "\u001b[33m\u001b[1m└ \u001b[22m\u001b[39m\u001b[90m@ RecipesBase ~/.julia/packages/RecipesBase/6AijY/src/RecipesBase.jl:117\u001b[39m\n",
      "┌ Info: Precompiling DiffEqFlux [aae7a2af-3d4f-5e19-a356-7da93b79d9d0]\n",
      "└ @ Base loading.jl:1664\n",
      "WARNING: could not import Printf.ini_hex into BFloat16s\n",
      "WARNING: could not import Printf.ini_HEX into BFloat16s\n",
      "WARNING: method definition for attribute at /home/runner/.julia/packages/CUDA/DfvRa/lib/cudadrv/pool.jl:79 declares type variable T but does not use it.\n",
      "WARNING: method definition for attribute! at /home/runner/.julia/packages/CUDA/DfvRa/lib/cudadrv/pool.jl:90 declares type variable T but does not use it.\n",
      "WARNING: method definition for #cudacall#42 at /home/runner/.julia/packages/CUDA/DfvRa/lib/cudadrv/execution.jl:131 declares type variable N but does not use it.\n",
      "WARNING: method definition for #bitonic_sort!#3 at /home/runner/.julia/packages/CUDA/DfvRa/src/sorting.jl:836 declares type variable T but does not use it.\n",
      "WARNING: Method definition rrule(Type{Array{T, N} where N where T}, CUDA.CuArray{T, N, B} where B where N where T) in module Flux at /home/runner/.julia/packages/Flux/4k0Ls/src/functor.jl:121 overwritten in module Lux at /home/runner/.julia/packages/Lux/jwtVY/src/autodiff.jl:68.\n",
      "  ** incremental compilation may be fatally broken for this module **\n",
      "\n",
      "WARNING: method definition for #DeterministicCNF#29 at /home/runner/.julia/packages/DiffEqFlux/Em1Aj/src/ffjord.jl:50 declares type variable RE but does not use it.\n",
      "WARNING: Method definition (::Type{DiffEqFlux.DeterministicCNF{M, P, RE, D, T, A, K} where K where A where T where D where RE where P where M})(Any, Any, Any, Any, Any, Any, Any) in module DiffEqFlux at /home/runner/.julia/packages/DiffEqFlux/Em1Aj/src/ffjord.jl:41 overwritten at deprecated.jl:70.\n",
      "  ** incremental compilation may be fatally broken for this module **\n",
      "\n",
      "WARNING: using Flux.frequencies in module DataDrivenDiffEq conflicts with an existing identifier.\n",
      "┌ Info: DataDrivenDiffEq : OccamNet is available.\n",
      "└ @ DataDrivenDiffEq /home/runner/.julia/packages/DataDrivenDiffEq/s9jl3/src/DataDrivenDiffEq.jl:168\n",
      "┌ Info: Precompiling Plots [91a5bcdd-55d7-5caf-9e0b-520d859cae80]\n",
      "└ @ Base loading.jl:1664\n"
     ]
    }
   ],
   "source": [
    "using OrdinaryDiffEq\n",
    "using Distributions\n",
    "using DataDrivenDiffEq\n",
    "using ModelingToolkit\n",
    "using DiffEqFlux, Lux\n",
    "using Optimization\n",
    "using OptimizationPolyalgorithms\n",
    "using Random\n",
    "using ComponentArrays\n",
    "using Statistics\n",
    "using Plots;"
   ]
  },
  {
   "cell_type": "code",
   "execution_count": 3,
   "metadata": {
    "execution": {
     "iopub.execute_input": "2022-10-24T14:08:14.114000Z",
     "iopub.status.busy": "2022-10-24T14:08:13.387000Z",
     "iopub.status.idle": "2022-10-24T14:08:14.252000Z",
     "shell.execute_reply": "2022-10-24T14:08:14.252000Z"
    }
   },
   "outputs": [],
   "source": [
    "# Random seeds\n",
    "rng = Random.default_rng()\n",
    "Random.seed!(123);"
   ]
  },
  {
   "cell_type": "markdown",
   "metadata": {},
   "source": [
    "## SIR model for spread of disease\n",
    "\n",
    "\\begin{align}\n",
    "    \\frac{dS}{dt} &= -\\beta S(t)I(t)\\\\ \n",
    "    \\frac{dI}{dt} &= \\beta S(t)I(t)-\\gamma I(t)\\\\\n",
    "    \\frac{dR}{dt} &= \\beta S(t)I(t)\n",
    "\\end{align}\n",
    "\n",
    "- $S$: Susceptible individuals\n",
    "- $I$: Infected individauls\n",
    "- $R$: Recovered individuals\n",
    "- $\\beta$: Infectious rate\n",
    "- $\\gamma$: Recovery rate"
   ]
  },
  {
   "cell_type": "code",
   "execution_count": 4,
   "metadata": {
    "execution": {
     "iopub.execute_input": "2022-10-24T14:08:14.256000Z",
     "iopub.status.busy": "2022-10-24T14:08:14.256000Z",
     "iopub.status.idle": "2022-10-24T14:08:14.259000Z",
     "shell.execute_reply": "2022-10-24T14:08:14.259000Z"
    }
   },
   "outputs": [],
   "source": [
    "function sir_ode(u,p,t)\n",
    "    (S,I,R) = u\n",
    "    (β,γ) = p\n",
    "    dS = -β*S*I\n",
    "    dI = β*S*I - γ*I\n",
    "    dR = β*S*I\n",
    "    [dS,dI,dR]\n",
    "end;"
   ]
  },
  {
   "cell_type": "markdown",
   "metadata": {},
   "source": [
    "## ODE solver\n",
    "- more solvers can be found at https://diffeq.sciml.ai/stable/solvers/ode_solve/"
   ]
  },
  {
   "cell_type": "code",
   "execution_count": 5,
   "metadata": {
    "execution": {
     "iopub.execute_input": "2022-10-24T14:08:14.262000Z",
     "iopub.status.busy": "2022-10-24T14:08:14.262000Z",
     "iopub.status.idle": "2022-10-24T14:08:14.284000Z",
     "shell.execute_reply": "2022-10-24T14:08:14.284000Z"
    }
   },
   "outputs": [],
   "source": [
    "solver = RadauIIA3(); # Fully-Implicit Runge-Kutta Methods"
   ]
  },
  {
   "cell_type": "code",
   "execution_count": 6,
   "metadata": {
    "execution": {
     "iopub.execute_input": "2022-10-24T14:08:14.287000Z",
     "iopub.status.busy": "2022-10-24T14:08:14.287000Z",
     "iopub.status.idle": "2022-10-24T14:08:14.288000Z",
     "shell.execute_reply": "2022-10-24T14:08:14.288000Z"
    }
   },
   "outputs": [],
   "source": [
    "N = 1000.0\n",
    "p = [0.5,0.25]\n",
    "u0 = [0.99, 0.01, 0.0]\n",
    "tspan = (0., 40.)\n",
    "δt = 1;"
   ]
  },
  {
   "cell_type": "code",
   "execution_count": 7,
   "metadata": {
    "execution": {
     "iopub.execute_input": "2022-10-24T14:08:14.292000Z",
     "iopub.status.busy": "2022-10-24T14:08:14.292000Z",
     "iopub.status.idle": "2022-10-24T14:08:33.591000Z",
     "shell.execute_reply": "2022-10-24T14:08:33.591000Z"
    }
   },
   "outputs": [],
   "source": [
    "sir_prob = ODEProblem(sir_ode, u0, tspan, p)\n",
    "sir_sol = solve(sir_prob, solver, saveat = δt);"
   ]
  },
  {
   "cell_type": "code",
   "execution_count": 8,
   "metadata": {
    "execution": {
     "iopub.execute_input": "2022-10-24T14:08:33.595000Z",
     "iopub.status.busy": "2022-10-24T14:08:33.595000Z",
     "iopub.status.idle": "2022-10-24T14:09:04.033000Z",
     "shell.execute_reply": "2022-10-24T14:09:04.032000Z"
    }
   },
   "outputs": [
    {
     "data": {
      "image/svg+xml": [
       "<?xml version=\"1.0\" encoding=\"utf-8\"?>\n",
       "<svg xmlns=\"http://www.w3.org/2000/svg\" xmlns:xlink=\"http://www.w3.org/1999/xlink\" width=\"600\" height=\"400\" viewBox=\"0 0 2400 1600\">\n",
       "<defs>\n",
       "  <clipPath id=\"clip470\">\n",
       "    <rect x=\"0\" y=\"0\" width=\"2400\" height=\"1600\"/>\n",
       "  </clipPath>\n",
       "</defs>\n",
       "<path clip-path=\"url(#clip470)\" d=\"\n",
       "M0 1600 L2400 1600 L2400 0 L0 0  Z\n",
       "  \" fill=\"#ffffff\" fill-rule=\"evenodd\" fill-opacity=\"1\"/>\n",
       "<defs>\n",
       "  <clipPath id=\"clip471\">\n",
       "    <rect x=\"480\" y=\"0\" width=\"1681\" height=\"1600\"/>\n",
       "  </clipPath>\n",
       "</defs>\n",
       "<path clip-path=\"url(#clip470)\" d=\"\n",
       "M249.542 1423.18 L2352.76 1423.18 L2352.76 47.2441 L249.542 47.2441  Z\n",
       "  \" fill=\"#ffffff\" fill-rule=\"evenodd\" fill-opacity=\"1\"/>\n",
       "<defs>\n",
       "  <clipPath id=\"clip472\">\n",
       "    <rect x=\"249\" y=\"47\" width=\"2104\" height=\"1377\"/>\n",
       "  </clipPath>\n",
       "</defs>\n",
       "<polyline clip-path=\"url(#clip472)\" style=\"stroke:#000000; stroke-linecap:round; stroke-linejoin:round; stroke-width:2; stroke-opacity:0.1; fill:none\" points=\"\n",
       "  249.542,1423.18 249.542,47.2441 \n",
       "  \"/>\n",
       "<polyline clip-path=\"url(#clip472)\" style=\"stroke:#000000; stroke-linecap:round; stroke-linejoin:round; stroke-width:2; stroke-opacity:0.1; fill:none\" points=\"\n",
       "  775.346,1423.18 775.346,47.2441 \n",
       "  \"/>\n",
       "<polyline clip-path=\"url(#clip472)\" style=\"stroke:#000000; stroke-linecap:round; stroke-linejoin:round; stroke-width:2; stroke-opacity:0.1; fill:none\" points=\"\n",
       "  1301.15,1423.18 1301.15,47.2441 \n",
       "  \"/>\n",
       "<polyline clip-path=\"url(#clip472)\" style=\"stroke:#000000; stroke-linecap:round; stroke-linejoin:round; stroke-width:2; stroke-opacity:0.1; fill:none\" points=\"\n",
       "  1826.95,1423.18 1826.95,47.2441 \n",
       "  \"/>\n",
       "<polyline clip-path=\"url(#clip472)\" style=\"stroke:#000000; stroke-linecap:round; stroke-linejoin:round; stroke-width:2; stroke-opacity:0.1; fill:none\" points=\"\n",
       "  2352.76,1423.18 2352.76,47.2441 \n",
       "  \"/>\n",
       "<polyline clip-path=\"url(#clip470)\" style=\"stroke:#000000; stroke-linecap:round; stroke-linejoin:round; stroke-width:4; stroke-opacity:1; fill:none\" points=\"\n",
       "  249.542,1423.18 2352.76,1423.18 \n",
       "  \"/>\n",
       "<polyline clip-path=\"url(#clip470)\" style=\"stroke:#000000; stroke-linecap:round; stroke-linejoin:round; stroke-width:4; stroke-opacity:1; fill:none\" points=\"\n",
       "  249.542,1423.18 249.542,1404.28 \n",
       "  \"/>\n",
       "<polyline clip-path=\"url(#clip470)\" style=\"stroke:#000000; stroke-linecap:round; stroke-linejoin:round; stroke-width:4; stroke-opacity:1; fill:none\" points=\"\n",
       "  775.346,1423.18 775.346,1404.28 \n",
       "  \"/>\n",
       "<polyline clip-path=\"url(#clip470)\" style=\"stroke:#000000; stroke-linecap:round; stroke-linejoin:round; stroke-width:4; stroke-opacity:1; fill:none\" points=\"\n",
       "  1301.15,1423.18 1301.15,1404.28 \n",
       "  \"/>\n",
       "<polyline clip-path=\"url(#clip470)\" style=\"stroke:#000000; stroke-linecap:round; stroke-linejoin:round; stroke-width:4; stroke-opacity:1; fill:none\" points=\"\n",
       "  1826.95,1423.18 1826.95,1404.28 \n",
       "  \"/>\n",
       "<polyline clip-path=\"url(#clip470)\" style=\"stroke:#000000; stroke-linecap:round; stroke-linejoin:round; stroke-width:4; stroke-opacity:1; fill:none\" points=\"\n",
       "  2352.76,1423.18 2352.76,1404.28 \n",
       "  \"/>\n",
       "<path clip-path=\"url(#clip470)\" d=\"M249.542 1454.1 Q245.931 1454.1 244.102 1457.66 Q242.297 1461.2 242.297 1468.33 Q242.297 1475.44 244.102 1479.01 Q245.931 1482.55 249.542 1482.55 Q253.176 1482.55 254.982 1479.01 Q256.811 1475.44 256.811 1468.33 Q256.811 1461.2 254.982 1457.66 Q253.176 1454.1 249.542 1454.1 M249.542 1450.39 Q255.352 1450.39 258.408 1455 Q261.486 1459.58 261.486 1468.33 Q261.486 1477.06 258.408 1481.67 Q255.352 1486.25 249.542 1486.25 Q243.732 1486.25 240.653 1481.67 Q237.598 1477.06 237.598 1468.33 Q237.598 1459.58 240.653 1455 Q243.732 1450.39 249.542 1450.39 Z\" fill=\"#000000\" fill-rule=\"evenodd\" fill-opacity=\"1\" /><path clip-path=\"url(#clip470)\" d=\"M750.033 1481.64 L757.672 1481.64 L757.672 1455.28 L749.362 1456.95 L749.362 1452.69 L757.626 1451.02 L762.302 1451.02 L762.302 1481.64 L769.94 1481.64 L769.94 1485.58 L750.033 1485.58 L750.033 1481.64 Z\" fill=\"#000000\" fill-rule=\"evenodd\" fill-opacity=\"1\" /><path clip-path=\"url(#clip470)\" d=\"M789.385 1454.1 Q785.774 1454.1 783.945 1457.66 Q782.139 1461.2 782.139 1468.33 Q782.139 1475.44 783.945 1479.01 Q785.774 1482.55 789.385 1482.55 Q793.019 1482.55 794.825 1479.01 Q796.653 1475.44 796.653 1468.33 Q796.653 1461.2 794.825 1457.66 Q793.019 1454.1 789.385 1454.1 M789.385 1450.39 Q795.195 1450.39 798.25 1455 Q801.329 1459.58 801.329 1468.33 Q801.329 1477.06 798.25 1481.67 Q795.195 1486.25 789.385 1486.25 Q783.575 1486.25 780.496 1481.67 Q777.44 1477.06 777.44 1468.33 Q777.44 1459.58 780.496 1455 Q783.575 1450.39 789.385 1450.39 Z\" fill=\"#000000\" fill-rule=\"evenodd\" fill-opacity=\"1\" /><path clip-path=\"url(#clip470)\" d=\"M1279.92 1481.64 L1296.24 1481.64 L1296.24 1485.58 L1274.3 1485.58 L1274.3 1481.64 Q1276.96 1478.89 1281.54 1474.26 Q1286.15 1469.61 1287.33 1468.27 Q1289.57 1465.74 1290.45 1464.01 Q1291.36 1462.25 1291.36 1460.56 Q1291.36 1457.8 1289.41 1456.07 Q1287.49 1454.33 1284.39 1454.33 Q1282.19 1454.33 1279.74 1455.09 Q1277.31 1455.86 1274.53 1457.41 L1274.53 1452.69 Q1277.35 1451.55 1279.81 1450.97 Q1282.26 1450.39 1284.3 1450.39 Q1289.67 1450.39 1292.86 1453.08 Q1296.06 1455.77 1296.06 1460.26 Q1296.06 1462.39 1295.25 1464.31 Q1294.46 1466.2 1292.35 1468.8 Q1291.77 1469.47 1288.67 1472.69 Q1285.57 1475.88 1279.92 1481.64 Z\" fill=\"#000000\" fill-rule=\"evenodd\" fill-opacity=\"1\" /><path clip-path=\"url(#clip470)\" d=\"M1316.06 1454.1 Q1312.45 1454.1 1310.62 1457.66 Q1308.81 1461.2 1308.81 1468.33 Q1308.81 1475.44 1310.62 1479.01 Q1312.45 1482.55 1316.06 1482.55 Q1319.69 1482.55 1321.5 1479.01 Q1323.32 1475.44 1323.32 1468.33 Q1323.32 1461.2 1321.5 1457.66 Q1319.69 1454.1 1316.06 1454.1 M1316.06 1450.39 Q1321.87 1450.39 1324.92 1455 Q1328 1459.58 1328 1468.33 Q1328 1477.06 1324.92 1481.67 Q1321.87 1486.25 1316.06 1486.25 Q1310.25 1486.25 1307.17 1481.67 Q1304.11 1477.06 1304.11 1468.33 Q1304.11 1459.58 1307.17 1455 Q1310.25 1450.39 1316.06 1450.39 Z\" fill=\"#000000\" fill-rule=\"evenodd\" fill-opacity=\"1\" /><path clip-path=\"url(#clip470)\" d=\"M1815.8 1466.95 Q1819.15 1467.66 1821.03 1469.93 Q1822.92 1472.2 1822.92 1475.53 Q1822.92 1480.65 1819.41 1483.45 Q1815.89 1486.25 1809.41 1486.25 Q1807.23 1486.25 1804.92 1485.81 Q1802.62 1485.39 1800.17 1484.54 L1800.17 1480.02 Q1802.11 1481.16 1804.43 1481.74 Q1806.74 1482.32 1809.27 1482.32 Q1813.67 1482.32 1815.96 1480.58 Q1818.27 1478.84 1818.27 1475.53 Q1818.27 1472.48 1816.12 1470.77 Q1813.99 1469.03 1810.17 1469.03 L1806.14 1469.03 L1806.14 1465.19 L1810.36 1465.19 Q1813.8 1465.19 1815.63 1463.82 Q1817.46 1462.43 1817.46 1459.84 Q1817.46 1457.18 1815.56 1455.77 Q1813.69 1454.33 1810.17 1454.33 Q1808.25 1454.33 1806.05 1454.75 Q1803.85 1455.16 1801.21 1456.04 L1801.21 1451.88 Q1803.87 1451.14 1806.19 1450.77 Q1808.53 1450.39 1810.59 1450.39 Q1815.91 1450.39 1819.01 1452.83 Q1822.11 1455.23 1822.11 1459.35 Q1822.11 1462.22 1820.47 1464.21 Q1818.83 1466.18 1815.8 1466.95 Z\" fill=\"#000000\" fill-rule=\"evenodd\" fill-opacity=\"1\" /><path clip-path=\"url(#clip470)\" d=\"M1841.79 1454.1 Q1838.18 1454.1 1836.35 1457.66 Q1834.54 1461.2 1834.54 1468.33 Q1834.54 1475.44 1836.35 1479.01 Q1838.18 1482.55 1841.79 1482.55 Q1845.42 1482.55 1847.23 1479.01 Q1849.06 1475.44 1849.06 1468.33 Q1849.06 1461.2 1847.23 1457.66 Q1845.42 1454.1 1841.79 1454.1 M1841.79 1450.39 Q1847.6 1450.39 1850.66 1455 Q1853.73 1459.58 1853.73 1468.33 Q1853.73 1477.06 1850.66 1481.67 Q1847.6 1486.25 1841.79 1486.25 Q1835.98 1486.25 1832.9 1481.67 Q1829.85 1477.06 1829.85 1468.33 Q1829.85 1459.58 1832.9 1455 Q1835.98 1450.39 1841.79 1450.39 Z\" fill=\"#000000\" fill-rule=\"evenodd\" fill-opacity=\"1\" /><path clip-path=\"url(#clip470)\" d=\"M2340.93 1455.09 L2329.12 1473.54 L2340.93 1473.54 L2340.93 1455.09 M2339.7 1451.02 L2345.58 1451.02 L2345.58 1473.54 L2350.51 1473.54 L2350.51 1477.43 L2345.58 1477.43 L2345.58 1485.58 L2340.93 1485.58 L2340.93 1477.43 L2325.33 1477.43 L2325.33 1472.92 L2339.7 1451.02 Z\" fill=\"#000000\" fill-rule=\"evenodd\" fill-opacity=\"1\" /><path clip-path=\"url(#clip470)\" d=\"M2368.24 1454.1 Q2364.63 1454.1 2362.8 1457.66 Q2361 1461.2 2361 1468.33 Q2361 1475.44 2362.8 1479.01 Q2364.63 1482.55 2368.24 1482.55 Q2371.88 1482.55 2373.68 1479.01 Q2375.51 1475.44 2375.51 1468.33 Q2375.51 1461.2 2373.68 1457.66 Q2371.88 1454.1 2368.24 1454.1 M2368.24 1450.39 Q2374.05 1450.39 2377.11 1455 Q2380.19 1459.58 2380.19 1468.33 Q2380.19 1477.06 2377.11 1481.67 Q2374.05 1486.25 2368.24 1486.25 Q2362.43 1486.25 2359.35 1481.67 Q2356.3 1477.06 2356.3 1468.33 Q2356.3 1459.58 2359.35 1455 Q2362.43 1450.39 2368.24 1450.39 Z\" fill=\"#000000\" fill-rule=\"evenodd\" fill-opacity=\"1\" /><path clip-path=\"url(#clip470)\" d=\"M1223.03 1520.52 L1263.23 1520.52 L1263.23 1525.93 L1246.36 1525.93 L1246.36 1568.04 L1239.89 1568.04 L1239.89 1525.93 L1223.03 1525.93 L1223.03 1520.52 Z\" fill=\"#000000\" fill-rule=\"evenodd\" fill-opacity=\"1\" /><path clip-path=\"url(#clip470)\" d=\"M1267.17 1532.4 L1273.03 1532.4 L1273.03 1568.04 L1267.17 1568.04 L1267.17 1532.4 M1267.17 1518.52 L1273.03 1518.52 L1273.03 1525.93 L1267.17 1525.93 L1267.17 1518.52 Z\" fill=\"#000000\" fill-rule=\"evenodd\" fill-opacity=\"1\" /><path clip-path=\"url(#clip470)\" d=\"M1313.04 1539.24 Q1315.23 1535.29 1318.29 1533.41 Q1321.34 1531.54 1325.48 1531.54 Q1331.05 1531.54 1334.08 1535.45 Q1337.1 1539.33 1337.1 1546.53 L1337.1 1568.04 L1331.21 1568.04 L1331.21 1546.72 Q1331.21 1541.59 1329.4 1539.11 Q1327.58 1536.63 1323.86 1536.63 Q1319.31 1536.63 1316.67 1539.65 Q1314.02 1542.68 1314.02 1547.9 L1314.02 1568.04 L1308.14 1568.04 L1308.14 1546.72 Q1308.14 1541.56 1306.32 1539.11 Q1304.51 1536.63 1300.72 1536.63 Q1296.23 1536.63 1293.59 1539.68 Q1290.95 1542.71 1290.95 1547.9 L1290.95 1568.04 L1285.06 1568.04 L1285.06 1532.4 L1290.95 1532.4 L1290.95 1537.93 Q1292.95 1534.66 1295.75 1533.1 Q1298.55 1531.54 1302.41 1531.54 Q1306.29 1531.54 1308.99 1533.51 Q1311.73 1535.48 1313.04 1539.24 Z\" fill=\"#000000\" fill-rule=\"evenodd\" fill-opacity=\"1\" /><path clip-path=\"url(#clip470)\" d=\"M1379.27 1548.76 L1379.27 1551.62 L1352.35 1551.62 Q1352.73 1557.67 1355.97 1560.85 Q1359.25 1564 1365.08 1564 Q1368.45 1564 1371.6 1563.17 Q1374.78 1562.35 1377.9 1560.69 L1377.9 1566.23 Q1374.75 1567.57 1371.44 1568.27 Q1368.13 1568.97 1364.73 1568.97 Q1356.2 1568.97 1351.2 1564 Q1346.23 1559.04 1346.23 1550.57 Q1346.23 1541.82 1350.94 1536.69 Q1355.69 1531.54 1363.71 1531.54 Q1370.9 1531.54 1375.07 1536.18 Q1379.27 1540.8 1379.27 1548.76 M1373.42 1547.04 Q1373.35 1542.23 1370.71 1539.37 Q1368.1 1536.5 1363.77 1536.5 Q1358.87 1536.5 1355.91 1539.27 Q1352.98 1542.04 1352.54 1547.07 L1373.42 1547.04 Z\" fill=\"#000000\" fill-rule=\"evenodd\" fill-opacity=\"1\" /><polyline clip-path=\"url(#clip472)\" style=\"stroke:#000000; stroke-linecap:round; stroke-linejoin:round; stroke-width:2; stroke-opacity:0.1; fill:none\" points=\"\n",
       "  249.542,1384.24 2352.76,1384.24 \n",
       "  \"/>\n",
       "<polyline clip-path=\"url(#clip472)\" style=\"stroke:#000000; stroke-linecap:round; stroke-linejoin:round; stroke-width:2; stroke-opacity:0.1; fill:none\" points=\"\n",
       "  249.542,1056.45 2352.76,1056.45 \n",
       "  \"/>\n",
       "<polyline clip-path=\"url(#clip472)\" style=\"stroke:#000000; stroke-linecap:round; stroke-linejoin:round; stroke-width:2; stroke-opacity:0.1; fill:none\" points=\"\n",
       "  249.542,728.656 2352.76,728.656 \n",
       "  \"/>\n",
       "<polyline clip-path=\"url(#clip472)\" style=\"stroke:#000000; stroke-linecap:round; stroke-linejoin:round; stroke-width:2; stroke-opacity:0.1; fill:none\" points=\"\n",
       "  249.542,400.865 2352.76,400.865 \n",
       "  \"/>\n",
       "<polyline clip-path=\"url(#clip472)\" style=\"stroke:#000000; stroke-linecap:round; stroke-linejoin:round; stroke-width:2; stroke-opacity:0.1; fill:none\" points=\"\n",
       "  249.542,73.074 2352.76,73.074 \n",
       "  \"/>\n",
       "<polyline clip-path=\"url(#clip470)\" style=\"stroke:#000000; stroke-linecap:round; stroke-linejoin:round; stroke-width:4; stroke-opacity:1; fill:none\" points=\"\n",
       "  249.542,1423.18 249.542,47.2441 \n",
       "  \"/>\n",
       "<polyline clip-path=\"url(#clip470)\" style=\"stroke:#000000; stroke-linecap:round; stroke-linejoin:round; stroke-width:4; stroke-opacity:1; fill:none\" points=\"\n",
       "  249.542,1384.24 268.44,1384.24 \n",
       "  \"/>\n",
       "<polyline clip-path=\"url(#clip470)\" style=\"stroke:#000000; stroke-linecap:round; stroke-linejoin:round; stroke-width:4; stroke-opacity:1; fill:none\" points=\"\n",
       "  249.542,1056.45 268.44,1056.45 \n",
       "  \"/>\n",
       "<polyline clip-path=\"url(#clip470)\" style=\"stroke:#000000; stroke-linecap:round; stroke-linejoin:round; stroke-width:4; stroke-opacity:1; fill:none\" points=\"\n",
       "  249.542,728.656 268.44,728.656 \n",
       "  \"/>\n",
       "<polyline clip-path=\"url(#clip470)\" style=\"stroke:#000000; stroke-linecap:round; stroke-linejoin:round; stroke-width:4; stroke-opacity:1; fill:none\" points=\"\n",
       "  249.542,400.865 268.44,400.865 \n",
       "  \"/>\n",
       "<polyline clip-path=\"url(#clip470)\" style=\"stroke:#000000; stroke-linecap:round; stroke-linejoin:round; stroke-width:4; stroke-opacity:1; fill:none\" points=\"\n",
       "  249.542,73.074 268.44,73.074 \n",
       "  \"/>\n",
       "<path clip-path=\"url(#clip470)\" d=\"M126.205 1370.04 Q122.593 1370.04 120.765 1373.6 Q118.959 1377.14 118.959 1384.27 Q118.959 1391.38 120.765 1394.94 Q122.593 1398.49 126.205 1398.49 Q129.839 1398.49 131.644 1394.94 Q133.473 1391.38 133.473 1384.27 Q133.473 1377.14 131.644 1373.6 Q129.839 1370.04 126.205 1370.04 M126.205 1366.33 Q132.015 1366.33 135.07 1370.94 Q138.149 1375.52 138.149 1384.27 Q138.149 1393 135.07 1397.61 Q132.015 1402.19 126.205 1402.19 Q120.394 1402.19 117.316 1397.61 Q114.26 1393 114.26 1384.27 Q114.26 1375.52 117.316 1370.94 Q120.394 1366.33 126.205 1366.33 Z\" fill=\"#000000\" fill-rule=\"evenodd\" fill-opacity=\"1\" /><path clip-path=\"url(#clip470)\" d=\"M146.366 1395.64 L151.251 1395.64 L151.251 1401.52 L146.366 1401.52 L146.366 1395.64 Z\" fill=\"#000000\" fill-rule=\"evenodd\" fill-opacity=\"1\" /><path clip-path=\"url(#clip470)\" d=\"M171.436 1370.04 Q167.825 1370.04 165.996 1373.6 Q164.19 1377.14 164.19 1384.27 Q164.19 1391.38 165.996 1394.94 Q167.825 1398.49 171.436 1398.49 Q175.07 1398.49 176.876 1394.94 Q178.704 1391.38 178.704 1384.27 Q178.704 1377.14 176.876 1373.6 Q175.07 1370.04 171.436 1370.04 M171.436 1366.33 Q177.246 1366.33 180.301 1370.94 Q183.38 1375.52 183.38 1384.27 Q183.38 1393 180.301 1397.61 Q177.246 1402.19 171.436 1402.19 Q165.626 1402.19 162.547 1397.61 Q159.491 1393 159.491 1384.27 Q159.491 1375.52 162.547 1370.94 Q165.626 1366.33 171.436 1366.33 Z\" fill=\"#000000\" fill-rule=\"evenodd\" fill-opacity=\"1\" /><path clip-path=\"url(#clip470)\" d=\"M201.598 1370.04 Q197.987 1370.04 196.158 1373.6 Q194.352 1377.14 194.352 1384.27 Q194.352 1391.38 196.158 1394.94 Q197.987 1398.49 201.598 1398.49 Q205.232 1398.49 207.037 1394.94 Q208.866 1391.38 208.866 1384.27 Q208.866 1377.14 207.037 1373.6 Q205.232 1370.04 201.598 1370.04 M201.598 1366.33 Q207.408 1366.33 210.463 1370.94 Q213.542 1375.52 213.542 1384.27 Q213.542 1393 210.463 1397.61 Q207.408 1402.19 201.598 1402.19 Q195.787 1402.19 192.709 1397.61 Q189.653 1393 189.653 1384.27 Q189.653 1375.52 192.709 1370.94 Q195.787 1366.33 201.598 1366.33 Z\" fill=\"#000000\" fill-rule=\"evenodd\" fill-opacity=\"1\" /><path clip-path=\"url(#clip470)\" d=\"M127.2 1042.25 Q123.589 1042.25 121.76 1045.81 Q119.955 1049.35 119.955 1056.48 Q119.955 1063.59 121.76 1067.15 Q123.589 1070.69 127.2 1070.69 Q130.834 1070.69 132.64 1067.15 Q134.468 1063.59 134.468 1056.48 Q134.468 1049.35 132.64 1045.81 Q130.834 1042.25 127.2 1042.25 M127.2 1038.54 Q133.01 1038.54 136.066 1043.15 Q139.144 1047.73 139.144 1056.48 Q139.144 1065.21 136.066 1069.82 Q133.01 1074.4 127.2 1074.4 Q121.39 1074.4 118.311 1069.82 Q115.256 1065.21 115.256 1056.48 Q115.256 1047.73 118.311 1043.15 Q121.39 1038.54 127.2 1038.54 Z\" fill=\"#000000\" fill-rule=\"evenodd\" fill-opacity=\"1\" /><path clip-path=\"url(#clip470)\" d=\"M147.362 1067.85 L152.246 1067.85 L152.246 1073.73 L147.362 1073.73 L147.362 1067.85 Z\" fill=\"#000000\" fill-rule=\"evenodd\" fill-opacity=\"1\" /><path clip-path=\"url(#clip470)\" d=\"M166.459 1069.79 L182.778 1069.79 L182.778 1073.73 L160.834 1073.73 L160.834 1069.79 Q163.496 1067.04 168.079 1062.41 Q172.686 1057.76 173.866 1056.41 Q176.112 1053.89 176.991 1052.15 Q177.894 1050.39 177.894 1048.7 Q177.894 1045.95 175.95 1044.21 Q174.028 1042.48 170.927 1042.48 Q168.727 1042.48 166.274 1043.24 Q163.843 1044.01 161.065 1045.56 L161.065 1040.83 Q163.89 1039.7 166.343 1039.12 Q168.797 1038.54 170.834 1038.54 Q176.204 1038.54 179.399 1041.23 Q182.593 1043.91 182.593 1048.4 Q182.593 1050.53 181.783 1052.45 Q180.996 1054.35 178.889 1056.94 Q178.311 1057.62 175.209 1060.83 Q172.107 1064.03 166.459 1069.79 Z\" fill=\"#000000\" fill-rule=\"evenodd\" fill-opacity=\"1\" /><path clip-path=\"url(#clip470)\" d=\"M192.639 1039.17 L210.996 1039.17 L210.996 1043.1 L196.922 1043.1 L196.922 1051.57 Q197.94 1051.23 198.959 1051.07 Q199.977 1050.88 200.996 1050.88 Q206.783 1050.88 210.162 1054.05 Q213.542 1057.22 213.542 1062.64 Q213.542 1068.22 210.07 1071.32 Q206.598 1074.4 200.278 1074.4 Q198.102 1074.4 195.834 1074.03 Q193.588 1073.66 191.181 1072.92 L191.181 1068.22 Q193.264 1069.35 195.487 1069.91 Q197.709 1070.46 200.186 1070.46 Q204.19 1070.46 206.528 1068.36 Q208.866 1066.25 208.866 1062.64 Q208.866 1059.03 206.528 1056.92 Q204.19 1054.82 200.186 1054.82 Q198.311 1054.82 196.436 1055.23 Q194.584 1055.65 192.639 1056.53 L192.639 1039.17 Z\" fill=\"#000000\" fill-rule=\"evenodd\" fill-opacity=\"1\" /><path clip-path=\"url(#clip470)\" d=\"M126.205 714.455 Q122.593 714.455 120.765 718.02 Q118.959 721.561 118.959 728.691 Q118.959 735.797 120.765 739.362 Q122.593 742.904 126.205 742.904 Q129.839 742.904 131.644 739.362 Q133.473 735.797 133.473 728.691 Q133.473 721.561 131.644 718.02 Q129.839 714.455 126.205 714.455 M126.205 710.751 Q132.015 710.751 135.07 715.358 Q138.149 719.941 138.149 728.691 Q138.149 737.418 135.07 742.024 Q132.015 746.607 126.205 746.607 Q120.394 746.607 117.316 742.024 Q114.26 737.418 114.26 728.691 Q114.26 719.941 117.316 715.358 Q120.394 710.751 126.205 710.751 Z\" fill=\"#000000\" fill-rule=\"evenodd\" fill-opacity=\"1\" /><path clip-path=\"url(#clip470)\" d=\"M146.366 740.057 L151.251 740.057 L151.251 745.936 L146.366 745.936 L146.366 740.057 Z\" fill=\"#000000\" fill-rule=\"evenodd\" fill-opacity=\"1\" /><path clip-path=\"url(#clip470)\" d=\"M161.482 711.376 L179.839 711.376 L179.839 715.311 L165.765 715.311 L165.765 723.783 Q166.783 723.436 167.802 723.274 Q168.82 723.089 169.839 723.089 Q175.626 723.089 179.005 726.26 Q182.385 729.432 182.385 734.848 Q182.385 740.427 178.913 743.529 Q175.44 746.607 169.121 746.607 Q166.945 746.607 164.677 746.237 Q162.431 745.867 160.024 745.126 L160.024 740.427 Q162.107 741.561 164.329 742.117 Q166.552 742.672 169.028 742.672 Q173.033 742.672 175.371 740.566 Q177.709 738.459 177.709 734.848 Q177.709 731.237 175.371 729.131 Q173.033 727.024 169.028 727.024 Q167.153 727.024 165.278 727.441 Q163.427 727.858 161.482 728.737 L161.482 711.376 Z\" fill=\"#000000\" fill-rule=\"evenodd\" fill-opacity=\"1\" /><path clip-path=\"url(#clip470)\" d=\"M201.598 714.455 Q197.987 714.455 196.158 718.02 Q194.352 721.561 194.352 728.691 Q194.352 735.797 196.158 739.362 Q197.987 742.904 201.598 742.904 Q205.232 742.904 207.037 739.362 Q208.866 735.797 208.866 728.691 Q208.866 721.561 207.037 718.02 Q205.232 714.455 201.598 714.455 M201.598 710.751 Q207.408 710.751 210.463 715.358 Q213.542 719.941 213.542 728.691 Q213.542 737.418 210.463 742.024 Q207.408 746.607 201.598 746.607 Q195.787 746.607 192.709 742.024 Q189.653 737.418 189.653 728.691 Q189.653 719.941 192.709 715.358 Q195.787 710.751 201.598 710.751 Z\" fill=\"#000000\" fill-rule=\"evenodd\" fill-opacity=\"1\" /><path clip-path=\"url(#clip470)\" d=\"M127.2 386.664 Q123.589 386.664 121.76 390.229 Q119.955 393.77 119.955 400.9 Q119.955 408.006 121.76 411.571 Q123.589 415.113 127.2 415.113 Q130.834 415.113 132.64 411.571 Q134.468 408.006 134.468 400.9 Q134.468 393.77 132.64 390.229 Q130.834 386.664 127.2 386.664 M127.2 382.96 Q133.01 382.96 136.066 387.567 Q139.144 392.15 139.144 400.9 Q139.144 409.627 136.066 414.233 Q133.01 418.816 127.2 418.816 Q121.39 418.816 118.311 414.233 Q115.256 409.627 115.256 400.9 Q115.256 392.15 118.311 387.567 Q121.39 382.96 127.2 382.96 Z\" fill=\"#000000\" fill-rule=\"evenodd\" fill-opacity=\"1\" /><path clip-path=\"url(#clip470)\" d=\"M147.362 412.265 L152.246 412.265 L152.246 418.145 L147.362 418.145 L147.362 412.265 Z\" fill=\"#000000\" fill-rule=\"evenodd\" fill-opacity=\"1\" /><path clip-path=\"url(#clip470)\" d=\"M161.251 383.585 L183.473 383.585 L183.473 385.576 L170.927 418.145 L166.042 418.145 L177.848 387.52 L161.251 387.52 L161.251 383.585 Z\" fill=\"#000000\" fill-rule=\"evenodd\" fill-opacity=\"1\" /><path clip-path=\"url(#clip470)\" d=\"M192.639 383.585 L210.996 383.585 L210.996 387.52 L196.922 387.52 L196.922 395.992 Q197.94 395.645 198.959 395.483 Q199.977 395.298 200.996 395.298 Q206.783 395.298 210.162 398.469 Q213.542 401.641 213.542 407.057 Q213.542 412.636 210.07 415.738 Q206.598 418.816 200.278 418.816 Q198.102 418.816 195.834 418.446 Q193.588 418.076 191.181 417.335 L191.181 412.636 Q193.264 413.77 195.487 414.326 Q197.709 414.881 200.186 414.881 Q204.19 414.881 206.528 412.775 Q208.866 410.668 208.866 407.057 Q208.866 403.446 206.528 401.34 Q204.19 399.233 200.186 399.233 Q198.311 399.233 196.436 399.65 Q194.584 400.066 192.639 400.946 L192.639 383.585 Z\" fill=\"#000000\" fill-rule=\"evenodd\" fill-opacity=\"1\" /><path clip-path=\"url(#clip470)\" d=\"M117.015 86.4189 L124.654 86.4189 L124.654 60.0533 L116.343 61.7199 L116.343 57.4607 L124.607 55.794 L129.283 55.794 L129.283 86.4189 L136.922 86.4189 L136.922 90.354 L117.015 90.354 L117.015 86.4189 Z\" fill=\"#000000\" fill-rule=\"evenodd\" fill-opacity=\"1\" /><path clip-path=\"url(#clip470)\" d=\"M146.366 84.4744 L151.251 84.4744 L151.251 90.354 L146.366 90.354 L146.366 84.4744 Z\" fill=\"#000000\" fill-rule=\"evenodd\" fill-opacity=\"1\" /><path clip-path=\"url(#clip470)\" d=\"M171.436 58.8727 Q167.825 58.8727 165.996 62.4375 Q164.19 65.9792 164.19 73.1088 Q164.19 80.2152 165.996 83.78 Q167.825 87.3216 171.436 87.3216 Q175.07 87.3216 176.876 83.78 Q178.704 80.2152 178.704 73.1088 Q178.704 65.9792 176.876 62.4375 Q175.07 58.8727 171.436 58.8727 M171.436 55.169 Q177.246 55.169 180.301 59.7755 Q183.38 64.3588 183.38 73.1088 Q183.38 81.8356 180.301 86.442 Q177.246 91.0253 171.436 91.0253 Q165.626 91.0253 162.547 86.442 Q159.491 81.8356 159.491 73.1088 Q159.491 64.3588 162.547 59.7755 Q165.626 55.169 171.436 55.169 Z\" fill=\"#000000\" fill-rule=\"evenodd\" fill-opacity=\"1\" /><path clip-path=\"url(#clip470)\" d=\"M201.598 58.8727 Q197.987 58.8727 196.158 62.4375 Q194.352 65.9792 194.352 73.1088 Q194.352 80.2152 196.158 83.78 Q197.987 87.3216 201.598 87.3216 Q205.232 87.3216 207.037 83.78 Q208.866 80.2152 208.866 73.1088 Q208.866 65.9792 207.037 62.4375 Q205.232 58.8727 201.598 58.8727 M201.598 55.169 Q207.408 55.169 210.463 59.7755 Q213.542 64.3588 213.542 73.1088 Q213.542 81.8356 210.463 86.442 Q207.408 91.0253 201.598 91.0253 Q195.787 91.0253 192.709 86.442 Q189.653 81.8356 189.653 73.1088 Q189.653 64.3588 192.709 59.7755 Q195.787 55.169 201.598 55.169 Z\" fill=\"#000000\" fill-rule=\"evenodd\" fill-opacity=\"1\" /><path clip-path=\"url(#clip470)\" d=\"M21.7677 890.981 L39.6235 890.981 L39.6235 882.896 Q39.6235 878.409 37.3 875.958 Q34.9765 873.507 30.6797 873.507 Q26.4147 873.507 24.0912 875.958 Q21.7677 878.409 21.7677 882.896 L21.7677 890.981 M16.4842 897.41 L16.4842 882.896 Q16.4842 874.907 20.1126 870.833 Q23.7092 866.727 30.6797 866.727 Q37.7138 866.727 41.3104 870.833 Q44.907 874.907 44.907 882.896 L44.907 890.981 L64.0042 890.981 L64.0042 897.41 L16.4842 897.41 Z\" fill=\"#000000\" fill-rule=\"evenodd\" fill-opacity=\"1\" /><path clip-path=\"url(#clip470)\" d=\"M33.8307 838.846 Q33.2578 839.832 33.0032 841.01 Q32.7167 842.156 32.7167 843.556 Q32.7167 848.522 35.9632 851.195 Q39.1779 853.837 45.2253 853.837 L64.0042 853.837 L64.0042 859.725 L28.3562 859.725 L28.3562 853.837 L33.8944 853.837 Q30.6479 851.991 29.0883 849.031 Q27.4968 846.071 27.4968 841.838 Q27.4968 841.233 27.5923 840.501 Q27.656 839.769 27.8151 838.878 L33.8307 838.846 Z\" fill=\"#000000\" fill-rule=\"evenodd\" fill-opacity=\"1\" /><path clip-path=\"url(#clip470)\" d=\"M32.4621 820.321 Q32.4621 825.032 36.1542 827.769 Q39.8145 830.507 46.212 830.507 Q52.6095 830.507 56.3017 827.801 Q59.9619 825.064 59.9619 820.321 Q59.9619 815.643 56.2698 812.905 Q52.5777 810.168 46.212 810.168 Q39.8781 810.168 36.186 812.905 Q32.4621 815.643 32.4621 820.321 M27.4968 820.321 Q27.4968 812.683 32.4621 808.322 Q37.4273 803.962 46.212 803.962 Q54.9649 803.962 59.9619 808.322 Q64.9272 812.683 64.9272 820.321 Q64.9272 827.992 59.9619 832.353 Q54.9649 836.681 46.212 836.681 Q37.4273 836.681 32.4621 832.353 Q27.4968 827.992 27.4968 820.321 Z\" fill=\"#000000\" fill-rule=\"evenodd\" fill-opacity=\"1\" /><path clip-path=\"url(#clip470)\" d=\"M58.657 788.588 L77.5631 788.588 L77.5631 794.477 L28.3562 794.477 L28.3562 788.588 L33.7671 788.588 Q30.5842 786.742 29.0564 783.941 Q27.4968 781.109 27.4968 777.194 Q27.4968 770.701 32.6531 766.659 Q37.8093 762.585 46.212 762.585 Q54.6147 762.585 59.771 766.659 Q64.9272 770.701 64.9272 777.194 Q64.9272 781.109 63.3994 783.941 Q61.8398 786.742 58.657 788.588 M46.212 768.664 Q39.7508 768.664 36.0905 771.337 Q32.3984 773.979 32.3984 778.626 Q32.3984 783.273 36.0905 785.947 Q39.7508 788.588 46.212 788.588 Q52.6732 788.588 56.3653 785.947 Q60.0256 783.273 60.0256 778.626 Q60.0256 773.979 56.3653 771.337 Q52.6732 768.664 46.212 768.664 Z\" fill=\"#000000\" fill-rule=\"evenodd\" fill-opacity=\"1\" /><path clip-path=\"url(#clip470)\" d=\"M32.4621 739.063 Q32.4621 743.774 36.1542 746.511 Q39.8145 749.248 46.212 749.248 Q52.6095 749.248 56.3017 746.543 Q59.9619 743.806 59.9619 739.063 Q59.9619 734.384 56.2698 731.647 Q52.5777 728.91 46.212 728.91 Q39.8781 728.91 36.186 731.647 Q32.4621 734.384 32.4621 739.063 M27.4968 739.063 Q27.4968 731.424 32.4621 727.064 Q37.4273 722.703 46.212 722.703 Q54.9649 722.703 59.9619 727.064 Q64.9272 731.424 64.9272 739.063 Q64.9272 746.734 59.9619 751.094 Q54.9649 755.423 46.212 755.423 Q37.4273 755.423 32.4621 751.094 Q27.4968 746.734 27.4968 739.063 Z\" fill=\"#000000\" fill-rule=\"evenodd\" fill-opacity=\"1\" /><path clip-path=\"url(#clip470)\" d=\"M33.8307 692.339 Q33.2578 693.326 33.0032 694.503 Q32.7167 695.649 32.7167 697.05 Q32.7167 702.015 35.9632 704.688 Q39.1779 707.33 45.2253 707.33 L64.0042 707.33 L64.0042 713.218 L28.3562 713.218 L28.3562 707.33 L33.8944 707.33 Q30.6479 705.484 29.0883 702.524 Q27.4968 699.564 27.4968 695.331 Q27.4968 694.726 27.5923 693.994 Q27.656 693.262 27.8151 692.371 L33.8307 692.339 Z\" fill=\"#000000\" fill-rule=\"evenodd\" fill-opacity=\"1\" /><path clip-path=\"url(#clip470)\" d=\"M18.2347 680.403 L28.3562 680.403 L28.3562 668.34 L32.9077 668.34 L32.9077 680.403 L52.2594 680.403 Q56.6199 680.403 57.8613 679.226 Q59.1026 678.016 59.1026 674.356 L59.1026 668.34 L64.0042 668.34 L64.0042 674.356 Q64.0042 681.135 61.4897 683.713 Q58.9434 686.292 52.2594 686.292 L32.9077 686.292 L32.9077 690.588 L28.3562 690.588 L28.3562 686.292 L18.2347 686.292 L18.2347 680.403 Z\" fill=\"#000000\" fill-rule=\"evenodd\" fill-opacity=\"1\" /><path clip-path=\"url(#clip470)\" d=\"M28.3562 660.638 L28.3562 654.781 L64.0042 654.781 L64.0042 660.638 L28.3562 660.638 M14.479 660.638 L14.479 654.781 L21.895 654.781 L21.895 660.638 L14.479 660.638 Z\" fill=\"#000000\" fill-rule=\"evenodd\" fill-opacity=\"1\" /><path clip-path=\"url(#clip470)\" d=\"M32.4621 628.714 Q32.4621 633.424 36.1542 636.162 Q39.8145 638.899 46.212 638.899 Q52.6095 638.899 56.3017 636.193 Q59.9619 633.456 59.9619 628.714 Q59.9619 624.035 56.2698 621.298 Q52.5777 618.56 46.212 618.56 Q39.8781 618.56 36.186 621.298 Q32.4621 624.035 32.4621 628.714 M27.4968 628.714 Q27.4968 621.075 32.4621 616.714 Q37.4273 612.354 46.212 612.354 Q54.9649 612.354 59.9619 616.714 Q64.9272 621.075 64.9272 628.714 Q64.9272 636.384 59.9619 640.745 Q54.9649 645.074 46.212 645.074 Q37.4273 645.074 32.4621 640.745 Q27.4968 636.384 27.4968 628.714 Z\" fill=\"#000000\" fill-rule=\"evenodd\" fill-opacity=\"1\" /><path clip-path=\"url(#clip470)\" d=\"M42.4881 573.014 L64.0042 573.014 L64.0042 578.87 L42.679 578.87 Q37.6183 578.87 35.1038 580.844 Q32.5894 582.817 32.5894 586.764 Q32.5894 591.506 35.6131 594.243 Q38.6368 596.981 43.8567 596.981 L64.0042 596.981 L64.0042 602.869 L28.3562 602.869 L28.3562 596.981 L33.8944 596.981 Q30.6797 594.88 29.0883 592.047 Q27.4968 589.183 27.4968 585.459 Q27.4968 579.316 31.3163 576.165 Q35.1038 573.014 42.4881 573.014 Z\" fill=\"#000000\" fill-rule=\"evenodd\" fill-opacity=\"1\" /><polyline clip-path=\"url(#clip472)\" style=\"stroke:#009af9; stroke-linecap:round; stroke-linejoin:round; stroke-width:4; stroke-opacity:1; fill:none\" points=\"\n",
       "  249.542,86.1857 302.122,93.5159 354.703,102.794 407.283,114.475 459.863,129.084 512.444,147.203 565.024,169.448 617.604,196.419 670.185,228.633 722.765,266.433 \n",
       "  775.346,309.889 827.926,358.702 880.506,412.151 933.087,469.102 985.667,528.096 1038.25,587.508 1090.83,645.737 1143.41,701.378 1195.99,753.349 1248.57,800.938 \n",
       "  1301.15,843.795 1353.73,881.866 1406.31,915.322 1458.89,944.478 1511.47,969.729 1564.05,991.5 1616.63,1010.21 1669.21,1026.26 1721.79,1040 1774.37,1051.77 \n",
       "  1826.95,1061.83 1879.53,1070.45 1932.11,1077.82 1984.69,1084.13 2037.27,1089.53 2089.85,1094.16 2142.43,1098.13 2195.01,1101.53 2247.6,1104.45 2300.18,1106.96 \n",
       "  2352.76,1109.11 \n",
       "  \"/>\n",
       "<polyline clip-path=\"url(#clip472)\" style=\"stroke:#e26f46; stroke-linecap:round; stroke-linejoin:round; stroke-width:4; stroke-opacity:1; fill:none\" points=\"\n",
       "  249.542,1371.13 302.122,1367.51 354.703,1362.96 407.283,1357.28 459.863,1350.26 512.444,1341.67 565.024,1331.33 617.604,1319.07 670.185,1304.88 722.765,1288.89 \n",
       "  775.346,1271.43 827.926,1253.1 880.506,1234.74 933.087,1217.37 985.667,1202.06 1038.25,1189.8 1090.83,1181.32 1143.41,1177.04 1195.99,1176.96 1248.57,1180.79 \n",
       "  1301.15,1187.96 1353.73,1197.78 1406.31,1209.5 1458.89,1222.43 1511.47,1235.95 1564.05,1249.55 1616.63,1262.84 1669.21,1275.54 1721.79,1287.46 1774.37,1298.49 \n",
       "  1826.95,1308.58 1879.53,1317.72 1932.11,1325.93 1984.69,1333.26 2037.27,1339.77 2089.85,1345.53 2142.43,1350.59 2195.01,1355.03 2247.6,1358.92 2300.18,1362.31 \n",
       "  2352.76,1365.26 \n",
       "  \"/>\n",
       "<polyline clip-path=\"url(#clip472)\" style=\"stroke:#3da44d; stroke-linecap:round; stroke-linejoin:round; stroke-width:4; stroke-opacity:1; fill:none\" points=\"\n",
       "  249.542,1384.24 302.122,1376.91 354.703,1367.63 407.283,1355.95 459.863,1341.34 512.444,1323.22 565.024,1300.98 617.604,1274.01 670.185,1241.79 722.765,1203.99 \n",
       "  775.346,1160.53 827.926,1111.72 880.506,1058.27 933.087,1001.32 985.667,942.328 1038.25,882.916 1090.83,824.687 1143.41,769.046 1195.99,717.075 1248.57,669.486 \n",
       "  1301.15,626.629 1353.73,588.558 1406.31,555.102 1458.89,525.946 1511.47,500.695 1564.05,478.924 1616.63,460.214 1669.21,444.167 1721.79,430.422 1774.37,418.658 \n",
       "  1826.95,408.592 1879.53,399.978 1932.11,392.607 1984.69,386.297 2037.27,380.892 2089.85,376.262 2142.43,372.293 2195.01,368.89 2247.6,365.97 2300.18,363.465 \n",
       "  2352.76,361.314 \n",
       "  \"/>\n",
       "<path clip-path=\"url(#clip470)\" d=\"\n",
       "M2022.04 300.469 L2282.65 300.469 L2282.65 93.1086 L2022.04 93.1086  Z\n",
       "  \" fill=\"#ffffff\" fill-rule=\"evenodd\" fill-opacity=\"1\"/>\n",
       "<polyline clip-path=\"url(#clip470)\" style=\"stroke:#000000; stroke-linecap:round; stroke-linejoin:round; stroke-width:4; stroke-opacity:1; fill:none\" points=\"\n",
       "  2022.04,300.469 2282.65,300.469 2282.65,93.1086 2022.04,93.1086 2022.04,300.469 \n",
       "  \"/>\n",
       "<polyline clip-path=\"url(#clip470)\" style=\"stroke:#009af9; stroke-linecap:round; stroke-linejoin:round; stroke-width:4; stroke-opacity:1; fill:none\" points=\"\n",
       "  2045.41,144.949 2185.62,144.949 \n",
       "  \"/>\n",
       "<path clip-path=\"url(#clip470)\" d=\"M2231.23 128.803 L2231.23 133.363 Q2228.57 132.09 2226.21 131.465 Q2223.85 130.84 2221.65 130.84 Q2217.83 130.84 2215.75 132.321 Q2213.69 133.803 2213.69 136.534 Q2213.69 138.826 2215.05 140.007 Q2216.44 141.164 2220.29 141.882 L2223.11 142.46 Q2228.34 143.456 2230.82 145.979 Q2233.32 148.479 2233.32 152.692 Q2233.32 157.715 2229.94 160.307 Q2226.58 162.9 2220.08 162.9 Q2217.62 162.9 2214.85 162.344 Q2212.09 161.789 2209.13 160.701 L2209.13 155.886 Q2211.98 157.483 2214.71 158.293 Q2217.44 159.104 2220.08 159.104 Q2224.08 159.104 2226.26 157.53 Q2228.43 155.956 2228.43 153.039 Q2228.43 150.493 2226.86 149.057 Q2225.31 147.622 2221.74 146.905 L2218.9 146.349 Q2213.67 145.307 2211.33 143.085 Q2208.99 140.863 2208.99 136.905 Q2208.99 132.321 2212.21 129.682 Q2215.45 127.044 2221.12 127.044 Q2223.55 127.044 2226.07 127.483 Q2228.6 127.923 2231.23 128.803 Z\" fill=\"#000000\" fill-rule=\"evenodd\" fill-opacity=\"1\" /><polyline clip-path=\"url(#clip470)\" style=\"stroke:#e26f46; stroke-linecap:round; stroke-linejoin:round; stroke-width:4; stroke-opacity:1; fill:none\" points=\"\n",
       "  2045.41,196.789 2185.62,196.789 \n",
       "  \"/>\n",
       "<path clip-path=\"url(#clip470)\" d=\"M2208.99 179.509 L2213.67 179.509 L2213.67 214.069 L2208.99 214.069 L2208.99 179.509 Z\" fill=\"#000000\" fill-rule=\"evenodd\" fill-opacity=\"1\" /><polyline clip-path=\"url(#clip470)\" style=\"stroke:#3da44d; stroke-linecap:round; stroke-linejoin:round; stroke-width:4; stroke-opacity:1; fill:none\" points=\"\n",
       "  2045.41,248.629 2185.62,248.629 \n",
       "  \"/>\n",
       "<path clip-path=\"url(#clip470)\" d=\"M2225.38 249.705 Q2226.88 250.214 2228.29 251.881 Q2229.73 253.548 2231.17 256.464 L2235.91 265.909 L2230.89 265.909 L2226.47 257.043 Q2224.75 253.571 2223.13 252.436 Q2221.54 251.302 2218.76 251.302 L2213.67 251.302 L2213.67 265.909 L2208.99 265.909 L2208.99 231.349 L2219.55 231.349 Q2225.47 231.349 2228.39 233.825 Q2231.3 236.302 2231.3 241.302 Q2231.3 244.566 2229.78 246.719 Q2228.27 248.872 2225.38 249.705 M2213.67 235.191 L2213.67 247.46 L2219.55 247.46 Q2222.92 247.46 2224.64 245.909 Q2226.37 244.335 2226.37 241.302 Q2226.37 238.27 2224.64 236.742 Q2222.92 235.191 2219.55 235.191 L2213.67 235.191 Z\" fill=\"#000000\" fill-rule=\"evenodd\" fill-opacity=\"1\" /></svg>\n"
      ]
     },
     "execution_count": 8,
     "metadata": {},
     "output_type": "execute_result"
    }
   ],
   "source": [
    "plot(sir_sol,\n",
    "     xlabel = \"Time\",\n",
    "     ylabel = \"Proportion\",\n",
    "     labels = [\"S\" \"I\" \"R\"])"
   ]
  },
  {
   "cell_type": "markdown",
   "metadata": {},
   "source": [
    "## Generating the measurement\n",
    "- The time series data is processed with Poisson noise"
   ]
  },
  {
   "cell_type": "code",
   "execution_count": 9,
   "metadata": {
    "execution": {
     "iopub.execute_input": "2022-10-24T14:09:04.065000Z",
     "iopub.status.busy": "2022-10-24T14:09:04.064000Z",
     "iopub.status.idle": "2022-10-24T14:09:05.048000Z",
     "shell.execute_reply": "2022-10-24T14:09:05.048000Z"
    }
   },
   "outputs": [],
   "source": [
    "train_time = 30.0\n",
    "tsdata = Array(sir_sol(0:δt:train_time))\n",
    "cdata = diff(tsdata[3,:])\n",
    "noisy_data = rand.(Poisson.(N .* cdata));"
   ]
  },
  {
   "cell_type": "code",
   "execution_count": 10,
   "metadata": {
    "execution": {
     "iopub.execute_input": "2022-10-24T14:09:05.052000Z",
     "iopub.status.busy": "2022-10-24T14:09:05.052000Z",
     "iopub.status.idle": "2022-10-24T14:09:07.489000Z",
     "shell.execute_reply": "2022-10-24T14:09:07.489000Z"
    }
   },
   "outputs": [
    {
     "data": {
      "image/svg+xml": [
       "<?xml version=\"1.0\" encoding=\"utf-8\"?>\n",
       "<svg xmlns=\"http://www.w3.org/2000/svg\" xmlns:xlink=\"http://www.w3.org/1999/xlink\" width=\"600\" height=\"400\" viewBox=\"0 0 2400 1600\">\n",
       "<defs>\n",
       "  <clipPath id=\"clip510\">\n",
       "    <rect x=\"0\" y=\"0\" width=\"2400\" height=\"1600\"/>\n",
       "  </clipPath>\n",
       "</defs>\n",
       "<path clip-path=\"url(#clip510)\" d=\"\n",
       "M0 1600 L2400 1600 L2400 0 L0 0  Z\n",
       "  \" fill=\"#ffffff\" fill-rule=\"evenodd\" fill-opacity=\"1\"/>\n",
       "<defs>\n",
       "  <clipPath id=\"clip511\">\n",
       "    <rect x=\"480\" y=\"0\" width=\"1681\" height=\"1600\"/>\n",
       "  </clipPath>\n",
       "</defs>\n",
       "<path clip-path=\"url(#clip510)\" d=\"\n",
       "M205.121 1423.18 L2352.76 1423.18 L2352.76 47.2441 L205.121 47.2441  Z\n",
       "  \" fill=\"#ffffff\" fill-rule=\"evenodd\" fill-opacity=\"1\"/>\n",
       "<defs>\n",
       "  <clipPath id=\"clip512\">\n",
       "    <rect x=\"205\" y=\"47\" width=\"2149\" height=\"1377\"/>\n",
       "  </clipPath>\n",
       "</defs>\n",
       "<polyline clip-path=\"url(#clip512)\" style=\"stroke:#000000; stroke-linecap:round; stroke-linejoin:round; stroke-width:2; stroke-opacity:0.1; fill:none\" points=\"\n",
       "  545.361,1423.18 545.361,47.2441 \n",
       "  \"/>\n",
       "<polyline clip-path=\"url(#clip512)\" style=\"stroke:#000000; stroke-linecap:round; stroke-linejoin:round; stroke-width:2; stroke-opacity:0.1; fill:none\" points=\"\n",
       "  894.684,1423.18 894.684,47.2441 \n",
       "  \"/>\n",
       "<polyline clip-path=\"url(#clip512)\" style=\"stroke:#000000; stroke-linecap:round; stroke-linejoin:round; stroke-width:2; stroke-opacity:0.1; fill:none\" points=\"\n",
       "  1244.01,1423.18 1244.01,47.2441 \n",
       "  \"/>\n",
       "<polyline clip-path=\"url(#clip512)\" style=\"stroke:#000000; stroke-linecap:round; stroke-linejoin:round; stroke-width:2; stroke-opacity:0.1; fill:none\" points=\"\n",
       "  1593.33,1423.18 1593.33,47.2441 \n",
       "  \"/>\n",
       "<polyline clip-path=\"url(#clip512)\" style=\"stroke:#000000; stroke-linecap:round; stroke-linejoin:round; stroke-width:2; stroke-opacity:0.1; fill:none\" points=\"\n",
       "  1942.65,1423.18 1942.65,47.2441 \n",
       "  \"/>\n",
       "<polyline clip-path=\"url(#clip512)\" style=\"stroke:#000000; stroke-linecap:round; stroke-linejoin:round; stroke-width:2; stroke-opacity:0.1; fill:none\" points=\"\n",
       "  2291.97,1423.18 2291.97,47.2441 \n",
       "  \"/>\n",
       "<polyline clip-path=\"url(#clip510)\" style=\"stroke:#000000; stroke-linecap:round; stroke-linejoin:round; stroke-width:4; stroke-opacity:1; fill:none\" points=\"\n",
       "  205.121,1423.18 2352.76,1423.18 \n",
       "  \"/>\n",
       "<polyline clip-path=\"url(#clip510)\" style=\"stroke:#000000; stroke-linecap:round; stroke-linejoin:round; stroke-width:4; stroke-opacity:1; fill:none\" points=\"\n",
       "  545.361,1423.18 545.361,1404.28 \n",
       "  \"/>\n",
       "<polyline clip-path=\"url(#clip510)\" style=\"stroke:#000000; stroke-linecap:round; stroke-linejoin:round; stroke-width:4; stroke-opacity:1; fill:none\" points=\"\n",
       "  894.684,1423.18 894.684,1404.28 \n",
       "  \"/>\n",
       "<polyline clip-path=\"url(#clip510)\" style=\"stroke:#000000; stroke-linecap:round; stroke-linejoin:round; stroke-width:4; stroke-opacity:1; fill:none\" points=\"\n",
       "  1244.01,1423.18 1244.01,1404.28 \n",
       "  \"/>\n",
       "<polyline clip-path=\"url(#clip510)\" style=\"stroke:#000000; stroke-linecap:round; stroke-linejoin:round; stroke-width:4; stroke-opacity:1; fill:none\" points=\"\n",
       "  1593.33,1423.18 1593.33,1404.28 \n",
       "  \"/>\n",
       "<polyline clip-path=\"url(#clip510)\" style=\"stroke:#000000; stroke-linecap:round; stroke-linejoin:round; stroke-width:4; stroke-opacity:1; fill:none\" points=\"\n",
       "  1942.65,1423.18 1942.65,1404.28 \n",
       "  \"/>\n",
       "<polyline clip-path=\"url(#clip510)\" style=\"stroke:#000000; stroke-linecap:round; stroke-linejoin:round; stroke-width:4; stroke-opacity:1; fill:none\" points=\"\n",
       "  2291.97,1423.18 2291.97,1404.28 \n",
       "  \"/>\n",
       "<path clip-path=\"url(#clip510)\" d=\"M535.639 1451.02 L553.995 1451.02 L553.995 1454.96 L539.921 1454.96 L539.921 1463.43 Q540.94 1463.08 541.958 1462.92 Q542.977 1462.73 543.995 1462.73 Q549.782 1462.73 553.162 1465.9 Q556.542 1469.08 556.542 1474.49 Q556.542 1480.07 553.069 1483.17 Q549.597 1486.25 543.278 1486.25 Q541.102 1486.25 538.833 1485.88 Q536.588 1485.51 534.181 1484.77 L534.181 1480.07 Q536.264 1481.2 538.486 1481.76 Q540.708 1482.32 543.185 1482.32 Q547.19 1482.32 549.528 1480.21 Q551.866 1478.1 551.866 1474.49 Q551.866 1470.88 549.528 1468.77 Q547.19 1466.67 543.185 1466.67 Q541.31 1466.67 539.435 1467.08 Q537.583 1467.5 535.639 1468.38 L535.639 1451.02 Z\" fill=\"#000000\" fill-rule=\"evenodd\" fill-opacity=\"1\" /><path clip-path=\"url(#clip510)\" d=\"M869.371 1481.64 L877.01 1481.64 L877.01 1455.28 L868.7 1456.95 L868.7 1452.69 L876.964 1451.02 L881.64 1451.02 L881.64 1481.64 L889.279 1481.64 L889.279 1485.58 L869.371 1485.58 L869.371 1481.64 Z\" fill=\"#000000\" fill-rule=\"evenodd\" fill-opacity=\"1\" /><path clip-path=\"url(#clip510)\" d=\"M908.723 1454.1 Q905.112 1454.1 903.283 1457.66 Q901.478 1461.2 901.478 1468.33 Q901.478 1475.44 903.283 1479.01 Q905.112 1482.55 908.723 1482.55 Q912.357 1482.55 914.163 1479.01 Q915.991 1475.44 915.991 1468.33 Q915.991 1461.2 914.163 1457.66 Q912.357 1454.1 908.723 1454.1 M908.723 1450.39 Q914.533 1450.39 917.589 1455 Q920.667 1459.58 920.667 1468.33 Q920.667 1477.06 917.589 1481.67 Q914.533 1486.25 908.723 1486.25 Q902.913 1486.25 899.834 1481.67 Q896.779 1477.06 896.779 1468.33 Q896.779 1459.58 899.834 1455 Q902.913 1450.39 908.723 1450.39 Z\" fill=\"#000000\" fill-rule=\"evenodd\" fill-opacity=\"1\" /><path clip-path=\"url(#clip510)\" d=\"M1219.19 1481.64 L1226.83 1481.64 L1226.83 1455.28 L1218.52 1456.95 L1218.52 1452.69 L1226.78 1451.02 L1231.46 1451.02 L1231.46 1481.64 L1239.1 1481.64 L1239.1 1485.58 L1219.19 1485.58 L1219.19 1481.64 Z\" fill=\"#000000\" fill-rule=\"evenodd\" fill-opacity=\"1\" /><path clip-path=\"url(#clip510)\" d=\"M1248.59 1451.02 L1266.95 1451.02 L1266.95 1454.96 L1252.87 1454.96 L1252.87 1463.43 Q1253.89 1463.08 1254.91 1462.92 Q1255.93 1462.73 1256.95 1462.73 Q1262.73 1462.73 1266.11 1465.9 Q1269.49 1469.08 1269.49 1474.49 Q1269.49 1480.07 1266.02 1483.17 Q1262.55 1486.25 1256.23 1486.25 Q1254.05 1486.25 1251.78 1485.88 Q1249.54 1485.51 1247.13 1484.77 L1247.13 1480.07 Q1249.21 1481.2 1251.44 1481.76 Q1253.66 1482.32 1256.14 1482.32 Q1260.14 1482.32 1262.48 1480.21 Q1264.82 1478.1 1264.82 1474.49 Q1264.82 1470.88 1262.48 1468.77 Q1260.14 1466.67 1256.14 1466.67 Q1254.26 1466.67 1252.39 1467.08 Q1250.53 1467.5 1248.59 1468.38 L1248.59 1451.02 Z\" fill=\"#000000\" fill-rule=\"evenodd\" fill-opacity=\"1\" /><path clip-path=\"url(#clip510)\" d=\"M1572.1 1481.64 L1588.42 1481.64 L1588.42 1485.58 L1566.48 1485.58 L1566.48 1481.64 Q1569.14 1478.89 1573.72 1474.26 Q1578.33 1469.61 1579.51 1468.27 Q1581.75 1465.74 1582.63 1464.01 Q1583.54 1462.25 1583.54 1460.56 Q1583.54 1457.8 1581.59 1456.07 Q1579.67 1454.33 1576.57 1454.33 Q1574.37 1454.33 1571.92 1455.09 Q1569.49 1455.86 1566.71 1457.41 L1566.71 1452.69 Q1569.53 1451.55 1571.99 1450.97 Q1574.44 1450.39 1576.48 1450.39 Q1581.85 1450.39 1585.04 1453.08 Q1588.24 1455.77 1588.24 1460.26 Q1588.24 1462.39 1587.43 1464.31 Q1586.64 1466.2 1584.53 1468.8 Q1583.95 1469.47 1580.85 1472.69 Q1577.75 1475.88 1572.1 1481.64 Z\" fill=\"#000000\" fill-rule=\"evenodd\" fill-opacity=\"1\" /><path clip-path=\"url(#clip510)\" d=\"M1608.24 1454.1 Q1604.62 1454.1 1602.8 1457.66 Q1600.99 1461.2 1600.99 1468.33 Q1600.99 1475.44 1602.8 1479.01 Q1604.62 1482.55 1608.24 1482.55 Q1611.87 1482.55 1613.68 1479.01 Q1615.5 1475.44 1615.5 1468.33 Q1615.5 1461.2 1613.68 1457.66 Q1611.87 1454.1 1608.24 1454.1 M1608.24 1450.39 Q1614.05 1450.39 1617.1 1455 Q1620.18 1459.58 1620.18 1468.33 Q1620.18 1477.06 1617.1 1481.67 Q1614.05 1486.25 1608.24 1486.25 Q1602.43 1486.25 1599.35 1481.67 Q1596.29 1477.06 1596.29 1468.33 Q1596.29 1459.58 1599.35 1455 Q1602.43 1450.39 1608.24 1450.39 Z\" fill=\"#000000\" fill-rule=\"evenodd\" fill-opacity=\"1\" /><path clip-path=\"url(#clip510)\" d=\"M1921.92 1481.64 L1938.24 1481.64 L1938.24 1485.58 L1916.3 1485.58 L1916.3 1481.64 Q1918.96 1478.89 1923.54 1474.26 Q1928.15 1469.61 1929.33 1468.27 Q1931.57 1465.74 1932.45 1464.01 Q1933.36 1462.25 1933.36 1460.56 Q1933.36 1457.8 1931.41 1456.07 Q1929.49 1454.33 1926.39 1454.33 Q1924.19 1454.33 1921.74 1455.09 Q1919.31 1455.86 1916.53 1457.41 L1916.53 1452.69 Q1919.35 1451.55 1921.81 1450.97 Q1924.26 1450.39 1926.3 1450.39 Q1931.67 1450.39 1934.86 1453.08 Q1938.06 1455.77 1938.06 1460.26 Q1938.06 1462.39 1937.25 1464.31 Q1936.46 1466.2 1934.35 1468.8 Q1933.77 1469.47 1930.67 1472.69 Q1927.57 1475.88 1921.92 1481.64 Z\" fill=\"#000000\" fill-rule=\"evenodd\" fill-opacity=\"1\" /><path clip-path=\"url(#clip510)\" d=\"M1948.1 1451.02 L1966.46 1451.02 L1966.46 1454.96 L1952.38 1454.96 L1952.38 1463.43 Q1953.4 1463.08 1954.42 1462.92 Q1955.44 1462.73 1956.46 1462.73 Q1962.25 1462.73 1965.63 1465.9 Q1969.01 1469.08 1969.01 1474.49 Q1969.01 1480.07 1965.53 1483.17 Q1962.06 1486.25 1955.74 1486.25 Q1953.57 1486.25 1951.3 1485.88 Q1949.05 1485.51 1946.64 1484.77 L1946.64 1480.07 Q1948.73 1481.2 1950.95 1481.76 Q1953.17 1482.32 1955.65 1482.32 Q1959.65 1482.32 1961.99 1480.21 Q1964.33 1478.1 1964.33 1474.49 Q1964.33 1470.88 1961.99 1468.77 Q1959.65 1466.67 1955.65 1466.67 Q1953.77 1466.67 1951.9 1467.08 Q1950.05 1467.5 1948.1 1468.38 L1948.1 1451.02 Z\" fill=\"#000000\" fill-rule=\"evenodd\" fill-opacity=\"1\" /><path clip-path=\"url(#clip510)\" d=\"M2280.82 1466.95 Q2284.17 1467.66 2286.05 1469.93 Q2287.95 1472.2 2287.95 1475.53 Q2287.95 1480.65 2284.43 1483.45 Q2280.91 1486.25 2274.43 1486.25 Q2272.25 1486.25 2269.94 1485.81 Q2267.65 1485.39 2265.19 1484.54 L2265.19 1480.02 Q2267.14 1481.16 2269.45 1481.74 Q2271.77 1482.32 2274.29 1482.32 Q2278.69 1482.32 2280.98 1480.58 Q2283.29 1478.84 2283.29 1475.53 Q2283.29 1472.48 2281.14 1470.77 Q2279.01 1469.03 2275.19 1469.03 L2271.16 1469.03 L2271.16 1465.19 L2275.38 1465.19 Q2278.83 1465.19 2280.65 1463.82 Q2282.48 1462.43 2282.48 1459.84 Q2282.48 1457.18 2280.58 1455.77 Q2278.71 1454.33 2275.19 1454.33 Q2273.27 1454.33 2271.07 1454.75 Q2268.87 1455.16 2266.23 1456.04 L2266.23 1451.88 Q2268.9 1451.14 2271.21 1450.77 Q2273.55 1450.39 2275.61 1450.39 Q2280.93 1450.39 2284.03 1452.83 Q2287.14 1455.23 2287.14 1459.35 Q2287.14 1462.22 2285.49 1464.21 Q2283.85 1466.18 2280.82 1466.95 Z\" fill=\"#000000\" fill-rule=\"evenodd\" fill-opacity=\"1\" /><path clip-path=\"url(#clip510)\" d=\"M2306.81 1454.1 Q2303.2 1454.1 2301.37 1457.66 Q2299.57 1461.2 2299.57 1468.33 Q2299.57 1475.44 2301.37 1479.01 Q2303.2 1482.55 2306.81 1482.55 Q2310.45 1482.55 2312.25 1479.01 Q2314.08 1475.44 2314.08 1468.33 Q2314.08 1461.2 2312.25 1457.66 Q2310.45 1454.1 2306.81 1454.1 M2306.81 1450.39 Q2312.62 1450.39 2315.68 1455 Q2318.76 1459.58 2318.76 1468.33 Q2318.76 1477.06 2315.68 1481.67 Q2312.62 1486.25 2306.81 1486.25 Q2301 1486.25 2297.92 1481.67 Q2294.87 1477.06 2294.87 1468.33 Q2294.87 1459.58 2297.92 1455 Q2301 1450.39 2306.81 1450.39 Z\" fill=\"#000000\" fill-rule=\"evenodd\" fill-opacity=\"1\" /><path clip-path=\"url(#clip510)\" d=\"M1200.82 1520.52 L1241.01 1520.52 L1241.01 1525.93 L1224.15 1525.93 L1224.15 1568.04 L1217.68 1568.04 L1217.68 1525.93 L1200.82 1525.93 L1200.82 1520.52 Z\" fill=\"#000000\" fill-rule=\"evenodd\" fill-opacity=\"1\" /><path clip-path=\"url(#clip510)\" d=\"M1244.96 1532.4 L1250.82 1532.4 L1250.82 1568.04 L1244.96 1568.04 L1244.96 1532.4 M1244.96 1518.52 L1250.82 1518.52 L1250.82 1525.93 L1244.96 1525.93 L1244.96 1518.52 Z\" fill=\"#000000\" fill-rule=\"evenodd\" fill-opacity=\"1\" /><path clip-path=\"url(#clip510)\" d=\"M1290.83 1539.24 Q1293.02 1535.29 1296.08 1533.41 Q1299.13 1531.54 1303.27 1531.54 Q1308.84 1531.54 1311.87 1535.45 Q1314.89 1539.33 1314.89 1546.53 L1314.89 1568.04 L1309 1568.04 L1309 1546.72 Q1309 1541.59 1307.19 1539.11 Q1305.37 1536.63 1301.65 1536.63 Q1297.1 1536.63 1294.45 1539.65 Q1291.81 1542.68 1291.81 1547.9 L1291.81 1568.04 L1285.92 1568.04 L1285.92 1546.72 Q1285.92 1541.56 1284.11 1539.11 Q1282.3 1536.63 1278.51 1536.63 Q1274.02 1536.63 1271.38 1539.68 Q1268.74 1542.71 1268.74 1547.9 L1268.74 1568.04 L1262.85 1568.04 L1262.85 1532.4 L1268.74 1532.4 L1268.74 1537.93 Q1270.74 1534.66 1273.54 1533.1 Q1276.34 1531.54 1280.2 1531.54 Q1284.08 1531.54 1286.78 1533.51 Q1289.52 1535.48 1290.83 1539.24 Z\" fill=\"#000000\" fill-rule=\"evenodd\" fill-opacity=\"1\" /><path clip-path=\"url(#clip510)\" d=\"M1357.06 1548.76 L1357.06 1551.62 L1330.13 1551.62 Q1330.52 1557.67 1333.76 1560.85 Q1337.04 1564 1342.87 1564 Q1346.24 1564 1349.39 1563.17 Q1352.57 1562.35 1355.69 1560.69 L1355.69 1566.23 Q1352.54 1567.57 1349.23 1568.27 Q1345.92 1568.97 1342.52 1568.97 Q1333.99 1568.97 1328.99 1564 Q1324.02 1559.04 1324.02 1550.57 Q1324.02 1541.82 1328.73 1536.69 Q1333.48 1531.54 1341.5 1531.54 Q1348.69 1531.54 1352.86 1536.18 Q1357.06 1540.8 1357.06 1548.76 M1351.21 1547.04 Q1351.14 1542.23 1348.5 1539.37 Q1345.89 1536.5 1341.56 1536.5 Q1336.66 1536.5 1333.7 1539.27 Q1330.77 1542.04 1330.33 1547.07 L1351.21 1547.04 Z\" fill=\"#000000\" fill-rule=\"evenodd\" fill-opacity=\"1\" /><polyline clip-path=\"url(#clip512)\" style=\"stroke:#000000; stroke-linecap:round; stroke-linejoin:round; stroke-width:2; stroke-opacity:0.1; fill:none\" points=\"\n",
       "  205.121,1203.11 2352.76,1203.11 \n",
       "  \"/>\n",
       "<polyline clip-path=\"url(#clip512)\" style=\"stroke:#000000; stroke-linecap:round; stroke-linejoin:round; stroke-width:2; stroke-opacity:0.1; fill:none\" points=\"\n",
       "  205.121,901.242 2352.76,901.242 \n",
       "  \"/>\n",
       "<polyline clip-path=\"url(#clip512)\" style=\"stroke:#000000; stroke-linecap:round; stroke-linejoin:round; stroke-width:2; stroke-opacity:0.1; fill:none\" points=\"\n",
       "  205.121,599.369 2352.76,599.369 \n",
       "  \"/>\n",
       "<polyline clip-path=\"url(#clip512)\" style=\"stroke:#000000; stroke-linecap:round; stroke-linejoin:round; stroke-width:2; stroke-opacity:0.1; fill:none\" points=\"\n",
       "  205.121,297.497 2352.76,297.497 \n",
       "  \"/>\n",
       "<polyline clip-path=\"url(#clip510)\" style=\"stroke:#000000; stroke-linecap:round; stroke-linejoin:round; stroke-width:4; stroke-opacity:1; fill:none\" points=\"\n",
       "  205.121,1423.18 205.121,47.2441 \n",
       "  \"/>\n",
       "<polyline clip-path=\"url(#clip510)\" style=\"stroke:#000000; stroke-linecap:round; stroke-linejoin:round; stroke-width:4; stroke-opacity:1; fill:none\" points=\"\n",
       "  205.121,1203.11 224.019,1203.11 \n",
       "  \"/>\n",
       "<polyline clip-path=\"url(#clip510)\" style=\"stroke:#000000; stroke-linecap:round; stroke-linejoin:round; stroke-width:4; stroke-opacity:1; fill:none\" points=\"\n",
       "  205.121,901.242 224.019,901.242 \n",
       "  \"/>\n",
       "<polyline clip-path=\"url(#clip510)\" style=\"stroke:#000000; stroke-linecap:round; stroke-linejoin:round; stroke-width:4; stroke-opacity:1; fill:none\" points=\"\n",
       "  205.121,599.369 224.019,599.369 \n",
       "  \"/>\n",
       "<polyline clip-path=\"url(#clip510)\" style=\"stroke:#000000; stroke-linecap:round; stroke-linejoin:round; stroke-width:4; stroke-opacity:1; fill:none\" points=\"\n",
       "  205.121,297.497 224.019,297.497 \n",
       "  \"/>\n",
       "<path clip-path=\"url(#clip510)\" d=\"M117.825 1216.46 L125.464 1216.46 L125.464 1190.09 L117.154 1191.76 L117.154 1187.5 L125.418 1185.83 L130.093 1185.83 L130.093 1216.46 L137.732 1216.46 L137.732 1220.39 L117.825 1220.39 L117.825 1216.46 Z\" fill=\"#000000\" fill-rule=\"evenodd\" fill-opacity=\"1\" /><path clip-path=\"url(#clip510)\" d=\"M157.177 1188.91 Q153.566 1188.91 151.737 1192.48 Q149.931 1196.02 149.931 1203.15 Q149.931 1210.26 151.737 1213.82 Q153.566 1217.36 157.177 1217.36 Q160.811 1217.36 162.616 1213.82 Q164.445 1210.26 164.445 1203.15 Q164.445 1196.02 162.616 1192.48 Q160.811 1188.91 157.177 1188.91 M157.177 1185.21 Q162.987 1185.21 166.042 1189.82 Q169.121 1194.4 169.121 1203.15 Q169.121 1211.88 166.042 1216.48 Q162.987 1221.07 157.177 1221.07 Q151.366 1221.07 148.288 1216.48 Q145.232 1211.88 145.232 1203.15 Q145.232 1194.4 148.288 1189.82 Q151.366 1185.21 157.177 1185.21 Z\" fill=\"#000000\" fill-rule=\"evenodd\" fill-opacity=\"1\" /><path clip-path=\"url(#clip510)\" d=\"M121.043 914.587 L137.362 914.587 L137.362 918.522 L115.418 918.522 L115.418 914.587 Q118.08 911.832 122.663 907.203 Q127.269 902.55 128.45 901.207 Q130.695 898.684 131.575 896.948 Q132.478 895.189 132.478 893.499 Q132.478 890.744 130.533 889.008 Q128.612 887.272 125.51 887.272 Q123.311 887.272 120.857 888.036 Q118.427 888.8 115.649 890.351 L115.649 885.629 Q118.473 884.494 120.927 883.916 Q123.38 883.337 125.418 883.337 Q130.788 883.337 133.982 886.022 Q137.177 888.707 137.177 893.198 Q137.177 895.328 136.367 897.249 Q135.579 899.147 133.473 901.74 Q132.894 902.411 129.792 905.629 Q126.691 908.823 121.043 914.587 Z\" fill=\"#000000\" fill-rule=\"evenodd\" fill-opacity=\"1\" /><path clip-path=\"url(#clip510)\" d=\"M157.177 887.041 Q153.566 887.041 151.737 890.605 Q149.931 894.147 149.931 901.277 Q149.931 908.383 151.737 911.948 Q153.566 915.49 157.177 915.49 Q160.811 915.49 162.616 911.948 Q164.445 908.383 164.445 901.277 Q164.445 894.147 162.616 890.605 Q160.811 887.041 157.177 887.041 M157.177 883.337 Q162.987 883.337 166.042 887.943 Q169.121 892.527 169.121 901.277 Q169.121 910.003 166.042 914.61 Q162.987 919.193 157.177 919.193 Q151.366 919.193 148.288 914.61 Q145.232 910.003 145.232 901.277 Q145.232 892.527 148.288 887.943 Q151.366 883.337 157.177 883.337 Z\" fill=\"#000000\" fill-rule=\"evenodd\" fill-opacity=\"1\" /><path clip-path=\"url(#clip510)\" d=\"M131.181 598.015 Q134.538 598.733 136.413 601.001 Q138.311 603.27 138.311 606.603 Q138.311 611.719 134.792 614.52 Q131.274 617.321 124.793 617.321 Q122.617 617.321 120.302 616.881 Q118.01 616.464 115.556 615.608 L115.556 611.094 Q117.501 612.228 119.816 612.807 Q122.13 613.385 124.654 613.385 Q129.052 613.385 131.343 611.649 Q133.658 609.913 133.658 606.603 Q133.658 603.547 131.505 601.835 Q129.376 600.098 125.556 600.098 L121.529 600.098 L121.529 596.256 L125.742 596.256 Q129.191 596.256 131.019 594.89 Q132.848 593.501 132.848 590.909 Q132.848 588.247 130.95 586.835 Q129.075 585.399 125.556 585.399 Q123.635 585.399 121.436 585.816 Q119.237 586.233 116.598 587.112 L116.598 582.946 Q119.26 582.205 121.575 581.835 Q123.913 581.464 125.973 581.464 Q131.297 581.464 134.399 583.895 Q137.501 586.302 137.501 590.423 Q137.501 593.293 135.857 595.284 Q134.214 597.251 131.181 598.015 Z\" fill=\"#000000\" fill-rule=\"evenodd\" fill-opacity=\"1\" /><path clip-path=\"url(#clip510)\" d=\"M157.177 585.168 Q153.566 585.168 151.737 588.733 Q149.931 592.274 149.931 599.404 Q149.931 606.51 151.737 610.075 Q153.566 613.617 157.177 613.617 Q160.811 613.617 162.616 610.075 Q164.445 606.51 164.445 599.404 Q164.445 592.274 162.616 588.733 Q160.811 585.168 157.177 585.168 M157.177 581.464 Q162.987 581.464 166.042 586.071 Q169.121 590.654 169.121 599.404 Q169.121 608.131 166.042 612.737 Q162.987 617.321 157.177 617.321 Q151.366 617.321 148.288 612.737 Q145.232 608.131 145.232 599.404 Q145.232 590.654 148.288 586.071 Q151.366 581.464 157.177 581.464 Z\" fill=\"#000000\" fill-rule=\"evenodd\" fill-opacity=\"1\" /><path clip-path=\"url(#clip510)\" d=\"M129.862 284.291 L118.056 302.74 L129.862 302.74 L129.862 284.291 M128.635 280.217 L134.515 280.217 L134.515 302.74 L139.445 302.74 L139.445 306.628 L134.515 306.628 L134.515 314.777 L129.862 314.777 L129.862 306.628 L114.26 306.628 L114.26 302.115 L128.635 280.217 Z\" fill=\"#000000\" fill-rule=\"evenodd\" fill-opacity=\"1\" /><path clip-path=\"url(#clip510)\" d=\"M157.177 283.295 Q153.566 283.295 151.737 286.86 Q149.931 290.402 149.931 297.531 Q149.931 304.638 151.737 308.203 Q153.566 311.744 157.177 311.744 Q160.811 311.744 162.616 308.203 Q164.445 304.638 164.445 297.531 Q164.445 290.402 162.616 286.86 Q160.811 283.295 157.177 283.295 M157.177 279.592 Q162.987 279.592 166.042 284.198 Q169.121 288.781 169.121 297.531 Q169.121 306.258 166.042 310.865 Q162.987 315.448 157.177 315.448 Q151.366 315.448 148.288 310.865 Q145.232 306.258 145.232 297.531 Q145.232 288.781 148.288 284.198 Q151.366 279.592 157.177 279.592 Z\" fill=\"#000000\" fill-rule=\"evenodd\" fill-opacity=\"1\" /><path clip-path=\"url(#clip510)\" d=\"M16.4842 1039.21 L16.4842 1030.55 L56.238 1009.48 L16.4842 1009.48 L16.4842 1003.24 L64.0042 1003.24 L64.0042 1011.9 L24.2503 1032.97 L64.0042 1032.97 L64.0042 1039.21 L16.4842 1039.21 Z\" fill=\"#000000\" fill-rule=\"evenodd\" fill-opacity=\"1\" /><path clip-path=\"url(#clip510)\" d=\"M44.7161 960.208 L47.5806 960.208 L47.5806 987.135 Q53.6281 986.753 56.8109 983.506 Q59.9619 980.228 59.9619 974.403 Q59.9619 971.03 59.1344 967.879 Q58.3069 964.696 56.6518 961.576 L62.1899 961.576 Q63.5267 964.728 64.227 968.038 Q64.9272 971.348 64.9272 974.754 Q64.9272 983.284 59.9619 988.281 Q54.9967 993.246 46.5303 993.246 Q37.7774 993.246 32.6531 988.535 Q27.4968 983.793 27.4968 975.772 Q27.4968 968.579 32.1438 964.409 Q36.7589 960.208 44.7161 960.208 M42.9973 966.064 Q38.1912 966.128 35.3266 968.77 Q32.4621 971.38 32.4621 975.708 Q32.4621 980.61 35.2312 983.57 Q38.0002 986.498 43.0292 986.944 L42.9973 966.064 Z\" fill=\"#000000\" fill-rule=\"evenodd\" fill-opacity=\"1\" /><path clip-path=\"url(#clip510)\" d=\"M28.3562 954.001 L28.3562 948.145 L56.1743 940.824 L28.3562 933.536 L28.3562 926.629 L56.1743 919.308 L28.3562 912.019 L28.3562 906.163 L64.0042 915.489 L64.0042 922.396 L34.7856 930.066 L64.0042 937.769 L64.0042 944.676 L28.3562 954.001 Z\" fill=\"#000000\" fill-rule=\"evenodd\" fill-opacity=\"1\" /><path clip-path=\"url(#clip510)\" d=\"M29.7248 850.909 L35.1993 850.909 Q33.8307 853.391 33.1623 855.906 Q32.4621 858.388 32.4621 860.935 Q32.4621 866.632 36.0905 869.783 Q39.6872 872.934 46.212 872.934 Q52.7369 872.934 56.3653 869.783 Q59.9619 866.632 59.9619 860.935 Q59.9619 858.388 59.2935 855.906 Q58.5933 853.391 57.2247 850.909 L62.6355 850.909 Q63.7814 853.359 64.3543 856.001 Q64.9272 858.611 64.9272 861.571 Q64.9272 869.624 59.8664 874.366 Q54.8057 879.109 46.212 879.109 Q37.491 879.109 32.4939 874.334 Q27.4968 869.528 27.4968 861.189 Q27.4968 858.484 28.0697 855.906 Q28.6108 853.328 29.7248 850.909 Z\" fill=\"#000000\" fill-rule=\"evenodd\" fill-opacity=\"1\" /><path clip-path=\"url(#clip510)\" d=\"M46.0847 824.523 Q46.0847 831.621 47.7079 834.358 Q49.3312 837.095 53.2461 837.095 Q56.3653 837.095 58.2114 835.058 Q60.0256 832.989 60.0256 829.456 Q60.0256 824.586 56.5881 821.658 Q53.1188 818.698 47.3897 818.698 L46.0847 818.698 L46.0847 824.523 M43.6657 812.842 L64.0042 812.842 L64.0042 818.698 L58.5933 818.698 Q61.8398 820.703 63.3994 823.695 Q64.9272 826.687 64.9272 831.016 Q64.9272 836.49 61.8716 839.737 Q58.7843 842.952 53.6281 842.952 Q47.6125 842.952 44.5569 838.941 Q41.5014 834.899 41.5014 826.91 L41.5014 818.698 L40.9285 818.698 Q36.8862 818.698 34.6901 821.372 Q32.4621 824.014 32.4621 828.82 Q32.4621 831.875 33.1941 834.772 Q33.9262 837.668 35.3903 840.342 L29.9795 840.342 Q28.7381 837.127 28.1334 834.103 Q27.4968 831.08 27.4968 828.215 Q27.4968 820.481 31.5072 816.661 Q35.5176 812.842 43.6657 812.842 Z\" fill=\"#000000\" fill-rule=\"evenodd\" fill-opacity=\"1\" /><path clip-path=\"url(#clip510)\" d=\"M29.4065 778.053 L34.9447 778.053 Q33.6716 780.536 33.035 783.209 Q32.3984 785.883 32.3984 788.748 Q32.3984 793.108 33.7352 795.304 Q35.072 797.469 37.7456 797.469 Q39.7826 797.469 40.9603 795.909 Q42.1061 794.349 43.1565 789.639 L43.6021 787.634 Q44.9389 781.395 47.3897 778.785 Q49.8086 776.143 54.1691 776.143 Q59.1344 776.143 62.0308 780.09 Q64.9272 784.005 64.9272 790.88 Q64.9272 793.745 64.3543 796.864 Q63.8132 799.951 62.6992 803.389 L56.6518 803.389 Q58.3387 800.142 59.198 796.991 Q60.0256 793.84 60.0256 790.753 Q60.0256 786.615 58.6251 784.387 Q57.1929 782.159 54.6147 782.159 Q52.2276 782.159 50.9545 783.782 Q49.6813 785.374 48.5037 790.816 L48.0262 792.853 Q46.8804 798.296 44.5251 800.715 Q42.138 803.134 38.0002 803.134 Q32.9713 803.134 30.2341 799.569 Q27.4968 796.004 27.4968 789.448 Q27.4968 786.201 27.9743 783.337 Q28.4517 780.472 29.4065 778.053 Z\" fill=\"#000000\" fill-rule=\"evenodd\" fill-opacity=\"1\" /><path clip-path=\"url(#clip510)\" d=\"M44.7161 736.326 L47.5806 736.326 L47.5806 763.253 Q53.6281 762.871 56.8109 759.624 Q59.9619 756.346 59.9619 750.521 Q59.9619 747.148 59.1344 743.997 Q58.3069 740.814 56.6518 737.695 L62.1899 737.695 Q63.5267 740.846 64.227 744.156 Q64.9272 747.466 64.9272 750.872 Q64.9272 759.402 59.9619 764.399 Q54.9967 769.364 46.5303 769.364 Q37.7774 769.364 32.6531 764.653 Q27.4968 759.911 27.4968 751.89 Q27.4968 744.697 32.1438 740.527 Q36.7589 736.326 44.7161 736.326 M42.9973 742.182 Q38.1912 742.246 35.3266 744.888 Q32.4621 747.498 32.4621 751.826 Q32.4621 756.728 35.2312 759.688 Q38.0002 762.616 43.0292 763.062 L42.9973 742.182 Z\" fill=\"#000000\" fill-rule=\"evenodd\" fill-opacity=\"1\" /><path clip-path=\"url(#clip510)\" d=\"M29.4065 703.988 L34.9447 703.988 Q33.6716 706.471 33.035 709.144 Q32.3984 711.818 32.3984 714.683 Q32.3984 719.043 33.7352 721.239 Q35.072 723.404 37.7456 723.404 Q39.7826 723.404 40.9603 721.844 Q42.1061 720.284 43.1565 715.574 L43.6021 713.569 Q44.9389 707.33 47.3897 704.72 Q49.8086 702.078 54.1691 702.078 Q59.1344 702.078 62.0308 706.025 Q64.9272 709.94 64.9272 716.815 Q64.9272 719.68 64.3543 722.799 Q63.8132 725.886 62.6992 729.324 L56.6518 729.324 Q58.3387 726.077 59.198 722.926 Q60.0256 719.775 60.0256 716.688 Q60.0256 712.55 58.6251 710.322 Q57.1929 708.094 54.6147 708.094 Q52.2276 708.094 50.9545 709.717 Q49.6813 711.309 48.5037 716.751 L48.0262 718.788 Q46.8804 724.231 44.5251 726.65 Q42.138 729.069 38.0002 729.069 Q32.9713 729.069 30.2341 725.504 Q27.4968 721.939 27.4968 715.383 Q27.4968 712.136 27.9743 709.272 Q28.4517 706.407 29.4065 703.988 Z\" fill=\"#000000\" fill-rule=\"evenodd\" fill-opacity=\"1\" /><path clip-path=\"url(#clip510)\" d=\"M58.657 666.367 L77.5631 666.367 L77.5631 672.255 L28.3562 672.255 L28.3562 666.367 L33.7671 666.367 Q30.5842 664.521 29.0564 661.72 Q27.4968 658.887 27.4968 654.972 Q27.4968 648.479 32.6531 644.437 Q37.8093 640.363 46.212 640.363 Q54.6147 640.363 59.771 644.437 Q64.9272 648.479 64.9272 654.972 Q64.9272 658.887 63.3994 661.72 Q61.8398 664.521 58.657 666.367 M46.212 646.442 Q39.7508 646.442 36.0905 649.116 Q32.3984 651.758 32.3984 656.405 Q32.3984 661.051 36.0905 663.725 Q39.7508 666.367 46.212 666.367 Q52.6732 666.367 56.3653 663.725 Q60.0256 661.051 60.0256 656.405 Q60.0256 651.758 56.3653 649.116 Q52.6732 646.442 46.212 646.442 Z\" fill=\"#000000\" fill-rule=\"evenodd\" fill-opacity=\"1\" /><path clip-path=\"url(#clip510)\" d=\"M44.7161 600.164 L47.5806 600.164 L47.5806 627.09 Q53.6281 626.708 56.8109 623.462 Q59.9619 620.184 59.9619 614.359 Q59.9619 610.985 59.1344 607.834 Q58.3069 604.651 56.6518 601.532 L62.1899 601.532 Q63.5267 604.683 64.227 607.993 Q64.9272 611.303 64.9272 614.709 Q64.9272 623.239 59.9619 628.236 Q54.9967 633.202 46.5303 633.202 Q37.7774 633.202 32.6531 628.491 Q27.4968 623.748 27.4968 615.728 Q27.4968 608.534 32.1438 604.365 Q36.7589 600.164 44.7161 600.164 M42.9973 606.02 Q38.1912 606.084 35.3266 608.725 Q32.4621 611.335 32.4621 615.664 Q32.4621 620.566 35.2312 623.526 Q38.0002 626.454 43.0292 626.899 L42.9973 606.02 Z\" fill=\"#000000\" fill-rule=\"evenodd\" fill-opacity=\"1\" /><path clip-path=\"url(#clip510)\" d=\"M33.8307 569.895 Q33.2578 570.881 33.0032 572.059 Q32.7167 573.205 32.7167 574.605 Q32.7167 579.57 35.9632 582.244 Q39.1779 584.886 45.2253 584.886 L64.0042 584.886 L64.0042 590.774 L28.3562 590.774 L28.3562 584.886 L33.8944 584.886 Q30.6479 583.04 29.0883 580.08 Q27.4968 577.12 27.4968 572.886 Q27.4968 572.282 27.5923 571.55 Q27.656 570.818 27.8151 569.926 L33.8307 569.895 Z\" fill=\"#000000\" fill-rule=\"evenodd\" fill-opacity=\"1\" /><path clip-path=\"url(#clip510)\" d=\"M33.7671 519.574 L14.479 519.574 L14.479 513.717 L64.0042 513.717 L64.0042 519.574 L58.657 519.574 Q61.8398 521.42 63.3994 524.252 Q64.9272 527.053 64.9272 531 Q64.9272 537.461 59.771 541.535 Q54.6147 545.578 46.212 545.578 Q37.8093 545.578 32.6531 541.535 Q27.4968 537.461 27.4968 531 Q27.4968 527.053 29.0564 524.252 Q30.5842 521.42 33.7671 519.574 M46.212 539.53 Q52.6732 539.53 56.3653 536.888 Q60.0256 534.215 60.0256 529.568 Q60.0256 524.921 56.3653 522.247 Q52.6732 519.574 46.212 519.574 Q39.7508 519.574 36.0905 522.247 Q32.3984 524.921 32.3984 529.568 Q32.3984 534.215 36.0905 536.888 Q39.7508 539.53 46.212 539.53 Z\" fill=\"#000000\" fill-rule=\"evenodd\" fill-opacity=\"1\" /><path clip-path=\"url(#clip510)\" d=\"M46.0847 485.453 Q46.0847 492.551 47.7079 495.288 Q49.3312 498.026 53.2461 498.026 Q56.3653 498.026 58.2114 495.989 Q60.0256 493.92 60.0256 490.387 Q60.0256 485.517 56.5881 482.589 Q53.1188 479.629 47.3897 479.629 L46.0847 479.629 L46.0847 485.453 M43.6657 473.772 L64.0042 473.772 L64.0042 479.629 L58.5933 479.629 Q61.8398 481.634 63.3994 484.626 Q64.9272 487.618 64.9272 491.946 Q64.9272 497.421 61.8716 500.668 Q58.7843 503.882 53.6281 503.882 Q47.6125 503.882 44.5569 499.872 Q41.5014 495.83 41.5014 487.841 L41.5014 479.629 L40.9285 479.629 Q36.8862 479.629 34.6901 482.302 Q32.4621 484.944 32.4621 489.75 Q32.4621 492.806 33.1941 495.702 Q33.9262 498.599 35.3903 501.272 L29.9795 501.272 Q28.7381 498.058 28.1334 495.034 Q27.4968 492.01 27.4968 489.146 Q27.4968 481.411 31.5072 477.592 Q35.5176 473.772 43.6657 473.772 Z\" fill=\"#000000\" fill-rule=\"evenodd\" fill-opacity=\"1\" /><path clip-path=\"url(#clip510)\" d=\"M67.3143 446.877 Q73.68 449.36 75.6216 451.715 Q77.5631 454.071 77.5631 458.017 L77.5631 462.696 L72.6615 462.696 L72.6615 459.259 Q72.6615 456.84 71.5157 455.503 Q70.3699 454.166 66.1048 452.543 L63.4312 451.492 L28.3562 465.911 L28.3562 459.704 L56.238 448.564 L28.3562 437.424 L28.3562 431.218 L67.3143 446.877 Z\" fill=\"#000000\" fill-rule=\"evenodd\" fill-opacity=\"1\" /><polyline clip-path=\"url(#clip512)\" style=\"stroke:#009af9; stroke-linecap:round; stroke-linejoin:round; stroke-width:4; stroke-opacity:1; fill:none\" points=\"\n",
       "  265.903,1336.22 335.768,1291.38 405.632,1236.05 475.497,1168.64 545.361,1087.82 615.226,992.84 685.09,884.035 754.955,763.321 824.819,634.695 894.684,504.488 \n",
       "  964.548,381.158 1034.41,274.418 1104.28,193.795 1174.14,146.749 1244.01,137.12 1313.87,164.374 1383.74,223.952 1453.6,308.455 1523.46,409.322 1593.33,518.293 \n",
       "  1663.19,628.468 1733.06,734.717 1802.92,833.713 1872.79,923.622 1942.65,1003.76 2012.52,1074.21 2082.38,1135.53 2152.24,1188.54 2222.11,1234.14 2291.97,1273.23 \n",
       "  \n",
       "  \"/>\n",
       "<circle clip-path=\"url(#clip512)\" cx=\"265.903\" cy=\"1354.05\" r=\"14.4\" fill=\"#e26f46\" fill-rule=\"evenodd\" fill-opacity=\"1\" stroke=\"#000000\" stroke-opacity=\"1\" stroke-width=\"3.2\"/>\n",
       "<circle clip-path=\"url(#clip512)\" cx=\"335.768\" cy=\"1293.68\" r=\"14.4\" fill=\"#e26f46\" fill-rule=\"evenodd\" fill-opacity=\"1\" stroke=\"#000000\" stroke-opacity=\"1\" stroke-width=\"3.2\"/>\n",
       "<circle clip-path=\"url(#clip512)\" cx=\"405.632\" cy=\"1112.55\" r=\"14.4\" fill=\"#e26f46\" fill-rule=\"evenodd\" fill-opacity=\"1\" stroke=\"#000000\" stroke-opacity=\"1\" stroke-width=\"3.2\"/>\n",
       "<circle clip-path=\"url(#clip512)\" cx=\"475.497\" cy=\"1323.86\" r=\"14.4\" fill=\"#e26f46\" fill-rule=\"evenodd\" fill-opacity=\"1\" stroke=\"#000000\" stroke-opacity=\"1\" stroke-width=\"3.2\"/>\n",
       "<circle clip-path=\"url(#clip512)\" cx=\"545.361\" cy=\"1021.99\" r=\"14.4\" fill=\"#e26f46\" fill-rule=\"evenodd\" fill-opacity=\"1\" stroke=\"#000000\" stroke-opacity=\"1\" stroke-width=\"3.2\"/>\n",
       "<circle clip-path=\"url(#clip512)\" cx=\"615.226\" cy=\"1112.55\" r=\"14.4\" fill=\"#e26f46\" fill-rule=\"evenodd\" fill-opacity=\"1\" stroke=\"#000000\" stroke-opacity=\"1\" stroke-width=\"3.2\"/>\n",
       "<circle clip-path=\"url(#clip512)\" cx=\"685.09\" cy=\"991.804\" r=\"14.4\" fill=\"#e26f46\" fill-rule=\"evenodd\" fill-opacity=\"1\" stroke=\"#000000\" stroke-opacity=\"1\" stroke-width=\"3.2\"/>\n",
       "<circle clip-path=\"url(#clip512)\" cx=\"754.955\" cy=\"810.68\" r=\"14.4\" fill=\"#e26f46\" fill-rule=\"evenodd\" fill-opacity=\"1\" stroke=\"#000000\" stroke-opacity=\"1\" stroke-width=\"3.2\"/>\n",
       "<circle clip-path=\"url(#clip512)\" cx=\"824.819\" cy=\"629.557\" r=\"14.4\" fill=\"#e26f46\" fill-rule=\"evenodd\" fill-opacity=\"1\" stroke=\"#000000\" stroke-opacity=\"1\" stroke-width=\"3.2\"/>\n",
       "<circle clip-path=\"url(#clip512)\" cx=\"894.684\" cy=\"689.931\" r=\"14.4\" fill=\"#e26f46\" fill-rule=\"evenodd\" fill-opacity=\"1\" stroke=\"#000000\" stroke-opacity=\"1\" stroke-width=\"3.2\"/>\n",
       "<circle clip-path=\"url(#clip512)\" cx=\"964.548\" cy=\"508.807\" r=\"14.4\" fill=\"#e26f46\" fill-rule=\"evenodd\" fill-opacity=\"1\" stroke=\"#000000\" stroke-opacity=\"1\" stroke-width=\"3.2\"/>\n",
       "<circle clip-path=\"url(#clip512)\" cx=\"1034.41\" cy=\"538.995\" r=\"14.4\" fill=\"#e26f46\" fill-rule=\"evenodd\" fill-opacity=\"1\" stroke=\"#000000\" stroke-opacity=\"1\" stroke-width=\"3.2\"/>\n",
       "<circle clip-path=\"url(#clip512)\" cx=\"1104.28\" cy=\"146.56\" r=\"14.4\" fill=\"#e26f46\" fill-rule=\"evenodd\" fill-opacity=\"1\" stroke=\"#000000\" stroke-opacity=\"1\" stroke-width=\"3.2\"/>\n",
       "<circle clip-path=\"url(#clip512)\" cx=\"1174.14\" cy=\"146.56\" r=\"14.4\" fill=\"#e26f46\" fill-rule=\"evenodd\" fill-opacity=\"1\" stroke=\"#000000\" stroke-opacity=\"1\" stroke-width=\"3.2\"/>\n",
       "<circle clip-path=\"url(#clip512)\" cx=\"1244.01\" cy=\"86.1857\" r=\"14.4\" fill=\"#e26f46\" fill-rule=\"evenodd\" fill-opacity=\"1\" stroke=\"#000000\" stroke-opacity=\"1\" stroke-width=\"3.2\"/>\n",
       "<circle clip-path=\"url(#clip512)\" cx=\"1313.87\" cy=\"176.747\" r=\"14.4\" fill=\"#e26f46\" fill-rule=\"evenodd\" fill-opacity=\"1\" stroke=\"#000000\" stroke-opacity=\"1\" stroke-width=\"3.2\"/>\n",
       "<circle clip-path=\"url(#clip512)\" cx=\"1383.74\" cy=\"146.56\" r=\"14.4\" fill=\"#e26f46\" fill-rule=\"evenodd\" fill-opacity=\"1\" stroke=\"#000000\" stroke-opacity=\"1\" stroke-width=\"3.2\"/>\n",
       "<circle clip-path=\"url(#clip512)\" cx=\"1453.6\" cy=\"357.871\" r=\"14.4\" fill=\"#e26f46\" fill-rule=\"evenodd\" fill-opacity=\"1\" stroke=\"#000000\" stroke-opacity=\"1\" stroke-width=\"3.2\"/>\n",
       "<circle clip-path=\"url(#clip512)\" cx=\"1523.46\" cy=\"86.1857\" r=\"14.4\" fill=\"#e26f46\" fill-rule=\"evenodd\" fill-opacity=\"1\" stroke=\"#000000\" stroke-opacity=\"1\" stroke-width=\"3.2\"/>\n",
       "<circle clip-path=\"url(#clip512)\" cx=\"1593.33\" cy=\"448.433\" r=\"14.4\" fill=\"#e26f46\" fill-rule=\"evenodd\" fill-opacity=\"1\" stroke=\"#000000\" stroke-opacity=\"1\" stroke-width=\"3.2\"/>\n",
       "<circle clip-path=\"url(#clip512)\" cx=\"1663.19\" cy=\"689.931\" r=\"14.4\" fill=\"#e26f46\" fill-rule=\"evenodd\" fill-opacity=\"1\" stroke=\"#000000\" stroke-opacity=\"1\" stroke-width=\"3.2\"/>\n",
       "<circle clip-path=\"url(#clip512)\" cx=\"1733.06\" cy=\"901.242\" r=\"14.4\" fill=\"#e26f46\" fill-rule=\"evenodd\" fill-opacity=\"1\" stroke=\"#000000\" stroke-opacity=\"1\" stroke-width=\"3.2\"/>\n",
       "<circle clip-path=\"url(#clip512)\" cx=\"1802.92\" cy=\"840.867\" r=\"14.4\" fill=\"#e26f46\" fill-rule=\"evenodd\" fill-opacity=\"1\" stroke=\"#000000\" stroke-opacity=\"1\" stroke-width=\"3.2\"/>\n",
       "<circle clip-path=\"url(#clip512)\" cx=\"1872.79\" cy=\"931.429\" r=\"14.4\" fill=\"#e26f46\" fill-rule=\"evenodd\" fill-opacity=\"1\" stroke=\"#000000\" stroke-opacity=\"1\" stroke-width=\"3.2\"/>\n",
       "<circle clip-path=\"url(#clip512)\" cx=\"1942.65\" cy=\"901.242\" r=\"14.4\" fill=\"#e26f46\" fill-rule=\"evenodd\" fill-opacity=\"1\" stroke=\"#000000\" stroke-opacity=\"1\" stroke-width=\"3.2\"/>\n",
       "<circle clip-path=\"url(#clip512)\" cx=\"2012.52\" cy=\"1082.37\" r=\"14.4\" fill=\"#e26f46\" fill-rule=\"evenodd\" fill-opacity=\"1\" stroke=\"#000000\" stroke-opacity=\"1\" stroke-width=\"3.2\"/>\n",
       "<circle clip-path=\"url(#clip512)\" cx=\"2082.38\" cy=\"1142.74\" r=\"14.4\" fill=\"#e26f46\" fill-rule=\"evenodd\" fill-opacity=\"1\" stroke=\"#000000\" stroke-opacity=\"1\" stroke-width=\"3.2\"/>\n",
       "<circle clip-path=\"url(#clip512)\" cx=\"2152.24\" cy=\"1384.24\" r=\"14.4\" fill=\"#e26f46\" fill-rule=\"evenodd\" fill-opacity=\"1\" stroke=\"#000000\" stroke-opacity=\"1\" stroke-width=\"3.2\"/>\n",
       "<circle clip-path=\"url(#clip512)\" cx=\"2222.11\" cy=\"1142.74\" r=\"14.4\" fill=\"#e26f46\" fill-rule=\"evenodd\" fill-opacity=\"1\" stroke=\"#000000\" stroke-opacity=\"1\" stroke-width=\"3.2\"/>\n",
       "<circle clip-path=\"url(#clip512)\" cx=\"2291.97\" cy=\"1233.3\" r=\"14.4\" fill=\"#e26f46\" fill-rule=\"evenodd\" fill-opacity=\"1\" stroke=\"#000000\" stroke-opacity=\"1\" stroke-width=\"3.2\"/>\n",
       "<path clip-path=\"url(#clip510)\" d=\"\n",
       "M1799.67 248.629 L2281.17 248.629 L2281.17 93.1086 L1799.67 93.1086  Z\n",
       "  \" fill=\"#ffffff\" fill-rule=\"evenodd\" fill-opacity=\"1\"/>\n",
       "<polyline clip-path=\"url(#clip510)\" style=\"stroke:#000000; stroke-linecap:round; stroke-linejoin:round; stroke-width:4; stroke-opacity:1; fill:none\" points=\"\n",
       "  1799.67,248.629 2281.17,248.629 2281.17,93.1086 1799.67,93.1086 1799.67,248.629 \n",
       "  \"/>\n",
       "<polyline clip-path=\"url(#clip510)\" style=\"stroke:#009af9; stroke-linecap:round; stroke-linejoin:round; stroke-width:4; stroke-opacity:1; fill:none\" points=\"\n",
       "  1823.54,144.949 1966.71,144.949 \n",
       "  \"/>\n",
       "<path clip-path=\"url(#clip510)\" d=\"M1990.57 127.669 L2019.81 127.669 L2019.81 131.604 L2007.54 131.604 L2007.54 162.229 L2002.84 162.229 L2002.84 131.604 L1990.57 131.604 L1990.57 127.669 Z\" fill=\"#000000\" fill-rule=\"evenodd\" fill-opacity=\"1\" /><path clip-path=\"url(#clip510)\" d=\"M2032.19 140.284 Q2031.48 139.868 2030.62 139.682 Q2029.79 139.474 2028.77 139.474 Q2025.16 139.474 2023.21 141.835 Q2021.29 144.173 2021.29 148.571 L2021.29 162.229 L2017.01 162.229 L2017.01 136.303 L2021.29 136.303 L2021.29 140.331 Q2022.63 137.969 2024.79 136.835 Q2026.94 135.678 2030.02 135.678 Q2030.46 135.678 2030.99 135.747 Q2031.52 135.794 2032.17 135.909 L2032.19 140.284 Z\" fill=\"#000000\" fill-rule=\"evenodd\" fill-opacity=\"1\" /><path clip-path=\"url(#clip510)\" d=\"M2036.22 151.997 L2036.22 136.303 L2040.48 136.303 L2040.48 151.835 Q2040.48 155.516 2041.92 157.368 Q2043.35 159.196 2046.22 159.196 Q2049.67 159.196 2051.66 156.997 Q2053.68 154.798 2053.68 151.002 L2053.68 136.303 L2057.93 136.303 L2057.93 162.229 L2053.68 162.229 L2053.68 158.247 Q2052.12 160.608 2050.06 161.766 Q2048.03 162.9 2045.32 162.9 Q2040.85 162.9 2038.54 160.122 Q2036.22 157.344 2036.22 151.997 M2046.94 135.678 L2046.94 135.678 Z\" fill=\"#000000\" fill-rule=\"evenodd\" fill-opacity=\"1\" /><path clip-path=\"url(#clip510)\" d=\"M2088.88 148.201 L2088.88 150.284 L2069.3 150.284 Q2069.58 154.682 2071.94 156.997 Q2074.32 159.289 2078.56 159.289 Q2081.01 159.289 2083.3 158.687 Q2085.62 158.085 2087.89 156.881 L2087.89 160.909 Q2085.6 161.881 2083.19 162.391 Q2080.78 162.9 2078.3 162.9 Q2072.1 162.9 2068.47 159.289 Q2064.86 155.678 2064.86 149.52 Q2064.86 143.155 2068.28 139.428 Q2071.73 135.678 2077.56 135.678 Q2082.8 135.678 2085.83 139.057 Q2088.88 142.414 2088.88 148.201 M2084.62 146.951 Q2084.58 143.456 2082.66 141.372 Q2080.76 139.289 2077.61 139.289 Q2074.05 139.289 2071.89 141.303 Q2069.76 143.317 2069.44 146.974 L2084.62 146.951 Z\" fill=\"#000000\" fill-rule=\"evenodd\" fill-opacity=\"1\" /><path clip-path=\"url(#clip510)\" d=\"M2107.89 136.303 L2112.4 136.303 L2120.5 158.062 L2128.61 136.303 L2133.12 136.303 L2123.4 162.229 L2117.61 162.229 L2107.89 136.303 Z\" fill=\"#000000\" fill-rule=\"evenodd\" fill-opacity=\"1\" /><path clip-path=\"url(#clip510)\" d=\"M2150.78 149.196 Q2145.62 149.196 2143.63 150.377 Q2141.64 151.557 2141.64 154.405 Q2141.64 156.673 2143.12 158.016 Q2144.62 159.335 2147.19 159.335 Q2150.73 159.335 2152.86 156.835 Q2155.02 154.312 2155.02 150.145 L2155.02 149.196 L2150.78 149.196 M2159.28 147.437 L2159.28 162.229 L2155.02 162.229 L2155.02 158.293 Q2153.56 160.655 2151.38 161.789 Q2149.21 162.9 2146.06 162.9 Q2142.08 162.9 2139.72 160.678 Q2137.38 158.432 2137.38 154.682 Q2137.38 150.307 2140.3 148.085 Q2143.24 145.863 2149.05 145.863 L2155.02 145.863 L2155.02 145.446 Q2155.02 142.507 2153.07 140.909 Q2151.15 139.289 2147.66 139.289 Q2145.43 139.289 2143.33 139.821 Q2141.22 140.354 2139.28 141.419 L2139.28 137.483 Q2141.61 136.581 2143.81 136.141 Q2146.01 135.678 2148.1 135.678 Q2153.72 135.678 2156.5 138.594 Q2159.28 141.511 2159.28 147.437 Z\" fill=\"#000000\" fill-rule=\"evenodd\" fill-opacity=\"1\" /><path clip-path=\"url(#clip510)\" d=\"M2168.05 126.21 L2172.31 126.21 L2172.31 162.229 L2168.05 162.229 L2168.05 126.21 Z\" fill=\"#000000\" fill-rule=\"evenodd\" fill-opacity=\"1\" /><path clip-path=\"url(#clip510)\" d=\"M2180.78 151.997 L2180.78 136.303 L2185.04 136.303 L2185.04 151.835 Q2185.04 155.516 2186.48 157.368 Q2187.91 159.196 2190.78 159.196 Q2194.23 159.196 2196.22 156.997 Q2198.23 154.798 2198.23 151.002 L2198.23 136.303 L2202.49 136.303 L2202.49 162.229 L2198.23 162.229 L2198.23 158.247 Q2196.68 160.608 2194.62 161.766 Q2192.59 162.9 2189.88 162.9 Q2185.41 162.9 2183.1 160.122 Q2180.78 157.344 2180.78 151.997 M2191.5 135.678 L2191.5 135.678 Z\" fill=\"#000000\" fill-rule=\"evenodd\" fill-opacity=\"1\" /><path clip-path=\"url(#clip510)\" d=\"M2233.44 148.201 L2233.44 150.284 L2213.86 150.284 Q2214.14 154.682 2216.5 156.997 Q2218.88 159.289 2223.12 159.289 Q2225.57 159.289 2227.86 158.687 Q2230.18 158.085 2232.45 156.881 L2232.45 160.909 Q2230.16 161.881 2227.75 162.391 Q2225.34 162.9 2222.86 162.9 Q2216.66 162.9 2213.03 159.289 Q2209.42 155.678 2209.42 149.52 Q2209.42 143.155 2212.84 139.428 Q2216.29 135.678 2222.12 135.678 Q2227.35 135.678 2230.39 139.057 Q2233.44 142.414 2233.44 148.201 M2229.18 146.951 Q2229.14 143.456 2227.22 141.372 Q2225.32 139.289 2222.17 139.289 Q2218.6 139.289 2216.45 141.303 Q2214.32 143.317 2214 146.974 L2229.18 146.951 Z\" fill=\"#000000\" fill-rule=\"evenodd\" fill-opacity=\"1\" /><circle clip-path=\"url(#clip510)\" cx=\"1895.12\" cy=\"196.789\" r=\"23.04\" fill=\"#e26f46\" fill-rule=\"evenodd\" fill-opacity=\"1\" stroke=\"#000000\" stroke-opacity=\"1\" stroke-width=\"5.12\"/>\n",
       "<path clip-path=\"url(#clip510)\" d=\"M1995.25 183.351 L1995.25 210.226 L2000.9 210.226 Q2008.05 210.226 2011.36 206.985 Q2014.69 203.745 2014.69 196.754 Q2014.69 189.809 2011.36 186.592 Q2008.05 183.351 2000.9 183.351 L1995.25 183.351 M1990.57 179.509 L2000.18 179.509 Q2010.23 179.509 2014.93 183.698 Q2019.62 187.865 2019.62 196.754 Q2019.62 205.689 2014.9 209.879 Q2010.18 214.069 2000.18 214.069 L1990.57 214.069 L1990.57 179.509 Z\" fill=\"#000000\" fill-rule=\"evenodd\" fill-opacity=\"1\" /><path clip-path=\"url(#clip510)\" d=\"M2038.68 201.036 Q2033.51 201.036 2031.52 202.217 Q2029.53 203.397 2029.53 206.245 Q2029.53 208.513 2031.01 209.856 Q2032.52 211.175 2035.09 211.175 Q2038.63 211.175 2040.76 208.675 Q2042.91 206.152 2042.91 201.985 L2042.91 201.036 L2038.68 201.036 M2047.17 199.277 L2047.17 214.069 L2042.91 214.069 L2042.91 210.133 Q2041.45 212.495 2039.28 213.629 Q2037.1 214.74 2033.95 214.74 Q2029.97 214.74 2027.61 212.518 Q2025.27 210.272 2025.27 206.522 Q2025.27 202.147 2028.19 199.925 Q2031.13 197.703 2036.94 197.703 L2042.91 197.703 L2042.91 197.286 Q2042.91 194.347 2040.97 192.749 Q2039.05 191.129 2035.55 191.129 Q2033.33 191.129 2031.22 191.661 Q2029.12 192.194 2027.17 193.259 L2027.17 189.323 Q2029.51 188.421 2031.71 187.981 Q2033.91 187.518 2035.99 187.518 Q2041.62 187.518 2044.39 190.434 Q2047.17 193.351 2047.17 199.277 Z\" fill=\"#000000\" fill-rule=\"evenodd\" fill-opacity=\"1\" /><path clip-path=\"url(#clip510)\" d=\"M2060.16 180.782 L2060.16 188.143 L2068.93 188.143 L2068.93 191.453 L2060.16 191.453 L2060.16 205.527 Q2060.16 208.698 2061.01 209.601 Q2061.89 210.504 2064.55 210.504 L2068.93 210.504 L2068.93 214.069 L2064.55 214.069 Q2059.62 214.069 2057.75 212.24 Q2055.87 210.388 2055.87 205.527 L2055.87 191.453 L2052.75 191.453 L2052.75 188.143 L2055.87 188.143 L2055.87 180.782 L2060.16 180.782 Z\" fill=\"#000000\" fill-rule=\"evenodd\" fill-opacity=\"1\" /><path clip-path=\"url(#clip510)\" d=\"M2086.31 201.036 Q2081.15 201.036 2079.16 202.217 Q2077.17 203.397 2077.17 206.245 Q2077.17 208.513 2078.65 209.856 Q2080.16 211.175 2082.73 211.175 Q2086.27 211.175 2088.4 208.675 Q2090.55 206.152 2090.55 201.985 L2090.55 201.036 L2086.31 201.036 M2094.81 199.277 L2094.81 214.069 L2090.55 214.069 L2090.55 210.133 Q2089.09 212.495 2086.92 213.629 Q2084.74 214.74 2081.59 214.74 Q2077.61 214.74 2075.25 212.518 Q2072.91 210.272 2072.91 206.522 Q2072.91 202.147 2075.83 199.925 Q2078.77 197.703 2084.58 197.703 L2090.55 197.703 L2090.55 197.286 Q2090.55 194.347 2088.61 192.749 Q2086.68 191.129 2083.19 191.129 Q2080.97 191.129 2078.86 191.661 Q2076.75 192.194 2074.81 193.259 L2074.81 189.323 Q2077.15 188.421 2079.35 187.981 Q2081.55 187.518 2083.63 187.518 Q2089.25 187.518 2092.03 190.434 Q2094.81 193.351 2094.81 199.277 Z\" fill=\"#000000\" fill-rule=\"evenodd\" fill-opacity=\"1\" /></svg>\n"
      ]
     },
     "execution_count": 10,
     "metadata": {},
     "output_type": "execute_result"
    }
   ],
   "source": [
    "plot(1:δt:train_time, N .* cdata,\n",
    "     xlabel = \"Time\",\n",
    "     ylabel = \"New cases per day\",\n",
    "     label = \"True value\")\n",
    "scatter!(1:δt:train_time, noisy_data, label=\"Data\")"
   ]
  },
  {
   "cell_type": "markdown",
   "metadata": {},
   "source": [
    "## Create neural network to approximate unknown mechanism\n",
    "\n",
    "\\begin{align}\n",
    "    \\frac{dS}{dt} &= -\\lambda_{NN}(I(t), \\beta, \\gamma) S(t)\\\\\n",
    "    \\frac{dI}{dt} &= \\lambda_{NN}(I(t), \\beta, \\gamma) S(t)-\\gamma I(t)\\\\\n",
    "    \\frac{dR}{dt} &= \\lambda_{NN}(I(t), \\beta, \\gamma)S(t)\n",
    "\\end{align}"
   ]
  },
  {
   "cell_type": "code",
   "execution_count": 11,
   "metadata": {
    "execution": {
     "iopub.execute_input": "2022-10-24T14:09:07.497000Z",
     "iopub.status.busy": "2022-10-24T14:09:07.497000Z",
     "iopub.status.idle": "2022-10-24T14:09:10.939000Z",
     "shell.execute_reply": "2022-10-24T14:09:10.938000Z"
    }
   },
   "outputs": [
    {
     "data": {
      "text/plain": [
       "((weight = Float32[1.5860611;;],), 1)"
      ]
     },
     "execution_count": 11,
     "metadata": {},
     "output_type": "execute_result"
    }
   ],
   "source": [
    "foi1 = Lux.Dense(1, 1, relu, bias=false)\n",
    "p1_, st1 = Lux.setup(rng, foi1)\n",
    "p1_, length(p1_)"
   ]
  },
  {
   "cell_type": "markdown",
   "metadata": {},
   "source": [
    "Build universal differential equation with partly known SIR mechanism"
   ]
  },
  {
   "cell_type": "code",
   "execution_count": 12,
   "metadata": {
    "execution": {
     "iopub.execute_input": "2022-10-24T14:09:10.942000Z",
     "iopub.status.busy": "2022-10-24T14:09:10.942000Z",
     "iopub.status.idle": "2022-10-24T14:09:10.944000Z",
     "shell.execute_reply": "2022-10-24T14:09:10.944000Z"
    }
   },
   "outputs": [],
   "source": [
    "function sir_ude(u,p_,t,foi, st)\n",
    "    S,I,R = u\n",
    "    (β,γ) = p\n",
    "    λ= foi([I], p_, st)[1][1]\n",
    "    dS = -λ*S\n",
    "    dI = λ*S - γ*I\n",
    "    dR = λ*S\n",
    "    [dS, dI, dR]\n",
    "end;"
   ]
  },
  {
   "cell_type": "code",
   "execution_count": 13,
   "metadata": {
    "execution": {
     "iopub.execute_input": "2022-10-24T14:09:10.947000Z",
     "iopub.status.busy": "2022-10-24T14:09:10.947000Z",
     "iopub.status.idle": "2022-10-24T14:09:10.996000Z",
     "shell.execute_reply": "2022-10-24T14:09:10.995000Z"
    }
   },
   "outputs": [],
   "source": [
    "tspan_train = (0,train_time)\n",
    "sir_ude1 = (u,p_,t) -> sir_ude(u,p_,t,foi1, st1)\n",
    "prob_ude1 = ODEProblem(sir_ude1,\n",
    "                      u0,\n",
    "                      tspan_train,\n",
    "                      p1_);"
   ]
  },
  {
   "cell_type": "markdown",
   "metadata": {},
   "source": [
    "To fit this model, we first need to define a function that predicts the outcome given a set of parameters."
   ]
  },
  {
   "cell_type": "code",
   "execution_count": 14,
   "metadata": {
    "execution": {
     "iopub.execute_input": "2022-10-24T14:09:10.999000Z",
     "iopub.status.busy": "2022-10-24T14:09:10.999000Z",
     "iopub.status.idle": "2022-10-24T14:09:11.001000Z",
     "shell.execute_reply": "2022-10-24T14:09:11.001000Z"
    }
   },
   "outputs": [],
   "source": [
    "function predict(θ, prob)\n",
    "    Array(solve(prob,\n",
    "                solver;\n",
    "                u0 = u0,\n",
    "                p = θ,\n",
    "                saveat = δt,\n",
    "                sensealg = InterpolatingAdjoint(autojacvec=ReverseDiffVJP())))\n",
    "end;"
   ]
  },
  {
   "cell_type": "markdown",
   "metadata": {},
   "source": [
    "Secondly, we define a loss function that uses this predict function to calculate the loss between the predicted data and the true data. We employ a Poisson loss, as we are comparing our model against counts of new cases."
   ]
  },
  {
   "cell_type": "code",
   "execution_count": 15,
   "metadata": {
    "execution": {
     "iopub.execute_input": "2022-10-24T14:09:11.004000Z",
     "iopub.status.busy": "2022-10-24T14:09:11.004000Z",
     "iopub.status.idle": "2022-10-24T14:09:11.006000Z",
     "shell.execute_reply": "2022-10-24T14:09:11.006000Z"
    }
   },
   "outputs": [],
   "source": [
    "function loss(θ, prob)\n",
    "    pred = predict(θ, prob)\n",
    "    cpred = abs.(N*diff(pred[3,:]))\n",
    "    Flux.poisson_loss(cpred, float.(noisy_data)), cpred\n",
    "end;"
   ]
  },
  {
   "cell_type": "markdown",
   "metadata": {},
   "source": [
    "We run this function once to make sure it is precompiled."
   ]
  },
  {
   "cell_type": "code",
   "execution_count": 16,
   "metadata": {
    "execution": {
     "iopub.execute_input": "2022-10-24T14:09:11.008000Z",
     "iopub.status.busy": "2022-10-24T14:09:11.008000Z",
     "iopub.status.idle": "2022-10-24T14:09:34.041000Z",
     "shell.execute_reply": "2022-10-24T14:09:34.041000Z"
    }
   },
   "outputs": [],
   "source": [
    "loss(prob_ude1.p, prob_ude1);"
   ]
  },
  {
   "cell_type": "markdown",
   "metadata": {},
   "source": [
    "To keep track of the running of the model, we store the losses in a `Vector` and use a callback to report on the model fit every 10 epochs."
   ]
  },
  {
   "cell_type": "code",
   "execution_count": 17,
   "metadata": {
    "execution": {
     "iopub.execute_input": "2022-10-24T14:09:34.045000Z",
     "iopub.status.busy": "2022-10-24T14:09:34.045000Z",
     "iopub.status.idle": "2022-10-24T14:09:34.047000Z",
     "shell.execute_reply": "2022-10-24T14:09:34.047000Z"
    }
   },
   "outputs": [],
   "source": [
    "const losses1 = []\n",
    "callback1 = function (p, l, pred)\n",
    "    push!(losses1, l)\n",
    "    numloss = length(losses1)\n",
    "    if numloss % 10 == 0\n",
    "        display(\"Epoch: \" * string(numloss) * \" Loss: \" * string(l))\n",
    "    end\n",
    "    return false\n",
    "end;"
   ]
  },
  {
   "cell_type": "code",
   "execution_count": 18,
   "metadata": {
    "execution": {
     "iopub.execute_input": "2022-10-24T14:09:34.049000Z",
     "iopub.status.busy": "2022-10-24T14:09:34.049000Z",
     "iopub.status.idle": "2022-10-24T14:12:03.926000Z",
     "shell.execute_reply": "2022-10-24T14:12:03.926000Z"
    }
   },
   "outputs": [
    {
     "data": {
      "text/plain": [
       "\"Epoch: 10 Loss: 46.39434672449931\""
      ]
     },
     "metadata": {},
     "output_type": "display_data"
    },
    {
     "data": {
      "text/plain": [
       "\"Epoch: 20 Loss: 36.43205698116247\""
      ]
     },
     "metadata": {},
     "output_type": "display_data"
    },
    {
     "data": {
      "text/plain": [
       "\"Epoch: 30 Loss: 26.050977198450088\""
      ]
     },
     "metadata": {},
     "output_type": "display_data"
    },
    {
     "data": {
      "text/plain": [
       "\"Epoch: 40 Loss: 15.1147435786317\""
      ]
     },
     "metadata": {},
     "output_type": "display_data"
    },
    {
     "data": {
      "text/plain": [
       "\"Epoch: 50 Loss: 3.4525807760450156\""
      ]
     },
     "metadata": {},
     "output_type": "display_data"
    },
    {
     "data": {
      "text/plain": [
       "\"Epoch: 60 Loss: -8.986147239707094\""
      ]
     },
     "metadata": {},
     "output_type": "display_data"
    },
    {
     "data": {
      "text/plain": [
       "\"Epoch: 70 Loss: -22.13517826632064\""
      ]
     },
     "metadata": {},
     "output_type": "display_data"
    },
    {
     "data": {
      "text/plain": [
       "\"Epoch: 80 Loss: -35.433924067674646\""
      ]
     },
     "metadata": {},
     "output_type": "display_data"
    },
    {
     "data": {
      "text/plain": [
       "\"Epoch: 90 Loss: -47.26003122774066\""
      ]
     },
     "metadata": {},
     "output_type": "display_data"
    },
    {
     "data": {
      "text/plain": [
       "\"Epoch: 100 Loss: -54.696354309716725\""
      ]
     },
     "metadata": {},
     "output_type": "display_data"
    },
    {
     "data": {
      "text/plain": [
       "\"Epoch: 110 Loss: -56.649457760548415\""
      ]
     },
     "metadata": {},
     "output_type": "display_data"
    },
    {
     "data": {
      "text/plain": [
       "\"Epoch: 120 Loss: -56.45193764109679\""
      ]
     },
     "metadata": {},
     "output_type": "display_data"
    },
    {
     "data": {
      "text/plain": [
       "\"Epoch: 130 Loss: -56.50212229243084\""
      ]
     },
     "metadata": {},
     "output_type": "display_data"
    },
    {
     "data": {
      "text/plain": [
       "\"Epoch: 140 Loss: -56.63738420283777\""
      ]
     },
     "metadata": {},
     "output_type": "display_data"
    },
    {
     "data": {
      "text/plain": [
       "\"Epoch: 150 Loss: -56.65655302983397\""
      ]
     },
     "metadata": {},
     "output_type": "display_data"
    },
    {
     "data": {
      "text/plain": [
       "\"Epoch: 160 Loss: -56.651828718741164\""
      ]
     },
     "metadata": {},
     "output_type": "display_data"
    },
    {
     "data": {
      "text/plain": [
       "\"Epoch: 170 Loss: -56.65572714380096\""
      ]
     },
     "metadata": {},
     "output_type": "display_data"
    },
    {
     "data": {
      "text/plain": [
       "\"Epoch: 180 Loss: -56.657674602165706\""
      ]
     },
     "metadata": {},
     "output_type": "display_data"
    },
    {
     "data": {
      "text/plain": [
       "\"Epoch: 190 Loss: -56.65750509690865\""
      ]
     },
     "metadata": {},
     "output_type": "display_data"
    },
    {
     "data": {
      "text/plain": [
       "\"Epoch: 200 Loss: -56.6575848256935\""
      ]
     },
     "metadata": {},
     "output_type": "display_data"
    },
    {
     "data": {
      "text/plain": [
       "\"Epoch: 210 Loss: -56.657684365239035\""
      ]
     },
     "metadata": {},
     "output_type": "display_data"
    },
    {
     "data": {
      "text/plain": [
       "\"Epoch: 220 Loss: -56.65768056000613\""
      ]
     },
     "metadata": {},
     "output_type": "display_data"
    },
    {
     "data": {
      "text/plain": [
       "\"Epoch: 230 Loss: -56.65768264189016\""
      ]
     },
     "metadata": {},
     "output_type": "display_data"
    },
    {
     "data": {
      "text/plain": [
       "\"Epoch: 240 Loss: -56.65768700304572\""
      ]
     },
     "metadata": {},
     "output_type": "display_data"
    },
    {
     "data": {
      "text/plain": [
       "\"Epoch: 250 Loss: -56.657686751174005\""
      ]
     },
     "metadata": {},
     "output_type": "display_data"
    },
    {
     "data": {
      "text/plain": [
       "\"Epoch: 260 Loss: -56.65768689313222\""
      ]
     },
     "metadata": {},
     "output_type": "display_data"
    },
    {
     "data": {
      "text/plain": [
       "\"Epoch: 270 Loss: -56.6576870966963\""
      ]
     },
     "metadata": {},
     "output_type": "display_data"
    },
    {
     "data": {
      "text/plain": [
       "\"Epoch: 280 Loss: -56.657687086404614\""
      ]
     },
     "metadata": {},
     "output_type": "display_data"
    },
    {
     "data": {
      "text/plain": [
       "\"Epoch: 290 Loss: -56.65768709618854\""
      ]
     },
     "metadata": {},
     "output_type": "display_data"
    },
    {
     "data": {
      "text/plain": [
       "\"Epoch: 300 Loss: -56.65768709852671\""
      ]
     },
     "metadata": {},
     "output_type": "display_data"
    },
    {
     "data": {
      "text/plain": [
       "u: \u001b[0mComponentVector{Float64}(weight = [0.4936023446329203;;])"
      ]
     },
     "execution_count": 18,
     "metadata": {},
     "output_type": "execute_result"
    }
   ],
   "source": [
    "adtype = Optimization.AutoZygote()\n",
    "optf = Optimization.OptimizationFunction((x,p)->loss(x, prob_ude1), adtype)\n",
    "optprob = Optimization.OptimizationProblem(optf, ComponentVector{Float64}(p1_))\n",
    "res_ude1 = Optimization.solve(optprob, OptimizationPolyalgorithms.PolyOpt(), callback=callback1)"
   ]
  },
  {
   "cell_type": "markdown",
   "metadata": {},
   "source": [
    "The fitted parameter in this model corresponds to the infectivity parameter, `β`."
   ]
  },
  {
   "cell_type": "code",
   "execution_count": 19,
   "metadata": {
    "execution": {
     "iopub.execute_input": "2022-10-24T14:12:03.930000Z",
     "iopub.status.busy": "2022-10-24T14:12:03.930000Z",
     "iopub.status.idle": "2022-10-24T14:12:04.325000Z",
     "shell.execute_reply": "2022-10-24T14:12:04.325000Z"
    }
   },
   "outputs": [
    {
     "data": {
      "text/plain": [
       "((weight = [0.4936023446329203;;]), -56.65768709902596)"
      ]
     },
     "execution_count": 19,
     "metadata": {},
     "output_type": "execute_result"
    }
   ],
   "source": [
    "res_ude1.minimizer, losses1[end]"
   ]
  },
  {
   "cell_type": "markdown",
   "metadata": {},
   "source": [
    "This model is fast to converge to an optimum due to the small number of trainable parameters."
   ]
  },
  {
   "cell_type": "code",
   "execution_count": 20,
   "metadata": {
    "execution": {
     "iopub.execute_input": "2022-10-24T14:12:04.329000Z",
     "iopub.status.busy": "2022-10-24T14:12:04.329000Z",
     "iopub.status.idle": "2022-10-24T14:12:07.627000Z",
     "shell.execute_reply": "2022-10-24T14:12:07.627000Z"
    }
   },
   "outputs": [
    {
     "data": {
      "image/svg+xml": [
       "<?xml version=\"1.0\" encoding=\"utf-8\"?>\n",
       "<svg xmlns=\"http://www.w3.org/2000/svg\" xmlns:xlink=\"http://www.w3.org/1999/xlink\" width=\"600\" height=\"400\" viewBox=\"0 0 2400 1600\">\n",
       "<defs>\n",
       "  <clipPath id=\"clip550\">\n",
       "    <rect x=\"0\" y=\"0\" width=\"2400\" height=\"1600\"/>\n",
       "  </clipPath>\n",
       "</defs>\n",
       "<path clip-path=\"url(#clip550)\" d=\"\n",
       "M0 1600 L2400 1600 L2400 0 L0 0  Z\n",
       "  \" fill=\"#ffffff\" fill-rule=\"evenodd\" fill-opacity=\"1\"/>\n",
       "<defs>\n",
       "  <clipPath id=\"clip551\">\n",
       "    <rect x=\"480\" y=\"0\" width=\"1681\" height=\"1600\"/>\n",
       "  </clipPath>\n",
       "</defs>\n",
       "<path clip-path=\"url(#clip550)\" d=\"\n",
       "M186.274 1423.18 L2352.76 1423.18 L2352.76 123.472 L186.274 123.472  Z\n",
       "  \" fill=\"#ffffff\" fill-rule=\"evenodd\" fill-opacity=\"1\"/>\n",
       "<defs>\n",
       "  <clipPath id=\"clip552\">\n",
       "    <rect x=\"186\" y=\"123\" width=\"2167\" height=\"1301\"/>\n",
       "  </clipPath>\n",
       "</defs>\n",
       "<polyline clip-path=\"url(#clip552)\" style=\"stroke:#000000; stroke-linecap:round; stroke-linejoin:round; stroke-width:2; stroke-opacity:0.1; fill:none\" points=\"\n",
       "  186.274,1423.18 186.274,123.472 \n",
       "  \"/>\n",
       "<polyline clip-path=\"url(#clip552)\" style=\"stroke:#000000; stroke-linecap:round; stroke-linejoin:round; stroke-width:2; stroke-opacity:0.1; fill:none\" points=\"\n",
       "  727.894,1423.18 727.894,123.472 \n",
       "  \"/>\n",
       "<polyline clip-path=\"url(#clip552)\" style=\"stroke:#000000; stroke-linecap:round; stroke-linejoin:round; stroke-width:2; stroke-opacity:0.1; fill:none\" points=\"\n",
       "  1269.51,1423.18 1269.51,123.472 \n",
       "  \"/>\n",
       "<polyline clip-path=\"url(#clip552)\" style=\"stroke:#000000; stroke-linecap:round; stroke-linejoin:round; stroke-width:2; stroke-opacity:0.1; fill:none\" points=\"\n",
       "  1811.14,1423.18 1811.14,123.472 \n",
       "  \"/>\n",
       "<polyline clip-path=\"url(#clip552)\" style=\"stroke:#000000; stroke-linecap:round; stroke-linejoin:round; stroke-width:2; stroke-opacity:0.1; fill:none\" points=\"\n",
       "  2352.76,1423.18 2352.76,123.472 \n",
       "  \"/>\n",
       "<polyline clip-path=\"url(#clip550)\" style=\"stroke:#000000; stroke-linecap:round; stroke-linejoin:round; stroke-width:4; stroke-opacity:1; fill:none\" points=\"\n",
       "  186.274,1423.18 2352.76,1423.18 \n",
       "  \"/>\n",
       "<polyline clip-path=\"url(#clip550)\" style=\"stroke:#000000; stroke-linecap:round; stroke-linejoin:round; stroke-width:4; stroke-opacity:1; fill:none\" points=\"\n",
       "  186.274,1423.18 186.274,1404.28 \n",
       "  \"/>\n",
       "<polyline clip-path=\"url(#clip550)\" style=\"stroke:#000000; stroke-linecap:round; stroke-linejoin:round; stroke-width:4; stroke-opacity:1; fill:none\" points=\"\n",
       "  727.894,1423.18 727.894,1404.28 \n",
       "  \"/>\n",
       "<polyline clip-path=\"url(#clip550)\" style=\"stroke:#000000; stroke-linecap:round; stroke-linejoin:round; stroke-width:4; stroke-opacity:1; fill:none\" points=\"\n",
       "  1269.51,1423.18 1269.51,1404.28 \n",
       "  \"/>\n",
       "<polyline clip-path=\"url(#clip550)\" style=\"stroke:#000000; stroke-linecap:round; stroke-linejoin:round; stroke-width:4; stroke-opacity:1; fill:none\" points=\"\n",
       "  1811.14,1423.18 1811.14,1404.28 \n",
       "  \"/>\n",
       "<polyline clip-path=\"url(#clip550)\" style=\"stroke:#000000; stroke-linecap:round; stroke-linejoin:round; stroke-width:4; stroke-opacity:1; fill:none\" points=\"\n",
       "  2352.76,1423.18 2352.76,1404.28 \n",
       "  \"/>\n",
       "<path clip-path=\"url(#clip550)\" d=\"M186.274 1454.1 Q182.663 1454.1 180.834 1457.66 Q179.029 1461.2 179.029 1468.33 Q179.029 1475.44 180.834 1479.01 Q182.663 1482.55 186.274 1482.55 Q189.908 1482.55 191.714 1479.01 Q193.542 1475.44 193.542 1468.33 Q193.542 1461.2 191.714 1457.66 Q189.908 1454.1 186.274 1454.1 M186.274 1450.39 Q192.084 1450.39 195.14 1455 Q198.218 1459.58 198.218 1468.33 Q198.218 1477.06 195.14 1481.67 Q192.084 1486.25 186.274 1486.25 Q180.464 1486.25 177.385 1481.67 Q174.33 1477.06 174.33 1468.33 Q174.33 1459.58 177.385 1455 Q180.464 1450.39 186.274 1450.39 Z\" fill=\"#000000\" fill-rule=\"evenodd\" fill-opacity=\"1\" /><path clip-path=\"url(#clip550)\" d=\"M702.582 1481.64 L710.221 1481.64 L710.221 1455.28 L701.911 1456.95 L701.911 1452.69 L710.175 1451.02 L714.851 1451.02 L714.851 1481.64 L722.489 1481.64 L722.489 1485.58 L702.582 1485.58 L702.582 1481.64 Z\" fill=\"#000000\" fill-rule=\"evenodd\" fill-opacity=\"1\" /><path clip-path=\"url(#clip550)\" d=\"M741.934 1454.1 Q738.323 1454.1 736.494 1457.66 Q734.688 1461.2 734.688 1468.33 Q734.688 1475.44 736.494 1479.01 Q738.323 1482.55 741.934 1482.55 Q745.568 1482.55 747.374 1479.01 Q749.202 1475.44 749.202 1468.33 Q749.202 1461.2 747.374 1457.66 Q745.568 1454.1 741.934 1454.1 M741.934 1450.39 Q747.744 1450.39 750.799 1455 Q753.878 1459.58 753.878 1468.33 Q753.878 1477.06 750.799 1481.67 Q747.744 1486.25 741.934 1486.25 Q736.124 1486.25 733.045 1481.67 Q729.989 1477.06 729.989 1468.33 Q729.989 1459.58 733.045 1455 Q736.124 1450.39 741.934 1450.39 Z\" fill=\"#000000\" fill-rule=\"evenodd\" fill-opacity=\"1\" /><path clip-path=\"url(#clip550)\" d=\"M1248.29 1481.64 L1264.61 1481.64 L1264.61 1485.58 L1242.66 1485.58 L1242.66 1481.64 Q1245.33 1478.89 1249.91 1474.26 Q1254.52 1469.61 1255.7 1468.27 Q1257.94 1465.74 1258.82 1464.01 Q1259.72 1462.25 1259.72 1460.56 Q1259.72 1457.8 1257.78 1456.07 Q1255.86 1454.33 1252.76 1454.33 Q1250.56 1454.33 1248.1 1455.09 Q1245.67 1455.86 1242.89 1457.41 L1242.89 1452.69 Q1245.72 1451.55 1248.17 1450.97 Q1250.63 1450.39 1252.66 1450.39 Q1258.03 1450.39 1261.23 1453.08 Q1264.42 1455.77 1264.42 1460.26 Q1264.42 1462.39 1263.61 1464.31 Q1262.83 1466.2 1260.72 1468.8 Q1260.14 1469.47 1257.04 1472.69 Q1253.94 1475.88 1248.29 1481.64 Z\" fill=\"#000000\" fill-rule=\"evenodd\" fill-opacity=\"1\" /><path clip-path=\"url(#clip550)\" d=\"M1284.42 1454.1 Q1280.81 1454.1 1278.98 1457.66 Q1277.18 1461.2 1277.18 1468.33 Q1277.18 1475.44 1278.98 1479.01 Q1280.81 1482.55 1284.42 1482.55 Q1288.06 1482.55 1289.86 1479.01 Q1291.69 1475.44 1291.69 1468.33 Q1291.69 1461.2 1289.86 1457.66 Q1288.06 1454.1 1284.42 1454.1 M1284.42 1450.39 Q1290.23 1450.39 1293.29 1455 Q1296.37 1459.58 1296.37 1468.33 Q1296.37 1477.06 1293.29 1481.67 Q1290.23 1486.25 1284.42 1486.25 Q1278.61 1486.25 1275.53 1481.67 Q1272.48 1477.06 1272.48 1468.33 Q1272.48 1459.58 1275.53 1455 Q1278.61 1450.39 1284.42 1450.39 Z\" fill=\"#000000\" fill-rule=\"evenodd\" fill-opacity=\"1\" /><path clip-path=\"url(#clip550)\" d=\"M1799.98 1466.95 Q1803.33 1467.66 1805.21 1469.93 Q1807.11 1472.2 1807.11 1475.53 Q1807.11 1480.65 1803.59 1483.45 Q1800.07 1486.25 1793.59 1486.25 Q1791.41 1486.25 1789.1 1485.81 Q1786.81 1485.39 1784.35 1484.54 L1784.35 1480.02 Q1786.3 1481.16 1788.61 1481.74 Q1790.93 1482.32 1793.45 1482.32 Q1797.85 1482.32 1800.14 1480.58 Q1802.45 1478.84 1802.45 1475.53 Q1802.45 1472.48 1800.3 1470.77 Q1798.17 1469.03 1794.35 1469.03 L1790.33 1469.03 L1790.33 1465.19 L1794.54 1465.19 Q1797.99 1465.19 1799.82 1463.82 Q1801.64 1462.43 1801.64 1459.84 Q1801.64 1457.18 1799.75 1455.77 Q1797.87 1454.33 1794.35 1454.33 Q1792.43 1454.33 1790.23 1454.75 Q1788.03 1455.16 1785.39 1456.04 L1785.39 1451.88 Q1788.06 1451.14 1790.37 1450.77 Q1792.71 1450.39 1794.77 1450.39 Q1800.09 1450.39 1803.2 1452.83 Q1806.3 1455.23 1806.3 1459.35 Q1806.3 1462.22 1804.65 1464.21 Q1803.01 1466.18 1799.98 1466.95 Z\" fill=\"#000000\" fill-rule=\"evenodd\" fill-opacity=\"1\" /><path clip-path=\"url(#clip550)\" d=\"M1825.97 1454.1 Q1822.36 1454.1 1820.53 1457.66 Q1818.73 1461.2 1818.73 1468.33 Q1818.73 1475.44 1820.53 1479.01 Q1822.36 1482.55 1825.97 1482.55 Q1829.61 1482.55 1831.41 1479.01 Q1833.24 1475.44 1833.24 1468.33 Q1833.24 1461.2 1831.41 1457.66 Q1829.61 1454.1 1825.97 1454.1 M1825.97 1450.39 Q1831.78 1450.39 1834.84 1455 Q1837.92 1459.58 1837.92 1468.33 Q1837.92 1477.06 1834.84 1481.67 Q1831.78 1486.25 1825.97 1486.25 Q1820.16 1486.25 1817.08 1481.67 Q1814.03 1477.06 1814.03 1468.33 Q1814.03 1459.58 1817.08 1455 Q1820.16 1450.39 1825.97 1450.39 Z\" fill=\"#000000\" fill-rule=\"evenodd\" fill-opacity=\"1\" /><path clip-path=\"url(#clip550)\" d=\"M2340.93 1455.09 L2329.12 1473.54 L2340.93 1473.54 L2340.93 1455.09 M2339.7 1451.02 L2345.58 1451.02 L2345.58 1473.54 L2350.51 1473.54 L2350.51 1477.43 L2345.58 1477.43 L2345.58 1485.58 L2340.93 1485.58 L2340.93 1477.43 L2325.33 1477.43 L2325.33 1472.92 L2339.7 1451.02 Z\" fill=\"#000000\" fill-rule=\"evenodd\" fill-opacity=\"1\" /><path clip-path=\"url(#clip550)\" d=\"M2368.24 1454.1 Q2364.63 1454.1 2362.8 1457.66 Q2361 1461.2 2361 1468.33 Q2361 1475.44 2362.8 1479.01 Q2364.63 1482.55 2368.24 1482.55 Q2371.88 1482.55 2373.68 1479.01 Q2375.51 1475.44 2375.51 1468.33 Q2375.51 1461.2 2373.68 1457.66 Q2371.88 1454.1 2368.24 1454.1 M2368.24 1450.39 Q2374.05 1450.39 2377.11 1455 Q2380.19 1459.58 2380.19 1468.33 Q2380.19 1477.06 2377.11 1481.67 Q2374.05 1486.25 2368.24 1486.25 Q2362.43 1486.25 2359.35 1481.67 Q2356.3 1477.06 2356.3 1468.33 Q2356.3 1459.58 2359.35 1455 Q2362.43 1450.39 2368.24 1450.39 Z\" fill=\"#000000\" fill-rule=\"evenodd\" fill-opacity=\"1\" /><path clip-path=\"url(#clip550)\" d=\"M1268.58 1522.27 L1268.58 1532.4 L1280.64 1532.4 L1280.64 1536.95 L1268.58 1536.95 L1268.58 1556.3 Q1268.58 1560.66 1269.75 1561.9 Q1270.96 1563.14 1274.62 1563.14 L1280.64 1563.14 L1280.64 1568.04 L1274.62 1568.04 Q1267.84 1568.04 1265.27 1565.53 Q1262.69 1562.98 1262.69 1556.3 L1262.69 1536.95 L1258.39 1536.95 L1258.39 1532.4 L1262.69 1532.4 L1262.69 1522.27 L1268.58 1522.27 Z\" fill=\"#000000\" fill-rule=\"evenodd\" fill-opacity=\"1\" /><polyline clip-path=\"url(#clip552)\" style=\"stroke:#000000; stroke-linecap:round; stroke-linejoin:round; stroke-width:2; stroke-opacity:0.1; fill:none\" points=\"\n",
       "  186.274,1386.4 2352.76,1386.4 \n",
       "  \"/>\n",
       "<polyline clip-path=\"url(#clip552)\" style=\"stroke:#000000; stroke-linecap:round; stroke-linejoin:round; stroke-width:2; stroke-opacity:0.1; fill:none\" points=\"\n",
       "  186.274,1076.76 2352.76,1076.76 \n",
       "  \"/>\n",
       "<polyline clip-path=\"url(#clip552)\" style=\"stroke:#000000; stroke-linecap:round; stroke-linejoin:round; stroke-width:2; stroke-opacity:0.1; fill:none\" points=\"\n",
       "  186.274,767.133 2352.76,767.133 \n",
       "  \"/>\n",
       "<polyline clip-path=\"url(#clip552)\" style=\"stroke:#000000; stroke-linecap:round; stroke-linejoin:round; stroke-width:2; stroke-opacity:0.1; fill:none\" points=\"\n",
       "  186.274,457.502 2352.76,457.502 \n",
       "  \"/>\n",
       "<polyline clip-path=\"url(#clip552)\" style=\"stroke:#000000; stroke-linecap:round; stroke-linejoin:round; stroke-width:2; stroke-opacity:0.1; fill:none\" points=\"\n",
       "  186.274,147.871 2352.76,147.871 \n",
       "  \"/>\n",
       "<polyline clip-path=\"url(#clip550)\" style=\"stroke:#000000; stroke-linecap:round; stroke-linejoin:round; stroke-width:4; stroke-opacity:1; fill:none\" points=\"\n",
       "  186.274,1423.18 186.274,123.472 \n",
       "  \"/>\n",
       "<polyline clip-path=\"url(#clip550)\" style=\"stroke:#000000; stroke-linecap:round; stroke-linejoin:round; stroke-width:4; stroke-opacity:1; fill:none\" points=\"\n",
       "  186.274,1386.4 205.172,1386.4 \n",
       "  \"/>\n",
       "<polyline clip-path=\"url(#clip550)\" style=\"stroke:#000000; stroke-linecap:round; stroke-linejoin:round; stroke-width:4; stroke-opacity:1; fill:none\" points=\"\n",
       "  186.274,1076.76 205.172,1076.76 \n",
       "  \"/>\n",
       "<polyline clip-path=\"url(#clip550)\" style=\"stroke:#000000; stroke-linecap:round; stroke-linejoin:round; stroke-width:4; stroke-opacity:1; fill:none\" points=\"\n",
       "  186.274,767.133 205.172,767.133 \n",
       "  \"/>\n",
       "<polyline clip-path=\"url(#clip550)\" style=\"stroke:#000000; stroke-linecap:round; stroke-linejoin:round; stroke-width:4; stroke-opacity:1; fill:none\" points=\"\n",
       "  186.274,457.502 205.172,457.502 \n",
       "  \"/>\n",
       "<polyline clip-path=\"url(#clip550)\" style=\"stroke:#000000; stroke-linecap:round; stroke-linejoin:round; stroke-width:4; stroke-opacity:1; fill:none\" points=\"\n",
       "  186.274,147.871 205.172,147.871 \n",
       "  \"/>\n",
       "<path clip-path=\"url(#clip550)\" d=\"M62.9365 1372.19 Q59.3254 1372.19 57.4967 1375.76 Q55.6912 1379.3 55.6912 1386.43 Q55.6912 1393.54 57.4967 1397.1 Q59.3254 1400.64 62.9365 1400.64 Q66.5707 1400.64 68.3763 1397.1 Q70.205 1393.54 70.205 1386.43 Q70.205 1379.3 68.3763 1375.76 Q66.5707 1372.19 62.9365 1372.19 M62.9365 1368.49 Q68.7467 1368.49 71.8022 1373.1 Q74.8809 1377.68 74.8809 1386.43 Q74.8809 1395.16 71.8022 1399.76 Q68.7467 1404.35 62.9365 1404.35 Q57.1264 1404.35 54.0477 1399.76 Q50.9921 1395.16 50.9921 1386.43 Q50.9921 1377.68 54.0477 1373.1 Q57.1264 1368.49 62.9365 1368.49 Z\" fill=\"#000000\" fill-rule=\"evenodd\" fill-opacity=\"1\" /><path clip-path=\"url(#clip550)\" d=\"M83.0984 1397.8 L87.9827 1397.8 L87.9827 1403.68 L83.0984 1403.68 L83.0984 1397.8 Z\" fill=\"#000000\" fill-rule=\"evenodd\" fill-opacity=\"1\" /><path clip-path=\"url(#clip550)\" d=\"M108.168 1372.19 Q104.557 1372.19 102.728 1375.76 Q100.922 1379.3 100.922 1386.43 Q100.922 1393.54 102.728 1397.1 Q104.557 1400.64 108.168 1400.64 Q111.802 1400.64 113.608 1397.1 Q115.436 1393.54 115.436 1386.43 Q115.436 1379.3 113.608 1375.76 Q111.802 1372.19 108.168 1372.19 M108.168 1368.49 Q113.978 1368.49 117.033 1373.1 Q120.112 1377.68 120.112 1386.43 Q120.112 1395.16 117.033 1399.76 Q113.978 1404.35 108.168 1404.35 Q102.358 1404.35 99.2789 1399.76 Q96.2234 1395.16 96.2234 1386.43 Q96.2234 1377.68 99.2789 1373.1 Q102.358 1368.49 108.168 1368.49 Z\" fill=\"#000000\" fill-rule=\"evenodd\" fill-opacity=\"1\" /><path clip-path=\"url(#clip550)\" d=\"M138.33 1372.19 Q134.719 1372.19 132.89 1375.76 Q131.084 1379.3 131.084 1386.43 Q131.084 1393.54 132.89 1397.1 Q134.719 1400.64 138.33 1400.64 Q141.964 1400.64 143.769 1397.1 Q145.598 1393.54 145.598 1386.43 Q145.598 1379.3 143.769 1375.76 Q141.964 1372.19 138.33 1372.19 M138.33 1368.49 Q144.14 1368.49 147.195 1373.1 Q150.274 1377.68 150.274 1386.43 Q150.274 1395.16 147.195 1399.76 Q144.14 1404.35 138.33 1404.35 Q132.519 1404.35 129.441 1399.76 Q126.385 1395.16 126.385 1386.43 Q126.385 1377.68 129.441 1373.1 Q132.519 1368.49 138.33 1368.49 Z\" fill=\"#000000\" fill-rule=\"evenodd\" fill-opacity=\"1\" /><path clip-path=\"url(#clip550)\" d=\"M63.9319 1062.56 Q60.3208 1062.56 58.4921 1066.13 Q56.6865 1069.67 56.6865 1076.8 Q56.6865 1083.91 58.4921 1087.47 Q60.3208 1091.01 63.9319 1091.01 Q67.5661 1091.01 69.3717 1087.47 Q71.2004 1083.91 71.2004 1076.8 Q71.2004 1069.67 69.3717 1066.13 Q67.5661 1062.56 63.9319 1062.56 M63.9319 1058.86 Q69.742 1058.86 72.7976 1063.47 Q75.8763 1068.05 75.8763 1076.8 Q75.8763 1085.53 72.7976 1090.13 Q69.742 1094.72 63.9319 1094.72 Q58.1217 1094.72 55.043 1090.13 Q51.9875 1085.53 51.9875 1076.8 Q51.9875 1068.05 55.043 1063.47 Q58.1217 1058.86 63.9319 1058.86 Z\" fill=\"#000000\" fill-rule=\"evenodd\" fill-opacity=\"1\" /><path clip-path=\"url(#clip550)\" d=\"M84.0938 1088.16 L88.978 1088.16 L88.978 1094.04 L84.0938 1094.04 L84.0938 1088.16 Z\" fill=\"#000000\" fill-rule=\"evenodd\" fill-opacity=\"1\" /><path clip-path=\"url(#clip550)\" d=\"M103.191 1090.11 L119.51 1090.11 L119.51 1094.04 L97.566 1094.04 L97.566 1090.11 Q100.228 1087.35 104.811 1082.73 Q109.418 1078.07 110.598 1076.73 Q112.844 1074.21 113.723 1072.47 Q114.626 1070.71 114.626 1069.02 Q114.626 1066.27 112.682 1064.53 Q110.76 1062.79 107.658 1062.79 Q105.459 1062.79 103.006 1063.56 Q100.575 1064.32 97.7974 1065.87 L97.7974 1061.15 Q100.621 1060.02 103.075 1059.44 Q105.529 1058.86 107.566 1058.86 Q112.936 1058.86 116.131 1061.54 Q119.325 1064.23 119.325 1068.72 Q119.325 1070.85 118.515 1072.77 Q117.728 1074.67 115.621 1077.26 Q115.043 1077.93 111.941 1081.15 Q108.839 1084.35 103.191 1090.11 Z\" fill=\"#000000\" fill-rule=\"evenodd\" fill-opacity=\"1\" /><path clip-path=\"url(#clip550)\" d=\"M129.371 1059.48 L147.728 1059.48 L147.728 1063.42 L133.654 1063.42 L133.654 1071.89 Q134.672 1071.54 135.691 1071.38 Q136.709 1071.2 137.728 1071.2 Q143.515 1071.2 146.894 1074.37 Q150.274 1077.54 150.274 1082.96 Q150.274 1088.54 146.802 1091.64 Q143.33 1094.72 137.01 1094.72 Q134.834 1094.72 132.566 1094.35 Q130.32 1093.98 127.913 1093.23 L127.913 1088.54 Q129.996 1089.67 132.219 1090.23 Q134.441 1090.78 136.918 1090.78 Q140.922 1090.78 143.26 1088.67 Q145.598 1086.57 145.598 1082.96 Q145.598 1079.35 143.26 1077.24 Q140.922 1075.13 136.918 1075.13 Q135.043 1075.13 133.168 1075.55 Q131.316 1075.97 129.371 1076.85 L129.371 1059.48 Z\" fill=\"#000000\" fill-rule=\"evenodd\" fill-opacity=\"1\" /><path clip-path=\"url(#clip550)\" d=\"M62.9365 752.932 Q59.3254 752.932 57.4967 756.497 Q55.6912 760.038 55.6912 767.168 Q55.6912 774.275 57.4967 777.839 Q59.3254 781.381 62.9365 781.381 Q66.5707 781.381 68.3763 777.839 Q70.205 774.275 70.205 767.168 Q70.205 760.038 68.3763 756.497 Q66.5707 752.932 62.9365 752.932 M62.9365 749.228 Q68.7467 749.228 71.8022 753.835 Q74.8809 758.418 74.8809 767.168 Q74.8809 775.895 71.8022 780.501 Q68.7467 785.085 62.9365 785.085 Q57.1264 785.085 54.0477 780.501 Q50.9921 775.895 50.9921 767.168 Q50.9921 758.418 54.0477 753.835 Q57.1264 749.228 62.9365 749.228 Z\" fill=\"#000000\" fill-rule=\"evenodd\" fill-opacity=\"1\" /><path clip-path=\"url(#clip550)\" d=\"M83.0984 778.534 L87.9827 778.534 L87.9827 784.413 L83.0984 784.413 L83.0984 778.534 Z\" fill=\"#000000\" fill-rule=\"evenodd\" fill-opacity=\"1\" /><path clip-path=\"url(#clip550)\" d=\"M98.2141 749.853 L116.57 749.853 L116.57 753.789 L102.496 753.789 L102.496 762.261 Q103.515 761.913 104.534 761.751 Q105.552 761.566 106.571 761.566 Q112.358 761.566 115.737 764.738 Q119.117 767.909 119.117 773.325 Q119.117 778.904 115.645 782.006 Q112.172 785.085 105.853 785.085 Q103.677 785.085 101.409 784.714 Q99.1632 784.344 96.7558 783.603 L96.7558 778.904 Q98.8391 780.038 101.061 780.594 Q103.284 781.149 105.76 781.149 Q109.765 781.149 112.103 779.043 Q114.441 776.937 114.441 773.325 Q114.441 769.714 112.103 767.608 Q109.765 765.501 105.76 765.501 Q103.885 765.501 102.01 765.918 Q100.159 766.335 98.2141 767.214 L98.2141 749.853 Z\" fill=\"#000000\" fill-rule=\"evenodd\" fill-opacity=\"1\" /><path clip-path=\"url(#clip550)\" d=\"M138.33 752.932 Q134.719 752.932 132.89 756.497 Q131.084 760.038 131.084 767.168 Q131.084 774.275 132.89 777.839 Q134.719 781.381 138.33 781.381 Q141.964 781.381 143.769 777.839 Q145.598 774.275 145.598 767.168 Q145.598 760.038 143.769 756.497 Q141.964 752.932 138.33 752.932 M138.33 749.228 Q144.14 749.228 147.195 753.835 Q150.274 758.418 150.274 767.168 Q150.274 775.895 147.195 780.501 Q144.14 785.085 138.33 785.085 Q132.519 785.085 129.441 780.501 Q126.385 775.895 126.385 767.168 Q126.385 758.418 129.441 753.835 Q132.519 749.228 138.33 749.228 Z\" fill=\"#000000\" fill-rule=\"evenodd\" fill-opacity=\"1\" /><path clip-path=\"url(#clip550)\" d=\"M63.9319 443.301 Q60.3208 443.301 58.4921 446.866 Q56.6865 450.407 56.6865 457.537 Q56.6865 464.643 58.4921 468.208 Q60.3208 471.75 63.9319 471.75 Q67.5661 471.75 69.3717 468.208 Q71.2004 464.643 71.2004 457.537 Q71.2004 450.407 69.3717 446.866 Q67.5661 443.301 63.9319 443.301 M63.9319 439.597 Q69.742 439.597 72.7976 444.204 Q75.8763 448.787 75.8763 457.537 Q75.8763 466.264 72.7976 470.87 Q69.742 475.454 63.9319 475.454 Q58.1217 475.454 55.043 470.87 Q51.9875 466.264 51.9875 457.537 Q51.9875 448.787 55.043 444.204 Q58.1217 439.597 63.9319 439.597 Z\" fill=\"#000000\" fill-rule=\"evenodd\" fill-opacity=\"1\" /><path clip-path=\"url(#clip550)\" d=\"M84.0938 468.903 L88.978 468.903 L88.978 474.782 L84.0938 474.782 L84.0938 468.903 Z\" fill=\"#000000\" fill-rule=\"evenodd\" fill-opacity=\"1\" /><path clip-path=\"url(#clip550)\" d=\"M97.9826 440.222 L120.205 440.222 L120.205 442.213 L107.658 474.782 L102.774 474.782 L114.58 444.157 L97.9826 444.157 L97.9826 440.222 Z\" fill=\"#000000\" fill-rule=\"evenodd\" fill-opacity=\"1\" /><path clip-path=\"url(#clip550)\" d=\"M129.371 440.222 L147.728 440.222 L147.728 444.157 L133.654 444.157 L133.654 452.63 Q134.672 452.282 135.691 452.12 Q136.709 451.935 137.728 451.935 Q143.515 451.935 146.894 455.106 Q150.274 458.278 150.274 463.694 Q150.274 469.273 146.802 472.375 Q143.33 475.454 137.01 475.454 Q134.834 475.454 132.566 475.083 Q130.32 474.713 127.913 473.972 L127.913 469.273 Q129.996 470.407 132.219 470.963 Q134.441 471.518 136.918 471.518 Q140.922 471.518 143.26 469.412 Q145.598 467.305 145.598 463.694 Q145.598 460.083 143.26 457.977 Q140.922 455.87 136.918 455.87 Q135.043 455.87 133.168 456.287 Q131.316 456.704 129.371 457.583 L129.371 440.222 Z\" fill=\"#000000\" fill-rule=\"evenodd\" fill-opacity=\"1\" /><path clip-path=\"url(#clip550)\" d=\"M53.7467 161.216 L61.3856 161.216 L61.3856 134.85 L53.0754 136.517 L53.0754 132.258 L61.3393 130.591 L66.0152 130.591 L66.0152 161.216 L73.654 161.216 L73.654 165.151 L53.7467 165.151 L53.7467 161.216 Z\" fill=\"#000000\" fill-rule=\"evenodd\" fill-opacity=\"1\" /><path clip-path=\"url(#clip550)\" d=\"M83.0984 159.271 L87.9827 159.271 L87.9827 165.151 L83.0984 165.151 L83.0984 159.271 Z\" fill=\"#000000\" fill-rule=\"evenodd\" fill-opacity=\"1\" /><path clip-path=\"url(#clip550)\" d=\"M108.168 133.67 Q104.557 133.67 102.728 137.235 Q100.922 140.776 100.922 147.906 Q100.922 155.012 102.728 158.577 Q104.557 162.119 108.168 162.119 Q111.802 162.119 113.608 158.577 Q115.436 155.012 115.436 147.906 Q115.436 140.776 113.608 137.235 Q111.802 133.67 108.168 133.67 M108.168 129.966 Q113.978 129.966 117.033 134.573 Q120.112 139.156 120.112 147.906 Q120.112 156.633 117.033 161.239 Q113.978 165.822 108.168 165.822 Q102.358 165.822 99.2789 161.239 Q96.2234 156.633 96.2234 147.906 Q96.2234 139.156 99.2789 134.573 Q102.358 129.966 108.168 129.966 Z\" fill=\"#000000\" fill-rule=\"evenodd\" fill-opacity=\"1\" /><path clip-path=\"url(#clip550)\" d=\"M138.33 133.67 Q134.719 133.67 132.89 137.235 Q131.084 140.776 131.084 147.906 Q131.084 155.012 132.89 158.577 Q134.719 162.119 138.33 162.119 Q141.964 162.119 143.769 158.577 Q145.598 155.012 145.598 147.906 Q145.598 140.776 143.769 137.235 Q141.964 133.67 138.33 133.67 M138.33 129.966 Q144.14 129.966 147.195 134.573 Q150.274 139.156 150.274 147.906 Q150.274 156.633 147.195 161.239 Q144.14 165.822 138.33 165.822 Q132.519 165.822 129.441 161.239 Q126.385 156.633 126.385 147.906 Q126.385 139.156 129.441 134.573 Q132.519 129.966 138.33 129.966 Z\" fill=\"#000000\" fill-rule=\"evenodd\" fill-opacity=\"1\" /><path clip-path=\"url(#clip550)\" d=\"M920.064 12.096 L954.82 12.096 L954.82 18.9825 L928.247 18.9825 L928.247 36.8065 L952.228 36.8065 L952.228 43.6931 L928.247 43.6931 L928.247 72.576 L920.064 72.576 L920.064 12.096 Z\" fill=\"#000000\" fill-rule=\"evenodd\" fill-opacity=\"1\" /><path clip-path=\"url(#clip550)\" d=\"M961.423 27.2059 L968.877 27.2059 L968.877 72.576 L961.423 72.576 L961.423 27.2059 M961.423 9.54393 L968.877 9.54393 L968.877 18.9825 L961.423 18.9825 L961.423 9.54393 Z\" fill=\"#000000\" fill-rule=\"evenodd\" fill-opacity=\"1\" /><path clip-path=\"url(#clip550)\" d=\"M991.846 14.324 L991.846 27.2059 L1007.2 27.2059 L1007.2 32.9987 L991.846 32.9987 L991.846 57.6282 Q991.846 63.1779 993.345 64.7578 Q994.884 66.3376 999.542 66.3376 L1007.2 66.3376 L1007.2 72.576 L999.542 72.576 Q990.914 72.576 987.633 69.3758 Q984.352 66.1351 984.352 57.6282 L984.352 32.9987 L978.883 32.9987 L978.883 27.2059 L984.352 27.2059 L984.352 14.324 L991.846 14.324 Z\" fill=\"#000000\" fill-rule=\"evenodd\" fill-opacity=\"1\" /><path clip-path=\"url(#clip550)\" d=\"M1024.37 14.324 L1024.37 27.2059 L1039.73 27.2059 L1039.73 32.9987 L1024.37 32.9987 L1024.37 57.6282 Q1024.37 63.1779 1025.87 64.7578 Q1027.41 66.3376 1032.07 66.3376 L1039.73 66.3376 L1039.73 72.576 L1032.07 72.576 Q1023.44 72.576 1020.16 69.3758 Q1016.88 66.1351 1016.88 57.6282 L1016.88 32.9987 L1011.41 32.9987 L1011.41 27.2059 L1016.88 27.2059 L1016.88 14.324 L1024.37 14.324 Z\" fill=\"#000000\" fill-rule=\"evenodd\" fill-opacity=\"1\" /><path clip-path=\"url(#clip550)\" d=\"M1088.34 48.0275 L1088.34 51.6733 L1054.07 51.6733 Q1054.55 59.3701 1058.69 63.421 Q1062.86 67.4314 1070.27 67.4314 Q1074.57 67.4314 1078.58 66.3781 Q1082.63 65.3249 1086.6 63.2184 L1086.6 70.267 Q1082.59 71.9684 1078.37 72.8596 Q1074.16 73.7508 1069.83 73.7508 Q1058.97 73.7508 1052.61 67.4314 Q1046.29 61.1119 1046.29 50.3365 Q1046.29 39.1965 1052.29 32.6746 Q1058.32 26.1121 1068.53 26.1121 Q1077.68 26.1121 1082.99 32.0264 Q1088.34 37.9003 1088.34 48.0275 M1080.88 45.84 Q1080.8 39.7232 1077.44 36.0774 Q1074.12 32.4315 1068.61 32.4315 Q1062.37 32.4315 1058.6 35.9558 Q1054.88 39.4801 1054.31 45.8805 L1080.88 45.84 Z\" fill=\"#000000\" fill-rule=\"evenodd\" fill-opacity=\"1\" /><path clip-path=\"url(#clip550)\" d=\"M1130.43 34.0924 L1130.43 9.54393 L1137.88 9.54393 L1137.88 72.576 L1130.43 72.576 L1130.43 65.7705 Q1128.08 69.8214 1124.47 71.8063 Q1120.91 73.7508 1115.88 73.7508 Q1107.66 73.7508 1102.48 67.1883 Q1097.33 60.6258 1097.33 49.9314 Q1097.33 39.2371 1102.48 32.6746 Q1107.66 26.1121 1115.88 26.1121 Q1120.91 26.1121 1124.47 28.0971 Q1128.08 30.0415 1130.43 34.0924 M1105.03 49.9314 Q1105.03 58.1548 1108.39 62.8538 Q1111.79 67.5124 1117.71 67.5124 Q1123.62 67.5124 1127.02 62.8538 Q1130.43 58.1548 1130.43 49.9314 Q1130.43 41.7081 1127.02 37.0496 Q1123.62 32.3505 1117.71 32.3505 Q1111.79 32.3505 1108.39 37.0496 Q1105.03 41.7081 1105.03 49.9314 Z\" fill=\"#000000\" fill-rule=\"evenodd\" fill-opacity=\"1\" /><path clip-path=\"url(#clip550)\" d=\"M1186.98 14.324 L1186.98 27.2059 L1202.33 27.2059 L1202.33 32.9987 L1186.98 32.9987 L1186.98 57.6282 Q1186.98 63.1779 1188.48 64.7578 Q1190.02 66.3376 1194.67 66.3376 L1202.33 66.3376 L1202.33 72.576 L1194.67 72.576 Q1186.05 72.576 1182.76 69.3758 Q1179.48 66.1351 1179.48 57.6282 L1179.48 32.9987 L1174.01 32.9987 L1174.01 27.2059 L1179.48 27.2059 L1179.48 14.324 L1186.98 14.324 Z\" fill=\"#000000\" fill-rule=\"evenodd\" fill-opacity=\"1\" /><path clip-path=\"url(#clip550)\" d=\"M1238.42 34.1734 Q1237.17 33.4443 1235.67 33.1202 Q1234.21 32.7556 1232.43 32.7556 Q1226.11 32.7556 1222.71 36.8875 Q1219.34 40.9789 1219.34 48.6757 L1219.34 72.576 L1211.85 72.576 L1211.85 27.2059 L1219.34 27.2059 L1219.34 34.2544 Q1221.69 30.1225 1225.46 28.1376 Q1229.23 26.1121 1234.62 26.1121 Q1235.39 26.1121 1236.32 26.2337 Q1237.25 26.3147 1238.38 26.5172 L1238.42 34.1734 Z\" fill=\"#000000\" fill-rule=\"evenodd\" fill-opacity=\"1\" /><path clip-path=\"url(#clip550)\" d=\"M1245.47 54.671 L1245.47 27.2059 L1252.93 27.2059 L1252.93 54.3874 Q1252.93 60.8284 1255.44 64.0691 Q1257.95 67.2693 1262.97 67.2693 Q1269.01 67.2693 1272.49 63.421 Q1276.02 59.5726 1276.02 52.9291 L1276.02 27.2059 L1283.47 27.2059 L1283.47 72.576 L1276.02 72.576 L1276.02 65.6084 Q1273.3 69.7404 1269.7 71.7658 Q1266.13 73.7508 1261.39 73.7508 Q1253.57 73.7508 1249.52 68.8897 Q1245.47 64.0286 1245.47 54.671 M1264.23 26.1121 L1264.23 26.1121 Z\" fill=\"#000000\" fill-rule=\"evenodd\" fill-opacity=\"1\" /><path clip-path=\"url(#clip550)\" d=\"M1337.63 48.0275 L1337.63 51.6733 L1303.36 51.6733 Q1303.85 59.3701 1307.98 63.421 Q1312.15 67.4314 1319.56 67.4314 Q1323.86 67.4314 1327.87 66.3781 Q1331.92 65.3249 1335.89 63.2184 L1335.89 70.267 Q1331.88 71.9684 1327.67 72.8596 Q1323.45 73.7508 1319.12 73.7508 Q1308.26 73.7508 1301.9 67.4314 Q1295.58 61.1119 1295.58 50.3365 Q1295.58 39.1965 1301.58 32.6746 Q1307.61 26.1121 1317.82 26.1121 Q1326.98 26.1121 1332.28 32.0264 Q1337.63 37.9003 1337.63 48.0275 M1330.18 45.84 Q1330.1 39.7232 1326.73 36.0774 Q1323.41 32.4315 1317.9 32.4315 Q1311.66 32.4315 1307.9 35.9558 Q1304.17 39.4801 1303.6 45.8805 L1330.18 45.84 Z\" fill=\"#000000\" fill-rule=\"evenodd\" fill-opacity=\"1\" /><path clip-path=\"url(#clip550)\" d=\"M1411.56 35.9153 Q1414.36 30.8922 1418.24 28.5022 Q1422.13 26.1121 1427.4 26.1121 Q1434.49 26.1121 1438.34 31.0947 Q1442.18 36.0368 1442.18 45.1919 L1442.18 72.576 L1434.69 72.576 L1434.69 45.4349 Q1434.69 38.913 1432.38 35.7533 Q1430.07 32.5936 1425.33 32.5936 Q1419.54 32.5936 1416.18 36.4419 Q1412.82 40.2903 1412.82 46.9338 L1412.82 72.576 L1405.32 72.576 L1405.32 45.4349 Q1405.32 38.8725 1403.01 35.7533 Q1400.7 32.5936 1395.88 32.5936 Q1390.17 32.5936 1386.81 36.4824 Q1383.45 40.3308 1383.45 46.9338 L1383.45 72.576 L1375.95 72.576 L1375.95 27.2059 L1383.45 27.2059 L1383.45 34.2544 Q1386 30.082 1389.56 28.0971 Q1393.13 26.1121 1398.03 26.1121 Q1402.97 26.1121 1406.42 28.6237 Q1409.9 31.1352 1411.56 35.9153 Z\" fill=\"#000000\" fill-rule=\"evenodd\" fill-opacity=\"1\" /><path clip-path=\"url(#clip550)\" d=\"M1474.63 32.4315 Q1468.64 32.4315 1465.15 37.1306 Q1461.67 41.7891 1461.67 49.9314 Q1461.67 58.0738 1465.11 62.7728 Q1468.6 67.4314 1474.63 67.4314 Q1480.59 67.4314 1484.07 62.7323 Q1487.55 58.0333 1487.55 49.9314 Q1487.55 41.8701 1484.07 37.1711 Q1480.59 32.4315 1474.63 32.4315 M1474.63 26.1121 Q1484.35 26.1121 1489.9 32.4315 Q1495.45 38.7509 1495.45 49.9314 Q1495.45 61.0714 1489.9 67.4314 Q1484.35 73.7508 1474.63 73.7508 Q1464.87 73.7508 1459.32 67.4314 Q1453.81 61.0714 1453.81 49.9314 Q1453.81 38.7509 1459.32 32.4315 Q1464.87 26.1121 1474.63 26.1121 Z\" fill=\"#000000\" fill-rule=\"evenodd\" fill-opacity=\"1\" /><path clip-path=\"url(#clip550)\" d=\"M1537.66 34.0924 L1537.66 9.54393 L1545.12 9.54393 L1545.12 72.576 L1537.66 72.576 L1537.66 65.7705 Q1535.32 69.8214 1531.71 71.8063 Q1528.14 73.7508 1523.12 73.7508 Q1514.9 73.7508 1509.71 67.1883 Q1504.57 60.6258 1504.57 49.9314 Q1504.57 39.2371 1509.71 32.6746 Q1514.9 26.1121 1523.12 26.1121 Q1528.14 26.1121 1531.71 28.0971 Q1535.32 30.0415 1537.66 34.0924 M1512.27 49.9314 Q1512.27 58.1548 1515.63 62.8538 Q1519.03 67.5124 1524.94 67.5124 Q1530.86 67.5124 1534.26 62.8538 Q1537.66 58.1548 1537.66 49.9314 Q1537.66 41.7081 1534.26 37.0496 Q1530.86 32.3505 1524.94 32.3505 Q1519.03 32.3505 1515.63 37.0496 Q1512.27 41.7081 1512.27 49.9314 Z\" fill=\"#000000\" fill-rule=\"evenodd\" fill-opacity=\"1\" /><path clip-path=\"url(#clip550)\" d=\"M1599.28 48.0275 L1599.28 51.6733 L1565.01 51.6733 Q1565.49 59.3701 1569.63 63.421 Q1573.8 67.4314 1581.21 67.4314 Q1585.51 67.4314 1589.52 66.3781 Q1593.57 65.3249 1597.54 63.2184 L1597.54 70.267 Q1593.53 71.9684 1589.31 72.8596 Q1585.1 73.7508 1580.77 73.7508 Q1569.91 73.7508 1563.55 67.4314 Q1557.23 61.1119 1557.23 50.3365 Q1557.23 39.1965 1563.23 32.6746 Q1569.26 26.1121 1579.47 26.1121 Q1588.62 26.1121 1593.93 32.0264 Q1599.28 37.9003 1599.28 48.0275 M1591.83 45.84 Q1591.74 39.7232 1588.38 36.0774 Q1585.06 32.4315 1579.55 32.4315 Q1573.31 32.4315 1569.55 35.9558 Q1565.82 39.4801 1565.25 45.8805 L1591.83 45.84 Z\" fill=\"#000000\" fill-rule=\"evenodd\" fill-opacity=\"1\" /><path clip-path=\"url(#clip550)\" d=\"M1611.51 9.54393 L1618.97 9.54393 L1618.97 72.576 L1611.51 72.576 L1611.51 9.54393 Z\" fill=\"#000000\" fill-rule=\"evenodd\" fill-opacity=\"1\" /><circle clip-path=\"url(#clip552)\" cx=\"186.274\" cy=\"160.256\" r=\"14.4\" fill=\"#009af9\" fill-rule=\"evenodd\" fill-opacity=\"1\" stroke=\"#000000\" stroke-opacity=\"1\" stroke-width=\"3.2\"/>\n",
       "<circle clip-path=\"url(#clip552)\" cx=\"240.436\" cy=\"167.18\" r=\"14.4\" fill=\"#009af9\" fill-rule=\"evenodd\" fill-opacity=\"1\" stroke=\"#000000\" stroke-opacity=\"1\" stroke-width=\"3.2\"/>\n",
       "<circle clip-path=\"url(#clip552)\" cx=\"294.598\" cy=\"175.944\" r=\"14.4\" fill=\"#009af9\" fill-rule=\"evenodd\" fill-opacity=\"1\" stroke=\"#000000\" stroke-opacity=\"1\" stroke-width=\"3.2\"/>\n",
       "<circle clip-path=\"url(#clip552)\" cx=\"348.76\" cy=\"186.978\" r=\"14.4\" fill=\"#009af9\" fill-rule=\"evenodd\" fill-opacity=\"1\" stroke=\"#000000\" stroke-opacity=\"1\" stroke-width=\"3.2\"/>\n",
       "<circle clip-path=\"url(#clip552)\" cx=\"402.922\" cy=\"200.778\" r=\"14.4\" fill=\"#009af9\" fill-rule=\"evenodd\" fill-opacity=\"1\" stroke=\"#000000\" stroke-opacity=\"1\" stroke-width=\"3.2\"/>\n",
       "<circle clip-path=\"url(#clip552)\" cx=\"457.084\" cy=\"217.894\" r=\"14.4\" fill=\"#009af9\" fill-rule=\"evenodd\" fill-opacity=\"1\" stroke=\"#000000\" stroke-opacity=\"1\" stroke-width=\"3.2\"/>\n",
       "<circle clip-path=\"url(#clip552)\" cx=\"511.246\" cy=\"238.906\" r=\"14.4\" fill=\"#009af9\" fill-rule=\"evenodd\" fill-opacity=\"1\" stroke=\"#000000\" stroke-opacity=\"1\" stroke-width=\"3.2\"/>\n",
       "<circle clip-path=\"url(#clip552)\" cx=\"565.408\" cy=\"264.382\" r=\"14.4\" fill=\"#009af9\" fill-rule=\"evenodd\" fill-opacity=\"1\" stroke=\"#000000\" stroke-opacity=\"1\" stroke-width=\"3.2\"/>\n",
       "<circle clip-path=\"url(#clip552)\" cx=\"619.57\" cy=\"294.812\" r=\"14.4\" fill=\"#009af9\" fill-rule=\"evenodd\" fill-opacity=\"1\" stroke=\"#000000\" stroke-opacity=\"1\" stroke-width=\"3.2\"/>\n",
       "<circle clip-path=\"url(#clip552)\" cx=\"673.732\" cy=\"330.518\" r=\"14.4\" fill=\"#009af9\" fill-rule=\"evenodd\" fill-opacity=\"1\" stroke=\"#000000\" stroke-opacity=\"1\" stroke-width=\"3.2\"/>\n",
       "<circle clip-path=\"url(#clip552)\" cx=\"727.894\" cy=\"371.567\" r=\"14.4\" fill=\"#009af9\" fill-rule=\"evenodd\" fill-opacity=\"1\" stroke=\"#000000\" stroke-opacity=\"1\" stroke-width=\"3.2\"/>\n",
       "<circle clip-path=\"url(#clip552)\" cx=\"782.057\" cy=\"417.675\" r=\"14.4\" fill=\"#009af9\" fill-rule=\"evenodd\" fill-opacity=\"1\" stroke=\"#000000\" stroke-opacity=\"1\" stroke-width=\"3.2\"/>\n",
       "<circle clip-path=\"url(#clip552)\" cx=\"836.219\" cy=\"468.163\" r=\"14.4\" fill=\"#009af9\" fill-rule=\"evenodd\" fill-opacity=\"1\" stroke=\"#000000\" stroke-opacity=\"1\" stroke-width=\"3.2\"/>\n",
       "<circle clip-path=\"url(#clip552)\" cx=\"890.381\" cy=\"521.959\" r=\"14.4\" fill=\"#009af9\" fill-rule=\"evenodd\" fill-opacity=\"1\" stroke=\"#000000\" stroke-opacity=\"1\" stroke-width=\"3.2\"/>\n",
       "<circle clip-path=\"url(#clip552)\" cx=\"944.543\" cy=\"577.684\" r=\"14.4\" fill=\"#009af9\" fill-rule=\"evenodd\" fill-opacity=\"1\" stroke=\"#000000\" stroke-opacity=\"1\" stroke-width=\"3.2\"/>\n",
       "<circle clip-path=\"url(#clip552)\" cx=\"998.705\" cy=\"633.805\" r=\"14.4\" fill=\"#009af9\" fill-rule=\"evenodd\" fill-opacity=\"1\" stroke=\"#000000\" stroke-opacity=\"1\" stroke-width=\"3.2\"/>\n",
       "<circle clip-path=\"url(#clip552)\" cx=\"1052.87\" cy=\"688.808\" r=\"14.4\" fill=\"#009af9\" fill-rule=\"evenodd\" fill-opacity=\"1\" stroke=\"#000000\" stroke-opacity=\"1\" stroke-width=\"3.2\"/>\n",
       "<circle clip-path=\"url(#clip552)\" cx=\"1107.03\" cy=\"741.366\" r=\"14.4\" fill=\"#009af9\" fill-rule=\"evenodd\" fill-opacity=\"1\" stroke=\"#000000\" stroke-opacity=\"1\" stroke-width=\"3.2\"/>\n",
       "<circle clip-path=\"url(#clip552)\" cx=\"1161.19\" cy=\"790.458\" r=\"14.4\" fill=\"#009af9\" fill-rule=\"evenodd\" fill-opacity=\"1\" stroke=\"#000000\" stroke-opacity=\"1\" stroke-width=\"3.2\"/>\n",
       "<circle clip-path=\"url(#clip552)\" cx=\"1215.35\" cy=\"835.411\" r=\"14.4\" fill=\"#009af9\" fill-rule=\"evenodd\" fill-opacity=\"1\" stroke=\"#000000\" stroke-opacity=\"1\" stroke-width=\"3.2\"/>\n",
       "<circle clip-path=\"url(#clip552)\" cx=\"1269.51\" cy=\"875.893\" r=\"14.4\" fill=\"#009af9\" fill-rule=\"evenodd\" fill-opacity=\"1\" stroke=\"#000000\" stroke-opacity=\"1\" stroke-width=\"3.2\"/>\n",
       "<circle clip-path=\"url(#clip552)\" cx=\"1323.68\" cy=\"911.855\" r=\"14.4\" fill=\"#009af9\" fill-rule=\"evenodd\" fill-opacity=\"1\" stroke=\"#000000\" stroke-opacity=\"1\" stroke-width=\"3.2\"/>\n",
       "<circle clip-path=\"url(#clip552)\" cx=\"1377.84\" cy=\"943.458\" r=\"14.4\" fill=\"#009af9\" fill-rule=\"evenodd\" fill-opacity=\"1\" stroke=\"#000000\" stroke-opacity=\"1\" stroke-width=\"3.2\"/>\n",
       "<circle clip-path=\"url(#clip552)\" cx=\"1432\" cy=\"970.999\" r=\"14.4\" fill=\"#009af9\" fill-rule=\"evenodd\" fill-opacity=\"1\" stroke=\"#000000\" stroke-opacity=\"1\" stroke-width=\"3.2\"/>\n",
       "<circle clip-path=\"url(#clip552)\" cx=\"1486.16\" cy=\"994.851\" r=\"14.4\" fill=\"#009af9\" fill-rule=\"evenodd\" fill-opacity=\"1\" stroke=\"#000000\" stroke-opacity=\"1\" stroke-width=\"3.2\"/>\n",
       "<circle clip-path=\"url(#clip552)\" cx=\"1540.33\" cy=\"1015.42\" r=\"14.4\" fill=\"#009af9\" fill-rule=\"evenodd\" fill-opacity=\"1\" stroke=\"#000000\" stroke-opacity=\"1\" stroke-width=\"3.2\"/>\n",
       "<circle clip-path=\"url(#clip552)\" cx=\"1594.49\" cy=\"1033.09\" r=\"14.4\" fill=\"#009af9\" fill-rule=\"evenodd\" fill-opacity=\"1\" stroke=\"#000000\" stroke-opacity=\"1\" stroke-width=\"3.2\"/>\n",
       "<circle clip-path=\"url(#clip552)\" cx=\"1648.65\" cy=\"1048.25\" r=\"14.4\" fill=\"#009af9\" fill-rule=\"evenodd\" fill-opacity=\"1\" stroke=\"#000000\" stroke-opacity=\"1\" stroke-width=\"3.2\"/>\n",
       "<circle clip-path=\"url(#clip552)\" cx=\"1702.81\" cy=\"1061.23\" r=\"14.4\" fill=\"#009af9\" fill-rule=\"evenodd\" fill-opacity=\"1\" stroke=\"#000000\" stroke-opacity=\"1\" stroke-width=\"3.2\"/>\n",
       "<circle clip-path=\"url(#clip552)\" cx=\"1756.97\" cy=\"1072.34\" r=\"14.4\" fill=\"#009af9\" fill-rule=\"evenodd\" fill-opacity=\"1\" stroke=\"#000000\" stroke-opacity=\"1\" stroke-width=\"3.2\"/>\n",
       "<circle clip-path=\"url(#clip552)\" cx=\"1811.14\" cy=\"1081.85\" r=\"14.4\" fill=\"#009af9\" fill-rule=\"evenodd\" fill-opacity=\"1\" stroke=\"#000000\" stroke-opacity=\"1\" stroke-width=\"3.2\"/>\n",
       "<circle clip-path=\"url(#clip552)\" cx=\"1865.3\" cy=\"1089.99\" r=\"14.4\" fill=\"#009af9\" fill-rule=\"evenodd\" fill-opacity=\"1\" stroke=\"#000000\" stroke-opacity=\"1\" stroke-width=\"3.2\"/>\n",
       "<circle clip-path=\"url(#clip552)\" cx=\"1919.46\" cy=\"1096.95\" r=\"14.4\" fill=\"#009af9\" fill-rule=\"evenodd\" fill-opacity=\"1\" stroke=\"#000000\" stroke-opacity=\"1\" stroke-width=\"3.2\"/>\n",
       "<circle clip-path=\"url(#clip552)\" cx=\"1973.62\" cy=\"1102.91\" r=\"14.4\" fill=\"#009af9\" fill-rule=\"evenodd\" fill-opacity=\"1\" stroke=\"#000000\" stroke-opacity=\"1\" stroke-width=\"3.2\"/>\n",
       "<circle clip-path=\"url(#clip552)\" cx=\"2027.78\" cy=\"1108.02\" r=\"14.4\" fill=\"#009af9\" fill-rule=\"evenodd\" fill-opacity=\"1\" stroke=\"#000000\" stroke-opacity=\"1\" stroke-width=\"3.2\"/>\n",
       "<circle clip-path=\"url(#clip552)\" cx=\"2081.95\" cy=\"1112.39\" r=\"14.4\" fill=\"#009af9\" fill-rule=\"evenodd\" fill-opacity=\"1\" stroke=\"#000000\" stroke-opacity=\"1\" stroke-width=\"3.2\"/>\n",
       "<circle clip-path=\"url(#clip552)\" cx=\"2136.11\" cy=\"1116.14\" r=\"14.4\" fill=\"#009af9\" fill-rule=\"evenodd\" fill-opacity=\"1\" stroke=\"#000000\" stroke-opacity=\"1\" stroke-width=\"3.2\"/>\n",
       "<circle clip-path=\"url(#clip552)\" cx=\"2190.27\" cy=\"1119.35\" r=\"14.4\" fill=\"#009af9\" fill-rule=\"evenodd\" fill-opacity=\"1\" stroke=\"#000000\" stroke-opacity=\"1\" stroke-width=\"3.2\"/>\n",
       "<circle clip-path=\"url(#clip552)\" cx=\"2244.43\" cy=\"1122.11\" r=\"14.4\" fill=\"#009af9\" fill-rule=\"evenodd\" fill-opacity=\"1\" stroke=\"#000000\" stroke-opacity=\"1\" stroke-width=\"3.2\"/>\n",
       "<circle clip-path=\"url(#clip552)\" cx=\"2298.59\" cy=\"1124.48\" r=\"14.4\" fill=\"#009af9\" fill-rule=\"evenodd\" fill-opacity=\"1\" stroke=\"#000000\" stroke-opacity=\"1\" stroke-width=\"3.2\"/>\n",
       "<circle clip-path=\"url(#clip552)\" cx=\"2352.76\" cy=\"1126.51\" r=\"14.4\" fill=\"#009af9\" fill-rule=\"evenodd\" fill-opacity=\"1\" stroke=\"#000000\" stroke-opacity=\"1\" stroke-width=\"3.2\"/>\n",
       "<circle clip-path=\"url(#clip552)\" cx=\"186.274\" cy=\"1374.01\" r=\"14.4\" fill=\"#e26f46\" fill-rule=\"evenodd\" fill-opacity=\"1\" stroke=\"#000000\" stroke-opacity=\"1\" stroke-width=\"3.2\"/>\n",
       "<circle clip-path=\"url(#clip552)\" cx=\"240.436\" cy=\"1370.59\" r=\"14.4\" fill=\"#e26f46\" fill-rule=\"evenodd\" fill-opacity=\"1\" stroke=\"#000000\" stroke-opacity=\"1\" stroke-width=\"3.2\"/>\n",
       "<circle clip-path=\"url(#clip552)\" cx=\"294.598\" cy=\"1366.3\" r=\"14.4\" fill=\"#e26f46\" fill-rule=\"evenodd\" fill-opacity=\"1\" stroke=\"#000000\" stroke-opacity=\"1\" stroke-width=\"3.2\"/>\n",
       "<circle clip-path=\"url(#clip552)\" cx=\"348.76\" cy=\"1360.93\" r=\"14.4\" fill=\"#e26f46\" fill-rule=\"evenodd\" fill-opacity=\"1\" stroke=\"#000000\" stroke-opacity=\"1\" stroke-width=\"3.2\"/>\n",
       "<circle clip-path=\"url(#clip552)\" cx=\"402.922\" cy=\"1354.3\" r=\"14.4\" fill=\"#e26f46\" fill-rule=\"evenodd\" fill-opacity=\"1\" stroke=\"#000000\" stroke-opacity=\"1\" stroke-width=\"3.2\"/>\n",
       "<circle clip-path=\"url(#clip552)\" cx=\"457.084\" cy=\"1346.19\" r=\"14.4\" fill=\"#e26f46\" fill-rule=\"evenodd\" fill-opacity=\"1\" stroke=\"#000000\" stroke-opacity=\"1\" stroke-width=\"3.2\"/>\n",
       "<circle clip-path=\"url(#clip552)\" cx=\"511.246\" cy=\"1336.41\" r=\"14.4\" fill=\"#e26f46\" fill-rule=\"evenodd\" fill-opacity=\"1\" stroke=\"#000000\" stroke-opacity=\"1\" stroke-width=\"3.2\"/>\n",
       "<circle clip-path=\"url(#clip552)\" cx=\"565.408\" cy=\"1324.84\" r=\"14.4\" fill=\"#e26f46\" fill-rule=\"evenodd\" fill-opacity=\"1\" stroke=\"#000000\" stroke-opacity=\"1\" stroke-width=\"3.2\"/>\n",
       "<circle clip-path=\"url(#clip552)\" cx=\"619.57\" cy=\"1311.44\" r=\"14.4\" fill=\"#e26f46\" fill-rule=\"evenodd\" fill-opacity=\"1\" stroke=\"#000000\" stroke-opacity=\"1\" stroke-width=\"3.2\"/>\n",
       "<circle clip-path=\"url(#clip552)\" cx=\"673.732\" cy=\"1296.33\" r=\"14.4\" fill=\"#e26f46\" fill-rule=\"evenodd\" fill-opacity=\"1\" stroke=\"#000000\" stroke-opacity=\"1\" stroke-width=\"3.2\"/>\n",
       "<circle clip-path=\"url(#clip552)\" cx=\"727.894\" cy=\"1279.83\" r=\"14.4\" fill=\"#e26f46\" fill-rule=\"evenodd\" fill-opacity=\"1\" stroke=\"#000000\" stroke-opacity=\"1\" stroke-width=\"3.2\"/>\n",
       "<circle clip-path=\"url(#clip552)\" cx=\"782.057\" cy=\"1262.52\" r=\"14.4\" fill=\"#e26f46\" fill-rule=\"evenodd\" fill-opacity=\"1\" stroke=\"#000000\" stroke-opacity=\"1\" stroke-width=\"3.2\"/>\n",
       "<circle clip-path=\"url(#clip552)\" cx=\"836.219\" cy=\"1245.18\" r=\"14.4\" fill=\"#e26f46\" fill-rule=\"evenodd\" fill-opacity=\"1\" stroke=\"#000000\" stroke-opacity=\"1\" stroke-width=\"3.2\"/>\n",
       "<circle clip-path=\"url(#clip552)\" cx=\"890.381\" cy=\"1228.77\" r=\"14.4\" fill=\"#e26f46\" fill-rule=\"evenodd\" fill-opacity=\"1\" stroke=\"#000000\" stroke-opacity=\"1\" stroke-width=\"3.2\"/>\n",
       "<circle clip-path=\"url(#clip552)\" cx=\"944.543\" cy=\"1214.31\" r=\"14.4\" fill=\"#e26f46\" fill-rule=\"evenodd\" fill-opacity=\"1\" stroke=\"#000000\" stroke-opacity=\"1\" stroke-width=\"3.2\"/>\n",
       "<circle clip-path=\"url(#clip552)\" cx=\"998.705\" cy=\"1202.73\" r=\"14.4\" fill=\"#e26f46\" fill-rule=\"evenodd\" fill-opacity=\"1\" stroke=\"#000000\" stroke-opacity=\"1\" stroke-width=\"3.2\"/>\n",
       "<circle clip-path=\"url(#clip552)\" cx=\"1052.87\" cy=\"1194.72\" r=\"14.4\" fill=\"#e26f46\" fill-rule=\"evenodd\" fill-opacity=\"1\" stroke=\"#000000\" stroke-opacity=\"1\" stroke-width=\"3.2\"/>\n",
       "<circle clip-path=\"url(#clip552)\" cx=\"1107.03\" cy=\"1190.67\" r=\"14.4\" fill=\"#e26f46\" fill-rule=\"evenodd\" fill-opacity=\"1\" stroke=\"#000000\" stroke-opacity=\"1\" stroke-width=\"3.2\"/>\n",
       "<circle clip-path=\"url(#clip552)\" cx=\"1161.19\" cy=\"1190.6\" r=\"14.4\" fill=\"#e26f46\" fill-rule=\"evenodd\" fill-opacity=\"1\" stroke=\"#000000\" stroke-opacity=\"1\" stroke-width=\"3.2\"/>\n",
       "<circle clip-path=\"url(#clip552)\" cx=\"1215.35\" cy=\"1194.22\" r=\"14.4\" fill=\"#e26f46\" fill-rule=\"evenodd\" fill-opacity=\"1\" stroke=\"#000000\" stroke-opacity=\"1\" stroke-width=\"3.2\"/>\n",
       "<circle clip-path=\"url(#clip552)\" cx=\"1269.51\" cy=\"1200.99\" r=\"14.4\" fill=\"#e26f46\" fill-rule=\"evenodd\" fill-opacity=\"1\" stroke=\"#000000\" stroke-opacity=\"1\" stroke-width=\"3.2\"/>\n",
       "<circle clip-path=\"url(#clip552)\" cx=\"1323.68\" cy=\"1210.27\" r=\"14.4\" fill=\"#e26f46\" fill-rule=\"evenodd\" fill-opacity=\"1\" stroke=\"#000000\" stroke-opacity=\"1\" stroke-width=\"3.2\"/>\n",
       "<circle clip-path=\"url(#clip552)\" cx=\"1377.84\" cy=\"1221.34\" r=\"14.4\" fill=\"#e26f46\" fill-rule=\"evenodd\" fill-opacity=\"1\" stroke=\"#000000\" stroke-opacity=\"1\" stroke-width=\"3.2\"/>\n",
       "<circle clip-path=\"url(#clip552)\" cx=\"1432\" cy=\"1233.55\" r=\"14.4\" fill=\"#e26f46\" fill-rule=\"evenodd\" fill-opacity=\"1\" stroke=\"#000000\" stroke-opacity=\"1\" stroke-width=\"3.2\"/>\n",
       "<circle clip-path=\"url(#clip552)\" cx=\"1486.16\" cy=\"1246.32\" r=\"14.4\" fill=\"#e26f46\" fill-rule=\"evenodd\" fill-opacity=\"1\" stroke=\"#000000\" stroke-opacity=\"1\" stroke-width=\"3.2\"/>\n",
       "<circle clip-path=\"url(#clip552)\" cx=\"1540.33\" cy=\"1259.17\" r=\"14.4\" fill=\"#e26f46\" fill-rule=\"evenodd\" fill-opacity=\"1\" stroke=\"#000000\" stroke-opacity=\"1\" stroke-width=\"3.2\"/>\n",
       "<circle clip-path=\"url(#clip552)\" cx=\"1594.49\" cy=\"1271.72\" r=\"14.4\" fill=\"#e26f46\" fill-rule=\"evenodd\" fill-opacity=\"1\" stroke=\"#000000\" stroke-opacity=\"1\" stroke-width=\"3.2\"/>\n",
       "<circle clip-path=\"url(#clip552)\" cx=\"1648.65\" cy=\"1283.72\" r=\"14.4\" fill=\"#e26f46\" fill-rule=\"evenodd\" fill-opacity=\"1\" stroke=\"#000000\" stroke-opacity=\"1\" stroke-width=\"3.2\"/>\n",
       "<circle clip-path=\"url(#clip552)\" cx=\"1702.81\" cy=\"1294.98\" r=\"14.4\" fill=\"#e26f46\" fill-rule=\"evenodd\" fill-opacity=\"1\" stroke=\"#000000\" stroke-opacity=\"1\" stroke-width=\"3.2\"/>\n",
       "<circle clip-path=\"url(#clip552)\" cx=\"1756.97\" cy=\"1305.4\" r=\"14.4\" fill=\"#e26f46\" fill-rule=\"evenodd\" fill-opacity=\"1\" stroke=\"#000000\" stroke-opacity=\"1\" stroke-width=\"3.2\"/>\n",
       "<circle clip-path=\"url(#clip552)\" cx=\"1811.14\" cy=\"1314.93\" r=\"14.4\" fill=\"#e26f46\" fill-rule=\"evenodd\" fill-opacity=\"1\" stroke=\"#000000\" stroke-opacity=\"1\" stroke-width=\"3.2\"/>\n",
       "<circle clip-path=\"url(#clip552)\" cx=\"1865.3\" cy=\"1323.56\" r=\"14.4\" fill=\"#e26f46\" fill-rule=\"evenodd\" fill-opacity=\"1\" stroke=\"#000000\" stroke-opacity=\"1\" stroke-width=\"3.2\"/>\n",
       "<circle clip-path=\"url(#clip552)\" cx=\"1919.46\" cy=\"1331.32\" r=\"14.4\" fill=\"#e26f46\" fill-rule=\"evenodd\" fill-opacity=\"1\" stroke=\"#000000\" stroke-opacity=\"1\" stroke-width=\"3.2\"/>\n",
       "<circle clip-path=\"url(#clip552)\" cx=\"1973.62\" cy=\"1338.25\" r=\"14.4\" fill=\"#e26f46\" fill-rule=\"evenodd\" fill-opacity=\"1\" stroke=\"#000000\" stroke-opacity=\"1\" stroke-width=\"3.2\"/>\n",
       "<circle clip-path=\"url(#clip552)\" cx=\"2027.78\" cy=\"1344.39\" r=\"14.4\" fill=\"#e26f46\" fill-rule=\"evenodd\" fill-opacity=\"1\" stroke=\"#000000\" stroke-opacity=\"1\" stroke-width=\"3.2\"/>\n",
       "<circle clip-path=\"url(#clip552)\" cx=\"2081.95\" cy=\"1349.83\" r=\"14.4\" fill=\"#e26f46\" fill-rule=\"evenodd\" fill-opacity=\"1\" stroke=\"#000000\" stroke-opacity=\"1\" stroke-width=\"3.2\"/>\n",
       "<circle clip-path=\"url(#clip552)\" cx=\"2136.11\" cy=\"1354.61\" r=\"14.4\" fill=\"#e26f46\" fill-rule=\"evenodd\" fill-opacity=\"1\" stroke=\"#000000\" stroke-opacity=\"1\" stroke-width=\"3.2\"/>\n",
       "<circle clip-path=\"url(#clip552)\" cx=\"2190.27\" cy=\"1358.81\" r=\"14.4\" fill=\"#e26f46\" fill-rule=\"evenodd\" fill-opacity=\"1\" stroke=\"#000000\" stroke-opacity=\"1\" stroke-width=\"3.2\"/>\n",
       "<circle clip-path=\"url(#clip552)\" cx=\"2244.43\" cy=\"1362.48\" r=\"14.4\" fill=\"#e26f46\" fill-rule=\"evenodd\" fill-opacity=\"1\" stroke=\"#000000\" stroke-opacity=\"1\" stroke-width=\"3.2\"/>\n",
       "<circle clip-path=\"url(#clip552)\" cx=\"2298.59\" cy=\"1365.68\" r=\"14.4\" fill=\"#e26f46\" fill-rule=\"evenodd\" fill-opacity=\"1\" stroke=\"#000000\" stroke-opacity=\"1\" stroke-width=\"3.2\"/>\n",
       "<circle clip-path=\"url(#clip552)\" cx=\"2352.76\" cy=\"1368.47\" r=\"14.4\" fill=\"#e26f46\" fill-rule=\"evenodd\" fill-opacity=\"1\" stroke=\"#000000\" stroke-opacity=\"1\" stroke-width=\"3.2\"/>\n",
       "<circle clip-path=\"url(#clip552)\" cx=\"186.274\" cy=\"1386.4\" r=\"14.4\" fill=\"#3da44d\" fill-rule=\"evenodd\" fill-opacity=\"1\" stroke=\"#000000\" stroke-opacity=\"1\" stroke-width=\"3.2\"/>\n",
       "<circle clip-path=\"url(#clip552)\" cx=\"240.436\" cy=\"1379.47\" r=\"14.4\" fill=\"#3da44d\" fill-rule=\"evenodd\" fill-opacity=\"1\" stroke=\"#000000\" stroke-opacity=\"1\" stroke-width=\"3.2\"/>\n",
       "<circle clip-path=\"url(#clip552)\" cx=\"294.598\" cy=\"1370.71\" r=\"14.4\" fill=\"#3da44d\" fill-rule=\"evenodd\" fill-opacity=\"1\" stroke=\"#000000\" stroke-opacity=\"1\" stroke-width=\"3.2\"/>\n",
       "<circle clip-path=\"url(#clip552)\" cx=\"348.76\" cy=\"1359.67\" r=\"14.4\" fill=\"#3da44d\" fill-rule=\"evenodd\" fill-opacity=\"1\" stroke=\"#000000\" stroke-opacity=\"1\" stroke-width=\"3.2\"/>\n",
       "<circle clip-path=\"url(#clip552)\" cx=\"402.922\" cy=\"1345.87\" r=\"14.4\" fill=\"#3da44d\" fill-rule=\"evenodd\" fill-opacity=\"1\" stroke=\"#000000\" stroke-opacity=\"1\" stroke-width=\"3.2\"/>\n",
       "<circle clip-path=\"url(#clip552)\" cx=\"457.084\" cy=\"1328.76\" r=\"14.4\" fill=\"#3da44d\" fill-rule=\"evenodd\" fill-opacity=\"1\" stroke=\"#000000\" stroke-opacity=\"1\" stroke-width=\"3.2\"/>\n",
       "<circle clip-path=\"url(#clip552)\" cx=\"511.246\" cy=\"1307.75\" r=\"14.4\" fill=\"#3da44d\" fill-rule=\"evenodd\" fill-opacity=\"1\" stroke=\"#000000\" stroke-opacity=\"1\" stroke-width=\"3.2\"/>\n",
       "<circle clip-path=\"url(#clip552)\" cx=\"565.408\" cy=\"1282.27\" r=\"14.4\" fill=\"#3da44d\" fill-rule=\"evenodd\" fill-opacity=\"1\" stroke=\"#000000\" stroke-opacity=\"1\" stroke-width=\"3.2\"/>\n",
       "<circle clip-path=\"url(#clip552)\" cx=\"619.57\" cy=\"1251.84\" r=\"14.4\" fill=\"#3da44d\" fill-rule=\"evenodd\" fill-opacity=\"1\" stroke=\"#000000\" stroke-opacity=\"1\" stroke-width=\"3.2\"/>\n",
       "<circle clip-path=\"url(#clip552)\" cx=\"673.732\" cy=\"1216.13\" r=\"14.4\" fill=\"#3da44d\" fill-rule=\"evenodd\" fill-opacity=\"1\" stroke=\"#000000\" stroke-opacity=\"1\" stroke-width=\"3.2\"/>\n",
       "<circle clip-path=\"url(#clip552)\" cx=\"727.894\" cy=\"1175.09\" r=\"14.4\" fill=\"#3da44d\" fill-rule=\"evenodd\" fill-opacity=\"1\" stroke=\"#000000\" stroke-opacity=\"1\" stroke-width=\"3.2\"/>\n",
       "<circle clip-path=\"url(#clip552)\" cx=\"782.057\" cy=\"1128.98\" r=\"14.4\" fill=\"#3da44d\" fill-rule=\"evenodd\" fill-opacity=\"1\" stroke=\"#000000\" stroke-opacity=\"1\" stroke-width=\"3.2\"/>\n",
       "<circle clip-path=\"url(#clip552)\" cx=\"836.219\" cy=\"1078.49\" r=\"14.4\" fill=\"#3da44d\" fill-rule=\"evenodd\" fill-opacity=\"1\" stroke=\"#000000\" stroke-opacity=\"1\" stroke-width=\"3.2\"/>\n",
       "<circle clip-path=\"url(#clip552)\" cx=\"890.381\" cy=\"1024.69\" r=\"14.4\" fill=\"#3da44d\" fill-rule=\"evenodd\" fill-opacity=\"1\" stroke=\"#000000\" stroke-opacity=\"1\" stroke-width=\"3.2\"/>\n",
       "<circle clip-path=\"url(#clip552)\" cx=\"944.543\" cy=\"968.968\" r=\"14.4\" fill=\"#3da44d\" fill-rule=\"evenodd\" fill-opacity=\"1\" stroke=\"#000000\" stroke-opacity=\"1\" stroke-width=\"3.2\"/>\n",
       "<circle clip-path=\"url(#clip552)\" cx=\"998.705\" cy=\"912.847\" r=\"14.4\" fill=\"#3da44d\" fill-rule=\"evenodd\" fill-opacity=\"1\" stroke=\"#000000\" stroke-opacity=\"1\" stroke-width=\"3.2\"/>\n",
       "<circle clip-path=\"url(#clip552)\" cx=\"1052.87\" cy=\"857.844\" r=\"14.4\" fill=\"#3da44d\" fill-rule=\"evenodd\" fill-opacity=\"1\" stroke=\"#000000\" stroke-opacity=\"1\" stroke-width=\"3.2\"/>\n",
       "<circle clip-path=\"url(#clip552)\" cx=\"1107.03\" cy=\"805.286\" r=\"14.4\" fill=\"#3da44d\" fill-rule=\"evenodd\" fill-opacity=\"1\" stroke=\"#000000\" stroke-opacity=\"1\" stroke-width=\"3.2\"/>\n",
       "<circle clip-path=\"url(#clip552)\" cx=\"1161.19\" cy=\"756.194\" r=\"14.4\" fill=\"#3da44d\" fill-rule=\"evenodd\" fill-opacity=\"1\" stroke=\"#000000\" stroke-opacity=\"1\" stroke-width=\"3.2\"/>\n",
       "<circle clip-path=\"url(#clip552)\" cx=\"1215.35\" cy=\"711.241\" r=\"14.4\" fill=\"#3da44d\" fill-rule=\"evenodd\" fill-opacity=\"1\" stroke=\"#000000\" stroke-opacity=\"1\" stroke-width=\"3.2\"/>\n",
       "<circle clip-path=\"url(#clip552)\" cx=\"1269.51\" cy=\"670.759\" r=\"14.4\" fill=\"#3da44d\" fill-rule=\"evenodd\" fill-opacity=\"1\" stroke=\"#000000\" stroke-opacity=\"1\" stroke-width=\"3.2\"/>\n",
       "<circle clip-path=\"url(#clip552)\" cx=\"1323.68\" cy=\"634.797\" r=\"14.4\" fill=\"#3da44d\" fill-rule=\"evenodd\" fill-opacity=\"1\" stroke=\"#000000\" stroke-opacity=\"1\" stroke-width=\"3.2\"/>\n",
       "<circle clip-path=\"url(#clip552)\" cx=\"1377.84\" cy=\"603.194\" r=\"14.4\" fill=\"#3da44d\" fill-rule=\"evenodd\" fill-opacity=\"1\" stroke=\"#000000\" stroke-opacity=\"1\" stroke-width=\"3.2\"/>\n",
       "<circle clip-path=\"url(#clip552)\" cx=\"1432\" cy=\"575.653\" r=\"14.4\" fill=\"#3da44d\" fill-rule=\"evenodd\" fill-opacity=\"1\" stroke=\"#000000\" stroke-opacity=\"1\" stroke-width=\"3.2\"/>\n",
       "<circle clip-path=\"url(#clip552)\" cx=\"1486.16\" cy=\"551.801\" r=\"14.4\" fill=\"#3da44d\" fill-rule=\"evenodd\" fill-opacity=\"1\" stroke=\"#000000\" stroke-opacity=\"1\" stroke-width=\"3.2\"/>\n",
       "<circle clip-path=\"url(#clip552)\" cx=\"1540.33\" cy=\"531.237\" r=\"14.4\" fill=\"#3da44d\" fill-rule=\"evenodd\" fill-opacity=\"1\" stroke=\"#000000\" stroke-opacity=\"1\" stroke-width=\"3.2\"/>\n",
       "<circle clip-path=\"url(#clip552)\" cx=\"1594.49\" cy=\"513.563\" r=\"14.4\" fill=\"#3da44d\" fill-rule=\"evenodd\" fill-opacity=\"1\" stroke=\"#000000\" stroke-opacity=\"1\" stroke-width=\"3.2\"/>\n",
       "<circle clip-path=\"url(#clip552)\" cx=\"1648.65\" cy=\"498.405\" r=\"14.4\" fill=\"#3da44d\" fill-rule=\"evenodd\" fill-opacity=\"1\" stroke=\"#000000\" stroke-opacity=\"1\" stroke-width=\"3.2\"/>\n",
       "<circle clip-path=\"url(#clip552)\" cx=\"1702.81\" cy=\"485.422\" r=\"14.4\" fill=\"#3da44d\" fill-rule=\"evenodd\" fill-opacity=\"1\" stroke=\"#000000\" stroke-opacity=\"1\" stroke-width=\"3.2\"/>\n",
       "<circle clip-path=\"url(#clip552)\" cx=\"1756.97\" cy=\"474.309\" r=\"14.4\" fill=\"#3da44d\" fill-rule=\"evenodd\" fill-opacity=\"1\" stroke=\"#000000\" stroke-opacity=\"1\" stroke-width=\"3.2\"/>\n",
       "<circle clip-path=\"url(#clip552)\" cx=\"1811.14\" cy=\"464.801\" r=\"14.4\" fill=\"#3da44d\" fill-rule=\"evenodd\" fill-opacity=\"1\" stroke=\"#000000\" stroke-opacity=\"1\" stroke-width=\"3.2\"/>\n",
       "<circle clip-path=\"url(#clip552)\" cx=\"1865.3\" cy=\"456.665\" r=\"14.4\" fill=\"#3da44d\" fill-rule=\"evenodd\" fill-opacity=\"1\" stroke=\"#000000\" stroke-opacity=\"1\" stroke-width=\"3.2\"/>\n",
       "<circle clip-path=\"url(#clip552)\" cx=\"1919.46\" cy=\"449.702\" r=\"14.4\" fill=\"#3da44d\" fill-rule=\"evenodd\" fill-opacity=\"1\" stroke=\"#000000\" stroke-opacity=\"1\" stroke-width=\"3.2\"/>\n",
       "<circle clip-path=\"url(#clip552)\" cx=\"1973.62\" cy=\"443.741\" r=\"14.4\" fill=\"#3da44d\" fill-rule=\"evenodd\" fill-opacity=\"1\" stroke=\"#000000\" stroke-opacity=\"1\" stroke-width=\"3.2\"/>\n",
       "<circle clip-path=\"url(#clip552)\" cx=\"2027.78\" cy=\"438.636\" r=\"14.4\" fill=\"#3da44d\" fill-rule=\"evenodd\" fill-opacity=\"1\" stroke=\"#000000\" stroke-opacity=\"1\" stroke-width=\"3.2\"/>\n",
       "<circle clip-path=\"url(#clip552)\" cx=\"2081.95\" cy=\"434.262\" r=\"14.4\" fill=\"#3da44d\" fill-rule=\"evenodd\" fill-opacity=\"1\" stroke=\"#000000\" stroke-opacity=\"1\" stroke-width=\"3.2\"/>\n",
       "<circle clip-path=\"url(#clip552)\" cx=\"2136.11\" cy=\"430.513\" r=\"14.4\" fill=\"#3da44d\" fill-rule=\"evenodd\" fill-opacity=\"1\" stroke=\"#000000\" stroke-opacity=\"1\" stroke-width=\"3.2\"/>\n",
       "<circle clip-path=\"url(#clip552)\" cx=\"2190.27\" cy=\"427.298\" r=\"14.4\" fill=\"#3da44d\" fill-rule=\"evenodd\" fill-opacity=\"1\" stroke=\"#000000\" stroke-opacity=\"1\" stroke-width=\"3.2\"/>\n",
       "<circle clip-path=\"url(#clip552)\" cx=\"2244.43\" cy=\"424.541\" r=\"14.4\" fill=\"#3da44d\" fill-rule=\"evenodd\" fill-opacity=\"1\" stroke=\"#000000\" stroke-opacity=\"1\" stroke-width=\"3.2\"/>\n",
       "<circle clip-path=\"url(#clip552)\" cx=\"2298.59\" cy=\"422.174\" r=\"14.4\" fill=\"#3da44d\" fill-rule=\"evenodd\" fill-opacity=\"1\" stroke=\"#000000\" stroke-opacity=\"1\" stroke-width=\"3.2\"/>\n",
       "<circle clip-path=\"url(#clip552)\" cx=\"2352.76\" cy=\"420.142\" r=\"14.4\" fill=\"#3da44d\" fill-rule=\"evenodd\" fill-opacity=\"1\" stroke=\"#000000\" stroke-opacity=\"1\" stroke-width=\"3.2\"/>\n",
       "<polyline clip-path=\"url(#clip552)\" style=\"stroke:#c271d2; stroke-linecap:round; stroke-linejoin:round; stroke-width:4; stroke-opacity:1; fill:none\" points=\"\n",
       "  186.274,160.256 240.436,167.07 294.598,175.641 348.76,186.369 402.922,199.71 457.084,216.172 511.246,236.288 565.408,260.582 619.57,289.513 673.732,323.4 \n",
       "  727.894,362.337 782.057,406.119 836.219,454.187 890.381,505.622 944.543,559.213 998.705,613.567 1052.87,667.269 1107.03,719.033 1161.19,767.819 1215.35,812.894 \n",
       "  1269.51,853.836 1323.68,890.503 1377.84,922.969 1432,951.456 1486.16,976.281 1540.33,997.804 1594.49,1016.4 1648.65,1032.41 1702.81,1046.19 1756.97,1058.02 \n",
       "  1811.14,1068.18 1865.3,1076.9 1919.46,1084.39 1973.62,1090.82 2027.78,1096.34 2081.95,1101.08 2136.11,1105.15 2190.27,1108.65 2244.43,1111.66 2298.59,1114.25 \n",
       "  2352.76,1116.48 \n",
       "  \"/>\n",
       "<polyline clip-path=\"url(#clip552)\" style=\"stroke:#ac8d18; stroke-linecap:round; stroke-linejoin:round; stroke-width:4; stroke-opacity:1; fill:none\" points=\"\n",
       "  186.274,1374.01 240.436,1370.69 294.598,1366.55 348.76,1361.4 402.922,1355.07 457.084,1347.37 511.246,1338.13 565.408,1327.23 619.57,1314.63 673.732,1300.43 \n",
       "  727.894,1284.9 782.057,1268.53 836.219,1252 890.381,1236.17 944.543,1221.96 998.705,1210.24 1052.87,1201.71 1107.03,1196.81 1161.19,1195.64 1215.35,1198.03 \n",
       "  1269.51,1203.55 1323.68,1211.63 1377.84,1221.64 1432,1232.95 1486.16,1244.99 1540.33,1257.28 1594.49,1269.44 1648.65,1281.18 1702.81,1292.31 1756.97,1302.68 \n",
       "  1811.14,1312.24 1865.3,1320.95 1919.46,1328.82 1973.62,1335.89 2027.78,1342.19 2081.95,1347.79 2136.11,1352.74 2190.27,1357.09 2244.43,1360.92 2298.59,1364.27 \n",
       "  2352.76,1367.2 \n",
       "  \"/>\n",
       "<polyline clip-path=\"url(#clip552)\" style=\"stroke:#00a9ad; stroke-linecap:round; stroke-linejoin:round; stroke-width:4; stroke-opacity:1; fill:none\" points=\"\n",
       "  186.274,1386.4 240.436,1379.58 294.598,1371.01 348.76,1360.28 402.922,1346.94 457.084,1330.48 511.246,1310.36 565.408,1286.07 619.57,1257.14 673.732,1223.25 \n",
       "  727.894,1184.31 782.057,1140.53 836.219,1092.47 890.381,1041.03 944.543,987.439 998.705,933.085 1052.87,879.383 1107.03,827.619 1161.19,778.833 1215.35,733.758 \n",
       "  1269.51,692.816 1323.68,656.149 1377.84,623.683 1432,595.196 1486.16,570.371 1540.33,548.848 1594.49,530.257 1648.65,514.24 1702.81,500.465 1756.97,488.631 \n",
       "  1811.14,478.47 1865.3,469.748 1919.46,462.262 1973.62,455.835 2027.78,450.316 2081.95,445.575 2136.11,441.501 2190.27,438 2244.43,434.989 2298.59,432.4 \n",
       "  2352.76,430.172 \n",
       "  \"/>\n",
       "<path clip-path=\"url(#clip550)\" d=\"\n",
       "M1518.09 529.676 L2280.54 529.676 L2280.54 166.796 L1518.09 166.796  Z\n",
       "  \" fill=\"#ffffff\" fill-rule=\"evenodd\" fill-opacity=\"1\"/>\n",
       "<polyline clip-path=\"url(#clip550)\" style=\"stroke:#000000; stroke-linecap:round; stroke-linejoin:round; stroke-width:4; stroke-opacity:1; fill:none\" points=\"\n",
       "  1518.09,529.676 2280.54,529.676 2280.54,166.796 1518.09,166.796 1518.09,529.676 \n",
       "  \"/>\n",
       "<circle clip-path=\"url(#clip550)\" cx=\"1614.37\" cy=\"218.636\" r=\"23.04\" fill=\"#009af9\" fill-rule=\"evenodd\" fill-opacity=\"1\" stroke=\"#000000\" stroke-opacity=\"1\" stroke-width=\"5.12\"/>\n",
       "<path clip-path=\"url(#clip550)\" d=\"M1710.66 201.356 L1739.9 201.356 L1739.9 205.291 L1727.63 205.291 L1727.63 235.916 L1722.93 235.916 L1722.93 205.291 L1710.66 205.291 L1710.66 201.356 Z\" fill=\"#000000\" fill-rule=\"evenodd\" fill-opacity=\"1\" /><path clip-path=\"url(#clip550)\" d=\"M1752.28 213.971 Q1751.57 213.555 1750.71 213.37 Q1749.88 213.161 1748.86 213.161 Q1745.25 213.161 1743.3 215.522 Q1741.38 217.86 1741.38 222.258 L1741.38 235.916 L1737.1 235.916 L1737.1 209.99 L1741.38 209.99 L1741.38 214.018 Q1742.72 211.657 1744.88 210.522 Q1747.03 209.365 1750.11 209.365 Q1750.55 209.365 1751.08 209.434 Q1751.61 209.481 1752.26 209.596 L1752.28 213.971 Z\" fill=\"#000000\" fill-rule=\"evenodd\" fill-opacity=\"1\" /><path clip-path=\"url(#clip550)\" d=\"M1756.31 225.684 L1756.31 209.99 L1760.57 209.99 L1760.57 225.522 Q1760.57 229.203 1762 231.055 Q1763.44 232.883 1766.31 232.883 Q1769.76 232.883 1771.75 230.684 Q1773.76 228.485 1773.76 224.689 L1773.76 209.99 L1778.02 209.99 L1778.02 235.916 L1773.76 235.916 L1773.76 231.934 Q1772.21 234.295 1770.15 235.453 Q1768.12 236.587 1765.41 236.587 Q1760.94 236.587 1758.63 233.809 Q1756.31 231.031 1756.31 225.684 M1767.03 209.365 L1767.03 209.365 Z\" fill=\"#000000\" fill-rule=\"evenodd\" fill-opacity=\"1\" /><path clip-path=\"url(#clip550)\" d=\"M1808.97 221.888 L1808.97 223.971 L1789.39 223.971 Q1789.67 228.369 1792.03 230.684 Q1794.41 232.976 1798.65 232.976 Q1801.1 232.976 1803.39 232.374 Q1805.71 231.772 1807.98 230.569 L1807.98 234.596 Q1805.69 235.568 1803.28 236.078 Q1800.87 236.587 1798.39 236.587 Q1792.19 236.587 1788.56 232.976 Q1784.94 229.365 1784.94 223.207 Q1784.94 216.842 1788.37 213.115 Q1791.82 209.365 1797.65 209.365 Q1802.88 209.365 1805.92 212.745 Q1808.97 216.101 1808.97 221.888 M1804.71 220.638 Q1804.67 217.143 1802.75 215.059 Q1800.85 212.976 1797.7 212.976 Q1794.13 212.976 1791.98 214.99 Q1789.85 217.004 1789.53 220.661 L1804.71 220.638 Z\" fill=\"#000000\" fill-rule=\"evenodd\" fill-opacity=\"1\" /><path clip-path=\"url(#clip550)\" d=\"M1851.93 202.49 L1851.93 207.05 Q1849.27 205.777 1846.91 205.152 Q1844.55 204.527 1842.35 204.527 Q1838.53 204.527 1836.45 206.008 Q1834.39 207.49 1834.39 210.221 Q1834.39 212.513 1835.75 213.694 Q1837.14 214.851 1840.99 215.569 L1843.81 216.147 Q1849.04 217.143 1851.52 219.666 Q1854.02 222.166 1854.02 226.379 Q1854.02 231.402 1850.64 233.994 Q1847.28 236.587 1840.78 236.587 Q1838.32 236.587 1835.55 236.031 Q1832.79 235.476 1829.83 234.388 L1829.83 229.573 Q1832.68 231.17 1835.41 231.981 Q1838.14 232.791 1840.78 232.791 Q1844.78 232.791 1846.96 231.217 Q1849.13 229.643 1849.13 226.726 Q1849.13 224.18 1847.56 222.744 Q1846.01 221.309 1842.44 220.592 L1839.6 220.036 Q1834.37 218.995 1832.03 216.772 Q1829.69 214.55 1829.69 210.592 Q1829.69 206.008 1832.91 203.37 Q1836.15 200.731 1841.82 200.731 Q1844.25 200.731 1846.77 201.171 Q1849.3 201.61 1851.93 202.49 Z\" fill=\"#000000\" fill-rule=\"evenodd\" fill-opacity=\"1\" /><path clip-path=\"url(#clip550)\" d=\"M1860.68 225.684 L1860.68 209.99 L1864.94 209.99 L1864.94 225.522 Q1864.94 229.203 1866.38 231.055 Q1867.81 232.883 1870.68 232.883 Q1874.13 232.883 1876.12 230.684 Q1878.14 228.485 1878.14 224.689 L1878.14 209.99 L1882.4 209.99 L1882.4 235.916 L1878.14 235.916 L1878.14 231.934 Q1876.59 234.295 1874.53 235.453 Q1872.49 236.587 1869.78 236.587 Q1865.31 236.587 1863 233.809 Q1860.68 231.031 1860.68 225.684 M1871.4 209.365 L1871.4 209.365 Z\" fill=\"#000000\" fill-rule=\"evenodd\" fill-opacity=\"1\" /><path clip-path=\"url(#clip550)\" d=\"M1907.7 210.754 L1907.7 214.782 Q1905.89 213.856 1903.95 213.393 Q1902 212.93 1899.92 212.93 Q1896.75 212.93 1895.15 213.902 Q1893.58 214.874 1893.58 216.819 Q1893.58 218.3 1894.71 219.157 Q1895.85 219.99 1899.27 220.754 L1900.73 221.078 Q1905.27 222.05 1907.17 223.832 Q1909.09 225.592 1909.09 228.763 Q1909.09 232.374 1906.22 234.481 Q1903.37 236.587 1898.37 236.587 Q1896.29 236.587 1894.02 236.17 Q1891.77 235.777 1889.27 234.967 L1889.27 230.569 Q1891.63 231.795 1893.93 232.42 Q1896.22 233.022 1898.46 233.022 Q1901.47 233.022 1903.09 232.004 Q1904.71 230.962 1904.71 229.087 Q1904.71 227.351 1903.53 226.425 Q1902.37 225.499 1898.42 224.643 L1896.93 224.295 Q1892.98 223.462 1891.22 221.749 Q1889.46 220.013 1889.46 217.004 Q1889.46 213.346 1892.05 211.356 Q1894.64 209.365 1899.41 209.365 Q1901.77 209.365 1903.86 209.712 Q1905.94 210.059 1907.7 210.754 Z\" fill=\"#000000\" fill-rule=\"evenodd\" fill-opacity=\"1\" /><path clip-path=\"url(#clip550)\" d=\"M1934.53 210.985 L1934.53 214.967 Q1932.72 213.971 1930.89 213.485 Q1929.09 212.976 1927.24 212.976 Q1923.09 212.976 1920.8 215.615 Q1918.51 218.231 1918.51 222.976 Q1918.51 227.721 1920.8 230.36 Q1923.09 232.976 1927.24 232.976 Q1929.09 232.976 1930.89 232.49 Q1932.72 231.981 1934.53 230.985 L1934.53 234.92 Q1932.74 235.754 1930.82 236.17 Q1928.93 236.587 1926.77 236.587 Q1920.92 236.587 1917.47 232.906 Q1914.02 229.226 1914.02 222.976 Q1914.02 216.633 1917.49 212.999 Q1920.99 209.365 1927.05 209.365 Q1929.02 209.365 1930.89 209.782 Q1932.77 210.175 1934.53 210.985 Z\" fill=\"#000000\" fill-rule=\"evenodd\" fill-opacity=\"1\" /><path clip-path=\"url(#clip550)\" d=\"M1964.11 221.888 L1964.11 223.971 L1944.53 223.971 Q1944.8 228.369 1947.17 230.684 Q1949.55 232.976 1953.79 232.976 Q1956.24 232.976 1958.53 232.374 Q1960.85 231.772 1963.11 230.569 L1963.11 234.596 Q1960.82 235.568 1958.42 236.078 Q1956.01 236.587 1953.53 236.587 Q1947.33 236.587 1943.69 232.976 Q1940.08 229.365 1940.08 223.207 Q1940.08 216.842 1943.51 213.115 Q1946.96 209.365 1952.79 209.365 Q1958.02 209.365 1961.05 212.745 Q1964.11 216.101 1964.11 221.888 M1959.85 220.638 Q1959.8 217.143 1957.88 215.059 Q1955.99 212.976 1952.84 212.976 Q1949.27 212.976 1947.12 214.99 Q1944.99 217.004 1944.67 220.661 L1959.85 220.638 Z\" fill=\"#000000\" fill-rule=\"evenodd\" fill-opacity=\"1\" /><path clip-path=\"url(#clip550)\" d=\"M1975.22 232.027 L1975.22 245.777 L1970.94 245.777 L1970.94 209.99 L1975.22 209.99 L1975.22 213.925 Q1976.56 211.61 1978.6 210.499 Q1980.66 209.365 1983.51 209.365 Q1988.23 209.365 1991.17 213.115 Q1994.13 216.865 1994.13 222.976 Q1994.13 229.087 1991.17 232.837 Q1988.23 236.587 1983.51 236.587 Q1980.66 236.587 1978.6 235.476 Q1976.56 234.342 1975.22 232.027 M1989.71 222.976 Q1989.71 218.277 1987.77 215.615 Q1985.85 212.93 1982.47 212.93 Q1979.09 212.93 1977.14 215.615 Q1975.22 218.277 1975.22 222.976 Q1975.22 227.675 1977.14 230.36 Q1979.09 233.022 1982.47 233.022 Q1985.85 233.022 1987.77 230.36 Q1989.71 227.675 1989.71 222.976 Z\" fill=\"#000000\" fill-rule=\"evenodd\" fill-opacity=\"1\" /><path clip-path=\"url(#clip550)\" d=\"M2005.41 202.629 L2005.41 209.99 L2014.18 209.99 L2014.18 213.3 L2005.41 213.3 L2005.41 227.374 Q2005.41 230.545 2006.26 231.448 Q2007.14 232.351 2009.8 232.351 L2014.18 232.351 L2014.18 235.916 L2009.8 235.916 Q2004.87 235.916 2003 234.087 Q2001.12 232.235 2001.12 227.374 L2001.12 213.3 L1998 213.3 L1998 209.99 L2001.12 209.99 L2001.12 202.629 L2005.41 202.629 Z\" fill=\"#000000\" fill-rule=\"evenodd\" fill-opacity=\"1\" /><path clip-path=\"url(#clip550)\" d=\"M2019.78 209.99 L2024.04 209.99 L2024.04 235.916 L2019.78 235.916 L2019.78 209.99 M2019.78 199.897 L2024.04 199.897 L2024.04 205.291 L2019.78 205.291 L2019.78 199.897 Z\" fill=\"#000000\" fill-rule=\"evenodd\" fill-opacity=\"1\" /><path clip-path=\"url(#clip550)\" d=\"M2051.56 222.976 Q2051.56 218.277 2049.62 215.615 Q2047.7 212.93 2044.32 212.93 Q2040.94 212.93 2038.99 215.615 Q2037.07 218.277 2037.07 222.976 Q2037.07 227.675 2038.99 230.36 Q2040.94 233.022 2044.32 233.022 Q2047.7 233.022 2049.62 230.36 Q2051.56 227.675 2051.56 222.976 M2037.07 213.925 Q2038.42 211.61 2040.45 210.499 Q2042.51 209.365 2045.36 209.365 Q2050.08 209.365 2053.02 213.115 Q2055.98 216.865 2055.98 222.976 Q2055.98 229.087 2053.02 232.837 Q2050.08 236.587 2045.36 236.587 Q2042.51 236.587 2040.45 235.476 Q2038.42 234.342 2037.07 232.027 L2037.07 235.916 L2032.79 235.916 L2032.79 199.897 L2037.07 199.897 L2037.07 213.925 Z\" fill=\"#000000\" fill-rule=\"evenodd\" fill-opacity=\"1\" /><path clip-path=\"url(#clip550)\" d=\"M2063.04 199.897 L2067.3 199.897 L2067.3 235.916 L2063.04 235.916 L2063.04 199.897 Z\" fill=\"#000000\" fill-rule=\"evenodd\" fill-opacity=\"1\" /><path clip-path=\"url(#clip550)\" d=\"M2098.39 221.888 L2098.39 223.971 L2078.81 223.971 Q2079.09 228.369 2081.45 230.684 Q2083.83 232.976 2088.07 232.976 Q2090.52 232.976 2092.81 232.374 Q2095.13 231.772 2097.4 230.569 L2097.4 234.596 Q2095.1 235.568 2092.7 236.078 Q2090.29 236.587 2087.81 236.587 Q2081.61 236.587 2077.98 232.976 Q2074.36 229.365 2074.36 223.207 Q2074.36 216.842 2077.79 213.115 Q2081.24 209.365 2087.07 209.365 Q2092.3 209.365 2095.34 212.745 Q2098.39 216.101 2098.39 221.888 M2094.13 220.638 Q2094.09 217.143 2092.17 215.059 Q2090.27 212.976 2087.12 212.976 Q2083.55 212.976 2081.4 214.99 Q2079.27 217.004 2078.95 220.661 L2094.13 220.638 Z\" fill=\"#000000\" fill-rule=\"evenodd\" fill-opacity=\"1\" /><circle clip-path=\"url(#clip550)\" cx=\"1614.37\" cy=\"270.476\" r=\"23.04\" fill=\"#e26f46\" fill-rule=\"evenodd\" fill-opacity=\"1\" stroke=\"#000000\" stroke-opacity=\"1\" stroke-width=\"5.12\"/>\n",
       "<path clip-path=\"url(#clip550)\" d=\"M1710.66 253.196 L1739.9 253.196 L1739.9 257.131 L1727.63 257.131 L1727.63 287.756 L1722.93 287.756 L1722.93 257.131 L1710.66 257.131 L1710.66 253.196 Z\" fill=\"#000000\" fill-rule=\"evenodd\" fill-opacity=\"1\" /><path clip-path=\"url(#clip550)\" d=\"M1752.28 265.811 Q1751.57 265.395 1750.71 265.21 Q1749.88 265.001 1748.86 265.001 Q1745.25 265.001 1743.3 267.362 Q1741.38 269.7 1741.38 274.098 L1741.38 287.756 L1737.1 287.756 L1737.1 261.83 L1741.38 261.83 L1741.38 265.858 Q1742.72 263.497 1744.88 262.362 Q1747.03 261.205 1750.11 261.205 Q1750.55 261.205 1751.08 261.274 Q1751.61 261.321 1752.26 261.436 L1752.28 265.811 Z\" fill=\"#000000\" fill-rule=\"evenodd\" fill-opacity=\"1\" /><path clip-path=\"url(#clip550)\" d=\"M1756.31 277.524 L1756.31 261.83 L1760.57 261.83 L1760.57 277.362 Q1760.57 281.043 1762 282.895 Q1763.44 284.723 1766.31 284.723 Q1769.76 284.723 1771.75 282.524 Q1773.76 280.325 1773.76 276.529 L1773.76 261.83 L1778.02 261.83 L1778.02 287.756 L1773.76 287.756 L1773.76 283.774 Q1772.21 286.135 1770.15 287.293 Q1768.12 288.427 1765.41 288.427 Q1760.94 288.427 1758.63 285.649 Q1756.31 282.871 1756.31 277.524 M1767.03 261.205 L1767.03 261.205 Z\" fill=\"#000000\" fill-rule=\"evenodd\" fill-opacity=\"1\" /><path clip-path=\"url(#clip550)\" d=\"M1808.97 273.728 L1808.97 275.811 L1789.39 275.811 Q1789.67 280.209 1792.03 282.524 Q1794.41 284.816 1798.65 284.816 Q1801.1 284.816 1803.39 284.214 Q1805.71 283.612 1807.98 282.409 L1807.98 286.436 Q1805.69 287.408 1803.28 287.918 Q1800.87 288.427 1798.39 288.427 Q1792.19 288.427 1788.56 284.816 Q1784.94 281.205 1784.94 275.047 Q1784.94 268.682 1788.37 264.955 Q1791.82 261.205 1797.65 261.205 Q1802.88 261.205 1805.92 264.585 Q1808.97 267.941 1808.97 273.728 M1804.71 272.478 Q1804.67 268.983 1802.75 266.899 Q1800.85 264.816 1797.7 264.816 Q1794.13 264.816 1791.98 266.83 Q1789.85 268.844 1789.53 272.501 L1804.71 272.478 Z\" fill=\"#000000\" fill-rule=\"evenodd\" fill-opacity=\"1\" /><path clip-path=\"url(#clip550)\" d=\"M1831.22 253.196 L1835.89 253.196 L1835.89 287.756 L1831.22 287.756 L1831.22 253.196 Z\" fill=\"#000000\" fill-rule=\"evenodd\" fill-opacity=\"1\" /><path clip-path=\"url(#clip550)\" d=\"M1866.56 272.108 L1866.56 287.756 L1862.31 287.756 L1862.31 272.247 Q1862.31 268.566 1860.87 266.737 Q1859.43 264.909 1856.56 264.909 Q1853.12 264.909 1851.12 267.108 Q1849.13 269.307 1849.13 273.103 L1849.13 287.756 L1844.85 287.756 L1844.85 261.83 L1849.13 261.83 L1849.13 265.858 Q1850.66 263.52 1852.72 262.362 Q1854.81 261.205 1857.51 261.205 Q1861.98 261.205 1864.27 263.983 Q1866.56 266.737 1866.56 272.108 Z\" fill=\"#000000\" fill-rule=\"evenodd\" fill-opacity=\"1\" /><path clip-path=\"url(#clip550)\" d=\"M1888.18 251.737 L1888.18 255.279 L1884.11 255.279 Q1881.82 255.279 1880.92 256.205 Q1880.04 257.131 1880.04 259.538 L1880.04 261.83 L1887.05 261.83 L1887.05 265.14 L1880.04 265.14 L1880.04 287.756 L1875.75 287.756 L1875.75 265.14 L1871.68 265.14 L1871.68 261.83 L1875.75 261.83 L1875.75 260.024 Q1875.75 255.696 1877.77 253.728 Q1879.78 251.737 1884.16 251.737 L1888.18 251.737 Z\" fill=\"#000000\" fill-rule=\"evenodd\" fill-opacity=\"1\" /><path clip-path=\"url(#clip550)\" d=\"M1913.93 273.728 L1913.93 275.811 L1894.34 275.811 Q1894.62 280.209 1896.98 282.524 Q1899.37 284.816 1903.6 284.816 Q1906.05 284.816 1908.35 284.214 Q1910.66 283.612 1912.93 282.409 L1912.93 286.436 Q1910.64 287.408 1908.23 287.918 Q1905.82 288.427 1903.35 288.427 Q1897.14 288.427 1893.51 284.816 Q1889.9 281.205 1889.9 275.047 Q1889.9 268.682 1893.32 264.955 Q1896.77 261.205 1902.61 261.205 Q1907.84 261.205 1910.87 264.585 Q1913.93 267.941 1913.93 273.728 M1909.67 272.478 Q1909.62 268.983 1907.7 266.899 Q1905.8 264.816 1902.65 264.816 Q1899.09 264.816 1896.93 266.83 Q1894.81 268.844 1894.48 272.501 L1909.67 272.478 Z\" fill=\"#000000\" fill-rule=\"evenodd\" fill-opacity=\"1\" /><path clip-path=\"url(#clip550)\" d=\"M1939.57 262.825 L1939.57 266.807 Q1937.77 265.811 1935.94 265.325 Q1934.13 264.816 1932.28 264.816 Q1928.14 264.816 1925.85 267.455 Q1923.55 270.071 1923.55 274.816 Q1923.55 279.561 1925.85 282.2 Q1928.14 284.816 1932.28 284.816 Q1934.13 284.816 1935.94 284.33 Q1937.77 283.821 1939.57 282.825 L1939.57 286.76 Q1937.79 287.594 1935.87 288.01 Q1933.97 288.427 1931.82 288.427 Q1925.96 288.427 1922.51 284.746 Q1919.06 281.066 1919.06 274.816 Q1919.06 268.473 1922.54 264.839 Q1926.03 261.205 1932.1 261.205 Q1934.06 261.205 1935.94 261.622 Q1937.81 262.015 1939.57 262.825 Z\" fill=\"#000000\" fill-rule=\"evenodd\" fill-opacity=\"1\" /><path clip-path=\"url(#clip550)\" d=\"M1951.19 254.469 L1951.19 261.83 L1959.97 261.83 L1959.97 265.14 L1951.19 265.14 L1951.19 279.214 Q1951.19 282.385 1952.05 283.288 Q1952.93 284.191 1955.59 284.191 L1959.97 284.191 L1959.97 287.756 L1955.59 287.756 Q1950.66 287.756 1948.79 285.927 Q1946.91 284.075 1946.91 279.214 L1946.91 265.14 L1943.79 265.14 L1943.79 261.83 L1946.91 261.83 L1946.91 254.469 L1951.19 254.469 Z\" fill=\"#000000\" fill-rule=\"evenodd\" fill-opacity=\"1\" /><path clip-path=\"url(#clip550)\" d=\"M1987.74 273.728 L1987.74 275.811 L1968.16 275.811 Q1968.44 280.209 1970.8 282.524 Q1973.18 284.816 1977.42 284.816 Q1979.87 284.816 1982.17 284.214 Q1984.48 283.612 1986.75 282.409 L1986.75 286.436 Q1984.46 287.408 1982.05 287.918 Q1979.64 288.427 1977.17 288.427 Q1970.96 288.427 1967.33 284.816 Q1963.72 281.205 1963.72 275.047 Q1963.72 268.682 1967.14 264.955 Q1970.59 261.205 1976.42 261.205 Q1981.66 261.205 1984.69 264.585 Q1987.74 267.941 1987.74 273.728 M1983.49 272.478 Q1983.44 268.983 1981.52 266.899 Q1979.62 264.816 1976.47 264.816 Q1972.91 264.816 1970.75 266.83 Q1968.62 268.844 1968.3 272.501 L1983.49 272.478 Z\" fill=\"#000000\" fill-rule=\"evenodd\" fill-opacity=\"1\" /><path clip-path=\"url(#clip550)\" d=\"M2011.8 265.765 L2011.8 251.737 L2016.05 251.737 L2016.05 287.756 L2011.8 287.756 L2011.8 283.867 Q2010.45 286.182 2008.39 287.316 Q2006.36 288.427 2003.48 288.427 Q1998.79 288.427 1995.82 284.677 Q1992.88 280.927 1992.88 274.816 Q1992.88 268.705 1995.82 264.955 Q1998.79 261.205 2003.48 261.205 Q2006.36 261.205 2008.39 262.339 Q2010.45 263.45 2011.8 265.765 M1997.28 274.816 Q1997.28 279.515 1999.2 282.2 Q2001.15 284.862 2004.53 284.862 Q2007.91 284.862 2009.85 282.2 Q2011.8 279.515 2011.8 274.816 Q2011.8 270.117 2009.85 267.455 Q2007.91 264.77 2004.53 264.77 Q2001.15 264.77 1999.2 267.455 Q1997.28 270.117 1997.28 274.816 Z\" fill=\"#000000\" fill-rule=\"evenodd\" fill-opacity=\"1\" /><circle clip-path=\"url(#clip550)\" cx=\"1614.37\" cy=\"322.316\" r=\"23.04\" fill=\"#3da44d\" fill-rule=\"evenodd\" fill-opacity=\"1\" stroke=\"#000000\" stroke-opacity=\"1\" stroke-width=\"5.12\"/>\n",
       "<path clip-path=\"url(#clip550)\" d=\"M1710.66 305.036 L1739.9 305.036 L1739.9 308.971 L1727.63 308.971 L1727.63 339.596 L1722.93 339.596 L1722.93 308.971 L1710.66 308.971 L1710.66 305.036 Z\" fill=\"#000000\" fill-rule=\"evenodd\" fill-opacity=\"1\" /><path clip-path=\"url(#clip550)\" d=\"M1752.28 317.651 Q1751.57 317.235 1750.71 317.05 Q1749.88 316.841 1748.86 316.841 Q1745.25 316.841 1743.3 319.202 Q1741.38 321.54 1741.38 325.938 L1741.38 339.596 L1737.1 339.596 L1737.1 313.67 L1741.38 313.67 L1741.38 317.698 Q1742.72 315.337 1744.88 314.202 Q1747.03 313.045 1750.11 313.045 Q1750.55 313.045 1751.08 313.114 Q1751.61 313.161 1752.26 313.276 L1752.28 317.651 Z\" fill=\"#000000\" fill-rule=\"evenodd\" fill-opacity=\"1\" /><path clip-path=\"url(#clip550)\" d=\"M1756.31 329.364 L1756.31 313.67 L1760.57 313.67 L1760.57 329.202 Q1760.57 332.883 1762 334.735 Q1763.44 336.563 1766.31 336.563 Q1769.76 336.563 1771.75 334.364 Q1773.76 332.165 1773.76 328.369 L1773.76 313.67 L1778.02 313.67 L1778.02 339.596 L1773.76 339.596 L1773.76 335.614 Q1772.21 337.975 1770.15 339.133 Q1768.12 340.267 1765.41 340.267 Q1760.94 340.267 1758.63 337.489 Q1756.31 334.711 1756.31 329.364 M1767.03 313.045 L1767.03 313.045 Z\" fill=\"#000000\" fill-rule=\"evenodd\" fill-opacity=\"1\" /><path clip-path=\"url(#clip550)\" d=\"M1808.97 325.568 L1808.97 327.651 L1789.39 327.651 Q1789.67 332.049 1792.03 334.364 Q1794.41 336.656 1798.65 336.656 Q1801.1 336.656 1803.39 336.054 Q1805.71 335.452 1807.98 334.249 L1807.98 338.276 Q1805.69 339.248 1803.28 339.758 Q1800.87 340.267 1798.39 340.267 Q1792.19 340.267 1788.56 336.656 Q1784.94 333.045 1784.94 326.887 Q1784.94 320.522 1788.37 316.795 Q1791.82 313.045 1797.65 313.045 Q1802.88 313.045 1805.92 316.425 Q1808.97 319.781 1808.97 325.568 M1804.71 324.318 Q1804.67 320.823 1802.75 318.739 Q1800.85 316.656 1797.7 316.656 Q1794.13 316.656 1791.98 318.67 Q1789.85 320.684 1789.53 324.341 L1804.71 324.318 Z\" fill=\"#000000\" fill-rule=\"evenodd\" fill-opacity=\"1\" /><path clip-path=\"url(#clip550)\" d=\"M1847.61 323.392 Q1849.11 323.901 1850.52 325.568 Q1851.96 327.235 1853.39 330.151 L1858.14 339.596 L1853.12 339.596 L1848.69 330.73 Q1846.98 327.258 1845.36 326.124 Q1843.76 324.989 1840.99 324.989 L1835.89 324.989 L1835.89 339.596 L1831.22 339.596 L1831.22 305.036 L1841.77 305.036 Q1847.7 305.036 1850.62 307.513 Q1853.53 309.989 1853.53 314.989 Q1853.53 318.253 1852 320.406 Q1850.5 322.559 1847.61 323.392 M1835.89 308.878 L1835.89 321.147 L1841.77 321.147 Q1845.15 321.147 1846.87 319.596 Q1848.6 318.022 1848.6 314.989 Q1848.6 311.957 1846.87 310.429 Q1845.15 308.878 1841.77 308.878 L1835.89 308.878 Z\" fill=\"#000000\" fill-rule=\"evenodd\" fill-opacity=\"1\" /><path clip-path=\"url(#clip550)\" d=\"M1884.02 325.568 L1884.02 327.651 L1864.43 327.651 Q1864.71 332.049 1867.07 334.364 Q1869.46 336.656 1873.69 336.656 Q1876.15 336.656 1878.44 336.054 Q1880.75 335.452 1883.02 334.249 L1883.02 338.276 Q1880.73 339.248 1878.32 339.758 Q1875.92 340.267 1873.44 340.267 Q1867.24 340.267 1863.6 336.656 Q1859.99 333.045 1859.99 326.887 Q1859.99 320.522 1863.42 316.795 Q1866.87 313.045 1872.7 313.045 Q1877.93 313.045 1880.96 316.425 Q1884.02 319.781 1884.02 325.568 M1879.76 324.318 Q1879.71 320.823 1877.79 318.739 Q1875.89 316.656 1872.74 316.656 Q1869.18 316.656 1867.03 318.67 Q1864.9 320.684 1864.57 324.341 L1879.76 324.318 Z\" fill=\"#000000\" fill-rule=\"evenodd\" fill-opacity=\"1\" /><path clip-path=\"url(#clip550)\" d=\"M1909.67 314.665 L1909.67 318.647 Q1907.86 317.651 1906.03 317.165 Q1904.23 316.656 1902.37 316.656 Q1898.23 316.656 1895.94 319.295 Q1893.65 321.911 1893.65 326.656 Q1893.65 331.401 1895.94 334.04 Q1898.23 336.656 1902.37 336.656 Q1904.23 336.656 1906.03 336.17 Q1907.86 335.661 1909.67 334.665 L1909.67 338.6 Q1907.88 339.434 1905.96 339.85 Q1904.06 340.267 1901.91 340.267 Q1896.06 340.267 1892.61 336.586 Q1889.16 332.906 1889.16 326.656 Q1889.16 320.313 1892.63 316.679 Q1896.12 313.045 1902.19 313.045 Q1904.16 313.045 1906.03 313.462 Q1907.91 313.855 1909.67 314.665 Z\" fill=\"#000000\" fill-rule=\"evenodd\" fill-opacity=\"1\" /><path clip-path=\"url(#clip550)\" d=\"M1927.12 316.656 Q1923.69 316.656 1921.7 319.341 Q1919.71 322.003 1919.71 326.656 Q1919.71 331.309 1921.68 333.994 Q1923.67 336.656 1927.12 336.656 Q1930.52 336.656 1932.51 333.971 Q1934.5 331.286 1934.5 326.656 Q1934.5 322.05 1932.51 319.364 Q1930.52 316.656 1927.12 316.656 M1927.12 313.045 Q1932.68 313.045 1935.85 316.656 Q1939.02 320.267 1939.02 326.656 Q1939.02 333.022 1935.85 336.656 Q1932.68 340.267 1927.12 340.267 Q1921.54 340.267 1918.37 336.656 Q1915.22 333.022 1915.22 326.656 Q1915.22 320.267 1918.37 316.656 Q1921.54 313.045 1927.12 313.045 Z\" fill=\"#000000\" fill-rule=\"evenodd\" fill-opacity=\"1\" /><path clip-path=\"url(#clip550)\" d=\"M1943.02 313.67 L1947.54 313.67 L1955.64 335.429 L1963.74 313.67 L1968.25 313.67 L1958.53 339.596 L1952.74 339.596 L1943.02 313.67 Z\" fill=\"#000000\" fill-rule=\"evenodd\" fill-opacity=\"1\" /><path clip-path=\"url(#clip550)\" d=\"M1996.31 325.568 L1996.31 327.651 L1976.73 327.651 Q1977 332.049 1979.36 334.364 Q1981.75 336.656 1985.99 336.656 Q1988.44 336.656 1990.73 336.054 Q1993.05 335.452 1995.31 334.249 L1995.31 338.276 Q1993.02 339.248 1990.61 339.758 Q1988.21 340.267 1985.73 340.267 Q1979.53 340.267 1975.89 336.656 Q1972.28 333.045 1972.28 326.887 Q1972.28 320.522 1975.71 316.795 Q1979.16 313.045 1984.99 313.045 Q1990.22 313.045 1993.25 316.425 Q1996.31 319.781 1996.31 325.568 M1992.05 324.318 Q1992 320.823 1990.08 318.739 Q1988.18 316.656 1985.04 316.656 Q1981.47 316.656 1979.32 318.67 Q1977.19 320.684 1976.86 324.341 L1992.05 324.318 Z\" fill=\"#000000\" fill-rule=\"evenodd\" fill-opacity=\"1\" /><path clip-path=\"url(#clip550)\" d=\"M2018.32 317.651 Q2017.61 317.235 2016.75 317.05 Q2015.92 316.841 2014.9 316.841 Q2011.29 316.841 2009.34 319.202 Q2007.42 321.54 2007.42 325.938 L2007.42 339.596 L2003.14 339.596 L2003.14 313.67 L2007.42 313.67 L2007.42 317.698 Q2008.76 315.337 2010.92 314.202 Q2013.07 313.045 2016.15 313.045 Q2016.59 313.045 2017.12 313.114 Q2017.65 313.161 2018.3 313.276 L2018.32 317.651 Z\" fill=\"#000000\" fill-rule=\"evenodd\" fill-opacity=\"1\" /><path clip-path=\"url(#clip550)\" d=\"M2043.92 325.568 L2043.92 327.651 L2024.34 327.651 Q2024.62 332.049 2026.98 334.364 Q2029.36 336.656 2033.6 336.656 Q2036.05 336.656 2038.35 336.054 Q2040.66 335.452 2042.93 334.249 L2042.93 338.276 Q2040.64 339.248 2038.23 339.758 Q2035.82 340.267 2033.35 340.267 Q2027.14 340.267 2023.51 336.656 Q2019.9 333.045 2019.9 326.887 Q2019.9 320.522 2023.32 316.795 Q2026.77 313.045 2032.61 313.045 Q2037.84 313.045 2040.87 316.425 Q2043.92 319.781 2043.92 325.568 M2039.67 324.318 Q2039.62 320.823 2037.7 318.739 Q2035.8 316.656 2032.65 316.656 Q2029.09 316.656 2026.93 318.67 Q2024.8 320.684 2024.48 324.341 L2039.67 324.318 Z\" fill=\"#000000\" fill-rule=\"evenodd\" fill-opacity=\"1\" /><path clip-path=\"url(#clip550)\" d=\"M2067.98 317.605 L2067.98 303.577 L2072.23 303.577 L2072.23 339.596 L2067.98 339.596 L2067.98 335.707 Q2066.63 338.022 2064.57 339.156 Q2062.54 340.267 2059.67 340.267 Q2054.97 340.267 2052 336.517 Q2049.06 332.767 2049.06 326.656 Q2049.06 320.545 2052 316.795 Q2054.97 313.045 2059.67 313.045 Q2062.54 313.045 2064.57 314.179 Q2066.63 315.29 2067.98 317.605 M2053.46 326.656 Q2053.46 331.355 2055.38 334.04 Q2057.33 336.702 2060.71 336.702 Q2064.09 336.702 2066.03 334.04 Q2067.98 331.355 2067.98 326.656 Q2067.98 321.957 2066.03 319.295 Q2064.09 316.61 2060.71 316.61 Q2057.33 316.61 2055.38 319.295 Q2053.46 321.957 2053.46 326.656 Z\" fill=\"#000000\" fill-rule=\"evenodd\" fill-opacity=\"1\" /><polyline clip-path=\"url(#clip550)\" style=\"stroke:#c271d2; stroke-linecap:round; stroke-linejoin:round; stroke-width:4; stroke-opacity:1; fill:none\" points=\"\n",
       "  1542.16,374.156 1686.59,374.156 \n",
       "  \"/>\n",
       "<path clip-path=\"url(#clip550)\" d=\"M1710.66 356.876 L1732.51 356.876 L1732.51 360.811 L1715.34 360.811 L1715.34 371.042 L1731.8 371.042 L1731.8 374.977 L1715.34 374.977 L1715.34 387.501 L1732.93 387.501 L1732.93 391.436 L1710.66 391.436 L1710.66 356.876 Z\" fill=\"#000000\" fill-rule=\"evenodd\" fill-opacity=\"1\" /><path clip-path=\"url(#clip550)\" d=\"M1756.96 366.274 L1756.96 370.302 Q1755.15 369.376 1753.21 368.913 Q1751.26 368.45 1749.18 368.45 Q1746.01 368.45 1744.41 369.422 Q1742.84 370.394 1742.84 372.339 Q1742.84 373.82 1743.97 374.677 Q1745.11 375.51 1748.53 376.274 L1749.99 376.598 Q1754.53 377.57 1756.43 379.352 Q1758.35 381.112 1758.35 384.283 Q1758.35 387.894 1755.48 390.001 Q1752.63 392.107 1747.63 392.107 Q1745.55 392.107 1743.28 391.69 Q1741.03 391.297 1738.53 390.487 L1738.53 386.089 Q1740.89 387.315 1743.19 387.94 Q1745.48 388.542 1747.72 388.542 Q1750.73 388.542 1752.35 387.524 Q1753.97 386.482 1753.97 384.607 Q1753.97 382.871 1752.79 381.945 Q1751.63 381.019 1747.68 380.163 L1746.19 379.815 Q1742.24 378.982 1740.48 377.269 Q1738.72 375.533 1738.72 372.524 Q1738.72 368.866 1741.31 366.876 Q1743.9 364.885 1748.67 364.885 Q1751.03 364.885 1753.12 365.232 Q1755.2 365.579 1756.96 366.274 Z\" fill=\"#000000\" fill-rule=\"evenodd\" fill-opacity=\"1\" /><path clip-path=\"url(#clip550)\" d=\"M1769.34 358.149 L1769.34 365.51 L1778.12 365.51 L1778.12 368.82 L1769.34 368.82 L1769.34 382.894 Q1769.34 386.065 1770.2 386.968 Q1771.08 387.871 1773.74 387.871 L1778.12 387.871 L1778.12 391.436 L1773.74 391.436 Q1768.81 391.436 1766.94 389.607 Q1765.06 387.755 1765.06 382.894 L1765.06 368.82 L1761.94 368.82 L1761.94 365.51 L1765.06 365.51 L1765.06 358.149 L1769.34 358.149 Z\" fill=\"#000000\" fill-rule=\"evenodd\" fill-opacity=\"1\" /><path clip-path=\"url(#clip550)\" d=\"M1783.72 365.51 L1787.98 365.51 L1787.98 391.436 L1783.72 391.436 L1783.72 365.51 M1783.72 355.417 L1787.98 355.417 L1787.98 360.811 L1783.72 360.811 L1783.72 355.417 Z\" fill=\"#000000\" fill-rule=\"evenodd\" fill-opacity=\"1\" /><path clip-path=\"url(#clip550)\" d=\"M1817.07 370.487 Q1818.67 367.616 1820.89 366.251 Q1823.12 364.885 1826.12 364.885 Q1830.18 364.885 1832.37 367.732 Q1834.57 370.556 1834.57 375.788 L1834.57 391.436 L1830.29 391.436 L1830.29 375.927 Q1830.29 372.2 1828.97 370.394 Q1827.65 368.589 1824.94 368.589 Q1821.63 368.589 1819.71 370.788 Q1817.79 372.987 1817.79 376.783 L1817.79 391.436 L1813.51 391.436 L1813.51 375.927 Q1813.51 372.177 1812.19 370.394 Q1810.87 368.589 1808.12 368.589 Q1804.85 368.589 1802.93 370.811 Q1801.01 373.01 1801.01 376.783 L1801.01 391.436 L1796.73 391.436 L1796.73 365.51 L1801.01 365.51 L1801.01 369.538 Q1802.47 367.153 1804.5 366.019 Q1806.54 364.885 1809.34 364.885 Q1812.17 364.885 1814.13 366.32 Q1816.12 367.755 1817.07 370.487 Z\" fill=\"#000000\" fill-rule=\"evenodd\" fill-opacity=\"1\" /><path clip-path=\"url(#clip550)\" d=\"M1854.85 378.403 Q1849.69 378.403 1847.7 379.584 Q1845.71 380.764 1845.71 383.612 Q1845.71 385.88 1847.19 387.223 Q1848.69 388.542 1851.26 388.542 Q1854.81 388.542 1856.93 386.042 Q1859.09 383.519 1859.09 379.352 L1859.09 378.403 L1854.85 378.403 M1863.35 376.644 L1863.35 391.436 L1859.09 391.436 L1859.09 387.501 Q1857.63 389.862 1855.45 390.996 Q1853.28 392.107 1850.13 392.107 Q1846.15 392.107 1843.79 389.885 Q1841.45 387.639 1841.45 383.889 Q1841.45 379.514 1844.37 377.292 Q1847.31 375.07 1853.12 375.07 L1859.09 375.07 L1859.09 374.653 Q1859.09 371.714 1857.14 370.116 Q1855.22 368.496 1851.73 368.496 Q1849.5 368.496 1847.4 369.028 Q1845.29 369.561 1843.35 370.626 L1843.35 366.69 Q1845.68 365.788 1847.88 365.348 Q1850.08 364.885 1852.17 364.885 Q1857.79 364.885 1860.57 367.802 Q1863.35 370.718 1863.35 376.644 Z\" fill=\"#000000\" fill-rule=\"evenodd\" fill-opacity=\"1\" /><path clip-path=\"url(#clip550)\" d=\"M1876.33 358.149 L1876.33 365.51 L1885.11 365.51 L1885.11 368.82 L1876.33 368.82 L1876.33 382.894 Q1876.33 386.065 1877.19 386.968 Q1878.07 387.871 1880.73 387.871 L1885.11 387.871 L1885.11 391.436 L1880.73 391.436 Q1875.8 391.436 1873.93 389.607 Q1872.05 387.755 1872.05 382.894 L1872.05 368.82 L1868.93 368.82 L1868.93 365.51 L1872.05 365.51 L1872.05 358.149 L1876.33 358.149 Z\" fill=\"#000000\" fill-rule=\"evenodd\" fill-opacity=\"1\" /><path clip-path=\"url(#clip550)\" d=\"M1912.88 377.408 L1912.88 379.491 L1893.3 379.491 Q1893.58 383.889 1895.94 386.204 Q1898.32 388.496 1902.56 388.496 Q1905.01 388.496 1907.3 387.894 Q1909.62 387.292 1911.89 386.089 L1911.89 390.116 Q1909.6 391.088 1907.19 391.598 Q1904.78 392.107 1902.3 392.107 Q1896.1 392.107 1892.47 388.496 Q1888.86 384.885 1888.86 378.727 Q1888.86 372.362 1892.28 368.635 Q1895.73 364.885 1901.56 364.885 Q1906.8 364.885 1909.83 368.265 Q1912.88 371.621 1912.88 377.408 M1908.62 376.158 Q1908.58 372.663 1906.66 370.579 Q1904.76 368.496 1901.61 368.496 Q1898.05 368.496 1895.89 370.51 Q1893.76 372.524 1893.44 376.181 L1908.62 376.158 Z\" fill=\"#000000\" fill-rule=\"evenodd\" fill-opacity=\"1\" /><path clip-path=\"url(#clip550)\" d=\"M1936.93 369.445 L1936.93 355.417 L1941.19 355.417 L1941.19 391.436 L1936.93 391.436 L1936.93 387.547 Q1935.59 389.862 1933.53 390.996 Q1931.49 392.107 1928.62 392.107 Q1923.93 392.107 1920.96 388.357 Q1918.02 384.607 1918.02 378.496 Q1918.02 372.385 1920.96 368.635 Q1923.93 364.885 1928.62 364.885 Q1931.49 364.885 1933.53 366.019 Q1935.59 367.13 1936.93 369.445 M1922.42 378.496 Q1922.42 383.195 1924.34 385.88 Q1926.29 388.542 1929.67 388.542 Q1933.05 388.542 1934.99 385.88 Q1936.93 383.195 1936.93 378.496 Q1936.93 373.797 1934.99 371.135 Q1933.05 368.45 1929.67 368.45 Q1926.29 368.45 1924.34 371.135 Q1922.42 373.797 1922.42 378.496 Z\" fill=\"#000000\" fill-rule=\"evenodd\" fill-opacity=\"1\" /><path clip-path=\"url(#clip550)\" d=\"M1985.94 358.01 L1985.94 362.57 Q1983.28 361.297 1980.92 360.672 Q1978.55 360.047 1976.36 360.047 Q1972.54 360.047 1970.45 361.528 Q1968.39 363.01 1968.39 365.741 Q1968.39 368.033 1969.76 369.214 Q1971.15 370.371 1974.99 371.089 L1977.81 371.667 Q1983.05 372.663 1985.52 375.186 Q1988.02 377.686 1988.02 381.899 Q1988.02 386.922 1984.64 389.514 Q1981.29 392.107 1974.78 392.107 Q1972.33 392.107 1969.55 391.551 Q1966.8 390.996 1963.83 389.908 L1963.83 385.093 Q1966.68 386.69 1969.41 387.501 Q1972.14 388.311 1974.78 388.311 Q1978.79 388.311 1980.96 386.737 Q1983.14 385.163 1983.14 382.246 Q1983.14 379.7 1981.56 378.264 Q1980.01 376.829 1976.45 376.112 L1973.6 375.556 Q1968.37 374.515 1966.03 372.292 Q1963.69 370.07 1963.69 366.112 Q1963.69 361.528 1966.91 358.89 Q1970.15 356.251 1975.82 356.251 Q1978.25 356.251 1980.78 356.691 Q1983.3 357.13 1985.94 358.01 Z\" fill=\"#000000\" fill-rule=\"evenodd\" fill-opacity=\"1\" /><path clip-path=\"url(#clip550)\" d=\"M1994.69 381.204 L1994.69 365.51 L1998.95 365.51 L1998.95 381.042 Q1998.95 384.723 2000.38 386.575 Q2001.82 388.403 2004.69 388.403 Q2008.14 388.403 2010.13 386.204 Q2012.14 384.005 2012.14 380.209 L2012.14 365.51 L2016.4 365.51 L2016.4 391.436 L2012.14 391.436 L2012.14 387.454 Q2010.59 389.815 2008.53 390.973 Q2006.49 392.107 2003.79 392.107 Q1999.32 392.107 1997 389.329 Q1994.69 386.551 1994.69 381.204 M2005.41 364.885 L2005.41 364.885 Z\" fill=\"#000000\" fill-rule=\"evenodd\" fill-opacity=\"1\" /><path clip-path=\"url(#clip550)\" d=\"M2041.7 366.274 L2041.7 370.302 Q2039.9 369.376 2037.95 368.913 Q2036.01 368.45 2033.92 368.45 Q2030.75 368.45 2029.16 369.422 Q2027.58 370.394 2027.58 372.339 Q2027.58 373.82 2028.72 374.677 Q2029.85 375.51 2033.28 376.274 L2034.73 376.598 Q2039.27 377.57 2041.17 379.352 Q2043.09 381.112 2043.09 384.283 Q2043.09 387.894 2040.22 390.001 Q2037.37 392.107 2032.37 392.107 Q2030.29 392.107 2028.02 391.69 Q2025.78 391.297 2023.28 390.487 L2023.28 386.089 Q2025.64 387.315 2027.93 387.94 Q2030.22 388.542 2032.47 388.542 Q2035.48 388.542 2037.1 387.524 Q2038.72 386.482 2038.72 384.607 Q2038.72 382.871 2037.54 381.945 Q2036.38 381.019 2032.42 380.163 L2030.94 379.815 Q2026.98 378.982 2025.22 377.269 Q2023.46 375.533 2023.46 372.524 Q2023.46 368.866 2026.05 366.876 Q2028.65 364.885 2033.42 364.885 Q2035.78 364.885 2037.86 365.232 Q2039.94 365.579 2041.7 366.274 Z\" fill=\"#000000\" fill-rule=\"evenodd\" fill-opacity=\"1\" /><path clip-path=\"url(#clip550)\" d=\"M2068.53 366.505 L2068.53 370.487 Q2066.73 369.491 2064.9 369.005 Q2063.09 368.496 2061.24 368.496 Q2057.1 368.496 2054.8 371.135 Q2052.51 373.751 2052.51 378.496 Q2052.51 383.241 2054.8 385.88 Q2057.1 388.496 2061.24 388.496 Q2063.09 388.496 2064.9 388.01 Q2066.73 387.501 2068.53 386.505 L2068.53 390.44 Q2066.75 391.274 2064.83 391.69 Q2062.93 392.107 2060.78 392.107 Q2054.92 392.107 2051.47 388.426 Q2048.02 384.746 2048.02 378.496 Q2048.02 372.153 2051.49 368.519 Q2054.99 364.885 2061.05 364.885 Q2063.02 364.885 2064.9 365.302 Q2066.77 365.695 2068.53 366.505 Z\" fill=\"#000000\" fill-rule=\"evenodd\" fill-opacity=\"1\" /><path clip-path=\"url(#clip550)\" d=\"M2098.11 377.408 L2098.11 379.491 L2078.53 379.491 Q2078.81 383.889 2081.17 386.204 Q2083.55 388.496 2087.79 388.496 Q2090.24 388.496 2092.54 387.894 Q2094.85 387.292 2097.12 386.089 L2097.12 390.116 Q2094.83 391.088 2092.42 391.598 Q2090.01 392.107 2087.54 392.107 Q2081.33 392.107 2077.7 388.496 Q2074.09 384.885 2074.09 378.727 Q2074.09 372.362 2077.51 368.635 Q2080.96 364.885 2086.79 364.885 Q2092.03 364.885 2095.06 368.265 Q2098.11 371.621 2098.11 377.408 M2093.85 376.158 Q2093.81 372.663 2091.89 370.579 Q2089.99 368.496 2086.84 368.496 Q2083.28 368.496 2081.12 370.51 Q2078.99 372.524 2078.67 376.181 L2093.85 376.158 Z\" fill=\"#000000\" fill-rule=\"evenodd\" fill-opacity=\"1\" /><path clip-path=\"url(#clip550)\" d=\"M2109.23 387.547 L2109.23 401.297 L2104.94 401.297 L2104.94 365.51 L2109.23 365.51 L2109.23 369.445 Q2110.57 367.13 2112.6 366.019 Q2114.66 364.885 2117.51 364.885 Q2122.23 364.885 2125.17 368.635 Q2128.14 372.385 2128.14 378.496 Q2128.14 384.607 2125.17 388.357 Q2122.23 392.107 2117.51 392.107 Q2114.66 392.107 2112.6 390.996 Q2110.57 389.862 2109.23 387.547 M2123.72 378.496 Q2123.72 373.797 2121.77 371.135 Q2119.85 368.45 2116.47 368.45 Q2113.09 368.45 2111.15 371.135 Q2109.23 373.797 2109.23 378.496 Q2109.23 383.195 2111.15 385.88 Q2113.09 388.542 2116.47 388.542 Q2119.85 388.542 2121.77 385.88 Q2123.72 383.195 2123.72 378.496 Z\" fill=\"#000000\" fill-rule=\"evenodd\" fill-opacity=\"1\" /><path clip-path=\"url(#clip550)\" d=\"M2139.41 358.149 L2139.41 365.51 L2148.18 365.51 L2148.18 368.82 L2139.41 368.82 L2139.41 382.894 Q2139.41 386.065 2140.27 386.968 Q2141.15 387.871 2143.81 387.871 L2148.18 387.871 L2148.18 391.436 L2143.81 391.436 Q2138.88 391.436 2137 389.607 Q2135.13 387.755 2135.13 382.894 L2135.13 368.82 L2132 368.82 L2132 365.51 L2135.13 365.51 L2135.13 358.149 L2139.41 358.149 Z\" fill=\"#000000\" fill-rule=\"evenodd\" fill-opacity=\"1\" /><path clip-path=\"url(#clip550)\" d=\"M2153.79 365.51 L2158.04 365.51 L2158.04 391.436 L2153.79 391.436 L2153.79 365.51 M2153.79 355.417 L2158.04 355.417 L2158.04 360.811 L2153.79 360.811 L2153.79 355.417 Z\" fill=\"#000000\" fill-rule=\"evenodd\" fill-opacity=\"1\" /><path clip-path=\"url(#clip550)\" d=\"M2185.57 378.496 Q2185.57 373.797 2183.62 371.135 Q2181.7 368.45 2178.32 368.45 Q2174.94 368.45 2173 371.135 Q2171.08 373.797 2171.08 378.496 Q2171.08 383.195 2173 385.88 Q2174.94 388.542 2178.32 388.542 Q2181.7 388.542 2183.62 385.88 Q2185.57 383.195 2185.57 378.496 M2171.08 369.445 Q2172.42 367.13 2174.46 366.019 Q2176.52 364.885 2179.36 364.885 Q2184.09 364.885 2187.03 368.635 Q2189.99 372.385 2189.99 378.496 Q2189.99 384.607 2187.03 388.357 Q2184.09 392.107 2179.36 392.107 Q2176.52 392.107 2174.46 390.996 Q2172.42 389.862 2171.08 387.547 L2171.08 391.436 L2166.79 391.436 L2166.79 355.417 L2171.08 355.417 L2171.08 369.445 Z\" fill=\"#000000\" fill-rule=\"evenodd\" fill-opacity=\"1\" /><path clip-path=\"url(#clip550)\" d=\"M2197.05 355.417 L2201.31 355.417 L2201.31 391.436 L2197.05 391.436 L2197.05 355.417 Z\" fill=\"#000000\" fill-rule=\"evenodd\" fill-opacity=\"1\" /><path clip-path=\"url(#clip550)\" d=\"M2232.4 377.408 L2232.4 379.491 L2212.81 379.491 Q2213.09 383.889 2215.45 386.204 Q2217.84 388.496 2222.07 388.496 Q2224.53 388.496 2226.82 387.894 Q2229.13 387.292 2231.4 386.089 L2231.4 390.116 Q2229.11 391.088 2226.7 391.598 Q2224.29 392.107 2221.82 392.107 Q2215.61 392.107 2211.98 388.496 Q2208.37 384.885 2208.37 378.727 Q2208.37 372.362 2211.79 368.635 Q2215.24 364.885 2221.08 364.885 Q2226.31 364.885 2229.34 368.265 Q2232.4 371.621 2232.4 377.408 M2228.14 376.158 Q2228.09 372.663 2226.17 370.579 Q2224.27 368.496 2221.12 368.496 Q2217.56 368.496 2215.41 370.51 Q2213.28 372.524 2212.95 376.181 L2228.14 376.158 Z\" fill=\"#000000\" fill-rule=\"evenodd\" fill-opacity=\"1\" /><polyline clip-path=\"url(#clip550)\" style=\"stroke:#ac8d18; stroke-linecap:round; stroke-linejoin:round; stroke-width:4; stroke-opacity:1; fill:none\" points=\"\n",
       "  1542.16,425.996 1686.59,425.996 \n",
       "  \"/>\n",
       "<path clip-path=\"url(#clip550)\" d=\"M1710.66 408.716 L1732.51 408.716 L1732.51 412.651 L1715.34 412.651 L1715.34 422.882 L1731.8 422.882 L1731.8 426.817 L1715.34 426.817 L1715.34 439.341 L1732.93 439.341 L1732.93 443.276 L1710.66 443.276 L1710.66 408.716 Z\" fill=\"#000000\" fill-rule=\"evenodd\" fill-opacity=\"1\" /><path clip-path=\"url(#clip550)\" d=\"M1756.96 418.114 L1756.96 422.142 Q1755.15 421.216 1753.21 420.753 Q1751.26 420.29 1749.18 420.29 Q1746.01 420.29 1744.41 421.262 Q1742.84 422.234 1742.84 424.179 Q1742.84 425.66 1743.97 426.517 Q1745.11 427.35 1748.53 428.114 L1749.99 428.438 Q1754.53 429.41 1756.43 431.192 Q1758.35 432.952 1758.35 436.123 Q1758.35 439.734 1755.48 441.841 Q1752.63 443.947 1747.63 443.947 Q1745.55 443.947 1743.28 443.53 Q1741.03 443.137 1738.53 442.327 L1738.53 437.929 Q1740.89 439.155 1743.19 439.78 Q1745.48 440.382 1747.72 440.382 Q1750.73 440.382 1752.35 439.364 Q1753.97 438.322 1753.97 436.447 Q1753.97 434.711 1752.79 433.785 Q1751.63 432.859 1747.68 432.003 L1746.19 431.655 Q1742.24 430.822 1740.48 429.109 Q1738.72 427.373 1738.72 424.364 Q1738.72 420.706 1741.31 418.716 Q1743.9 416.725 1748.67 416.725 Q1751.03 416.725 1753.12 417.072 Q1755.2 417.419 1756.96 418.114 Z\" fill=\"#000000\" fill-rule=\"evenodd\" fill-opacity=\"1\" /><path clip-path=\"url(#clip550)\" d=\"M1769.34 409.989 L1769.34 417.35 L1778.12 417.35 L1778.12 420.66 L1769.34 420.66 L1769.34 434.734 Q1769.34 437.905 1770.2 438.808 Q1771.08 439.711 1773.74 439.711 L1778.12 439.711 L1778.12 443.276 L1773.74 443.276 Q1768.81 443.276 1766.94 441.447 Q1765.06 439.595 1765.06 434.734 L1765.06 420.66 L1761.94 420.66 L1761.94 417.35 L1765.06 417.35 L1765.06 409.989 L1769.34 409.989 Z\" fill=\"#000000\" fill-rule=\"evenodd\" fill-opacity=\"1\" /><path clip-path=\"url(#clip550)\" d=\"M1783.72 417.35 L1787.98 417.35 L1787.98 443.276 L1783.72 443.276 L1783.72 417.35 M1783.72 407.257 L1787.98 407.257 L1787.98 412.651 L1783.72 412.651 L1783.72 407.257 Z\" fill=\"#000000\" fill-rule=\"evenodd\" fill-opacity=\"1\" /><path clip-path=\"url(#clip550)\" d=\"M1817.07 422.327 Q1818.67 419.456 1820.89 418.091 Q1823.12 416.725 1826.12 416.725 Q1830.18 416.725 1832.37 419.572 Q1834.57 422.396 1834.57 427.628 L1834.57 443.276 L1830.29 443.276 L1830.29 427.767 Q1830.29 424.04 1828.97 422.234 Q1827.65 420.429 1824.94 420.429 Q1821.63 420.429 1819.71 422.628 Q1817.79 424.827 1817.79 428.623 L1817.79 443.276 L1813.51 443.276 L1813.51 427.767 Q1813.51 424.017 1812.19 422.234 Q1810.87 420.429 1808.12 420.429 Q1804.85 420.429 1802.93 422.651 Q1801.01 424.85 1801.01 428.623 L1801.01 443.276 L1796.73 443.276 L1796.73 417.35 L1801.01 417.35 L1801.01 421.378 Q1802.47 418.993 1804.5 417.859 Q1806.54 416.725 1809.34 416.725 Q1812.17 416.725 1814.13 418.16 Q1816.12 419.595 1817.07 422.327 Z\" fill=\"#000000\" fill-rule=\"evenodd\" fill-opacity=\"1\" /><path clip-path=\"url(#clip550)\" d=\"M1854.85 430.243 Q1849.69 430.243 1847.7 431.424 Q1845.71 432.604 1845.71 435.452 Q1845.71 437.72 1847.19 439.063 Q1848.69 440.382 1851.26 440.382 Q1854.81 440.382 1856.93 437.882 Q1859.09 435.359 1859.09 431.192 L1859.09 430.243 L1854.85 430.243 M1863.35 428.484 L1863.35 443.276 L1859.09 443.276 L1859.09 439.341 Q1857.63 441.702 1855.45 442.836 Q1853.28 443.947 1850.13 443.947 Q1846.15 443.947 1843.79 441.725 Q1841.45 439.479 1841.45 435.729 Q1841.45 431.354 1844.37 429.132 Q1847.31 426.91 1853.12 426.91 L1859.09 426.91 L1859.09 426.493 Q1859.09 423.554 1857.14 421.956 Q1855.22 420.336 1851.73 420.336 Q1849.5 420.336 1847.4 420.868 Q1845.29 421.401 1843.35 422.466 L1843.35 418.53 Q1845.68 417.628 1847.88 417.188 Q1850.08 416.725 1852.17 416.725 Q1857.79 416.725 1860.57 419.642 Q1863.35 422.558 1863.35 428.484 Z\" fill=\"#000000\" fill-rule=\"evenodd\" fill-opacity=\"1\" /><path clip-path=\"url(#clip550)\" d=\"M1876.33 409.989 L1876.33 417.35 L1885.11 417.35 L1885.11 420.66 L1876.33 420.66 L1876.33 434.734 Q1876.33 437.905 1877.19 438.808 Q1878.07 439.711 1880.73 439.711 L1885.11 439.711 L1885.11 443.276 L1880.73 443.276 Q1875.8 443.276 1873.93 441.447 Q1872.05 439.595 1872.05 434.734 L1872.05 420.66 L1868.93 420.66 L1868.93 417.35 L1872.05 417.35 L1872.05 409.989 L1876.33 409.989 Z\" fill=\"#000000\" fill-rule=\"evenodd\" fill-opacity=\"1\" /><path clip-path=\"url(#clip550)\" d=\"M1912.88 429.248 L1912.88 431.331 L1893.3 431.331 Q1893.58 435.729 1895.94 438.044 Q1898.32 440.336 1902.56 440.336 Q1905.01 440.336 1907.3 439.734 Q1909.62 439.132 1911.89 437.929 L1911.89 441.956 Q1909.6 442.928 1907.19 443.438 Q1904.78 443.947 1902.3 443.947 Q1896.1 443.947 1892.47 440.336 Q1888.86 436.725 1888.86 430.567 Q1888.86 424.202 1892.28 420.475 Q1895.73 416.725 1901.56 416.725 Q1906.8 416.725 1909.83 420.105 Q1912.88 423.461 1912.88 429.248 M1908.62 427.998 Q1908.58 424.503 1906.66 422.419 Q1904.76 420.336 1901.61 420.336 Q1898.05 420.336 1895.89 422.35 Q1893.76 424.364 1893.44 428.021 L1908.62 427.998 Z\" fill=\"#000000\" fill-rule=\"evenodd\" fill-opacity=\"1\" /><path clip-path=\"url(#clip550)\" d=\"M1936.93 421.285 L1936.93 407.257 L1941.19 407.257 L1941.19 443.276 L1936.93 443.276 L1936.93 439.387 Q1935.59 441.702 1933.53 442.836 Q1931.49 443.947 1928.62 443.947 Q1923.93 443.947 1920.96 440.197 Q1918.02 436.447 1918.02 430.336 Q1918.02 424.225 1920.96 420.475 Q1923.93 416.725 1928.62 416.725 Q1931.49 416.725 1933.53 417.859 Q1935.59 418.97 1936.93 421.285 M1922.42 430.336 Q1922.42 435.035 1924.34 437.72 Q1926.29 440.382 1929.67 440.382 Q1933.05 440.382 1934.99 437.72 Q1936.93 435.035 1936.93 430.336 Q1936.93 425.637 1934.99 422.975 Q1933.05 420.29 1929.67 420.29 Q1926.29 420.29 1924.34 422.975 Q1922.42 425.637 1922.42 430.336 Z\" fill=\"#000000\" fill-rule=\"evenodd\" fill-opacity=\"1\" /><path clip-path=\"url(#clip550)\" d=\"M1965.22 408.716 L1969.9 408.716 L1969.9 443.276 L1965.22 443.276 L1965.22 408.716 Z\" fill=\"#000000\" fill-rule=\"evenodd\" fill-opacity=\"1\" /><path clip-path=\"url(#clip550)\" d=\"M2000.57 427.628 L2000.57 443.276 L1996.31 443.276 L1996.31 427.767 Q1996.31 424.086 1994.87 422.257 Q1993.44 420.429 1990.57 420.429 Q1987.12 420.429 1985.13 422.628 Q1983.14 424.827 1983.14 428.623 L1983.14 443.276 L1978.86 443.276 L1978.86 417.35 L1983.14 417.35 L1983.14 421.378 Q1984.67 419.04 1986.73 417.882 Q1988.81 416.725 1991.52 416.725 Q1995.99 416.725 1998.28 419.503 Q2000.57 422.257 2000.57 427.628 Z\" fill=\"#000000\" fill-rule=\"evenodd\" fill-opacity=\"1\" /><path clip-path=\"url(#clip550)\" d=\"M2022.19 407.257 L2022.19 410.799 L2018.11 410.799 Q2015.82 410.799 2014.92 411.725 Q2014.04 412.651 2014.04 415.058 L2014.04 417.35 L2021.05 417.35 L2021.05 420.66 L2014.04 420.66 L2014.04 443.276 L2009.76 443.276 L2009.76 420.66 L2005.68 420.66 L2005.68 417.35 L2009.76 417.35 L2009.76 415.544 Q2009.76 411.216 2011.77 409.248 Q2013.79 407.257 2018.16 407.257 L2022.19 407.257 Z\" fill=\"#000000\" fill-rule=\"evenodd\" fill-opacity=\"1\" /><path clip-path=\"url(#clip550)\" d=\"M2047.93 429.248 L2047.93 431.331 L2028.35 431.331 Q2028.62 435.729 2030.98 438.044 Q2033.37 440.336 2037.61 440.336 Q2040.06 440.336 2042.35 439.734 Q2044.67 439.132 2046.93 437.929 L2046.93 441.956 Q2044.64 442.928 2042.23 443.438 Q2039.83 443.947 2037.35 443.947 Q2031.15 443.947 2027.51 440.336 Q2023.9 436.725 2023.9 430.567 Q2023.9 424.202 2027.33 420.475 Q2030.78 416.725 2036.61 416.725 Q2041.84 416.725 2044.87 420.105 Q2047.93 423.461 2047.93 429.248 M2043.67 427.998 Q2043.62 424.503 2041.7 422.419 Q2039.8 420.336 2036.66 420.336 Q2033.09 420.336 2030.94 422.35 Q2028.81 424.364 2028.48 428.021 L2043.67 427.998 Z\" fill=\"#000000\" fill-rule=\"evenodd\" fill-opacity=\"1\" /><path clip-path=\"url(#clip550)\" d=\"M2073.58 418.345 L2073.58 422.327 Q2071.77 421.331 2069.94 420.845 Q2068.14 420.336 2066.29 420.336 Q2062.14 420.336 2059.85 422.975 Q2057.56 425.591 2057.56 430.336 Q2057.56 435.081 2059.85 437.72 Q2062.14 440.336 2066.29 440.336 Q2068.14 440.336 2069.94 439.85 Q2071.77 439.341 2073.58 438.345 L2073.58 442.28 Q2071.79 443.114 2069.87 443.53 Q2067.98 443.947 2065.82 443.947 Q2059.97 443.947 2056.52 440.266 Q2053.07 436.586 2053.07 430.336 Q2053.07 423.993 2056.54 420.359 Q2060.04 416.725 2066.1 416.725 Q2068.07 416.725 2069.94 417.142 Q2071.82 417.535 2073.58 418.345 Z\" fill=\"#000000\" fill-rule=\"evenodd\" fill-opacity=\"1\" /><path clip-path=\"url(#clip550)\" d=\"M2085.2 409.989 L2085.2 417.35 L2093.97 417.35 L2093.97 420.66 L2085.2 420.66 L2085.2 434.734 Q2085.2 437.905 2086.05 438.808 Q2086.93 439.711 2089.6 439.711 L2093.97 439.711 L2093.97 443.276 L2089.6 443.276 Q2084.67 443.276 2082.79 441.447 Q2080.92 439.595 2080.92 434.734 L2080.92 420.66 L2077.79 420.66 L2077.79 417.35 L2080.92 417.35 L2080.92 409.989 L2085.2 409.989 Z\" fill=\"#000000\" fill-rule=\"evenodd\" fill-opacity=\"1\" /><path clip-path=\"url(#clip550)\" d=\"M2121.75 429.248 L2121.75 431.331 L2102.17 431.331 Q2102.44 435.729 2104.8 438.044 Q2107.19 440.336 2111.42 440.336 Q2113.88 440.336 2116.17 439.734 Q2118.48 439.132 2120.75 437.929 L2120.75 441.956 Q2118.46 442.928 2116.05 443.438 Q2113.65 443.947 2111.17 443.947 Q2104.97 443.947 2101.33 440.336 Q2097.72 436.725 2097.72 430.567 Q2097.72 424.202 2101.15 420.475 Q2104.6 416.725 2110.43 416.725 Q2115.66 416.725 2118.69 420.105 Q2121.75 423.461 2121.75 429.248 M2117.49 427.998 Q2117.44 424.503 2115.52 422.419 Q2113.62 420.336 2110.48 420.336 Q2106.91 420.336 2104.76 422.35 Q2102.63 424.364 2102.3 428.021 L2117.49 427.998 Z\" fill=\"#000000\" fill-rule=\"evenodd\" fill-opacity=\"1\" /><path clip-path=\"url(#clip550)\" d=\"M2145.8 421.285 L2145.8 407.257 L2150.06 407.257 L2150.06 443.276 L2145.8 443.276 L2145.8 439.387 Q2144.46 441.702 2142.4 442.836 Q2140.36 443.947 2137.49 443.947 Q2132.79 443.947 2129.83 440.197 Q2126.89 436.447 2126.89 430.336 Q2126.89 424.225 2129.83 420.475 Q2132.79 416.725 2137.49 416.725 Q2140.36 416.725 2142.4 417.859 Q2144.46 418.97 2145.8 421.285 M2131.29 430.336 Q2131.29 435.035 2133.21 437.72 Q2135.15 440.382 2138.53 440.382 Q2141.91 440.382 2143.85 437.72 Q2145.8 435.035 2145.8 430.336 Q2145.8 425.637 2143.85 422.975 Q2141.91 420.29 2138.53 420.29 Q2135.15 420.29 2133.21 422.975 Q2131.29 425.637 2131.29 430.336 Z\" fill=\"#000000\" fill-rule=\"evenodd\" fill-opacity=\"1\" /><polyline clip-path=\"url(#clip550)\" style=\"stroke:#00a9ad; stroke-linecap:round; stroke-linejoin:round; stroke-width:4; stroke-opacity:1; fill:none\" points=\"\n",
       "  1542.16,477.836 1686.59,477.836 \n",
       "  \"/>\n",
       "<path clip-path=\"url(#clip550)\" d=\"M1710.66 460.556 L1732.51 460.556 L1732.51 464.491 L1715.34 464.491 L1715.34 474.722 L1731.8 474.722 L1731.8 478.657 L1715.34 478.657 L1715.34 491.181 L1732.93 491.181 L1732.93 495.116 L1710.66 495.116 L1710.66 460.556 Z\" fill=\"#000000\" fill-rule=\"evenodd\" fill-opacity=\"1\" /><path clip-path=\"url(#clip550)\" d=\"M1756.96 469.954 L1756.96 473.982 Q1755.15 473.056 1753.21 472.593 Q1751.26 472.13 1749.18 472.13 Q1746.01 472.13 1744.41 473.102 Q1742.84 474.074 1742.84 476.019 Q1742.84 477.5 1743.97 478.357 Q1745.11 479.19 1748.53 479.954 L1749.99 480.278 Q1754.53 481.25 1756.43 483.032 Q1758.35 484.792 1758.35 487.963 Q1758.35 491.574 1755.48 493.681 Q1752.63 495.787 1747.63 495.787 Q1745.55 495.787 1743.28 495.37 Q1741.03 494.977 1738.53 494.167 L1738.53 489.769 Q1740.89 490.995 1743.19 491.62 Q1745.48 492.222 1747.72 492.222 Q1750.73 492.222 1752.35 491.204 Q1753.97 490.162 1753.97 488.287 Q1753.97 486.551 1752.79 485.625 Q1751.63 484.699 1747.68 483.843 L1746.19 483.495 Q1742.24 482.662 1740.48 480.949 Q1738.72 479.213 1738.72 476.204 Q1738.72 472.546 1741.31 470.556 Q1743.9 468.565 1748.67 468.565 Q1751.03 468.565 1753.12 468.912 Q1755.2 469.259 1756.96 469.954 Z\" fill=\"#000000\" fill-rule=\"evenodd\" fill-opacity=\"1\" /><path clip-path=\"url(#clip550)\" d=\"M1769.34 461.829 L1769.34 469.19 L1778.12 469.19 L1778.12 472.5 L1769.34 472.5 L1769.34 486.574 Q1769.34 489.745 1770.2 490.648 Q1771.08 491.551 1773.74 491.551 L1778.12 491.551 L1778.12 495.116 L1773.74 495.116 Q1768.81 495.116 1766.94 493.287 Q1765.06 491.435 1765.06 486.574 L1765.06 472.5 L1761.94 472.5 L1761.94 469.19 L1765.06 469.19 L1765.06 461.829 L1769.34 461.829 Z\" fill=\"#000000\" fill-rule=\"evenodd\" fill-opacity=\"1\" /><path clip-path=\"url(#clip550)\" d=\"M1783.72 469.19 L1787.98 469.19 L1787.98 495.116 L1783.72 495.116 L1783.72 469.19 M1783.72 459.097 L1787.98 459.097 L1787.98 464.491 L1783.72 464.491 L1783.72 459.097 Z\" fill=\"#000000\" fill-rule=\"evenodd\" fill-opacity=\"1\" /><path clip-path=\"url(#clip550)\" d=\"M1817.07 474.167 Q1818.67 471.296 1820.89 469.931 Q1823.12 468.565 1826.12 468.565 Q1830.18 468.565 1832.37 471.412 Q1834.57 474.236 1834.57 479.468 L1834.57 495.116 L1830.29 495.116 L1830.29 479.607 Q1830.29 475.88 1828.97 474.074 Q1827.65 472.269 1824.94 472.269 Q1821.63 472.269 1819.71 474.468 Q1817.79 476.667 1817.79 480.463 L1817.79 495.116 L1813.51 495.116 L1813.51 479.607 Q1813.51 475.857 1812.19 474.074 Q1810.87 472.269 1808.12 472.269 Q1804.85 472.269 1802.93 474.491 Q1801.01 476.69 1801.01 480.463 L1801.01 495.116 L1796.73 495.116 L1796.73 469.19 L1801.01 469.19 L1801.01 473.218 Q1802.47 470.833 1804.5 469.699 Q1806.54 468.565 1809.34 468.565 Q1812.17 468.565 1814.13 470 Q1816.12 471.435 1817.07 474.167 Z\" fill=\"#000000\" fill-rule=\"evenodd\" fill-opacity=\"1\" /><path clip-path=\"url(#clip550)\" d=\"M1854.85 482.083 Q1849.69 482.083 1847.7 483.264 Q1845.71 484.444 1845.71 487.292 Q1845.71 489.56 1847.19 490.903 Q1848.69 492.222 1851.26 492.222 Q1854.81 492.222 1856.93 489.722 Q1859.09 487.199 1859.09 483.032 L1859.09 482.083 L1854.85 482.083 M1863.35 480.324 L1863.35 495.116 L1859.09 495.116 L1859.09 491.181 Q1857.63 493.542 1855.45 494.676 Q1853.28 495.787 1850.13 495.787 Q1846.15 495.787 1843.79 493.565 Q1841.45 491.319 1841.45 487.569 Q1841.45 483.194 1844.37 480.972 Q1847.31 478.75 1853.12 478.75 L1859.09 478.75 L1859.09 478.333 Q1859.09 475.394 1857.14 473.796 Q1855.22 472.176 1851.73 472.176 Q1849.5 472.176 1847.4 472.708 Q1845.29 473.241 1843.35 474.306 L1843.35 470.37 Q1845.68 469.468 1847.88 469.028 Q1850.08 468.565 1852.17 468.565 Q1857.79 468.565 1860.57 471.482 Q1863.35 474.398 1863.35 480.324 Z\" fill=\"#000000\" fill-rule=\"evenodd\" fill-opacity=\"1\" /><path clip-path=\"url(#clip550)\" d=\"M1876.33 461.829 L1876.33 469.19 L1885.11 469.19 L1885.11 472.5 L1876.33 472.5 L1876.33 486.574 Q1876.33 489.745 1877.19 490.648 Q1878.07 491.551 1880.73 491.551 L1885.11 491.551 L1885.11 495.116 L1880.73 495.116 Q1875.8 495.116 1873.93 493.287 Q1872.05 491.435 1872.05 486.574 L1872.05 472.5 L1868.93 472.5 L1868.93 469.19 L1872.05 469.19 L1872.05 461.829 L1876.33 461.829 Z\" fill=\"#000000\" fill-rule=\"evenodd\" fill-opacity=\"1\" /><path clip-path=\"url(#clip550)\" d=\"M1912.88 481.088 L1912.88 483.171 L1893.3 483.171 Q1893.58 487.569 1895.94 489.884 Q1898.32 492.176 1902.56 492.176 Q1905.01 492.176 1907.3 491.574 Q1909.62 490.972 1911.89 489.769 L1911.89 493.796 Q1909.6 494.768 1907.19 495.278 Q1904.78 495.787 1902.3 495.787 Q1896.1 495.787 1892.47 492.176 Q1888.86 488.565 1888.86 482.407 Q1888.86 476.042 1892.28 472.315 Q1895.73 468.565 1901.56 468.565 Q1906.8 468.565 1909.83 471.945 Q1912.88 475.301 1912.88 481.088 M1908.62 479.838 Q1908.58 476.343 1906.66 474.259 Q1904.76 472.176 1901.61 472.176 Q1898.05 472.176 1895.89 474.19 Q1893.76 476.204 1893.44 479.861 L1908.62 479.838 Z\" fill=\"#000000\" fill-rule=\"evenodd\" fill-opacity=\"1\" /><path clip-path=\"url(#clip550)\" d=\"M1936.93 473.125 L1936.93 459.097 L1941.19 459.097 L1941.19 495.116 L1936.93 495.116 L1936.93 491.227 Q1935.59 493.542 1933.53 494.676 Q1931.49 495.787 1928.62 495.787 Q1923.93 495.787 1920.96 492.037 Q1918.02 488.287 1918.02 482.176 Q1918.02 476.065 1920.96 472.315 Q1923.93 468.565 1928.62 468.565 Q1931.49 468.565 1933.53 469.699 Q1935.59 470.81 1936.93 473.125 M1922.42 482.176 Q1922.42 486.875 1924.34 489.56 Q1926.29 492.222 1929.67 492.222 Q1933.05 492.222 1934.99 489.56 Q1936.93 486.875 1936.93 482.176 Q1936.93 477.477 1934.99 474.815 Q1933.05 472.13 1929.67 472.13 Q1926.29 472.13 1924.34 474.815 Q1922.42 477.477 1922.42 482.176 Z\" fill=\"#000000\" fill-rule=\"evenodd\" fill-opacity=\"1\" /><path clip-path=\"url(#clip550)\" d=\"M1981.61 478.912 Q1983.11 479.421 1984.53 481.088 Q1985.96 482.755 1987.4 485.671 L1992.14 495.116 L1987.12 495.116 L1982.7 486.25 Q1980.99 482.778 1979.36 481.644 Q1977.77 480.509 1974.99 480.509 L1969.9 480.509 L1969.9 495.116 L1965.22 495.116 L1965.22 460.556 L1975.78 460.556 Q1981.7 460.556 1984.62 463.033 Q1987.54 465.509 1987.54 470.509 Q1987.54 473.773 1986.01 475.926 Q1984.5 478.079 1981.61 478.912 M1969.9 464.398 L1969.9 476.667 L1975.78 476.667 Q1979.16 476.667 1980.87 475.116 Q1982.61 473.542 1982.61 470.509 Q1982.61 467.477 1980.87 465.949 Q1979.16 464.398 1975.78 464.398 L1969.9 464.398 Z\" fill=\"#000000\" fill-rule=\"evenodd\" fill-opacity=\"1\" /><path clip-path=\"url(#clip550)\" d=\"M2018.02 481.088 L2018.02 483.171 L1998.44 483.171 Q1998.72 487.569 2001.08 489.884 Q2003.46 492.176 2007.7 492.176 Q2010.15 492.176 2012.44 491.574 Q2014.76 490.972 2017.03 489.769 L2017.03 493.796 Q2014.73 494.768 2012.33 495.278 Q2009.92 495.787 2007.44 495.787 Q2001.24 495.787 1997.61 492.176 Q1993.99 488.565 1993.99 482.407 Q1993.99 476.042 1997.42 472.315 Q2000.87 468.565 2006.7 468.565 Q2011.93 468.565 2014.97 471.945 Q2018.02 475.301 2018.02 481.088 M2013.76 479.838 Q2013.72 476.343 2011.8 474.259 Q2009.9 472.176 2006.75 472.176 Q2003.18 472.176 2001.03 474.19 Q1998.9 476.204 1998.58 479.861 L2013.76 479.838 Z\" fill=\"#000000\" fill-rule=\"evenodd\" fill-opacity=\"1\" /><path clip-path=\"url(#clip550)\" d=\"M2043.67 470.185 L2043.67 474.167 Q2041.86 473.171 2040.04 472.685 Q2038.23 472.176 2036.38 472.176 Q2032.23 472.176 2029.94 474.815 Q2027.65 477.431 2027.65 482.176 Q2027.65 486.921 2029.94 489.56 Q2032.23 492.176 2036.38 492.176 Q2038.23 492.176 2040.04 491.69 Q2041.86 491.181 2043.67 490.185 L2043.67 494.12 Q2041.89 494.954 2039.97 495.37 Q2038.07 495.787 2035.92 495.787 Q2030.06 495.787 2026.61 492.106 Q2023.16 488.426 2023.16 482.176 Q2023.16 475.833 2026.63 472.199 Q2030.13 468.565 2036.19 468.565 Q2038.16 468.565 2040.04 468.982 Q2041.91 469.375 2043.67 470.185 Z\" fill=\"#000000\" fill-rule=\"evenodd\" fill-opacity=\"1\" /><path clip-path=\"url(#clip550)\" d=\"M2061.12 472.176 Q2057.7 472.176 2055.71 474.861 Q2053.72 477.523 2053.72 482.176 Q2053.72 486.829 2055.68 489.514 Q2057.67 492.176 2061.12 492.176 Q2064.53 492.176 2066.52 489.491 Q2068.51 486.806 2068.51 482.176 Q2068.51 477.57 2066.52 474.884 Q2064.53 472.176 2061.12 472.176 M2061.12 468.565 Q2066.68 468.565 2069.85 472.176 Q2073.02 475.787 2073.02 482.176 Q2073.02 488.542 2069.85 492.176 Q2066.68 495.787 2061.12 495.787 Q2055.54 495.787 2052.37 492.176 Q2049.23 488.542 2049.23 482.176 Q2049.23 475.787 2052.37 472.176 Q2055.54 468.565 2061.12 468.565 Z\" fill=\"#000000\" fill-rule=\"evenodd\" fill-opacity=\"1\" /><path clip-path=\"url(#clip550)\" d=\"M2077.03 469.19 L2081.54 469.19 L2089.64 490.949 L2097.74 469.19 L2102.26 469.19 L2092.54 495.116 L2086.75 495.116 L2077.03 469.19 Z\" fill=\"#000000\" fill-rule=\"evenodd\" fill-opacity=\"1\" /><path clip-path=\"url(#clip550)\" d=\"M2130.31 481.088 L2130.31 483.171 L2110.73 483.171 Q2111.01 487.569 2113.37 489.884 Q2115.75 492.176 2119.99 492.176 Q2122.44 492.176 2124.73 491.574 Q2127.05 490.972 2129.32 489.769 L2129.32 493.796 Q2127.03 494.768 2124.62 495.278 Q2122.21 495.787 2119.73 495.787 Q2113.53 495.787 2109.9 492.176 Q2106.29 488.565 2106.29 482.407 Q2106.29 476.042 2109.71 472.315 Q2113.16 468.565 2118.99 468.565 Q2124.23 468.565 2127.26 471.945 Q2130.31 475.301 2130.31 481.088 M2126.05 479.838 Q2126.01 476.343 2124.09 474.259 Q2122.19 472.176 2119.04 472.176 Q2115.48 472.176 2113.32 474.19 Q2111.19 476.204 2110.87 479.861 L2126.05 479.838 Z\" fill=\"#000000\" fill-rule=\"evenodd\" fill-opacity=\"1\" /><path clip-path=\"url(#clip550)\" d=\"M2152.33 473.171 Q2151.61 472.755 2150.75 472.57 Q2149.92 472.361 2148.9 472.361 Q2145.29 472.361 2143.35 474.722 Q2141.42 477.06 2141.42 481.458 L2141.42 495.116 L2137.14 495.116 L2137.14 469.19 L2141.42 469.19 L2141.42 473.218 Q2142.77 470.857 2144.92 469.722 Q2147.07 468.565 2150.15 468.565 Q2150.59 468.565 2151.12 468.634 Q2151.66 468.681 2152.3 468.796 L2152.33 473.171 Z\" fill=\"#000000\" fill-rule=\"evenodd\" fill-opacity=\"1\" /><path clip-path=\"url(#clip550)\" d=\"M2177.93 481.088 L2177.93 483.171 L2158.35 483.171 Q2158.62 487.569 2160.98 489.884 Q2163.37 492.176 2167.6 492.176 Q2170.06 492.176 2172.35 491.574 Q2174.66 490.972 2176.93 489.769 L2176.93 493.796 Q2174.64 494.768 2172.23 495.278 Q2169.83 495.787 2167.35 495.787 Q2161.15 495.787 2157.51 492.176 Q2153.9 488.565 2153.9 482.407 Q2153.9 476.042 2157.33 472.315 Q2160.78 468.565 2166.61 468.565 Q2171.84 468.565 2174.87 471.945 Q2177.93 475.301 2177.93 481.088 M2173.67 479.838 Q2173.62 476.343 2171.7 474.259 Q2169.8 472.176 2166.66 472.176 Q2163.09 472.176 2160.94 474.19 Q2158.81 476.204 2158.48 479.861 L2173.67 479.838 Z\" fill=\"#000000\" fill-rule=\"evenodd\" fill-opacity=\"1\" /><path clip-path=\"url(#clip550)\" d=\"M2201.98 473.125 L2201.98 459.097 L2206.24 459.097 L2206.24 495.116 L2201.98 495.116 L2201.98 491.227 Q2200.64 493.542 2198.58 494.676 Q2196.54 495.787 2193.67 495.787 Q2188.97 495.787 2186.01 492.037 Q2183.07 488.287 2183.07 482.176 Q2183.07 476.065 2186.01 472.315 Q2188.97 468.565 2193.67 468.565 Q2196.54 468.565 2198.58 469.699 Q2200.64 470.81 2201.98 473.125 M2187.47 482.176 Q2187.47 486.875 2189.39 489.56 Q2191.33 492.222 2194.71 492.222 Q2198.09 492.222 2200.03 489.56 Q2201.98 486.875 2201.98 482.176 Q2201.98 477.477 2200.03 474.815 Q2198.09 472.13 2194.71 472.13 Q2191.33 472.13 2189.39 474.815 Q2187.47 477.477 2187.47 482.176 Z\" fill=\"#000000\" fill-rule=\"evenodd\" fill-opacity=\"1\" /></svg>\n"
      ]
     },
     "execution_count": 20,
     "metadata": {},
     "output_type": "execute_result"
    }
   ],
   "source": [
    "prob_ude1_fit = ODEProblem(sir_ude1, u0, tspan, res_ude1.minimizer)\n",
    "sol_ude1_fit = solve(prob_ude1_fit, solver, saveat = δt)\n",
    "scatter(sir_sol, label=[\"True Susceptible\" \"True Infected\" \"True Recovered\"],title=\"Fitted true model\")\n",
    "plot!(sol_ude1_fit, label=[\"Estimated Susceptible\" \"Estimated Infected\" \"Estimated Recovered\"])"
   ]
  },
  {
   "cell_type": "markdown",
   "metadata": {},
   "source": [
    "This plots the relationship between `i` and the force of infection, `λ`, which shows a good match."
   ]
  },
  {
   "cell_type": "code",
   "execution_count": 21,
   "metadata": {
    "execution": {
     "iopub.execute_input": "2022-10-24T14:12:07.639000Z",
     "iopub.status.busy": "2022-10-24T14:12:07.638000Z",
     "iopub.status.idle": "2022-10-24T14:12:10.207000Z",
     "shell.execute_reply": "2022-10-24T14:12:10.207000Z"
    }
   },
   "outputs": [
    {
     "data": {
      "image/svg+xml": [
       "<?xml version=\"1.0\" encoding=\"utf-8\"?>\n",
       "<svg xmlns=\"http://www.w3.org/2000/svg\" xmlns:xlink=\"http://www.w3.org/1999/xlink\" width=\"600\" height=\"400\" viewBox=\"0 0 2400 1600\">\n",
       "<defs>\n",
       "  <clipPath id=\"clip590\">\n",
       "    <rect x=\"0\" y=\"0\" width=\"2400\" height=\"1600\"/>\n",
       "  </clipPath>\n",
       "</defs>\n",
       "<path clip-path=\"url(#clip590)\" d=\"\n",
       "M0 1600 L2400 1600 L2400 0 L0 0  Z\n",
       "  \" fill=\"#ffffff\" fill-rule=\"evenodd\" fill-opacity=\"1\"/>\n",
       "<defs>\n",
       "  <clipPath id=\"clip591\">\n",
       "    <rect x=\"480\" y=\"0\" width=\"1681\" height=\"1600\"/>\n",
       "  </clipPath>\n",
       "</defs>\n",
       "<path clip-path=\"url(#clip590)\" d=\"\n",
       "M249.542 1423.18 L2352.76 1423.18 L2352.76 47.2441 L249.542 47.2441  Z\n",
       "  \" fill=\"#ffffff\" fill-rule=\"evenodd\" fill-opacity=\"1\"/>\n",
       "<defs>\n",
       "  <clipPath id=\"clip592\">\n",
       "    <rect x=\"249\" y=\"47\" width=\"2104\" height=\"1377\"/>\n",
       "  </clipPath>\n",
       "</defs>\n",
       "<polyline clip-path=\"url(#clip592)\" style=\"stroke:#000000; stroke-linecap:round; stroke-linejoin:round; stroke-width:2; stroke-opacity:0.1; fill:none\" points=\"\n",
       "  309.067,1423.18 309.067,47.2441 \n",
       "  \"/>\n",
       "<polyline clip-path=\"url(#clip592)\" style=\"stroke:#000000; stroke-linecap:round; stroke-linejoin:round; stroke-width:2; stroke-opacity:0.1; fill:none\" points=\"\n",
       "  705.9,1423.18 705.9,47.2441 \n",
       "  \"/>\n",
       "<polyline clip-path=\"url(#clip592)\" style=\"stroke:#000000; stroke-linecap:round; stroke-linejoin:round; stroke-width:2; stroke-opacity:0.1; fill:none\" points=\"\n",
       "  1102.73,1423.18 1102.73,47.2441 \n",
       "  \"/>\n",
       "<polyline clip-path=\"url(#clip592)\" style=\"stroke:#000000; stroke-linecap:round; stroke-linejoin:round; stroke-width:2; stroke-opacity:0.1; fill:none\" points=\"\n",
       "  1499.57,1423.18 1499.57,47.2441 \n",
       "  \"/>\n",
       "<polyline clip-path=\"url(#clip592)\" style=\"stroke:#000000; stroke-linecap:round; stroke-linejoin:round; stroke-width:2; stroke-opacity:0.1; fill:none\" points=\"\n",
       "  1896.4,1423.18 1896.4,47.2441 \n",
       "  \"/>\n",
       "<polyline clip-path=\"url(#clip592)\" style=\"stroke:#000000; stroke-linecap:round; stroke-linejoin:round; stroke-width:2; stroke-opacity:0.1; fill:none\" points=\"\n",
       "  2293.23,1423.18 2293.23,47.2441 \n",
       "  \"/>\n",
       "<polyline clip-path=\"url(#clip590)\" style=\"stroke:#000000; stroke-linecap:round; stroke-linejoin:round; stroke-width:4; stroke-opacity:1; fill:none\" points=\"\n",
       "  249.542,1423.18 2352.76,1423.18 \n",
       "  \"/>\n",
       "<polyline clip-path=\"url(#clip590)\" style=\"stroke:#000000; stroke-linecap:round; stroke-linejoin:round; stroke-width:4; stroke-opacity:1; fill:none\" points=\"\n",
       "  309.067,1423.18 309.067,1404.28 \n",
       "  \"/>\n",
       "<polyline clip-path=\"url(#clip590)\" style=\"stroke:#000000; stroke-linecap:round; stroke-linejoin:round; stroke-width:4; stroke-opacity:1; fill:none\" points=\"\n",
       "  705.9,1423.18 705.9,1404.28 \n",
       "  \"/>\n",
       "<polyline clip-path=\"url(#clip590)\" style=\"stroke:#000000; stroke-linecap:round; stroke-linejoin:round; stroke-width:4; stroke-opacity:1; fill:none\" points=\"\n",
       "  1102.73,1423.18 1102.73,1404.28 \n",
       "  \"/>\n",
       "<polyline clip-path=\"url(#clip590)\" style=\"stroke:#000000; stroke-linecap:round; stroke-linejoin:round; stroke-width:4; stroke-opacity:1; fill:none\" points=\"\n",
       "  1499.57,1423.18 1499.57,1404.28 \n",
       "  \"/>\n",
       "<polyline clip-path=\"url(#clip590)\" style=\"stroke:#000000; stroke-linecap:round; stroke-linejoin:round; stroke-width:4; stroke-opacity:1; fill:none\" points=\"\n",
       "  1896.4,1423.18 1896.4,1404.28 \n",
       "  \"/>\n",
       "<polyline clip-path=\"url(#clip590)\" style=\"stroke:#000000; stroke-linecap:round; stroke-linejoin:round; stroke-width:4; stroke-opacity:1; fill:none\" points=\"\n",
       "  2293.23,1423.18 2293.23,1404.28 \n",
       "  \"/>\n",
       "<path clip-path=\"url(#clip590)\" d=\"M286.451 1454.1 Q282.84 1454.1 281.012 1457.66 Q279.206 1461.2 279.206 1468.33 Q279.206 1475.44 281.012 1479.01 Q282.84 1482.55 286.451 1482.55 Q290.086 1482.55 291.891 1479.01 Q293.72 1475.44 293.72 1468.33 Q293.72 1461.2 291.891 1457.66 Q290.086 1454.1 286.451 1454.1 M286.451 1450.39 Q292.261 1450.39 295.317 1455 Q298.396 1459.58 298.396 1468.33 Q298.396 1477.06 295.317 1481.67 Q292.261 1486.25 286.451 1486.25 Q280.641 1486.25 277.562 1481.67 Q274.507 1477.06 274.507 1468.33 Q274.507 1459.58 277.562 1455 Q280.641 1450.39 286.451 1450.39 Z\" fill=\"#000000\" fill-rule=\"evenodd\" fill-opacity=\"1\" /><path clip-path=\"url(#clip590)\" d=\"M306.613 1479.7 L311.497 1479.7 L311.497 1485.58 L306.613 1485.58 L306.613 1479.7 Z\" fill=\"#000000\" fill-rule=\"evenodd\" fill-opacity=\"1\" /><path clip-path=\"url(#clip590)\" d=\"M331.683 1454.1 Q328.071 1454.1 326.243 1457.66 Q324.437 1461.2 324.437 1468.33 Q324.437 1475.44 326.243 1479.01 Q328.071 1482.55 331.683 1482.55 Q335.317 1482.55 337.122 1479.01 Q338.951 1475.44 338.951 1468.33 Q338.951 1461.2 337.122 1457.66 Q335.317 1454.1 331.683 1454.1 M331.683 1450.39 Q337.493 1450.39 340.548 1455 Q343.627 1459.58 343.627 1468.33 Q343.627 1477.06 340.548 1481.67 Q337.493 1486.25 331.683 1486.25 Q325.872 1486.25 322.794 1481.67 Q319.738 1477.06 319.738 1468.33 Q319.738 1459.58 322.794 1455 Q325.872 1450.39 331.683 1450.39 Z\" fill=\"#000000\" fill-rule=\"evenodd\" fill-opacity=\"1\" /><path clip-path=\"url(#clip590)\" d=\"M683.898 1454.1 Q680.286 1454.1 678.458 1457.66 Q676.652 1461.2 676.652 1468.33 Q676.652 1475.44 678.458 1479.01 Q680.286 1482.55 683.898 1482.55 Q687.532 1482.55 689.337 1479.01 Q691.166 1475.44 691.166 1468.33 Q691.166 1461.2 689.337 1457.66 Q687.532 1454.1 683.898 1454.1 M683.898 1450.39 Q689.708 1450.39 692.763 1455 Q695.842 1459.58 695.842 1468.33 Q695.842 1477.06 692.763 1481.67 Q689.708 1486.25 683.898 1486.25 Q678.087 1486.25 675.009 1481.67 Q671.953 1477.06 671.953 1468.33 Q671.953 1459.58 675.009 1455 Q678.087 1450.39 683.898 1450.39 Z\" fill=\"#000000\" fill-rule=\"evenodd\" fill-opacity=\"1\" /><path clip-path=\"url(#clip590)\" d=\"M704.059 1479.7 L708.944 1479.7 L708.944 1485.58 L704.059 1485.58 L704.059 1479.7 Z\" fill=\"#000000\" fill-rule=\"evenodd\" fill-opacity=\"1\" /><path clip-path=\"url(#clip590)\" d=\"M719.939 1481.64 L727.578 1481.64 L727.578 1455.28 L719.268 1456.95 L719.268 1452.69 L727.532 1451.02 L732.207 1451.02 L732.207 1481.64 L739.846 1481.64 L739.846 1485.58 L719.939 1485.58 L719.939 1481.64 Z\" fill=\"#000000\" fill-rule=\"evenodd\" fill-opacity=\"1\" /><path clip-path=\"url(#clip590)\" d=\"M1080.92 1454.1 Q1077.3 1454.1 1075.48 1457.66 Q1073.67 1461.2 1073.67 1468.33 Q1073.67 1475.44 1075.48 1479.01 Q1077.3 1482.55 1080.92 1482.55 Q1084.55 1482.55 1086.36 1479.01 Q1088.18 1475.44 1088.18 1468.33 Q1088.18 1461.2 1086.36 1457.66 Q1084.55 1454.1 1080.92 1454.1 M1080.92 1450.39 Q1086.73 1450.39 1089.78 1455 Q1092.86 1459.58 1092.86 1468.33 Q1092.86 1477.06 1089.78 1481.67 Q1086.73 1486.25 1080.92 1486.25 Q1075.11 1486.25 1072.03 1481.67 Q1068.97 1477.06 1068.97 1468.33 Q1068.97 1459.58 1072.03 1455 Q1075.11 1450.39 1080.92 1450.39 Z\" fill=\"#000000\" fill-rule=\"evenodd\" fill-opacity=\"1\" /><path clip-path=\"url(#clip590)\" d=\"M1101.08 1479.7 L1105.96 1479.7 L1105.96 1485.58 L1101.08 1485.58 L1101.08 1479.7 Z\" fill=\"#000000\" fill-rule=\"evenodd\" fill-opacity=\"1\" /><path clip-path=\"url(#clip590)\" d=\"M1120.17 1481.64 L1136.49 1481.64 L1136.49 1485.58 L1114.55 1485.58 L1114.55 1481.64 Q1117.21 1478.89 1121.79 1474.26 Q1126.4 1469.61 1127.58 1468.27 Q1129.83 1465.74 1130.71 1464.01 Q1131.61 1462.25 1131.61 1460.56 Q1131.61 1457.8 1129.67 1456.07 Q1127.74 1454.33 1124.64 1454.33 Q1122.44 1454.33 1119.99 1455.09 Q1117.56 1455.86 1114.78 1457.41 L1114.78 1452.69 Q1117.61 1451.55 1120.06 1450.97 Q1122.51 1450.39 1124.55 1450.39 Q1129.92 1450.39 1133.11 1453.08 Q1136.31 1455.77 1136.31 1460.26 Q1136.31 1462.39 1135.5 1464.31 Q1134.71 1466.2 1132.61 1468.8 Q1132.03 1469.47 1128.92 1472.69 Q1125.82 1475.88 1120.17 1481.64 Z\" fill=\"#000000\" fill-rule=\"evenodd\" fill-opacity=\"1\" /><path clip-path=\"url(#clip590)\" d=\"M1477.27 1454.1 Q1473.66 1454.1 1471.83 1457.66 Q1470.03 1461.2 1470.03 1468.33 Q1470.03 1475.44 1471.83 1479.01 Q1473.66 1482.55 1477.27 1482.55 Q1480.91 1482.55 1482.71 1479.01 Q1484.54 1475.44 1484.54 1468.33 Q1484.54 1461.2 1482.71 1457.66 Q1480.91 1454.1 1477.27 1454.1 M1477.27 1450.39 Q1483.08 1450.39 1486.14 1455 Q1489.22 1459.58 1489.22 1468.33 Q1489.22 1477.06 1486.14 1481.67 Q1483.08 1486.25 1477.27 1486.25 Q1471.46 1486.25 1468.38 1481.67 Q1465.33 1477.06 1465.33 1468.33 Q1465.33 1459.58 1468.38 1455 Q1471.46 1450.39 1477.27 1450.39 Z\" fill=\"#000000\" fill-rule=\"evenodd\" fill-opacity=\"1\" /><path clip-path=\"url(#clip590)\" d=\"M1497.44 1479.7 L1502.32 1479.7 L1502.32 1485.58 L1497.44 1485.58 L1497.44 1479.7 Z\" fill=\"#000000\" fill-rule=\"evenodd\" fill-opacity=\"1\" /><path clip-path=\"url(#clip590)\" d=\"M1526.67 1466.95 Q1530.03 1467.66 1531.9 1469.93 Q1533.8 1472.2 1533.8 1475.53 Q1533.8 1480.65 1530.28 1483.45 Q1526.76 1486.25 1520.28 1486.25 Q1518.11 1486.25 1515.79 1485.81 Q1513.5 1485.39 1511.05 1484.54 L1511.05 1480.02 Q1512.99 1481.16 1515.31 1481.74 Q1517.62 1482.32 1520.14 1482.32 Q1524.54 1482.32 1526.83 1480.58 Q1529.15 1478.84 1529.15 1475.53 Q1529.15 1472.48 1527 1470.77 Q1524.87 1469.03 1521.05 1469.03 L1517.02 1469.03 L1517.02 1465.19 L1521.23 1465.19 Q1524.68 1465.19 1526.51 1463.82 Q1528.34 1462.43 1528.34 1459.84 Q1528.34 1457.18 1526.44 1455.77 Q1524.57 1454.33 1521.05 1454.33 Q1519.13 1454.33 1516.93 1454.75 Q1514.73 1455.16 1512.09 1456.04 L1512.09 1451.88 Q1514.75 1451.14 1517.07 1450.77 Q1519.4 1450.39 1521.46 1450.39 Q1526.79 1450.39 1529.89 1452.83 Q1532.99 1455.23 1532.99 1459.35 Q1532.99 1462.22 1531.35 1464.21 Q1529.7 1466.18 1526.67 1466.95 Z\" fill=\"#000000\" fill-rule=\"evenodd\" fill-opacity=\"1\" /><path clip-path=\"url(#clip590)\" d=\"M1873.54 1454.1 Q1869.93 1454.1 1868.1 1457.66 Q1866.29 1461.2 1866.29 1468.33 Q1866.29 1475.44 1868.1 1479.01 Q1869.93 1482.55 1873.54 1482.55 Q1877.17 1482.55 1878.98 1479.01 Q1880.81 1475.44 1880.81 1468.33 Q1880.81 1461.2 1878.98 1457.66 Q1877.17 1454.1 1873.54 1454.1 M1873.54 1450.39 Q1879.35 1450.39 1882.41 1455 Q1885.48 1459.58 1885.48 1468.33 Q1885.48 1477.06 1882.41 1481.67 Q1879.35 1486.25 1873.54 1486.25 Q1867.73 1486.25 1864.65 1481.67 Q1861.6 1477.06 1861.6 1468.33 Q1861.6 1459.58 1864.65 1455 Q1867.73 1450.39 1873.54 1450.39 Z\" fill=\"#000000\" fill-rule=\"evenodd\" fill-opacity=\"1\" /><path clip-path=\"url(#clip590)\" d=\"M1893.7 1479.7 L1898.59 1479.7 L1898.59 1485.58 L1893.7 1485.58 L1893.7 1479.7 Z\" fill=\"#000000\" fill-rule=\"evenodd\" fill-opacity=\"1\" /><path clip-path=\"url(#clip590)\" d=\"M1921.62 1455.09 L1909.81 1473.54 L1921.62 1473.54 L1921.62 1455.09 M1920.39 1451.02 L1926.27 1451.02 L1926.27 1473.54 L1931.2 1473.54 L1931.2 1477.43 L1926.27 1477.43 L1926.27 1485.58 L1921.62 1485.58 L1921.62 1477.43 L1906.02 1477.43 L1906.02 1472.92 L1920.39 1451.02 Z\" fill=\"#000000\" fill-rule=\"evenodd\" fill-opacity=\"1\" /><path clip-path=\"url(#clip590)\" d=\"M2271.11 1454.1 Q2267.5 1454.1 2265.67 1457.66 Q2263.87 1461.2 2263.87 1468.33 Q2263.87 1475.44 2265.67 1479.01 Q2267.5 1482.55 2271.11 1482.55 Q2274.75 1482.55 2276.55 1479.01 Q2278.38 1475.44 2278.38 1468.33 Q2278.38 1461.2 2276.55 1457.66 Q2274.75 1454.1 2271.11 1454.1 M2271.11 1450.39 Q2276.92 1450.39 2279.98 1455 Q2283.06 1459.58 2283.06 1468.33 Q2283.06 1477.06 2279.98 1481.67 Q2276.92 1486.25 2271.11 1486.25 Q2265.3 1486.25 2262.22 1481.67 Q2259.17 1477.06 2259.17 1468.33 Q2259.17 1459.58 2262.22 1455 Q2265.3 1450.39 2271.11 1450.39 Z\" fill=\"#000000\" fill-rule=\"evenodd\" fill-opacity=\"1\" /><path clip-path=\"url(#clip590)\" d=\"M2291.27 1479.7 L2296.16 1479.7 L2296.16 1485.58 L2291.27 1485.58 L2291.27 1479.7 Z\" fill=\"#000000\" fill-rule=\"evenodd\" fill-opacity=\"1\" /><path clip-path=\"url(#clip590)\" d=\"M2306.39 1451.02 L2324.75 1451.02 L2324.75 1454.96 L2310.67 1454.96 L2310.67 1463.43 Q2311.69 1463.08 2312.71 1462.92 Q2313.73 1462.73 2314.75 1462.73 Q2320.53 1462.73 2323.91 1465.9 Q2327.29 1469.08 2327.29 1474.49 Q2327.29 1480.07 2323.82 1483.17 Q2320.35 1486.25 2314.03 1486.25 Q2311.85 1486.25 2309.59 1485.88 Q2307.34 1485.51 2304.93 1484.77 L2304.93 1480.07 Q2307.02 1481.2 2309.24 1481.76 Q2311.46 1482.32 2313.94 1482.32 Q2317.94 1482.32 2320.28 1480.21 Q2322.62 1478.1 2322.62 1474.49 Q2322.62 1470.88 2320.28 1468.77 Q2317.94 1466.67 2313.94 1466.67 Q2312.06 1466.67 2310.19 1467.08 Q2308.34 1467.5 2306.39 1468.38 L2306.39 1451.02 Z\" fill=\"#000000\" fill-rule=\"evenodd\" fill-opacity=\"1\" /><path clip-path=\"url(#clip590)\" d=\"M746.871 1525.81 L746.871 1543.66 L754.955 1543.66 Q759.443 1543.66 761.894 1541.34 Q764.345 1539.02 764.345 1534.72 Q764.345 1530.45 761.894 1528.13 Q759.443 1525.81 754.955 1525.81 L746.871 1525.81 M740.442 1520.52 L754.955 1520.52 Q762.944 1520.52 767.018 1524.15 Q771.124 1527.75 771.124 1534.72 Q771.124 1541.75 767.018 1545.35 Q762.944 1548.95 754.955 1548.95 L746.871 1548.95 L746.871 1568.04 L740.442 1568.04 L740.442 1520.52 Z\" fill=\"#000000\" fill-rule=\"evenodd\" fill-opacity=\"1\" /><path clip-path=\"url(#clip590)\" d=\"M799.006 1537.87 Q798.019 1537.3 796.842 1537.04 Q795.696 1536.76 794.295 1536.76 Q789.33 1536.76 786.657 1540 Q784.015 1543.22 784.015 1549.27 L784.015 1568.04 L778.127 1568.04 L778.127 1532.4 L784.015 1532.4 L784.015 1537.93 Q785.861 1534.69 788.821 1533.13 Q791.781 1531.54 796.014 1531.54 Q796.619 1531.54 797.351 1531.63 Q798.083 1531.7 798.974 1531.85 L799.006 1537.87 Z\" fill=\"#000000\" fill-rule=\"evenodd\" fill-opacity=\"1\" /><path clip-path=\"url(#clip590)\" d=\"M817.53 1536.5 Q812.82 1536.5 810.082 1540.19 Q807.345 1543.85 807.345 1550.25 Q807.345 1556.65 810.051 1560.34 Q812.788 1564 817.53 1564 Q822.209 1564 824.946 1560.31 Q827.684 1556.62 827.684 1550.25 Q827.684 1543.92 824.946 1540.23 Q822.209 1536.5 817.53 1536.5 M817.53 1531.54 Q825.169 1531.54 829.53 1536.5 Q833.89 1541.47 833.89 1550.25 Q833.89 1559 829.53 1564 Q825.169 1568.97 817.53 1568.97 Q809.86 1568.97 805.499 1564 Q801.17 1559 801.17 1550.25 Q801.17 1541.47 805.499 1536.5 Q809.86 1531.54 817.53 1531.54 Z\" fill=\"#000000\" fill-rule=\"evenodd\" fill-opacity=\"1\" /><path clip-path=\"url(#clip590)\" d=\"M849.263 1562.7 L849.263 1581.6 L843.375 1581.6 L843.375 1532.4 L849.263 1532.4 L849.263 1537.81 Q851.109 1534.62 853.91 1533.1 Q856.743 1531.54 860.658 1531.54 Q867.151 1531.54 871.193 1536.69 Q875.267 1541.85 875.267 1550.25 Q875.267 1558.65 871.193 1563.81 Q867.151 1568.97 860.658 1568.97 Q856.743 1568.97 853.91 1567.44 Q851.109 1565.88 849.263 1562.7 M869.188 1550.25 Q869.188 1543.79 866.514 1540.13 Q863.873 1536.44 859.226 1536.44 Q854.579 1536.44 851.905 1540.13 Q849.263 1543.79 849.263 1550.25 Q849.263 1556.71 851.905 1560.4 Q854.579 1564.07 859.226 1564.07 Q863.873 1564.07 866.514 1560.4 Q869.188 1556.71 869.188 1550.25 Z\" fill=\"#000000\" fill-rule=\"evenodd\" fill-opacity=\"1\" /><path clip-path=\"url(#clip590)\" d=\"M898.789 1536.5 Q894.078 1536.5 891.341 1540.19 Q888.603 1543.85 888.603 1550.25 Q888.603 1556.65 891.309 1560.34 Q894.046 1564 898.789 1564 Q903.467 1564 906.205 1560.31 Q908.942 1556.62 908.942 1550.25 Q908.942 1543.92 906.205 1540.23 Q903.467 1536.5 898.789 1536.5 M898.789 1531.54 Q906.427 1531.54 910.788 1536.5 Q915.148 1541.47 915.148 1550.25 Q915.148 1559 910.788 1564 Q906.427 1568.97 898.789 1568.97 Q891.118 1568.97 886.757 1564 Q882.429 1559 882.429 1550.25 Q882.429 1541.47 886.757 1536.5 Q891.118 1531.54 898.789 1531.54 Z\" fill=\"#000000\" fill-rule=\"evenodd\" fill-opacity=\"1\" /><path clip-path=\"url(#clip590)\" d=\"M945.513 1537.87 Q944.526 1537.3 943.349 1537.04 Q942.203 1536.76 940.802 1536.76 Q935.837 1536.76 933.163 1540 Q930.522 1543.22 930.522 1549.27 L930.522 1568.04 L924.633 1568.04 L924.633 1532.4 L930.522 1532.4 L930.522 1537.93 Q932.368 1534.69 935.328 1533.13 Q938.288 1531.54 942.521 1531.54 Q943.126 1531.54 943.858 1531.63 Q944.59 1531.7 945.481 1531.85 L945.513 1537.87 Z\" fill=\"#000000\" fill-rule=\"evenodd\" fill-opacity=\"1\" /><path clip-path=\"url(#clip590)\" d=\"M957.449 1522.27 L957.449 1532.4 L969.512 1532.4 L969.512 1536.95 L957.449 1536.95 L957.449 1556.3 Q957.449 1560.66 958.626 1561.9 Q959.836 1563.14 963.496 1563.14 L969.512 1563.14 L969.512 1568.04 L963.496 1568.04 Q956.716 1568.04 954.138 1565.53 Q951.56 1562.98 951.56 1556.3 L951.56 1536.95 L947.263 1536.95 L947.263 1532.4 L951.56 1532.4 L951.56 1522.27 L957.449 1522.27 Z\" fill=\"#000000\" fill-rule=\"evenodd\" fill-opacity=\"1\" /><path clip-path=\"url(#clip590)\" d=\"M977.214 1532.4 L983.071 1532.4 L983.071 1568.04 L977.214 1568.04 L977.214 1532.4 M977.214 1518.52 L983.071 1518.52 L983.071 1525.93 L977.214 1525.93 L977.214 1518.52 Z\" fill=\"#000000\" fill-rule=\"evenodd\" fill-opacity=\"1\" /><path clip-path=\"url(#clip590)\" d=\"M1009.14 1536.5 Q1004.43 1536.5 1001.69 1540.19 Q998.953 1543.85 998.953 1550.25 Q998.953 1556.65 1001.66 1560.34 Q1004.4 1564 1009.14 1564 Q1013.82 1564 1016.55 1560.31 Q1019.29 1556.62 1019.29 1550.25 Q1019.29 1543.92 1016.55 1540.23 Q1013.82 1536.5 1009.14 1536.5 M1009.14 1531.54 Q1016.78 1531.54 1021.14 1536.5 Q1025.5 1541.47 1025.5 1550.25 Q1025.5 1559 1021.14 1564 Q1016.78 1568.97 1009.14 1568.97 Q1001.47 1568.97 997.107 1564 Q992.778 1559 992.778 1550.25 Q992.778 1541.47 997.107 1536.5 Q1001.47 1531.54 1009.14 1531.54 Z\" fill=\"#000000\" fill-rule=\"evenodd\" fill-opacity=\"1\" /><path clip-path=\"url(#clip590)\" d=\"M1064.84 1546.53 L1064.84 1568.04 L1058.98 1568.04 L1058.98 1546.72 Q1058.98 1541.66 1057.01 1539.14 Q1055.03 1536.63 1051.09 1536.63 Q1046.35 1536.63 1043.61 1539.65 Q1040.87 1542.68 1040.87 1547.9 L1040.87 1568.04 L1034.98 1568.04 L1034.98 1532.4 L1040.87 1532.4 L1040.87 1537.93 Q1042.97 1534.72 1045.8 1533.13 Q1048.67 1531.54 1052.39 1531.54 Q1058.54 1531.54 1061.69 1535.36 Q1064.84 1539.14 1064.84 1546.53 Z\" fill=\"#000000\" fill-rule=\"evenodd\" fill-opacity=\"1\" /><path clip-path=\"url(#clip590)\" d=\"M1111.05 1536.5 Q1106.34 1536.5 1103.61 1540.19 Q1100.87 1543.85 1100.87 1550.25 Q1100.87 1556.65 1103.57 1560.34 Q1106.31 1564 1111.05 1564 Q1115.73 1564 1118.47 1560.31 Q1121.21 1556.62 1121.21 1550.25 Q1121.21 1543.92 1118.47 1540.23 Q1115.73 1536.5 1111.05 1536.5 M1111.05 1531.54 Q1118.69 1531.54 1123.05 1536.5 Q1127.41 1541.47 1127.41 1550.25 Q1127.41 1559 1123.05 1564 Q1118.69 1568.97 1111.05 1568.97 Q1103.38 1568.97 1099.02 1564 Q1094.69 1559 1094.69 1550.25 Q1094.69 1541.47 1099.02 1536.5 Q1103.38 1531.54 1111.05 1531.54 Z\" fill=\"#000000\" fill-rule=\"evenodd\" fill-opacity=\"1\" /><path clip-path=\"url(#clip590)\" d=\"M1155.17 1518.52 L1155.17 1523.39 L1149.57 1523.39 Q1146.41 1523.39 1145.17 1524.66 Q1143.96 1525.93 1143.96 1529.24 L1143.96 1532.4 L1153.61 1532.4 L1153.61 1536.95 L1143.96 1536.95 L1143.96 1568.04 L1138.08 1568.04 L1138.08 1536.95 L1132.47 1536.95 L1132.47 1532.4 L1138.08 1532.4 L1138.08 1529.91 Q1138.08 1523.96 1140.84 1521.26 Q1143.61 1518.52 1149.63 1518.52 L1155.17 1518.52 Z\" fill=\"#000000\" fill-rule=\"evenodd\" fill-opacity=\"1\" /><path clip-path=\"url(#clip590)\" d=\"M1186.45 1562.7 L1186.45 1581.6 L1180.57 1581.6 L1180.57 1532.4 L1186.45 1532.4 L1186.45 1537.81 Q1188.3 1534.62 1191.1 1533.1 Q1193.93 1531.54 1197.85 1531.54 Q1204.34 1531.54 1208.38 1536.69 Q1212.46 1541.85 1212.46 1550.25 Q1212.46 1558.65 1208.38 1563.81 Q1204.34 1568.97 1197.85 1568.97 Q1193.93 1568.97 1191.1 1567.44 Q1188.3 1565.88 1186.45 1562.7 M1206.38 1550.25 Q1206.38 1543.79 1203.71 1540.13 Q1201.06 1536.44 1196.42 1536.44 Q1191.77 1536.44 1189.1 1540.13 Q1186.45 1543.79 1186.45 1550.25 Q1186.45 1556.71 1189.1 1560.4 Q1191.77 1564.07 1196.42 1564.07 Q1201.06 1564.07 1203.71 1560.4 Q1206.38 1556.71 1206.38 1550.25 Z\" fill=\"#000000\" fill-rule=\"evenodd\" fill-opacity=\"1\" /><path clip-path=\"url(#clip590)\" d=\"M1235.98 1536.5 Q1231.27 1536.5 1228.53 1540.19 Q1225.79 1543.85 1225.79 1550.25 Q1225.79 1556.65 1228.5 1560.34 Q1231.24 1564 1235.98 1564 Q1240.66 1564 1243.4 1560.31 Q1246.13 1556.62 1246.13 1550.25 Q1246.13 1543.92 1243.4 1540.23 Q1240.66 1536.5 1235.98 1536.5 M1235.98 1531.54 Q1243.62 1531.54 1247.98 1536.5 Q1252.34 1541.47 1252.34 1550.25 Q1252.34 1559 1247.98 1564 Q1243.62 1568.97 1235.98 1568.97 Q1228.31 1568.97 1223.95 1564 Q1219.62 1559 1219.62 1550.25 Q1219.62 1541.47 1223.95 1536.5 Q1228.31 1531.54 1235.98 1531.54 Z\" fill=\"#000000\" fill-rule=\"evenodd\" fill-opacity=\"1\" /><path clip-path=\"url(#clip590)\" d=\"M1267.71 1562.7 L1267.71 1581.6 L1261.82 1581.6 L1261.82 1532.4 L1267.71 1532.4 L1267.71 1537.81 Q1269.56 1534.62 1272.36 1533.1 Q1275.19 1531.54 1279.11 1531.54 Q1285.6 1531.54 1289.64 1536.69 Q1293.72 1541.85 1293.72 1550.25 Q1293.72 1558.65 1289.64 1563.81 Q1285.6 1568.97 1279.11 1568.97 Q1275.19 1568.97 1272.36 1567.44 Q1269.56 1565.88 1267.71 1562.7 M1287.64 1550.25 Q1287.64 1543.79 1284.96 1540.13 Q1282.32 1536.44 1277.68 1536.44 Q1273.03 1536.44 1270.35 1540.13 Q1267.71 1543.79 1267.71 1550.25 Q1267.71 1556.71 1270.35 1560.4 Q1273.03 1564.07 1277.68 1564.07 Q1282.32 1564.07 1284.96 1560.4 Q1287.64 1556.71 1287.64 1550.25 Z\" fill=\"#000000\" fill-rule=\"evenodd\" fill-opacity=\"1\" /><path clip-path=\"url(#clip590)\" d=\"M1302.82 1553.98 L1302.82 1532.4 L1308.68 1532.4 L1308.68 1553.75 Q1308.68 1558.81 1310.65 1561.36 Q1312.62 1563.87 1316.57 1563.87 Q1321.31 1563.87 1324.05 1560.85 Q1326.82 1557.83 1326.82 1552.61 L1326.82 1532.4 L1332.68 1532.4 L1332.68 1568.04 L1326.82 1568.04 L1326.82 1562.57 Q1324.69 1565.82 1321.85 1567.41 Q1319.05 1568.97 1315.33 1568.97 Q1309.19 1568.97 1306 1565.15 Q1302.82 1561.33 1302.82 1553.98 M1317.56 1531.54 L1317.56 1531.54 Z\" fill=\"#000000\" fill-rule=\"evenodd\" fill-opacity=\"1\" /><path clip-path=\"url(#clip590)\" d=\"M1344.74 1518.52 L1350.59 1518.52 L1350.59 1568.04 L1344.74 1568.04 L1344.74 1518.52 Z\" fill=\"#000000\" fill-rule=\"evenodd\" fill-opacity=\"1\" /><path clip-path=\"url(#clip590)\" d=\"M1379.05 1550.12 Q1371.95 1550.12 1369.21 1551.75 Q1366.48 1553.37 1366.48 1557.29 Q1366.48 1560.4 1368.51 1562.25 Q1370.58 1564.07 1374.12 1564.07 Q1378.99 1564.07 1381.91 1560.63 Q1384.87 1557.16 1384.87 1551.43 L1384.87 1550.12 L1379.05 1550.12 M1390.73 1547.71 L1390.73 1568.04 L1384.87 1568.04 L1384.87 1562.63 Q1382.87 1565.88 1379.88 1567.44 Q1376.88 1568.97 1372.56 1568.97 Q1367.08 1568.97 1363.84 1565.91 Q1360.62 1562.82 1360.62 1557.67 Q1360.62 1551.65 1364.63 1548.6 Q1368.67 1545.54 1376.66 1545.54 L1384.87 1545.54 L1384.87 1544.97 Q1384.87 1540.93 1382.2 1538.73 Q1379.56 1536.5 1374.75 1536.5 Q1371.7 1536.5 1368.8 1537.23 Q1365.9 1537.97 1363.23 1539.43 L1363.23 1534.02 Q1366.45 1532.78 1369.47 1532.17 Q1372.49 1531.54 1375.36 1531.54 Q1383.09 1531.54 1386.91 1535.55 Q1390.73 1539.56 1390.73 1547.71 Z\" fill=\"#000000\" fill-rule=\"evenodd\" fill-opacity=\"1\" /><path clip-path=\"url(#clip590)\" d=\"M1408.59 1522.27 L1408.59 1532.4 L1420.65 1532.4 L1420.65 1536.95 L1408.59 1536.95 L1408.59 1556.3 Q1408.59 1560.66 1409.76 1561.9 Q1410.97 1563.14 1414.63 1563.14 L1420.65 1563.14 L1420.65 1568.04 L1414.63 1568.04 Q1407.85 1568.04 1405.28 1565.53 Q1402.7 1562.98 1402.7 1556.3 L1402.7 1536.95 L1398.4 1536.95 L1398.4 1532.4 L1402.7 1532.4 L1402.7 1522.27 L1408.59 1522.27 Z\" fill=\"#000000\" fill-rule=\"evenodd\" fill-opacity=\"1\" /><path clip-path=\"url(#clip590)\" d=\"M1428.35 1532.4 L1434.21 1532.4 L1434.21 1568.04 L1428.35 1568.04 L1428.35 1532.4 M1428.35 1518.52 L1434.21 1518.52 L1434.21 1525.93 L1428.35 1525.93 L1428.35 1518.52 Z\" fill=\"#000000\" fill-rule=\"evenodd\" fill-opacity=\"1\" /><path clip-path=\"url(#clip590)\" d=\"M1460.28 1536.5 Q1455.57 1536.5 1452.83 1540.19 Q1450.09 1543.85 1450.09 1550.25 Q1450.09 1556.65 1452.8 1560.34 Q1455.53 1564 1460.28 1564 Q1464.95 1564 1467.69 1560.31 Q1470.43 1556.62 1470.43 1550.25 Q1470.43 1543.92 1467.69 1540.23 Q1464.95 1536.5 1460.28 1536.5 M1460.28 1531.54 Q1467.91 1531.54 1472.28 1536.5 Q1476.64 1541.47 1476.64 1550.25 Q1476.64 1559 1472.28 1564 Q1467.91 1568.97 1460.28 1568.97 Q1452.61 1568.97 1448.24 1564 Q1443.92 1559 1443.92 1550.25 Q1443.92 1541.47 1448.24 1536.5 Q1452.61 1531.54 1460.28 1531.54 Z\" fill=\"#000000\" fill-rule=\"evenodd\" fill-opacity=\"1\" /><path clip-path=\"url(#clip590)\" d=\"M1515.98 1546.53 L1515.98 1568.04 L1510.12 1568.04 L1510.12 1546.72 Q1510.12 1541.66 1508.15 1539.14 Q1506.17 1536.63 1502.23 1536.63 Q1497.48 1536.63 1494.75 1539.65 Q1492.01 1542.68 1492.01 1547.9 L1492.01 1568.04 L1486.12 1568.04 L1486.12 1532.4 L1492.01 1532.4 L1492.01 1537.93 Q1494.11 1534.72 1496.94 1533.13 Q1499.81 1531.54 1503.53 1531.54 Q1509.67 1531.54 1512.82 1535.36 Q1515.98 1539.14 1515.98 1546.53 Z\" fill=\"#000000\" fill-rule=\"evenodd\" fill-opacity=\"1\" /><path clip-path=\"url(#clip590)\" d=\"M1548.38 1532.4 L1554.23 1532.4 L1554.23 1568.04 L1548.38 1568.04 L1548.38 1532.4 M1548.38 1518.52 L1554.23 1518.52 L1554.23 1525.93 L1548.38 1525.93 L1548.38 1518.52 Z\" fill=\"#000000\" fill-rule=\"evenodd\" fill-opacity=\"1\" /><path clip-path=\"url(#clip590)\" d=\"M1596.12 1546.53 L1596.12 1568.04 L1590.26 1568.04 L1590.26 1546.72 Q1590.26 1541.66 1588.29 1539.14 Q1586.32 1536.63 1582.37 1536.63 Q1577.63 1536.63 1574.89 1539.65 Q1572.15 1542.68 1572.15 1547.9 L1572.15 1568.04 L1566.26 1568.04 L1566.26 1532.4 L1572.15 1532.4 L1572.15 1537.93 Q1574.25 1534.72 1577.09 1533.13 Q1579.95 1531.54 1583.67 1531.54 Q1589.82 1531.54 1592.97 1535.36 Q1596.12 1539.14 1596.12 1546.53 Z\" fill=\"#000000\" fill-rule=\"evenodd\" fill-opacity=\"1\" /><path clip-path=\"url(#clip590)\" d=\"M1625.85 1518.52 L1625.85 1523.39 L1620.25 1523.39 Q1617.09 1523.39 1615.85 1524.66 Q1614.64 1525.93 1614.64 1529.24 L1614.64 1532.4 L1624.29 1532.4 L1624.29 1536.95 L1614.64 1536.95 L1614.64 1568.04 L1608.76 1568.04 L1608.76 1536.95 L1603.15 1536.95 L1603.15 1532.4 L1608.76 1532.4 L1608.76 1529.91 Q1608.76 1523.96 1611.52 1521.26 Q1614.29 1518.52 1620.31 1518.52 L1625.85 1518.52 Z\" fill=\"#000000\" fill-rule=\"evenodd\" fill-opacity=\"1\" /><path clip-path=\"url(#clip590)\" d=\"M1661.24 1548.76 L1661.24 1551.62 L1634.31 1551.62 Q1634.7 1557.67 1637.94 1560.85 Q1641.22 1564 1647.05 1564 Q1650.42 1564 1653.57 1563.17 Q1656.75 1562.35 1659.87 1560.69 L1659.87 1566.23 Q1656.72 1567.57 1653.41 1568.27 Q1650.1 1568.97 1646.7 1568.97 Q1638.17 1568.97 1633.17 1564 Q1628.2 1559.04 1628.2 1550.57 Q1628.2 1541.82 1632.91 1536.69 Q1637.66 1531.54 1645.68 1531.54 Q1652.87 1531.54 1657.04 1536.18 Q1661.24 1540.8 1661.24 1548.76 M1655.38 1547.04 Q1655.32 1542.23 1652.68 1539.37 Q1650.07 1536.5 1645.74 1536.5 Q1640.84 1536.5 1637.88 1539.27 Q1634.95 1542.04 1634.51 1547.07 L1655.38 1547.04 Z\" fill=\"#000000\" fill-rule=\"evenodd\" fill-opacity=\"1\" /><path clip-path=\"url(#clip590)\" d=\"M1696.51 1533.76 L1696.51 1539.24 Q1694.02 1537.87 1691.51 1537.2 Q1689.03 1536.5 1686.48 1536.5 Q1680.78 1536.5 1677.63 1540.13 Q1674.48 1543.73 1674.48 1550.25 Q1674.48 1556.78 1677.63 1560.4 Q1680.78 1564 1686.48 1564 Q1689.03 1564 1691.51 1563.33 Q1694.02 1562.63 1696.51 1561.26 L1696.51 1566.68 Q1694.06 1567.82 1691.41 1568.39 Q1688.8 1568.97 1685.84 1568.97 Q1677.79 1568.97 1673.05 1563.91 Q1668.31 1558.85 1668.31 1550.25 Q1668.31 1541.53 1673.08 1536.53 Q1677.89 1531.54 1686.23 1531.54 Q1688.93 1531.54 1691.51 1532.11 Q1694.09 1532.65 1696.51 1533.76 Z\" fill=\"#000000\" fill-rule=\"evenodd\" fill-opacity=\"1\" /><path clip-path=\"url(#clip590)\" d=\"M1712.49 1522.27 L1712.49 1532.4 L1724.55 1532.4 L1724.55 1536.95 L1712.49 1536.95 L1712.49 1556.3 Q1712.49 1560.66 1713.66 1561.9 Q1714.87 1563.14 1718.53 1563.14 L1724.55 1563.14 L1724.55 1568.04 L1718.53 1568.04 Q1711.75 1568.04 1709.17 1565.53 Q1706.6 1562.98 1706.6 1556.3 L1706.6 1536.95 L1702.3 1536.95 L1702.3 1532.4 L1706.6 1532.4 L1706.6 1522.27 L1712.49 1522.27 Z\" fill=\"#000000\" fill-rule=\"evenodd\" fill-opacity=\"1\" /><path clip-path=\"url(#clip590)\" d=\"M1762.74 1548.76 L1762.74 1551.62 L1735.82 1551.62 Q1736.2 1557.67 1739.44 1560.85 Q1742.72 1564 1748.55 1564 Q1751.92 1564 1755.07 1563.17 Q1758.25 1562.35 1761.37 1560.69 L1761.37 1566.23 Q1758.22 1567.57 1754.91 1568.27 Q1751.6 1568.97 1748.2 1568.97 Q1739.67 1568.97 1734.67 1564 Q1729.7 1559.04 1729.7 1550.57 Q1729.7 1541.82 1734.41 1536.69 Q1739.16 1531.54 1747.18 1531.54 Q1754.37 1531.54 1758.54 1536.18 Q1762.74 1540.8 1762.74 1548.76 M1756.89 1547.04 Q1756.82 1542.23 1754.18 1539.37 Q1751.57 1536.5 1747.24 1536.5 Q1742.34 1536.5 1739.38 1539.27 Q1736.45 1542.04 1736.01 1547.07 L1756.89 1547.04 Z\" fill=\"#000000\" fill-rule=\"evenodd\" fill-opacity=\"1\" /><path clip-path=\"url(#clip590)\" d=\"M1795.81 1537.81 L1795.81 1518.52 L1801.67 1518.52 L1801.67 1568.04 L1795.81 1568.04 L1795.81 1562.7 Q1793.97 1565.88 1791.13 1567.44 Q1788.33 1568.97 1784.39 1568.97 Q1777.92 1568.97 1773.85 1563.81 Q1769.81 1558.65 1769.81 1550.25 Q1769.81 1541.85 1773.85 1536.69 Q1777.92 1531.54 1784.39 1531.54 Q1788.33 1531.54 1791.13 1533.1 Q1793.97 1534.62 1795.81 1537.81 M1775.86 1550.25 Q1775.86 1556.71 1778.5 1560.4 Q1781.17 1564.07 1785.82 1564.07 Q1790.46 1564.07 1793.14 1560.4 Q1795.81 1556.71 1795.81 1550.25 Q1795.81 1543.79 1793.14 1540.13 Q1790.46 1536.44 1785.82 1536.44 Q1781.17 1536.44 1778.5 1540.13 Q1775.86 1543.79 1775.86 1550.25 Z\" fill=\"#000000\" fill-rule=\"evenodd\" fill-opacity=\"1\" /><path clip-path=\"url(#clip590)\" d=\"M1815.23 1559.96 L1821.94 1559.96 L1821.94 1565.43 L1816.72 1575.62 L1812.62 1575.62 L1815.23 1565.43 L1815.23 1559.96 Z\" fill=\"#000000\" fill-rule=\"evenodd\" fill-opacity=\"1\" /><path clip-path=\"url(#clip590)\" d=\"M1855.43 1520.52 L1861.86 1520.52 L1861.86 1568.04 L1855.43 1568.04 L1855.43 1520.52 Z\" fill=\"#000000\" fill-rule=\"evenodd\" fill-opacity=\"1\" /><polyline clip-path=\"url(#clip592)\" style=\"stroke:#000000; stroke-linecap:round; stroke-linejoin:round; stroke-width:2; stroke-opacity:0.1; fill:none\" points=\"\n",
       "  249.542,1384.24 2352.76,1384.24 \n",
       "  \"/>\n",
       "<polyline clip-path=\"url(#clip592)\" style=\"stroke:#000000; stroke-linecap:round; stroke-linejoin:round; stroke-width:2; stroke-opacity:0.1; fill:none\" points=\"\n",
       "  249.542,1121.26 2352.76,1121.26 \n",
       "  \"/>\n",
       "<polyline clip-path=\"url(#clip592)\" style=\"stroke:#000000; stroke-linecap:round; stroke-linejoin:round; stroke-width:2; stroke-opacity:0.1; fill:none\" points=\"\n",
       "  249.542,858.288 2352.76,858.288 \n",
       "  \"/>\n",
       "<polyline clip-path=\"url(#clip592)\" style=\"stroke:#000000; stroke-linecap:round; stroke-linejoin:round; stroke-width:2; stroke-opacity:0.1; fill:none\" points=\"\n",
       "  249.542,595.312 2352.76,595.312 \n",
       "  \"/>\n",
       "<polyline clip-path=\"url(#clip592)\" style=\"stroke:#000000; stroke-linecap:round; stroke-linejoin:round; stroke-width:2; stroke-opacity:0.1; fill:none\" points=\"\n",
       "  249.542,332.337 2352.76,332.337 \n",
       "  \"/>\n",
       "<polyline clip-path=\"url(#clip592)\" style=\"stroke:#000000; stroke-linecap:round; stroke-linejoin:round; stroke-width:2; stroke-opacity:0.1; fill:none\" points=\"\n",
       "  249.542,69.3614 2352.76,69.3614 \n",
       "  \"/>\n",
       "<polyline clip-path=\"url(#clip590)\" style=\"stroke:#000000; stroke-linecap:round; stroke-linejoin:round; stroke-width:4; stroke-opacity:1; fill:none\" points=\"\n",
       "  249.542,1423.18 249.542,47.2441 \n",
       "  \"/>\n",
       "<polyline clip-path=\"url(#clip590)\" style=\"stroke:#000000; stroke-linecap:round; stroke-linejoin:round; stroke-width:4; stroke-opacity:1; fill:none\" points=\"\n",
       "  249.542,1384.24 268.44,1384.24 \n",
       "  \"/>\n",
       "<polyline clip-path=\"url(#clip590)\" style=\"stroke:#000000; stroke-linecap:round; stroke-linejoin:round; stroke-width:4; stroke-opacity:1; fill:none\" points=\"\n",
       "  249.542,1121.26 268.44,1121.26 \n",
       "  \"/>\n",
       "<polyline clip-path=\"url(#clip590)\" style=\"stroke:#000000; stroke-linecap:round; stroke-linejoin:round; stroke-width:4; stroke-opacity:1; fill:none\" points=\"\n",
       "  249.542,858.288 268.44,858.288 \n",
       "  \"/>\n",
       "<polyline clip-path=\"url(#clip590)\" style=\"stroke:#000000; stroke-linecap:round; stroke-linejoin:round; stroke-width:4; stroke-opacity:1; fill:none\" points=\"\n",
       "  249.542,595.312 268.44,595.312 \n",
       "  \"/>\n",
       "<polyline clip-path=\"url(#clip590)\" style=\"stroke:#000000; stroke-linecap:round; stroke-linejoin:round; stroke-width:4; stroke-opacity:1; fill:none\" points=\"\n",
       "  249.542,332.337 268.44,332.337 \n",
       "  \"/>\n",
       "<polyline clip-path=\"url(#clip590)\" style=\"stroke:#000000; stroke-linecap:round; stroke-linejoin:round; stroke-width:4; stroke-opacity:1; fill:none\" points=\"\n",
       "  249.542,69.3614 268.44,69.3614 \n",
       "  \"/>\n",
       "<path clip-path=\"url(#clip590)\" d=\"M126.205 1370.04 Q122.593 1370.04 120.765 1373.6 Q118.959 1377.14 118.959 1384.27 Q118.959 1391.38 120.765 1394.94 Q122.593 1398.49 126.205 1398.49 Q129.839 1398.49 131.644 1394.94 Q133.473 1391.38 133.473 1384.27 Q133.473 1377.14 131.644 1373.6 Q129.839 1370.04 126.205 1370.04 M126.205 1366.33 Q132.015 1366.33 135.07 1370.94 Q138.149 1375.52 138.149 1384.27 Q138.149 1393 135.07 1397.61 Q132.015 1402.19 126.205 1402.19 Q120.394 1402.19 117.316 1397.61 Q114.26 1393 114.26 1384.27 Q114.26 1375.52 117.316 1370.94 Q120.394 1366.33 126.205 1366.33 Z\" fill=\"#000000\" fill-rule=\"evenodd\" fill-opacity=\"1\" /><path clip-path=\"url(#clip590)\" d=\"M146.366 1395.64 L151.251 1395.64 L151.251 1401.52 L146.366 1401.52 L146.366 1395.64 Z\" fill=\"#000000\" fill-rule=\"evenodd\" fill-opacity=\"1\" /><path clip-path=\"url(#clip590)\" d=\"M171.436 1370.04 Q167.825 1370.04 165.996 1373.6 Q164.19 1377.14 164.19 1384.27 Q164.19 1391.38 165.996 1394.94 Q167.825 1398.49 171.436 1398.49 Q175.07 1398.49 176.876 1394.94 Q178.704 1391.38 178.704 1384.27 Q178.704 1377.14 176.876 1373.6 Q175.07 1370.04 171.436 1370.04 M171.436 1366.33 Q177.246 1366.33 180.301 1370.94 Q183.38 1375.52 183.38 1384.27 Q183.38 1393 180.301 1397.61 Q177.246 1402.19 171.436 1402.19 Q165.626 1402.19 162.547 1397.61 Q159.491 1393 159.491 1384.27 Q159.491 1375.52 162.547 1370.94 Q165.626 1366.33 171.436 1366.33 Z\" fill=\"#000000\" fill-rule=\"evenodd\" fill-opacity=\"1\" /><path clip-path=\"url(#clip590)\" d=\"M201.598 1370.04 Q197.987 1370.04 196.158 1373.6 Q194.352 1377.14 194.352 1384.27 Q194.352 1391.38 196.158 1394.94 Q197.987 1398.49 201.598 1398.49 Q205.232 1398.49 207.037 1394.94 Q208.866 1391.38 208.866 1384.27 Q208.866 1377.14 207.037 1373.6 Q205.232 1370.04 201.598 1370.04 M201.598 1366.33 Q207.408 1366.33 210.463 1370.94 Q213.542 1375.52 213.542 1384.27 Q213.542 1393 210.463 1397.61 Q207.408 1402.19 201.598 1402.19 Q195.787 1402.19 192.709 1397.61 Q189.653 1393 189.653 1384.27 Q189.653 1375.52 192.709 1370.94 Q195.787 1366.33 201.598 1366.33 Z\" fill=\"#000000\" fill-rule=\"evenodd\" fill-opacity=\"1\" /><path clip-path=\"url(#clip590)\" d=\"M127.2 1107.06 Q123.589 1107.06 121.76 1110.63 Q119.955 1114.17 119.955 1121.3 Q119.955 1128.4 121.76 1131.97 Q123.589 1135.51 127.2 1135.51 Q130.834 1135.51 132.64 1131.97 Q134.468 1128.4 134.468 1121.3 Q134.468 1114.17 132.64 1110.63 Q130.834 1107.06 127.2 1107.06 M127.2 1103.36 Q133.01 1103.36 136.066 1107.96 Q139.144 1112.55 139.144 1121.3 Q139.144 1130.02 136.066 1134.63 Q133.01 1139.21 127.2 1139.21 Q121.39 1139.21 118.311 1134.63 Q115.256 1130.02 115.256 1121.3 Q115.256 1112.55 118.311 1107.96 Q121.39 1103.36 127.2 1103.36 Z\" fill=\"#000000\" fill-rule=\"evenodd\" fill-opacity=\"1\" /><path clip-path=\"url(#clip590)\" d=\"M147.362 1132.66 L152.246 1132.66 L152.246 1138.54 L147.362 1138.54 L147.362 1132.66 Z\" fill=\"#000000\" fill-rule=\"evenodd\" fill-opacity=\"1\" /><path clip-path=\"url(#clip590)\" d=\"M172.431 1107.06 Q168.82 1107.06 166.991 1110.63 Q165.186 1114.17 165.186 1121.3 Q165.186 1128.4 166.991 1131.97 Q168.82 1135.51 172.431 1135.51 Q176.065 1135.51 177.871 1131.97 Q179.7 1128.4 179.7 1121.3 Q179.7 1114.17 177.871 1110.63 Q176.065 1107.06 172.431 1107.06 M172.431 1103.36 Q178.241 1103.36 181.297 1107.96 Q184.376 1112.55 184.376 1121.3 Q184.376 1130.02 181.297 1134.63 Q178.241 1139.21 172.431 1139.21 Q166.621 1139.21 163.542 1134.63 Q160.487 1130.02 160.487 1121.3 Q160.487 1112.55 163.542 1107.96 Q166.621 1103.36 172.431 1103.36 Z\" fill=\"#000000\" fill-rule=\"evenodd\" fill-opacity=\"1\" /><path clip-path=\"url(#clip590)\" d=\"M192.639 1103.98 L210.996 1103.98 L210.996 1107.92 L196.922 1107.92 L196.922 1116.39 Q197.94 1116.04 198.959 1115.88 Q199.977 1115.7 200.996 1115.7 Q206.783 1115.7 210.162 1118.87 Q213.542 1122.04 213.542 1127.45 Q213.542 1133.03 210.07 1136.14 Q206.598 1139.21 200.278 1139.21 Q198.102 1139.21 195.834 1138.84 Q193.588 1138.47 191.181 1137.73 L191.181 1133.03 Q193.264 1134.17 195.487 1134.72 Q197.709 1135.28 200.186 1135.28 Q204.19 1135.28 206.528 1133.17 Q208.866 1131.07 208.866 1127.45 Q208.866 1123.84 206.528 1121.74 Q204.19 1119.63 200.186 1119.63 Q198.311 1119.63 196.436 1120.05 Q194.584 1120.46 192.639 1121.34 L192.639 1103.98 Z\" fill=\"#000000\" fill-rule=\"evenodd\" fill-opacity=\"1\" /><path clip-path=\"url(#clip590)\" d=\"M126.205 844.086 Q122.593 844.086 120.765 847.651 Q118.959 851.193 118.959 858.322 Q118.959 865.429 120.765 868.993 Q122.593 872.535 126.205 872.535 Q129.839 872.535 131.644 868.993 Q133.473 865.429 133.473 858.322 Q133.473 851.193 131.644 847.651 Q129.839 844.086 126.205 844.086 M126.205 840.383 Q132.015 840.383 135.07 844.989 Q138.149 849.572 138.149 858.322 Q138.149 867.049 135.07 871.656 Q132.015 876.239 126.205 876.239 Q120.394 876.239 117.316 871.656 Q114.26 867.049 114.26 858.322 Q114.26 849.572 117.316 844.989 Q120.394 840.383 126.205 840.383 Z\" fill=\"#000000\" fill-rule=\"evenodd\" fill-opacity=\"1\" /><path clip-path=\"url(#clip590)\" d=\"M146.366 869.688 L151.251 869.688 L151.251 875.568 L146.366 875.568 L146.366 869.688 Z\" fill=\"#000000\" fill-rule=\"evenodd\" fill-opacity=\"1\" /><path clip-path=\"url(#clip590)\" d=\"M162.246 871.632 L169.885 871.632 L169.885 845.267 L161.575 846.933 L161.575 842.674 L169.839 841.008 L174.514 841.008 L174.514 871.632 L182.153 871.632 L182.153 875.568 L162.246 875.568 L162.246 871.632 Z\" fill=\"#000000\" fill-rule=\"evenodd\" fill-opacity=\"1\" /><path clip-path=\"url(#clip590)\" d=\"M201.598 844.086 Q197.987 844.086 196.158 847.651 Q194.352 851.193 194.352 858.322 Q194.352 865.429 196.158 868.993 Q197.987 872.535 201.598 872.535 Q205.232 872.535 207.037 868.993 Q208.866 865.429 208.866 858.322 Q208.866 851.193 207.037 847.651 Q205.232 844.086 201.598 844.086 M201.598 840.383 Q207.408 840.383 210.463 844.989 Q213.542 849.572 213.542 858.322 Q213.542 867.049 210.463 871.656 Q207.408 876.239 201.598 876.239 Q195.787 876.239 192.709 871.656 Q189.653 867.049 189.653 858.322 Q189.653 849.572 192.709 844.989 Q195.787 840.383 201.598 840.383 Z\" fill=\"#000000\" fill-rule=\"evenodd\" fill-opacity=\"1\" /><path clip-path=\"url(#clip590)\" d=\"M127.2 581.111 Q123.589 581.111 121.76 584.676 Q119.955 588.217 119.955 595.347 Q119.955 602.453 121.76 606.018 Q123.589 609.56 127.2 609.56 Q130.834 609.56 132.64 606.018 Q134.468 602.453 134.468 595.347 Q134.468 588.217 132.64 584.676 Q130.834 581.111 127.2 581.111 M127.2 577.407 Q133.01 577.407 136.066 582.014 Q139.144 586.597 139.144 595.347 Q139.144 604.074 136.066 608.68 Q133.01 613.263 127.2 613.263 Q121.39 613.263 118.311 608.68 Q115.256 604.074 115.256 595.347 Q115.256 586.597 118.311 582.014 Q121.39 577.407 127.2 577.407 Z\" fill=\"#000000\" fill-rule=\"evenodd\" fill-opacity=\"1\" /><path clip-path=\"url(#clip590)\" d=\"M147.362 606.713 L152.246 606.713 L152.246 612.592 L147.362 612.592 L147.362 606.713 Z\" fill=\"#000000\" fill-rule=\"evenodd\" fill-opacity=\"1\" /><path clip-path=\"url(#clip590)\" d=\"M163.241 608.657 L170.88 608.657 L170.88 582.291 L162.57 583.958 L162.57 579.699 L170.834 578.032 L175.51 578.032 L175.51 608.657 L183.149 608.657 L183.149 612.592 L163.241 612.592 L163.241 608.657 Z\" fill=\"#000000\" fill-rule=\"evenodd\" fill-opacity=\"1\" /><path clip-path=\"url(#clip590)\" d=\"M192.639 578.032 L210.996 578.032 L210.996 581.967 L196.922 581.967 L196.922 590.439 Q197.94 590.092 198.959 589.93 Q199.977 589.745 200.996 589.745 Q206.783 589.745 210.162 592.916 Q213.542 596.088 213.542 601.504 Q213.542 607.083 210.07 610.185 Q206.598 613.263 200.278 613.263 Q198.102 613.263 195.834 612.893 Q193.588 612.523 191.181 611.782 L191.181 607.083 Q193.264 608.217 195.487 608.773 Q197.709 609.328 200.186 609.328 Q204.19 609.328 206.528 607.222 Q208.866 605.115 208.866 601.504 Q208.866 597.893 206.528 595.787 Q204.19 593.68 200.186 593.68 Q198.311 593.68 196.436 594.097 Q194.584 594.514 192.639 595.393 L192.639 578.032 Z\" fill=\"#000000\" fill-rule=\"evenodd\" fill-opacity=\"1\" /><path clip-path=\"url(#clip590)\" d=\"M126.205 318.135 Q122.593 318.135 120.765 321.7 Q118.959 325.242 118.959 332.372 Q118.959 339.478 120.765 343.043 Q122.593 346.584 126.205 346.584 Q129.839 346.584 131.644 343.043 Q133.473 339.478 133.473 332.372 Q133.473 325.242 131.644 321.7 Q129.839 318.135 126.205 318.135 M126.205 314.432 Q132.015 314.432 135.07 319.038 Q138.149 323.622 138.149 332.372 Q138.149 341.098 135.07 345.705 Q132.015 350.288 126.205 350.288 Q120.394 350.288 117.316 345.705 Q114.26 341.098 114.26 332.372 Q114.26 323.622 117.316 319.038 Q120.394 314.432 126.205 314.432 Z\" fill=\"#000000\" fill-rule=\"evenodd\" fill-opacity=\"1\" /><path clip-path=\"url(#clip590)\" d=\"M146.366 343.737 L151.251 343.737 L151.251 349.617 L146.366 349.617 L146.366 343.737 Z\" fill=\"#000000\" fill-rule=\"evenodd\" fill-opacity=\"1\" /><path clip-path=\"url(#clip590)\" d=\"M165.464 345.682 L181.783 345.682 L181.783 349.617 L159.839 349.617 L159.839 345.682 Q162.501 342.927 167.084 338.297 Q171.69 333.645 172.871 332.302 Q175.116 329.779 175.996 328.043 Q176.899 326.284 176.899 324.594 Q176.899 321.839 174.954 320.103 Q173.033 318.367 169.931 318.367 Q167.732 318.367 165.278 319.131 Q162.848 319.895 160.07 321.446 L160.07 316.723 Q162.894 315.589 165.348 315.01 Q167.802 314.432 169.839 314.432 Q175.209 314.432 178.403 317.117 Q181.598 319.802 181.598 324.293 Q181.598 326.422 180.788 328.344 Q180.001 330.242 177.894 332.834 Q177.315 333.506 174.214 336.723 Q171.112 339.918 165.464 345.682 Z\" fill=\"#000000\" fill-rule=\"evenodd\" fill-opacity=\"1\" /><path clip-path=\"url(#clip590)\" d=\"M201.598 318.135 Q197.987 318.135 196.158 321.7 Q194.352 325.242 194.352 332.372 Q194.352 339.478 196.158 343.043 Q197.987 346.584 201.598 346.584 Q205.232 346.584 207.037 343.043 Q208.866 339.478 208.866 332.372 Q208.866 325.242 207.037 321.7 Q205.232 318.135 201.598 318.135 M201.598 314.432 Q207.408 314.432 210.463 319.038 Q213.542 323.622 213.542 332.372 Q213.542 341.098 210.463 345.705 Q207.408 350.288 201.598 350.288 Q195.787 350.288 192.709 345.705 Q189.653 341.098 189.653 332.372 Q189.653 323.622 192.709 319.038 Q195.787 314.432 201.598 314.432 Z\" fill=\"#000000\" fill-rule=\"evenodd\" fill-opacity=\"1\" /><path clip-path=\"url(#clip590)\" d=\"M127.2 55.1601 Q123.589 55.1601 121.76 58.7249 Q119.955 62.2665 119.955 69.3961 Q119.955 76.5026 121.76 80.0674 Q123.589 83.609 127.2 83.609 Q130.834 83.609 132.64 80.0674 Q134.468 76.5026 134.468 69.3961 Q134.468 62.2665 132.64 58.7249 Q130.834 55.1601 127.2 55.1601 M127.2 51.4564 Q133.01 51.4564 136.066 56.0629 Q139.144 60.6462 139.144 69.3961 Q139.144 78.1229 136.066 82.7294 Q133.01 87.3127 127.2 87.3127 Q121.39 87.3127 118.311 82.7294 Q115.256 78.1229 115.256 69.3961 Q115.256 60.6462 118.311 56.0629 Q121.39 51.4564 127.2 51.4564 Z\" fill=\"#000000\" fill-rule=\"evenodd\" fill-opacity=\"1\" /><path clip-path=\"url(#clip590)\" d=\"M147.362 80.7618 L152.246 80.7618 L152.246 86.6414 L147.362 86.6414 L147.362 80.7618 Z\" fill=\"#000000\" fill-rule=\"evenodd\" fill-opacity=\"1\" /><path clip-path=\"url(#clip590)\" d=\"M166.459 82.7063 L182.778 82.7063 L182.778 86.6414 L160.834 86.6414 L160.834 82.7063 Q163.496 79.9516 168.079 75.322 Q172.686 70.6693 173.866 69.3267 Q176.112 66.8036 176.991 65.0675 Q177.894 63.3082 177.894 61.6184 Q177.894 58.8638 175.95 57.1277 Q174.028 55.3916 170.927 55.3916 Q168.727 55.3916 166.274 56.1555 Q163.843 56.9194 161.065 58.4703 L161.065 53.7481 Q163.89 52.6138 166.343 52.0351 Q168.797 51.4564 170.834 51.4564 Q176.204 51.4564 179.399 54.1416 Q182.593 56.8268 182.593 61.3175 Q182.593 63.4471 181.783 65.3684 Q180.996 67.2665 178.889 69.8591 Q178.311 70.5304 175.209 73.748 Q172.107 76.9424 166.459 82.7063 Z\" fill=\"#000000\" fill-rule=\"evenodd\" fill-opacity=\"1\" /><path clip-path=\"url(#clip590)\" d=\"M192.639 52.0814 L210.996 52.0814 L210.996 56.0166 L196.922 56.0166 L196.922 64.4888 Q197.94 64.1415 198.959 63.9795 Q199.977 63.7943 200.996 63.7943 Q206.783 63.7943 210.162 66.9656 Q213.542 70.1369 213.542 75.5535 Q213.542 81.1322 210.07 84.234 Q206.598 87.3127 200.278 87.3127 Q198.102 87.3127 195.834 86.9423 Q193.588 86.572 191.181 85.8312 L191.181 81.1322 Q193.264 82.2664 195.487 82.822 Q197.709 83.3775 200.186 83.3775 Q204.19 83.3775 206.528 81.2711 Q208.866 79.1646 208.866 75.5535 Q208.866 71.9424 206.528 69.8359 Q204.19 67.7295 200.186 67.7295 Q198.311 67.7295 196.436 68.1461 Q194.584 68.5628 192.639 69.4424 L192.639 52.0814 Z\" fill=\"#000000\" fill-rule=\"evenodd\" fill-opacity=\"1\" /><path clip-path=\"url(#clip590)\" d=\"M16.4842 1052.96 L16.4842 1025.65 L21.895 1025.65 L21.895 1046.53 L35.8996 1046.53 L35.8996 1027.68 L41.3104 1027.68 L41.3104 1046.53 L64.0042 1046.53 L64.0042 1052.96 L16.4842 1052.96 Z\" fill=\"#000000\" fill-rule=\"evenodd\" fill-opacity=\"1\" /><path clip-path=\"url(#clip590)\" d=\"M32.4621 1004.23 Q32.4621 1008.94 36.1542 1011.67 Q39.8145 1014.41 46.212 1014.41 Q52.6095 1014.41 56.3017 1011.71 Q59.9619 1008.97 59.9619 1004.23 Q59.9619 999.548 56.2698 996.811 Q52.5777 994.073 46.212 994.073 Q39.8781 994.073 36.186 996.811 Q32.4621 999.548 32.4621 1004.23 M27.4968 1004.23 Q27.4968 996.588 32.4621 992.227 Q37.4273 987.867 46.212 987.867 Q54.9649 987.867 59.9619 992.227 Q64.9272 996.588 64.9272 1004.23 Q64.9272 1011.9 59.9619 1016.26 Q54.9649 1020.59 46.212 1020.59 Q37.4273 1020.59 32.4621 1016.26 Q27.4968 1011.9 27.4968 1004.23 Z\" fill=\"#000000\" fill-rule=\"evenodd\" fill-opacity=\"1\" /><path clip-path=\"url(#clip590)\" d=\"M33.8307 957.502 Q33.2578 958.489 33.0032 959.667 Q32.7167 960.813 32.7167 962.213 Q32.7167 967.178 35.9632 969.852 Q39.1779 972.494 45.2253 972.494 L64.0042 972.494 L64.0042 978.382 L28.3562 978.382 L28.3562 972.494 L33.8944 972.494 Q30.6479 970.648 29.0883 967.688 Q27.4968 964.728 27.4968 960.494 Q27.4968 959.89 27.5923 959.158 Q27.656 958.425 27.8151 957.534 L33.8307 957.502 Z\" fill=\"#000000\" fill-rule=\"evenodd\" fill-opacity=\"1\" /><path clip-path=\"url(#clip590)\" d=\"M29.7248 927.138 L35.1993 927.138 Q33.8307 929.621 33.1623 932.135 Q32.4621 934.618 32.4621 937.164 Q32.4621 942.861 36.0905 946.012 Q39.6872 949.163 46.212 949.163 Q52.7369 949.163 56.3653 946.012 Q59.9619 942.861 59.9619 937.164 Q59.9619 934.618 59.2935 932.135 Q58.5933 929.621 57.2247 927.138 L62.6355 927.138 Q63.7814 929.589 64.3543 932.231 Q64.9272 934.841 64.9272 937.801 Q64.9272 945.853 59.8664 950.596 Q54.8057 955.338 46.212 955.338 Q37.491 955.338 32.4939 950.564 Q27.4968 945.758 27.4968 937.419 Q27.4968 934.713 28.0697 932.135 Q28.6108 929.557 29.7248 927.138 Z\" fill=\"#000000\" fill-rule=\"evenodd\" fill-opacity=\"1\" /><path clip-path=\"url(#clip590)\" d=\"M44.7161 886.461 L47.5806 886.461 L47.5806 913.388 Q53.6281 913.006 56.8109 909.76 Q59.9619 906.481 59.9619 900.657 Q59.9619 897.283 59.1344 894.132 Q58.3069 890.949 56.6518 887.83 L62.1899 887.83 Q63.5267 890.981 64.227 894.291 Q64.9272 897.601 64.9272 901.007 Q64.9272 909.537 59.9619 914.534 Q54.9967 919.499 46.5303 919.499 Q37.7774 919.499 32.6531 914.789 Q27.4968 910.046 27.4968 902.025 Q27.4968 894.832 32.1438 890.663 Q36.7589 886.461 44.7161 886.461 M42.9973 892.318 Q38.1912 892.381 35.3266 895.023 Q32.4621 897.633 32.4621 901.962 Q32.4621 906.863 35.2312 909.823 Q38.0002 912.752 43.0292 913.197 L42.9973 892.318 Z\" fill=\"#000000\" fill-rule=\"evenodd\" fill-opacity=\"1\" /><path clip-path=\"url(#clip590)\" d=\"M32.4621 842.315 Q32.4621 847.026 36.1542 849.763 Q39.8145 852.5 46.212 852.5 Q52.6095 852.5 56.3017 849.795 Q59.9619 847.057 59.9619 842.315 Q59.9619 837.636 56.2698 834.899 Q52.5777 832.162 46.212 832.162 Q39.8781 832.162 36.186 834.899 Q32.4621 837.636 32.4621 842.315 M27.4968 842.315 Q27.4968 834.676 32.4621 830.316 Q37.4273 825.955 46.212 825.955 Q54.9649 825.955 59.9619 830.316 Q64.9272 834.676 64.9272 842.315 Q64.9272 849.986 59.9619 854.346 Q54.9649 858.675 46.212 858.675 Q37.4273 858.675 32.4621 854.346 Q27.4968 849.986 27.4968 842.315 Z\" fill=\"#000000\" fill-rule=\"evenodd\" fill-opacity=\"1\" /><path clip-path=\"url(#clip590)\" d=\"M14.479 798.201 L19.3487 798.201 L19.3487 803.802 Q19.3487 806.953 20.6219 808.195 Q21.895 809.404 25.2052 809.404 L28.3562 809.404 L28.3562 799.76 L32.9077 799.76 L32.9077 809.404 L64.0042 809.404 L64.0042 815.293 L32.9077 815.293 L32.9077 820.894 L28.3562 820.894 L28.3562 815.293 L25.8736 815.293 Q19.9216 815.293 17.2162 812.523 Q14.479 809.754 14.479 803.739 L14.479 798.201 Z\" fill=\"#000000\" fill-rule=\"evenodd\" fill-opacity=\"1\" /><path clip-path=\"url(#clip590)\" d=\"M28.3562 772.579 L28.3562 766.722 L64.0042 766.722 L64.0042 772.579 L28.3562 772.579 M14.479 772.579 L14.479 766.722 L21.895 766.722 L21.895 772.579 L14.479 772.579 Z\" fill=\"#000000\" fill-rule=\"evenodd\" fill-opacity=\"1\" /><path clip-path=\"url(#clip590)\" d=\"M42.4881 724.836 L64.0042 724.836 L64.0042 730.692 L42.679 730.692 Q37.6183 730.692 35.1038 732.666 Q32.5894 734.639 32.5894 738.586 Q32.5894 743.328 35.6131 746.065 Q38.6368 748.803 43.8567 748.803 L64.0042 748.803 L64.0042 754.691 L28.3562 754.691 L28.3562 748.803 L33.8944 748.803 Q30.6797 746.702 29.0883 743.869 Q27.4968 741.005 27.4968 737.281 Q27.4968 731.138 31.3163 727.987 Q35.1038 724.836 42.4881 724.836 Z\" fill=\"#000000\" fill-rule=\"evenodd\" fill-opacity=\"1\" /><path clip-path=\"url(#clip590)\" d=\"M14.479 695.108 L19.3487 695.108 L19.3487 700.71 Q19.3487 703.861 20.6219 705.102 Q21.895 706.312 25.2052 706.312 L28.3562 706.312 L28.3562 696.668 L32.9077 696.668 L32.9077 706.312 L64.0042 706.312 L64.0042 712.2 L32.9077 712.2 L32.9077 717.802 L28.3562 717.802 L28.3562 712.2 L25.8736 712.2 Q19.9216 712.2 17.2162 709.431 Q14.479 706.662 14.479 700.646 L14.479 695.108 Z\" fill=\"#000000\" fill-rule=\"evenodd\" fill-opacity=\"1\" /><path clip-path=\"url(#clip590)\" d=\"M44.7161 659.715 L47.5806 659.715 L47.5806 686.642 Q53.6281 686.26 56.8109 683.013 Q59.9619 679.735 59.9619 673.91 Q59.9619 670.536 59.1344 667.385 Q58.3069 664.203 56.6518 661.083 L62.1899 661.083 Q63.5267 664.234 64.227 667.545 Q64.9272 670.855 64.9272 674.26 Q64.9272 682.79 59.9619 687.787 Q54.9967 692.753 46.5303 692.753 Q37.7774 692.753 32.6531 688.042 Q27.4968 683.3 27.4968 675.279 Q27.4968 668.086 32.1438 663.916 Q36.7589 659.715 44.7161 659.715 M42.9973 665.571 Q38.1912 665.635 35.3266 668.277 Q32.4621 670.887 32.4621 675.215 Q32.4621 680.117 35.2312 683.077 Q38.0002 686.005 43.0292 686.451 L42.9973 665.571 Z\" fill=\"#000000\" fill-rule=\"evenodd\" fill-opacity=\"1\" /><path clip-path=\"url(#clip590)\" d=\"M29.7248 624.449 L35.1993 624.449 Q33.8307 626.931 33.1623 629.446 Q32.4621 631.928 32.4621 634.475 Q32.4621 640.172 36.0905 643.323 Q39.6872 646.474 46.212 646.474 Q52.7369 646.474 56.3653 643.323 Q59.9619 640.172 59.9619 634.475 Q59.9619 631.928 59.2935 629.446 Q58.5933 626.931 57.2247 624.449 L62.6355 624.449 Q63.7814 626.899 64.3543 629.541 Q64.9272 632.151 64.9272 635.111 Q64.9272 643.164 59.8664 647.906 Q54.8057 652.649 46.212 652.649 Q37.491 652.649 32.4939 647.874 Q27.4968 643.068 27.4968 634.729 Q27.4968 632.024 28.0697 629.446 Q28.6108 626.868 29.7248 624.449 Z\" fill=\"#000000\" fill-rule=\"evenodd\" fill-opacity=\"1\" /><path clip-path=\"url(#clip590)\" d=\"M18.2347 608.471 L28.3562 608.471 L28.3562 596.408 L32.9077 596.408 L32.9077 608.471 L52.2594 608.471 Q56.6199 608.471 57.8613 607.293 Q59.1026 606.084 59.1026 602.423 L59.1026 596.408 L64.0042 596.408 L64.0042 602.423 Q64.0042 609.203 61.4897 611.781 Q58.9434 614.359 52.2594 614.359 L32.9077 614.359 L32.9077 618.656 L28.3562 618.656 L28.3562 614.359 L18.2347 614.359 L18.2347 608.471 Z\" fill=\"#000000\" fill-rule=\"evenodd\" fill-opacity=\"1\" /><path clip-path=\"url(#clip590)\" d=\"M28.3562 588.705 L28.3562 582.849 L64.0042 582.849 L64.0042 588.705 L28.3562 588.705 M14.479 588.705 L14.479 582.849 L21.895 582.849 L21.895 588.705 L14.479 588.705 Z\" fill=\"#000000\" fill-rule=\"evenodd\" fill-opacity=\"1\" /><path clip-path=\"url(#clip590)\" d=\"M32.4621 556.781 Q32.4621 561.492 36.1542 564.229 Q39.8145 566.966 46.212 566.966 Q52.6095 566.966 56.3017 564.261 Q59.9619 561.524 59.9619 556.781 Q59.9619 552.102 56.2698 549.365 Q52.5777 546.628 46.212 546.628 Q39.8781 546.628 36.186 549.365 Q32.4621 552.102 32.4621 556.781 M27.4968 556.781 Q27.4968 549.142 32.4621 544.782 Q37.4273 540.421 46.212 540.421 Q54.9649 540.421 59.9619 544.782 Q64.9272 549.142 64.9272 556.781 Q64.9272 564.452 59.9619 568.812 Q54.9649 573.141 46.212 573.141 Q37.4273 573.141 32.4621 568.812 Q27.4968 564.452 27.4968 556.781 Z\" fill=\"#000000\" fill-rule=\"evenodd\" fill-opacity=\"1\" /><path clip-path=\"url(#clip590)\" d=\"M42.4881 501.081 L64.0042 501.081 L64.0042 506.938 L42.679 506.938 Q37.6183 506.938 35.1038 508.911 Q32.5894 510.884 32.5894 514.831 Q32.5894 519.574 35.6131 522.311 Q38.6368 525.048 43.8567 525.048 L64.0042 525.048 L64.0042 530.936 L28.3562 530.936 L28.3562 525.048 L33.8944 525.048 Q30.6797 522.947 29.0883 520.115 Q27.4968 517.25 27.4968 513.526 Q27.4968 507.383 31.3163 504.232 Q35.1038 501.081 42.4881 501.081 Z\" fill=\"#000000\" fill-rule=\"evenodd\" fill-opacity=\"1\" /><path clip-path=\"url(#clip590)\" d=\"M55.9197 487.904 L55.9197 481.188 L61.3942 481.188 L71.5793 486.408 L71.5793 490.514 L61.3942 487.904 L55.9197 487.904 Z\" fill=\"#000000\" fill-rule=\"evenodd\" fill-opacity=\"1\" /><path clip-path=\"url(#clip590)\" d=\"M20.049 433.923 L64.0042 417.468 L64.0042 423.674 L37.6501 433.668 L64.0042 445.954 L64.0042 452.161 L29.8203 436.533 L23.5183 438.888 Q19.5079 440.384 19.5079 443.79 L19.5079 446.845 L14.479 446.845 L14.5426 443.122 Q14.6381 435.928 20.049 433.923 Z\" fill=\"#000000\" fill-rule=\"evenodd\" fill-opacity=\"1\" /><circle clip-path=\"url(#clip592)\" cx=\"309.067\" cy=\"1384.24\" r=\"14.4\" fill=\"#009af9\" fill-rule=\"evenodd\" fill-opacity=\"1\" stroke=\"#000000\" stroke-opacity=\"1\" stroke-width=\"3.2\"/>\n",
       "<circle clip-path=\"url(#clip592)\" cx=\"348.75\" cy=\"1358.28\" r=\"14.4\" fill=\"#009af9\" fill-rule=\"evenodd\" fill-opacity=\"1\" stroke=\"#000000\" stroke-opacity=\"1\" stroke-width=\"3.2\"/>\n",
       "<circle clip-path=\"url(#clip592)\" cx=\"388.434\" cy=\"1332.32\" r=\"14.4\" fill=\"#009af9\" fill-rule=\"evenodd\" fill-opacity=\"1\" stroke=\"#000000\" stroke-opacity=\"1\" stroke-width=\"3.2\"/>\n",
       "<circle clip-path=\"url(#clip592)\" cx=\"428.117\" cy=\"1306.36\" r=\"14.4\" fill=\"#009af9\" fill-rule=\"evenodd\" fill-opacity=\"1\" stroke=\"#000000\" stroke-opacity=\"1\" stroke-width=\"3.2\"/>\n",
       "<circle clip-path=\"url(#clip592)\" cx=\"467.8\" cy=\"1280.39\" r=\"14.4\" fill=\"#009af9\" fill-rule=\"evenodd\" fill-opacity=\"1\" stroke=\"#000000\" stroke-opacity=\"1\" stroke-width=\"3.2\"/>\n",
       "<circle clip-path=\"url(#clip592)\" cx=\"507.483\" cy=\"1254.43\" r=\"14.4\" fill=\"#009af9\" fill-rule=\"evenodd\" fill-opacity=\"1\" stroke=\"#000000\" stroke-opacity=\"1\" stroke-width=\"3.2\"/>\n",
       "<circle clip-path=\"url(#clip592)\" cx=\"547.167\" cy=\"1228.47\" r=\"14.4\" fill=\"#009af9\" fill-rule=\"evenodd\" fill-opacity=\"1\" stroke=\"#000000\" stroke-opacity=\"1\" stroke-width=\"3.2\"/>\n",
       "<circle clip-path=\"url(#clip592)\" cx=\"586.85\" cy=\"1202.51\" r=\"14.4\" fill=\"#009af9\" fill-rule=\"evenodd\" fill-opacity=\"1\" stroke=\"#000000\" stroke-opacity=\"1\" stroke-width=\"3.2\"/>\n",
       "<circle clip-path=\"url(#clip592)\" cx=\"626.533\" cy=\"1176.55\" r=\"14.4\" fill=\"#009af9\" fill-rule=\"evenodd\" fill-opacity=\"1\" stroke=\"#000000\" stroke-opacity=\"1\" stroke-width=\"3.2\"/>\n",
       "<circle clip-path=\"url(#clip592)\" cx=\"666.216\" cy=\"1150.59\" r=\"14.4\" fill=\"#009af9\" fill-rule=\"evenodd\" fill-opacity=\"1\" stroke=\"#000000\" stroke-opacity=\"1\" stroke-width=\"3.2\"/>\n",
       "<circle clip-path=\"url(#clip592)\" cx=\"705.9\" cy=\"1124.63\" r=\"14.4\" fill=\"#009af9\" fill-rule=\"evenodd\" fill-opacity=\"1\" stroke=\"#000000\" stroke-opacity=\"1\" stroke-width=\"3.2\"/>\n",
       "<circle clip-path=\"url(#clip592)\" cx=\"745.583\" cy=\"1098.67\" r=\"14.4\" fill=\"#009af9\" fill-rule=\"evenodd\" fill-opacity=\"1\" stroke=\"#000000\" stroke-opacity=\"1\" stroke-width=\"3.2\"/>\n",
       "<circle clip-path=\"url(#clip592)\" cx=\"785.266\" cy=\"1072.71\" r=\"14.4\" fill=\"#009af9\" fill-rule=\"evenodd\" fill-opacity=\"1\" stroke=\"#000000\" stroke-opacity=\"1\" stroke-width=\"3.2\"/>\n",
       "<circle clip-path=\"url(#clip592)\" cx=\"824.95\" cy=\"1046.74\" r=\"14.4\" fill=\"#009af9\" fill-rule=\"evenodd\" fill-opacity=\"1\" stroke=\"#000000\" stroke-opacity=\"1\" stroke-width=\"3.2\"/>\n",
       "<circle clip-path=\"url(#clip592)\" cx=\"864.633\" cy=\"1020.78\" r=\"14.4\" fill=\"#009af9\" fill-rule=\"evenodd\" fill-opacity=\"1\" stroke=\"#000000\" stroke-opacity=\"1\" stroke-width=\"3.2\"/>\n",
       "<circle clip-path=\"url(#clip592)\" cx=\"904.316\" cy=\"994.822\" r=\"14.4\" fill=\"#009af9\" fill-rule=\"evenodd\" fill-opacity=\"1\" stroke=\"#000000\" stroke-opacity=\"1\" stroke-width=\"3.2\"/>\n",
       "<circle clip-path=\"url(#clip592)\" cx=\"943.999\" cy=\"968.861\" r=\"14.4\" fill=\"#009af9\" fill-rule=\"evenodd\" fill-opacity=\"1\" stroke=\"#000000\" stroke-opacity=\"1\" stroke-width=\"3.2\"/>\n",
       "<circle clip-path=\"url(#clip592)\" cx=\"983.683\" cy=\"942.9\" r=\"14.4\" fill=\"#009af9\" fill-rule=\"evenodd\" fill-opacity=\"1\" stroke=\"#000000\" stroke-opacity=\"1\" stroke-width=\"3.2\"/>\n",
       "<circle clip-path=\"url(#clip592)\" cx=\"1023.37\" cy=\"916.939\" r=\"14.4\" fill=\"#009af9\" fill-rule=\"evenodd\" fill-opacity=\"1\" stroke=\"#000000\" stroke-opacity=\"1\" stroke-width=\"3.2\"/>\n",
       "<circle clip-path=\"url(#clip592)\" cx=\"1063.05\" cy=\"890.978\" r=\"14.4\" fill=\"#009af9\" fill-rule=\"evenodd\" fill-opacity=\"1\" stroke=\"#000000\" stroke-opacity=\"1\" stroke-width=\"3.2\"/>\n",
       "<circle clip-path=\"url(#clip592)\" cx=\"1102.73\" cy=\"865.017\" r=\"14.4\" fill=\"#009af9\" fill-rule=\"evenodd\" fill-opacity=\"1\" stroke=\"#000000\" stroke-opacity=\"1\" stroke-width=\"3.2\"/>\n",
       "<circle clip-path=\"url(#clip592)\" cx=\"1142.42\" cy=\"839.056\" r=\"14.4\" fill=\"#009af9\" fill-rule=\"evenodd\" fill-opacity=\"1\" stroke=\"#000000\" stroke-opacity=\"1\" stroke-width=\"3.2\"/>\n",
       "<circle clip-path=\"url(#clip592)\" cx=\"1182.1\" cy=\"813.095\" r=\"14.4\" fill=\"#009af9\" fill-rule=\"evenodd\" fill-opacity=\"1\" stroke=\"#000000\" stroke-opacity=\"1\" stroke-width=\"3.2\"/>\n",
       "<circle clip-path=\"url(#clip592)\" cx=\"1221.78\" cy=\"787.134\" r=\"14.4\" fill=\"#009af9\" fill-rule=\"evenodd\" fill-opacity=\"1\" stroke=\"#000000\" stroke-opacity=\"1\" stroke-width=\"3.2\"/>\n",
       "<circle clip-path=\"url(#clip592)\" cx=\"1261.47\" cy=\"761.173\" r=\"14.4\" fill=\"#009af9\" fill-rule=\"evenodd\" fill-opacity=\"1\" stroke=\"#000000\" stroke-opacity=\"1\" stroke-width=\"3.2\"/>\n",
       "<circle clip-path=\"url(#clip592)\" cx=\"1301.15\" cy=\"735.212\" r=\"14.4\" fill=\"#009af9\" fill-rule=\"evenodd\" fill-opacity=\"1\" stroke=\"#000000\" stroke-opacity=\"1\" stroke-width=\"3.2\"/>\n",
       "<circle clip-path=\"url(#clip592)\" cx=\"1340.83\" cy=\"709.251\" r=\"14.4\" fill=\"#009af9\" fill-rule=\"evenodd\" fill-opacity=\"1\" stroke=\"#000000\" stroke-opacity=\"1\" stroke-width=\"3.2\"/>\n",
       "<circle clip-path=\"url(#clip592)\" cx=\"1380.52\" cy=\"683.29\" r=\"14.4\" fill=\"#009af9\" fill-rule=\"evenodd\" fill-opacity=\"1\" stroke=\"#000000\" stroke-opacity=\"1\" stroke-width=\"3.2\"/>\n",
       "<circle clip-path=\"url(#clip592)\" cx=\"1420.2\" cy=\"657.329\" r=\"14.4\" fill=\"#009af9\" fill-rule=\"evenodd\" fill-opacity=\"1\" stroke=\"#000000\" stroke-opacity=\"1\" stroke-width=\"3.2\"/>\n",
       "<circle clip-path=\"url(#clip592)\" cx=\"1459.88\" cy=\"631.368\" r=\"14.4\" fill=\"#009af9\" fill-rule=\"evenodd\" fill-opacity=\"1\" stroke=\"#000000\" stroke-opacity=\"1\" stroke-width=\"3.2\"/>\n",
       "<circle clip-path=\"url(#clip592)\" cx=\"1499.57\" cy=\"605.407\" r=\"14.4\" fill=\"#009af9\" fill-rule=\"evenodd\" fill-opacity=\"1\" stroke=\"#000000\" stroke-opacity=\"1\" stroke-width=\"3.2\"/>\n",
       "<circle clip-path=\"url(#clip592)\" cx=\"1539.25\" cy=\"579.446\" r=\"14.4\" fill=\"#009af9\" fill-rule=\"evenodd\" fill-opacity=\"1\" stroke=\"#000000\" stroke-opacity=\"1\" stroke-width=\"3.2\"/>\n",
       "<circle clip-path=\"url(#clip592)\" cx=\"1578.93\" cy=\"553.485\" r=\"14.4\" fill=\"#009af9\" fill-rule=\"evenodd\" fill-opacity=\"1\" stroke=\"#000000\" stroke-opacity=\"1\" stroke-width=\"3.2\"/>\n",
       "<circle clip-path=\"url(#clip592)\" cx=\"1618.62\" cy=\"527.524\" r=\"14.4\" fill=\"#009af9\" fill-rule=\"evenodd\" fill-opacity=\"1\" stroke=\"#000000\" stroke-opacity=\"1\" stroke-width=\"3.2\"/>\n",
       "<circle clip-path=\"url(#clip592)\" cx=\"1658.3\" cy=\"501.563\" r=\"14.4\" fill=\"#009af9\" fill-rule=\"evenodd\" fill-opacity=\"1\" stroke=\"#000000\" stroke-opacity=\"1\" stroke-width=\"3.2\"/>\n",
       "<circle clip-path=\"url(#clip592)\" cx=\"1697.98\" cy=\"475.601\" r=\"14.4\" fill=\"#009af9\" fill-rule=\"evenodd\" fill-opacity=\"1\" stroke=\"#000000\" stroke-opacity=\"1\" stroke-width=\"3.2\"/>\n",
       "<circle clip-path=\"url(#clip592)\" cx=\"1737.67\" cy=\"449.64\" r=\"14.4\" fill=\"#009af9\" fill-rule=\"evenodd\" fill-opacity=\"1\" stroke=\"#000000\" stroke-opacity=\"1\" stroke-width=\"3.2\"/>\n",
       "<circle clip-path=\"url(#clip592)\" cx=\"1777.35\" cy=\"423.679\" r=\"14.4\" fill=\"#009af9\" fill-rule=\"evenodd\" fill-opacity=\"1\" stroke=\"#000000\" stroke-opacity=\"1\" stroke-width=\"3.2\"/>\n",
       "<circle clip-path=\"url(#clip592)\" cx=\"1817.03\" cy=\"397.718\" r=\"14.4\" fill=\"#009af9\" fill-rule=\"evenodd\" fill-opacity=\"1\" stroke=\"#000000\" stroke-opacity=\"1\" stroke-width=\"3.2\"/>\n",
       "<circle clip-path=\"url(#clip592)\" cx=\"1856.71\" cy=\"371.757\" r=\"14.4\" fill=\"#009af9\" fill-rule=\"evenodd\" fill-opacity=\"1\" stroke=\"#000000\" stroke-opacity=\"1\" stroke-width=\"3.2\"/>\n",
       "<circle clip-path=\"url(#clip592)\" cx=\"1896.4\" cy=\"345.796\" r=\"14.4\" fill=\"#009af9\" fill-rule=\"evenodd\" fill-opacity=\"1\" stroke=\"#000000\" stroke-opacity=\"1\" stroke-width=\"3.2\"/>\n",
       "<circle clip-path=\"url(#clip592)\" cx=\"1936.08\" cy=\"319.835\" r=\"14.4\" fill=\"#009af9\" fill-rule=\"evenodd\" fill-opacity=\"1\" stroke=\"#000000\" stroke-opacity=\"1\" stroke-width=\"3.2\"/>\n",
       "<circle clip-path=\"url(#clip592)\" cx=\"1975.76\" cy=\"293.874\" r=\"14.4\" fill=\"#009af9\" fill-rule=\"evenodd\" fill-opacity=\"1\" stroke=\"#000000\" stroke-opacity=\"1\" stroke-width=\"3.2\"/>\n",
       "<circle clip-path=\"url(#clip592)\" cx=\"2015.45\" cy=\"267.913\" r=\"14.4\" fill=\"#009af9\" fill-rule=\"evenodd\" fill-opacity=\"1\" stroke=\"#000000\" stroke-opacity=\"1\" stroke-width=\"3.2\"/>\n",
       "<circle clip-path=\"url(#clip592)\" cx=\"2055.13\" cy=\"241.952\" r=\"14.4\" fill=\"#009af9\" fill-rule=\"evenodd\" fill-opacity=\"1\" stroke=\"#000000\" stroke-opacity=\"1\" stroke-width=\"3.2\"/>\n",
       "<circle clip-path=\"url(#clip592)\" cx=\"2094.81\" cy=\"215.991\" r=\"14.4\" fill=\"#009af9\" fill-rule=\"evenodd\" fill-opacity=\"1\" stroke=\"#000000\" stroke-opacity=\"1\" stroke-width=\"3.2\"/>\n",
       "<circle clip-path=\"url(#clip592)\" cx=\"2134.5\" cy=\"190.03\" r=\"14.4\" fill=\"#009af9\" fill-rule=\"evenodd\" fill-opacity=\"1\" stroke=\"#000000\" stroke-opacity=\"1\" stroke-width=\"3.2\"/>\n",
       "<circle clip-path=\"url(#clip592)\" cx=\"2174.18\" cy=\"164.069\" r=\"14.4\" fill=\"#009af9\" fill-rule=\"evenodd\" fill-opacity=\"1\" stroke=\"#000000\" stroke-opacity=\"1\" stroke-width=\"3.2\"/>\n",
       "<circle clip-path=\"url(#clip592)\" cx=\"2213.86\" cy=\"138.108\" r=\"14.4\" fill=\"#009af9\" fill-rule=\"evenodd\" fill-opacity=\"1\" stroke=\"#000000\" stroke-opacity=\"1\" stroke-width=\"3.2\"/>\n",
       "<circle clip-path=\"url(#clip592)\" cx=\"2253.55\" cy=\"112.147\" r=\"14.4\" fill=\"#009af9\" fill-rule=\"evenodd\" fill-opacity=\"1\" stroke=\"#000000\" stroke-opacity=\"1\" stroke-width=\"3.2\"/>\n",
       "<circle clip-path=\"url(#clip592)\" cx=\"2293.23\" cy=\"86.1857\" r=\"14.4\" fill=\"#009af9\" fill-rule=\"evenodd\" fill-opacity=\"1\" stroke=\"#000000\" stroke-opacity=\"1\" stroke-width=\"3.2\"/>\n",
       "<polyline clip-path=\"url(#clip592)\" style=\"stroke:#e26f46; stroke-linecap:round; stroke-linejoin:round; stroke-width:4; stroke-opacity:1; fill:none\" points=\"\n",
       "  -1826,2799.12 4402.91,-1328.69 \n",
       "  \"/>\n",
       "<polyline clip-path=\"url(#clip592)\" style=\"stroke:#3da44d; stroke-linecap:round; stroke-linejoin:round; stroke-width:4; stroke-opacity:1; fill:none\" points=\"\n",
       "  936.405,2799.12 936.405,-1328.69 \n",
       "  \"/>\n",
       "<path clip-path=\"url(#clip590)\" d=\"\n",
       "M1368.15 300.469 L2282.65 300.469 L2282.65 93.1086 L1368.15 93.1086  Z\n",
       "  \" fill=\"#ffffff\" fill-rule=\"evenodd\" fill-opacity=\"1\"/>\n",
       "<polyline clip-path=\"url(#clip590)\" style=\"stroke:#000000; stroke-linecap:round; stroke-linejoin:round; stroke-width:4; stroke-opacity:1; fill:none\" points=\"\n",
       "  1368.15,300.469 2282.65,300.469 2282.65,93.1086 1368.15,93.1086 1368.15,300.469 \n",
       "  \"/>\n",
       "<circle clip-path=\"url(#clip590)\" cx=\"1461.63\" cy=\"144.949\" r=\"23.04\" fill=\"#009af9\" fill-rule=\"evenodd\" fill-opacity=\"1\" stroke=\"#000000\" stroke-opacity=\"1\" stroke-width=\"5.12\"/>\n",
       "<path clip-path=\"url(#clip590)\" d=\"M1555.1 127.669 L1561.4 127.669 L1576.72 156.581 L1576.72 127.669 L1581.26 127.669 L1581.26 162.229 L1574.97 162.229 L1559.64 133.317 L1559.64 162.229 L1555.1 162.229 L1555.1 127.669 Z\" fill=\"#000000\" fill-rule=\"evenodd\" fill-opacity=\"1\" /><path clip-path=\"url(#clip590)\" d=\"M1612.56 148.201 L1612.56 150.284 L1592.97 150.284 Q1593.25 154.682 1595.61 156.997 Q1598 159.289 1602.23 159.289 Q1604.69 159.289 1606.98 158.687 Q1609.29 158.085 1611.56 156.881 L1611.56 160.909 Q1609.27 161.881 1606.86 162.391 Q1604.46 162.9 1601.98 162.9 Q1595.78 162.9 1592.14 159.289 Q1588.53 155.678 1588.53 149.52 Q1588.53 143.155 1591.96 139.428 Q1595.4 135.678 1601.24 135.678 Q1606.47 135.678 1609.5 139.057 Q1612.56 142.414 1612.56 148.201 M1608.3 146.951 Q1608.25 143.456 1606.33 141.372 Q1604.43 139.289 1601.28 139.289 Q1597.72 139.289 1595.57 141.303 Q1593.44 143.317 1593.11 146.974 L1608.3 146.951 Z\" fill=\"#000000\" fill-rule=\"evenodd\" fill-opacity=\"1\" /><path clip-path=\"url(#clip590)\" d=\"M1619.11 151.997 L1619.11 136.303 L1623.37 136.303 L1623.37 151.835 Q1623.37 155.516 1624.8 157.368 Q1626.24 159.196 1629.11 159.196 Q1632.56 159.196 1634.55 156.997 Q1636.56 154.798 1636.56 151.002 L1636.56 136.303 L1640.82 136.303 L1640.82 162.229 L1636.56 162.229 L1636.56 158.247 Q1635.01 160.608 1632.95 161.766 Q1630.91 162.9 1628.21 162.9 Q1623.74 162.9 1621.42 160.122 Q1619.11 157.344 1619.11 151.997 M1629.83 135.678 L1629.83 135.678 Z\" fill=\"#000000\" fill-rule=\"evenodd\" fill-opacity=\"1\" /><path clip-path=\"url(#clip590)\" d=\"M1664.62 140.284 Q1663.9 139.868 1663.04 139.682 Q1662.21 139.474 1661.19 139.474 Q1657.58 139.474 1655.64 141.835 Q1653.71 144.173 1653.71 148.571 L1653.71 162.229 L1649.43 162.229 L1649.43 136.303 L1653.71 136.303 L1653.71 140.331 Q1655.06 137.969 1657.21 136.835 Q1659.36 135.678 1662.44 135.678 Q1662.88 135.678 1663.41 135.747 Q1663.95 135.794 1664.59 135.909 L1664.62 140.284 Z\" fill=\"#000000\" fill-rule=\"evenodd\" fill-opacity=\"1\" /><path clip-path=\"url(#clip590)\" d=\"M1680.87 149.196 Q1675.71 149.196 1673.71 150.377 Q1671.72 151.557 1671.72 154.405 Q1671.72 156.673 1673.21 158.016 Q1674.71 159.335 1677.28 159.335 Q1680.82 159.335 1682.95 156.835 Q1685.1 154.312 1685.1 150.145 L1685.1 149.196 L1680.87 149.196 M1689.36 147.437 L1689.36 162.229 L1685.1 162.229 L1685.1 158.293 Q1683.65 160.655 1681.47 161.789 Q1679.29 162.9 1676.15 162.9 Q1672.16 162.9 1669.8 160.678 Q1667.46 158.432 1667.46 154.682 Q1667.46 150.307 1670.38 148.085 Q1673.32 145.863 1679.13 145.863 L1685.1 145.863 L1685.1 145.446 Q1685.1 142.507 1683.16 140.909 Q1681.24 139.289 1677.74 139.289 Q1675.52 139.289 1673.41 139.821 Q1671.31 140.354 1669.36 141.419 L1669.36 137.483 Q1671.7 136.581 1673.9 136.141 Q1676.1 135.678 1678.18 135.678 Q1683.81 135.678 1686.58 138.594 Q1689.36 141.511 1689.36 147.437 Z\" fill=\"#000000\" fill-rule=\"evenodd\" fill-opacity=\"1\" /><path clip-path=\"url(#clip590)\" d=\"M1698.14 126.21 L1702.4 126.21 L1702.4 162.229 L1698.14 162.229 L1698.14 126.21 Z\" fill=\"#000000\" fill-rule=\"evenodd\" fill-opacity=\"1\" /><path clip-path=\"url(#clip590)\" d=\"M1747.93 146.581 L1747.93 162.229 L1743.67 162.229 L1743.67 146.719 Q1743.67 143.039 1742.23 141.21 Q1740.8 139.382 1737.93 139.382 Q1734.48 139.382 1732.49 141.581 Q1730.5 143.78 1730.5 147.576 L1730.5 162.229 L1726.21 162.229 L1726.21 136.303 L1730.5 136.303 L1730.5 140.331 Q1732.02 137.993 1734.08 136.835 Q1736.17 135.678 1738.88 135.678 Q1743.34 135.678 1745.64 138.456 Q1747.93 141.21 1747.93 146.581 Z\" fill=\"#000000\" fill-rule=\"evenodd\" fill-opacity=\"1\" /><path clip-path=\"url(#clip590)\" d=\"M1778.6 148.201 L1778.6 150.284 L1759.02 150.284 Q1759.29 154.682 1761.65 156.997 Q1764.04 159.289 1768.27 159.289 Q1770.73 159.289 1773.02 158.687 Q1775.33 158.085 1777.6 156.881 L1777.6 160.909 Q1775.31 161.881 1772.9 162.391 Q1770.5 162.9 1768.02 162.9 Q1761.82 162.9 1758.18 159.289 Q1754.57 155.678 1754.57 149.52 Q1754.57 143.155 1758 139.428 Q1761.45 135.678 1767.28 135.678 Q1772.51 135.678 1775.54 139.057 Q1778.6 142.414 1778.6 148.201 M1774.34 146.951 Q1774.29 143.456 1772.37 141.372 Q1770.47 139.289 1767.33 139.289 Q1763.76 139.289 1761.61 141.303 Q1759.48 143.317 1759.15 146.974 L1774.34 146.951 Z\" fill=\"#000000\" fill-rule=\"evenodd\" fill-opacity=\"1\" /><path clip-path=\"url(#clip590)\" d=\"M1789.8 128.942 L1789.8 136.303 L1798.58 136.303 L1798.58 139.613 L1789.8 139.613 L1789.8 153.687 Q1789.8 156.858 1790.66 157.761 Q1791.54 158.664 1794.2 158.664 L1798.58 158.664 L1798.58 162.229 L1794.2 162.229 Q1789.27 162.229 1787.39 160.4 Q1785.52 158.548 1785.52 153.687 L1785.52 139.613 L1782.39 139.613 L1782.39 136.303 L1785.52 136.303 L1785.52 128.942 L1789.8 128.942 Z\" fill=\"#000000\" fill-rule=\"evenodd\" fill-opacity=\"1\" /><path clip-path=\"url(#clip590)\" d=\"M1801.7 136.303 L1805.96 136.303 L1811.28 156.534 L1816.58 136.303 L1821.61 136.303 L1826.93 156.534 L1832.23 136.303 L1836.49 136.303 L1829.71 162.229 L1824.69 162.229 L1819.11 140.979 L1813.51 162.229 L1808.48 162.229 L1801.7 136.303 Z\" fill=\"#000000\" fill-rule=\"evenodd\" fill-opacity=\"1\" /><path clip-path=\"url(#clip590)\" d=\"M1853 139.289 Q1849.57 139.289 1847.58 141.974 Q1845.59 144.636 1845.59 149.289 Q1845.59 153.942 1847.56 156.627 Q1849.55 159.289 1853 159.289 Q1856.4 159.289 1858.39 156.604 Q1860.38 153.918 1860.38 149.289 Q1860.38 144.682 1858.39 141.997 Q1856.4 139.289 1853 139.289 M1853 135.678 Q1858.55 135.678 1861.72 139.289 Q1864.89 142.9 1864.89 149.289 Q1864.89 155.655 1861.72 159.289 Q1858.55 162.9 1853 162.9 Q1847.42 162.9 1844.25 159.289 Q1841.1 155.655 1841.1 149.289 Q1841.1 142.9 1844.25 139.289 Q1847.42 135.678 1853 135.678 Z\" fill=\"#000000\" fill-rule=\"evenodd\" fill-opacity=\"1\" /><path clip-path=\"url(#clip590)\" d=\"M1886.98 140.284 Q1886.26 139.868 1885.4 139.682 Q1884.57 139.474 1883.55 139.474 Q1879.94 139.474 1878 141.835 Q1876.07 144.173 1876.07 148.571 L1876.07 162.229 L1871.79 162.229 L1871.79 136.303 L1876.07 136.303 L1876.07 140.331 Q1877.42 137.969 1879.57 136.835 Q1881.72 135.678 1884.8 135.678 Q1885.24 135.678 1885.77 135.747 Q1886.31 135.794 1886.95 135.909 L1886.98 140.284 Z\" fill=\"#000000\" fill-rule=\"evenodd\" fill-opacity=\"1\" /><path clip-path=\"url(#clip590)\" d=\"M1891.28 126.21 L1895.57 126.21 L1895.57 147.483 L1908.27 136.303 L1913.71 136.303 L1899.96 148.432 L1914.29 162.229 L1908.74 162.229 L1895.57 149.567 L1895.57 162.229 L1891.28 162.229 L1891.28 126.21 Z\" fill=\"#000000\" fill-rule=\"evenodd\" fill-opacity=\"1\" /><path clip-path=\"url(#clip590)\" d=\"M1938.09 158.34 L1938.09 172.09 L1933.81 172.09 L1933.81 136.303 L1938.09 136.303 L1938.09 140.238 Q1939.43 137.923 1941.47 136.812 Q1943.53 135.678 1946.38 135.678 Q1951.1 135.678 1954.04 139.428 Q1957 143.178 1957 149.289 Q1957 155.4 1954.04 159.15 Q1951.1 162.9 1946.38 162.9 Q1943.53 162.9 1941.47 161.789 Q1939.43 160.655 1938.09 158.34 M1952.58 149.289 Q1952.58 144.59 1950.63 141.928 Q1948.71 139.243 1945.33 139.243 Q1941.95 139.243 1940.01 141.928 Q1938.09 144.59 1938.09 149.289 Q1938.09 153.988 1940.01 156.673 Q1941.95 159.335 1945.33 159.335 Q1948.71 159.335 1950.63 156.673 Q1952.58 153.988 1952.58 149.289 Z\" fill=\"#000000\" fill-rule=\"evenodd\" fill-opacity=\"1\" /><path clip-path=\"url(#clip590)\" d=\"M1979.08 140.284 Q1978.37 139.868 1977.51 139.682 Q1976.68 139.474 1975.66 139.474 Q1972.05 139.474 1970.1 141.835 Q1968.18 144.173 1968.18 148.571 L1968.18 162.229 L1963.9 162.229 L1963.9 136.303 L1968.18 136.303 L1968.18 140.331 Q1969.52 137.969 1971.68 136.835 Q1973.83 135.678 1976.91 135.678 Q1977.35 135.678 1977.88 135.747 Q1978.41 135.794 1979.06 135.909 L1979.08 140.284 Z\" fill=\"#000000\" fill-rule=\"evenodd\" fill-opacity=\"1\" /><path clip-path=\"url(#clip590)\" d=\"M2004.69 148.201 L2004.69 150.284 L1985.1 150.284 Q1985.38 154.682 1987.74 156.997 Q1990.12 159.289 1994.36 159.289 Q1996.81 159.289 1999.11 158.687 Q2001.42 158.085 2003.69 156.881 L2003.69 160.909 Q2001.4 161.881 1998.99 162.391 Q1996.58 162.9 1994.11 162.9 Q1987.9 162.9 1984.27 159.289 Q1980.66 155.678 1980.66 149.52 Q1980.66 143.155 1984.08 139.428 Q1987.53 135.678 1993.37 135.678 Q1998.6 135.678 2001.63 139.057 Q2004.69 142.414 2004.69 148.201 M2000.43 146.951 Q2000.38 143.456 1998.46 141.372 Q1996.56 139.289 1993.41 139.289 Q1989.85 139.289 1987.69 141.303 Q1985.56 143.317 1985.24 146.974 L2000.43 146.951 Z\" fill=\"#000000\" fill-rule=\"evenodd\" fill-opacity=\"1\" /><path clip-path=\"url(#clip590)\" d=\"M2028.74 140.238 L2028.74 126.21 L2033 126.21 L2033 162.229 L2028.74 162.229 L2028.74 158.34 Q2027.39 160.655 2025.33 161.789 Q2023.3 162.9 2020.43 162.9 Q2015.73 162.9 2012.76 159.15 Q2009.82 155.4 2009.82 149.289 Q2009.82 143.178 2012.76 139.428 Q2015.73 135.678 2020.43 135.678 Q2023.3 135.678 2025.33 136.812 Q2027.39 137.923 2028.74 140.238 M2014.22 149.289 Q2014.22 153.988 2016.14 156.673 Q2018.09 159.335 2021.47 159.335 Q2024.85 159.335 2026.79 156.673 Q2028.74 153.988 2028.74 149.289 Q2028.74 144.59 2026.79 141.928 Q2024.85 139.243 2021.47 139.243 Q2018.09 139.243 2016.14 141.928 Q2014.22 144.59 2014.22 149.289 Z\" fill=\"#000000\" fill-rule=\"evenodd\" fill-opacity=\"1\" /><path clip-path=\"url(#clip590)\" d=\"M2041.77 136.303 L2046.03 136.303 L2046.03 162.229 L2041.77 162.229 L2041.77 136.303 M2041.77 126.21 L2046.03 126.21 L2046.03 131.604 L2041.77 131.604 L2041.77 126.21 Z\" fill=\"#000000\" fill-rule=\"evenodd\" fill-opacity=\"1\" /><path clip-path=\"url(#clip590)\" d=\"M2073.6 137.298 L2073.6 141.28 Q2071.79 140.284 2069.96 139.798 Q2068.16 139.289 2066.31 139.289 Q2062.16 139.289 2059.87 141.928 Q2057.58 144.544 2057.58 149.289 Q2057.58 154.034 2059.87 156.673 Q2062.16 159.289 2066.31 159.289 Q2068.16 159.289 2069.96 158.803 Q2071.79 158.293 2073.6 157.298 L2073.6 161.233 Q2071.81 162.067 2069.89 162.483 Q2067.99 162.9 2065.84 162.9 Q2059.99 162.9 2056.54 159.219 Q2053.09 155.539 2053.09 149.289 Q2053.09 142.946 2056.56 139.312 Q2060.06 135.678 2066.12 135.678 Q2068.09 135.678 2069.96 136.095 Q2071.84 136.488 2073.6 137.298 Z\" fill=\"#000000\" fill-rule=\"evenodd\" fill-opacity=\"1\" /><path clip-path=\"url(#clip590)\" d=\"M2085.22 128.942 L2085.22 136.303 L2093.99 136.303 L2093.99 139.613 L2085.22 139.613 L2085.22 153.687 Q2085.22 156.858 2086.07 157.761 Q2086.95 158.664 2089.62 158.664 L2093.99 158.664 L2093.99 162.229 L2089.62 162.229 Q2084.68 162.229 2082.81 160.4 Q2080.93 158.548 2080.93 153.687 L2080.93 139.613 L2077.81 139.613 L2077.81 136.303 L2080.93 136.303 L2080.93 128.942 L2085.22 128.942 Z\" fill=\"#000000\" fill-rule=\"evenodd\" fill-opacity=\"1\" /><path clip-path=\"url(#clip590)\" d=\"M2099.59 136.303 L2103.85 136.303 L2103.85 162.229 L2099.59 162.229 L2099.59 136.303 M2099.59 126.21 L2103.85 126.21 L2103.85 131.604 L2099.59 131.604 L2099.59 126.21 Z\" fill=\"#000000\" fill-rule=\"evenodd\" fill-opacity=\"1\" /><path clip-path=\"url(#clip590)\" d=\"M2122.81 139.289 Q2119.38 139.289 2117.39 141.974 Q2115.4 144.636 2115.4 149.289 Q2115.4 153.942 2117.37 156.627 Q2119.36 159.289 2122.81 159.289 Q2126.21 159.289 2128.2 156.604 Q2130.19 153.918 2130.19 149.289 Q2130.19 144.682 2128.2 141.997 Q2126.21 139.289 2122.81 139.289 M2122.81 135.678 Q2128.36 135.678 2131.54 139.289 Q2134.71 142.9 2134.71 149.289 Q2134.71 155.655 2131.54 159.289 Q2128.36 162.9 2122.81 162.9 Q2117.23 162.9 2114.06 159.289 Q2110.91 155.655 2110.91 149.289 Q2110.91 142.9 2114.06 139.289 Q2117.23 135.678 2122.81 135.678 Z\" fill=\"#000000\" fill-rule=\"evenodd\" fill-opacity=\"1\" /><path clip-path=\"url(#clip590)\" d=\"M2163.32 146.581 L2163.32 162.229 L2159.06 162.229 L2159.06 146.719 Q2159.06 143.039 2157.62 141.21 Q2156.19 139.382 2153.32 139.382 Q2149.87 139.382 2147.88 141.581 Q2145.89 143.78 2145.89 147.576 L2145.89 162.229 L2141.61 162.229 L2141.61 136.303 L2145.89 136.303 L2145.89 140.331 Q2147.42 137.993 2149.48 136.835 Q2151.56 135.678 2154.27 135.678 Q2158.74 135.678 2161.03 138.456 Q2163.32 141.21 2163.32 146.581 Z\" fill=\"#000000\" fill-rule=\"evenodd\" fill-opacity=\"1\" /><polyline clip-path=\"url(#clip590)\" style=\"stroke:#e26f46; stroke-linecap:round; stroke-linejoin:round; stroke-width:4; stroke-opacity:1; fill:none\" points=\"\n",
       "  1391.52,196.789 1531.74,196.789 \n",
       "  \"/>\n",
       "<path clip-path=\"url(#clip590)\" d=\"M1555.1 179.509 L1584.34 179.509 L1584.34 183.444 L1572.07 183.444 L1572.07 214.069 L1567.37 214.069 L1567.37 183.444 L1555.1 183.444 L1555.1 179.509 Z\" fill=\"#000000\" fill-rule=\"evenodd\" fill-opacity=\"1\" /><path clip-path=\"url(#clip590)\" d=\"M1596.72 192.124 Q1596.01 191.708 1595.15 191.522 Q1594.32 191.314 1593.3 191.314 Q1589.69 191.314 1587.74 193.675 Q1585.82 196.013 1585.82 200.411 L1585.82 214.069 L1581.54 214.069 L1581.54 188.143 L1585.82 188.143 L1585.82 192.171 Q1587.16 189.809 1589.32 188.675 Q1591.47 187.518 1594.55 187.518 Q1594.99 187.518 1595.52 187.587 Q1596.05 187.634 1596.7 187.749 L1596.72 192.124 Z\" fill=\"#000000\" fill-rule=\"evenodd\" fill-opacity=\"1\" /><path clip-path=\"url(#clip590)\" d=\"M1600.75 203.837 L1600.75 188.143 L1605.01 188.143 L1605.01 203.675 Q1605.01 207.356 1606.45 209.208 Q1607.88 211.036 1610.75 211.036 Q1614.2 211.036 1616.19 208.837 Q1618.21 206.638 1618.21 202.842 L1618.21 188.143 L1622.46 188.143 L1622.46 214.069 L1618.21 214.069 L1618.21 210.087 Q1616.65 212.448 1614.59 213.606 Q1612.56 214.74 1609.85 214.74 Q1605.38 214.74 1603.07 211.962 Q1600.75 209.184 1600.75 203.837 M1611.47 187.518 L1611.47 187.518 Z\" fill=\"#000000\" fill-rule=\"evenodd\" fill-opacity=\"1\" /><path clip-path=\"url(#clip590)\" d=\"M1653.41 200.041 L1653.41 202.124 L1633.83 202.124 Q1634.11 206.522 1636.47 208.837 Q1638.85 211.129 1643.09 211.129 Q1645.54 211.129 1647.84 210.527 Q1650.15 209.925 1652.42 208.721 L1652.42 212.749 Q1650.13 213.721 1647.72 214.231 Q1645.31 214.74 1642.84 214.74 Q1636.63 214.74 1633 211.129 Q1629.39 207.518 1629.39 201.36 Q1629.39 194.995 1632.81 191.268 Q1636.26 187.518 1642.09 187.518 Q1647.33 187.518 1650.36 190.897 Q1653.41 194.254 1653.41 200.041 M1649.15 198.791 Q1649.11 195.296 1647.19 193.212 Q1645.29 191.129 1642.14 191.129 Q1638.58 191.129 1636.42 193.143 Q1634.29 195.157 1633.97 198.814 L1649.15 198.791 Z\" fill=\"#000000\" fill-rule=\"evenodd\" fill-opacity=\"1\" /><path clip-path=\"url(#clip590)\" d=\"M1672.42 188.143 L1676.93 188.143 L1685.03 209.902 L1693.14 188.143 L1697.65 188.143 L1687.93 214.069 L1682.14 214.069 L1672.42 188.143 Z\" fill=\"#000000\" fill-rule=\"evenodd\" fill-opacity=\"1\" /><path clip-path=\"url(#clip590)\" d=\"M1715.31 201.036 Q1710.15 201.036 1708.16 202.217 Q1706.17 203.397 1706.17 206.245 Q1706.17 208.513 1707.65 209.856 Q1709.15 211.175 1711.72 211.175 Q1715.27 211.175 1717.39 208.675 Q1719.55 206.152 1719.55 201.985 L1719.55 201.036 L1715.31 201.036 M1723.81 199.277 L1723.81 214.069 L1719.55 214.069 L1719.55 210.133 Q1718.09 212.495 1715.91 213.629 Q1713.74 214.74 1710.59 214.74 Q1706.61 214.74 1704.25 212.518 Q1701.91 210.272 1701.91 206.522 Q1701.91 202.147 1704.83 199.925 Q1707.77 197.703 1713.58 197.703 L1719.55 197.703 L1719.55 197.286 Q1719.55 194.347 1717.6 192.749 Q1715.68 191.129 1712.19 191.129 Q1709.96 191.129 1707.86 191.661 Q1705.75 192.194 1703.81 193.259 L1703.81 189.323 Q1706.15 188.421 1708.34 187.981 Q1710.54 187.518 1712.63 187.518 Q1718.25 187.518 1721.03 190.434 Q1723.81 193.351 1723.81 199.277 Z\" fill=\"#000000\" fill-rule=\"evenodd\" fill-opacity=\"1\" /><path clip-path=\"url(#clip590)\" d=\"M1732.58 178.05 L1736.84 178.05 L1736.84 214.069 L1732.58 214.069 L1732.58 178.05 Z\" fill=\"#000000\" fill-rule=\"evenodd\" fill-opacity=\"1\" /><path clip-path=\"url(#clip590)\" d=\"M1745.31 203.837 L1745.31 188.143 L1749.57 188.143 L1749.57 203.675 Q1749.57 207.356 1751.01 209.208 Q1752.44 211.036 1755.31 211.036 Q1758.76 211.036 1760.75 208.837 Q1762.77 206.638 1762.77 202.842 L1762.77 188.143 L1767.02 188.143 L1767.02 214.069 L1762.77 214.069 L1762.77 210.087 Q1761.21 212.448 1759.15 213.606 Q1757.12 214.74 1754.41 214.74 Q1749.94 214.74 1747.63 211.962 Q1745.31 209.184 1745.31 203.837 M1756.03 187.518 L1756.03 187.518 Z\" fill=\"#000000\" fill-rule=\"evenodd\" fill-opacity=\"1\" /><path clip-path=\"url(#clip590)\" d=\"M1797.97 200.041 L1797.97 202.124 L1778.39 202.124 Q1778.67 206.522 1781.03 208.837 Q1783.41 211.129 1787.65 211.129 Q1790.1 211.129 1792.39 210.527 Q1794.71 209.925 1796.98 208.721 L1796.98 212.749 Q1794.69 213.721 1792.28 214.231 Q1789.87 214.74 1787.39 214.74 Q1781.19 214.74 1777.56 211.129 Q1773.95 207.518 1773.95 201.36 Q1773.95 194.995 1777.37 191.268 Q1780.82 187.518 1786.65 187.518 Q1791.89 187.518 1794.92 190.897 Q1797.97 194.254 1797.97 200.041 M1793.71 198.791 Q1793.67 195.296 1791.75 193.212 Q1789.85 191.129 1786.7 191.129 Q1783.14 191.129 1780.98 193.143 Q1778.85 195.157 1778.53 198.814 L1793.71 198.791 Z\" fill=\"#000000\" fill-rule=\"evenodd\" fill-opacity=\"1\" /><polyline clip-path=\"url(#clip590)\" style=\"stroke:#3da44d; stroke-linecap:round; stroke-linejoin:round; stroke-width:4; stroke-opacity:1; fill:none\" points=\"\n",
       "  1391.52,248.629 1531.74,248.629 \n",
       "  \"/>\n",
       "<path clip-path=\"url(#clip590)\" d=\"M1555.1 231.349 L1559.8 231.349 L1559.8 252.344 Q1559.8 257.899 1561.82 260.353 Q1563.83 262.784 1568.34 262.784 Q1572.84 262.784 1574.85 260.353 Q1576.86 257.899 1576.86 252.344 L1576.86 231.349 L1581.56 231.349 L1581.56 252.923 Q1581.56 259.682 1578.21 263.131 Q1574.87 266.58 1568.34 266.58 Q1561.79 266.58 1558.44 263.131 Q1555.1 259.682 1555.1 252.923 L1555.1 231.349 Z\" fill=\"#000000\" fill-rule=\"evenodd\" fill-opacity=\"1\" /><path clip-path=\"url(#clip590)\" d=\"M1594.27 262.02 L1594.27 275.77 L1589.99 275.77 L1589.99 239.983 L1594.27 239.983 L1594.27 243.918 Q1595.61 241.603 1597.65 240.492 Q1599.71 239.358 1602.56 239.358 Q1607.28 239.358 1610.22 243.108 Q1613.18 246.858 1613.18 252.969 Q1613.18 259.08 1610.22 262.83 Q1607.28 266.58 1602.56 266.58 Q1599.71 266.58 1597.65 265.469 Q1595.61 264.335 1594.27 262.02 M1608.76 252.969 Q1608.76 248.27 1606.82 245.608 Q1604.9 242.923 1601.52 242.923 Q1598.14 242.923 1596.19 245.608 Q1594.27 248.27 1594.27 252.969 Q1594.27 257.668 1596.19 260.353 Q1598.14 263.015 1601.52 263.015 Q1604.9 263.015 1606.82 260.353 Q1608.76 257.668 1608.76 252.969 Z\" fill=\"#000000\" fill-rule=\"evenodd\" fill-opacity=\"1\" /><path clip-path=\"url(#clip590)\" d=\"M1624.36 262.02 L1624.36 275.77 L1620.08 275.77 L1620.08 239.983 L1624.36 239.983 L1624.36 243.918 Q1625.71 241.603 1627.74 240.492 Q1629.8 239.358 1632.65 239.358 Q1637.37 239.358 1640.31 243.108 Q1643.27 246.858 1643.27 252.969 Q1643.27 259.08 1640.31 262.83 Q1637.37 266.58 1632.65 266.58 Q1629.8 266.58 1627.74 265.469 Q1625.71 264.335 1624.36 262.02 M1638.85 252.969 Q1638.85 248.27 1636.91 245.608 Q1634.99 242.923 1631.61 242.923 Q1628.23 242.923 1626.28 245.608 Q1624.36 248.27 1624.36 252.969 Q1624.36 257.668 1626.28 260.353 Q1628.23 263.015 1631.61 263.015 Q1634.99 263.015 1636.91 260.353 Q1638.85 257.668 1638.85 252.969 Z\" fill=\"#000000\" fill-rule=\"evenodd\" fill-opacity=\"1\" /><path clip-path=\"url(#clip590)\" d=\"M1672.51 251.881 L1672.51 253.964 L1652.93 253.964 Q1653.21 258.362 1655.57 260.677 Q1657.95 262.969 1662.19 262.969 Q1664.64 262.969 1666.93 262.367 Q1669.25 261.765 1671.52 260.561 L1671.52 264.589 Q1669.22 265.561 1666.82 266.071 Q1664.41 266.58 1661.93 266.58 Q1655.73 266.58 1652.09 262.969 Q1648.48 259.358 1648.48 253.2 Q1648.48 246.835 1651.91 243.108 Q1655.36 239.358 1661.19 239.358 Q1666.42 239.358 1669.46 242.737 Q1672.51 246.094 1672.51 251.881 M1668.25 250.631 Q1668.21 247.136 1666.28 245.052 Q1664.39 242.969 1661.24 242.969 Q1657.67 242.969 1655.52 244.983 Q1653.39 246.997 1653.07 250.654 L1668.25 250.631 Z\" fill=\"#000000\" fill-rule=\"evenodd\" fill-opacity=\"1\" /><path clip-path=\"url(#clip590)\" d=\"M1694.52 243.964 Q1693.81 243.548 1692.95 243.362 Q1692.12 243.154 1691.1 243.154 Q1687.49 243.154 1685.54 245.515 Q1683.62 247.853 1683.62 252.251 L1683.62 265.909 L1679.34 265.909 L1679.34 239.983 L1683.62 239.983 L1683.62 244.011 Q1684.96 241.649 1687.12 240.515 Q1689.27 239.358 1692.35 239.358 Q1692.79 239.358 1693.32 239.427 Q1693.85 239.474 1694.5 239.589 L1694.52 243.964 Z\" fill=\"#000000\" fill-rule=\"evenodd\" fill-opacity=\"1\" /><path clip-path=\"url(#clip590)\" d=\"M1732.67 252.969 Q1732.67 248.27 1730.73 245.608 Q1728.81 242.923 1725.43 242.923 Q1722.05 242.923 1720.1 245.608 Q1718.18 248.27 1718.18 252.969 Q1718.18 257.668 1720.1 260.353 Q1722.05 263.015 1725.43 263.015 Q1728.81 263.015 1730.73 260.353 Q1732.67 257.668 1732.67 252.969 M1718.18 243.918 Q1719.52 241.603 1721.56 240.492 Q1723.62 239.358 1726.47 239.358 Q1731.19 239.358 1734.13 243.108 Q1737.09 246.858 1737.09 252.969 Q1737.09 259.08 1734.13 262.83 Q1731.19 266.58 1726.47 266.58 Q1723.62 266.58 1721.56 265.469 Q1719.52 264.335 1718.18 262.02 L1718.18 265.909 L1713.9 265.909 L1713.9 229.89 L1718.18 229.89 L1718.18 243.918 Z\" fill=\"#000000\" fill-rule=\"evenodd\" fill-opacity=\"1\" /><path clip-path=\"url(#clip590)\" d=\"M1754.2 242.969 Q1750.77 242.969 1748.78 245.654 Q1746.79 248.316 1746.79 252.969 Q1746.79 257.622 1748.76 260.307 Q1750.75 262.969 1754.2 262.969 Q1757.6 262.969 1759.59 260.284 Q1761.58 257.598 1761.58 252.969 Q1761.58 248.362 1759.59 245.677 Q1757.6 242.969 1754.2 242.969 M1754.2 239.358 Q1759.76 239.358 1762.93 242.969 Q1766.1 246.58 1766.1 252.969 Q1766.1 259.335 1762.93 262.969 Q1759.76 266.58 1754.2 266.58 Q1748.62 266.58 1745.45 262.969 Q1742.3 259.335 1742.3 252.969 Q1742.3 246.58 1745.45 242.969 Q1748.62 239.358 1754.2 239.358 Z\" fill=\"#000000\" fill-rule=\"evenodd\" fill-opacity=\"1\" /><path clip-path=\"url(#clip590)\" d=\"M1772.72 255.677 L1772.72 239.983 L1776.98 239.983 L1776.98 255.515 Q1776.98 259.196 1778.41 261.048 Q1779.85 262.876 1782.72 262.876 Q1786.17 262.876 1788.16 260.677 Q1790.17 258.478 1790.17 254.682 L1790.17 239.983 L1794.43 239.983 L1794.43 265.909 L1790.17 265.909 L1790.17 261.927 Q1788.62 264.288 1786.56 265.446 Q1784.52 266.58 1781.82 266.58 Q1777.35 266.58 1775.03 263.802 Q1772.72 261.024 1772.72 255.677 M1783.44 239.358 L1783.44 239.358 Z\" fill=\"#000000\" fill-rule=\"evenodd\" fill-opacity=\"1\" /><path clip-path=\"url(#clip590)\" d=\"M1824.76 250.261 L1824.76 265.909 L1820.5 265.909 L1820.5 250.399 Q1820.5 246.719 1819.06 244.89 Q1817.63 243.062 1814.76 243.062 Q1811.31 243.062 1809.32 245.261 Q1807.33 247.46 1807.33 251.256 L1807.33 265.909 L1803.04 265.909 L1803.04 239.983 L1807.33 239.983 L1807.33 244.011 Q1808.85 241.673 1810.91 240.515 Q1813 239.358 1815.7 239.358 Q1820.17 239.358 1822.46 242.136 Q1824.76 244.89 1824.76 250.261 Z\" fill=\"#000000\" fill-rule=\"evenodd\" fill-opacity=\"1\" /><path clip-path=\"url(#clip590)\" d=\"M1850.31 243.918 L1850.31 229.89 L1854.57 229.89 L1854.57 265.909 L1850.31 265.909 L1850.31 262.02 Q1848.97 264.335 1846.91 265.469 Q1844.87 266.58 1842 266.58 Q1837.3 266.58 1834.34 262.83 Q1831.4 259.08 1831.4 252.969 Q1831.4 246.858 1834.34 243.108 Q1837.3 239.358 1842 239.358 Q1844.87 239.358 1846.91 240.492 Q1848.97 241.603 1850.31 243.918 M1835.8 252.969 Q1835.8 257.668 1837.72 260.353 Q1839.66 263.015 1843.04 263.015 Q1846.42 263.015 1848.37 260.353 Q1850.31 257.668 1850.31 252.969 Q1850.31 248.27 1848.37 245.608 Q1846.42 242.923 1843.04 242.923 Q1839.66 242.923 1837.72 245.608 Q1835.8 248.27 1835.8 252.969 Z\" fill=\"#000000\" fill-rule=\"evenodd\" fill-opacity=\"1\" /><path clip-path=\"url(#clip590)\" d=\"M1888.46 242.969 Q1885.03 242.969 1883.04 245.654 Q1881.05 248.316 1881.05 252.969 Q1881.05 257.622 1883.02 260.307 Q1885.01 262.969 1888.46 262.969 Q1891.86 262.969 1893.85 260.284 Q1895.84 257.598 1895.84 252.969 Q1895.84 248.362 1893.85 245.677 Q1891.86 242.969 1888.46 242.969 M1888.46 239.358 Q1894.01 239.358 1897.19 242.969 Q1900.36 246.58 1900.36 252.969 Q1900.36 259.335 1897.19 262.969 Q1894.01 266.58 1888.46 266.58 Q1882.88 266.58 1879.71 262.969 Q1876.56 259.335 1876.56 252.969 Q1876.56 246.58 1879.71 242.969 Q1882.88 239.358 1888.46 239.358 Z\" fill=\"#000000\" fill-rule=\"evenodd\" fill-opacity=\"1\" /><path clip-path=\"url(#clip590)\" d=\"M1920.54 229.89 L1920.54 233.432 L1916.47 233.432 Q1914.18 233.432 1913.27 234.358 Q1912.39 235.284 1912.39 237.691 L1912.39 239.983 L1919.41 239.983 L1919.41 243.293 L1912.39 243.293 L1912.39 265.909 L1908.11 265.909 L1908.11 243.293 L1904.04 243.293 L1904.04 239.983 L1908.11 239.983 L1908.11 238.177 Q1908.11 233.849 1910.13 231.881 Q1912.14 229.89 1916.51 229.89 L1920.54 229.89 Z\" fill=\"#000000\" fill-rule=\"evenodd\" fill-opacity=\"1\" /><path clip-path=\"url(#clip590)\" d=\"M1943.39 232.622 L1943.39 239.983 L1952.16 239.983 L1952.16 243.293 L1943.39 243.293 L1943.39 257.367 Q1943.39 260.538 1944.25 261.441 Q1945.13 262.344 1947.79 262.344 L1952.16 262.344 L1952.16 265.909 L1947.79 265.909 Q1942.86 265.909 1940.98 264.08 Q1939.11 262.228 1939.11 257.367 L1939.11 243.293 L1935.98 243.293 L1935.98 239.983 L1939.11 239.983 L1939.11 232.622 L1943.39 232.622 Z\" fill=\"#000000\" fill-rule=\"evenodd\" fill-opacity=\"1\" /><path clip-path=\"url(#clip590)\" d=\"M1972.79 243.964 Q1972.07 243.548 1971.21 243.362 Q1970.38 243.154 1969.36 243.154 Q1965.75 243.154 1963.81 245.515 Q1961.88 247.853 1961.88 252.251 L1961.88 265.909 L1957.6 265.909 L1957.6 239.983 L1961.88 239.983 L1961.88 244.011 Q1963.23 241.649 1965.38 240.515 Q1967.53 239.358 1970.61 239.358 Q1971.05 239.358 1971.58 239.427 Q1972.12 239.474 1972.76 239.589 L1972.79 243.964 Z\" fill=\"#000000\" fill-rule=\"evenodd\" fill-opacity=\"1\" /><path clip-path=\"url(#clip590)\" d=\"M1989.04 252.876 Q1983.88 252.876 1981.88 254.057 Q1979.89 255.237 1979.89 258.085 Q1979.89 260.353 1981.38 261.696 Q1982.88 263.015 1985.45 263.015 Q1988.99 263.015 1991.12 260.515 Q1993.27 257.992 1993.27 253.825 L1993.27 252.876 L1989.04 252.876 M1997.53 251.117 L1997.53 265.909 L1993.27 265.909 L1993.27 261.973 Q1991.81 264.335 1989.64 265.469 Q1987.46 266.58 1984.31 266.58 Q1980.33 266.58 1977.97 264.358 Q1975.63 262.112 1975.63 258.362 Q1975.63 253.987 1978.55 251.765 Q1981.49 249.543 1987.3 249.543 L1993.27 249.543 L1993.27 249.126 Q1993.27 246.187 1991.33 244.589 Q1989.41 242.969 1985.91 242.969 Q1983.69 242.969 1981.58 243.501 Q1979.48 244.034 1977.53 245.099 L1977.53 241.163 Q1979.87 240.261 1982.07 239.821 Q1984.27 239.358 1986.35 239.358 Q1991.98 239.358 1994.75 242.274 Q1997.53 245.191 1997.53 251.117 Z\" fill=\"#000000\" fill-rule=\"evenodd\" fill-opacity=\"1\" /><path clip-path=\"url(#clip590)\" d=\"M2006.31 239.983 L2010.56 239.983 L2010.56 265.909 L2006.31 265.909 L2006.31 239.983 M2006.31 229.89 L2010.56 229.89 L2010.56 235.284 L2006.31 235.284 L2006.31 229.89 Z\" fill=\"#000000\" fill-rule=\"evenodd\" fill-opacity=\"1\" /><path clip-path=\"url(#clip590)\" d=\"M2041.03 250.261 L2041.03 265.909 L2036.77 265.909 L2036.77 250.399 Q2036.77 246.719 2035.33 244.89 Q2033.9 243.062 2031.03 243.062 Q2027.58 243.062 2025.59 245.261 Q2023.6 247.46 2023.6 251.256 L2023.6 265.909 L2019.31 265.909 L2019.31 239.983 L2023.6 239.983 L2023.6 244.011 Q2025.12 241.673 2027.18 240.515 Q2029.27 239.358 2031.98 239.358 Q2036.44 239.358 2038.74 242.136 Q2041.03 244.89 2041.03 250.261 Z\" fill=\"#000000\" fill-rule=\"evenodd\" fill-opacity=\"1\" /><path clip-path=\"url(#clip590)\" d=\"M2049.52 239.983 L2053.78 239.983 L2053.78 265.909 L2049.52 265.909 L2049.52 239.983 M2049.52 229.89 L2053.78 229.89 L2053.78 235.284 L2049.52 235.284 L2049.52 229.89 Z\" fill=\"#000000\" fill-rule=\"evenodd\" fill-opacity=\"1\" /><path clip-path=\"url(#clip590)\" d=\"M2084.24 250.261 L2084.24 265.909 L2079.99 265.909 L2079.99 250.399 Q2079.99 246.719 2078.55 244.89 Q2077.12 243.062 2074.24 243.062 Q2070.8 243.062 2068.81 245.261 Q2066.81 247.46 2066.81 251.256 L2066.81 265.909 L2062.53 265.909 L2062.53 239.983 L2066.81 239.983 L2066.81 244.011 Q2068.34 241.673 2070.4 240.515 Q2072.49 239.358 2075.19 239.358 Q2079.66 239.358 2081.95 242.136 Q2084.24 244.89 2084.24 250.261 Z\" fill=\"#000000\" fill-rule=\"evenodd\" fill-opacity=\"1\" /><path clip-path=\"url(#clip590)\" d=\"M2109.8 252.645 Q2109.8 248.015 2107.88 245.469 Q2105.98 242.923 2102.53 242.923 Q2099.11 242.923 2097.18 245.469 Q2095.29 248.015 2095.29 252.645 Q2095.29 257.251 2097.18 259.798 Q2099.11 262.344 2102.53 262.344 Q2105.98 262.344 2107.88 259.798 Q2109.8 257.251 2109.8 252.645 M2114.06 262.691 Q2114.06 269.311 2111.12 272.529 Q2108.18 275.77 2102.12 275.77 Q2099.87 275.77 2097.88 275.422 Q2095.89 275.098 2094.01 274.404 L2094.01 270.26 Q2095.89 271.279 2097.72 271.765 Q2099.55 272.251 2101.44 272.251 Q2105.63 272.251 2107.72 270.052 Q2109.8 267.876 2109.8 263.455 L2109.8 261.348 Q2108.48 263.64 2106.42 264.774 Q2104.36 265.909 2101.49 265.909 Q2096.72 265.909 2093.8 262.274 Q2090.89 258.64 2090.89 252.645 Q2090.89 246.626 2093.8 242.992 Q2096.72 239.358 2101.49 239.358 Q2104.36 239.358 2106.42 240.492 Q2108.48 241.626 2109.8 243.918 L2109.8 239.983 L2114.06 239.983 L2114.06 262.691 Z\" fill=\"#000000\" fill-rule=\"evenodd\" fill-opacity=\"1\" /><path clip-path=\"url(#clip590)\" d=\"M2154.96 243.918 L2154.96 229.89 L2159.22 229.89 L2159.22 265.909 L2154.96 265.909 L2154.96 262.02 Q2153.62 264.335 2151.56 265.469 Q2149.52 266.58 2146.65 266.58 Q2141.95 266.58 2138.99 262.83 Q2136.05 259.08 2136.05 252.969 Q2136.05 246.858 2138.99 243.108 Q2141.95 239.358 2146.65 239.358 Q2149.52 239.358 2151.56 240.492 Q2153.62 241.603 2154.96 243.918 M2140.45 252.969 Q2140.45 257.668 2142.37 260.353 Q2144.31 263.015 2147.69 263.015 Q2151.07 263.015 2153.02 260.353 Q2154.96 257.668 2154.96 252.969 Q2154.96 248.27 2153.02 245.608 Q2151.07 242.923 2147.69 242.923 Q2144.31 242.923 2142.37 245.608 Q2140.45 248.27 2140.45 252.969 Z\" fill=\"#000000\" fill-rule=\"evenodd\" fill-opacity=\"1\" /><path clip-path=\"url(#clip590)\" d=\"M2179.78 252.876 Q2174.61 252.876 2172.62 254.057 Q2170.63 255.237 2170.63 258.085 Q2170.63 260.353 2172.11 261.696 Q2173.62 263.015 2176.19 263.015 Q2179.73 263.015 2181.86 260.515 Q2184.01 257.992 2184.01 253.825 L2184.01 252.876 L2179.78 252.876 M2188.27 251.117 L2188.27 265.909 L2184.01 265.909 L2184.01 261.973 Q2182.55 264.335 2180.38 265.469 Q2178.2 266.58 2175.05 266.58 Q2171.07 266.58 2168.71 264.358 Q2166.37 262.112 2166.37 258.362 Q2166.37 253.987 2169.29 251.765 Q2172.23 249.543 2178.04 249.543 L2184.01 249.543 L2184.01 249.126 Q2184.01 246.187 2182.07 244.589 Q2180.15 242.969 2176.65 242.969 Q2174.43 242.969 2172.32 243.501 Q2170.22 244.034 2168.27 245.099 L2168.27 241.163 Q2170.61 240.261 2172.81 239.821 Q2175.01 239.358 2177.09 239.358 Q2182.72 239.358 2185.49 242.274 Q2188.27 245.191 2188.27 251.117 Z\" fill=\"#000000\" fill-rule=\"evenodd\" fill-opacity=\"1\" /><path clip-path=\"url(#clip590)\" d=\"M2201.26 232.622 L2201.26 239.983 L2210.03 239.983 L2210.03 243.293 L2201.26 243.293 L2201.26 257.367 Q2201.26 260.538 2202.11 261.441 Q2202.99 262.344 2205.66 262.344 L2210.03 262.344 L2210.03 265.909 L2205.66 265.909 Q2200.73 265.909 2198.85 264.08 Q2196.98 262.228 2196.98 257.367 L2196.98 243.293 L2193.85 243.293 L2193.85 239.983 L2196.98 239.983 L2196.98 232.622 L2201.26 232.622 Z\" fill=\"#000000\" fill-rule=\"evenodd\" fill-opacity=\"1\" /><path clip-path=\"url(#clip590)\" d=\"M2227.42 252.876 Q2222.25 252.876 2220.26 254.057 Q2218.27 255.237 2218.27 258.085 Q2218.27 260.353 2219.75 261.696 Q2221.26 263.015 2223.83 263.015 Q2227.37 263.015 2229.5 260.515 Q2231.65 257.992 2231.65 253.825 L2231.65 252.876 L2227.42 252.876 M2235.91 251.117 L2235.91 265.909 L2231.65 265.909 L2231.65 261.973 Q2230.19 264.335 2228.02 265.469 Q2225.84 266.58 2222.69 266.58 Q2218.71 266.58 2216.35 264.358 Q2214.01 262.112 2214.01 258.362 Q2214.01 253.987 2216.93 251.765 Q2219.87 249.543 2225.68 249.543 L2231.65 249.543 L2231.65 249.126 Q2231.65 246.187 2229.71 244.589 Q2227.79 242.969 2224.29 242.969 Q2222.07 242.969 2219.96 243.501 Q2217.86 244.034 2215.91 245.099 L2215.91 241.163 Q2218.25 240.261 2220.45 239.821 Q2222.65 239.358 2224.73 239.358 Q2230.36 239.358 2233.13 242.274 Q2235.91 245.191 2235.91 251.117 Z\" fill=\"#000000\" fill-rule=\"evenodd\" fill-opacity=\"1\" /></svg>\n"
      ]
     },
     "execution_count": 21,
     "metadata": {},
     "output_type": "execute_result"
    }
   ],
   "source": [
    "Imax = maximum(tsdata[2,:])\n",
    "Igrid = 0:0.01:0.5\n",
    "λ = [foi1([I],res_ude1.minimizer, st1)[1][1] for I in Igrid]\n",
    "scatter(Igrid,λ,xlabel=\"Proportion of population infected, I\",ylab=\"Force of infection, λ\",label=\"Neural network prediction\")\n",
    "Plots.abline!(p[1],0,label=\"True value\")\n",
    "Plots.vline!([Imax],label=\"Upper bound of training data\")"
   ]
  },
  {
   "cell_type": "markdown",
   "metadata": {},
   "source": [
    "## Multiple layer network\n",
    "\n",
    "In the absence of prior knowledge, we use a neural network with multiple layers."
   ]
  },
  {
   "cell_type": "code",
   "execution_count": 22,
   "metadata": {
    "execution": {
     "iopub.execute_input": "2022-10-24T14:12:10.212000Z",
     "iopub.status.busy": "2022-10-24T14:12:10.212000Z",
     "iopub.status.idle": "2022-10-24T14:12:10.956000Z",
     "shell.execute_reply": "2022-10-24T14:12:10.956000Z"
    }
   },
   "outputs": [
    {
     "data": {
      "text/plain": [
       "((layer_1 = (weight = Float32[0.49557778; -0.38126603; -0.42284605; 0.107465595;;], bias = Float32[0.0; 0.0; 0.0; 0.0;;]), layer_2 = (weight = Float32[-0.15969938 -0.25347877 0.49135512 0.78781974; 0.8177637 0.035255868 0.58824235 -0.5106646; -0.6919587 -0.16589832 -0.77170587 0.78050417; -0.8402026 0.24172777 0.809115 0.047083568], bias = Float32[0.0; 0.0; 0.0; 0.0;;]), layer_3 = (weight = Float32[0.20837806 0.16283458 -0.48723406 0.38921136], bias = Float32[0.0;;])), (layer_1 = NamedTuple(), layer_2 = NamedTuple(), layer_3 = NamedTuple()))"
      ]
     },
     "execution_count": 22,
     "metadata": {},
     "output_type": "execute_result"
    }
   ],
   "source": [
    "Random.seed!(1234)\n",
    "nhidden = 4\n",
    "foi2 = Lux.Chain(Lux.Dense(1, nhidden, relu, init_weight= Lux.glorot_uniform),\n",
    "                     Lux.Dense(nhidden, nhidden, relu),\n",
    "                     Lux.Dense(nhidden, 1, relu))\n",
    "p2_, st2 = Lux.setup(rng, foi2)"
   ]
  },
  {
   "cell_type": "markdown",
   "metadata": {},
   "source": [
    "We wrap this neural network in a new `ODEProblem`."
   ]
  },
  {
   "cell_type": "code",
   "execution_count": 23,
   "metadata": {
    "execution": {
     "iopub.execute_input": "2022-10-24T14:12:10.960000Z",
     "iopub.status.busy": "2022-10-24T14:12:10.960000Z",
     "iopub.status.idle": "2022-10-24T14:12:11.008000Z",
     "shell.execute_reply": "2022-10-24T14:12:11.008000Z"
    }
   },
   "outputs": [],
   "source": [
    "sir_ude2 = (u,p_,t) -> sir_ude(u,p_,t,foi2, st2)\n",
    "prob_ude2 = ODEProblem(sir_ude2,\n",
    "                      u0,\n",
    "                      tspan_train,\n",
    "                      p2_);"
   ]
  },
  {
   "cell_type": "markdown",
   "metadata": {},
   "source": [
    "We define a new data structure to store the losses from the fitting of this more complex model."
   ]
  },
  {
   "cell_type": "code",
   "execution_count": 24,
   "metadata": {
    "execution": {
     "iopub.execute_input": "2022-10-24T14:12:11.012000Z",
     "iopub.status.busy": "2022-10-24T14:12:11.012000Z",
     "iopub.status.idle": "2022-10-24T14:12:11.014000Z",
     "shell.execute_reply": "2022-10-24T14:12:11.014000Z"
    }
   },
   "outputs": [],
   "source": [
    "const losses2 = []\n",
    "callback2 = function (p, l, pred)\n",
    "    push!(losses2, l)\n",
    "    numloss = length(losses2)\n",
    "    if numloss % 10 == 0\n",
    "        display(\"Epoch: \" * string(numloss) * \" Loss: \" * string(l))\n",
    "    end\n",
    "    return false\n",
    "end;"
   ]
  },
  {
   "cell_type": "code",
   "execution_count": 25,
   "metadata": {
    "execution": {
     "iopub.execute_input": "2022-10-24T14:12:11.016000Z",
     "iopub.status.busy": "2022-10-24T14:12:11.016000Z",
     "iopub.status.idle": "2022-10-24T14:13:52.689000Z",
     "shell.execute_reply": "2022-10-24T14:13:52.689000Z"
    }
   },
   "outputs": [
    {
     "data": {
      "text/plain": [
       "\"Epoch: 10 Loss: -46.799260374683094\""
      ]
     },
     "metadata": {},
     "output_type": "display_data"
    },
    {
     "data": {
      "text/plain": [
       "\"Epoch: 20 Loss: -51.42200189136061\""
      ]
     },
     "metadata": {},
     "output_type": "display_data"
    },
    {
     "data": {
      "text/plain": [
       "\"Epoch: 30 Loss: -52.332849893113384\""
      ]
     },
     "metadata": {},
     "output_type": "display_data"
    },
    {
     "data": {
      "text/plain": [
       "\"Epoch: 40 Loss: -52.68171188910899\""
      ]
     },
     "metadata": {},
     "output_type": "display_data"
    },
    {
     "data": {
      "text/plain": [
       "\"Epoch: 50 Loss: -53.46893725501623\""
      ]
     },
     "metadata": {},
     "output_type": "display_data"
    },
    {
     "data": {
      "text/plain": [
       "\"Epoch: 60 Loss: -54.76561455453879\""
      ]
     },
     "metadata": {},
     "output_type": "display_data"
    },
    {
     "data": {
      "text/plain": [
       "\"Epoch: 70 Loss: -56.45966833738093\""
      ]
     },
     "metadata": {},
     "output_type": "display_data"
    },
    {
     "name": "stderr",
     "output_type": "stream",
     "text": [
      "┌ Warning: Automatic dt set the starting dt as NaN, causing instability. Exiting.\n",
      "└ @ OrdinaryDiffEq /home/runner/.julia/packages/OrdinaryDiffEq/4qO6L/src/solve.jl:548\n",
      "┌ Warning: NaN dt detected. Likely a NaN value in the state, parameters, or derivative value caused this outcome.\n",
      "└ @ SciMLBase /home/runner/.julia/packages/SciMLBase/pmQ12/src/integrator_interface.jl:496\n",
      "┌ Warning: Automatic dt set the starting dt as NaN, causing instability. Exiting.\n",
      "└ @ OrdinaryDiffEq /home/runner/.julia/packages/OrdinaryDiffEq/4qO6L/src/solve.jl:548\n",
      "┌ Warning: NaN dt detected. Likely a NaN value in the state, parameters, or derivative value caused this outcome.\n",
      "└ @ SciMLBase /home/runner/.julia/packages/SciMLBase/pmQ12/src/integrator_interface.jl:496\n",
      "┌ Warning: Automatic dt set the starting dt as NaN, causing instability. Exiting.\n",
      "└ @ OrdinaryDiffEq /home/runner/.julia/packages/OrdinaryDiffEq/4qO6L/src/solve.jl:548\n",
      "┌ Warning: NaN dt detected. Likely a NaN value in the state, parameters, or derivative value caused this outcome.\n",
      "└ @ SciMLBase /home/runner/.julia/packages/SciMLBase/pmQ12/src/integrator_interface.jl:496\n",
      "┌ Warning: Automatic dt set the starting dt as NaN, causing instability. Exiting.\n",
      "└ @ OrdinaryDiffEq /home/runner/.julia/packages/OrdinaryDiffEq/4qO6L/src/solve.jl:548\n",
      "┌ Warning: NaN dt detected. Likely a NaN value in the state, parameters, or derivative value caused this outcome.\n",
      "└ @ SciMLBase /home/runner/.julia/packages/SciMLBase/pmQ12/src/integrator_interface.jl:496\n",
      "┌ Warning: Automatic dt set the starting dt as NaN, causing instability. Exiting.\n",
      "└ @ OrdinaryDiffEq /home/runner/.julia/packages/OrdinaryDiffEq/4qO6L/src/solve.jl:548\n",
      "┌ Warning: NaN dt detected. Likely a NaN value in the state, parameters, or derivative value caused this outcome.\n",
      "└ @ SciMLBase /home/runner/.julia/packages/SciMLBase/pmQ12/src/integrator_interface.jl:496\n",
      "┌ Warning: Automatic dt set the starting dt as NaN, causing instability. Exiting.\n",
      "└ @ OrdinaryDiffEq /home/runner/.julia/packages/OrdinaryDiffEq/4qO6L/src/solve.jl:548\n",
      "┌ Warning: NaN dt detected. Likely a NaN value in the state, parameters, or derivative value caused this outcome.\n",
      "└ @ SciMLBase /home/runner/.julia/packages/SciMLBase/pmQ12/src/integrator_interface.jl:496\n",
      "┌ Warning: Automatic dt set the starting dt as NaN, causing instability. Exiting.\n",
      "└ @ OrdinaryDiffEq /home/runner/.julia/packages/OrdinaryDiffEq/4qO6L/src/solve.jl:548\n",
      "┌ Warning: NaN dt detected. Likely a NaN value in the state, parameters, or derivative value caused this outcome.\n",
      "└ @ SciMLBase /home/runner/.julia/packages/SciMLBase/pmQ12/src/integrator_interface.jl:496\n"
     ]
    },
    {
     "data": {
      "text/plain": [
       "\"Epoch: 80 Loss: Inf\""
      ]
     },
     "metadata": {},
     "output_type": "display_data"
    },
    {
     "name": "stderr",
     "output_type": "stream",
     "text": [
      "┌ Warning: Automatic dt set the starting dt as NaN, causing instability. Exiting.\n",
      "└ @ OrdinaryDiffEq /home/runner/.julia/packages/OrdinaryDiffEq/4qO6L/src/solve.jl:548\n",
      "┌ Warning: NaN dt detected. Likely a NaN value in the state, parameters, or derivative value caused this outcome.\n",
      "└ @ SciMLBase /home/runner/.julia/packages/SciMLBase/pmQ12/src/integrator_interface.jl:496\n",
      "┌ Warning: Automatic dt set the starting dt as NaN, causing instability. Exiting.\n",
      "└ @ OrdinaryDiffEq /home/runner/.julia/packages/OrdinaryDiffEq/4qO6L/src/solve.jl:548\n",
      "┌ Warning: NaN dt detected. Likely a NaN value in the state, parameters, or derivative value caused this outcome.\n",
      "└ @ SciMLBase /home/runner/.julia/packages/SciMLBase/pmQ12/src/integrator_interface.jl:496\n",
      "┌ Warning: Automatic dt set the starting dt as NaN, causing instability. Exiting.\n",
      "└ @ OrdinaryDiffEq /home/runner/.julia/packages/OrdinaryDiffEq/4qO6L/src/solve.jl:548\n",
      "┌ Warning: NaN dt detected. Likely a NaN value in the state, parameters, or derivative value caused this outcome.\n",
      "└ @ SciMLBase /home/runner/.julia/packages/SciMLBase/pmQ12/src/integrator_interface.jl:496\n",
      "┌ Warning: Automatic dt set the starting dt as NaN, causing instability. Exiting.\n",
      "└ @ OrdinaryDiffEq /home/runner/.julia/packages/OrdinaryDiffEq/4qO6L/src/solve.jl:548\n",
      "┌ Warning: NaN dt detected. Likely a NaN value in the state, parameters, or derivative value caused this outcome.\n",
      "└ @ SciMLBase /home/runner/.julia/packages/SciMLBase/pmQ12/src/integrator_interface.jl:496\n",
      "┌ Warning: Automatic dt set the starting dt as NaN, causing instability. Exiting.\n",
      "└ @ OrdinaryDiffEq /home/runner/.julia/packages/OrdinaryDiffEq/4qO6L/src/solve.jl:548\n",
      "┌ Warning: NaN dt detected. Likely a NaN value in the state, parameters, or derivative value caused this outcome.\n",
      "└ @ SciMLBase /home/runner/.julia/packages/SciMLBase/pmQ12/src/integrator_interface.jl:496\n",
      "┌ Warning: Automatic dt set the starting dt as NaN, causing instability. Exiting.\n",
      "└ @ OrdinaryDiffEq /home/runner/.julia/packages/OrdinaryDiffEq/4qO6L/src/solve.jl:548\n",
      "┌ Warning: NaN dt detected. Likely a NaN value in the state, parameters, or derivative value caused this outcome.\n",
      "└ @ SciMLBase /home/runner/.julia/packages/SciMLBase/pmQ12/src/integrator_interface.jl:496\n",
      "┌ Warning: Automatic dt set the starting dt as NaN, causing instability. Exiting.\n",
      "└ @ OrdinaryDiffEq /home/runner/.julia/packages/OrdinaryDiffEq/4qO6L/src/solve.jl:548\n",
      "┌ Warning: NaN dt detected. Likely a NaN value in the state, parameters, or derivative value caused this outcome.\n",
      "└ @ SciMLBase /home/runner/.julia/packages/SciMLBase/pmQ12/src/integrator_interface.jl:496\n",
      "┌ Warning: Automatic dt set the starting dt as NaN, causing instability. Exiting.\n",
      "└ @ OrdinaryDiffEq /home/runner/.julia/packages/OrdinaryDiffEq/4qO6L/src/solve.jl:548\n",
      "┌ Warning: NaN dt detected. Likely a NaN value in the state, parameters, or derivative value caused this outcome.\n",
      "└ @ SciMLBase /home/runner/.julia/packages/SciMLBase/pmQ12/src/integrator_interface.jl:496\n",
      "┌ Warning: Automatic dt set the starting dt as NaN, causing instability. Exiting.\n",
      "└ @ OrdinaryDiffEq /home/runner/.julia/packages/OrdinaryDiffEq/4qO6L/src/solve.jl:548\n",
      "┌ Warning: NaN dt detected. Likely a NaN value in the state, parameters, or derivative value caused this outcome.\n",
      "└ @ SciMLBase /home/runner/.julia/packages/SciMLBase/pmQ12/src/integrator_interface.jl:496\n",
      "┌ Warning: Automatic dt set the starting dt as NaN, causing instability. Exiting.\n",
      "└ @ OrdinaryDiffEq /home/runner/.julia/packages/OrdinaryDiffEq/4qO6L/src/solve.jl:548\n",
      "┌ Warning: NaN dt detected. Likely a NaN value in the state, parameters, or derivative value caused this outcome.\n",
      "└ @ SciMLBase /home/runner/.julia/packages/SciMLBase/pmQ12/src/integrator_interface.jl:496\n"
     ]
    },
    {
     "data": {
      "text/plain": [
       "\"Epoch: 90 Loss: Inf\""
      ]
     },
     "metadata": {},
     "output_type": "display_data"
    },
    {
     "name": "stderr",
     "output_type": "stream",
     "text": [
      "┌ Warning: Automatic dt set the starting dt as NaN, causing instability. Exiting.\n",
      "└ @ OrdinaryDiffEq /home/runner/.julia/packages/OrdinaryDiffEq/4qO6L/src/solve.jl:548\n",
      "┌ Warning: NaN dt detected. Likely a NaN value in the state, parameters, or derivative value caused this outcome.\n",
      "└ @ SciMLBase /home/runner/.julia/packages/SciMLBase/pmQ12/src/integrator_interface.jl:496\n",
      "┌ Warning: Automatic dt set the starting dt as NaN, causing instability. Exiting.\n",
      "└ @ OrdinaryDiffEq /home/runner/.julia/packages/OrdinaryDiffEq/4qO6L/src/solve.jl:548\n",
      "┌ Warning: NaN dt detected. Likely a NaN value in the state, parameters, or derivative value caused this outcome.\n",
      "└ @ SciMLBase /home/runner/.julia/packages/SciMLBase/pmQ12/src/integrator_interface.jl:496\n",
      "┌ Warning: Automatic dt set the starting dt as NaN, causing instability. Exiting.\n",
      "└ @ OrdinaryDiffEq /home/runner/.julia/packages/OrdinaryDiffEq/4qO6L/src/solve.jl:548\n",
      "┌ Warning: NaN dt detected. Likely a NaN value in the state, parameters, or derivative value caused this outcome.\n",
      "└ @ SciMLBase /home/runner/.julia/packages/SciMLBase/pmQ12/src/integrator_interface.jl:496\n",
      "┌ Warning: Automatic dt set the starting dt as NaN, causing instability. Exiting.\n",
      "└ @ OrdinaryDiffEq /home/runner/.julia/packages/OrdinaryDiffEq/4qO6L/src/solve.jl:548\n",
      "┌ Warning: NaN dt detected. Likely a NaN value in the state, parameters, or derivative value caused this outcome.\n",
      "└ @ SciMLBase /home/runner/.julia/packages/SciMLBase/pmQ12/src/integrator_interface.jl:496\n",
      "┌ Warning: Automatic dt set the starting dt as NaN, causing instability. Exiting.\n",
      "└ @ OrdinaryDiffEq /home/runner/.julia/packages/OrdinaryDiffEq/4qO6L/src/solve.jl:548\n",
      "┌ Warning: NaN dt detected. Likely a NaN value in the state, parameters, or derivative value caused this outcome.\n",
      "└ @ SciMLBase /home/runner/.julia/packages/SciMLBase/pmQ12/src/integrator_interface.jl:496\n",
      "┌ Warning: Automatic dt set the starting dt as NaN, causing instability. Exiting.\n",
      "└ @ OrdinaryDiffEq /home/runner/.julia/packages/OrdinaryDiffEq/4qO6L/src/solve.jl:548\n",
      "┌ Warning: NaN dt detected. Likely a NaN value in the state, parameters, or derivative value caused this outcome.\n",
      "└ @ SciMLBase /home/runner/.julia/packages/SciMLBase/pmQ12/src/integrator_interface.jl:496\n",
      "┌ Warning: Automatic dt set the starting dt as NaN, causing instability. Exiting.\n",
      "└ @ OrdinaryDiffEq /home/runner/.julia/packages/OrdinaryDiffEq/4qO6L/src/solve.jl:548\n",
      "┌ Warning: NaN dt detected. Likely a NaN value in the state, parameters, or derivative value caused this outcome.\n",
      "└ @ SciMLBase /home/runner/.julia/packages/SciMLBase/pmQ12/src/integrator_interface.jl:496\n",
      "┌ Warning: Automatic dt set the starting dt as NaN, causing instability. Exiting.\n",
      "└ @ OrdinaryDiffEq /home/runner/.julia/packages/OrdinaryDiffEq/4qO6L/src/solve.jl:548\n",
      "┌ Warning: NaN dt detected. Likely a NaN value in the state, parameters, or derivative value caused this outcome.\n",
      "└ @ SciMLBase /home/runner/.julia/packages/SciMLBase/pmQ12/src/integrator_interface.jl:496\n",
      "┌ Warning: Automatic dt set the starting dt as NaN, causing instability. Exiting.\n",
      "└ @ OrdinaryDiffEq /home/runner/.julia/packages/OrdinaryDiffEq/4qO6L/src/solve.jl:548\n",
      "┌ Warning: NaN dt detected. Likely a NaN value in the state, parameters, or derivative value caused this outcome.\n",
      "└ @ SciMLBase /home/runner/.julia/packages/SciMLBase/pmQ12/src/integrator_interface.jl:496\n",
      "┌ Warning: Automatic dt set the starting dt as NaN, causing instability. Exiting.\n",
      "└ @ OrdinaryDiffEq /home/runner/.julia/packages/OrdinaryDiffEq/4qO6L/src/solve.jl:548\n",
      "┌ Warning: NaN dt detected. Likely a NaN value in the state, parameters, or derivative value caused this outcome.\n",
      "└ @ SciMLBase /home/runner/.julia/packages/SciMLBase/pmQ12/src/integrator_interface.jl:496\n"
     ]
    },
    {
     "data": {
      "text/plain": [
       "\"Epoch: 100 Loss: Inf\""
      ]
     },
     "metadata": {},
     "output_type": "display_data"
    },
    {
     "name": "stderr",
     "output_type": "stream",
     "text": [
      "┌ Warning: Automatic dt set the starting dt as NaN, causing instability. Exiting.\n",
      "└ @ OrdinaryDiffEq /home/runner/.julia/packages/OrdinaryDiffEq/4qO6L/src/solve.jl:548\n",
      "┌ Warning: NaN dt detected. Likely a NaN value in the state, parameters, or derivative value caused this outcome.\n",
      "└ @ SciMLBase /home/runner/.julia/packages/SciMLBase/pmQ12/src/integrator_interface.jl:496\n",
      "┌ Warning: Automatic dt set the starting dt as NaN, causing instability. Exiting.\n",
      "└ @ OrdinaryDiffEq /home/runner/.julia/packages/OrdinaryDiffEq/4qO6L/src/solve.jl:548\n",
      "┌ Warning: NaN dt detected. Likely a NaN value in the state, parameters, or derivative value caused this outcome.\n",
      "└ @ SciMLBase /home/runner/.julia/packages/SciMLBase/pmQ12/src/integrator_interface.jl:496\n",
      "┌ Warning: Automatic dt set the starting dt as NaN, causing instability. Exiting.\n",
      "└ @ OrdinaryDiffEq /home/runner/.julia/packages/OrdinaryDiffEq/4qO6L/src/solve.jl:548\n",
      "┌ Warning: NaN dt detected. Likely a NaN value in the state, parameters, or derivative value caused this outcome.\n",
      "└ @ SciMLBase /home/runner/.julia/packages/SciMLBase/pmQ12/src/integrator_interface.jl:496\n",
      "┌ Warning: Automatic dt set the starting dt as NaN, causing instability. Exiting.\n",
      "└ @ OrdinaryDiffEq /home/runner/.julia/packages/OrdinaryDiffEq/4qO6L/src/solve.jl:548\n",
      "┌ Warning: NaN dt detected. Likely a NaN value in the state, parameters, or derivative value caused this outcome.\n",
      "└ @ SciMLBase /home/runner/.julia/packages/SciMLBase/pmQ12/src/integrator_interface.jl:496\n",
      "┌ Warning: Automatic dt set the starting dt as NaN, causing instability. Exiting.\n",
      "└ @ OrdinaryDiffEq /home/runner/.julia/packages/OrdinaryDiffEq/4qO6L/src/solve.jl:548\n",
      "┌ Warning: NaN dt detected. Likely a NaN value in the state, parameters, or derivative value caused this outcome.\n",
      "└ @ SciMLBase /home/runner/.julia/packages/SciMLBase/pmQ12/src/integrator_interface.jl:496\n",
      "┌ Warning: Automatic dt set the starting dt as NaN, causing instability. Exiting.\n",
      "└ @ OrdinaryDiffEq /home/runner/.julia/packages/OrdinaryDiffEq/4qO6L/src/solve.jl:548\n",
      "┌ Warning: NaN dt detected. Likely a NaN value in the state, parameters, or derivative value caused this outcome.\n",
      "└ @ SciMLBase /home/runner/.julia/packages/SciMLBase/pmQ12/src/integrator_interface.jl:496\n",
      "┌ Warning: Automatic dt set the starting dt as NaN, causing instability. Exiting.\n",
      "└ @ OrdinaryDiffEq /home/runner/.julia/packages/OrdinaryDiffEq/4qO6L/src/solve.jl:548\n",
      "┌ Warning: NaN dt detected. Likely a NaN value in the state, parameters, or derivative value caused this outcome.\n",
      "└ @ SciMLBase /home/runner/.julia/packages/SciMLBase/pmQ12/src/integrator_interface.jl:496\n",
      "┌ Warning: Automatic dt set the starting dt as NaN, causing instability. Exiting.\n",
      "└ @ OrdinaryDiffEq /home/runner/.julia/packages/OrdinaryDiffEq/4qO6L/src/solve.jl:548\n",
      "┌ Warning: NaN dt detected. Likely a NaN value in the state, parameters, or derivative value caused this outcome.\n",
      "└ @ SciMLBase /home/runner/.julia/packages/SciMLBase/pmQ12/src/integrator_interface.jl:496\n",
      "┌ Warning: Automatic dt set the starting dt as NaN, causing instability. Exiting.\n",
      "└ @ OrdinaryDiffEq /home/runner/.julia/packages/OrdinaryDiffEq/4qO6L/src/solve.jl:548\n",
      "┌ Warning: NaN dt detected. Likely a NaN value in the state, parameters, or derivative value caused this outcome.\n",
      "└ @ SciMLBase /home/runner/.julia/packages/SciMLBase/pmQ12/src/integrator_interface.jl:496\n",
      "┌ Warning: Automatic dt set the starting dt as NaN, causing instability. Exiting.\n",
      "└ @ OrdinaryDiffEq /home/runner/.julia/packages/OrdinaryDiffEq/4qO6L/src/solve.jl:548\n",
      "┌ Warning: NaN dt detected. Likely a NaN value in the state, parameters, or derivative value caused this outcome.\n",
      "└ @ SciMLBase /home/runner/.julia/packages/SciMLBase/pmQ12/src/integrator_interface.jl:496\n"
     ]
    },
    {
     "data": {
      "text/plain": [
       "\"Epoch: 110 Loss: Inf\""
      ]
     },
     "metadata": {},
     "output_type": "display_data"
    },
    {
     "name": "stderr",
     "output_type": "stream",
     "text": [
      "┌ Warning: Automatic dt set the starting dt as NaN, causing instability. Exiting.\n",
      "└ @ OrdinaryDiffEq /home/runner/.julia/packages/OrdinaryDiffEq/4qO6L/src/solve.jl:548\n",
      "┌ Warning: NaN dt detected. Likely a NaN value in the state, parameters, or derivative value caused this outcome.\n",
      "└ @ SciMLBase /home/runner/.julia/packages/SciMLBase/pmQ12/src/integrator_interface.jl:496\n",
      "┌ Warning: Automatic dt set the starting dt as NaN, causing instability. Exiting.\n",
      "└ @ OrdinaryDiffEq /home/runner/.julia/packages/OrdinaryDiffEq/4qO6L/src/solve.jl:548\n",
      "┌ Warning: NaN dt detected. Likely a NaN value in the state, parameters, or derivative value caused this outcome.\n",
      "└ @ SciMLBase /home/runner/.julia/packages/SciMLBase/pmQ12/src/integrator_interface.jl:496\n",
      "┌ Warning: Automatic dt set the starting dt as NaN, causing instability. Exiting.\n",
      "└ @ OrdinaryDiffEq /home/runner/.julia/packages/OrdinaryDiffEq/4qO6L/src/solve.jl:548\n",
      "┌ Warning: NaN dt detected. Likely a NaN value in the state, parameters, or derivative value caused this outcome.\n",
      "└ @ SciMLBase /home/runner/.julia/packages/SciMLBase/pmQ12/src/integrator_interface.jl:496\n",
      "┌ Warning: Automatic dt set the starting dt as NaN, causing instability. Exiting.\n",
      "└ @ OrdinaryDiffEq /home/runner/.julia/packages/OrdinaryDiffEq/4qO6L/src/solve.jl:548\n",
      "┌ Warning: NaN dt detected. Likely a NaN value in the state, parameters, or derivative value caused this outcome.\n",
      "└ @ SciMLBase /home/runner/.julia/packages/SciMLBase/pmQ12/src/integrator_interface.jl:496\n",
      "┌ Warning: Automatic dt set the starting dt as NaN, causing instability. Exiting.\n",
      "└ @ OrdinaryDiffEq /home/runner/.julia/packages/OrdinaryDiffEq/4qO6L/src/solve.jl:548\n",
      "┌ Warning: NaN dt detected. Likely a NaN value in the state, parameters, or derivative value caused this outcome.\n",
      "└ @ SciMLBase /home/runner/.julia/packages/SciMLBase/pmQ12/src/integrator_interface.jl:496\n",
      "┌ Warning: Automatic dt set the starting dt as NaN, causing instability. Exiting.\n",
      "└ @ OrdinaryDiffEq /home/runner/.julia/packages/OrdinaryDiffEq/4qO6L/src/solve.jl:548\n",
      "┌ Warning: NaN dt detected. Likely a NaN value in the state, parameters, or derivative value caused this outcome.\n",
      "└ @ SciMLBase /home/runner/.julia/packages/SciMLBase/pmQ12/src/integrator_interface.jl:496\n",
      "┌ Warning: Automatic dt set the starting dt as NaN, causing instability. Exiting.\n",
      "└ @ OrdinaryDiffEq /home/runner/.julia/packages/OrdinaryDiffEq/4qO6L/src/solve.jl:548\n",
      "┌ Warning: NaN dt detected. Likely a NaN value in the state, parameters, or derivative value caused this outcome.\n",
      "└ @ SciMLBase /home/runner/.julia/packages/SciMLBase/pmQ12/src/integrator_interface.jl:496\n",
      "┌ Warning: Automatic dt set the starting dt as NaN, causing instability. Exiting.\n",
      "└ @ OrdinaryDiffEq /home/runner/.julia/packages/OrdinaryDiffEq/4qO6L/src/solve.jl:548\n",
      "┌ Warning: NaN dt detected. Likely a NaN value in the state, parameters, or derivative value caused this outcome.\n",
      "└ @ SciMLBase /home/runner/.julia/packages/SciMLBase/pmQ12/src/integrator_interface.jl:496\n",
      "┌ Warning: Automatic dt set the starting dt as NaN, causing instability. Exiting.\n",
      "└ @ OrdinaryDiffEq /home/runner/.julia/packages/OrdinaryDiffEq/4qO6L/src/solve.jl:548\n",
      "┌ Warning: NaN dt detected. Likely a NaN value in the state, parameters, or derivative value caused this outcome.\n",
      "└ @ SciMLBase /home/runner/.julia/packages/SciMLBase/pmQ12/src/integrator_interface.jl:496\n",
      "┌ Warning: Automatic dt set the starting dt as NaN, causing instability. Exiting.\n",
      "└ @ OrdinaryDiffEq /home/runner/.julia/packages/OrdinaryDiffEq/4qO6L/src/solve.jl:548\n",
      "┌ Warning: NaN dt detected. Likely a NaN value in the state, parameters, or derivative value caused this outcome.\n",
      "└ @ SciMLBase /home/runner/.julia/packages/SciMLBase/pmQ12/src/integrator_interface.jl:496\n"
     ]
    },
    {
     "data": {
      "text/plain": [
       "\"Epoch: 120 Loss: Inf\""
      ]
     },
     "metadata": {},
     "output_type": "display_data"
    },
    {
     "name": "stderr",
     "output_type": "stream",
     "text": [
      "┌ Warning: Automatic dt set the starting dt as NaN, causing instability. Exiting.\n",
      "└ @ OrdinaryDiffEq /home/runner/.julia/packages/OrdinaryDiffEq/4qO6L/src/solve.jl:548\n",
      "┌ Warning: NaN dt detected. Likely a NaN value in the state, parameters, or derivative value caused this outcome.\n",
      "└ @ SciMLBase /home/runner/.julia/packages/SciMLBase/pmQ12/src/integrator_interface.jl:496\n",
      "┌ Warning: Automatic dt set the starting dt as NaN, causing instability. Exiting.\n",
      "└ @ OrdinaryDiffEq /home/runner/.julia/packages/OrdinaryDiffEq/4qO6L/src/solve.jl:548\n",
      "┌ Warning: NaN dt detected. Likely a NaN value in the state, parameters, or derivative value caused this outcome.\n",
      "└ @ SciMLBase /home/runner/.julia/packages/SciMLBase/pmQ12/src/integrator_interface.jl:496\n",
      "┌ Warning: Automatic dt set the starting dt as NaN, causing instability. Exiting.\n",
      "└ @ OrdinaryDiffEq /home/runner/.julia/packages/OrdinaryDiffEq/4qO6L/src/solve.jl:548\n",
      "┌ Warning: NaN dt detected. Likely a NaN value in the state, parameters, or derivative value caused this outcome.\n",
      "└ @ SciMLBase /home/runner/.julia/packages/SciMLBase/pmQ12/src/integrator_interface.jl:496\n",
      "┌ Warning: Automatic dt set the starting dt as NaN, causing instability. Exiting.\n",
      "└ @ OrdinaryDiffEq /home/runner/.julia/packages/OrdinaryDiffEq/4qO6L/src/solve.jl:548\n",
      "┌ Warning: NaN dt detected. Likely a NaN value in the state, parameters, or derivative value caused this outcome.\n",
      "└ @ SciMLBase /home/runner/.julia/packages/SciMLBase/pmQ12/src/integrator_interface.jl:496\n",
      "┌ Warning: Automatic dt set the starting dt as NaN, causing instability. Exiting.\n",
      "└ @ OrdinaryDiffEq /home/runner/.julia/packages/OrdinaryDiffEq/4qO6L/src/solve.jl:548\n",
      "┌ Warning: NaN dt detected. Likely a NaN value in the state, parameters, or derivative value caused this outcome.\n",
      "└ @ SciMLBase /home/runner/.julia/packages/SciMLBase/pmQ12/src/integrator_interface.jl:496\n",
      "┌ Warning: Automatic dt set the starting dt as NaN, causing instability. Exiting.\n",
      "└ @ OrdinaryDiffEq /home/runner/.julia/packages/OrdinaryDiffEq/4qO6L/src/solve.jl:548\n",
      "┌ Warning: NaN dt detected. Likely a NaN value in the state, parameters, or derivative value caused this outcome.\n",
      "└ @ SciMLBase /home/runner/.julia/packages/SciMLBase/pmQ12/src/integrator_interface.jl:496\n",
      "┌ Warning: Automatic dt set the starting dt as NaN, causing instability. Exiting.\n",
      "└ @ OrdinaryDiffEq /home/runner/.julia/packages/OrdinaryDiffEq/4qO6L/src/solve.jl:548\n",
      "┌ Warning: NaN dt detected. Likely a NaN value in the state, parameters, or derivative value caused this outcome.\n",
      "└ @ SciMLBase /home/runner/.julia/packages/SciMLBase/pmQ12/src/integrator_interface.jl:496\n",
      "┌ Warning: Automatic dt set the starting dt as NaN, causing instability. Exiting.\n",
      "└ @ OrdinaryDiffEq /home/runner/.julia/packages/OrdinaryDiffEq/4qO6L/src/solve.jl:548\n",
      "┌ Warning: NaN dt detected. Likely a NaN value in the state, parameters, or derivative value caused this outcome.\n",
      "└ @ SciMLBase /home/runner/.julia/packages/SciMLBase/pmQ12/src/integrator_interface.jl:496\n",
      "┌ Warning: Automatic dt set the starting dt as NaN, causing instability. Exiting.\n",
      "└ @ OrdinaryDiffEq /home/runner/.julia/packages/OrdinaryDiffEq/4qO6L/src/solve.jl:548\n",
      "┌ Warning: NaN dt detected. Likely a NaN value in the state, parameters, or derivative value caused this outcome.\n",
      "└ @ SciMLBase /home/runner/.julia/packages/SciMLBase/pmQ12/src/integrator_interface.jl:496\n",
      "┌ Warning: Automatic dt set the starting dt as NaN, causing instability. Exiting.\n",
      "└ @ OrdinaryDiffEq /home/runner/.julia/packages/OrdinaryDiffEq/4qO6L/src/solve.jl:548\n",
      "┌ Warning: NaN dt detected. Likely a NaN value in the state, parameters, or derivative value caused this outcome.\n",
      "└ @ SciMLBase /home/runner/.julia/packages/SciMLBase/pmQ12/src/integrator_interface.jl:496\n"
     ]
    },
    {
     "data": {
      "text/plain": [
       "\"Epoch: 130 Loss: Inf\""
      ]
     },
     "metadata": {},
     "output_type": "display_data"
    },
    {
     "name": "stderr",
     "output_type": "stream",
     "text": [
      "┌ Warning: Automatic dt set the starting dt as NaN, causing instability. Exiting.\n",
      "└ @ OrdinaryDiffEq /home/runner/.julia/packages/OrdinaryDiffEq/4qO6L/src/solve.jl:548\n",
      "┌ Warning: NaN dt detected. Likely a NaN value in the state, parameters, or derivative value caused this outcome.\n",
      "└ @ SciMLBase /home/runner/.julia/packages/SciMLBase/pmQ12/src/integrator_interface.jl:496\n",
      "┌ Warning: Automatic dt set the starting dt as NaN, causing instability. Exiting.\n",
      "└ @ OrdinaryDiffEq /home/runner/.julia/packages/OrdinaryDiffEq/4qO6L/src/solve.jl:548\n",
      "┌ Warning: NaN dt detected. Likely a NaN value in the state, parameters, or derivative value caused this outcome.\n",
      "└ @ SciMLBase /home/runner/.julia/packages/SciMLBase/pmQ12/src/integrator_interface.jl:496\n",
      "┌ Warning: Automatic dt set the starting dt as NaN, causing instability. Exiting.\n",
      "└ @ OrdinaryDiffEq /home/runner/.julia/packages/OrdinaryDiffEq/4qO6L/src/solve.jl:548\n",
      "┌ Warning: NaN dt detected. Likely a NaN value in the state, parameters, or derivative value caused this outcome.\n",
      "└ @ SciMLBase /home/runner/.julia/packages/SciMLBase/pmQ12/src/integrator_interface.jl:496\n",
      "┌ Warning: Automatic dt set the starting dt as NaN, causing instability. Exiting.\n",
      "└ @ OrdinaryDiffEq /home/runner/.julia/packages/OrdinaryDiffEq/4qO6L/src/solve.jl:548\n",
      "┌ Warning: NaN dt detected. Likely a NaN value in the state, parameters, or derivative value caused this outcome.\n",
      "└ @ SciMLBase /home/runner/.julia/packages/SciMLBase/pmQ12/src/integrator_interface.jl:496\n",
      "┌ Warning: Automatic dt set the starting dt as NaN, causing instability. Exiting.\n",
      "└ @ OrdinaryDiffEq /home/runner/.julia/packages/OrdinaryDiffEq/4qO6L/src/solve.jl:548\n",
      "┌ Warning: NaN dt detected. Likely a NaN value in the state, parameters, or derivative value caused this outcome.\n",
      "└ @ SciMLBase /home/runner/.julia/packages/SciMLBase/pmQ12/src/integrator_interface.jl:496\n",
      "┌ Warning: Automatic dt set the starting dt as NaN, causing instability. Exiting.\n",
      "└ @ OrdinaryDiffEq /home/runner/.julia/packages/OrdinaryDiffEq/4qO6L/src/solve.jl:548\n",
      "┌ Warning: NaN dt detected. Likely a NaN value in the state, parameters, or derivative value caused this outcome.\n",
      "└ @ SciMLBase /home/runner/.julia/packages/SciMLBase/pmQ12/src/integrator_interface.jl:496\n",
      "┌ Warning: Automatic dt set the starting dt as NaN, causing instability. Exiting.\n",
      "└ @ OrdinaryDiffEq /home/runner/.julia/packages/OrdinaryDiffEq/4qO6L/src/solve.jl:548\n",
      "┌ Warning: NaN dt detected. Likely a NaN value in the state, parameters, or derivative value caused this outcome.\n",
      "└ @ SciMLBase /home/runner/.julia/packages/SciMLBase/pmQ12/src/integrator_interface.jl:496\n",
      "┌ Warning: Automatic dt set the starting dt as NaN, causing instability. Exiting.\n",
      "└ @ OrdinaryDiffEq /home/runner/.julia/packages/OrdinaryDiffEq/4qO6L/src/solve.jl:548\n",
      "┌ Warning: NaN dt detected. Likely a NaN value in the state, parameters, or derivative value caused this outcome.\n",
      "└ @ SciMLBase /home/runner/.julia/packages/SciMLBase/pmQ12/src/integrator_interface.jl:496\n",
      "┌ Warning: Automatic dt set the starting dt as NaN, causing instability. Exiting.\n",
      "└ @ OrdinaryDiffEq /home/runner/.julia/packages/OrdinaryDiffEq/4qO6L/src/solve.jl:548\n",
      "┌ Warning: NaN dt detected. Likely a NaN value in the state, parameters, or derivative value caused this outcome.\n",
      "└ @ SciMLBase /home/runner/.julia/packages/SciMLBase/pmQ12/src/integrator_interface.jl:496\n",
      "┌ Warning: Automatic dt set the starting dt as NaN, causing instability. Exiting.\n",
      "└ @ OrdinaryDiffEq /home/runner/.julia/packages/OrdinaryDiffEq/4qO6L/src/solve.jl:548\n",
      "┌ Warning: NaN dt detected. Likely a NaN value in the state, parameters, or derivative value caused this outcome.\n",
      "└ @ SciMLBase /home/runner/.julia/packages/SciMLBase/pmQ12/src/integrator_interface.jl:496\n"
     ]
    },
    {
     "data": {
      "text/plain": [
       "\"Epoch: 140 Loss: Inf\""
      ]
     },
     "metadata": {},
     "output_type": "display_data"
    },
    {
     "name": "stderr",
     "output_type": "stream",
     "text": [
      "┌ Warning: Automatic dt set the starting dt as NaN, causing instability. Exiting.\n",
      "└ @ OrdinaryDiffEq /home/runner/.julia/packages/OrdinaryDiffEq/4qO6L/src/solve.jl:548\n",
      "┌ Warning: NaN dt detected. Likely a NaN value in the state, parameters, or derivative value caused this outcome.\n",
      "└ @ SciMLBase /home/runner/.julia/packages/SciMLBase/pmQ12/src/integrator_interface.jl:496\n",
      "┌ Warning: Automatic dt set the starting dt as NaN, causing instability. Exiting.\n",
      "└ @ OrdinaryDiffEq /home/runner/.julia/packages/OrdinaryDiffEq/4qO6L/src/solve.jl:548\n",
      "┌ Warning: NaN dt detected. Likely a NaN value in the state, parameters, or derivative value caused this outcome.\n",
      "└ @ SciMLBase /home/runner/.julia/packages/SciMLBase/pmQ12/src/integrator_interface.jl:496\n",
      "┌ Warning: Automatic dt set the starting dt as NaN, causing instability. Exiting.\n",
      "└ @ OrdinaryDiffEq /home/runner/.julia/packages/OrdinaryDiffEq/4qO6L/src/solve.jl:548\n",
      "┌ Warning: NaN dt detected. Likely a NaN value in the state, parameters, or derivative value caused this outcome.\n",
      "└ @ SciMLBase /home/runner/.julia/packages/SciMLBase/pmQ12/src/integrator_interface.jl:496\n",
      "┌ Warning: Automatic dt set the starting dt as NaN, causing instability. Exiting.\n",
      "└ @ OrdinaryDiffEq /home/runner/.julia/packages/OrdinaryDiffEq/4qO6L/src/solve.jl:548\n",
      "┌ Warning: NaN dt detected. Likely a NaN value in the state, parameters, or derivative value caused this outcome.\n",
      "└ @ SciMLBase /home/runner/.julia/packages/SciMLBase/pmQ12/src/integrator_interface.jl:496\n",
      "┌ Warning: Automatic dt set the starting dt as NaN, causing instability. Exiting.\n",
      "└ @ OrdinaryDiffEq /home/runner/.julia/packages/OrdinaryDiffEq/4qO6L/src/solve.jl:548\n",
      "┌ Warning: NaN dt detected. Likely a NaN value in the state, parameters, or derivative value caused this outcome.\n",
      "└ @ SciMLBase /home/runner/.julia/packages/SciMLBase/pmQ12/src/integrator_interface.jl:496\n",
      "┌ Warning: Automatic dt set the starting dt as NaN, causing instability. Exiting.\n",
      "└ @ OrdinaryDiffEq /home/runner/.julia/packages/OrdinaryDiffEq/4qO6L/src/solve.jl:548\n",
      "┌ Warning: NaN dt detected. Likely a NaN value in the state, parameters, or derivative value caused this outcome.\n",
      "└ @ SciMLBase /home/runner/.julia/packages/SciMLBase/pmQ12/src/integrator_interface.jl:496\n",
      "┌ Warning: Automatic dt set the starting dt as NaN, causing instability. Exiting.\n",
      "└ @ OrdinaryDiffEq /home/runner/.julia/packages/OrdinaryDiffEq/4qO6L/src/solve.jl:548\n",
      "┌ Warning: NaN dt detected. Likely a NaN value in the state, parameters, or derivative value caused this outcome.\n",
      "└ @ SciMLBase /home/runner/.julia/packages/SciMLBase/pmQ12/src/integrator_interface.jl:496\n",
      "┌ Warning: Automatic dt set the starting dt as NaN, causing instability. Exiting.\n",
      "└ @ OrdinaryDiffEq /home/runner/.julia/packages/OrdinaryDiffEq/4qO6L/src/solve.jl:548\n",
      "┌ Warning: NaN dt detected. Likely a NaN value in the state, parameters, or derivative value caused this outcome.\n",
      "└ @ SciMLBase /home/runner/.julia/packages/SciMLBase/pmQ12/src/integrator_interface.jl:496\n",
      "┌ Warning: Automatic dt set the starting dt as NaN, causing instability. Exiting.\n",
      "└ @ OrdinaryDiffEq /home/runner/.julia/packages/OrdinaryDiffEq/4qO6L/src/solve.jl:548\n",
      "┌ Warning: NaN dt detected. Likely a NaN value in the state, parameters, or derivative value caused this outcome.\n",
      "└ @ SciMLBase /home/runner/.julia/packages/SciMLBase/pmQ12/src/integrator_interface.jl:496\n",
      "┌ Warning: Automatic dt set the starting dt as NaN, causing instability. Exiting.\n",
      "└ @ OrdinaryDiffEq /home/runner/.julia/packages/OrdinaryDiffEq/4qO6L/src/solve.jl:548\n",
      "┌ Warning: NaN dt detected. Likely a NaN value in the state, parameters, or derivative value caused this outcome.\n",
      "└ @ SciMLBase /home/runner/.julia/packages/SciMLBase/pmQ12/src/integrator_interface.jl:496\n"
     ]
    },
    {
     "data": {
      "text/plain": [
       "\"Epoch: 150 Loss: Inf\""
      ]
     },
     "metadata": {},
     "output_type": "display_data"
    },
    {
     "name": "stderr",
     "output_type": "stream",
     "text": [
      "┌ Warning: Automatic dt set the starting dt as NaN, causing instability. Exiting.\n",
      "└ @ OrdinaryDiffEq /home/runner/.julia/packages/OrdinaryDiffEq/4qO6L/src/solve.jl:548\n",
      "┌ Warning: NaN dt detected. Likely a NaN value in the state, parameters, or derivative value caused this outcome.\n",
      "└ @ SciMLBase /home/runner/.julia/packages/SciMLBase/pmQ12/src/integrator_interface.jl:496\n",
      "┌ Warning: Automatic dt set the starting dt as NaN, causing instability. Exiting.\n",
      "└ @ OrdinaryDiffEq /home/runner/.julia/packages/OrdinaryDiffEq/4qO6L/src/solve.jl:548\n",
      "┌ Warning: NaN dt detected. Likely a NaN value in the state, parameters, or derivative value caused this outcome.\n",
      "└ @ SciMLBase /home/runner/.julia/packages/SciMLBase/pmQ12/src/integrator_interface.jl:496\n",
      "┌ Warning: Automatic dt set the starting dt as NaN, causing instability. Exiting.\n",
      "└ @ OrdinaryDiffEq /home/runner/.julia/packages/OrdinaryDiffEq/4qO6L/src/solve.jl:548\n",
      "┌ Warning: NaN dt detected. Likely a NaN value in the state, parameters, or derivative value caused this outcome.\n",
      "└ @ SciMLBase /home/runner/.julia/packages/SciMLBase/pmQ12/src/integrator_interface.jl:496\n",
      "┌ Warning: Automatic dt set the starting dt as NaN, causing instability. Exiting.\n",
      "└ @ OrdinaryDiffEq /home/runner/.julia/packages/OrdinaryDiffEq/4qO6L/src/solve.jl:548\n",
      "┌ Warning: NaN dt detected. Likely a NaN value in the state, parameters, or derivative value caused this outcome.\n",
      "└ @ SciMLBase /home/runner/.julia/packages/SciMLBase/pmQ12/src/integrator_interface.jl:496\n",
      "┌ Warning: Automatic dt set the starting dt as NaN, causing instability. Exiting.\n",
      "└ @ OrdinaryDiffEq /home/runner/.julia/packages/OrdinaryDiffEq/4qO6L/src/solve.jl:548\n",
      "┌ Warning: NaN dt detected. Likely a NaN value in the state, parameters, or derivative value caused this outcome.\n",
      "└ @ SciMLBase /home/runner/.julia/packages/SciMLBase/pmQ12/src/integrator_interface.jl:496\n",
      "┌ Warning: Automatic dt set the starting dt as NaN, causing instability. Exiting.\n",
      "└ @ OrdinaryDiffEq /home/runner/.julia/packages/OrdinaryDiffEq/4qO6L/src/solve.jl:548\n",
      "┌ Warning: NaN dt detected. Likely a NaN value in the state, parameters, or derivative value caused this outcome.\n",
      "└ @ SciMLBase /home/runner/.julia/packages/SciMLBase/pmQ12/src/integrator_interface.jl:496\n",
      "┌ Warning: Automatic dt set the starting dt as NaN, causing instability. Exiting.\n",
      "└ @ OrdinaryDiffEq /home/runner/.julia/packages/OrdinaryDiffEq/4qO6L/src/solve.jl:548\n",
      "┌ Warning: NaN dt detected. Likely a NaN value in the state, parameters, or derivative value caused this outcome.\n",
      "└ @ SciMLBase /home/runner/.julia/packages/SciMLBase/pmQ12/src/integrator_interface.jl:496\n",
      "┌ Warning: Automatic dt set the starting dt as NaN, causing instability. Exiting.\n",
      "└ @ OrdinaryDiffEq /home/runner/.julia/packages/OrdinaryDiffEq/4qO6L/src/solve.jl:548\n",
      "┌ Warning: NaN dt detected. Likely a NaN value in the state, parameters, or derivative value caused this outcome.\n",
      "└ @ SciMLBase /home/runner/.julia/packages/SciMLBase/pmQ12/src/integrator_interface.jl:496\n",
      "┌ Warning: Automatic dt set the starting dt as NaN, causing instability. Exiting.\n",
      "└ @ OrdinaryDiffEq /home/runner/.julia/packages/OrdinaryDiffEq/4qO6L/src/solve.jl:548\n",
      "┌ Warning: NaN dt detected. Likely a NaN value in the state, parameters, or derivative value caused this outcome.\n",
      "└ @ SciMLBase /home/runner/.julia/packages/SciMLBase/pmQ12/src/integrator_interface.jl:496\n",
      "┌ Warning: Automatic dt set the starting dt as NaN, causing instability. Exiting.\n",
      "└ @ OrdinaryDiffEq /home/runner/.julia/packages/OrdinaryDiffEq/4qO6L/src/solve.jl:548\n",
      "┌ Warning: NaN dt detected. Likely a NaN value in the state, parameters, or derivative value caused this outcome.\n",
      "└ @ SciMLBase /home/runner/.julia/packages/SciMLBase/pmQ12/src/integrator_interface.jl:496\n"
     ]
    },
    {
     "data": {
      "text/plain": [
       "\"Epoch: 160 Loss: Inf\""
      ]
     },
     "metadata": {},
     "output_type": "display_data"
    },
    {
     "name": "stderr",
     "output_type": "stream",
     "text": [
      "┌ Warning: Automatic dt set the starting dt as NaN, causing instability. Exiting.\n",
      "└ @ OrdinaryDiffEq /home/runner/.julia/packages/OrdinaryDiffEq/4qO6L/src/solve.jl:548\n",
      "┌ Warning: NaN dt detected. Likely a NaN value in the state, parameters, or derivative value caused this outcome.\n",
      "└ @ SciMLBase /home/runner/.julia/packages/SciMLBase/pmQ12/src/integrator_interface.jl:496\n",
      "┌ Warning: Automatic dt set the starting dt as NaN, causing instability. Exiting.\n",
      "└ @ OrdinaryDiffEq /home/runner/.julia/packages/OrdinaryDiffEq/4qO6L/src/solve.jl:548\n",
      "┌ Warning: NaN dt detected. Likely a NaN value in the state, parameters, or derivative value caused this outcome.\n",
      "└ @ SciMLBase /home/runner/.julia/packages/SciMLBase/pmQ12/src/integrator_interface.jl:496\n",
      "┌ Warning: Automatic dt set the starting dt as NaN, causing instability. Exiting.\n",
      "└ @ OrdinaryDiffEq /home/runner/.julia/packages/OrdinaryDiffEq/4qO6L/src/solve.jl:548\n",
      "┌ Warning: NaN dt detected. Likely a NaN value in the state, parameters, or derivative value caused this outcome.\n",
      "└ @ SciMLBase /home/runner/.julia/packages/SciMLBase/pmQ12/src/integrator_interface.jl:496\n",
      "┌ Warning: Automatic dt set the starting dt as NaN, causing instability. Exiting.\n",
      "└ @ OrdinaryDiffEq /home/runner/.julia/packages/OrdinaryDiffEq/4qO6L/src/solve.jl:548\n",
      "┌ Warning: NaN dt detected. Likely a NaN value in the state, parameters, or derivative value caused this outcome.\n",
      "└ @ SciMLBase /home/runner/.julia/packages/SciMLBase/pmQ12/src/integrator_interface.jl:496\n",
      "┌ Warning: Automatic dt set the starting dt as NaN, causing instability. Exiting.\n",
      "└ @ OrdinaryDiffEq /home/runner/.julia/packages/OrdinaryDiffEq/4qO6L/src/solve.jl:548\n",
      "┌ Warning: NaN dt detected. Likely a NaN value in the state, parameters, or derivative value caused this outcome.\n",
      "└ @ SciMLBase /home/runner/.julia/packages/SciMLBase/pmQ12/src/integrator_interface.jl:496\n",
      "┌ Warning: Automatic dt set the starting dt as NaN, causing instability. Exiting.\n",
      "└ @ OrdinaryDiffEq /home/runner/.julia/packages/OrdinaryDiffEq/4qO6L/src/solve.jl:548\n",
      "┌ Warning: NaN dt detected. Likely a NaN value in the state, parameters, or derivative value caused this outcome.\n",
      "└ @ SciMLBase /home/runner/.julia/packages/SciMLBase/pmQ12/src/integrator_interface.jl:496\n",
      "┌ Warning: Automatic dt set the starting dt as NaN, causing instability. Exiting.\n",
      "└ @ OrdinaryDiffEq /home/runner/.julia/packages/OrdinaryDiffEq/4qO6L/src/solve.jl:548\n",
      "┌ Warning: NaN dt detected. Likely a NaN value in the state, parameters, or derivative value caused this outcome.\n",
      "└ @ SciMLBase /home/runner/.julia/packages/SciMLBase/pmQ12/src/integrator_interface.jl:496\n",
      "┌ Warning: Automatic dt set the starting dt as NaN, causing instability. Exiting.\n",
      "└ @ OrdinaryDiffEq /home/runner/.julia/packages/OrdinaryDiffEq/4qO6L/src/solve.jl:548\n",
      "┌ Warning: NaN dt detected. Likely a NaN value in the state, parameters, or derivative value caused this outcome.\n",
      "└ @ SciMLBase /home/runner/.julia/packages/SciMLBase/pmQ12/src/integrator_interface.jl:496\n",
      "┌ Warning: Automatic dt set the starting dt as NaN, causing instability. Exiting.\n",
      "└ @ OrdinaryDiffEq /home/runner/.julia/packages/OrdinaryDiffEq/4qO6L/src/solve.jl:548\n",
      "┌ Warning: NaN dt detected. Likely a NaN value in the state, parameters, or derivative value caused this outcome.\n",
      "└ @ SciMLBase /home/runner/.julia/packages/SciMLBase/pmQ12/src/integrator_interface.jl:496\n",
      "┌ Warning: Automatic dt set the starting dt as NaN, causing instability. Exiting.\n",
      "└ @ OrdinaryDiffEq /home/runner/.julia/packages/OrdinaryDiffEq/4qO6L/src/solve.jl:548\n",
      "┌ Warning: NaN dt detected. Likely a NaN value in the state, parameters, or derivative value caused this outcome.\n",
      "└ @ SciMLBase /home/runner/.julia/packages/SciMLBase/pmQ12/src/integrator_interface.jl:496\n"
     ]
    },
    {
     "data": {
      "text/plain": [
       "\"Epoch: 170 Loss: Inf\""
      ]
     },
     "metadata": {},
     "output_type": "display_data"
    },
    {
     "name": "stderr",
     "output_type": "stream",
     "text": [
      "┌ Warning: Automatic dt set the starting dt as NaN, causing instability. Exiting.\n",
      "└ @ OrdinaryDiffEq /home/runner/.julia/packages/OrdinaryDiffEq/4qO6L/src/solve.jl:548\n",
      "┌ Warning: NaN dt detected. Likely a NaN value in the state, parameters, or derivative value caused this outcome.\n",
      "└ @ SciMLBase /home/runner/.julia/packages/SciMLBase/pmQ12/src/integrator_interface.jl:496\n",
      "┌ Warning: Automatic dt set the starting dt as NaN, causing instability. Exiting.\n",
      "└ @ OrdinaryDiffEq /home/runner/.julia/packages/OrdinaryDiffEq/4qO6L/src/solve.jl:548\n",
      "┌ Warning: NaN dt detected. Likely a NaN value in the state, parameters, or derivative value caused this outcome.\n",
      "└ @ SciMLBase /home/runner/.julia/packages/SciMLBase/pmQ12/src/integrator_interface.jl:496\n",
      "┌ Warning: Automatic dt set the starting dt as NaN, causing instability. Exiting.\n",
      "└ @ OrdinaryDiffEq /home/runner/.julia/packages/OrdinaryDiffEq/4qO6L/src/solve.jl:548\n",
      "┌ Warning: NaN dt detected. Likely a NaN value in the state, parameters, or derivative value caused this outcome.\n",
      "└ @ SciMLBase /home/runner/.julia/packages/SciMLBase/pmQ12/src/integrator_interface.jl:496\n",
      "┌ Warning: Automatic dt set the starting dt as NaN, causing instability. Exiting.\n",
      "└ @ OrdinaryDiffEq /home/runner/.julia/packages/OrdinaryDiffEq/4qO6L/src/solve.jl:548\n",
      "┌ Warning: NaN dt detected. Likely a NaN value in the state, parameters, or derivative value caused this outcome.\n",
      "└ @ SciMLBase /home/runner/.julia/packages/SciMLBase/pmQ12/src/integrator_interface.jl:496\n",
      "┌ Warning: Automatic dt set the starting dt as NaN, causing instability. Exiting.\n",
      "└ @ OrdinaryDiffEq /home/runner/.julia/packages/OrdinaryDiffEq/4qO6L/src/solve.jl:548\n",
      "┌ Warning: NaN dt detected. Likely a NaN value in the state, parameters, or derivative value caused this outcome.\n",
      "└ @ SciMLBase /home/runner/.julia/packages/SciMLBase/pmQ12/src/integrator_interface.jl:496\n",
      "┌ Warning: Automatic dt set the starting dt as NaN, causing instability. Exiting.\n",
      "└ @ OrdinaryDiffEq /home/runner/.julia/packages/OrdinaryDiffEq/4qO6L/src/solve.jl:548\n",
      "┌ Warning: NaN dt detected. Likely a NaN value in the state, parameters, or derivative value caused this outcome.\n",
      "└ @ SciMLBase /home/runner/.julia/packages/SciMLBase/pmQ12/src/integrator_interface.jl:496\n",
      "┌ Warning: Automatic dt set the starting dt as NaN, causing instability. Exiting.\n",
      "└ @ OrdinaryDiffEq /home/runner/.julia/packages/OrdinaryDiffEq/4qO6L/src/solve.jl:548\n",
      "┌ Warning: NaN dt detected. Likely a NaN value in the state, parameters, or derivative value caused this outcome.\n",
      "└ @ SciMLBase /home/runner/.julia/packages/SciMLBase/pmQ12/src/integrator_interface.jl:496\n",
      "┌ Warning: Automatic dt set the starting dt as NaN, causing instability. Exiting.\n",
      "└ @ OrdinaryDiffEq /home/runner/.julia/packages/OrdinaryDiffEq/4qO6L/src/solve.jl:548\n",
      "┌ Warning: NaN dt detected. Likely a NaN value in the state, parameters, or derivative value caused this outcome.\n",
      "└ @ SciMLBase /home/runner/.julia/packages/SciMLBase/pmQ12/src/integrator_interface.jl:496\n",
      "┌ Warning: Automatic dt set the starting dt as NaN, causing instability. Exiting.\n",
      "└ @ OrdinaryDiffEq /home/runner/.julia/packages/OrdinaryDiffEq/4qO6L/src/solve.jl:548\n",
      "┌ Warning: NaN dt detected. Likely a NaN value in the state, parameters, or derivative value caused this outcome.\n",
      "└ @ SciMLBase /home/runner/.julia/packages/SciMLBase/pmQ12/src/integrator_interface.jl:496\n",
      "┌ Warning: Automatic dt set the starting dt as NaN, causing instability. Exiting.\n",
      "└ @ OrdinaryDiffEq /home/runner/.julia/packages/OrdinaryDiffEq/4qO6L/src/solve.jl:548\n",
      "┌ Warning: NaN dt detected. Likely a NaN value in the state, parameters, or derivative value caused this outcome.\n",
      "└ @ SciMLBase /home/runner/.julia/packages/SciMLBase/pmQ12/src/integrator_interface.jl:496\n"
     ]
    },
    {
     "data": {
      "text/plain": [
       "\"Epoch: 180 Loss: Inf\""
      ]
     },
     "metadata": {},
     "output_type": "display_data"
    },
    {
     "name": "stderr",
     "output_type": "stream",
     "text": [
      "┌ Warning: Automatic dt set the starting dt as NaN, causing instability. Exiting.\n",
      "└ @ OrdinaryDiffEq /home/runner/.julia/packages/OrdinaryDiffEq/4qO6L/src/solve.jl:548\n",
      "┌ Warning: NaN dt detected. Likely a NaN value in the state, parameters, or derivative value caused this outcome.\n",
      "└ @ SciMLBase /home/runner/.julia/packages/SciMLBase/pmQ12/src/integrator_interface.jl:496\n",
      "┌ Warning: Automatic dt set the starting dt as NaN, causing instability. Exiting.\n",
      "└ @ OrdinaryDiffEq /home/runner/.julia/packages/OrdinaryDiffEq/4qO6L/src/solve.jl:548\n",
      "┌ Warning: NaN dt detected. Likely a NaN value in the state, parameters, or derivative value caused this outcome.\n",
      "└ @ SciMLBase /home/runner/.julia/packages/SciMLBase/pmQ12/src/integrator_interface.jl:496\n",
      "┌ Warning: Automatic dt set the starting dt as NaN, causing instability. Exiting.\n",
      "└ @ OrdinaryDiffEq /home/runner/.julia/packages/OrdinaryDiffEq/4qO6L/src/solve.jl:548\n",
      "┌ Warning: NaN dt detected. Likely a NaN value in the state, parameters, or derivative value caused this outcome.\n",
      "└ @ SciMLBase /home/runner/.julia/packages/SciMLBase/pmQ12/src/integrator_interface.jl:496\n",
      "┌ Warning: Automatic dt set the starting dt as NaN, causing instability. Exiting.\n",
      "└ @ OrdinaryDiffEq /home/runner/.julia/packages/OrdinaryDiffEq/4qO6L/src/solve.jl:548\n",
      "┌ Warning: NaN dt detected. Likely a NaN value in the state, parameters, or derivative value caused this outcome.\n",
      "└ @ SciMLBase /home/runner/.julia/packages/SciMLBase/pmQ12/src/integrator_interface.jl:496\n",
      "┌ Warning: Automatic dt set the starting dt as NaN, causing instability. Exiting.\n",
      "└ @ OrdinaryDiffEq /home/runner/.julia/packages/OrdinaryDiffEq/4qO6L/src/solve.jl:548\n",
      "┌ Warning: NaN dt detected. Likely a NaN value in the state, parameters, or derivative value caused this outcome.\n",
      "└ @ SciMLBase /home/runner/.julia/packages/SciMLBase/pmQ12/src/integrator_interface.jl:496\n",
      "┌ Warning: Automatic dt set the starting dt as NaN, causing instability. Exiting.\n",
      "└ @ OrdinaryDiffEq /home/runner/.julia/packages/OrdinaryDiffEq/4qO6L/src/solve.jl:548\n",
      "┌ Warning: NaN dt detected. Likely a NaN value in the state, parameters, or derivative value caused this outcome.\n",
      "└ @ SciMLBase /home/runner/.julia/packages/SciMLBase/pmQ12/src/integrator_interface.jl:496\n",
      "┌ Warning: Automatic dt set the starting dt as NaN, causing instability. Exiting.\n",
      "└ @ OrdinaryDiffEq /home/runner/.julia/packages/OrdinaryDiffEq/4qO6L/src/solve.jl:548\n",
      "┌ Warning: NaN dt detected. Likely a NaN value in the state, parameters, or derivative value caused this outcome.\n",
      "└ @ SciMLBase /home/runner/.julia/packages/SciMLBase/pmQ12/src/integrator_interface.jl:496\n",
      "┌ Warning: Automatic dt set the starting dt as NaN, causing instability. Exiting.\n",
      "└ @ OrdinaryDiffEq /home/runner/.julia/packages/OrdinaryDiffEq/4qO6L/src/solve.jl:548\n",
      "┌ Warning: NaN dt detected. Likely a NaN value in the state, parameters, or derivative value caused this outcome.\n",
      "└ @ SciMLBase /home/runner/.julia/packages/SciMLBase/pmQ12/src/integrator_interface.jl:496\n",
      "┌ Warning: Automatic dt set the starting dt as NaN, causing instability. Exiting.\n",
      "└ @ OrdinaryDiffEq /home/runner/.julia/packages/OrdinaryDiffEq/4qO6L/src/solve.jl:548\n",
      "┌ Warning: NaN dt detected. Likely a NaN value in the state, parameters, or derivative value caused this outcome.\n",
      "└ @ SciMLBase /home/runner/.julia/packages/SciMLBase/pmQ12/src/integrator_interface.jl:496\n",
      "┌ Warning: Automatic dt set the starting dt as NaN, causing instability. Exiting.\n",
      "└ @ OrdinaryDiffEq /home/runner/.julia/packages/OrdinaryDiffEq/4qO6L/src/solve.jl:548\n",
      "┌ Warning: NaN dt detected. Likely a NaN value in the state, parameters, or derivative value caused this outcome.\n",
      "└ @ SciMLBase /home/runner/.julia/packages/SciMLBase/pmQ12/src/integrator_interface.jl:496\n"
     ]
    },
    {
     "data": {
      "text/plain": [
       "\"Epoch: 190 Loss: Inf\""
      ]
     },
     "metadata": {},
     "output_type": "display_data"
    },
    {
     "name": "stderr",
     "output_type": "stream",
     "text": [
      "┌ Warning: Automatic dt set the starting dt as NaN, causing instability. Exiting.\n",
      "└ @ OrdinaryDiffEq /home/runner/.julia/packages/OrdinaryDiffEq/4qO6L/src/solve.jl:548\n",
      "┌ Warning: NaN dt detected. Likely a NaN value in the state, parameters, or derivative value caused this outcome.\n",
      "└ @ SciMLBase /home/runner/.julia/packages/SciMLBase/pmQ12/src/integrator_interface.jl:496\n",
      "┌ Warning: Automatic dt set the starting dt as NaN, causing instability. Exiting.\n",
      "└ @ OrdinaryDiffEq /home/runner/.julia/packages/OrdinaryDiffEq/4qO6L/src/solve.jl:548\n",
      "┌ Warning: NaN dt detected. Likely a NaN value in the state, parameters, or derivative value caused this outcome.\n",
      "└ @ SciMLBase /home/runner/.julia/packages/SciMLBase/pmQ12/src/integrator_interface.jl:496\n",
      "┌ Warning: Automatic dt set the starting dt as NaN, causing instability. Exiting.\n",
      "└ @ OrdinaryDiffEq /home/runner/.julia/packages/OrdinaryDiffEq/4qO6L/src/solve.jl:548\n",
      "┌ Warning: NaN dt detected. Likely a NaN value in the state, parameters, or derivative value caused this outcome.\n",
      "└ @ SciMLBase /home/runner/.julia/packages/SciMLBase/pmQ12/src/integrator_interface.jl:496\n",
      "┌ Warning: Automatic dt set the starting dt as NaN, causing instability. Exiting.\n",
      "└ @ OrdinaryDiffEq /home/runner/.julia/packages/OrdinaryDiffEq/4qO6L/src/solve.jl:548\n",
      "┌ Warning: NaN dt detected. Likely a NaN value in the state, parameters, or derivative value caused this outcome.\n",
      "└ @ SciMLBase /home/runner/.julia/packages/SciMLBase/pmQ12/src/integrator_interface.jl:496\n",
      "┌ Warning: Automatic dt set the starting dt as NaN, causing instability. Exiting.\n",
      "└ @ OrdinaryDiffEq /home/runner/.julia/packages/OrdinaryDiffEq/4qO6L/src/solve.jl:548\n",
      "┌ Warning: NaN dt detected. Likely a NaN value in the state, parameters, or derivative value caused this outcome.\n",
      "└ @ SciMLBase /home/runner/.julia/packages/SciMLBase/pmQ12/src/integrator_interface.jl:496\n",
      "┌ Warning: Automatic dt set the starting dt as NaN, causing instability. Exiting.\n",
      "└ @ OrdinaryDiffEq /home/runner/.julia/packages/OrdinaryDiffEq/4qO6L/src/solve.jl:548\n",
      "┌ Warning: NaN dt detected. Likely a NaN value in the state, parameters, or derivative value caused this outcome.\n",
      "└ @ SciMLBase /home/runner/.julia/packages/SciMLBase/pmQ12/src/integrator_interface.jl:496\n",
      "┌ Warning: Automatic dt set the starting dt as NaN, causing instability. Exiting.\n",
      "└ @ OrdinaryDiffEq /home/runner/.julia/packages/OrdinaryDiffEq/4qO6L/src/solve.jl:548\n",
      "┌ Warning: NaN dt detected. Likely a NaN value in the state, parameters, or derivative value caused this outcome.\n",
      "└ @ SciMLBase /home/runner/.julia/packages/SciMLBase/pmQ12/src/integrator_interface.jl:496\n",
      "┌ Warning: Automatic dt set the starting dt as NaN, causing instability. Exiting.\n",
      "└ @ OrdinaryDiffEq /home/runner/.julia/packages/OrdinaryDiffEq/4qO6L/src/solve.jl:548\n",
      "┌ Warning: NaN dt detected. Likely a NaN value in the state, parameters, or derivative value caused this outcome.\n",
      "└ @ SciMLBase /home/runner/.julia/packages/SciMLBase/pmQ12/src/integrator_interface.jl:496\n",
      "┌ Warning: Automatic dt set the starting dt as NaN, causing instability. Exiting.\n",
      "└ @ OrdinaryDiffEq /home/runner/.julia/packages/OrdinaryDiffEq/4qO6L/src/solve.jl:548\n",
      "┌ Warning: NaN dt detected. Likely a NaN value in the state, parameters, or derivative value caused this outcome.\n",
      "└ @ SciMLBase /home/runner/.julia/packages/SciMLBase/pmQ12/src/integrator_interface.jl:496\n",
      "┌ Warning: Automatic dt set the starting dt as NaN, causing instability. Exiting.\n",
      "└ @ OrdinaryDiffEq /home/runner/.julia/packages/OrdinaryDiffEq/4qO6L/src/solve.jl:548\n",
      "┌ Warning: NaN dt detected. Likely a NaN value in the state, parameters, or derivative value caused this outcome.\n",
      "└ @ SciMLBase /home/runner/.julia/packages/SciMLBase/pmQ12/src/integrator_interface.jl:496\n"
     ]
    },
    {
     "data": {
      "text/plain": [
       "\"Epoch: 200 Loss: Inf\""
      ]
     },
     "metadata": {},
     "output_type": "display_data"
    },
    {
     "name": "stderr",
     "output_type": "stream",
     "text": [
      "┌ Warning: Automatic dt set the starting dt as NaN, causing instability. Exiting.\n",
      "└ @ OrdinaryDiffEq /home/runner/.julia/packages/OrdinaryDiffEq/4qO6L/src/solve.jl:548\n",
      "┌ Warning: NaN dt detected. Likely a NaN value in the state, parameters, or derivative value caused this outcome.\n",
      "└ @ SciMLBase /home/runner/.julia/packages/SciMLBase/pmQ12/src/integrator_interface.jl:496\n",
      "┌ Warning: Automatic dt set the starting dt as NaN, causing instability. Exiting.\n",
      "└ @ OrdinaryDiffEq /home/runner/.julia/packages/OrdinaryDiffEq/4qO6L/src/solve.jl:548\n",
      "┌ Warning: NaN dt detected. Likely a NaN value in the state, parameters, or derivative value caused this outcome.\n",
      "└ @ SciMLBase /home/runner/.julia/packages/SciMLBase/pmQ12/src/integrator_interface.jl:496\n",
      "┌ Warning: Automatic dt set the starting dt as NaN, causing instability. Exiting.\n",
      "└ @ OrdinaryDiffEq /home/runner/.julia/packages/OrdinaryDiffEq/4qO6L/src/solve.jl:548\n",
      "┌ Warning: NaN dt detected. Likely a NaN value in the state, parameters, or derivative value caused this outcome.\n",
      "└ @ SciMLBase /home/runner/.julia/packages/SciMLBase/pmQ12/src/integrator_interface.jl:496\n",
      "┌ Warning: Automatic dt set the starting dt as NaN, causing instability. Exiting.\n",
      "└ @ OrdinaryDiffEq /home/runner/.julia/packages/OrdinaryDiffEq/4qO6L/src/solve.jl:548\n",
      "┌ Warning: NaN dt detected. Likely a NaN value in the state, parameters, or derivative value caused this outcome.\n",
      "└ @ SciMLBase /home/runner/.julia/packages/SciMLBase/pmQ12/src/integrator_interface.jl:496\n",
      "┌ Warning: Automatic dt set the starting dt as NaN, causing instability. Exiting.\n",
      "└ @ OrdinaryDiffEq /home/runner/.julia/packages/OrdinaryDiffEq/4qO6L/src/solve.jl:548\n",
      "┌ Warning: NaN dt detected. Likely a NaN value in the state, parameters, or derivative value caused this outcome.\n",
      "└ @ SciMLBase /home/runner/.julia/packages/SciMLBase/pmQ12/src/integrator_interface.jl:496\n",
      "┌ Warning: Automatic dt set the starting dt as NaN, causing instability. Exiting.\n",
      "└ @ OrdinaryDiffEq /home/runner/.julia/packages/OrdinaryDiffEq/4qO6L/src/solve.jl:548\n",
      "┌ Warning: NaN dt detected. Likely a NaN value in the state, parameters, or derivative value caused this outcome.\n",
      "└ @ SciMLBase /home/runner/.julia/packages/SciMLBase/pmQ12/src/integrator_interface.jl:496\n",
      "┌ Warning: Automatic dt set the starting dt as NaN, causing instability. Exiting.\n",
      "└ @ OrdinaryDiffEq /home/runner/.julia/packages/OrdinaryDiffEq/4qO6L/src/solve.jl:548\n",
      "┌ Warning: NaN dt detected. Likely a NaN value in the state, parameters, or derivative value caused this outcome.\n",
      "└ @ SciMLBase /home/runner/.julia/packages/SciMLBase/pmQ12/src/integrator_interface.jl:496\n",
      "┌ Warning: Automatic dt set the starting dt as NaN, causing instability. Exiting.\n",
      "└ @ OrdinaryDiffEq /home/runner/.julia/packages/OrdinaryDiffEq/4qO6L/src/solve.jl:548\n",
      "┌ Warning: NaN dt detected. Likely a NaN value in the state, parameters, or derivative value caused this outcome.\n",
      "└ @ SciMLBase /home/runner/.julia/packages/SciMLBase/pmQ12/src/integrator_interface.jl:496\n",
      "┌ Warning: Automatic dt set the starting dt as NaN, causing instability. Exiting.\n",
      "└ @ OrdinaryDiffEq /home/runner/.julia/packages/OrdinaryDiffEq/4qO6L/src/solve.jl:548\n",
      "┌ Warning: NaN dt detected. Likely a NaN value in the state, parameters, or derivative value caused this outcome.\n",
      "└ @ SciMLBase /home/runner/.julia/packages/SciMLBase/pmQ12/src/integrator_interface.jl:496\n",
      "┌ Warning: Automatic dt set the starting dt as NaN, causing instability. Exiting.\n",
      "└ @ OrdinaryDiffEq /home/runner/.julia/packages/OrdinaryDiffEq/4qO6L/src/solve.jl:548\n",
      "┌ Warning: NaN dt detected. Likely a NaN value in the state, parameters, or derivative value caused this outcome.\n",
      "└ @ SciMLBase /home/runner/.julia/packages/SciMLBase/pmQ12/src/integrator_interface.jl:496\n"
     ]
    },
    {
     "data": {
      "text/plain": [
       "\"Epoch: 210 Loss: Inf\""
      ]
     },
     "metadata": {},
     "output_type": "display_data"
    },
    {
     "name": "stderr",
     "output_type": "stream",
     "text": [
      "┌ Warning: Automatic dt set the starting dt as NaN, causing instability. Exiting.\n",
      "└ @ OrdinaryDiffEq /home/runner/.julia/packages/OrdinaryDiffEq/4qO6L/src/solve.jl:548\n",
      "┌ Warning: NaN dt detected. Likely a NaN value in the state, parameters, or derivative value caused this outcome.\n",
      "└ @ SciMLBase /home/runner/.julia/packages/SciMLBase/pmQ12/src/integrator_interface.jl:496\n",
      "┌ Warning: Automatic dt set the starting dt as NaN, causing instability. Exiting.\n",
      "└ @ OrdinaryDiffEq /home/runner/.julia/packages/OrdinaryDiffEq/4qO6L/src/solve.jl:548\n",
      "┌ Warning: NaN dt detected. Likely a NaN value in the state, parameters, or derivative value caused this outcome.\n",
      "└ @ SciMLBase /home/runner/.julia/packages/SciMLBase/pmQ12/src/integrator_interface.jl:496\n",
      "┌ Warning: Automatic dt set the starting dt as NaN, causing instability. Exiting.\n",
      "└ @ OrdinaryDiffEq /home/runner/.julia/packages/OrdinaryDiffEq/4qO6L/src/solve.jl:548\n",
      "┌ Warning: NaN dt detected. Likely a NaN value in the state, parameters, or derivative value caused this outcome.\n",
      "└ @ SciMLBase /home/runner/.julia/packages/SciMLBase/pmQ12/src/integrator_interface.jl:496\n",
      "┌ Warning: Automatic dt set the starting dt as NaN, causing instability. Exiting.\n",
      "└ @ OrdinaryDiffEq /home/runner/.julia/packages/OrdinaryDiffEq/4qO6L/src/solve.jl:548\n",
      "┌ Warning: NaN dt detected. Likely a NaN value in the state, parameters, or derivative value caused this outcome.\n",
      "└ @ SciMLBase /home/runner/.julia/packages/SciMLBase/pmQ12/src/integrator_interface.jl:496\n",
      "┌ Warning: Automatic dt set the starting dt as NaN, causing instability. Exiting.\n",
      "└ @ OrdinaryDiffEq /home/runner/.julia/packages/OrdinaryDiffEq/4qO6L/src/solve.jl:548\n",
      "┌ Warning: NaN dt detected. Likely a NaN value in the state, parameters, or derivative value caused this outcome.\n",
      "└ @ SciMLBase /home/runner/.julia/packages/SciMLBase/pmQ12/src/integrator_interface.jl:496\n",
      "┌ Warning: Automatic dt set the starting dt as NaN, causing instability. Exiting.\n",
      "└ @ OrdinaryDiffEq /home/runner/.julia/packages/OrdinaryDiffEq/4qO6L/src/solve.jl:548\n",
      "┌ Warning: NaN dt detected. Likely a NaN value in the state, parameters, or derivative value caused this outcome.\n",
      "└ @ SciMLBase /home/runner/.julia/packages/SciMLBase/pmQ12/src/integrator_interface.jl:496\n",
      "┌ Warning: Automatic dt set the starting dt as NaN, causing instability. Exiting.\n",
      "└ @ OrdinaryDiffEq /home/runner/.julia/packages/OrdinaryDiffEq/4qO6L/src/solve.jl:548\n",
      "┌ Warning: NaN dt detected. Likely a NaN value in the state, parameters, or derivative value caused this outcome.\n",
      "└ @ SciMLBase /home/runner/.julia/packages/SciMLBase/pmQ12/src/integrator_interface.jl:496\n",
      "┌ Warning: Automatic dt set the starting dt as NaN, causing instability. Exiting.\n",
      "└ @ OrdinaryDiffEq /home/runner/.julia/packages/OrdinaryDiffEq/4qO6L/src/solve.jl:548\n",
      "┌ Warning: NaN dt detected. Likely a NaN value in the state, parameters, or derivative value caused this outcome.\n",
      "└ @ SciMLBase /home/runner/.julia/packages/SciMLBase/pmQ12/src/integrator_interface.jl:496\n",
      "┌ Warning: Automatic dt set the starting dt as NaN, causing instability. Exiting.\n",
      "└ @ OrdinaryDiffEq /home/runner/.julia/packages/OrdinaryDiffEq/4qO6L/src/solve.jl:548\n",
      "┌ Warning: NaN dt detected. Likely a NaN value in the state, parameters, or derivative value caused this outcome.\n",
      "└ @ SciMLBase /home/runner/.julia/packages/SciMLBase/pmQ12/src/integrator_interface.jl:496\n",
      "┌ Warning: Automatic dt set the starting dt as NaN, causing instability. Exiting.\n",
      "└ @ OrdinaryDiffEq /home/runner/.julia/packages/OrdinaryDiffEq/4qO6L/src/solve.jl:548\n",
      "┌ Warning: NaN dt detected. Likely a NaN value in the state, parameters, or derivative value caused this outcome.\n",
      "└ @ SciMLBase /home/runner/.julia/packages/SciMLBase/pmQ12/src/integrator_interface.jl:496\n"
     ]
    },
    {
     "data": {
      "text/plain": [
       "\"Epoch: 220 Loss: Inf\""
      ]
     },
     "metadata": {},
     "output_type": "display_data"
    },
    {
     "name": "stderr",
     "output_type": "stream",
     "text": [
      "┌ Warning: Automatic dt set the starting dt as NaN, causing instability. Exiting.\n",
      "└ @ OrdinaryDiffEq /home/runner/.julia/packages/OrdinaryDiffEq/4qO6L/src/solve.jl:548\n",
      "┌ Warning: NaN dt detected. Likely a NaN value in the state, parameters, or derivative value caused this outcome.\n",
      "└ @ SciMLBase /home/runner/.julia/packages/SciMLBase/pmQ12/src/integrator_interface.jl:496\n",
      "┌ Warning: Automatic dt set the starting dt as NaN, causing instability. Exiting.\n",
      "└ @ OrdinaryDiffEq /home/runner/.julia/packages/OrdinaryDiffEq/4qO6L/src/solve.jl:548\n",
      "┌ Warning: NaN dt detected. Likely a NaN value in the state, parameters, or derivative value caused this outcome.\n",
      "└ @ SciMLBase /home/runner/.julia/packages/SciMLBase/pmQ12/src/integrator_interface.jl:496\n",
      "┌ Warning: Automatic dt set the starting dt as NaN, causing instability. Exiting.\n",
      "└ @ OrdinaryDiffEq /home/runner/.julia/packages/OrdinaryDiffEq/4qO6L/src/solve.jl:548\n",
      "┌ Warning: NaN dt detected. Likely a NaN value in the state, parameters, or derivative value caused this outcome.\n",
      "└ @ SciMLBase /home/runner/.julia/packages/SciMLBase/pmQ12/src/integrator_interface.jl:496\n",
      "┌ Warning: Automatic dt set the starting dt as NaN, causing instability. Exiting.\n",
      "└ @ OrdinaryDiffEq /home/runner/.julia/packages/OrdinaryDiffEq/4qO6L/src/solve.jl:548\n",
      "┌ Warning: NaN dt detected. Likely a NaN value in the state, parameters, or derivative value caused this outcome.\n",
      "└ @ SciMLBase /home/runner/.julia/packages/SciMLBase/pmQ12/src/integrator_interface.jl:496\n",
      "┌ Warning: Automatic dt set the starting dt as NaN, causing instability. Exiting.\n",
      "└ @ OrdinaryDiffEq /home/runner/.julia/packages/OrdinaryDiffEq/4qO6L/src/solve.jl:548\n",
      "┌ Warning: NaN dt detected. Likely a NaN value in the state, parameters, or derivative value caused this outcome.\n",
      "└ @ SciMLBase /home/runner/.julia/packages/SciMLBase/pmQ12/src/integrator_interface.jl:496\n",
      "┌ Warning: Automatic dt set the starting dt as NaN, causing instability. Exiting.\n",
      "└ @ OrdinaryDiffEq /home/runner/.julia/packages/OrdinaryDiffEq/4qO6L/src/solve.jl:548\n",
      "┌ Warning: NaN dt detected. Likely a NaN value in the state, parameters, or derivative value caused this outcome.\n",
      "└ @ SciMLBase /home/runner/.julia/packages/SciMLBase/pmQ12/src/integrator_interface.jl:496\n",
      "┌ Warning: Automatic dt set the starting dt as NaN, causing instability. Exiting.\n",
      "└ @ OrdinaryDiffEq /home/runner/.julia/packages/OrdinaryDiffEq/4qO6L/src/solve.jl:548\n",
      "┌ Warning: NaN dt detected. Likely a NaN value in the state, parameters, or derivative value caused this outcome.\n",
      "└ @ SciMLBase /home/runner/.julia/packages/SciMLBase/pmQ12/src/integrator_interface.jl:496\n",
      "┌ Warning: Automatic dt set the starting dt as NaN, causing instability. Exiting.\n",
      "└ @ OrdinaryDiffEq /home/runner/.julia/packages/OrdinaryDiffEq/4qO6L/src/solve.jl:548\n",
      "┌ Warning: NaN dt detected. Likely a NaN value in the state, parameters, or derivative value caused this outcome.\n",
      "└ @ SciMLBase /home/runner/.julia/packages/SciMLBase/pmQ12/src/integrator_interface.jl:496\n",
      "┌ Warning: Automatic dt set the starting dt as NaN, causing instability. Exiting.\n",
      "└ @ OrdinaryDiffEq /home/runner/.julia/packages/OrdinaryDiffEq/4qO6L/src/solve.jl:548\n",
      "┌ Warning: NaN dt detected. Likely a NaN value in the state, parameters, or derivative value caused this outcome.\n",
      "└ @ SciMLBase /home/runner/.julia/packages/SciMLBase/pmQ12/src/integrator_interface.jl:496\n",
      "┌ Warning: Automatic dt set the starting dt as NaN, causing instability. Exiting.\n",
      "└ @ OrdinaryDiffEq /home/runner/.julia/packages/OrdinaryDiffEq/4qO6L/src/solve.jl:548\n",
      "┌ Warning: NaN dt detected. Likely a NaN value in the state, parameters, or derivative value caused this outcome.\n",
      "└ @ SciMLBase /home/runner/.julia/packages/SciMLBase/pmQ12/src/integrator_interface.jl:496\n"
     ]
    },
    {
     "data": {
      "text/plain": [
       "\"Epoch: 230 Loss: Inf\""
      ]
     },
     "metadata": {},
     "output_type": "display_data"
    },
    {
     "name": "stderr",
     "output_type": "stream",
     "text": [
      "┌ Warning: Automatic dt set the starting dt as NaN, causing instability. Exiting.\n",
      "└ @ OrdinaryDiffEq /home/runner/.julia/packages/OrdinaryDiffEq/4qO6L/src/solve.jl:548\n",
      "┌ Warning: NaN dt detected. Likely a NaN value in the state, parameters, or derivative value caused this outcome.\n",
      "└ @ SciMLBase /home/runner/.julia/packages/SciMLBase/pmQ12/src/integrator_interface.jl:496\n",
      "┌ Warning: Automatic dt set the starting dt as NaN, causing instability. Exiting.\n",
      "└ @ OrdinaryDiffEq /home/runner/.julia/packages/OrdinaryDiffEq/4qO6L/src/solve.jl:548\n",
      "┌ Warning: NaN dt detected. Likely a NaN value in the state, parameters, or derivative value caused this outcome.\n",
      "└ @ SciMLBase /home/runner/.julia/packages/SciMLBase/pmQ12/src/integrator_interface.jl:496\n",
      "┌ Warning: Automatic dt set the starting dt as NaN, causing instability. Exiting.\n",
      "└ @ OrdinaryDiffEq /home/runner/.julia/packages/OrdinaryDiffEq/4qO6L/src/solve.jl:548\n",
      "┌ Warning: NaN dt detected. Likely a NaN value in the state, parameters, or derivative value caused this outcome.\n",
      "└ @ SciMLBase /home/runner/.julia/packages/SciMLBase/pmQ12/src/integrator_interface.jl:496\n",
      "┌ Warning: Automatic dt set the starting dt as NaN, causing instability. Exiting.\n",
      "└ @ OrdinaryDiffEq /home/runner/.julia/packages/OrdinaryDiffEq/4qO6L/src/solve.jl:548\n",
      "┌ Warning: NaN dt detected. Likely a NaN value in the state, parameters, or derivative value caused this outcome.\n",
      "└ @ SciMLBase /home/runner/.julia/packages/SciMLBase/pmQ12/src/integrator_interface.jl:496\n",
      "┌ Warning: Automatic dt set the starting dt as NaN, causing instability. Exiting.\n",
      "└ @ OrdinaryDiffEq /home/runner/.julia/packages/OrdinaryDiffEq/4qO6L/src/solve.jl:548\n",
      "┌ Warning: NaN dt detected. Likely a NaN value in the state, parameters, or derivative value caused this outcome.\n",
      "└ @ SciMLBase /home/runner/.julia/packages/SciMLBase/pmQ12/src/integrator_interface.jl:496\n",
      "┌ Warning: Automatic dt set the starting dt as NaN, causing instability. Exiting.\n",
      "└ @ OrdinaryDiffEq /home/runner/.julia/packages/OrdinaryDiffEq/4qO6L/src/solve.jl:548\n",
      "┌ Warning: NaN dt detected. Likely a NaN value in the state, parameters, or derivative value caused this outcome.\n",
      "└ @ SciMLBase /home/runner/.julia/packages/SciMLBase/pmQ12/src/integrator_interface.jl:496\n",
      "┌ Warning: Automatic dt set the starting dt as NaN, causing instability. Exiting.\n",
      "└ @ OrdinaryDiffEq /home/runner/.julia/packages/OrdinaryDiffEq/4qO6L/src/solve.jl:548\n",
      "┌ Warning: NaN dt detected. Likely a NaN value in the state, parameters, or derivative value caused this outcome.\n",
      "└ @ SciMLBase /home/runner/.julia/packages/SciMLBase/pmQ12/src/integrator_interface.jl:496\n",
      "┌ Warning: Automatic dt set the starting dt as NaN, causing instability. Exiting.\n",
      "└ @ OrdinaryDiffEq /home/runner/.julia/packages/OrdinaryDiffEq/4qO6L/src/solve.jl:548\n",
      "┌ Warning: NaN dt detected. Likely a NaN value in the state, parameters, or derivative value caused this outcome.\n",
      "└ @ SciMLBase /home/runner/.julia/packages/SciMLBase/pmQ12/src/integrator_interface.jl:496\n",
      "┌ Warning: Automatic dt set the starting dt as NaN, causing instability. Exiting.\n",
      "└ @ OrdinaryDiffEq /home/runner/.julia/packages/OrdinaryDiffEq/4qO6L/src/solve.jl:548\n",
      "┌ Warning: NaN dt detected. Likely a NaN value in the state, parameters, or derivative value caused this outcome.\n",
      "└ @ SciMLBase /home/runner/.julia/packages/SciMLBase/pmQ12/src/integrator_interface.jl:496\n",
      "┌ Warning: Automatic dt set the starting dt as NaN, causing instability. Exiting.\n",
      "└ @ OrdinaryDiffEq /home/runner/.julia/packages/OrdinaryDiffEq/4qO6L/src/solve.jl:548\n",
      "┌ Warning: NaN dt detected. Likely a NaN value in the state, parameters, or derivative value caused this outcome.\n",
      "└ @ SciMLBase /home/runner/.julia/packages/SciMLBase/pmQ12/src/integrator_interface.jl:496\n"
     ]
    },
    {
     "data": {
      "text/plain": [
       "\"Epoch: 240 Loss: Inf\""
      ]
     },
     "metadata": {},
     "output_type": "display_data"
    },
    {
     "name": "stderr",
     "output_type": "stream",
     "text": [
      "┌ Warning: Automatic dt set the starting dt as NaN, causing instability. Exiting.\n",
      "└ @ OrdinaryDiffEq /home/runner/.julia/packages/OrdinaryDiffEq/4qO6L/src/solve.jl:548\n",
      "┌ Warning: NaN dt detected. Likely a NaN value in the state, parameters, or derivative value caused this outcome.\n",
      "└ @ SciMLBase /home/runner/.julia/packages/SciMLBase/pmQ12/src/integrator_interface.jl:496\n",
      "┌ Warning: Automatic dt set the starting dt as NaN, causing instability. Exiting.\n",
      "└ @ OrdinaryDiffEq /home/runner/.julia/packages/OrdinaryDiffEq/4qO6L/src/solve.jl:548\n",
      "┌ Warning: NaN dt detected. Likely a NaN value in the state, parameters, or derivative value caused this outcome.\n",
      "└ @ SciMLBase /home/runner/.julia/packages/SciMLBase/pmQ12/src/integrator_interface.jl:496\n",
      "┌ Warning: Automatic dt set the starting dt as NaN, causing instability. Exiting.\n",
      "└ @ OrdinaryDiffEq /home/runner/.julia/packages/OrdinaryDiffEq/4qO6L/src/solve.jl:548\n",
      "┌ Warning: NaN dt detected. Likely a NaN value in the state, parameters, or derivative value caused this outcome.\n",
      "└ @ SciMLBase /home/runner/.julia/packages/SciMLBase/pmQ12/src/integrator_interface.jl:496\n",
      "┌ Warning: Automatic dt set the starting dt as NaN, causing instability. Exiting.\n",
      "└ @ OrdinaryDiffEq /home/runner/.julia/packages/OrdinaryDiffEq/4qO6L/src/solve.jl:548\n",
      "┌ Warning: NaN dt detected. Likely a NaN value in the state, parameters, or derivative value caused this outcome.\n",
      "└ @ SciMLBase /home/runner/.julia/packages/SciMLBase/pmQ12/src/integrator_interface.jl:496\n",
      "┌ Warning: Automatic dt set the starting dt as NaN, causing instability. Exiting.\n",
      "└ @ OrdinaryDiffEq /home/runner/.julia/packages/OrdinaryDiffEq/4qO6L/src/solve.jl:548\n",
      "┌ Warning: NaN dt detected. Likely a NaN value in the state, parameters, or derivative value caused this outcome.\n",
      "└ @ SciMLBase /home/runner/.julia/packages/SciMLBase/pmQ12/src/integrator_interface.jl:496\n",
      "┌ Warning: Automatic dt set the starting dt as NaN, causing instability. Exiting.\n",
      "└ @ OrdinaryDiffEq /home/runner/.julia/packages/OrdinaryDiffEq/4qO6L/src/solve.jl:548\n",
      "┌ Warning: NaN dt detected. Likely a NaN value in the state, parameters, or derivative value caused this outcome.\n",
      "└ @ SciMLBase /home/runner/.julia/packages/SciMLBase/pmQ12/src/integrator_interface.jl:496\n",
      "┌ Warning: Automatic dt set the starting dt as NaN, causing instability. Exiting.\n",
      "└ @ OrdinaryDiffEq /home/runner/.julia/packages/OrdinaryDiffEq/4qO6L/src/solve.jl:548\n",
      "┌ Warning: NaN dt detected. Likely a NaN value in the state, parameters, or derivative value caused this outcome.\n",
      "└ @ SciMLBase /home/runner/.julia/packages/SciMLBase/pmQ12/src/integrator_interface.jl:496\n",
      "┌ Warning: Automatic dt set the starting dt as NaN, causing instability. Exiting.\n",
      "└ @ OrdinaryDiffEq /home/runner/.julia/packages/OrdinaryDiffEq/4qO6L/src/solve.jl:548\n",
      "┌ Warning: NaN dt detected. Likely a NaN value in the state, parameters, or derivative value caused this outcome.\n",
      "└ @ SciMLBase /home/runner/.julia/packages/SciMLBase/pmQ12/src/integrator_interface.jl:496\n",
      "┌ Warning: Automatic dt set the starting dt as NaN, causing instability. Exiting.\n",
      "└ @ OrdinaryDiffEq /home/runner/.julia/packages/OrdinaryDiffEq/4qO6L/src/solve.jl:548\n",
      "┌ Warning: NaN dt detected. Likely a NaN value in the state, parameters, or derivative value caused this outcome.\n",
      "└ @ SciMLBase /home/runner/.julia/packages/SciMLBase/pmQ12/src/integrator_interface.jl:496\n",
      "┌ Warning: Automatic dt set the starting dt as NaN, causing instability. Exiting.\n",
      "└ @ OrdinaryDiffEq /home/runner/.julia/packages/OrdinaryDiffEq/4qO6L/src/solve.jl:548\n",
      "┌ Warning: NaN dt detected. Likely a NaN value in the state, parameters, or derivative value caused this outcome.\n",
      "└ @ SciMLBase /home/runner/.julia/packages/SciMLBase/pmQ12/src/integrator_interface.jl:496\n"
     ]
    },
    {
     "data": {
      "text/plain": [
       "\"Epoch: 250 Loss: Inf\""
      ]
     },
     "metadata": {},
     "output_type": "display_data"
    },
    {
     "name": "stderr",
     "output_type": "stream",
     "text": [
      "┌ Warning: Automatic dt set the starting dt as NaN, causing instability. Exiting.\n",
      "└ @ OrdinaryDiffEq /home/runner/.julia/packages/OrdinaryDiffEq/4qO6L/src/solve.jl:548\n",
      "┌ Warning: NaN dt detected. Likely a NaN value in the state, parameters, or derivative value caused this outcome.\n",
      "└ @ SciMLBase /home/runner/.julia/packages/SciMLBase/pmQ12/src/integrator_interface.jl:496\n",
      "┌ Warning: Automatic dt set the starting dt as NaN, causing instability. Exiting.\n",
      "└ @ OrdinaryDiffEq /home/runner/.julia/packages/OrdinaryDiffEq/4qO6L/src/solve.jl:548\n",
      "┌ Warning: NaN dt detected. Likely a NaN value in the state, parameters, or derivative value caused this outcome.\n",
      "└ @ SciMLBase /home/runner/.julia/packages/SciMLBase/pmQ12/src/integrator_interface.jl:496\n",
      "┌ Warning: Automatic dt set the starting dt as NaN, causing instability. Exiting.\n",
      "└ @ OrdinaryDiffEq /home/runner/.julia/packages/OrdinaryDiffEq/4qO6L/src/solve.jl:548\n",
      "┌ Warning: NaN dt detected. Likely a NaN value in the state, parameters, or derivative value caused this outcome.\n",
      "└ @ SciMLBase /home/runner/.julia/packages/SciMLBase/pmQ12/src/integrator_interface.jl:496\n",
      "┌ Warning: Automatic dt set the starting dt as NaN, causing instability. Exiting.\n",
      "└ @ OrdinaryDiffEq /home/runner/.julia/packages/OrdinaryDiffEq/4qO6L/src/solve.jl:548\n",
      "┌ Warning: NaN dt detected. Likely a NaN value in the state, parameters, or derivative value caused this outcome.\n",
      "└ @ SciMLBase /home/runner/.julia/packages/SciMLBase/pmQ12/src/integrator_interface.jl:496\n",
      "┌ Warning: Automatic dt set the starting dt as NaN, causing instability. Exiting.\n",
      "└ @ OrdinaryDiffEq /home/runner/.julia/packages/OrdinaryDiffEq/4qO6L/src/solve.jl:548\n",
      "┌ Warning: NaN dt detected. Likely a NaN value in the state, parameters, or derivative value caused this outcome.\n",
      "└ @ SciMLBase /home/runner/.julia/packages/SciMLBase/pmQ12/src/integrator_interface.jl:496\n",
      "┌ Warning: Automatic dt set the starting dt as NaN, causing instability. Exiting.\n",
      "└ @ OrdinaryDiffEq /home/runner/.julia/packages/OrdinaryDiffEq/4qO6L/src/solve.jl:548\n",
      "┌ Warning: NaN dt detected. Likely a NaN value in the state, parameters, or derivative value caused this outcome.\n",
      "└ @ SciMLBase /home/runner/.julia/packages/SciMLBase/pmQ12/src/integrator_interface.jl:496\n",
      "┌ Warning: Automatic dt set the starting dt as NaN, causing instability. Exiting.\n",
      "└ @ OrdinaryDiffEq /home/runner/.julia/packages/OrdinaryDiffEq/4qO6L/src/solve.jl:548\n",
      "┌ Warning: NaN dt detected. Likely a NaN value in the state, parameters, or derivative value caused this outcome.\n",
      "└ @ SciMLBase /home/runner/.julia/packages/SciMLBase/pmQ12/src/integrator_interface.jl:496\n",
      "┌ Warning: Automatic dt set the starting dt as NaN, causing instability. Exiting.\n",
      "└ @ OrdinaryDiffEq /home/runner/.julia/packages/OrdinaryDiffEq/4qO6L/src/solve.jl:548\n",
      "┌ Warning: NaN dt detected. Likely a NaN value in the state, parameters, or derivative value caused this outcome.\n",
      "└ @ SciMLBase /home/runner/.julia/packages/SciMLBase/pmQ12/src/integrator_interface.jl:496\n",
      "┌ Warning: Automatic dt set the starting dt as NaN, causing instability. Exiting.\n",
      "└ @ OrdinaryDiffEq /home/runner/.julia/packages/OrdinaryDiffEq/4qO6L/src/solve.jl:548\n",
      "┌ Warning: NaN dt detected. Likely a NaN value in the state, parameters, or derivative value caused this outcome.\n",
      "└ @ SciMLBase /home/runner/.julia/packages/SciMLBase/pmQ12/src/integrator_interface.jl:496\n",
      "┌ Warning: Automatic dt set the starting dt as NaN, causing instability. Exiting.\n",
      "└ @ OrdinaryDiffEq /home/runner/.julia/packages/OrdinaryDiffEq/4qO6L/src/solve.jl:548\n",
      "┌ Warning: NaN dt detected. Likely a NaN value in the state, parameters, or derivative value caused this outcome.\n",
      "└ @ SciMLBase /home/runner/.julia/packages/SciMLBase/pmQ12/src/integrator_interface.jl:496\n"
     ]
    },
    {
     "data": {
      "text/plain": [
       "\"Epoch: 260 Loss: Inf\""
      ]
     },
     "metadata": {},
     "output_type": "display_data"
    },
    {
     "name": "stderr",
     "output_type": "stream",
     "text": [
      "┌ Warning: Automatic dt set the starting dt as NaN, causing instability. Exiting.\n",
      "└ @ OrdinaryDiffEq /home/runner/.julia/packages/OrdinaryDiffEq/4qO6L/src/solve.jl:548\n",
      "┌ Warning: NaN dt detected. Likely a NaN value in the state, parameters, or derivative value caused this outcome.\n",
      "└ @ SciMLBase /home/runner/.julia/packages/SciMLBase/pmQ12/src/integrator_interface.jl:496\n",
      "┌ Warning: Automatic dt set the starting dt as NaN, causing instability. Exiting.\n",
      "└ @ OrdinaryDiffEq /home/runner/.julia/packages/OrdinaryDiffEq/4qO6L/src/solve.jl:548\n",
      "┌ Warning: NaN dt detected. Likely a NaN value in the state, parameters, or derivative value caused this outcome.\n",
      "└ @ SciMLBase /home/runner/.julia/packages/SciMLBase/pmQ12/src/integrator_interface.jl:496\n",
      "┌ Warning: Automatic dt set the starting dt as NaN, causing instability. Exiting.\n",
      "└ @ OrdinaryDiffEq /home/runner/.julia/packages/OrdinaryDiffEq/4qO6L/src/solve.jl:548\n",
      "┌ Warning: NaN dt detected. Likely a NaN value in the state, parameters, or derivative value caused this outcome.\n",
      "└ @ SciMLBase /home/runner/.julia/packages/SciMLBase/pmQ12/src/integrator_interface.jl:496\n",
      "┌ Warning: Automatic dt set the starting dt as NaN, causing instability. Exiting.\n",
      "└ @ OrdinaryDiffEq /home/runner/.julia/packages/OrdinaryDiffEq/4qO6L/src/solve.jl:548\n",
      "┌ Warning: NaN dt detected. Likely a NaN value in the state, parameters, or derivative value caused this outcome.\n",
      "└ @ SciMLBase /home/runner/.julia/packages/SciMLBase/pmQ12/src/integrator_interface.jl:496\n",
      "┌ Warning: Automatic dt set the starting dt as NaN, causing instability. Exiting.\n",
      "└ @ OrdinaryDiffEq /home/runner/.julia/packages/OrdinaryDiffEq/4qO6L/src/solve.jl:548\n",
      "┌ Warning: NaN dt detected. Likely a NaN value in the state, parameters, or derivative value caused this outcome.\n",
      "└ @ SciMLBase /home/runner/.julia/packages/SciMLBase/pmQ12/src/integrator_interface.jl:496\n",
      "┌ Warning: Automatic dt set the starting dt as NaN, causing instability. Exiting.\n",
      "└ @ OrdinaryDiffEq /home/runner/.julia/packages/OrdinaryDiffEq/4qO6L/src/solve.jl:548\n",
      "┌ Warning: NaN dt detected. Likely a NaN value in the state, parameters, or derivative value caused this outcome.\n",
      "└ @ SciMLBase /home/runner/.julia/packages/SciMLBase/pmQ12/src/integrator_interface.jl:496\n",
      "┌ Warning: Automatic dt set the starting dt as NaN, causing instability. Exiting.\n",
      "└ @ OrdinaryDiffEq /home/runner/.julia/packages/OrdinaryDiffEq/4qO6L/src/solve.jl:548\n",
      "┌ Warning: NaN dt detected. Likely a NaN value in the state, parameters, or derivative value caused this outcome.\n",
      "└ @ SciMLBase /home/runner/.julia/packages/SciMLBase/pmQ12/src/integrator_interface.jl:496\n",
      "┌ Warning: Automatic dt set the starting dt as NaN, causing instability. Exiting.\n",
      "└ @ OrdinaryDiffEq /home/runner/.julia/packages/OrdinaryDiffEq/4qO6L/src/solve.jl:548\n",
      "┌ Warning: NaN dt detected. Likely a NaN value in the state, parameters, or derivative value caused this outcome.\n",
      "└ @ SciMLBase /home/runner/.julia/packages/SciMLBase/pmQ12/src/integrator_interface.jl:496\n",
      "┌ Warning: Automatic dt set the starting dt as NaN, causing instability. Exiting.\n",
      "└ @ OrdinaryDiffEq /home/runner/.julia/packages/OrdinaryDiffEq/4qO6L/src/solve.jl:548\n",
      "┌ Warning: NaN dt detected. Likely a NaN value in the state, parameters, or derivative value caused this outcome.\n",
      "└ @ SciMLBase /home/runner/.julia/packages/SciMLBase/pmQ12/src/integrator_interface.jl:496\n",
      "┌ Warning: Automatic dt set the starting dt as NaN, causing instability. Exiting.\n",
      "└ @ OrdinaryDiffEq /home/runner/.julia/packages/OrdinaryDiffEq/4qO6L/src/solve.jl:548\n",
      "┌ Warning: NaN dt detected. Likely a NaN value in the state, parameters, or derivative value caused this outcome.\n",
      "└ @ SciMLBase /home/runner/.julia/packages/SciMLBase/pmQ12/src/integrator_interface.jl:496\n"
     ]
    },
    {
     "data": {
      "text/plain": [
       "\"Epoch: 270 Loss: Inf\""
      ]
     },
     "metadata": {},
     "output_type": "display_data"
    },
    {
     "name": "stderr",
     "output_type": "stream",
     "text": [
      "┌ Warning: Automatic dt set the starting dt as NaN, causing instability. Exiting.\n",
      "└ @ OrdinaryDiffEq /home/runner/.julia/packages/OrdinaryDiffEq/4qO6L/src/solve.jl:548\n",
      "┌ Warning: NaN dt detected. Likely a NaN value in the state, parameters, or derivative value caused this outcome.\n",
      "└ @ SciMLBase /home/runner/.julia/packages/SciMLBase/pmQ12/src/integrator_interface.jl:496\n",
      "┌ Warning: Automatic dt set the starting dt as NaN, causing instability. Exiting.\n",
      "└ @ OrdinaryDiffEq /home/runner/.julia/packages/OrdinaryDiffEq/4qO6L/src/solve.jl:548\n",
      "┌ Warning: NaN dt detected. Likely a NaN value in the state, parameters, or derivative value caused this outcome.\n",
      "└ @ SciMLBase /home/runner/.julia/packages/SciMLBase/pmQ12/src/integrator_interface.jl:496\n",
      "┌ Warning: Automatic dt set the starting dt as NaN, causing instability. Exiting.\n",
      "└ @ OrdinaryDiffEq /home/runner/.julia/packages/OrdinaryDiffEq/4qO6L/src/solve.jl:548\n",
      "┌ Warning: NaN dt detected. Likely a NaN value in the state, parameters, or derivative value caused this outcome.\n",
      "└ @ SciMLBase /home/runner/.julia/packages/SciMLBase/pmQ12/src/integrator_interface.jl:496\n",
      "┌ Warning: Automatic dt set the starting dt as NaN, causing instability. Exiting.\n",
      "└ @ OrdinaryDiffEq /home/runner/.julia/packages/OrdinaryDiffEq/4qO6L/src/solve.jl:548\n",
      "┌ Warning: NaN dt detected. Likely a NaN value in the state, parameters, or derivative value caused this outcome.\n",
      "└ @ SciMLBase /home/runner/.julia/packages/SciMLBase/pmQ12/src/integrator_interface.jl:496\n",
      "┌ Warning: Automatic dt set the starting dt as NaN, causing instability. Exiting.\n",
      "└ @ OrdinaryDiffEq /home/runner/.julia/packages/OrdinaryDiffEq/4qO6L/src/solve.jl:548\n",
      "┌ Warning: NaN dt detected. Likely a NaN value in the state, parameters, or derivative value caused this outcome.\n",
      "└ @ SciMLBase /home/runner/.julia/packages/SciMLBase/pmQ12/src/integrator_interface.jl:496\n",
      "┌ Warning: Automatic dt set the starting dt as NaN, causing instability. Exiting.\n",
      "└ @ OrdinaryDiffEq /home/runner/.julia/packages/OrdinaryDiffEq/4qO6L/src/solve.jl:548\n",
      "┌ Warning: NaN dt detected. Likely a NaN value in the state, parameters, or derivative value caused this outcome.\n",
      "└ @ SciMLBase /home/runner/.julia/packages/SciMLBase/pmQ12/src/integrator_interface.jl:496\n",
      "┌ Warning: Automatic dt set the starting dt as NaN, causing instability. Exiting.\n",
      "└ @ OrdinaryDiffEq /home/runner/.julia/packages/OrdinaryDiffEq/4qO6L/src/solve.jl:548\n",
      "┌ Warning: NaN dt detected. Likely a NaN value in the state, parameters, or derivative value caused this outcome.\n",
      "└ @ SciMLBase /home/runner/.julia/packages/SciMLBase/pmQ12/src/integrator_interface.jl:496\n",
      "┌ Warning: Automatic dt set the starting dt as NaN, causing instability. Exiting.\n",
      "└ @ OrdinaryDiffEq /home/runner/.julia/packages/OrdinaryDiffEq/4qO6L/src/solve.jl:548\n",
      "┌ Warning: NaN dt detected. Likely a NaN value in the state, parameters, or derivative value caused this outcome.\n",
      "└ @ SciMLBase /home/runner/.julia/packages/SciMLBase/pmQ12/src/integrator_interface.jl:496\n",
      "┌ Warning: Automatic dt set the starting dt as NaN, causing instability. Exiting.\n",
      "└ @ OrdinaryDiffEq /home/runner/.julia/packages/OrdinaryDiffEq/4qO6L/src/solve.jl:548\n",
      "┌ Warning: NaN dt detected. Likely a NaN value in the state, parameters, or derivative value caused this outcome.\n",
      "└ @ SciMLBase /home/runner/.julia/packages/SciMLBase/pmQ12/src/integrator_interface.jl:496\n",
      "┌ Warning: Automatic dt set the starting dt as NaN, causing instability. Exiting.\n",
      "└ @ OrdinaryDiffEq /home/runner/.julia/packages/OrdinaryDiffEq/4qO6L/src/solve.jl:548\n",
      "┌ Warning: NaN dt detected. Likely a NaN value in the state, parameters, or derivative value caused this outcome.\n",
      "└ @ SciMLBase /home/runner/.julia/packages/SciMLBase/pmQ12/src/integrator_interface.jl:496\n"
     ]
    },
    {
     "data": {
      "text/plain": [
       "\"Epoch: 280 Loss: Inf\""
      ]
     },
     "metadata": {},
     "output_type": "display_data"
    },
    {
     "name": "stderr",
     "output_type": "stream",
     "text": [
      "┌ Warning: Automatic dt set the starting dt as NaN, causing instability. Exiting.\n",
      "└ @ OrdinaryDiffEq /home/runner/.julia/packages/OrdinaryDiffEq/4qO6L/src/solve.jl:548\n",
      "┌ Warning: NaN dt detected. Likely a NaN value in the state, parameters, or derivative value caused this outcome.\n",
      "└ @ SciMLBase /home/runner/.julia/packages/SciMLBase/pmQ12/src/integrator_interface.jl:496\n",
      "┌ Warning: Automatic dt set the starting dt as NaN, causing instability. Exiting.\n",
      "└ @ OrdinaryDiffEq /home/runner/.julia/packages/OrdinaryDiffEq/4qO6L/src/solve.jl:548\n",
      "┌ Warning: NaN dt detected. Likely a NaN value in the state, parameters, or derivative value caused this outcome.\n",
      "└ @ SciMLBase /home/runner/.julia/packages/SciMLBase/pmQ12/src/integrator_interface.jl:496\n",
      "┌ Warning: Automatic dt set the starting dt as NaN, causing instability. Exiting.\n",
      "└ @ OrdinaryDiffEq /home/runner/.julia/packages/OrdinaryDiffEq/4qO6L/src/solve.jl:548\n",
      "┌ Warning: NaN dt detected. Likely a NaN value in the state, parameters, or derivative value caused this outcome.\n",
      "└ @ SciMLBase /home/runner/.julia/packages/SciMLBase/pmQ12/src/integrator_interface.jl:496\n",
      "┌ Warning: Automatic dt set the starting dt as NaN, causing instability. Exiting.\n",
      "└ @ OrdinaryDiffEq /home/runner/.julia/packages/OrdinaryDiffEq/4qO6L/src/solve.jl:548\n",
      "┌ Warning: NaN dt detected. Likely a NaN value in the state, parameters, or derivative value caused this outcome.\n",
      "└ @ SciMLBase /home/runner/.julia/packages/SciMLBase/pmQ12/src/integrator_interface.jl:496\n",
      "┌ Warning: Automatic dt set the starting dt as NaN, causing instability. Exiting.\n",
      "└ @ OrdinaryDiffEq /home/runner/.julia/packages/OrdinaryDiffEq/4qO6L/src/solve.jl:548\n",
      "┌ Warning: NaN dt detected. Likely a NaN value in the state, parameters, or derivative value caused this outcome.\n",
      "└ @ SciMLBase /home/runner/.julia/packages/SciMLBase/pmQ12/src/integrator_interface.jl:496\n",
      "┌ Warning: Automatic dt set the starting dt as NaN, causing instability. Exiting.\n",
      "└ @ OrdinaryDiffEq /home/runner/.julia/packages/OrdinaryDiffEq/4qO6L/src/solve.jl:548\n",
      "┌ Warning: NaN dt detected. Likely a NaN value in the state, parameters, or derivative value caused this outcome.\n",
      "└ @ SciMLBase /home/runner/.julia/packages/SciMLBase/pmQ12/src/integrator_interface.jl:496\n",
      "┌ Warning: Automatic dt set the starting dt as NaN, causing instability. Exiting.\n",
      "└ @ OrdinaryDiffEq /home/runner/.julia/packages/OrdinaryDiffEq/4qO6L/src/solve.jl:548\n",
      "┌ Warning: NaN dt detected. Likely a NaN value in the state, parameters, or derivative value caused this outcome.\n",
      "└ @ SciMLBase /home/runner/.julia/packages/SciMLBase/pmQ12/src/integrator_interface.jl:496\n",
      "┌ Warning: Automatic dt set the starting dt as NaN, causing instability. Exiting.\n",
      "└ @ OrdinaryDiffEq /home/runner/.julia/packages/OrdinaryDiffEq/4qO6L/src/solve.jl:548\n",
      "┌ Warning: NaN dt detected. Likely a NaN value in the state, parameters, or derivative value caused this outcome.\n",
      "└ @ SciMLBase /home/runner/.julia/packages/SciMLBase/pmQ12/src/integrator_interface.jl:496\n",
      "┌ Warning: Automatic dt set the starting dt as NaN, causing instability. Exiting.\n",
      "└ @ OrdinaryDiffEq /home/runner/.julia/packages/OrdinaryDiffEq/4qO6L/src/solve.jl:548\n",
      "┌ Warning: NaN dt detected. Likely a NaN value in the state, parameters, or derivative value caused this outcome.\n",
      "└ @ SciMLBase /home/runner/.julia/packages/SciMLBase/pmQ12/src/integrator_interface.jl:496\n",
      "┌ Warning: Automatic dt set the starting dt as NaN, causing instability. Exiting.\n",
      "└ @ OrdinaryDiffEq /home/runner/.julia/packages/OrdinaryDiffEq/4qO6L/src/solve.jl:548\n",
      "┌ Warning: NaN dt detected. Likely a NaN value in the state, parameters, or derivative value caused this outcome.\n",
      "└ @ SciMLBase /home/runner/.julia/packages/SciMLBase/pmQ12/src/integrator_interface.jl:496\n"
     ]
    },
    {
     "data": {
      "text/plain": [
       "\"Epoch: 290 Loss: Inf\""
      ]
     },
     "metadata": {},
     "output_type": "display_data"
    },
    {
     "name": "stderr",
     "output_type": "stream",
     "text": [
      "┌ Warning: Automatic dt set the starting dt as NaN, causing instability. Exiting.\n",
      "└ @ OrdinaryDiffEq /home/runner/.julia/packages/OrdinaryDiffEq/4qO6L/src/solve.jl:548\n",
      "┌ Warning: NaN dt detected. Likely a NaN value in the state, parameters, or derivative value caused this outcome.\n",
      "└ @ SciMLBase /home/runner/.julia/packages/SciMLBase/pmQ12/src/integrator_interface.jl:496\n",
      "┌ Warning: Automatic dt set the starting dt as NaN, causing instability. Exiting.\n",
      "└ @ OrdinaryDiffEq /home/runner/.julia/packages/OrdinaryDiffEq/4qO6L/src/solve.jl:548\n",
      "┌ Warning: NaN dt detected. Likely a NaN value in the state, parameters, or derivative value caused this outcome.\n",
      "└ @ SciMLBase /home/runner/.julia/packages/SciMLBase/pmQ12/src/integrator_interface.jl:496\n",
      "┌ Warning: Automatic dt set the starting dt as NaN, causing instability. Exiting.\n",
      "└ @ OrdinaryDiffEq /home/runner/.julia/packages/OrdinaryDiffEq/4qO6L/src/solve.jl:548\n",
      "┌ Warning: NaN dt detected. Likely a NaN value in the state, parameters, or derivative value caused this outcome.\n",
      "└ @ SciMLBase /home/runner/.julia/packages/SciMLBase/pmQ12/src/integrator_interface.jl:496\n",
      "┌ Warning: Automatic dt set the starting dt as NaN, causing instability. Exiting.\n",
      "└ @ OrdinaryDiffEq /home/runner/.julia/packages/OrdinaryDiffEq/4qO6L/src/solve.jl:548\n",
      "┌ Warning: NaN dt detected. Likely a NaN value in the state, parameters, or derivative value caused this outcome.\n",
      "└ @ SciMLBase /home/runner/.julia/packages/SciMLBase/pmQ12/src/integrator_interface.jl:496\n",
      "┌ Warning: Automatic dt set the starting dt as NaN, causing instability. Exiting.\n",
      "└ @ OrdinaryDiffEq /home/runner/.julia/packages/OrdinaryDiffEq/4qO6L/src/solve.jl:548\n",
      "┌ Warning: NaN dt detected. Likely a NaN value in the state, parameters, or derivative value caused this outcome.\n",
      "└ @ SciMLBase /home/runner/.julia/packages/SciMLBase/pmQ12/src/integrator_interface.jl:496\n",
      "┌ Warning: Automatic dt set the starting dt as NaN, causing instability. Exiting.\n",
      "└ @ OrdinaryDiffEq /home/runner/.julia/packages/OrdinaryDiffEq/4qO6L/src/solve.jl:548\n",
      "┌ Warning: NaN dt detected. Likely a NaN value in the state, parameters, or derivative value caused this outcome.\n",
      "└ @ SciMLBase /home/runner/.julia/packages/SciMLBase/pmQ12/src/integrator_interface.jl:496\n",
      "┌ Warning: Automatic dt set the starting dt as NaN, causing instability. Exiting.\n",
      "└ @ OrdinaryDiffEq /home/runner/.julia/packages/OrdinaryDiffEq/4qO6L/src/solve.jl:548\n",
      "┌ Warning: NaN dt detected. Likely a NaN value in the state, parameters, or derivative value caused this outcome.\n",
      "└ @ SciMLBase /home/runner/.julia/packages/SciMLBase/pmQ12/src/integrator_interface.jl:496\n",
      "┌ Warning: Automatic dt set the starting dt as NaN, causing instability. Exiting.\n",
      "└ @ OrdinaryDiffEq /home/runner/.julia/packages/OrdinaryDiffEq/4qO6L/src/solve.jl:548\n",
      "┌ Warning: NaN dt detected. Likely a NaN value in the state, parameters, or derivative value caused this outcome.\n",
      "└ @ SciMLBase /home/runner/.julia/packages/SciMLBase/pmQ12/src/integrator_interface.jl:496\n",
      "┌ Warning: Automatic dt set the starting dt as NaN, causing instability. Exiting.\n",
      "└ @ OrdinaryDiffEq /home/runner/.julia/packages/OrdinaryDiffEq/4qO6L/src/solve.jl:548\n",
      "┌ Warning: NaN dt detected. Likely a NaN value in the state, parameters, or derivative value caused this outcome.\n",
      "└ @ SciMLBase /home/runner/.julia/packages/SciMLBase/pmQ12/src/integrator_interface.jl:496\n",
      "┌ Warning: Automatic dt set the starting dt as NaN, causing instability. Exiting.\n",
      "└ @ OrdinaryDiffEq /home/runner/.julia/packages/OrdinaryDiffEq/4qO6L/src/solve.jl:548\n",
      "┌ Warning: NaN dt detected. Likely a NaN value in the state, parameters, or derivative value caused this outcome.\n",
      "└ @ SciMLBase /home/runner/.julia/packages/SciMLBase/pmQ12/src/integrator_interface.jl:496\n"
     ]
    },
    {
     "data": {
      "text/plain": [
       "\"Epoch: 300 Loss: Inf\""
      ]
     },
     "metadata": {},
     "output_type": "display_data"
    },
    {
     "name": "stderr",
     "output_type": "stream",
     "text": [
      "┌ Warning: Automatic dt set the starting dt as NaN, causing instability. Exiting.\n",
      "└ @ OrdinaryDiffEq /home/runner/.julia/packages/OrdinaryDiffEq/4qO6L/src/solve.jl:548\n",
      "┌ Warning: NaN dt detected. Likely a NaN value in the state, parameters, or derivative value caused this outcome.\n",
      "└ @ SciMLBase /home/runner/.julia/packages/SciMLBase/pmQ12/src/integrator_interface.jl:496\n"
     ]
    },
    {
     "data": {
      "text/plain": [
       "\"Epoch: 310 Loss: -56.66513928902359\""
      ]
     },
     "metadata": {},
     "output_type": "display_data"
    },
    {
     "data": {
      "text/plain": [
       "\"Epoch: 320 Loss: -56.665139299016126\""
      ]
     },
     "metadata": {},
     "output_type": "display_data"
    },
    {
     "data": {
      "text/plain": [
       "\"Epoch: 330 Loss: -56.66513925188227\""
      ]
     },
     "metadata": {},
     "output_type": "display_data"
    },
    {
     "data": {
      "text/plain": [
       "\"Epoch: 340 Loss: -56.665139270470185\""
      ]
     },
     "metadata": {},
     "output_type": "display_data"
    },
    {
     "data": {
      "text/plain": [
       "\"Epoch: 350 Loss: -56.66513919119394\""
      ]
     },
     "metadata": {},
     "output_type": "display_data"
    },
    {
     "data": {
      "text/plain": [
       "u: \u001b[0mComponentVector{Float64}(layer_1 = (weight = [0.6991825034899273; -0.3812660276889801; -0.4228460490703583; -0.027002031753358028;;], bias = [0.05949680699948741; 0.0; 0.0; 0.0604376404258787;;]), layer_2 = (weight = [-0.10428838818111084 -0.2534787654876709 0.49135512113571167 0.7944243135622098; 0.8983487508963544 0.03525586798787117 0.5882423520088196 -0.4997345690021149; -0.7385705921782102 -0.16589832305908203 -0.7717058658599854 0.8559028261867959; -0.8402026295661926 0.2417277693748474 0.8091149926185608 0.04708356782793999], bias = [0.05984992266868655; 0.0598572270465148; 0.12671034415020374; 0.0;;]), layer_3 = (weight = [0.09030660249001296 0.24263990063692892 -0.6599809301971058 0.38921135663986206], bias = [0.05912218020974564;;]))"
      ]
     },
     "execution_count": 25,
     "metadata": {},
     "output_type": "execute_result"
    }
   ],
   "source": [
    "optf2 = Optimization.OptimizationFunction((x,p)->loss(x, prob_ude2), adtype)\n",
    "optprob2 = Optimization.OptimizationProblem(optf2, ComponentVector{Float64}(p2_))\n",
    "res_ude2 = Optimization.solve(optprob2, OptimizationPolyalgorithms.PolyOpt(), callback=callback2)"
   ]
  },
  {
   "cell_type": "markdown",
   "metadata": {},
   "source": [
    "Overall, the 'true' model and the more flexible model give a comparable fit to the data in terms of the loss function."
   ]
  },
  {
   "cell_type": "code",
   "execution_count": 26,
   "metadata": {
    "execution": {
     "iopub.execute_input": "2022-10-24T14:13:52.693000Z",
     "iopub.status.busy": "2022-10-24T14:13:52.693000Z",
     "iopub.status.idle": "2022-10-24T14:13:53.137000Z",
     "shell.execute_reply": "2022-10-24T14:13:53.137000Z"
    }
   },
   "outputs": [
    {
     "data": {
      "text/plain": [
       "(-56.65768709902596, -56.66513919119378)"
      ]
     },
     "execution_count": 26,
     "metadata": {},
     "output_type": "execute_result"
    }
   ],
   "source": [
    "losses1[end],losses2[end]"
   ]
  },
  {
   "cell_type": "markdown",
   "metadata": {},
   "source": [
    "Consistent with this, the multilayer model gives a good fit when plotted alongside the data."
   ]
  },
  {
   "cell_type": "code",
   "execution_count": 27,
   "metadata": {
    "execution": {
     "iopub.execute_input": "2022-10-24T14:13:53.142000Z",
     "iopub.status.busy": "2022-10-24T14:13:53.142000Z",
     "iopub.status.idle": "2022-10-24T14:13:57.691000Z",
     "shell.execute_reply": "2022-10-24T14:13:57.691000Z"
    }
   },
   "outputs": [
    {
     "data": {
      "image/svg+xml": [
       "<?xml version=\"1.0\" encoding=\"utf-8\"?>\n",
       "<svg xmlns=\"http://www.w3.org/2000/svg\" xmlns:xlink=\"http://www.w3.org/1999/xlink\" width=\"600\" height=\"400\" viewBox=\"0 0 2400 1600\">\n",
       "<defs>\n",
       "  <clipPath id=\"clip630\">\n",
       "    <rect x=\"0\" y=\"0\" width=\"2400\" height=\"1600\"/>\n",
       "  </clipPath>\n",
       "</defs>\n",
       "<path clip-path=\"url(#clip630)\" d=\"\n",
       "M0 1600 L2400 1600 L2400 0 L0 0  Z\n",
       "  \" fill=\"#ffffff\" fill-rule=\"evenodd\" fill-opacity=\"1\"/>\n",
       "<defs>\n",
       "  <clipPath id=\"clip631\">\n",
       "    <rect x=\"480\" y=\"0\" width=\"1681\" height=\"1600\"/>\n",
       "  </clipPath>\n",
       "</defs>\n",
       "<path clip-path=\"url(#clip630)\" d=\"\n",
       "M186.274 1486.45 L2352.76 1486.45 L2352.76 123.472 L186.274 123.472  Z\n",
       "  \" fill=\"#ffffff\" fill-rule=\"evenodd\" fill-opacity=\"1\"/>\n",
       "<defs>\n",
       "  <clipPath id=\"clip632\">\n",
       "    <rect x=\"186\" y=\"123\" width=\"2167\" height=\"1364\"/>\n",
       "  </clipPath>\n",
       "</defs>\n",
       "<polyline clip-path=\"url(#clip632)\" style=\"stroke:#000000; stroke-linecap:round; stroke-linejoin:round; stroke-width:2; stroke-opacity:0.1; fill:none\" points=\"\n",
       "  186.274,1486.45 186.274,123.472 \n",
       "  \"/>\n",
       "<polyline clip-path=\"url(#clip632)\" style=\"stroke:#000000; stroke-linecap:round; stroke-linejoin:round; stroke-width:2; stroke-opacity:0.1; fill:none\" points=\"\n",
       "  727.894,1486.45 727.894,123.472 \n",
       "  \"/>\n",
       "<polyline clip-path=\"url(#clip632)\" style=\"stroke:#000000; stroke-linecap:round; stroke-linejoin:round; stroke-width:2; stroke-opacity:0.1; fill:none\" points=\"\n",
       "  1269.51,1486.45 1269.51,123.472 \n",
       "  \"/>\n",
       "<polyline clip-path=\"url(#clip632)\" style=\"stroke:#000000; stroke-linecap:round; stroke-linejoin:round; stroke-width:2; stroke-opacity:0.1; fill:none\" points=\"\n",
       "  1811.14,1486.45 1811.14,123.472 \n",
       "  \"/>\n",
       "<polyline clip-path=\"url(#clip632)\" style=\"stroke:#000000; stroke-linecap:round; stroke-linejoin:round; stroke-width:2; stroke-opacity:0.1; fill:none\" points=\"\n",
       "  2352.76,1486.45 2352.76,123.472 \n",
       "  \"/>\n",
       "<polyline clip-path=\"url(#clip630)\" style=\"stroke:#000000; stroke-linecap:round; stroke-linejoin:round; stroke-width:4; stroke-opacity:1; fill:none\" points=\"\n",
       "  186.274,1486.45 2352.76,1486.45 \n",
       "  \"/>\n",
       "<polyline clip-path=\"url(#clip630)\" style=\"stroke:#000000; stroke-linecap:round; stroke-linejoin:round; stroke-width:4; stroke-opacity:1; fill:none\" points=\"\n",
       "  186.274,1486.45 186.274,1467.55 \n",
       "  \"/>\n",
       "<polyline clip-path=\"url(#clip630)\" style=\"stroke:#000000; stroke-linecap:round; stroke-linejoin:round; stroke-width:4; stroke-opacity:1; fill:none\" points=\"\n",
       "  727.894,1486.45 727.894,1467.55 \n",
       "  \"/>\n",
       "<polyline clip-path=\"url(#clip630)\" style=\"stroke:#000000; stroke-linecap:round; stroke-linejoin:round; stroke-width:4; stroke-opacity:1; fill:none\" points=\"\n",
       "  1269.51,1486.45 1269.51,1467.55 \n",
       "  \"/>\n",
       "<polyline clip-path=\"url(#clip630)\" style=\"stroke:#000000; stroke-linecap:round; stroke-linejoin:round; stroke-width:4; stroke-opacity:1; fill:none\" points=\"\n",
       "  1811.14,1486.45 1811.14,1467.55 \n",
       "  \"/>\n",
       "<polyline clip-path=\"url(#clip630)\" style=\"stroke:#000000; stroke-linecap:round; stroke-linejoin:round; stroke-width:4; stroke-opacity:1; fill:none\" points=\"\n",
       "  2352.76,1486.45 2352.76,1467.55 \n",
       "  \"/>\n",
       "<path clip-path=\"url(#clip630)\" d=\"M186.274 1517.37 Q182.663 1517.37 180.834 1520.93 Q179.029 1524.47 179.029 1531.6 Q179.029 1538.71 180.834 1542.27 Q182.663 1545.82 186.274 1545.82 Q189.908 1545.82 191.714 1542.27 Q193.542 1538.71 193.542 1531.6 Q193.542 1524.47 191.714 1520.93 Q189.908 1517.37 186.274 1517.37 M186.274 1513.66 Q192.084 1513.66 195.14 1518.27 Q198.218 1522.85 198.218 1531.6 Q198.218 1540.33 195.14 1544.94 Q192.084 1549.52 186.274 1549.52 Q180.464 1549.52 177.385 1544.94 Q174.33 1540.33 174.33 1531.6 Q174.33 1522.85 177.385 1518.27 Q180.464 1513.66 186.274 1513.66 Z\" fill=\"#000000\" fill-rule=\"evenodd\" fill-opacity=\"1\" /><path clip-path=\"url(#clip630)\" d=\"M702.582 1544.91 L710.221 1544.91 L710.221 1518.55 L701.911 1520.21 L701.911 1515.95 L710.175 1514.29 L714.851 1514.29 L714.851 1544.91 L722.489 1544.91 L722.489 1548.85 L702.582 1548.85 L702.582 1544.91 Z\" fill=\"#000000\" fill-rule=\"evenodd\" fill-opacity=\"1\" /><path clip-path=\"url(#clip630)\" d=\"M741.934 1517.37 Q738.323 1517.37 736.494 1520.93 Q734.688 1524.47 734.688 1531.6 Q734.688 1538.71 736.494 1542.27 Q738.323 1545.82 741.934 1545.82 Q745.568 1545.82 747.374 1542.27 Q749.202 1538.71 749.202 1531.6 Q749.202 1524.47 747.374 1520.93 Q745.568 1517.37 741.934 1517.37 M741.934 1513.66 Q747.744 1513.66 750.799 1518.27 Q753.878 1522.85 753.878 1531.6 Q753.878 1540.33 750.799 1544.94 Q747.744 1549.52 741.934 1549.52 Q736.124 1549.52 733.045 1544.94 Q729.989 1540.33 729.989 1531.6 Q729.989 1522.85 733.045 1518.27 Q736.124 1513.66 741.934 1513.66 Z\" fill=\"#000000\" fill-rule=\"evenodd\" fill-opacity=\"1\" /><path clip-path=\"url(#clip630)\" d=\"M1248.29 1544.91 L1264.61 1544.91 L1264.61 1548.85 L1242.66 1548.85 L1242.66 1544.91 Q1245.33 1542.16 1249.91 1537.53 Q1254.52 1532.88 1255.7 1531.53 Q1257.94 1529.01 1258.82 1527.27 Q1259.72 1525.51 1259.72 1523.82 Q1259.72 1521.07 1257.78 1519.33 Q1255.86 1517.6 1252.76 1517.6 Q1250.56 1517.6 1248.1 1518.36 Q1245.67 1519.13 1242.89 1520.68 L1242.89 1515.95 Q1245.72 1514.82 1248.17 1514.24 Q1250.63 1513.66 1252.66 1513.66 Q1258.03 1513.66 1261.23 1516.35 Q1264.42 1519.03 1264.42 1523.52 Q1264.42 1525.65 1263.61 1527.57 Q1262.83 1529.47 1260.72 1532.07 Q1260.14 1532.74 1257.04 1535.95 Q1253.94 1539.15 1248.29 1544.91 Z\" fill=\"#000000\" fill-rule=\"evenodd\" fill-opacity=\"1\" /><path clip-path=\"url(#clip630)\" d=\"M1284.42 1517.37 Q1280.81 1517.37 1278.98 1520.93 Q1277.18 1524.47 1277.18 1531.6 Q1277.18 1538.71 1278.98 1542.27 Q1280.81 1545.82 1284.42 1545.82 Q1288.06 1545.82 1289.86 1542.27 Q1291.69 1538.71 1291.69 1531.6 Q1291.69 1524.47 1289.86 1520.93 Q1288.06 1517.37 1284.42 1517.37 M1284.42 1513.66 Q1290.23 1513.66 1293.29 1518.27 Q1296.37 1522.85 1296.37 1531.6 Q1296.37 1540.33 1293.29 1544.94 Q1290.23 1549.52 1284.42 1549.52 Q1278.61 1549.52 1275.53 1544.94 Q1272.48 1540.33 1272.48 1531.6 Q1272.48 1522.85 1275.53 1518.27 Q1278.61 1513.66 1284.42 1513.66 Z\" fill=\"#000000\" fill-rule=\"evenodd\" fill-opacity=\"1\" /><path clip-path=\"url(#clip630)\" d=\"M1799.98 1530.21 Q1803.33 1530.93 1805.21 1533.2 Q1807.11 1535.47 1807.11 1538.8 Q1807.11 1543.92 1803.59 1546.72 Q1800.07 1549.52 1793.59 1549.52 Q1791.41 1549.52 1789.1 1549.08 Q1786.81 1548.66 1784.35 1547.81 L1784.35 1543.29 Q1786.3 1544.43 1788.61 1545.01 Q1790.93 1545.58 1793.45 1545.58 Q1797.85 1545.58 1800.14 1543.85 Q1802.45 1542.11 1802.45 1538.8 Q1802.45 1535.75 1800.3 1534.03 Q1798.17 1532.3 1794.35 1532.3 L1790.33 1532.3 L1790.33 1528.45 L1794.54 1528.45 Q1797.99 1528.45 1799.82 1527.09 Q1801.64 1525.7 1801.64 1523.11 Q1801.64 1520.45 1799.75 1519.03 Q1797.87 1517.6 1794.35 1517.6 Q1792.43 1517.6 1790.23 1518.01 Q1788.03 1518.43 1785.39 1519.31 L1785.39 1515.14 Q1788.06 1514.4 1790.37 1514.03 Q1792.71 1513.66 1794.77 1513.66 Q1800.09 1513.66 1803.2 1516.09 Q1806.3 1518.5 1806.3 1522.62 Q1806.3 1525.49 1804.65 1527.48 Q1803.01 1529.45 1799.98 1530.21 Z\" fill=\"#000000\" fill-rule=\"evenodd\" fill-opacity=\"1\" /><path clip-path=\"url(#clip630)\" d=\"M1825.97 1517.37 Q1822.36 1517.37 1820.53 1520.93 Q1818.73 1524.47 1818.73 1531.6 Q1818.73 1538.71 1820.53 1542.27 Q1822.36 1545.82 1825.97 1545.82 Q1829.61 1545.82 1831.41 1542.27 Q1833.24 1538.71 1833.24 1531.6 Q1833.24 1524.47 1831.41 1520.93 Q1829.61 1517.37 1825.97 1517.37 M1825.97 1513.66 Q1831.78 1513.66 1834.84 1518.27 Q1837.92 1522.85 1837.92 1531.6 Q1837.92 1540.33 1834.84 1544.94 Q1831.78 1549.52 1825.97 1549.52 Q1820.16 1549.52 1817.08 1544.94 Q1814.03 1540.33 1814.03 1531.6 Q1814.03 1522.85 1817.08 1518.27 Q1820.16 1513.66 1825.97 1513.66 Z\" fill=\"#000000\" fill-rule=\"evenodd\" fill-opacity=\"1\" /><path clip-path=\"url(#clip630)\" d=\"M2340.93 1518.36 L2329.12 1536.81 L2340.93 1536.81 L2340.93 1518.36 M2339.7 1514.29 L2345.58 1514.29 L2345.58 1536.81 L2350.51 1536.81 L2350.51 1540.7 L2345.58 1540.7 L2345.58 1548.85 L2340.93 1548.85 L2340.93 1540.7 L2325.33 1540.7 L2325.33 1536.19 L2339.7 1514.29 Z\" fill=\"#000000\" fill-rule=\"evenodd\" fill-opacity=\"1\" /><path clip-path=\"url(#clip630)\" d=\"M2368.24 1517.37 Q2364.63 1517.37 2362.8 1520.93 Q2361 1524.47 2361 1531.6 Q2361 1538.71 2362.8 1542.27 Q2364.63 1545.82 2368.24 1545.82 Q2371.88 1545.82 2373.68 1542.27 Q2375.51 1538.71 2375.51 1531.6 Q2375.51 1524.47 2373.68 1520.93 Q2371.88 1517.37 2368.24 1517.37 M2368.24 1513.66 Q2374.05 1513.66 2377.11 1518.27 Q2380.19 1522.85 2380.19 1531.6 Q2380.19 1540.33 2377.11 1544.94 Q2374.05 1549.52 2368.24 1549.52 Q2362.43 1549.52 2359.35 1544.94 Q2356.3 1540.33 2356.3 1531.6 Q2356.3 1522.85 2359.35 1518.27 Q2362.43 1513.66 2368.24 1513.66 Z\" fill=\"#000000\" fill-rule=\"evenodd\" fill-opacity=\"1\" /><polyline clip-path=\"url(#clip632)\" style=\"stroke:#000000; stroke-linecap:round; stroke-linejoin:round; stroke-width:2; stroke-opacity:0.1; fill:none\" points=\"\n",
       "  186.274,1447.87 2352.76,1447.87 \n",
       "  \"/>\n",
       "<polyline clip-path=\"url(#clip632)\" style=\"stroke:#000000; stroke-linecap:round; stroke-linejoin:round; stroke-width:2; stroke-opacity:0.1; fill:none\" points=\"\n",
       "  186.274,1123.17 2352.76,1123.17 \n",
       "  \"/>\n",
       "<polyline clip-path=\"url(#clip632)\" style=\"stroke:#000000; stroke-linecap:round; stroke-linejoin:round; stroke-width:2; stroke-opacity:0.1; fill:none\" points=\"\n",
       "  186.274,798.466 2352.76,798.466 \n",
       "  \"/>\n",
       "<polyline clip-path=\"url(#clip632)\" style=\"stroke:#000000; stroke-linecap:round; stroke-linejoin:round; stroke-width:2; stroke-opacity:0.1; fill:none\" points=\"\n",
       "  186.274,473.762 2352.76,473.762 \n",
       "  \"/>\n",
       "<polyline clip-path=\"url(#clip632)\" style=\"stroke:#000000; stroke-linecap:round; stroke-linejoin:round; stroke-width:2; stroke-opacity:0.1; fill:none\" points=\"\n",
       "  186.274,149.059 2352.76,149.059 \n",
       "  \"/>\n",
       "<polyline clip-path=\"url(#clip630)\" style=\"stroke:#000000; stroke-linecap:round; stroke-linejoin:round; stroke-width:4; stroke-opacity:1; fill:none\" points=\"\n",
       "  186.274,1486.45 186.274,123.472 \n",
       "  \"/>\n",
       "<polyline clip-path=\"url(#clip630)\" style=\"stroke:#000000; stroke-linecap:round; stroke-linejoin:round; stroke-width:4; stroke-opacity:1; fill:none\" points=\"\n",
       "  186.274,1447.87 205.172,1447.87 \n",
       "  \"/>\n",
       "<polyline clip-path=\"url(#clip630)\" style=\"stroke:#000000; stroke-linecap:round; stroke-linejoin:round; stroke-width:4; stroke-opacity:1; fill:none\" points=\"\n",
       "  186.274,1123.17 205.172,1123.17 \n",
       "  \"/>\n",
       "<polyline clip-path=\"url(#clip630)\" style=\"stroke:#000000; stroke-linecap:round; stroke-linejoin:round; stroke-width:4; stroke-opacity:1; fill:none\" points=\"\n",
       "  186.274,798.466 205.172,798.466 \n",
       "  \"/>\n",
       "<polyline clip-path=\"url(#clip630)\" style=\"stroke:#000000; stroke-linecap:round; stroke-linejoin:round; stroke-width:4; stroke-opacity:1; fill:none\" points=\"\n",
       "  186.274,473.762 205.172,473.762 \n",
       "  \"/>\n",
       "<polyline clip-path=\"url(#clip630)\" style=\"stroke:#000000; stroke-linecap:round; stroke-linejoin:round; stroke-width:4; stroke-opacity:1; fill:none\" points=\"\n",
       "  186.274,149.059 205.172,149.059 \n",
       "  \"/>\n",
       "<path clip-path=\"url(#clip630)\" d=\"M62.9365 1433.67 Q59.3254 1433.67 57.4967 1437.24 Q55.6912 1440.78 55.6912 1447.91 Q55.6912 1455.01 57.4967 1458.58 Q59.3254 1462.12 62.9365 1462.12 Q66.5707 1462.12 68.3763 1458.58 Q70.205 1455.01 70.205 1447.91 Q70.205 1440.78 68.3763 1437.24 Q66.5707 1433.67 62.9365 1433.67 M62.9365 1429.97 Q68.7467 1429.97 71.8022 1434.57 Q74.8809 1439.16 74.8809 1447.91 Q74.8809 1456.63 71.8022 1461.24 Q68.7467 1465.82 62.9365 1465.82 Q57.1264 1465.82 54.0477 1461.24 Q50.9921 1456.63 50.9921 1447.91 Q50.9921 1439.16 54.0477 1434.57 Q57.1264 1429.97 62.9365 1429.97 Z\" fill=\"#000000\" fill-rule=\"evenodd\" fill-opacity=\"1\" /><path clip-path=\"url(#clip630)\" d=\"M83.0984 1459.27 L87.9827 1459.27 L87.9827 1465.15 L83.0984 1465.15 L83.0984 1459.27 Z\" fill=\"#000000\" fill-rule=\"evenodd\" fill-opacity=\"1\" /><path clip-path=\"url(#clip630)\" d=\"M108.168 1433.67 Q104.557 1433.67 102.728 1437.24 Q100.922 1440.78 100.922 1447.91 Q100.922 1455.01 102.728 1458.58 Q104.557 1462.12 108.168 1462.12 Q111.802 1462.12 113.608 1458.58 Q115.436 1455.01 115.436 1447.91 Q115.436 1440.78 113.608 1437.24 Q111.802 1433.67 108.168 1433.67 M108.168 1429.97 Q113.978 1429.97 117.033 1434.57 Q120.112 1439.16 120.112 1447.91 Q120.112 1456.63 117.033 1461.24 Q113.978 1465.82 108.168 1465.82 Q102.358 1465.82 99.2789 1461.24 Q96.2234 1456.63 96.2234 1447.91 Q96.2234 1439.16 99.2789 1434.57 Q102.358 1429.97 108.168 1429.97 Z\" fill=\"#000000\" fill-rule=\"evenodd\" fill-opacity=\"1\" /><path clip-path=\"url(#clip630)\" d=\"M138.33 1433.67 Q134.719 1433.67 132.89 1437.24 Q131.084 1440.78 131.084 1447.91 Q131.084 1455.01 132.89 1458.58 Q134.719 1462.12 138.33 1462.12 Q141.964 1462.12 143.769 1458.58 Q145.598 1455.01 145.598 1447.91 Q145.598 1440.78 143.769 1437.24 Q141.964 1433.67 138.33 1433.67 M138.33 1429.97 Q144.14 1429.97 147.195 1434.57 Q150.274 1439.16 150.274 1447.91 Q150.274 1456.63 147.195 1461.24 Q144.14 1465.82 138.33 1465.82 Q132.519 1465.82 129.441 1461.24 Q126.385 1456.63 126.385 1447.91 Q126.385 1439.16 129.441 1434.57 Q132.519 1429.97 138.33 1429.97 Z\" fill=\"#000000\" fill-rule=\"evenodd\" fill-opacity=\"1\" /><path clip-path=\"url(#clip630)\" d=\"M63.9319 1108.97 Q60.3208 1108.97 58.4921 1112.53 Q56.6865 1116.07 56.6865 1123.2 Q56.6865 1130.31 58.4921 1133.88 Q60.3208 1137.42 63.9319 1137.42 Q67.5661 1137.42 69.3717 1133.88 Q71.2004 1130.31 71.2004 1123.2 Q71.2004 1116.07 69.3717 1112.53 Q67.5661 1108.97 63.9319 1108.97 M63.9319 1105.26 Q69.742 1105.26 72.7976 1109.87 Q75.8763 1114.45 75.8763 1123.2 Q75.8763 1131.93 72.7976 1136.54 Q69.742 1141.12 63.9319 1141.12 Q58.1217 1141.12 55.043 1136.54 Q51.9875 1131.93 51.9875 1123.2 Q51.9875 1114.45 55.043 1109.87 Q58.1217 1105.26 63.9319 1105.26 Z\" fill=\"#000000\" fill-rule=\"evenodd\" fill-opacity=\"1\" /><path clip-path=\"url(#clip630)\" d=\"M84.0938 1134.57 L88.978 1134.57 L88.978 1140.45 L84.0938 1140.45 L84.0938 1134.57 Z\" fill=\"#000000\" fill-rule=\"evenodd\" fill-opacity=\"1\" /><path clip-path=\"url(#clip630)\" d=\"M103.191 1136.51 L119.51 1136.51 L119.51 1140.45 L97.566 1140.45 L97.566 1136.51 Q100.228 1133.76 104.811 1129.13 Q109.418 1124.48 110.598 1123.13 Q112.844 1120.61 113.723 1118.88 Q114.626 1117.12 114.626 1115.43 Q114.626 1112.67 112.682 1110.94 Q110.76 1109.2 107.658 1109.2 Q105.459 1109.2 103.006 1109.96 Q100.575 1110.73 97.7974 1112.28 L97.7974 1107.56 Q100.621 1106.42 103.075 1105.84 Q105.529 1105.26 107.566 1105.26 Q112.936 1105.26 116.131 1107.95 Q119.325 1110.63 119.325 1115.13 Q119.325 1117.26 118.515 1119.18 Q117.728 1121.07 115.621 1123.67 Q115.043 1124.34 111.941 1127.56 Q108.839 1130.75 103.191 1136.51 Z\" fill=\"#000000\" fill-rule=\"evenodd\" fill-opacity=\"1\" /><path clip-path=\"url(#clip630)\" d=\"M129.371 1105.89 L147.728 1105.89 L147.728 1109.82 L133.654 1109.82 L133.654 1118.3 Q134.672 1117.95 135.691 1117.79 Q136.709 1117.6 137.728 1117.6 Q143.515 1117.6 146.894 1120.77 Q150.274 1123.94 150.274 1129.36 Q150.274 1134.94 146.802 1138.04 Q143.33 1141.12 137.01 1141.12 Q134.834 1141.12 132.566 1140.75 Q130.32 1140.38 127.913 1139.64 L127.913 1134.94 Q129.996 1136.07 132.219 1136.63 Q134.441 1137.19 136.918 1137.19 Q140.922 1137.19 143.26 1135.08 Q145.598 1132.97 145.598 1129.36 Q145.598 1125.75 143.26 1123.64 Q140.922 1121.54 136.918 1121.54 Q135.043 1121.54 133.168 1121.95 Q131.316 1122.37 129.371 1123.25 L129.371 1105.89 Z\" fill=\"#000000\" fill-rule=\"evenodd\" fill-opacity=\"1\" /><path clip-path=\"url(#clip630)\" d=\"M62.9365 784.265 Q59.3254 784.265 57.4967 787.829 Q55.6912 791.371 55.6912 798.501 Q55.6912 805.607 57.4967 809.172 Q59.3254 812.714 62.9365 812.714 Q66.5707 812.714 68.3763 809.172 Q70.205 805.607 70.205 798.501 Q70.205 791.371 68.3763 787.829 Q66.5707 784.265 62.9365 784.265 M62.9365 780.561 Q68.7467 780.561 71.8022 785.167 Q74.8809 789.751 74.8809 798.501 Q74.8809 807.227 71.8022 811.834 Q68.7467 816.417 62.9365 816.417 Q57.1264 816.417 54.0477 811.834 Q50.9921 807.227 50.9921 798.501 Q50.9921 789.751 54.0477 785.167 Q57.1264 780.561 62.9365 780.561 Z\" fill=\"#000000\" fill-rule=\"evenodd\" fill-opacity=\"1\" /><path clip-path=\"url(#clip630)\" d=\"M83.0984 809.866 L87.9827 809.866 L87.9827 815.746 L83.0984 815.746 L83.0984 809.866 Z\" fill=\"#000000\" fill-rule=\"evenodd\" fill-opacity=\"1\" /><path clip-path=\"url(#clip630)\" d=\"M98.2141 781.186 L116.57 781.186 L116.57 785.121 L102.496 785.121 L102.496 793.593 Q103.515 793.246 104.534 793.084 Q105.552 792.899 106.571 792.899 Q112.358 792.899 115.737 796.07 Q119.117 799.241 119.117 804.658 Q119.117 810.237 115.645 813.339 Q112.172 816.417 105.853 816.417 Q103.677 816.417 101.409 816.047 Q99.1632 815.676 96.7558 814.936 L96.7558 810.237 Q98.8391 811.371 101.061 811.927 Q103.284 812.482 105.76 812.482 Q109.765 812.482 112.103 810.376 Q114.441 808.269 114.441 804.658 Q114.441 801.047 112.103 798.94 Q109.765 796.834 105.76 796.834 Q103.885 796.834 102.01 797.251 Q100.159 797.667 98.2141 798.547 L98.2141 781.186 Z\" fill=\"#000000\" fill-rule=\"evenodd\" fill-opacity=\"1\" /><path clip-path=\"url(#clip630)\" d=\"M138.33 784.265 Q134.719 784.265 132.89 787.829 Q131.084 791.371 131.084 798.501 Q131.084 805.607 132.89 809.172 Q134.719 812.714 138.33 812.714 Q141.964 812.714 143.769 809.172 Q145.598 805.607 145.598 798.501 Q145.598 791.371 143.769 787.829 Q141.964 784.265 138.33 784.265 M138.33 780.561 Q144.14 780.561 147.195 785.167 Q150.274 789.751 150.274 798.501 Q150.274 807.227 147.195 811.834 Q144.14 816.417 138.33 816.417 Q132.519 816.417 129.441 811.834 Q126.385 807.227 126.385 798.501 Q126.385 789.751 129.441 785.167 Q132.519 780.561 138.33 780.561 Z\" fill=\"#000000\" fill-rule=\"evenodd\" fill-opacity=\"1\" /><path clip-path=\"url(#clip630)\" d=\"M63.9319 459.561 Q60.3208 459.561 58.4921 463.126 Q56.6865 466.667 56.6865 473.797 Q56.6865 480.904 58.4921 484.468 Q60.3208 488.01 63.9319 488.01 Q67.5661 488.01 69.3717 484.468 Q71.2004 480.904 71.2004 473.797 Q71.2004 466.667 69.3717 463.126 Q67.5661 459.561 63.9319 459.561 M63.9319 455.857 Q69.742 455.857 72.7976 460.464 Q75.8763 465.047 75.8763 473.797 Q75.8763 482.524 72.7976 487.13 Q69.742 491.714 63.9319 491.714 Q58.1217 491.714 55.043 487.13 Q51.9875 482.524 51.9875 473.797 Q51.9875 465.047 55.043 460.464 Q58.1217 455.857 63.9319 455.857 Z\" fill=\"#000000\" fill-rule=\"evenodd\" fill-opacity=\"1\" /><path clip-path=\"url(#clip630)\" d=\"M84.0938 485.163 L88.978 485.163 L88.978 491.042 L84.0938 491.042 L84.0938 485.163 Z\" fill=\"#000000\" fill-rule=\"evenodd\" fill-opacity=\"1\" /><path clip-path=\"url(#clip630)\" d=\"M97.9826 456.482 L120.205 456.482 L120.205 458.473 L107.658 491.042 L102.774 491.042 L114.58 460.418 L97.9826 460.418 L97.9826 456.482 Z\" fill=\"#000000\" fill-rule=\"evenodd\" fill-opacity=\"1\" /><path clip-path=\"url(#clip630)\" d=\"M129.371 456.482 L147.728 456.482 L147.728 460.418 L133.654 460.418 L133.654 468.89 Q134.672 468.542 135.691 468.38 Q136.709 468.195 137.728 468.195 Q143.515 468.195 146.894 471.367 Q150.274 474.538 150.274 479.954 Q150.274 485.533 146.802 488.635 Q143.33 491.714 137.01 491.714 Q134.834 491.714 132.566 491.343 Q130.32 490.973 127.913 490.232 L127.913 485.533 Q129.996 486.667 132.219 487.223 Q134.441 487.778 136.918 487.778 Q140.922 487.778 143.26 485.672 Q145.598 483.566 145.598 479.954 Q145.598 476.343 143.26 474.237 Q140.922 472.13 136.918 472.13 Q135.043 472.13 133.168 472.547 Q131.316 472.964 129.371 473.843 L129.371 456.482 Z\" fill=\"#000000\" fill-rule=\"evenodd\" fill-opacity=\"1\" /><path clip-path=\"url(#clip630)\" d=\"M53.7467 162.404 L61.3856 162.404 L61.3856 136.038 L53.0754 137.705 L53.0754 133.445 L61.3393 131.779 L66.0152 131.779 L66.0152 162.404 L73.654 162.404 L73.654 166.339 L53.7467 166.339 L53.7467 162.404 Z\" fill=\"#000000\" fill-rule=\"evenodd\" fill-opacity=\"1\" /><path clip-path=\"url(#clip630)\" d=\"M83.0984 160.459 L87.9827 160.459 L87.9827 166.339 L83.0984 166.339 L83.0984 160.459 Z\" fill=\"#000000\" fill-rule=\"evenodd\" fill-opacity=\"1\" /><path clip-path=\"url(#clip630)\" d=\"M108.168 134.857 Q104.557 134.857 102.728 138.422 Q100.922 141.964 100.922 149.093 Q100.922 156.2 102.728 159.765 Q104.557 163.306 108.168 163.306 Q111.802 163.306 113.608 159.765 Q115.436 156.2 115.436 149.093 Q115.436 141.964 113.608 138.422 Q111.802 134.857 108.168 134.857 M108.168 131.154 Q113.978 131.154 117.033 135.76 Q120.112 140.344 120.112 149.093 Q120.112 157.82 117.033 162.427 Q113.978 167.01 108.168 167.01 Q102.358 167.01 99.2789 162.427 Q96.2234 157.82 96.2234 149.093 Q96.2234 140.344 99.2789 135.76 Q102.358 131.154 108.168 131.154 Z\" fill=\"#000000\" fill-rule=\"evenodd\" fill-opacity=\"1\" /><path clip-path=\"url(#clip630)\" d=\"M138.33 134.857 Q134.719 134.857 132.89 138.422 Q131.084 141.964 131.084 149.093 Q131.084 156.2 132.89 159.765 Q134.719 163.306 138.33 163.306 Q141.964 163.306 143.769 159.765 Q145.598 156.2 145.598 149.093 Q145.598 141.964 143.769 138.422 Q141.964 134.857 138.33 134.857 M138.33 131.154 Q144.14 131.154 147.195 135.76 Q150.274 140.344 150.274 149.093 Q150.274 157.82 147.195 162.427 Q144.14 167.01 138.33 167.01 Q132.519 167.01 129.441 162.427 Q126.385 157.82 126.385 149.093 Q126.385 140.344 129.441 135.76 Q132.519 131.154 138.33 131.154 Z\" fill=\"#000000\" fill-rule=\"evenodd\" fill-opacity=\"1\" /><path clip-path=\"url(#clip630)\" d=\"M916.681 12.096 L951.438 12.096 L951.438 18.9825 L924.864 18.9825 L924.864 36.8065 L948.845 36.8065 L948.845 43.6931 L924.864 43.6931 L924.864 72.576 L916.681 72.576 L916.681 12.096 Z\" fill=\"#000000\" fill-rule=\"evenodd\" fill-opacity=\"1\" /><path clip-path=\"url(#clip630)\" d=\"M958.041 27.2059 L965.495 27.2059 L965.495 72.576 L958.041 72.576 L958.041 27.2059 M958.041 9.54393 L965.495 9.54393 L965.495 18.9825 L958.041 18.9825 L958.041 9.54393 Z\" fill=\"#000000\" fill-rule=\"evenodd\" fill-opacity=\"1\" /><path clip-path=\"url(#clip630)\" d=\"M988.463 14.324 L988.463 27.2059 L1003.82 27.2059 L1003.82 32.9987 L988.463 32.9987 L988.463 57.6282 Q988.463 63.1779 989.962 64.7578 Q991.501 66.3376 996.16 66.3376 L1003.82 66.3376 L1003.82 72.576 L996.16 72.576 Q987.532 72.576 984.25 69.3758 Q980.969 66.1351 980.969 57.6282 L980.969 32.9987 L975.5 32.9987 L975.5 27.2059 L980.969 27.2059 L980.969 14.324 L988.463 14.324 Z\" fill=\"#000000\" fill-rule=\"evenodd\" fill-opacity=\"1\" /><path clip-path=\"url(#clip630)\" d=\"M1020.99 14.324 L1020.99 27.2059 L1036.34 27.2059 L1036.34 32.9987 L1020.99 32.9987 L1020.99 57.6282 Q1020.99 63.1779 1022.49 64.7578 Q1024.03 66.3376 1028.69 66.3376 L1036.34 66.3376 L1036.34 72.576 L1028.69 72.576 Q1020.06 72.576 1016.78 69.3758 Q1013.5 66.1351 1013.5 57.6282 L1013.5 32.9987 L1008.03 32.9987 L1008.03 27.2059 L1013.5 27.2059 L1013.5 14.324 L1020.99 14.324 Z\" fill=\"#000000\" fill-rule=\"evenodd\" fill-opacity=\"1\" /><path clip-path=\"url(#clip630)\" d=\"M1084.96 48.0275 L1084.96 51.6733 L1050.69 51.6733 Q1051.17 59.3701 1055.3 63.421 Q1059.48 67.4314 1066.89 67.4314 Q1071.18 67.4314 1075.19 66.3781 Q1079.24 65.3249 1083.21 63.2184 L1083.21 70.267 Q1079.2 71.9684 1074.99 72.8596 Q1070.78 73.7508 1066.44 73.7508 Q1055.59 73.7508 1049.23 67.4314 Q1042.91 61.1119 1042.91 50.3365 Q1042.91 39.1965 1048.9 32.6746 Q1054.94 26.1121 1065.15 26.1121 Q1074.3 26.1121 1079.61 32.0264 Q1084.96 37.9003 1084.96 48.0275 M1077.5 45.84 Q1077.42 39.7232 1074.06 36.0774 Q1070.74 32.4315 1065.23 32.4315 Q1058.99 32.4315 1055.22 35.9558 Q1051.5 39.4801 1050.93 45.8805 L1077.5 45.84 Z\" fill=\"#000000\" fill-rule=\"evenodd\" fill-opacity=\"1\" /><path clip-path=\"url(#clip630)\" d=\"M1127.04 34.0924 L1127.04 9.54393 L1134.5 9.54393 L1134.5 72.576 L1127.04 72.576 L1127.04 65.7705 Q1124.7 69.8214 1121.09 71.8063 Q1117.53 73.7508 1112.5 73.7508 Q1104.28 73.7508 1099.09 67.1883 Q1093.95 60.6258 1093.95 49.9314 Q1093.95 39.2371 1099.09 32.6746 Q1104.28 26.1121 1112.5 26.1121 Q1117.53 26.1121 1121.09 28.0971 Q1124.7 30.0415 1127.04 34.0924 M1101.65 49.9314 Q1101.65 58.1548 1105.01 62.8538 Q1108.41 67.5124 1114.32 67.5124 Q1120.24 67.5124 1123.64 62.8538 Q1127.04 58.1548 1127.04 49.9314 Q1127.04 41.7081 1123.64 37.0496 Q1120.24 32.3505 1114.32 32.3505 Q1108.41 32.3505 1105.01 37.0496 Q1101.65 41.7081 1101.65 49.9314 Z\" fill=\"#000000\" fill-rule=\"evenodd\" fill-opacity=\"1\" /><path clip-path=\"url(#clip630)\" d=\"M1175.61 12.096 L1183.84 12.096 L1183.84 48.8377 Q1183.84 58.5599 1187.36 62.8538 Q1190.89 67.1073 1198.79 67.1073 Q1206.64 67.1073 1210.17 62.8538 Q1213.69 58.5599 1213.69 48.8377 L1213.69 12.096 L1221.92 12.096 L1221.92 49.8504 Q1221.92 61.6791 1216.04 67.7149 Q1210.21 73.7508 1198.79 73.7508 Q1187.32 73.7508 1181.45 67.7149 Q1175.61 61.6791 1175.61 49.8504 L1175.61 12.096 Z\" fill=\"#000000\" fill-rule=\"evenodd\" fill-opacity=\"1\" /><path clip-path=\"url(#clip630)\" d=\"M1245.45 18.8205 L1245.45 65.8515 L1255.34 65.8515 Q1267.85 65.8515 1273.65 60.1802 Q1279.48 54.509 1279.48 42.2752 Q1279.48 30.1225 1273.65 24.4918 Q1267.85 18.8205 1255.34 18.8205 L1245.45 18.8205 M1237.27 12.096 L1254.08 12.096 Q1271.66 12.096 1279.89 19.4281 Q1288.11 26.7198 1288.11 42.2752 Q1288.11 57.9117 1279.84 65.2439 Q1271.58 72.576 1254.08 72.576 L1237.27 72.576 L1237.27 12.096 Z\" fill=\"#000000\" fill-rule=\"evenodd\" fill-opacity=\"1\" /><path clip-path=\"url(#clip630)\" d=\"M1301.15 12.096 L1339.39 12.096 L1339.39 18.9825 L1309.34 18.9825 L1309.34 36.8875 L1338.14 36.8875 L1338.14 43.7741 L1309.34 43.7741 L1309.34 65.6895 L1340.12 65.6895 L1340.12 72.576 L1301.15 72.576 L1301.15 12.096 Z\" fill=\"#000000\" fill-rule=\"evenodd\" fill-opacity=\"1\" /><path clip-path=\"url(#clip630)\" d=\"M1414.94 35.9153 Q1417.74 30.8922 1421.63 28.5022 Q1425.52 26.1121 1430.78 26.1121 Q1437.87 26.1121 1441.72 31.0947 Q1445.57 36.0368 1445.57 45.1919 L1445.57 72.576 L1438.07 72.576 L1438.07 45.4349 Q1438.07 38.913 1435.76 35.7533 Q1433.46 32.5936 1428.72 32.5936 Q1422.92 32.5936 1419.56 36.4419 Q1416.2 40.2903 1416.2 46.9338 L1416.2 72.576 L1408.7 72.576 L1408.7 45.4349 Q1408.7 38.8725 1406.4 35.7533 Q1404.09 32.5936 1399.27 32.5936 Q1393.55 32.5936 1390.19 36.4824 Q1386.83 40.3308 1386.83 46.9338 L1386.83 72.576 L1379.33 72.576 L1379.33 27.2059 L1386.83 27.2059 L1386.83 34.2544 Q1389.38 30.082 1392.95 28.0971 Q1396.51 26.1121 1401.41 26.1121 Q1406.35 26.1121 1409.8 28.6237 Q1413.28 31.1352 1414.94 35.9153 Z\" fill=\"#000000\" fill-rule=\"evenodd\" fill-opacity=\"1\" /><path clip-path=\"url(#clip630)\" d=\"M1478.01 32.4315 Q1472.02 32.4315 1468.54 37.1306 Q1465.05 41.7891 1465.05 49.9314 Q1465.05 58.0738 1468.5 62.7728 Q1471.98 67.4314 1478.01 67.4314 Q1483.97 67.4314 1487.45 62.7323 Q1490.94 58.0333 1490.94 49.9314 Q1490.94 41.8701 1487.45 37.1711 Q1483.97 32.4315 1478.01 32.4315 M1478.01 26.1121 Q1487.74 26.1121 1493.29 32.4315 Q1498.84 38.7509 1498.84 49.9314 Q1498.84 61.0714 1493.29 67.4314 Q1487.74 73.7508 1478.01 73.7508 Q1468.25 73.7508 1462.7 67.4314 Q1457.19 61.0714 1457.19 49.9314 Q1457.19 38.7509 1462.7 32.4315 Q1468.25 26.1121 1478.01 26.1121 Z\" fill=\"#000000\" fill-rule=\"evenodd\" fill-opacity=\"1\" /><path clip-path=\"url(#clip630)\" d=\"M1541.05 34.0924 L1541.05 9.54393 L1548.5 9.54393 L1548.5 72.576 L1541.05 72.576 L1541.05 65.7705 Q1538.7 69.8214 1535.09 71.8063 Q1531.53 73.7508 1526.5 73.7508 Q1518.28 73.7508 1513.1 67.1883 Q1507.95 60.6258 1507.95 49.9314 Q1507.95 39.2371 1513.1 32.6746 Q1518.28 26.1121 1526.5 26.1121 Q1531.53 26.1121 1535.09 28.0971 Q1538.7 30.0415 1541.05 34.0924 M1515.65 49.9314 Q1515.65 58.1548 1519.01 62.8538 Q1522.41 67.5124 1528.33 67.5124 Q1534.24 67.5124 1537.64 62.8538 Q1541.05 58.1548 1541.05 49.9314 Q1541.05 41.7081 1537.64 37.0496 Q1534.24 32.3505 1528.33 32.3505 Q1522.41 32.3505 1519.01 37.0496 Q1515.65 41.7081 1515.65 49.9314 Z\" fill=\"#000000\" fill-rule=\"evenodd\" fill-opacity=\"1\" /><path clip-path=\"url(#clip630)\" d=\"M1602.66 48.0275 L1602.66 51.6733 L1568.39 51.6733 Q1568.88 59.3701 1573.01 63.421 Q1577.18 67.4314 1584.59 67.4314 Q1588.89 67.4314 1592.9 66.3781 Q1596.95 65.3249 1600.92 63.2184 L1600.92 70.267 Q1596.91 71.9684 1592.7 72.8596 Q1588.48 73.7508 1584.15 73.7508 Q1573.29 73.7508 1566.93 67.4314 Q1560.61 61.1119 1560.61 50.3365 Q1560.61 39.1965 1566.61 32.6746 Q1572.64 26.1121 1582.85 26.1121 Q1592.01 26.1121 1597.31 32.0264 Q1602.66 37.9003 1602.66 48.0275 M1595.21 45.84 Q1595.13 39.7232 1591.76 36.0774 Q1588.44 32.4315 1582.93 32.4315 Q1576.7 32.4315 1572.93 35.9558 Q1569.2 39.4801 1568.63 45.8805 L1595.21 45.84 Z\" fill=\"#000000\" fill-rule=\"evenodd\" fill-opacity=\"1\" /><path clip-path=\"url(#clip630)\" d=\"M1614.9 9.54393 L1622.35 9.54393 L1622.35 72.576 L1614.9 72.576 L1614.9 9.54393 Z\" fill=\"#000000\" fill-rule=\"evenodd\" fill-opacity=\"1\" /><circle clip-path=\"url(#clip632)\" cx=\"186.274\" cy=\"162.047\" r=\"14.4\" fill=\"#009af9\" fill-rule=\"evenodd\" fill-opacity=\"1\" stroke=\"#000000\" stroke-opacity=\"1\" stroke-width=\"3.2\"/>\n",
       "<circle clip-path=\"url(#clip632)\" cx=\"240.436\" cy=\"169.308\" r=\"14.4\" fill=\"#009af9\" fill-rule=\"evenodd\" fill-opacity=\"1\" stroke=\"#000000\" stroke-opacity=\"1\" stroke-width=\"3.2\"/>\n",
       "<circle clip-path=\"url(#clip632)\" cx=\"294.598\" cy=\"178.499\" r=\"14.4\" fill=\"#009af9\" fill-rule=\"evenodd\" fill-opacity=\"1\" stroke=\"#000000\" stroke-opacity=\"1\" stroke-width=\"3.2\"/>\n",
       "<circle clip-path=\"url(#clip632)\" cx=\"348.76\" cy=\"190.07\" r=\"14.4\" fill=\"#009af9\" fill-rule=\"evenodd\" fill-opacity=\"1\" stroke=\"#000000\" stroke-opacity=\"1\" stroke-width=\"3.2\"/>\n",
       "<circle clip-path=\"url(#clip632)\" cx=\"402.922\" cy=\"204.541\" r=\"14.4\" fill=\"#009af9\" fill-rule=\"evenodd\" fill-opacity=\"1\" stroke=\"#000000\" stroke-opacity=\"1\" stroke-width=\"3.2\"/>\n",
       "<circle clip-path=\"url(#clip632)\" cx=\"457.084\" cy=\"222.49\" r=\"14.4\" fill=\"#009af9\" fill-rule=\"evenodd\" fill-opacity=\"1\" stroke=\"#000000\" stroke-opacity=\"1\" stroke-width=\"3.2\"/>\n",
       "<circle clip-path=\"url(#clip632)\" cx=\"511.246\" cy=\"244.525\" r=\"14.4\" fill=\"#009af9\" fill-rule=\"evenodd\" fill-opacity=\"1\" stroke=\"#000000\" stroke-opacity=\"1\" stroke-width=\"3.2\"/>\n",
       "<circle clip-path=\"url(#clip632)\" cx=\"565.408\" cy=\"271.242\" r=\"14.4\" fill=\"#009af9\" fill-rule=\"evenodd\" fill-opacity=\"1\" stroke=\"#000000\" stroke-opacity=\"1\" stroke-width=\"3.2\"/>\n",
       "<circle clip-path=\"url(#clip632)\" cx=\"619.57\" cy=\"303.152\" r=\"14.4\" fill=\"#009af9\" fill-rule=\"evenodd\" fill-opacity=\"1\" stroke=\"#000000\" stroke-opacity=\"1\" stroke-width=\"3.2\"/>\n",
       "<circle clip-path=\"url(#clip632)\" cx=\"673.732\" cy=\"340.597\" r=\"14.4\" fill=\"#009af9\" fill-rule=\"evenodd\" fill-opacity=\"1\" stroke=\"#000000\" stroke-opacity=\"1\" stroke-width=\"3.2\"/>\n",
       "<circle clip-path=\"url(#clip632)\" cx=\"727.894\" cy=\"383.643\" r=\"14.4\" fill=\"#009af9\" fill-rule=\"evenodd\" fill-opacity=\"1\" stroke=\"#000000\" stroke-opacity=\"1\" stroke-width=\"3.2\"/>\n",
       "<circle clip-path=\"url(#clip632)\" cx=\"782.057\" cy=\"431.996\" r=\"14.4\" fill=\"#009af9\" fill-rule=\"evenodd\" fill-opacity=\"1\" stroke=\"#000000\" stroke-opacity=\"1\" stroke-width=\"3.2\"/>\n",
       "<circle clip-path=\"url(#clip632)\" cx=\"836.219\" cy=\"484.942\" r=\"14.4\" fill=\"#009af9\" fill-rule=\"evenodd\" fill-opacity=\"1\" stroke=\"#000000\" stroke-opacity=\"1\" stroke-width=\"3.2\"/>\n",
       "<circle clip-path=\"url(#clip632)\" cx=\"890.381\" cy=\"541.356\" r=\"14.4\" fill=\"#009af9\" fill-rule=\"evenodd\" fill-opacity=\"1\" stroke=\"#000000\" stroke-opacity=\"1\" stroke-width=\"3.2\"/>\n",
       "<circle clip-path=\"url(#clip632)\" cx=\"944.543\" cy=\"599.795\" r=\"14.4\" fill=\"#009af9\" fill-rule=\"evenodd\" fill-opacity=\"1\" stroke=\"#000000\" stroke-opacity=\"1\" stroke-width=\"3.2\"/>\n",
       "<circle clip-path=\"url(#clip632)\" cx=\"998.705\" cy=\"658.648\" r=\"14.4\" fill=\"#009af9\" fill-rule=\"evenodd\" fill-opacity=\"1\" stroke=\"#000000\" stroke-opacity=\"1\" stroke-width=\"3.2\"/>\n",
       "<circle clip-path=\"url(#clip632)\" cx=\"1052.87\" cy=\"716.328\" r=\"14.4\" fill=\"#009af9\" fill-rule=\"evenodd\" fill-opacity=\"1\" stroke=\"#000000\" stroke-opacity=\"1\" stroke-width=\"3.2\"/>\n",
       "<circle clip-path=\"url(#clip632)\" cx=\"1107.03\" cy=\"771.445\" r=\"14.4\" fill=\"#009af9\" fill-rule=\"evenodd\" fill-opacity=\"1\" stroke=\"#000000\" stroke-opacity=\"1\" stroke-width=\"3.2\"/>\n",
       "<circle clip-path=\"url(#clip632)\" cx=\"1161.19\" cy=\"822.926\" r=\"14.4\" fill=\"#009af9\" fill-rule=\"evenodd\" fill-opacity=\"1\" stroke=\"#000000\" stroke-opacity=\"1\" stroke-width=\"3.2\"/>\n",
       "<circle clip-path=\"url(#clip632)\" cx=\"1215.35\" cy=\"870.067\" r=\"14.4\" fill=\"#009af9\" fill-rule=\"evenodd\" fill-opacity=\"1\" stroke=\"#000000\" stroke-opacity=\"1\" stroke-width=\"3.2\"/>\n",
       "<circle clip-path=\"url(#clip632)\" cx=\"1269.51\" cy=\"912.52\" r=\"14.4\" fill=\"#009af9\" fill-rule=\"evenodd\" fill-opacity=\"1\" stroke=\"#000000\" stroke-opacity=\"1\" stroke-width=\"3.2\"/>\n",
       "<circle clip-path=\"url(#clip632)\" cx=\"1323.68\" cy=\"950.232\" r=\"14.4\" fill=\"#009af9\" fill-rule=\"evenodd\" fill-opacity=\"1\" stroke=\"#000000\" stroke-opacity=\"1\" stroke-width=\"3.2\"/>\n",
       "<circle clip-path=\"url(#clip632)\" cx=\"1377.84\" cy=\"983.373\" r=\"14.4\" fill=\"#009af9\" fill-rule=\"evenodd\" fill-opacity=\"1\" stroke=\"#000000\" stroke-opacity=\"1\" stroke-width=\"3.2\"/>\n",
       "<circle clip-path=\"url(#clip632)\" cx=\"1432\" cy=\"1012.26\" r=\"14.4\" fill=\"#009af9\" fill-rule=\"evenodd\" fill-opacity=\"1\" stroke=\"#000000\" stroke-opacity=\"1\" stroke-width=\"3.2\"/>\n",
       "<circle clip-path=\"url(#clip632)\" cx=\"1486.16\" cy=\"1037.27\" r=\"14.4\" fill=\"#009af9\" fill-rule=\"evenodd\" fill-opacity=\"1\" stroke=\"#000000\" stroke-opacity=\"1\" stroke-width=\"3.2\"/>\n",
       "<circle clip-path=\"url(#clip632)\" cx=\"1540.33\" cy=\"1058.83\" r=\"14.4\" fill=\"#009af9\" fill-rule=\"evenodd\" fill-opacity=\"1\" stroke=\"#000000\" stroke-opacity=\"1\" stroke-width=\"3.2\"/>\n",
       "<circle clip-path=\"url(#clip632)\" cx=\"1594.49\" cy=\"1077.37\" r=\"14.4\" fill=\"#009af9\" fill-rule=\"evenodd\" fill-opacity=\"1\" stroke=\"#000000\" stroke-opacity=\"1\" stroke-width=\"3.2\"/>\n",
       "<circle clip-path=\"url(#clip632)\" cx=\"1648.65\" cy=\"1093.26\" r=\"14.4\" fill=\"#009af9\" fill-rule=\"evenodd\" fill-opacity=\"1\" stroke=\"#000000\" stroke-opacity=\"1\" stroke-width=\"3.2\"/>\n",
       "<circle clip-path=\"url(#clip632)\" cx=\"1702.81\" cy=\"1106.88\" r=\"14.4\" fill=\"#009af9\" fill-rule=\"evenodd\" fill-opacity=\"1\" stroke=\"#000000\" stroke-opacity=\"1\" stroke-width=\"3.2\"/>\n",
       "<circle clip-path=\"url(#clip632)\" cx=\"1756.97\" cy=\"1118.53\" r=\"14.4\" fill=\"#009af9\" fill-rule=\"evenodd\" fill-opacity=\"1\" stroke=\"#000000\" stroke-opacity=\"1\" stroke-width=\"3.2\"/>\n",
       "<circle clip-path=\"url(#clip632)\" cx=\"1811.14\" cy=\"1128.5\" r=\"14.4\" fill=\"#009af9\" fill-rule=\"evenodd\" fill-opacity=\"1\" stroke=\"#000000\" stroke-opacity=\"1\" stroke-width=\"3.2\"/>\n",
       "<circle clip-path=\"url(#clip632)\" cx=\"1865.3\" cy=\"1137.04\" r=\"14.4\" fill=\"#009af9\" fill-rule=\"evenodd\" fill-opacity=\"1\" stroke=\"#000000\" stroke-opacity=\"1\" stroke-width=\"3.2\"/>\n",
       "<circle clip-path=\"url(#clip632)\" cx=\"1919.46\" cy=\"1144.34\" r=\"14.4\" fill=\"#009af9\" fill-rule=\"evenodd\" fill-opacity=\"1\" stroke=\"#000000\" stroke-opacity=\"1\" stroke-width=\"3.2\"/>\n",
       "<circle clip-path=\"url(#clip632)\" cx=\"1973.62\" cy=\"1150.59\" r=\"14.4\" fill=\"#009af9\" fill-rule=\"evenodd\" fill-opacity=\"1\" stroke=\"#000000\" stroke-opacity=\"1\" stroke-width=\"3.2\"/>\n",
       "<circle clip-path=\"url(#clip632)\" cx=\"2027.78\" cy=\"1155.94\" r=\"14.4\" fill=\"#009af9\" fill-rule=\"evenodd\" fill-opacity=\"1\" stroke=\"#000000\" stroke-opacity=\"1\" stroke-width=\"3.2\"/>\n",
       "<circle clip-path=\"url(#clip632)\" cx=\"2081.95\" cy=\"1160.53\" r=\"14.4\" fill=\"#009af9\" fill-rule=\"evenodd\" fill-opacity=\"1\" stroke=\"#000000\" stroke-opacity=\"1\" stroke-width=\"3.2\"/>\n",
       "<circle clip-path=\"url(#clip632)\" cx=\"2136.11\" cy=\"1164.46\" r=\"14.4\" fill=\"#009af9\" fill-rule=\"evenodd\" fill-opacity=\"1\" stroke=\"#000000\" stroke-opacity=\"1\" stroke-width=\"3.2\"/>\n",
       "<circle clip-path=\"url(#clip632)\" cx=\"2190.27\" cy=\"1167.83\" r=\"14.4\" fill=\"#009af9\" fill-rule=\"evenodd\" fill-opacity=\"1\" stroke=\"#000000\" stroke-opacity=\"1\" stroke-width=\"3.2\"/>\n",
       "<circle clip-path=\"url(#clip632)\" cx=\"2244.43\" cy=\"1170.72\" r=\"14.4\" fill=\"#009af9\" fill-rule=\"evenodd\" fill-opacity=\"1\" stroke=\"#000000\" stroke-opacity=\"1\" stroke-width=\"3.2\"/>\n",
       "<circle clip-path=\"url(#clip632)\" cx=\"2298.59\" cy=\"1173.21\" r=\"14.4\" fill=\"#009af9\" fill-rule=\"evenodd\" fill-opacity=\"1\" stroke=\"#000000\" stroke-opacity=\"1\" stroke-width=\"3.2\"/>\n",
       "<circle clip-path=\"url(#clip632)\" cx=\"2352.76\" cy=\"1175.34\" r=\"14.4\" fill=\"#009af9\" fill-rule=\"evenodd\" fill-opacity=\"1\" stroke=\"#000000\" stroke-opacity=\"1\" stroke-width=\"3.2\"/>\n",
       "<circle clip-path=\"url(#clip632)\" cx=\"186.274\" cy=\"1434.88\" r=\"14.4\" fill=\"#e26f46\" fill-rule=\"evenodd\" fill-opacity=\"1\" stroke=\"#000000\" stroke-opacity=\"1\" stroke-width=\"3.2\"/>\n",
       "<circle clip-path=\"url(#clip632)\" cx=\"240.436\" cy=\"1431.3\" r=\"14.4\" fill=\"#e26f46\" fill-rule=\"evenodd\" fill-opacity=\"1\" stroke=\"#000000\" stroke-opacity=\"1\" stroke-width=\"3.2\"/>\n",
       "<circle clip-path=\"url(#clip632)\" cx=\"294.598\" cy=\"1426.8\" r=\"14.4\" fill=\"#e26f46\" fill-rule=\"evenodd\" fill-opacity=\"1\" stroke=\"#000000\" stroke-opacity=\"1\" stroke-width=\"3.2\"/>\n",
       "<circle clip-path=\"url(#clip632)\" cx=\"348.76\" cy=\"1421.17\" r=\"14.4\" fill=\"#e26f46\" fill-rule=\"evenodd\" fill-opacity=\"1\" stroke=\"#000000\" stroke-opacity=\"1\" stroke-width=\"3.2\"/>\n",
       "<circle clip-path=\"url(#clip632)\" cx=\"402.922\" cy=\"1414.22\" r=\"14.4\" fill=\"#e26f46\" fill-rule=\"evenodd\" fill-opacity=\"1\" stroke=\"#000000\" stroke-opacity=\"1\" stroke-width=\"3.2\"/>\n",
       "<circle clip-path=\"url(#clip632)\" cx=\"457.084\" cy=\"1405.71\" r=\"14.4\" fill=\"#e26f46\" fill-rule=\"evenodd\" fill-opacity=\"1\" stroke=\"#000000\" stroke-opacity=\"1\" stroke-width=\"3.2\"/>\n",
       "<circle clip-path=\"url(#clip632)\" cx=\"511.246\" cy=\"1395.46\" r=\"14.4\" fill=\"#e26f46\" fill-rule=\"evenodd\" fill-opacity=\"1\" stroke=\"#000000\" stroke-opacity=\"1\" stroke-width=\"3.2\"/>\n",
       "<circle clip-path=\"url(#clip632)\" cx=\"565.408\" cy=\"1383.32\" r=\"14.4\" fill=\"#e26f46\" fill-rule=\"evenodd\" fill-opacity=\"1\" stroke=\"#000000\" stroke-opacity=\"1\" stroke-width=\"3.2\"/>\n",
       "<circle clip-path=\"url(#clip632)\" cx=\"619.57\" cy=\"1369.27\" r=\"14.4\" fill=\"#e26f46\" fill-rule=\"evenodd\" fill-opacity=\"1\" stroke=\"#000000\" stroke-opacity=\"1\" stroke-width=\"3.2\"/>\n",
       "<circle clip-path=\"url(#clip632)\" cx=\"673.732\" cy=\"1353.42\" r=\"14.4\" fill=\"#e26f46\" fill-rule=\"evenodd\" fill-opacity=\"1\" stroke=\"#000000\" stroke-opacity=\"1\" stroke-width=\"3.2\"/>\n",
       "<circle clip-path=\"url(#clip632)\" cx=\"727.894\" cy=\"1336.12\" r=\"14.4\" fill=\"#e26f46\" fill-rule=\"evenodd\" fill-opacity=\"1\" stroke=\"#000000\" stroke-opacity=\"1\" stroke-width=\"3.2\"/>\n",
       "<circle clip-path=\"url(#clip632)\" cx=\"782.057\" cy=\"1317.97\" r=\"14.4\" fill=\"#e26f46\" fill-rule=\"evenodd\" fill-opacity=\"1\" stroke=\"#000000\" stroke-opacity=\"1\" stroke-width=\"3.2\"/>\n",
       "<circle clip-path=\"url(#clip632)\" cx=\"836.219\" cy=\"1299.78\" r=\"14.4\" fill=\"#e26f46\" fill-rule=\"evenodd\" fill-opacity=\"1\" stroke=\"#000000\" stroke-opacity=\"1\" stroke-width=\"3.2\"/>\n",
       "<circle clip-path=\"url(#clip632)\" cx=\"890.381\" cy=\"1282.58\" r=\"14.4\" fill=\"#e26f46\" fill-rule=\"evenodd\" fill-opacity=\"1\" stroke=\"#000000\" stroke-opacity=\"1\" stroke-width=\"3.2\"/>\n",
       "<circle clip-path=\"url(#clip632)\" cx=\"944.543\" cy=\"1267.41\" r=\"14.4\" fill=\"#e26f46\" fill-rule=\"evenodd\" fill-opacity=\"1\" stroke=\"#000000\" stroke-opacity=\"1\" stroke-width=\"3.2\"/>\n",
       "<circle clip-path=\"url(#clip632)\" cx=\"998.705\" cy=\"1255.26\" r=\"14.4\" fill=\"#e26f46\" fill-rule=\"evenodd\" fill-opacity=\"1\" stroke=\"#000000\" stroke-opacity=\"1\" stroke-width=\"3.2\"/>\n",
       "<circle clip-path=\"url(#clip632)\" cx=\"1052.87\" cy=\"1246.87\" r=\"14.4\" fill=\"#e26f46\" fill-rule=\"evenodd\" fill-opacity=\"1\" stroke=\"#000000\" stroke-opacity=\"1\" stroke-width=\"3.2\"/>\n",
       "<circle clip-path=\"url(#clip632)\" cx=\"1107.03\" cy=\"1242.62\" r=\"14.4\" fill=\"#e26f46\" fill-rule=\"evenodd\" fill-opacity=\"1\" stroke=\"#000000\" stroke-opacity=\"1\" stroke-width=\"3.2\"/>\n",
       "<circle clip-path=\"url(#clip632)\" cx=\"1161.19\" cy=\"1242.55\" r=\"14.4\" fill=\"#e26f46\" fill-rule=\"evenodd\" fill-opacity=\"1\" stroke=\"#000000\" stroke-opacity=\"1\" stroke-width=\"3.2\"/>\n",
       "<circle clip-path=\"url(#clip632)\" cx=\"1215.35\" cy=\"1246.34\" r=\"14.4\" fill=\"#e26f46\" fill-rule=\"evenodd\" fill-opacity=\"1\" stroke=\"#000000\" stroke-opacity=\"1\" stroke-width=\"3.2\"/>\n",
       "<circle clip-path=\"url(#clip632)\" cx=\"1269.51\" cy=\"1253.44\" r=\"14.4\" fill=\"#e26f46\" fill-rule=\"evenodd\" fill-opacity=\"1\" stroke=\"#000000\" stroke-opacity=\"1\" stroke-width=\"3.2\"/>\n",
       "<circle clip-path=\"url(#clip632)\" cx=\"1323.68\" cy=\"1263.17\" r=\"14.4\" fill=\"#e26f46\" fill-rule=\"evenodd\" fill-opacity=\"1\" stroke=\"#000000\" stroke-opacity=\"1\" stroke-width=\"3.2\"/>\n",
       "<circle clip-path=\"url(#clip632)\" cx=\"1377.84\" cy=\"1274.78\" r=\"14.4\" fill=\"#e26f46\" fill-rule=\"evenodd\" fill-opacity=\"1\" stroke=\"#000000\" stroke-opacity=\"1\" stroke-width=\"3.2\"/>\n",
       "<circle clip-path=\"url(#clip632)\" cx=\"1432\" cy=\"1287.59\" r=\"14.4\" fill=\"#e26f46\" fill-rule=\"evenodd\" fill-opacity=\"1\" stroke=\"#000000\" stroke-opacity=\"1\" stroke-width=\"3.2\"/>\n",
       "<circle clip-path=\"url(#clip632)\" cx=\"1486.16\" cy=\"1300.98\" r=\"14.4\" fill=\"#e26f46\" fill-rule=\"evenodd\" fill-opacity=\"1\" stroke=\"#000000\" stroke-opacity=\"1\" stroke-width=\"3.2\"/>\n",
       "<circle clip-path=\"url(#clip632)\" cx=\"1540.33\" cy=\"1314.45\" r=\"14.4\" fill=\"#e26f46\" fill-rule=\"evenodd\" fill-opacity=\"1\" stroke=\"#000000\" stroke-opacity=\"1\" stroke-width=\"3.2\"/>\n",
       "<circle clip-path=\"url(#clip632)\" cx=\"1594.49\" cy=\"1327.62\" r=\"14.4\" fill=\"#e26f46\" fill-rule=\"evenodd\" fill-opacity=\"1\" stroke=\"#000000\" stroke-opacity=\"1\" stroke-width=\"3.2\"/>\n",
       "<circle clip-path=\"url(#clip632)\" cx=\"1648.65\" cy=\"1340.2\" r=\"14.4\" fill=\"#e26f46\" fill-rule=\"evenodd\" fill-opacity=\"1\" stroke=\"#000000\" stroke-opacity=\"1\" stroke-width=\"3.2\"/>\n",
       "<circle clip-path=\"url(#clip632)\" cx=\"1702.81\" cy=\"1352.01\" r=\"14.4\" fill=\"#e26f46\" fill-rule=\"evenodd\" fill-opacity=\"1\" stroke=\"#000000\" stroke-opacity=\"1\" stroke-width=\"3.2\"/>\n",
       "<circle clip-path=\"url(#clip632)\" cx=\"1756.97\" cy=\"1362.93\" r=\"14.4\" fill=\"#e26f46\" fill-rule=\"evenodd\" fill-opacity=\"1\" stroke=\"#000000\" stroke-opacity=\"1\" stroke-width=\"3.2\"/>\n",
       "<circle clip-path=\"url(#clip632)\" cx=\"1811.14\" cy=\"1372.93\" r=\"14.4\" fill=\"#e26f46\" fill-rule=\"evenodd\" fill-opacity=\"1\" stroke=\"#000000\" stroke-opacity=\"1\" stroke-width=\"3.2\"/>\n",
       "<circle clip-path=\"url(#clip632)\" cx=\"1865.3\" cy=\"1381.98\" r=\"14.4\" fill=\"#e26f46\" fill-rule=\"evenodd\" fill-opacity=\"1\" stroke=\"#000000\" stroke-opacity=\"1\" stroke-width=\"3.2\"/>\n",
       "<circle clip-path=\"url(#clip632)\" cx=\"1919.46\" cy=\"1390.12\" r=\"14.4\" fill=\"#e26f46\" fill-rule=\"evenodd\" fill-opacity=\"1\" stroke=\"#000000\" stroke-opacity=\"1\" stroke-width=\"3.2\"/>\n",
       "<circle clip-path=\"url(#clip632)\" cx=\"1973.62\" cy=\"1397.38\" r=\"14.4\" fill=\"#e26f46\" fill-rule=\"evenodd\" fill-opacity=\"1\" stroke=\"#000000\" stroke-opacity=\"1\" stroke-width=\"3.2\"/>\n",
       "<circle clip-path=\"url(#clip632)\" cx=\"2027.78\" cy=\"1403.83\" r=\"14.4\" fill=\"#e26f46\" fill-rule=\"evenodd\" fill-opacity=\"1\" stroke=\"#000000\" stroke-opacity=\"1\" stroke-width=\"3.2\"/>\n",
       "<circle clip-path=\"url(#clip632)\" cx=\"2081.95\" cy=\"1409.53\" r=\"14.4\" fill=\"#e26f46\" fill-rule=\"evenodd\" fill-opacity=\"1\" stroke=\"#000000\" stroke-opacity=\"1\" stroke-width=\"3.2\"/>\n",
       "<circle clip-path=\"url(#clip632)\" cx=\"2136.11\" cy=\"1414.54\" r=\"14.4\" fill=\"#e26f46\" fill-rule=\"evenodd\" fill-opacity=\"1\" stroke=\"#000000\" stroke-opacity=\"1\" stroke-width=\"3.2\"/>\n",
       "<circle clip-path=\"url(#clip632)\" cx=\"2190.27\" cy=\"1418.94\" r=\"14.4\" fill=\"#e26f46\" fill-rule=\"evenodd\" fill-opacity=\"1\" stroke=\"#000000\" stroke-opacity=\"1\" stroke-width=\"3.2\"/>\n",
       "<circle clip-path=\"url(#clip632)\" cx=\"2244.43\" cy=\"1422.79\" r=\"14.4\" fill=\"#e26f46\" fill-rule=\"evenodd\" fill-opacity=\"1\" stroke=\"#000000\" stroke-opacity=\"1\" stroke-width=\"3.2\"/>\n",
       "<circle clip-path=\"url(#clip632)\" cx=\"2298.59\" cy=\"1426.15\" r=\"14.4\" fill=\"#e26f46\" fill-rule=\"evenodd\" fill-opacity=\"1\" stroke=\"#000000\" stroke-opacity=\"1\" stroke-width=\"3.2\"/>\n",
       "<circle clip-path=\"url(#clip632)\" cx=\"2352.76\" cy=\"1429.08\" r=\"14.4\" fill=\"#e26f46\" fill-rule=\"evenodd\" fill-opacity=\"1\" stroke=\"#000000\" stroke-opacity=\"1\" stroke-width=\"3.2\"/>\n",
       "<circle clip-path=\"url(#clip632)\" cx=\"186.274\" cy=\"1447.87\" r=\"14.4\" fill=\"#3da44d\" fill-rule=\"evenodd\" fill-opacity=\"1\" stroke=\"#000000\" stroke-opacity=\"1\" stroke-width=\"3.2\"/>\n",
       "<circle clip-path=\"url(#clip632)\" cx=\"240.436\" cy=\"1440.61\" r=\"14.4\" fill=\"#3da44d\" fill-rule=\"evenodd\" fill-opacity=\"1\" stroke=\"#000000\" stroke-opacity=\"1\" stroke-width=\"3.2\"/>\n",
       "<circle clip-path=\"url(#clip632)\" cx=\"294.598\" cy=\"1431.42\" r=\"14.4\" fill=\"#3da44d\" fill-rule=\"evenodd\" fill-opacity=\"1\" stroke=\"#000000\" stroke-opacity=\"1\" stroke-width=\"3.2\"/>\n",
       "<circle clip-path=\"url(#clip632)\" cx=\"348.76\" cy=\"1419.85\" r=\"14.4\" fill=\"#3da44d\" fill-rule=\"evenodd\" fill-opacity=\"1\" stroke=\"#000000\" stroke-opacity=\"1\" stroke-width=\"3.2\"/>\n",
       "<circle clip-path=\"url(#clip632)\" cx=\"402.922\" cy=\"1405.38\" r=\"14.4\" fill=\"#3da44d\" fill-rule=\"evenodd\" fill-opacity=\"1\" stroke=\"#000000\" stroke-opacity=\"1\" stroke-width=\"3.2\"/>\n",
       "<circle clip-path=\"url(#clip632)\" cx=\"457.084\" cy=\"1387.43\" r=\"14.4\" fill=\"#3da44d\" fill-rule=\"evenodd\" fill-opacity=\"1\" stroke=\"#000000\" stroke-opacity=\"1\" stroke-width=\"3.2\"/>\n",
       "<circle clip-path=\"url(#clip632)\" cx=\"511.246\" cy=\"1365.39\" r=\"14.4\" fill=\"#3da44d\" fill-rule=\"evenodd\" fill-opacity=\"1\" stroke=\"#000000\" stroke-opacity=\"1\" stroke-width=\"3.2\"/>\n",
       "<circle clip-path=\"url(#clip632)\" cx=\"565.408\" cy=\"1338.68\" r=\"14.4\" fill=\"#3da44d\" fill-rule=\"evenodd\" fill-opacity=\"1\" stroke=\"#000000\" stroke-opacity=\"1\" stroke-width=\"3.2\"/>\n",
       "<circle clip-path=\"url(#clip632)\" cx=\"619.57\" cy=\"1306.77\" r=\"14.4\" fill=\"#3da44d\" fill-rule=\"evenodd\" fill-opacity=\"1\" stroke=\"#000000\" stroke-opacity=\"1\" stroke-width=\"3.2\"/>\n",
       "<circle clip-path=\"url(#clip632)\" cx=\"673.732\" cy=\"1269.32\" r=\"14.4\" fill=\"#3da44d\" fill-rule=\"evenodd\" fill-opacity=\"1\" stroke=\"#000000\" stroke-opacity=\"1\" stroke-width=\"3.2\"/>\n",
       "<circle clip-path=\"url(#clip632)\" cx=\"727.894\" cy=\"1226.28\" r=\"14.4\" fill=\"#3da44d\" fill-rule=\"evenodd\" fill-opacity=\"1\" stroke=\"#000000\" stroke-opacity=\"1\" stroke-width=\"3.2\"/>\n",
       "<circle clip-path=\"url(#clip632)\" cx=\"782.057\" cy=\"1177.92\" r=\"14.4\" fill=\"#3da44d\" fill-rule=\"evenodd\" fill-opacity=\"1\" stroke=\"#000000\" stroke-opacity=\"1\" stroke-width=\"3.2\"/>\n",
       "<circle clip-path=\"url(#clip632)\" cx=\"836.219\" cy=\"1124.98\" r=\"14.4\" fill=\"#3da44d\" fill-rule=\"evenodd\" fill-opacity=\"1\" stroke=\"#000000\" stroke-opacity=\"1\" stroke-width=\"3.2\"/>\n",
       "<circle clip-path=\"url(#clip632)\" cx=\"890.381\" cy=\"1068.56\" r=\"14.4\" fill=\"#3da44d\" fill-rule=\"evenodd\" fill-opacity=\"1\" stroke=\"#000000\" stroke-opacity=\"1\" stroke-width=\"3.2\"/>\n",
       "<circle clip-path=\"url(#clip632)\" cx=\"944.543\" cy=\"1010.13\" r=\"14.4\" fill=\"#3da44d\" fill-rule=\"evenodd\" fill-opacity=\"1\" stroke=\"#000000\" stroke-opacity=\"1\" stroke-width=\"3.2\"/>\n",
       "<circle clip-path=\"url(#clip632)\" cx=\"998.705\" cy=\"951.272\" r=\"14.4\" fill=\"#3da44d\" fill-rule=\"evenodd\" fill-opacity=\"1\" stroke=\"#000000\" stroke-opacity=\"1\" stroke-width=\"3.2\"/>\n",
       "<circle clip-path=\"url(#clip632)\" cx=\"1052.87\" cy=\"893.592\" r=\"14.4\" fill=\"#3da44d\" fill-rule=\"evenodd\" fill-opacity=\"1\" stroke=\"#000000\" stroke-opacity=\"1\" stroke-width=\"3.2\"/>\n",
       "<circle clip-path=\"url(#clip632)\" cx=\"1107.03\" cy=\"838.475\" r=\"14.4\" fill=\"#3da44d\" fill-rule=\"evenodd\" fill-opacity=\"1\" stroke=\"#000000\" stroke-opacity=\"1\" stroke-width=\"3.2\"/>\n",
       "<circle clip-path=\"url(#clip632)\" cx=\"1161.19\" cy=\"786.994\" r=\"14.4\" fill=\"#3da44d\" fill-rule=\"evenodd\" fill-opacity=\"1\" stroke=\"#000000\" stroke-opacity=\"1\" stroke-width=\"3.2\"/>\n",
       "<circle clip-path=\"url(#clip632)\" cx=\"1215.35\" cy=\"739.853\" r=\"14.4\" fill=\"#3da44d\" fill-rule=\"evenodd\" fill-opacity=\"1\" stroke=\"#000000\" stroke-opacity=\"1\" stroke-width=\"3.2\"/>\n",
       "<circle clip-path=\"url(#clip632)\" cx=\"1269.51\" cy=\"697.4\" r=\"14.4\" fill=\"#3da44d\" fill-rule=\"evenodd\" fill-opacity=\"1\" stroke=\"#000000\" stroke-opacity=\"1\" stroke-width=\"3.2\"/>\n",
       "<circle clip-path=\"url(#clip632)\" cx=\"1323.68\" cy=\"659.688\" r=\"14.4\" fill=\"#3da44d\" fill-rule=\"evenodd\" fill-opacity=\"1\" stroke=\"#000000\" stroke-opacity=\"1\" stroke-width=\"3.2\"/>\n",
       "<circle clip-path=\"url(#clip632)\" cx=\"1377.84\" cy=\"626.547\" r=\"14.4\" fill=\"#3da44d\" fill-rule=\"evenodd\" fill-opacity=\"1\" stroke=\"#000000\" stroke-opacity=\"1\" stroke-width=\"3.2\"/>\n",
       "<circle clip-path=\"url(#clip632)\" cx=\"1432\" cy=\"597.665\" r=\"14.4\" fill=\"#3da44d\" fill-rule=\"evenodd\" fill-opacity=\"1\" stroke=\"#000000\" stroke-opacity=\"1\" stroke-width=\"3.2\"/>\n",
       "<circle clip-path=\"url(#clip632)\" cx=\"1486.16\" cy=\"572.652\" r=\"14.4\" fill=\"#3da44d\" fill-rule=\"evenodd\" fill-opacity=\"1\" stroke=\"#000000\" stroke-opacity=\"1\" stroke-width=\"3.2\"/>\n",
       "<circle clip-path=\"url(#clip632)\" cx=\"1540.33\" cy=\"551.086\" r=\"14.4\" fill=\"#3da44d\" fill-rule=\"evenodd\" fill-opacity=\"1\" stroke=\"#000000\" stroke-opacity=\"1\" stroke-width=\"3.2\"/>\n",
       "<circle clip-path=\"url(#clip632)\" cx=\"1594.49\" cy=\"532.552\" r=\"14.4\" fill=\"#3da44d\" fill-rule=\"evenodd\" fill-opacity=\"1\" stroke=\"#000000\" stroke-opacity=\"1\" stroke-width=\"3.2\"/>\n",
       "<circle clip-path=\"url(#clip632)\" cx=\"1648.65\" cy=\"516.656\" r=\"14.4\" fill=\"#3da44d\" fill-rule=\"evenodd\" fill-opacity=\"1\" stroke=\"#000000\" stroke-opacity=\"1\" stroke-width=\"3.2\"/>\n",
       "<circle clip-path=\"url(#clip632)\" cx=\"1702.81\" cy=\"503.041\" r=\"14.4\" fill=\"#3da44d\" fill-rule=\"evenodd\" fill-opacity=\"1\" stroke=\"#000000\" stroke-opacity=\"1\" stroke-width=\"3.2\"/>\n",
       "<circle clip-path=\"url(#clip632)\" cx=\"1756.97\" cy=\"491.387\" r=\"14.4\" fill=\"#3da44d\" fill-rule=\"evenodd\" fill-opacity=\"1\" stroke=\"#000000\" stroke-opacity=\"1\" stroke-width=\"3.2\"/>\n",
       "<circle clip-path=\"url(#clip632)\" cx=\"1811.14\" cy=\"481.416\" r=\"14.4\" fill=\"#3da44d\" fill-rule=\"evenodd\" fill-opacity=\"1\" stroke=\"#000000\" stroke-opacity=\"1\" stroke-width=\"3.2\"/>\n",
       "<circle clip-path=\"url(#clip632)\" cx=\"1865.3\" cy=\"472.884\" r=\"14.4\" fill=\"#3da44d\" fill-rule=\"evenodd\" fill-opacity=\"1\" stroke=\"#000000\" stroke-opacity=\"1\" stroke-width=\"3.2\"/>\n",
       "<circle clip-path=\"url(#clip632)\" cx=\"1919.46\" cy=\"465.582\" r=\"14.4\" fill=\"#3da44d\" fill-rule=\"evenodd\" fill-opacity=\"1\" stroke=\"#000000\" stroke-opacity=\"1\" stroke-width=\"3.2\"/>\n",
       "<circle clip-path=\"url(#clip632)\" cx=\"1973.62\" cy=\"459.331\" r=\"14.4\" fill=\"#3da44d\" fill-rule=\"evenodd\" fill-opacity=\"1\" stroke=\"#000000\" stroke-opacity=\"1\" stroke-width=\"3.2\"/>\n",
       "<circle clip-path=\"url(#clip632)\" cx=\"2027.78\" cy=\"453.978\" r=\"14.4\" fill=\"#3da44d\" fill-rule=\"evenodd\" fill-opacity=\"1\" stroke=\"#000000\" stroke-opacity=\"1\" stroke-width=\"3.2\"/>\n",
       "<circle clip-path=\"url(#clip632)\" cx=\"2081.95\" cy=\"449.391\" r=\"14.4\" fill=\"#3da44d\" fill-rule=\"evenodd\" fill-opacity=\"1\" stroke=\"#000000\" stroke-opacity=\"1\" stroke-width=\"3.2\"/>\n",
       "<circle clip-path=\"url(#clip632)\" cx=\"2136.11\" cy=\"445.459\" r=\"14.4\" fill=\"#3da44d\" fill-rule=\"evenodd\" fill-opacity=\"1\" stroke=\"#000000\" stroke-opacity=\"1\" stroke-width=\"3.2\"/>\n",
       "<circle clip-path=\"url(#clip632)\" cx=\"2190.27\" cy=\"442.088\" r=\"14.4\" fill=\"#3da44d\" fill-rule=\"evenodd\" fill-opacity=\"1\" stroke=\"#000000\" stroke-opacity=\"1\" stroke-width=\"3.2\"/>\n",
       "<circle clip-path=\"url(#clip632)\" cx=\"2244.43\" cy=\"439.196\" r=\"14.4\" fill=\"#3da44d\" fill-rule=\"evenodd\" fill-opacity=\"1\" stroke=\"#000000\" stroke-opacity=\"1\" stroke-width=\"3.2\"/>\n",
       "<circle clip-path=\"url(#clip632)\" cx=\"2298.59\" cy=\"436.714\" r=\"14.4\" fill=\"#3da44d\" fill-rule=\"evenodd\" fill-opacity=\"1\" stroke=\"#000000\" stroke-opacity=\"1\" stroke-width=\"3.2\"/>\n",
       "<circle clip-path=\"url(#clip632)\" cx=\"2352.76\" cy=\"434.584\" r=\"14.4\" fill=\"#3da44d\" fill-rule=\"evenodd\" fill-opacity=\"1\" stroke=\"#000000\" stroke-opacity=\"1\" stroke-width=\"3.2\"/>\n",
       "<polyline clip-path=\"url(#clip632)\" style=\"stroke:#c271d2; stroke-linecap:round; stroke-linejoin:round; stroke-width:4; stroke-opacity:1; fill:none\" points=\"\n",
       "  186.274,162.047 240.436,168.882 294.598,177.459 348.76,188.195 402.922,201.579 457.084,218.163 511.246,238.543 565.408,263.325 619.57,293.063 673.732,328.179 \n",
       "  727.894,368.867 782.057,414.995 836.219,466.029 890.381,521.013 944.543,578.628 998.705,637.317 1052.87,695.466 1107.03,751.589 1161.19,804.479 1215.35,853.278 \n",
       "  1269.51,897.501 1323.68,936.982 1377.84,971.809 1432,1002.24 1486.16,1028.65 1540.33,1051.45 1594.49,1071.05 1648.65,1087.86 1702.81,1102.25 1756.97,1114.55 \n",
       "  1811.14,1125.07 1865.3,1134.06 1919.46,1141.73 1973.62,1148.29 2027.78,1153.89 2081.95,1158.67 2136.11,1162.75 2190.27,1166.23 2244.43,1169.2 2298.59,1171.73 \n",
       "  2352.76,1173.89 \n",
       "  \"/>\n",
       "<polyline clip-path=\"url(#clip632)\" style=\"stroke:#ac8d18; stroke-linecap:round; stroke-linejoin:round; stroke-width:4; stroke-opacity:1; fill:none\" points=\"\n",
       "  186.274,1434.88 240.436,1431.68 294.598,1427.64 348.76,1422.57 402.922,1416.27 457.084,1408.52 511.246,1399.12 565.408,1387.89 619.57,1374.75 673.732,1359.75 \n",
       "  727.894,1343.14 782.057,1325.4 836.219,1307.25 890.381,1289.65 944.543,1273.64 998.705,1260.25 1052.87,1250.32 1107.03,1244.41 1161.19,1242.69 1215.35,1244.98 \n",
       "  1269.51,1250.82 1323.68,1259.56 1377.84,1270.48 1432,1282.87 1486.16,1296.07 1540.33,1309.54 1594.49,1322.85 1648.65,1335.68 1702.81,1347.81 1756.97,1359.09 \n",
       "  1811.14,1369.45 1865.3,1378.87 1919.46,1387.37 1973.62,1394.97 2027.78,1401.74 2081.95,1407.73 2136.11,1413.01 2190.27,1417.65 2244.43,1421.71 2298.59,1425.27 \n",
       "  2352.76,1428.36 \n",
       "  \"/>\n",
       "<polyline clip-path=\"url(#clip632)\" style=\"stroke:#00a9ad; stroke-linecap:round; stroke-linejoin:round; stroke-width:4; stroke-opacity:1; fill:none\" points=\"\n",
       "  186.274,1447.87 240.436,1441.04 294.598,1432.46 348.76,1421.73 402.922,1408.34 457.084,1391.76 511.246,1371.38 565.408,1346.59 619.57,1316.86 673.732,1281.74 \n",
       "  727.894,1241.05 782.057,1194.92 836.219,1143.89 890.381,1088.91 944.543,1031.29 998.705,972.603 1052.87,914.454 1107.03,858.331 1161.19,805.441 1215.35,756.642 \n",
       "  1269.51,712.419 1323.68,672.938 1377.84,638.111 1432,607.676 1486.16,581.267 1540.33,558.473 1594.49,538.873 1648.65,522.064 1702.81,507.672 1756.97,495.365 \n",
       "  1811.14,484.847 1865.3,475.862 1919.46,468.187 1973.62,461.633 2027.78,456.035 2081.95,451.255 2136.11,447.174 2190.27,443.691 2244.43,440.719 2298.59,438.185 \n",
       "  2352.76,436.027 \n",
       "  \"/>\n",
       "<path clip-path=\"url(#clip630)\" d=\"\n",
       "M1518.09 531.785 L2280.54 531.785 L2280.54 168.905 L1518.09 168.905  Z\n",
       "  \" fill=\"#ffffff\" fill-rule=\"evenodd\" fill-opacity=\"1\"/>\n",
       "<polyline clip-path=\"url(#clip630)\" style=\"stroke:#000000; stroke-linecap:round; stroke-linejoin:round; stroke-width:4; stroke-opacity:1; fill:none\" points=\"\n",
       "  1518.09,531.785 2280.54,531.785 2280.54,168.905 1518.09,168.905 1518.09,531.785 \n",
       "  \"/>\n",
       "<circle clip-path=\"url(#clip630)\" cx=\"1614.37\" cy=\"220.745\" r=\"23.04\" fill=\"#009af9\" fill-rule=\"evenodd\" fill-opacity=\"1\" stroke=\"#000000\" stroke-opacity=\"1\" stroke-width=\"5.12\"/>\n",
       "<path clip-path=\"url(#clip630)\" d=\"M1710.66 203.465 L1739.9 203.465 L1739.9 207.4 L1727.63 207.4 L1727.63 238.025 L1722.93 238.025 L1722.93 207.4 L1710.66 207.4 L1710.66 203.465 Z\" fill=\"#000000\" fill-rule=\"evenodd\" fill-opacity=\"1\" /><path clip-path=\"url(#clip630)\" d=\"M1752.28 216.08 Q1751.57 215.664 1750.71 215.478 Q1749.88 215.27 1748.86 215.27 Q1745.25 215.27 1743.3 217.631 Q1741.38 219.969 1741.38 224.367 L1741.38 238.025 L1737.1 238.025 L1737.1 212.099 L1741.38 212.099 L1741.38 216.127 Q1742.72 213.766 1744.88 212.631 Q1747.03 211.474 1750.11 211.474 Q1750.55 211.474 1751.08 211.543 Q1751.61 211.59 1752.26 211.705 L1752.28 216.08 Z\" fill=\"#000000\" fill-rule=\"evenodd\" fill-opacity=\"1\" /><path clip-path=\"url(#clip630)\" d=\"M1756.31 227.793 L1756.31 212.099 L1760.57 212.099 L1760.57 227.631 Q1760.57 231.312 1762 233.164 Q1763.44 234.992 1766.31 234.992 Q1769.76 234.992 1771.75 232.793 Q1773.76 230.594 1773.76 226.798 L1773.76 212.099 L1778.02 212.099 L1778.02 238.025 L1773.76 238.025 L1773.76 234.043 Q1772.21 236.404 1770.15 237.562 Q1768.12 238.696 1765.41 238.696 Q1760.94 238.696 1758.63 235.918 Q1756.31 233.14 1756.31 227.793 M1767.03 211.474 L1767.03 211.474 Z\" fill=\"#000000\" fill-rule=\"evenodd\" fill-opacity=\"1\" /><path clip-path=\"url(#clip630)\" d=\"M1808.97 223.997 L1808.97 226.08 L1789.39 226.08 Q1789.67 230.478 1792.03 232.793 Q1794.41 235.085 1798.65 235.085 Q1801.1 235.085 1803.39 234.483 Q1805.71 233.881 1807.98 232.677 L1807.98 236.705 Q1805.69 237.677 1803.28 238.187 Q1800.87 238.696 1798.39 238.696 Q1792.19 238.696 1788.56 235.085 Q1784.94 231.474 1784.94 225.316 Q1784.94 218.951 1788.37 215.224 Q1791.82 211.474 1797.65 211.474 Q1802.88 211.474 1805.92 214.853 Q1808.97 218.21 1808.97 223.997 M1804.71 222.747 Q1804.67 219.252 1802.75 217.168 Q1800.85 215.085 1797.7 215.085 Q1794.13 215.085 1791.98 217.099 Q1789.85 219.113 1789.53 222.77 L1804.71 222.747 Z\" fill=\"#000000\" fill-rule=\"evenodd\" fill-opacity=\"1\" /><path clip-path=\"url(#clip630)\" d=\"M1851.93 204.599 L1851.93 209.159 Q1849.27 207.886 1846.91 207.261 Q1844.55 206.636 1842.35 206.636 Q1838.53 206.636 1836.45 208.117 Q1834.39 209.599 1834.39 212.33 Q1834.39 214.622 1835.75 215.803 Q1837.14 216.96 1840.99 217.678 L1843.81 218.256 Q1849.04 219.252 1851.52 221.775 Q1854.02 224.275 1854.02 228.488 Q1854.02 233.511 1850.64 236.103 Q1847.28 238.696 1840.78 238.696 Q1838.32 238.696 1835.55 238.14 Q1832.79 237.585 1829.83 236.497 L1829.83 231.682 Q1832.68 233.279 1835.41 234.089 Q1838.14 234.9 1840.78 234.9 Q1844.78 234.9 1846.96 233.326 Q1849.13 231.752 1849.13 228.835 Q1849.13 226.289 1847.56 224.853 Q1846.01 223.418 1842.44 222.701 L1839.6 222.145 Q1834.37 221.103 1832.03 218.881 Q1829.69 216.659 1829.69 212.701 Q1829.69 208.117 1832.91 205.479 Q1836.15 202.84 1841.82 202.84 Q1844.25 202.84 1846.77 203.279 Q1849.3 203.719 1851.93 204.599 Z\" fill=\"#000000\" fill-rule=\"evenodd\" fill-opacity=\"1\" /><path clip-path=\"url(#clip630)\" d=\"M1860.68 227.793 L1860.68 212.099 L1864.94 212.099 L1864.94 227.631 Q1864.94 231.312 1866.38 233.164 Q1867.81 234.992 1870.68 234.992 Q1874.13 234.992 1876.12 232.793 Q1878.14 230.594 1878.14 226.798 L1878.14 212.099 L1882.4 212.099 L1882.4 238.025 L1878.14 238.025 L1878.14 234.043 Q1876.59 236.404 1874.53 237.562 Q1872.49 238.696 1869.78 238.696 Q1865.31 238.696 1863 235.918 Q1860.68 233.14 1860.68 227.793 M1871.4 211.474 L1871.4 211.474 Z\" fill=\"#000000\" fill-rule=\"evenodd\" fill-opacity=\"1\" /><path clip-path=\"url(#clip630)\" d=\"M1907.7 212.863 L1907.7 216.891 Q1905.89 215.965 1903.95 215.502 Q1902 215.039 1899.92 215.039 Q1896.75 215.039 1895.15 216.011 Q1893.58 216.983 1893.58 218.928 Q1893.58 220.409 1894.71 221.265 Q1895.85 222.099 1899.27 222.863 L1900.73 223.187 Q1905.27 224.159 1907.17 225.941 Q1909.09 227.701 1909.09 230.872 Q1909.09 234.483 1906.22 236.589 Q1903.37 238.696 1898.37 238.696 Q1896.29 238.696 1894.02 238.279 Q1891.77 237.886 1889.27 237.076 L1889.27 232.677 Q1891.63 233.904 1893.93 234.529 Q1896.22 235.131 1898.46 235.131 Q1901.47 235.131 1903.09 234.113 Q1904.71 233.071 1904.71 231.196 Q1904.71 229.46 1903.53 228.534 Q1902.37 227.608 1898.42 226.752 L1896.93 226.404 Q1892.98 225.571 1891.22 223.858 Q1889.46 222.122 1889.46 219.113 Q1889.46 215.455 1892.05 213.465 Q1894.64 211.474 1899.41 211.474 Q1901.77 211.474 1903.86 211.821 Q1905.94 212.168 1907.7 212.863 Z\" fill=\"#000000\" fill-rule=\"evenodd\" fill-opacity=\"1\" /><path clip-path=\"url(#clip630)\" d=\"M1934.53 213.094 L1934.53 217.076 Q1932.72 216.08 1930.89 215.594 Q1929.09 215.085 1927.24 215.085 Q1923.09 215.085 1920.8 217.724 Q1918.51 220.34 1918.51 225.085 Q1918.51 229.83 1920.8 232.469 Q1923.09 235.085 1927.24 235.085 Q1929.09 235.085 1930.89 234.599 Q1932.72 234.089 1934.53 233.094 L1934.53 237.029 Q1932.74 237.863 1930.82 238.279 Q1928.93 238.696 1926.77 238.696 Q1920.92 238.696 1917.47 235.015 Q1914.02 231.335 1914.02 225.085 Q1914.02 218.742 1917.49 215.108 Q1920.99 211.474 1927.05 211.474 Q1929.02 211.474 1930.89 211.891 Q1932.77 212.284 1934.53 213.094 Z\" fill=\"#000000\" fill-rule=\"evenodd\" fill-opacity=\"1\" /><path clip-path=\"url(#clip630)\" d=\"M1964.11 223.997 L1964.11 226.08 L1944.53 226.08 Q1944.8 230.478 1947.17 232.793 Q1949.55 235.085 1953.79 235.085 Q1956.24 235.085 1958.53 234.483 Q1960.85 233.881 1963.11 232.677 L1963.11 236.705 Q1960.82 237.677 1958.42 238.187 Q1956.01 238.696 1953.53 238.696 Q1947.33 238.696 1943.69 235.085 Q1940.08 231.474 1940.08 225.316 Q1940.08 218.951 1943.51 215.224 Q1946.96 211.474 1952.79 211.474 Q1958.02 211.474 1961.05 214.853 Q1964.11 218.21 1964.11 223.997 M1959.85 222.747 Q1959.8 219.252 1957.88 217.168 Q1955.99 215.085 1952.84 215.085 Q1949.27 215.085 1947.12 217.099 Q1944.99 219.113 1944.67 222.77 L1959.85 222.747 Z\" fill=\"#000000\" fill-rule=\"evenodd\" fill-opacity=\"1\" /><path clip-path=\"url(#clip630)\" d=\"M1975.22 234.136 L1975.22 247.886 L1970.94 247.886 L1970.94 212.099 L1975.22 212.099 L1975.22 216.034 Q1976.56 213.719 1978.6 212.608 Q1980.66 211.474 1983.51 211.474 Q1988.23 211.474 1991.17 215.224 Q1994.13 218.974 1994.13 225.085 Q1994.13 231.196 1991.17 234.946 Q1988.23 238.696 1983.51 238.696 Q1980.66 238.696 1978.6 237.585 Q1976.56 236.451 1975.22 234.136 M1989.71 225.085 Q1989.71 220.386 1987.77 217.724 Q1985.85 215.039 1982.47 215.039 Q1979.09 215.039 1977.14 217.724 Q1975.22 220.386 1975.22 225.085 Q1975.22 229.784 1977.14 232.469 Q1979.09 235.131 1982.47 235.131 Q1985.85 235.131 1987.77 232.469 Q1989.71 229.784 1989.71 225.085 Z\" fill=\"#000000\" fill-rule=\"evenodd\" fill-opacity=\"1\" /><path clip-path=\"url(#clip630)\" d=\"M2005.41 204.738 L2005.41 212.099 L2014.18 212.099 L2014.18 215.409 L2005.41 215.409 L2005.41 229.483 Q2005.41 232.654 2006.26 233.557 Q2007.14 234.46 2009.8 234.46 L2014.18 234.46 L2014.18 238.025 L2009.8 238.025 Q2004.87 238.025 2003 236.196 Q2001.12 234.344 2001.12 229.483 L2001.12 215.409 L1998 215.409 L1998 212.099 L2001.12 212.099 L2001.12 204.738 L2005.41 204.738 Z\" fill=\"#000000\" fill-rule=\"evenodd\" fill-opacity=\"1\" /><path clip-path=\"url(#clip630)\" d=\"M2019.78 212.099 L2024.04 212.099 L2024.04 238.025 L2019.78 238.025 L2019.78 212.099 M2019.78 202.006 L2024.04 202.006 L2024.04 207.4 L2019.78 207.4 L2019.78 202.006 Z\" fill=\"#000000\" fill-rule=\"evenodd\" fill-opacity=\"1\" /><path clip-path=\"url(#clip630)\" d=\"M2051.56 225.085 Q2051.56 220.386 2049.62 217.724 Q2047.7 215.039 2044.32 215.039 Q2040.94 215.039 2038.99 217.724 Q2037.07 220.386 2037.07 225.085 Q2037.07 229.784 2038.99 232.469 Q2040.94 235.131 2044.32 235.131 Q2047.7 235.131 2049.62 232.469 Q2051.56 229.784 2051.56 225.085 M2037.07 216.034 Q2038.42 213.719 2040.45 212.608 Q2042.51 211.474 2045.36 211.474 Q2050.08 211.474 2053.02 215.224 Q2055.98 218.974 2055.98 225.085 Q2055.98 231.196 2053.02 234.946 Q2050.08 238.696 2045.36 238.696 Q2042.51 238.696 2040.45 237.585 Q2038.42 236.451 2037.07 234.136 L2037.07 238.025 L2032.79 238.025 L2032.79 202.006 L2037.07 202.006 L2037.07 216.034 Z\" fill=\"#000000\" fill-rule=\"evenodd\" fill-opacity=\"1\" /><path clip-path=\"url(#clip630)\" d=\"M2063.04 202.006 L2067.3 202.006 L2067.3 238.025 L2063.04 238.025 L2063.04 202.006 Z\" fill=\"#000000\" fill-rule=\"evenodd\" fill-opacity=\"1\" /><path clip-path=\"url(#clip630)\" d=\"M2098.39 223.997 L2098.39 226.08 L2078.81 226.08 Q2079.09 230.478 2081.45 232.793 Q2083.83 235.085 2088.07 235.085 Q2090.52 235.085 2092.81 234.483 Q2095.13 233.881 2097.4 232.677 L2097.4 236.705 Q2095.1 237.677 2092.7 238.187 Q2090.29 238.696 2087.81 238.696 Q2081.61 238.696 2077.98 235.085 Q2074.36 231.474 2074.36 225.316 Q2074.36 218.951 2077.79 215.224 Q2081.24 211.474 2087.07 211.474 Q2092.3 211.474 2095.34 214.853 Q2098.39 218.21 2098.39 223.997 M2094.13 222.747 Q2094.09 219.252 2092.17 217.168 Q2090.27 215.085 2087.12 215.085 Q2083.55 215.085 2081.4 217.099 Q2079.27 219.113 2078.95 222.77 L2094.13 222.747 Z\" fill=\"#000000\" fill-rule=\"evenodd\" fill-opacity=\"1\" /><circle clip-path=\"url(#clip630)\" cx=\"1614.37\" cy=\"272.585\" r=\"23.04\" fill=\"#e26f46\" fill-rule=\"evenodd\" fill-opacity=\"1\" stroke=\"#000000\" stroke-opacity=\"1\" stroke-width=\"5.12\"/>\n",
       "<path clip-path=\"url(#clip630)\" d=\"M1710.66 255.305 L1739.9 255.305 L1739.9 259.24 L1727.63 259.24 L1727.63 289.865 L1722.93 289.865 L1722.93 259.24 L1710.66 259.24 L1710.66 255.305 Z\" fill=\"#000000\" fill-rule=\"evenodd\" fill-opacity=\"1\" /><path clip-path=\"url(#clip630)\" d=\"M1752.28 267.92 Q1751.57 267.504 1750.71 267.318 Q1749.88 267.11 1748.86 267.11 Q1745.25 267.11 1743.3 269.471 Q1741.38 271.809 1741.38 276.207 L1741.38 289.865 L1737.1 289.865 L1737.1 263.939 L1741.38 263.939 L1741.38 267.967 Q1742.72 265.606 1744.88 264.471 Q1747.03 263.314 1750.11 263.314 Q1750.55 263.314 1751.08 263.383 Q1751.61 263.43 1752.26 263.545 L1752.28 267.92 Z\" fill=\"#000000\" fill-rule=\"evenodd\" fill-opacity=\"1\" /><path clip-path=\"url(#clip630)\" d=\"M1756.31 279.633 L1756.31 263.939 L1760.57 263.939 L1760.57 279.471 Q1760.57 283.152 1762 285.004 Q1763.44 286.832 1766.31 286.832 Q1769.76 286.832 1771.75 284.633 Q1773.76 282.434 1773.76 278.638 L1773.76 263.939 L1778.02 263.939 L1778.02 289.865 L1773.76 289.865 L1773.76 285.883 Q1772.21 288.244 1770.15 289.402 Q1768.12 290.536 1765.41 290.536 Q1760.94 290.536 1758.63 287.758 Q1756.31 284.98 1756.31 279.633 M1767.03 263.314 L1767.03 263.314 Z\" fill=\"#000000\" fill-rule=\"evenodd\" fill-opacity=\"1\" /><path clip-path=\"url(#clip630)\" d=\"M1808.97 275.837 L1808.97 277.92 L1789.39 277.92 Q1789.67 282.318 1792.03 284.633 Q1794.41 286.925 1798.65 286.925 Q1801.1 286.925 1803.39 286.323 Q1805.71 285.721 1807.98 284.517 L1807.98 288.545 Q1805.69 289.517 1803.28 290.027 Q1800.87 290.536 1798.39 290.536 Q1792.19 290.536 1788.56 286.925 Q1784.94 283.314 1784.94 277.156 Q1784.94 270.791 1788.37 267.064 Q1791.82 263.314 1797.65 263.314 Q1802.88 263.314 1805.92 266.693 Q1808.97 270.05 1808.97 275.837 M1804.71 274.587 Q1804.67 271.092 1802.75 269.008 Q1800.85 266.925 1797.7 266.925 Q1794.13 266.925 1791.98 268.939 Q1789.85 270.953 1789.53 274.61 L1804.71 274.587 Z\" fill=\"#000000\" fill-rule=\"evenodd\" fill-opacity=\"1\" /><path clip-path=\"url(#clip630)\" d=\"M1831.22 255.305 L1835.89 255.305 L1835.89 289.865 L1831.22 289.865 L1831.22 255.305 Z\" fill=\"#000000\" fill-rule=\"evenodd\" fill-opacity=\"1\" /><path clip-path=\"url(#clip630)\" d=\"M1866.56 274.217 L1866.56 289.865 L1862.31 289.865 L1862.31 274.355 Q1862.31 270.675 1860.87 268.846 Q1859.43 267.018 1856.56 267.018 Q1853.12 267.018 1851.12 269.217 Q1849.13 271.416 1849.13 275.212 L1849.13 289.865 L1844.85 289.865 L1844.85 263.939 L1849.13 263.939 L1849.13 267.967 Q1850.66 265.629 1852.72 264.471 Q1854.81 263.314 1857.51 263.314 Q1861.98 263.314 1864.27 266.092 Q1866.56 268.846 1866.56 274.217 Z\" fill=\"#000000\" fill-rule=\"evenodd\" fill-opacity=\"1\" /><path clip-path=\"url(#clip630)\" d=\"M1888.18 253.846 L1888.18 257.388 L1884.11 257.388 Q1881.82 257.388 1880.92 258.314 Q1880.04 259.24 1880.04 261.647 L1880.04 263.939 L1887.05 263.939 L1887.05 267.249 L1880.04 267.249 L1880.04 289.865 L1875.75 289.865 L1875.75 267.249 L1871.68 267.249 L1871.68 263.939 L1875.75 263.939 L1875.75 262.133 Q1875.75 257.805 1877.77 255.837 Q1879.78 253.846 1884.16 253.846 L1888.18 253.846 Z\" fill=\"#000000\" fill-rule=\"evenodd\" fill-opacity=\"1\" /><path clip-path=\"url(#clip630)\" d=\"M1913.93 275.837 L1913.93 277.92 L1894.34 277.92 Q1894.62 282.318 1896.98 284.633 Q1899.37 286.925 1903.6 286.925 Q1906.05 286.925 1908.35 286.323 Q1910.66 285.721 1912.93 284.517 L1912.93 288.545 Q1910.64 289.517 1908.23 290.027 Q1905.82 290.536 1903.35 290.536 Q1897.14 290.536 1893.51 286.925 Q1889.9 283.314 1889.9 277.156 Q1889.9 270.791 1893.32 267.064 Q1896.77 263.314 1902.61 263.314 Q1907.84 263.314 1910.87 266.693 Q1913.93 270.05 1913.93 275.837 M1909.67 274.587 Q1909.62 271.092 1907.7 269.008 Q1905.8 266.925 1902.65 266.925 Q1899.09 266.925 1896.93 268.939 Q1894.81 270.953 1894.48 274.61 L1909.67 274.587 Z\" fill=\"#000000\" fill-rule=\"evenodd\" fill-opacity=\"1\" /><path clip-path=\"url(#clip630)\" d=\"M1939.57 264.934 L1939.57 268.916 Q1937.77 267.92 1935.94 267.434 Q1934.13 266.925 1932.28 266.925 Q1928.14 266.925 1925.85 269.564 Q1923.55 272.18 1923.55 276.925 Q1923.55 281.67 1925.85 284.309 Q1928.14 286.925 1932.28 286.925 Q1934.13 286.925 1935.94 286.439 Q1937.77 285.929 1939.57 284.934 L1939.57 288.869 Q1937.79 289.703 1935.87 290.119 Q1933.97 290.536 1931.82 290.536 Q1925.96 290.536 1922.51 286.855 Q1919.06 283.175 1919.06 276.925 Q1919.06 270.582 1922.54 266.948 Q1926.03 263.314 1932.1 263.314 Q1934.06 263.314 1935.94 263.731 Q1937.81 264.124 1939.57 264.934 Z\" fill=\"#000000\" fill-rule=\"evenodd\" fill-opacity=\"1\" /><path clip-path=\"url(#clip630)\" d=\"M1951.19 256.578 L1951.19 263.939 L1959.97 263.939 L1959.97 267.249 L1951.19 267.249 L1951.19 281.323 Q1951.19 284.494 1952.05 285.397 Q1952.93 286.3 1955.59 286.3 L1959.97 286.3 L1959.97 289.865 L1955.59 289.865 Q1950.66 289.865 1948.79 288.036 Q1946.91 286.184 1946.91 281.323 L1946.91 267.249 L1943.79 267.249 L1943.79 263.939 L1946.91 263.939 L1946.91 256.578 L1951.19 256.578 Z\" fill=\"#000000\" fill-rule=\"evenodd\" fill-opacity=\"1\" /><path clip-path=\"url(#clip630)\" d=\"M1987.74 275.837 L1987.74 277.92 L1968.16 277.92 Q1968.44 282.318 1970.8 284.633 Q1973.18 286.925 1977.42 286.925 Q1979.87 286.925 1982.17 286.323 Q1984.48 285.721 1986.75 284.517 L1986.75 288.545 Q1984.46 289.517 1982.05 290.027 Q1979.64 290.536 1977.17 290.536 Q1970.96 290.536 1967.33 286.925 Q1963.72 283.314 1963.72 277.156 Q1963.72 270.791 1967.14 267.064 Q1970.59 263.314 1976.42 263.314 Q1981.66 263.314 1984.69 266.693 Q1987.74 270.05 1987.74 275.837 M1983.49 274.587 Q1983.44 271.092 1981.52 269.008 Q1979.62 266.925 1976.47 266.925 Q1972.91 266.925 1970.75 268.939 Q1968.62 270.953 1968.3 274.61 L1983.49 274.587 Z\" fill=\"#000000\" fill-rule=\"evenodd\" fill-opacity=\"1\" /><path clip-path=\"url(#clip630)\" d=\"M2011.8 267.874 L2011.8 253.846 L2016.05 253.846 L2016.05 289.865 L2011.8 289.865 L2011.8 285.976 Q2010.45 288.291 2008.39 289.425 Q2006.36 290.536 2003.48 290.536 Q1998.79 290.536 1995.82 286.786 Q1992.88 283.036 1992.88 276.925 Q1992.88 270.814 1995.82 267.064 Q1998.79 263.314 2003.48 263.314 Q2006.36 263.314 2008.39 264.448 Q2010.45 265.559 2011.8 267.874 M1997.28 276.925 Q1997.28 281.624 1999.2 284.309 Q2001.15 286.971 2004.53 286.971 Q2007.91 286.971 2009.85 284.309 Q2011.8 281.624 2011.8 276.925 Q2011.8 272.226 2009.85 269.564 Q2007.91 266.879 2004.53 266.879 Q2001.15 266.879 1999.2 269.564 Q1997.28 272.226 1997.28 276.925 Z\" fill=\"#000000\" fill-rule=\"evenodd\" fill-opacity=\"1\" /><circle clip-path=\"url(#clip630)\" cx=\"1614.37\" cy=\"324.425\" r=\"23.04\" fill=\"#3da44d\" fill-rule=\"evenodd\" fill-opacity=\"1\" stroke=\"#000000\" stroke-opacity=\"1\" stroke-width=\"5.12\"/>\n",
       "<path clip-path=\"url(#clip630)\" d=\"M1710.66 307.145 L1739.9 307.145 L1739.9 311.08 L1727.63 311.08 L1727.63 341.705 L1722.93 341.705 L1722.93 311.08 L1710.66 311.08 L1710.66 307.145 Z\" fill=\"#000000\" fill-rule=\"evenodd\" fill-opacity=\"1\" /><path clip-path=\"url(#clip630)\" d=\"M1752.28 319.76 Q1751.57 319.344 1750.71 319.158 Q1749.88 318.95 1748.86 318.95 Q1745.25 318.95 1743.3 321.311 Q1741.38 323.649 1741.38 328.047 L1741.38 341.705 L1737.1 341.705 L1737.1 315.779 L1741.38 315.779 L1741.38 319.807 Q1742.72 317.446 1744.88 316.311 Q1747.03 315.154 1750.11 315.154 Q1750.55 315.154 1751.08 315.223 Q1751.61 315.27 1752.26 315.385 L1752.28 319.76 Z\" fill=\"#000000\" fill-rule=\"evenodd\" fill-opacity=\"1\" /><path clip-path=\"url(#clip630)\" d=\"M1756.31 331.473 L1756.31 315.779 L1760.57 315.779 L1760.57 331.311 Q1760.57 334.992 1762 336.844 Q1763.44 338.672 1766.31 338.672 Q1769.76 338.672 1771.75 336.473 Q1773.76 334.274 1773.76 330.478 L1773.76 315.779 L1778.02 315.779 L1778.02 341.705 L1773.76 341.705 L1773.76 337.723 Q1772.21 340.084 1770.15 341.242 Q1768.12 342.376 1765.41 342.376 Q1760.94 342.376 1758.63 339.598 Q1756.31 336.82 1756.31 331.473 M1767.03 315.154 L1767.03 315.154 Z\" fill=\"#000000\" fill-rule=\"evenodd\" fill-opacity=\"1\" /><path clip-path=\"url(#clip630)\" d=\"M1808.97 327.677 L1808.97 329.76 L1789.39 329.76 Q1789.67 334.158 1792.03 336.473 Q1794.41 338.765 1798.65 338.765 Q1801.1 338.765 1803.39 338.163 Q1805.71 337.561 1807.98 336.357 L1807.98 340.385 Q1805.69 341.357 1803.28 341.867 Q1800.87 342.376 1798.39 342.376 Q1792.19 342.376 1788.56 338.765 Q1784.94 335.154 1784.94 328.996 Q1784.94 322.631 1788.37 318.904 Q1791.82 315.154 1797.65 315.154 Q1802.88 315.154 1805.92 318.533 Q1808.97 321.89 1808.97 327.677 M1804.71 326.427 Q1804.67 322.932 1802.75 320.848 Q1800.85 318.765 1797.7 318.765 Q1794.13 318.765 1791.98 320.779 Q1789.85 322.793 1789.53 326.45 L1804.71 326.427 Z\" fill=\"#000000\" fill-rule=\"evenodd\" fill-opacity=\"1\" /><path clip-path=\"url(#clip630)\" d=\"M1847.61 325.501 Q1849.11 326.01 1850.52 327.677 Q1851.96 329.344 1853.39 332.26 L1858.14 341.705 L1853.12 341.705 L1848.69 332.839 Q1846.98 329.367 1845.36 328.233 Q1843.76 327.098 1840.99 327.098 L1835.89 327.098 L1835.89 341.705 L1831.22 341.705 L1831.22 307.145 L1841.77 307.145 Q1847.7 307.145 1850.62 309.621 Q1853.53 312.098 1853.53 317.098 Q1853.53 320.362 1852 322.515 Q1850.5 324.668 1847.61 325.501 M1835.89 310.987 L1835.89 323.256 L1841.77 323.256 Q1845.15 323.256 1846.87 321.705 Q1848.6 320.131 1848.6 317.098 Q1848.6 314.066 1846.87 312.538 Q1845.15 310.987 1841.77 310.987 L1835.89 310.987 Z\" fill=\"#000000\" fill-rule=\"evenodd\" fill-opacity=\"1\" /><path clip-path=\"url(#clip630)\" d=\"M1884.02 327.677 L1884.02 329.76 L1864.43 329.76 Q1864.71 334.158 1867.07 336.473 Q1869.46 338.765 1873.69 338.765 Q1876.15 338.765 1878.44 338.163 Q1880.75 337.561 1883.02 336.357 L1883.02 340.385 Q1880.73 341.357 1878.32 341.867 Q1875.92 342.376 1873.44 342.376 Q1867.24 342.376 1863.6 338.765 Q1859.99 335.154 1859.99 328.996 Q1859.99 322.631 1863.42 318.904 Q1866.87 315.154 1872.7 315.154 Q1877.93 315.154 1880.96 318.533 Q1884.02 321.89 1884.02 327.677 M1879.76 326.427 Q1879.71 322.932 1877.79 320.848 Q1875.89 318.765 1872.74 318.765 Q1869.18 318.765 1867.03 320.779 Q1864.9 322.793 1864.57 326.45 L1879.76 326.427 Z\" fill=\"#000000\" fill-rule=\"evenodd\" fill-opacity=\"1\" /><path clip-path=\"url(#clip630)\" d=\"M1909.67 316.774 L1909.67 320.756 Q1907.86 319.76 1906.03 319.274 Q1904.23 318.765 1902.37 318.765 Q1898.23 318.765 1895.94 321.404 Q1893.65 324.02 1893.65 328.765 Q1893.65 333.51 1895.94 336.149 Q1898.23 338.765 1902.37 338.765 Q1904.23 338.765 1906.03 338.279 Q1907.86 337.769 1909.67 336.774 L1909.67 340.709 Q1907.88 341.543 1905.96 341.959 Q1904.06 342.376 1901.91 342.376 Q1896.06 342.376 1892.61 338.695 Q1889.16 335.015 1889.16 328.765 Q1889.16 322.422 1892.63 318.788 Q1896.12 315.154 1902.19 315.154 Q1904.16 315.154 1906.03 315.571 Q1907.91 315.964 1909.67 316.774 Z\" fill=\"#000000\" fill-rule=\"evenodd\" fill-opacity=\"1\" /><path clip-path=\"url(#clip630)\" d=\"M1927.12 318.765 Q1923.69 318.765 1921.7 321.45 Q1919.71 324.112 1919.71 328.765 Q1919.71 333.418 1921.68 336.103 Q1923.67 338.765 1927.12 338.765 Q1930.52 338.765 1932.51 336.08 Q1934.5 333.395 1934.5 328.765 Q1934.5 324.158 1932.51 321.473 Q1930.52 318.765 1927.12 318.765 M1927.12 315.154 Q1932.68 315.154 1935.85 318.765 Q1939.02 322.376 1939.02 328.765 Q1939.02 335.131 1935.85 338.765 Q1932.68 342.376 1927.12 342.376 Q1921.54 342.376 1918.37 338.765 Q1915.22 335.131 1915.22 328.765 Q1915.22 322.376 1918.37 318.765 Q1921.54 315.154 1927.12 315.154 Z\" fill=\"#000000\" fill-rule=\"evenodd\" fill-opacity=\"1\" /><path clip-path=\"url(#clip630)\" d=\"M1943.02 315.779 L1947.54 315.779 L1955.64 337.538 L1963.74 315.779 L1968.25 315.779 L1958.53 341.705 L1952.74 341.705 L1943.02 315.779 Z\" fill=\"#000000\" fill-rule=\"evenodd\" fill-opacity=\"1\" /><path clip-path=\"url(#clip630)\" d=\"M1996.31 327.677 L1996.31 329.76 L1976.73 329.76 Q1977 334.158 1979.36 336.473 Q1981.75 338.765 1985.99 338.765 Q1988.44 338.765 1990.73 338.163 Q1993.05 337.561 1995.31 336.357 L1995.31 340.385 Q1993.02 341.357 1990.61 341.867 Q1988.21 342.376 1985.73 342.376 Q1979.53 342.376 1975.89 338.765 Q1972.28 335.154 1972.28 328.996 Q1972.28 322.631 1975.71 318.904 Q1979.16 315.154 1984.99 315.154 Q1990.22 315.154 1993.25 318.533 Q1996.31 321.89 1996.31 327.677 M1992.05 326.427 Q1992 322.932 1990.08 320.848 Q1988.18 318.765 1985.04 318.765 Q1981.47 318.765 1979.32 320.779 Q1977.19 322.793 1976.86 326.45 L1992.05 326.427 Z\" fill=\"#000000\" fill-rule=\"evenodd\" fill-opacity=\"1\" /><path clip-path=\"url(#clip630)\" d=\"M2018.32 319.76 Q2017.61 319.344 2016.75 319.158 Q2015.92 318.95 2014.9 318.95 Q2011.29 318.95 2009.34 321.311 Q2007.42 323.649 2007.42 328.047 L2007.42 341.705 L2003.14 341.705 L2003.14 315.779 L2007.42 315.779 L2007.42 319.807 Q2008.76 317.446 2010.92 316.311 Q2013.07 315.154 2016.15 315.154 Q2016.59 315.154 2017.12 315.223 Q2017.65 315.27 2018.3 315.385 L2018.32 319.76 Z\" fill=\"#000000\" fill-rule=\"evenodd\" fill-opacity=\"1\" /><path clip-path=\"url(#clip630)\" d=\"M2043.92 327.677 L2043.92 329.76 L2024.34 329.76 Q2024.62 334.158 2026.98 336.473 Q2029.36 338.765 2033.6 338.765 Q2036.05 338.765 2038.35 338.163 Q2040.66 337.561 2042.93 336.357 L2042.93 340.385 Q2040.64 341.357 2038.23 341.867 Q2035.82 342.376 2033.35 342.376 Q2027.14 342.376 2023.51 338.765 Q2019.9 335.154 2019.9 328.996 Q2019.9 322.631 2023.32 318.904 Q2026.77 315.154 2032.61 315.154 Q2037.84 315.154 2040.87 318.533 Q2043.92 321.89 2043.92 327.677 M2039.67 326.427 Q2039.62 322.932 2037.7 320.848 Q2035.8 318.765 2032.65 318.765 Q2029.09 318.765 2026.93 320.779 Q2024.8 322.793 2024.48 326.45 L2039.67 326.427 Z\" fill=\"#000000\" fill-rule=\"evenodd\" fill-opacity=\"1\" /><path clip-path=\"url(#clip630)\" d=\"M2067.98 319.714 L2067.98 305.686 L2072.23 305.686 L2072.23 341.705 L2067.98 341.705 L2067.98 337.816 Q2066.63 340.131 2064.57 341.265 Q2062.54 342.376 2059.67 342.376 Q2054.97 342.376 2052 338.626 Q2049.06 334.876 2049.06 328.765 Q2049.06 322.654 2052 318.904 Q2054.97 315.154 2059.67 315.154 Q2062.54 315.154 2064.57 316.288 Q2066.63 317.399 2067.98 319.714 M2053.46 328.765 Q2053.46 333.464 2055.38 336.149 Q2057.33 338.811 2060.71 338.811 Q2064.09 338.811 2066.03 336.149 Q2067.98 333.464 2067.98 328.765 Q2067.98 324.066 2066.03 321.404 Q2064.09 318.719 2060.71 318.719 Q2057.33 318.719 2055.38 321.404 Q2053.46 324.066 2053.46 328.765 Z\" fill=\"#000000\" fill-rule=\"evenodd\" fill-opacity=\"1\" /><polyline clip-path=\"url(#clip630)\" style=\"stroke:#c271d2; stroke-linecap:round; stroke-linejoin:round; stroke-width:4; stroke-opacity:1; fill:none\" points=\"\n",
       "  1542.16,376.265 1686.59,376.265 \n",
       "  \"/>\n",
       "<path clip-path=\"url(#clip630)\" d=\"M1710.66 358.985 L1732.51 358.985 L1732.51 362.92 L1715.34 362.92 L1715.34 373.151 L1731.8 373.151 L1731.8 377.086 L1715.34 377.086 L1715.34 389.609 L1732.93 389.609 L1732.93 393.545 L1710.66 393.545 L1710.66 358.985 Z\" fill=\"#000000\" fill-rule=\"evenodd\" fill-opacity=\"1\" /><path clip-path=\"url(#clip630)\" d=\"M1756.96 368.383 L1756.96 372.411 Q1755.15 371.485 1753.21 371.022 Q1751.26 370.559 1749.18 370.559 Q1746.01 370.559 1744.41 371.531 Q1742.84 372.503 1742.84 374.448 Q1742.84 375.929 1743.97 376.785 Q1745.11 377.619 1748.53 378.383 L1749.99 378.707 Q1754.53 379.679 1756.43 381.461 Q1758.35 383.221 1758.35 386.392 Q1758.35 390.003 1755.48 392.109 Q1752.63 394.216 1747.63 394.216 Q1745.55 394.216 1743.28 393.799 Q1741.03 393.406 1738.53 392.596 L1738.53 388.197 Q1740.89 389.424 1743.19 390.049 Q1745.48 390.651 1747.72 390.651 Q1750.73 390.651 1752.35 389.633 Q1753.97 388.591 1753.97 386.716 Q1753.97 384.98 1752.79 384.054 Q1751.63 383.128 1747.68 382.272 L1746.19 381.924 Q1742.24 381.091 1740.48 379.378 Q1738.72 377.642 1738.72 374.633 Q1738.72 370.975 1741.31 368.985 Q1743.9 366.994 1748.67 366.994 Q1751.03 366.994 1753.12 367.341 Q1755.2 367.688 1756.96 368.383 Z\" fill=\"#000000\" fill-rule=\"evenodd\" fill-opacity=\"1\" /><path clip-path=\"url(#clip630)\" d=\"M1769.34 360.258 L1769.34 367.619 L1778.12 367.619 L1778.12 370.929 L1769.34 370.929 L1769.34 385.003 Q1769.34 388.174 1770.2 389.077 Q1771.08 389.98 1773.74 389.98 L1778.12 389.98 L1778.12 393.545 L1773.74 393.545 Q1768.81 393.545 1766.94 391.716 Q1765.06 389.864 1765.06 385.003 L1765.06 370.929 L1761.94 370.929 L1761.94 367.619 L1765.06 367.619 L1765.06 360.258 L1769.34 360.258 Z\" fill=\"#000000\" fill-rule=\"evenodd\" fill-opacity=\"1\" /><path clip-path=\"url(#clip630)\" d=\"M1783.72 367.619 L1787.98 367.619 L1787.98 393.545 L1783.72 393.545 L1783.72 367.619 M1783.72 357.526 L1787.98 357.526 L1787.98 362.92 L1783.72 362.92 L1783.72 357.526 Z\" fill=\"#000000\" fill-rule=\"evenodd\" fill-opacity=\"1\" /><path clip-path=\"url(#clip630)\" d=\"M1817.07 372.596 Q1818.67 369.725 1820.89 368.36 Q1823.12 366.994 1826.12 366.994 Q1830.18 366.994 1832.37 369.841 Q1834.57 372.665 1834.57 377.897 L1834.57 393.545 L1830.29 393.545 L1830.29 378.035 Q1830.29 374.309 1828.97 372.503 Q1827.65 370.698 1824.94 370.698 Q1821.63 370.698 1819.71 372.897 Q1817.79 375.096 1817.79 378.892 L1817.79 393.545 L1813.51 393.545 L1813.51 378.035 Q1813.51 374.285 1812.19 372.503 Q1810.87 370.698 1808.12 370.698 Q1804.85 370.698 1802.93 372.92 Q1801.01 375.119 1801.01 378.892 L1801.01 393.545 L1796.73 393.545 L1796.73 367.619 L1801.01 367.619 L1801.01 371.647 Q1802.47 369.262 1804.5 368.128 Q1806.54 366.994 1809.34 366.994 Q1812.17 366.994 1814.13 368.429 Q1816.12 369.864 1817.07 372.596 Z\" fill=\"#000000\" fill-rule=\"evenodd\" fill-opacity=\"1\" /><path clip-path=\"url(#clip630)\" d=\"M1854.85 380.512 Q1849.69 380.512 1847.7 381.693 Q1845.71 382.873 1845.71 385.721 Q1845.71 387.989 1847.19 389.332 Q1848.69 390.651 1851.26 390.651 Q1854.81 390.651 1856.93 388.151 Q1859.09 385.628 1859.09 381.461 L1859.09 380.512 L1854.85 380.512 M1863.35 378.753 L1863.35 393.545 L1859.09 393.545 L1859.09 389.609 Q1857.63 391.971 1855.45 393.105 Q1853.28 394.216 1850.13 394.216 Q1846.15 394.216 1843.79 391.994 Q1841.45 389.748 1841.45 385.998 Q1841.45 381.623 1844.37 379.401 Q1847.31 377.179 1853.12 377.179 L1859.09 377.179 L1859.09 376.762 Q1859.09 373.823 1857.14 372.225 Q1855.22 370.605 1851.73 370.605 Q1849.5 370.605 1847.4 371.137 Q1845.29 371.67 1843.35 372.735 L1843.35 368.799 Q1845.68 367.897 1847.88 367.457 Q1850.08 366.994 1852.17 366.994 Q1857.79 366.994 1860.57 369.911 Q1863.35 372.827 1863.35 378.753 Z\" fill=\"#000000\" fill-rule=\"evenodd\" fill-opacity=\"1\" /><path clip-path=\"url(#clip630)\" d=\"M1876.33 360.258 L1876.33 367.619 L1885.11 367.619 L1885.11 370.929 L1876.33 370.929 L1876.33 385.003 Q1876.33 388.174 1877.19 389.077 Q1878.07 389.98 1880.73 389.98 L1885.11 389.98 L1885.11 393.545 L1880.73 393.545 Q1875.8 393.545 1873.93 391.716 Q1872.05 389.864 1872.05 385.003 L1872.05 370.929 L1868.93 370.929 L1868.93 367.619 L1872.05 367.619 L1872.05 360.258 L1876.33 360.258 Z\" fill=\"#000000\" fill-rule=\"evenodd\" fill-opacity=\"1\" /><path clip-path=\"url(#clip630)\" d=\"M1912.88 379.517 L1912.88 381.6 L1893.3 381.6 Q1893.58 385.998 1895.94 388.313 Q1898.32 390.605 1902.56 390.605 Q1905.01 390.605 1907.3 390.003 Q1909.62 389.401 1911.89 388.197 L1911.89 392.225 Q1909.6 393.197 1907.19 393.707 Q1904.78 394.216 1902.3 394.216 Q1896.1 394.216 1892.47 390.605 Q1888.86 386.994 1888.86 380.836 Q1888.86 374.471 1892.28 370.744 Q1895.73 366.994 1901.56 366.994 Q1906.8 366.994 1909.83 370.373 Q1912.88 373.73 1912.88 379.517 M1908.62 378.267 Q1908.58 374.772 1906.66 372.688 Q1904.76 370.605 1901.61 370.605 Q1898.05 370.605 1895.89 372.619 Q1893.76 374.633 1893.44 378.29 L1908.62 378.267 Z\" fill=\"#000000\" fill-rule=\"evenodd\" fill-opacity=\"1\" /><path clip-path=\"url(#clip630)\" d=\"M1936.93 371.554 L1936.93 357.526 L1941.19 357.526 L1941.19 393.545 L1936.93 393.545 L1936.93 389.656 Q1935.59 391.971 1933.53 393.105 Q1931.49 394.216 1928.62 394.216 Q1923.93 394.216 1920.96 390.466 Q1918.02 386.716 1918.02 380.605 Q1918.02 374.494 1920.96 370.744 Q1923.93 366.994 1928.62 366.994 Q1931.49 366.994 1933.53 368.128 Q1935.59 369.239 1936.93 371.554 M1922.42 380.605 Q1922.42 385.304 1924.34 387.989 Q1926.29 390.651 1929.67 390.651 Q1933.05 390.651 1934.99 387.989 Q1936.93 385.304 1936.93 380.605 Q1936.93 375.906 1934.99 373.244 Q1933.05 370.559 1929.67 370.559 Q1926.29 370.559 1924.34 373.244 Q1922.42 375.906 1922.42 380.605 Z\" fill=\"#000000\" fill-rule=\"evenodd\" fill-opacity=\"1\" /><path clip-path=\"url(#clip630)\" d=\"M1985.94 360.119 L1985.94 364.679 Q1983.28 363.406 1980.92 362.781 Q1978.55 362.156 1976.36 362.156 Q1972.54 362.156 1970.45 363.637 Q1968.39 365.119 1968.39 367.85 Q1968.39 370.142 1969.76 371.323 Q1971.15 372.48 1974.99 373.198 L1977.81 373.776 Q1983.05 374.772 1985.52 377.295 Q1988.02 379.795 1988.02 384.008 Q1988.02 389.031 1984.64 391.623 Q1981.29 394.216 1974.78 394.216 Q1972.33 394.216 1969.55 393.66 Q1966.8 393.105 1963.83 392.017 L1963.83 387.202 Q1966.68 388.799 1969.41 389.609 Q1972.14 390.42 1974.78 390.42 Q1978.79 390.42 1980.96 388.846 Q1983.14 387.272 1983.14 384.355 Q1983.14 381.809 1981.56 380.373 Q1980.01 378.938 1976.45 378.221 L1973.6 377.665 Q1968.37 376.623 1966.03 374.401 Q1963.69 372.179 1963.69 368.221 Q1963.69 363.637 1966.91 360.999 Q1970.15 358.36 1975.82 358.36 Q1978.25 358.36 1980.78 358.799 Q1983.3 359.239 1985.94 360.119 Z\" fill=\"#000000\" fill-rule=\"evenodd\" fill-opacity=\"1\" /><path clip-path=\"url(#clip630)\" d=\"M1994.69 383.313 L1994.69 367.619 L1998.95 367.619 L1998.95 383.151 Q1998.95 386.832 2000.38 388.684 Q2001.82 390.512 2004.69 390.512 Q2008.14 390.512 2010.13 388.313 Q2012.14 386.114 2012.14 382.318 L2012.14 367.619 L2016.4 367.619 L2016.4 393.545 L2012.14 393.545 L2012.14 389.563 Q2010.59 391.924 2008.53 393.082 Q2006.49 394.216 2003.79 394.216 Q1999.32 394.216 1997 391.438 Q1994.69 388.66 1994.69 383.313 M2005.41 366.994 L2005.41 366.994 Z\" fill=\"#000000\" fill-rule=\"evenodd\" fill-opacity=\"1\" /><path clip-path=\"url(#clip630)\" d=\"M2041.7 368.383 L2041.7 372.411 Q2039.9 371.485 2037.95 371.022 Q2036.01 370.559 2033.92 370.559 Q2030.75 370.559 2029.16 371.531 Q2027.58 372.503 2027.58 374.448 Q2027.58 375.929 2028.72 376.785 Q2029.85 377.619 2033.28 378.383 L2034.73 378.707 Q2039.27 379.679 2041.17 381.461 Q2043.09 383.221 2043.09 386.392 Q2043.09 390.003 2040.22 392.109 Q2037.37 394.216 2032.37 394.216 Q2030.29 394.216 2028.02 393.799 Q2025.78 393.406 2023.28 392.596 L2023.28 388.197 Q2025.64 389.424 2027.93 390.049 Q2030.22 390.651 2032.47 390.651 Q2035.48 390.651 2037.1 389.633 Q2038.72 388.591 2038.72 386.716 Q2038.72 384.98 2037.54 384.054 Q2036.38 383.128 2032.42 382.272 L2030.94 381.924 Q2026.98 381.091 2025.22 379.378 Q2023.46 377.642 2023.46 374.633 Q2023.46 370.975 2026.05 368.985 Q2028.65 366.994 2033.42 366.994 Q2035.78 366.994 2037.86 367.341 Q2039.94 367.688 2041.7 368.383 Z\" fill=\"#000000\" fill-rule=\"evenodd\" fill-opacity=\"1\" /><path clip-path=\"url(#clip630)\" d=\"M2068.53 368.614 L2068.53 372.596 Q2066.73 371.6 2064.9 371.114 Q2063.09 370.605 2061.24 370.605 Q2057.1 370.605 2054.8 373.244 Q2052.51 375.86 2052.51 380.605 Q2052.51 385.35 2054.8 387.989 Q2057.1 390.605 2061.24 390.605 Q2063.09 390.605 2064.9 390.119 Q2066.73 389.609 2068.53 388.614 L2068.53 392.549 Q2066.75 393.383 2064.83 393.799 Q2062.93 394.216 2060.78 394.216 Q2054.92 394.216 2051.47 390.535 Q2048.02 386.855 2048.02 380.605 Q2048.02 374.262 2051.49 370.628 Q2054.99 366.994 2061.05 366.994 Q2063.02 366.994 2064.9 367.411 Q2066.77 367.804 2068.53 368.614 Z\" fill=\"#000000\" fill-rule=\"evenodd\" fill-opacity=\"1\" /><path clip-path=\"url(#clip630)\" d=\"M2098.11 379.517 L2098.11 381.6 L2078.53 381.6 Q2078.81 385.998 2081.17 388.313 Q2083.55 390.605 2087.79 390.605 Q2090.24 390.605 2092.54 390.003 Q2094.85 389.401 2097.12 388.197 L2097.12 392.225 Q2094.83 393.197 2092.42 393.707 Q2090.01 394.216 2087.54 394.216 Q2081.33 394.216 2077.7 390.605 Q2074.09 386.994 2074.09 380.836 Q2074.09 374.471 2077.51 370.744 Q2080.96 366.994 2086.79 366.994 Q2092.03 366.994 2095.06 370.373 Q2098.11 373.73 2098.11 379.517 M2093.85 378.267 Q2093.81 374.772 2091.89 372.688 Q2089.99 370.605 2086.84 370.605 Q2083.28 370.605 2081.12 372.619 Q2078.99 374.633 2078.67 378.29 L2093.85 378.267 Z\" fill=\"#000000\" fill-rule=\"evenodd\" fill-opacity=\"1\" /><path clip-path=\"url(#clip630)\" d=\"M2109.23 389.656 L2109.23 403.406 L2104.94 403.406 L2104.94 367.619 L2109.23 367.619 L2109.23 371.554 Q2110.57 369.239 2112.6 368.128 Q2114.66 366.994 2117.51 366.994 Q2122.23 366.994 2125.17 370.744 Q2128.14 374.494 2128.14 380.605 Q2128.14 386.716 2125.17 390.466 Q2122.23 394.216 2117.51 394.216 Q2114.66 394.216 2112.6 393.105 Q2110.57 391.971 2109.23 389.656 M2123.72 380.605 Q2123.72 375.906 2121.77 373.244 Q2119.85 370.559 2116.47 370.559 Q2113.09 370.559 2111.15 373.244 Q2109.23 375.906 2109.23 380.605 Q2109.23 385.304 2111.15 387.989 Q2113.09 390.651 2116.47 390.651 Q2119.85 390.651 2121.77 387.989 Q2123.72 385.304 2123.72 380.605 Z\" fill=\"#000000\" fill-rule=\"evenodd\" fill-opacity=\"1\" /><path clip-path=\"url(#clip630)\" d=\"M2139.41 360.258 L2139.41 367.619 L2148.18 367.619 L2148.18 370.929 L2139.41 370.929 L2139.41 385.003 Q2139.41 388.174 2140.27 389.077 Q2141.15 389.98 2143.81 389.98 L2148.18 389.98 L2148.18 393.545 L2143.81 393.545 Q2138.88 393.545 2137 391.716 Q2135.13 389.864 2135.13 385.003 L2135.13 370.929 L2132 370.929 L2132 367.619 L2135.13 367.619 L2135.13 360.258 L2139.41 360.258 Z\" fill=\"#000000\" fill-rule=\"evenodd\" fill-opacity=\"1\" /><path clip-path=\"url(#clip630)\" d=\"M2153.79 367.619 L2158.04 367.619 L2158.04 393.545 L2153.79 393.545 L2153.79 367.619 M2153.79 357.526 L2158.04 357.526 L2158.04 362.92 L2153.79 362.92 L2153.79 357.526 Z\" fill=\"#000000\" fill-rule=\"evenodd\" fill-opacity=\"1\" /><path clip-path=\"url(#clip630)\" d=\"M2185.57 380.605 Q2185.57 375.906 2183.62 373.244 Q2181.7 370.559 2178.32 370.559 Q2174.94 370.559 2173 373.244 Q2171.08 375.906 2171.08 380.605 Q2171.08 385.304 2173 387.989 Q2174.94 390.651 2178.32 390.651 Q2181.7 390.651 2183.62 387.989 Q2185.57 385.304 2185.57 380.605 M2171.08 371.554 Q2172.42 369.239 2174.46 368.128 Q2176.52 366.994 2179.36 366.994 Q2184.09 366.994 2187.03 370.744 Q2189.99 374.494 2189.99 380.605 Q2189.99 386.716 2187.03 390.466 Q2184.09 394.216 2179.36 394.216 Q2176.52 394.216 2174.46 393.105 Q2172.42 391.971 2171.08 389.656 L2171.08 393.545 L2166.79 393.545 L2166.79 357.526 L2171.08 357.526 L2171.08 371.554 Z\" fill=\"#000000\" fill-rule=\"evenodd\" fill-opacity=\"1\" /><path clip-path=\"url(#clip630)\" d=\"M2197.05 357.526 L2201.31 357.526 L2201.31 393.545 L2197.05 393.545 L2197.05 357.526 Z\" fill=\"#000000\" fill-rule=\"evenodd\" fill-opacity=\"1\" /><path clip-path=\"url(#clip630)\" d=\"M2232.4 379.517 L2232.4 381.6 L2212.81 381.6 Q2213.09 385.998 2215.45 388.313 Q2217.84 390.605 2222.07 390.605 Q2224.53 390.605 2226.82 390.003 Q2229.13 389.401 2231.4 388.197 L2231.4 392.225 Q2229.11 393.197 2226.7 393.707 Q2224.29 394.216 2221.82 394.216 Q2215.61 394.216 2211.98 390.605 Q2208.37 386.994 2208.37 380.836 Q2208.37 374.471 2211.79 370.744 Q2215.24 366.994 2221.08 366.994 Q2226.31 366.994 2229.34 370.373 Q2232.4 373.73 2232.4 379.517 M2228.14 378.267 Q2228.09 374.772 2226.17 372.688 Q2224.27 370.605 2221.12 370.605 Q2217.56 370.605 2215.41 372.619 Q2213.28 374.633 2212.95 378.29 L2228.14 378.267 Z\" fill=\"#000000\" fill-rule=\"evenodd\" fill-opacity=\"1\" /><polyline clip-path=\"url(#clip630)\" style=\"stroke:#ac8d18; stroke-linecap:round; stroke-linejoin:round; stroke-width:4; stroke-opacity:1; fill:none\" points=\"\n",
       "  1542.16,428.105 1686.59,428.105 \n",
       "  \"/>\n",
       "<path clip-path=\"url(#clip630)\" d=\"M1710.66 410.825 L1732.51 410.825 L1732.51 414.76 L1715.34 414.76 L1715.34 424.991 L1731.8 424.991 L1731.8 428.926 L1715.34 428.926 L1715.34 441.449 L1732.93 441.449 L1732.93 445.385 L1710.66 445.385 L1710.66 410.825 Z\" fill=\"#000000\" fill-rule=\"evenodd\" fill-opacity=\"1\" /><path clip-path=\"url(#clip630)\" d=\"M1756.96 420.223 L1756.96 424.251 Q1755.15 423.325 1753.21 422.862 Q1751.26 422.399 1749.18 422.399 Q1746.01 422.399 1744.41 423.371 Q1742.84 424.343 1742.84 426.288 Q1742.84 427.769 1743.97 428.625 Q1745.11 429.459 1748.53 430.223 L1749.99 430.547 Q1754.53 431.519 1756.43 433.301 Q1758.35 435.061 1758.35 438.232 Q1758.35 441.843 1755.48 443.949 Q1752.63 446.056 1747.63 446.056 Q1745.55 446.056 1743.28 445.639 Q1741.03 445.246 1738.53 444.436 L1738.53 440.037 Q1740.89 441.264 1743.19 441.889 Q1745.48 442.491 1747.72 442.491 Q1750.73 442.491 1752.35 441.473 Q1753.97 440.431 1753.97 438.556 Q1753.97 436.82 1752.79 435.894 Q1751.63 434.968 1747.68 434.112 L1746.19 433.764 Q1742.24 432.931 1740.48 431.218 Q1738.72 429.482 1738.72 426.473 Q1738.72 422.815 1741.31 420.825 Q1743.9 418.834 1748.67 418.834 Q1751.03 418.834 1753.12 419.181 Q1755.2 419.528 1756.96 420.223 Z\" fill=\"#000000\" fill-rule=\"evenodd\" fill-opacity=\"1\" /><path clip-path=\"url(#clip630)\" d=\"M1769.34 412.098 L1769.34 419.459 L1778.12 419.459 L1778.12 422.769 L1769.34 422.769 L1769.34 436.843 Q1769.34 440.014 1770.2 440.917 Q1771.08 441.82 1773.74 441.82 L1778.12 441.82 L1778.12 445.385 L1773.74 445.385 Q1768.81 445.385 1766.94 443.556 Q1765.06 441.704 1765.06 436.843 L1765.06 422.769 L1761.94 422.769 L1761.94 419.459 L1765.06 419.459 L1765.06 412.098 L1769.34 412.098 Z\" fill=\"#000000\" fill-rule=\"evenodd\" fill-opacity=\"1\" /><path clip-path=\"url(#clip630)\" d=\"M1783.72 419.459 L1787.98 419.459 L1787.98 445.385 L1783.72 445.385 L1783.72 419.459 M1783.72 409.366 L1787.98 409.366 L1787.98 414.76 L1783.72 414.76 L1783.72 409.366 Z\" fill=\"#000000\" fill-rule=\"evenodd\" fill-opacity=\"1\" /><path clip-path=\"url(#clip630)\" d=\"M1817.07 424.436 Q1818.67 421.565 1820.89 420.2 Q1823.12 418.834 1826.12 418.834 Q1830.18 418.834 1832.37 421.681 Q1834.57 424.505 1834.57 429.737 L1834.57 445.385 L1830.29 445.385 L1830.29 429.875 Q1830.29 426.149 1828.97 424.343 Q1827.65 422.538 1824.94 422.538 Q1821.63 422.538 1819.71 424.737 Q1817.79 426.936 1817.79 430.732 L1817.79 445.385 L1813.51 445.385 L1813.51 429.875 Q1813.51 426.125 1812.19 424.343 Q1810.87 422.538 1808.12 422.538 Q1804.85 422.538 1802.93 424.76 Q1801.01 426.959 1801.01 430.732 L1801.01 445.385 L1796.73 445.385 L1796.73 419.459 L1801.01 419.459 L1801.01 423.487 Q1802.47 421.102 1804.5 419.968 Q1806.54 418.834 1809.34 418.834 Q1812.17 418.834 1814.13 420.269 Q1816.12 421.704 1817.07 424.436 Z\" fill=\"#000000\" fill-rule=\"evenodd\" fill-opacity=\"1\" /><path clip-path=\"url(#clip630)\" d=\"M1854.85 432.352 Q1849.69 432.352 1847.7 433.533 Q1845.71 434.713 1845.71 437.561 Q1845.71 439.829 1847.19 441.172 Q1848.69 442.491 1851.26 442.491 Q1854.81 442.491 1856.93 439.991 Q1859.09 437.468 1859.09 433.301 L1859.09 432.352 L1854.85 432.352 M1863.35 430.593 L1863.35 445.385 L1859.09 445.385 L1859.09 441.449 Q1857.63 443.811 1855.45 444.945 Q1853.28 446.056 1850.13 446.056 Q1846.15 446.056 1843.79 443.834 Q1841.45 441.588 1841.45 437.838 Q1841.45 433.463 1844.37 431.241 Q1847.31 429.019 1853.12 429.019 L1859.09 429.019 L1859.09 428.602 Q1859.09 425.663 1857.14 424.065 Q1855.22 422.445 1851.73 422.445 Q1849.5 422.445 1847.4 422.977 Q1845.29 423.51 1843.35 424.575 L1843.35 420.639 Q1845.68 419.737 1847.88 419.297 Q1850.08 418.834 1852.17 418.834 Q1857.79 418.834 1860.57 421.751 Q1863.35 424.667 1863.35 430.593 Z\" fill=\"#000000\" fill-rule=\"evenodd\" fill-opacity=\"1\" /><path clip-path=\"url(#clip630)\" d=\"M1876.33 412.098 L1876.33 419.459 L1885.11 419.459 L1885.11 422.769 L1876.33 422.769 L1876.33 436.843 Q1876.33 440.014 1877.19 440.917 Q1878.07 441.82 1880.73 441.82 L1885.11 441.82 L1885.11 445.385 L1880.73 445.385 Q1875.8 445.385 1873.93 443.556 Q1872.05 441.704 1872.05 436.843 L1872.05 422.769 L1868.93 422.769 L1868.93 419.459 L1872.05 419.459 L1872.05 412.098 L1876.33 412.098 Z\" fill=\"#000000\" fill-rule=\"evenodd\" fill-opacity=\"1\" /><path clip-path=\"url(#clip630)\" d=\"M1912.88 431.357 L1912.88 433.44 L1893.3 433.44 Q1893.58 437.838 1895.94 440.153 Q1898.32 442.445 1902.56 442.445 Q1905.01 442.445 1907.3 441.843 Q1909.62 441.241 1911.89 440.037 L1911.89 444.065 Q1909.6 445.037 1907.19 445.547 Q1904.78 446.056 1902.3 446.056 Q1896.1 446.056 1892.47 442.445 Q1888.86 438.834 1888.86 432.676 Q1888.86 426.311 1892.28 422.584 Q1895.73 418.834 1901.56 418.834 Q1906.8 418.834 1909.83 422.213 Q1912.88 425.57 1912.88 431.357 M1908.62 430.107 Q1908.58 426.612 1906.66 424.528 Q1904.76 422.445 1901.61 422.445 Q1898.05 422.445 1895.89 424.459 Q1893.76 426.473 1893.44 430.13 L1908.62 430.107 Z\" fill=\"#000000\" fill-rule=\"evenodd\" fill-opacity=\"1\" /><path clip-path=\"url(#clip630)\" d=\"M1936.93 423.394 L1936.93 409.366 L1941.19 409.366 L1941.19 445.385 L1936.93 445.385 L1936.93 441.496 Q1935.59 443.811 1933.53 444.945 Q1931.49 446.056 1928.62 446.056 Q1923.93 446.056 1920.96 442.306 Q1918.02 438.556 1918.02 432.445 Q1918.02 426.334 1920.96 422.584 Q1923.93 418.834 1928.62 418.834 Q1931.49 418.834 1933.53 419.968 Q1935.59 421.079 1936.93 423.394 M1922.42 432.445 Q1922.42 437.144 1924.34 439.829 Q1926.29 442.491 1929.67 442.491 Q1933.05 442.491 1934.99 439.829 Q1936.93 437.144 1936.93 432.445 Q1936.93 427.746 1934.99 425.084 Q1933.05 422.399 1929.67 422.399 Q1926.29 422.399 1924.34 425.084 Q1922.42 427.746 1922.42 432.445 Z\" fill=\"#000000\" fill-rule=\"evenodd\" fill-opacity=\"1\" /><path clip-path=\"url(#clip630)\" d=\"M1965.22 410.825 L1969.9 410.825 L1969.9 445.385 L1965.22 445.385 L1965.22 410.825 Z\" fill=\"#000000\" fill-rule=\"evenodd\" fill-opacity=\"1\" /><path clip-path=\"url(#clip630)\" d=\"M2000.57 429.737 L2000.57 445.385 L1996.31 445.385 L1996.31 429.875 Q1996.31 426.195 1994.87 424.366 Q1993.44 422.538 1990.57 422.538 Q1987.12 422.538 1985.13 424.737 Q1983.14 426.936 1983.14 430.732 L1983.14 445.385 L1978.86 445.385 L1978.86 419.459 L1983.14 419.459 L1983.14 423.487 Q1984.67 421.149 1986.73 419.991 Q1988.81 418.834 1991.52 418.834 Q1995.99 418.834 1998.28 421.612 Q2000.57 424.366 2000.57 429.737 Z\" fill=\"#000000\" fill-rule=\"evenodd\" fill-opacity=\"1\" /><path clip-path=\"url(#clip630)\" d=\"M2022.19 409.366 L2022.19 412.908 L2018.11 412.908 Q2015.82 412.908 2014.92 413.834 Q2014.04 414.76 2014.04 417.167 L2014.04 419.459 L2021.05 419.459 L2021.05 422.769 L2014.04 422.769 L2014.04 445.385 L2009.76 445.385 L2009.76 422.769 L2005.68 422.769 L2005.68 419.459 L2009.76 419.459 L2009.76 417.653 Q2009.76 413.325 2011.77 411.357 Q2013.79 409.366 2018.16 409.366 L2022.19 409.366 Z\" fill=\"#000000\" fill-rule=\"evenodd\" fill-opacity=\"1\" /><path clip-path=\"url(#clip630)\" d=\"M2047.93 431.357 L2047.93 433.44 L2028.35 433.44 Q2028.62 437.838 2030.98 440.153 Q2033.37 442.445 2037.61 442.445 Q2040.06 442.445 2042.35 441.843 Q2044.67 441.241 2046.93 440.037 L2046.93 444.065 Q2044.64 445.037 2042.23 445.547 Q2039.83 446.056 2037.35 446.056 Q2031.15 446.056 2027.51 442.445 Q2023.9 438.834 2023.9 432.676 Q2023.9 426.311 2027.33 422.584 Q2030.78 418.834 2036.61 418.834 Q2041.84 418.834 2044.87 422.213 Q2047.93 425.57 2047.93 431.357 M2043.67 430.107 Q2043.62 426.612 2041.7 424.528 Q2039.8 422.445 2036.66 422.445 Q2033.09 422.445 2030.94 424.459 Q2028.81 426.473 2028.48 430.13 L2043.67 430.107 Z\" fill=\"#000000\" fill-rule=\"evenodd\" fill-opacity=\"1\" /><path clip-path=\"url(#clip630)\" d=\"M2073.58 420.454 L2073.58 424.436 Q2071.77 423.44 2069.94 422.954 Q2068.14 422.445 2066.29 422.445 Q2062.14 422.445 2059.85 425.084 Q2057.56 427.7 2057.56 432.445 Q2057.56 437.19 2059.85 439.829 Q2062.14 442.445 2066.29 442.445 Q2068.14 442.445 2069.94 441.959 Q2071.77 441.449 2073.58 440.454 L2073.58 444.389 Q2071.79 445.223 2069.87 445.639 Q2067.98 446.056 2065.82 446.056 Q2059.97 446.056 2056.52 442.375 Q2053.07 438.695 2053.07 432.445 Q2053.07 426.102 2056.54 422.468 Q2060.04 418.834 2066.1 418.834 Q2068.07 418.834 2069.94 419.251 Q2071.82 419.644 2073.58 420.454 Z\" fill=\"#000000\" fill-rule=\"evenodd\" fill-opacity=\"1\" /><path clip-path=\"url(#clip630)\" d=\"M2085.2 412.098 L2085.2 419.459 L2093.97 419.459 L2093.97 422.769 L2085.2 422.769 L2085.2 436.843 Q2085.2 440.014 2086.05 440.917 Q2086.93 441.82 2089.6 441.82 L2093.97 441.82 L2093.97 445.385 L2089.6 445.385 Q2084.67 445.385 2082.79 443.556 Q2080.92 441.704 2080.92 436.843 L2080.92 422.769 L2077.79 422.769 L2077.79 419.459 L2080.92 419.459 L2080.92 412.098 L2085.2 412.098 Z\" fill=\"#000000\" fill-rule=\"evenodd\" fill-opacity=\"1\" /><path clip-path=\"url(#clip630)\" d=\"M2121.75 431.357 L2121.75 433.44 L2102.17 433.44 Q2102.44 437.838 2104.8 440.153 Q2107.19 442.445 2111.42 442.445 Q2113.88 442.445 2116.17 441.843 Q2118.48 441.241 2120.75 440.037 L2120.75 444.065 Q2118.46 445.037 2116.05 445.547 Q2113.65 446.056 2111.17 446.056 Q2104.97 446.056 2101.33 442.445 Q2097.72 438.834 2097.72 432.676 Q2097.72 426.311 2101.15 422.584 Q2104.6 418.834 2110.43 418.834 Q2115.66 418.834 2118.69 422.213 Q2121.75 425.57 2121.75 431.357 M2117.49 430.107 Q2117.44 426.612 2115.52 424.528 Q2113.62 422.445 2110.48 422.445 Q2106.91 422.445 2104.76 424.459 Q2102.63 426.473 2102.3 430.13 L2117.49 430.107 Z\" fill=\"#000000\" fill-rule=\"evenodd\" fill-opacity=\"1\" /><path clip-path=\"url(#clip630)\" d=\"M2145.8 423.394 L2145.8 409.366 L2150.06 409.366 L2150.06 445.385 L2145.8 445.385 L2145.8 441.496 Q2144.46 443.811 2142.4 444.945 Q2140.36 446.056 2137.49 446.056 Q2132.79 446.056 2129.83 442.306 Q2126.89 438.556 2126.89 432.445 Q2126.89 426.334 2129.83 422.584 Q2132.79 418.834 2137.49 418.834 Q2140.36 418.834 2142.4 419.968 Q2144.46 421.079 2145.8 423.394 M2131.29 432.445 Q2131.29 437.144 2133.21 439.829 Q2135.15 442.491 2138.53 442.491 Q2141.91 442.491 2143.85 439.829 Q2145.8 437.144 2145.8 432.445 Q2145.8 427.746 2143.85 425.084 Q2141.91 422.399 2138.53 422.399 Q2135.15 422.399 2133.21 425.084 Q2131.29 427.746 2131.29 432.445 Z\" fill=\"#000000\" fill-rule=\"evenodd\" fill-opacity=\"1\" /><polyline clip-path=\"url(#clip630)\" style=\"stroke:#00a9ad; stroke-linecap:round; stroke-linejoin:round; stroke-width:4; stroke-opacity:1; fill:none\" points=\"\n",
       "  1542.16,479.945 1686.59,479.945 \n",
       "  \"/>\n",
       "<path clip-path=\"url(#clip630)\" d=\"M1710.66 462.665 L1732.51 462.665 L1732.51 466.6 L1715.34 466.6 L1715.34 476.831 L1731.8 476.831 L1731.8 480.766 L1715.34 480.766 L1715.34 493.289 L1732.93 493.289 L1732.93 497.225 L1710.66 497.225 L1710.66 462.665 Z\" fill=\"#000000\" fill-rule=\"evenodd\" fill-opacity=\"1\" /><path clip-path=\"url(#clip630)\" d=\"M1756.96 472.063 L1756.96 476.091 Q1755.15 475.165 1753.21 474.702 Q1751.26 474.239 1749.18 474.239 Q1746.01 474.239 1744.41 475.211 Q1742.84 476.183 1742.84 478.128 Q1742.84 479.609 1743.97 480.465 Q1745.11 481.299 1748.53 482.063 L1749.99 482.387 Q1754.53 483.359 1756.43 485.141 Q1758.35 486.901 1758.35 490.072 Q1758.35 493.683 1755.48 495.789 Q1752.63 497.896 1747.63 497.896 Q1745.55 497.896 1743.28 497.479 Q1741.03 497.086 1738.53 496.276 L1738.53 491.877 Q1740.89 493.104 1743.19 493.729 Q1745.48 494.331 1747.72 494.331 Q1750.73 494.331 1752.35 493.313 Q1753.97 492.271 1753.97 490.396 Q1753.97 488.66 1752.79 487.734 Q1751.63 486.808 1747.68 485.952 L1746.19 485.604 Q1742.24 484.771 1740.48 483.058 Q1738.72 481.322 1738.72 478.313 Q1738.72 474.655 1741.31 472.665 Q1743.9 470.674 1748.67 470.674 Q1751.03 470.674 1753.12 471.021 Q1755.2 471.368 1756.96 472.063 Z\" fill=\"#000000\" fill-rule=\"evenodd\" fill-opacity=\"1\" /><path clip-path=\"url(#clip630)\" d=\"M1769.34 463.938 L1769.34 471.299 L1778.12 471.299 L1778.12 474.609 L1769.34 474.609 L1769.34 488.683 Q1769.34 491.854 1770.2 492.757 Q1771.08 493.66 1773.74 493.66 L1778.12 493.66 L1778.12 497.225 L1773.74 497.225 Q1768.81 497.225 1766.94 495.396 Q1765.06 493.544 1765.06 488.683 L1765.06 474.609 L1761.94 474.609 L1761.94 471.299 L1765.06 471.299 L1765.06 463.938 L1769.34 463.938 Z\" fill=\"#000000\" fill-rule=\"evenodd\" fill-opacity=\"1\" /><path clip-path=\"url(#clip630)\" d=\"M1783.72 471.299 L1787.98 471.299 L1787.98 497.225 L1783.72 497.225 L1783.72 471.299 M1783.72 461.206 L1787.98 461.206 L1787.98 466.6 L1783.72 466.6 L1783.72 461.206 Z\" fill=\"#000000\" fill-rule=\"evenodd\" fill-opacity=\"1\" /><path clip-path=\"url(#clip630)\" d=\"M1817.07 476.276 Q1818.67 473.405 1820.89 472.04 Q1823.12 470.674 1826.12 470.674 Q1830.18 470.674 1832.37 473.521 Q1834.57 476.345 1834.57 481.577 L1834.57 497.225 L1830.29 497.225 L1830.29 481.715 Q1830.29 477.989 1828.97 476.183 Q1827.65 474.378 1824.94 474.378 Q1821.63 474.378 1819.71 476.577 Q1817.79 478.776 1817.79 482.572 L1817.79 497.225 L1813.51 497.225 L1813.51 481.715 Q1813.51 477.965 1812.19 476.183 Q1810.87 474.378 1808.12 474.378 Q1804.85 474.378 1802.93 476.6 Q1801.01 478.799 1801.01 482.572 L1801.01 497.225 L1796.73 497.225 L1796.73 471.299 L1801.01 471.299 L1801.01 475.327 Q1802.47 472.942 1804.5 471.808 Q1806.54 470.674 1809.34 470.674 Q1812.17 470.674 1814.13 472.109 Q1816.12 473.544 1817.07 476.276 Z\" fill=\"#000000\" fill-rule=\"evenodd\" fill-opacity=\"1\" /><path clip-path=\"url(#clip630)\" d=\"M1854.85 484.192 Q1849.69 484.192 1847.7 485.373 Q1845.71 486.553 1845.71 489.401 Q1845.71 491.669 1847.19 493.012 Q1848.69 494.331 1851.26 494.331 Q1854.81 494.331 1856.93 491.831 Q1859.09 489.308 1859.09 485.141 L1859.09 484.192 L1854.85 484.192 M1863.35 482.433 L1863.35 497.225 L1859.09 497.225 L1859.09 493.289 Q1857.63 495.651 1855.45 496.785 Q1853.28 497.896 1850.13 497.896 Q1846.15 497.896 1843.79 495.674 Q1841.45 493.428 1841.45 489.678 Q1841.45 485.303 1844.37 483.081 Q1847.31 480.859 1853.12 480.859 L1859.09 480.859 L1859.09 480.442 Q1859.09 477.503 1857.14 475.905 Q1855.22 474.285 1851.73 474.285 Q1849.5 474.285 1847.4 474.817 Q1845.29 475.35 1843.35 476.415 L1843.35 472.479 Q1845.68 471.577 1847.88 471.137 Q1850.08 470.674 1852.17 470.674 Q1857.79 470.674 1860.57 473.591 Q1863.35 476.507 1863.35 482.433 Z\" fill=\"#000000\" fill-rule=\"evenodd\" fill-opacity=\"1\" /><path clip-path=\"url(#clip630)\" d=\"M1876.33 463.938 L1876.33 471.299 L1885.11 471.299 L1885.11 474.609 L1876.33 474.609 L1876.33 488.683 Q1876.33 491.854 1877.19 492.757 Q1878.07 493.66 1880.73 493.66 L1885.11 493.66 L1885.11 497.225 L1880.73 497.225 Q1875.8 497.225 1873.93 495.396 Q1872.05 493.544 1872.05 488.683 L1872.05 474.609 L1868.93 474.609 L1868.93 471.299 L1872.05 471.299 L1872.05 463.938 L1876.33 463.938 Z\" fill=\"#000000\" fill-rule=\"evenodd\" fill-opacity=\"1\" /><path clip-path=\"url(#clip630)\" d=\"M1912.88 483.197 L1912.88 485.28 L1893.3 485.28 Q1893.58 489.678 1895.94 491.993 Q1898.32 494.285 1902.56 494.285 Q1905.01 494.285 1907.3 493.683 Q1909.62 493.081 1911.89 491.877 L1911.89 495.905 Q1909.6 496.877 1907.19 497.387 Q1904.78 497.896 1902.3 497.896 Q1896.1 497.896 1892.47 494.285 Q1888.86 490.674 1888.86 484.516 Q1888.86 478.151 1892.28 474.424 Q1895.73 470.674 1901.56 470.674 Q1906.8 470.674 1909.83 474.053 Q1912.88 477.41 1912.88 483.197 M1908.62 481.947 Q1908.58 478.452 1906.66 476.368 Q1904.76 474.285 1901.61 474.285 Q1898.05 474.285 1895.89 476.299 Q1893.76 478.313 1893.44 481.97 L1908.62 481.947 Z\" fill=\"#000000\" fill-rule=\"evenodd\" fill-opacity=\"1\" /><path clip-path=\"url(#clip630)\" d=\"M1936.93 475.234 L1936.93 461.206 L1941.19 461.206 L1941.19 497.225 L1936.93 497.225 L1936.93 493.336 Q1935.59 495.651 1933.53 496.785 Q1931.49 497.896 1928.62 497.896 Q1923.93 497.896 1920.96 494.146 Q1918.02 490.396 1918.02 484.285 Q1918.02 478.174 1920.96 474.424 Q1923.93 470.674 1928.62 470.674 Q1931.49 470.674 1933.53 471.808 Q1935.59 472.919 1936.93 475.234 M1922.42 484.285 Q1922.42 488.984 1924.34 491.669 Q1926.29 494.331 1929.67 494.331 Q1933.05 494.331 1934.99 491.669 Q1936.93 488.984 1936.93 484.285 Q1936.93 479.586 1934.99 476.924 Q1933.05 474.239 1929.67 474.239 Q1926.29 474.239 1924.34 476.924 Q1922.42 479.586 1922.42 484.285 Z\" fill=\"#000000\" fill-rule=\"evenodd\" fill-opacity=\"1\" /><path clip-path=\"url(#clip630)\" d=\"M1981.61 481.021 Q1983.11 481.53 1984.53 483.197 Q1985.96 484.864 1987.4 487.78 L1992.14 497.225 L1987.12 497.225 L1982.7 488.359 Q1980.99 484.887 1979.36 483.753 Q1977.77 482.618 1974.99 482.618 L1969.9 482.618 L1969.9 497.225 L1965.22 497.225 L1965.22 462.665 L1975.78 462.665 Q1981.7 462.665 1984.62 465.141 Q1987.54 467.618 1987.54 472.618 Q1987.54 475.882 1986.01 478.035 Q1984.5 480.188 1981.61 481.021 M1969.9 466.507 L1969.9 478.776 L1975.78 478.776 Q1979.16 478.776 1980.87 477.225 Q1982.61 475.651 1982.61 472.618 Q1982.61 469.586 1980.87 468.058 Q1979.16 466.507 1975.78 466.507 L1969.9 466.507 Z\" fill=\"#000000\" fill-rule=\"evenodd\" fill-opacity=\"1\" /><path clip-path=\"url(#clip630)\" d=\"M2018.02 483.197 L2018.02 485.28 L1998.44 485.28 Q1998.72 489.678 2001.08 491.993 Q2003.46 494.285 2007.7 494.285 Q2010.15 494.285 2012.44 493.683 Q2014.76 493.081 2017.03 491.877 L2017.03 495.905 Q2014.73 496.877 2012.33 497.387 Q2009.92 497.896 2007.44 497.896 Q2001.24 497.896 1997.61 494.285 Q1993.99 490.674 1993.99 484.516 Q1993.99 478.151 1997.42 474.424 Q2000.87 470.674 2006.7 470.674 Q2011.93 470.674 2014.97 474.053 Q2018.02 477.41 2018.02 483.197 M2013.76 481.947 Q2013.72 478.452 2011.8 476.368 Q2009.9 474.285 2006.75 474.285 Q2003.18 474.285 2001.03 476.299 Q1998.9 478.313 1998.58 481.97 L2013.76 481.947 Z\" fill=\"#000000\" fill-rule=\"evenodd\" fill-opacity=\"1\" /><path clip-path=\"url(#clip630)\" d=\"M2043.67 472.294 L2043.67 476.276 Q2041.86 475.28 2040.04 474.794 Q2038.23 474.285 2036.38 474.285 Q2032.23 474.285 2029.94 476.924 Q2027.65 479.54 2027.65 484.285 Q2027.65 489.03 2029.94 491.669 Q2032.23 494.285 2036.38 494.285 Q2038.23 494.285 2040.04 493.799 Q2041.86 493.289 2043.67 492.294 L2043.67 496.229 Q2041.89 497.063 2039.97 497.479 Q2038.07 497.896 2035.92 497.896 Q2030.06 497.896 2026.61 494.215 Q2023.16 490.535 2023.16 484.285 Q2023.16 477.942 2026.63 474.308 Q2030.13 470.674 2036.19 470.674 Q2038.16 470.674 2040.04 471.091 Q2041.91 471.484 2043.67 472.294 Z\" fill=\"#000000\" fill-rule=\"evenodd\" fill-opacity=\"1\" /><path clip-path=\"url(#clip630)\" d=\"M2061.12 474.285 Q2057.7 474.285 2055.71 476.97 Q2053.72 479.632 2053.72 484.285 Q2053.72 488.938 2055.68 491.623 Q2057.67 494.285 2061.12 494.285 Q2064.53 494.285 2066.52 491.6 Q2068.51 488.915 2068.51 484.285 Q2068.51 479.678 2066.52 476.993 Q2064.53 474.285 2061.12 474.285 M2061.12 470.674 Q2066.68 470.674 2069.85 474.285 Q2073.02 477.896 2073.02 484.285 Q2073.02 490.651 2069.85 494.285 Q2066.68 497.896 2061.12 497.896 Q2055.54 497.896 2052.37 494.285 Q2049.23 490.651 2049.23 484.285 Q2049.23 477.896 2052.37 474.285 Q2055.54 470.674 2061.12 470.674 Z\" fill=\"#000000\" fill-rule=\"evenodd\" fill-opacity=\"1\" /><path clip-path=\"url(#clip630)\" d=\"M2077.03 471.299 L2081.54 471.299 L2089.64 493.058 L2097.74 471.299 L2102.26 471.299 L2092.54 497.225 L2086.75 497.225 L2077.03 471.299 Z\" fill=\"#000000\" fill-rule=\"evenodd\" fill-opacity=\"1\" /><path clip-path=\"url(#clip630)\" d=\"M2130.31 483.197 L2130.31 485.28 L2110.73 485.28 Q2111.01 489.678 2113.37 491.993 Q2115.75 494.285 2119.99 494.285 Q2122.44 494.285 2124.73 493.683 Q2127.05 493.081 2129.32 491.877 L2129.32 495.905 Q2127.03 496.877 2124.62 497.387 Q2122.21 497.896 2119.73 497.896 Q2113.53 497.896 2109.9 494.285 Q2106.29 490.674 2106.29 484.516 Q2106.29 478.151 2109.71 474.424 Q2113.16 470.674 2118.99 470.674 Q2124.23 470.674 2127.26 474.053 Q2130.31 477.41 2130.31 483.197 M2126.05 481.947 Q2126.01 478.452 2124.09 476.368 Q2122.19 474.285 2119.04 474.285 Q2115.48 474.285 2113.32 476.299 Q2111.19 478.313 2110.87 481.97 L2126.05 481.947 Z\" fill=\"#000000\" fill-rule=\"evenodd\" fill-opacity=\"1\" /><path clip-path=\"url(#clip630)\" d=\"M2152.33 475.28 Q2151.61 474.864 2150.75 474.678 Q2149.92 474.47 2148.9 474.47 Q2145.29 474.47 2143.35 476.831 Q2141.42 479.169 2141.42 483.567 L2141.42 497.225 L2137.14 497.225 L2137.14 471.299 L2141.42 471.299 L2141.42 475.327 Q2142.77 472.966 2144.92 471.831 Q2147.07 470.674 2150.15 470.674 Q2150.59 470.674 2151.12 470.743 Q2151.66 470.79 2152.3 470.905 L2152.33 475.28 Z\" fill=\"#000000\" fill-rule=\"evenodd\" fill-opacity=\"1\" /><path clip-path=\"url(#clip630)\" d=\"M2177.93 483.197 L2177.93 485.28 L2158.35 485.28 Q2158.62 489.678 2160.98 491.993 Q2163.37 494.285 2167.6 494.285 Q2170.06 494.285 2172.35 493.683 Q2174.66 493.081 2176.93 491.877 L2176.93 495.905 Q2174.64 496.877 2172.23 497.387 Q2169.83 497.896 2167.35 497.896 Q2161.15 497.896 2157.51 494.285 Q2153.9 490.674 2153.9 484.516 Q2153.9 478.151 2157.33 474.424 Q2160.78 470.674 2166.61 470.674 Q2171.84 470.674 2174.87 474.053 Q2177.93 477.41 2177.93 483.197 M2173.67 481.947 Q2173.62 478.452 2171.7 476.368 Q2169.8 474.285 2166.66 474.285 Q2163.09 474.285 2160.94 476.299 Q2158.81 478.313 2158.48 481.97 L2173.67 481.947 Z\" fill=\"#000000\" fill-rule=\"evenodd\" fill-opacity=\"1\" /><path clip-path=\"url(#clip630)\" d=\"M2201.98 475.234 L2201.98 461.206 L2206.24 461.206 L2206.24 497.225 L2201.98 497.225 L2201.98 493.336 Q2200.64 495.651 2198.58 496.785 Q2196.54 497.896 2193.67 497.896 Q2188.97 497.896 2186.01 494.146 Q2183.07 490.396 2183.07 484.285 Q2183.07 478.174 2186.01 474.424 Q2188.97 470.674 2193.67 470.674 Q2196.54 470.674 2198.58 471.808 Q2200.64 472.919 2201.98 475.234 M2187.47 484.285 Q2187.47 488.984 2189.39 491.669 Q2191.33 494.331 2194.71 494.331 Q2198.09 494.331 2200.03 491.669 Q2201.98 488.984 2201.98 484.285 Q2201.98 479.586 2200.03 476.924 Q2198.09 474.239 2194.71 474.239 Q2191.33 474.239 2189.39 476.924 Q2187.47 479.586 2187.47 484.285 Z\" fill=\"#000000\" fill-rule=\"evenodd\" fill-opacity=\"1\" /></svg>\n"
      ]
     },
     "execution_count": 27,
     "metadata": {},
     "output_type": "execute_result"
    }
   ],
   "source": [
    "prob_ude2_fit = ODEProblem(sir_ude2, u0, tspan, res_ude2.minimizer)\n",
    "sol_fit = solve(prob_ude2_fit, solver)\n",
    "sol_ude2_fit = sol_fit(tspan[1]:δt:tspan[2])\n",
    "scatter(sir_sol, label=[\"True Susceptible\" \"True Infected\" \"True Recovered\"],title=\"Fitted UDE model\", dpi=300)\n",
    "plot!(sol_ude2_fit, label=[\"Estimated Susceptible\" \"Estimated Infected\" \"Estimated Recovered\"])"
   ]
  },
  {
   "cell_type": "markdown",
   "metadata": {},
   "source": [
    "This is the inferred functional relationship between the proportion of infected individuals and the force of infection."
   ]
  },
  {
   "cell_type": "code",
   "execution_count": 28,
   "metadata": {
    "execution": {
     "iopub.execute_input": "2022-10-24T14:13:57.702000Z",
     "iopub.status.busy": "2022-10-24T14:13:57.702000Z",
     "iopub.status.idle": "2022-10-24T14:13:57.848000Z",
     "shell.execute_reply": "2022-10-24T14:13:57.848000Z"
    }
   },
   "outputs": [
    {
     "data": {
      "image/svg+xml": [
       "<?xml version=\"1.0\" encoding=\"utf-8\"?>\n",
       "<svg xmlns=\"http://www.w3.org/2000/svg\" xmlns:xlink=\"http://www.w3.org/1999/xlink\" width=\"600\" height=\"400\" viewBox=\"0 0 2400 1600\">\n",
       "<defs>\n",
       "  <clipPath id=\"clip670\">\n",
       "    <rect x=\"0\" y=\"0\" width=\"2400\" height=\"1600\"/>\n",
       "  </clipPath>\n",
       "</defs>\n",
       "<path clip-path=\"url(#clip670)\" d=\"\n",
       "M0 1600 L2400 1600 L2400 0 L0 0  Z\n",
       "  \" fill=\"#ffffff\" fill-rule=\"evenodd\" fill-opacity=\"1\"/>\n",
       "<defs>\n",
       "  <clipPath id=\"clip671\">\n",
       "    <rect x=\"480\" y=\"0\" width=\"1681\" height=\"1600\"/>\n",
       "  </clipPath>\n",
       "</defs>\n",
       "<path clip-path=\"url(#clip670)\" d=\"\n",
       "M249.542 1423.18 L2352.76 1423.18 L2352.76 47.2441 L249.542 47.2441  Z\n",
       "  \" fill=\"#ffffff\" fill-rule=\"evenodd\" fill-opacity=\"1\"/>\n",
       "<defs>\n",
       "  <clipPath id=\"clip672\">\n",
       "    <rect x=\"249\" y=\"47\" width=\"2104\" height=\"1377\"/>\n",
       "  </clipPath>\n",
       "</defs>\n",
       "<polyline clip-path=\"url(#clip672)\" style=\"stroke:#000000; stroke-linecap:round; stroke-linejoin:round; stroke-width:2; stroke-opacity:0.1; fill:none\" points=\"\n",
       "  309.067,1423.18 309.067,47.2441 \n",
       "  \"/>\n",
       "<polyline clip-path=\"url(#clip672)\" style=\"stroke:#000000; stroke-linecap:round; stroke-linejoin:round; stroke-width:2; stroke-opacity:0.1; fill:none\" points=\"\n",
       "  705.9,1423.18 705.9,47.2441 \n",
       "  \"/>\n",
       "<polyline clip-path=\"url(#clip672)\" style=\"stroke:#000000; stroke-linecap:round; stroke-linejoin:round; stroke-width:2; stroke-opacity:0.1; fill:none\" points=\"\n",
       "  1102.73,1423.18 1102.73,47.2441 \n",
       "  \"/>\n",
       "<polyline clip-path=\"url(#clip672)\" style=\"stroke:#000000; stroke-linecap:round; stroke-linejoin:round; stroke-width:2; stroke-opacity:0.1; fill:none\" points=\"\n",
       "  1499.57,1423.18 1499.57,47.2441 \n",
       "  \"/>\n",
       "<polyline clip-path=\"url(#clip672)\" style=\"stroke:#000000; stroke-linecap:round; stroke-linejoin:round; stroke-width:2; stroke-opacity:0.1; fill:none\" points=\"\n",
       "  1896.4,1423.18 1896.4,47.2441 \n",
       "  \"/>\n",
       "<polyline clip-path=\"url(#clip672)\" style=\"stroke:#000000; stroke-linecap:round; stroke-linejoin:round; stroke-width:2; stroke-opacity:0.1; fill:none\" points=\"\n",
       "  2293.23,1423.18 2293.23,47.2441 \n",
       "  \"/>\n",
       "<polyline clip-path=\"url(#clip670)\" style=\"stroke:#000000; stroke-linecap:round; stroke-linejoin:round; stroke-width:4; stroke-opacity:1; fill:none\" points=\"\n",
       "  249.542,1423.18 2352.76,1423.18 \n",
       "  \"/>\n",
       "<polyline clip-path=\"url(#clip670)\" style=\"stroke:#000000; stroke-linecap:round; stroke-linejoin:round; stroke-width:4; stroke-opacity:1; fill:none\" points=\"\n",
       "  309.067,1423.18 309.067,1404.28 \n",
       "  \"/>\n",
       "<polyline clip-path=\"url(#clip670)\" style=\"stroke:#000000; stroke-linecap:round; stroke-linejoin:round; stroke-width:4; stroke-opacity:1; fill:none\" points=\"\n",
       "  705.9,1423.18 705.9,1404.28 \n",
       "  \"/>\n",
       "<polyline clip-path=\"url(#clip670)\" style=\"stroke:#000000; stroke-linecap:round; stroke-linejoin:round; stroke-width:4; stroke-opacity:1; fill:none\" points=\"\n",
       "  1102.73,1423.18 1102.73,1404.28 \n",
       "  \"/>\n",
       "<polyline clip-path=\"url(#clip670)\" style=\"stroke:#000000; stroke-linecap:round; stroke-linejoin:round; stroke-width:4; stroke-opacity:1; fill:none\" points=\"\n",
       "  1499.57,1423.18 1499.57,1404.28 \n",
       "  \"/>\n",
       "<polyline clip-path=\"url(#clip670)\" style=\"stroke:#000000; stroke-linecap:round; stroke-linejoin:round; stroke-width:4; stroke-opacity:1; fill:none\" points=\"\n",
       "  1896.4,1423.18 1896.4,1404.28 \n",
       "  \"/>\n",
       "<polyline clip-path=\"url(#clip670)\" style=\"stroke:#000000; stroke-linecap:round; stroke-linejoin:round; stroke-width:4; stroke-opacity:1; fill:none\" points=\"\n",
       "  2293.23,1423.18 2293.23,1404.28 \n",
       "  \"/>\n",
       "<path clip-path=\"url(#clip670)\" d=\"M286.451 1454.1 Q282.84 1454.1 281.012 1457.66 Q279.206 1461.2 279.206 1468.33 Q279.206 1475.44 281.012 1479.01 Q282.84 1482.55 286.451 1482.55 Q290.086 1482.55 291.891 1479.01 Q293.72 1475.44 293.72 1468.33 Q293.72 1461.2 291.891 1457.66 Q290.086 1454.1 286.451 1454.1 M286.451 1450.39 Q292.261 1450.39 295.317 1455 Q298.396 1459.58 298.396 1468.33 Q298.396 1477.06 295.317 1481.67 Q292.261 1486.25 286.451 1486.25 Q280.641 1486.25 277.562 1481.67 Q274.507 1477.06 274.507 1468.33 Q274.507 1459.58 277.562 1455 Q280.641 1450.39 286.451 1450.39 Z\" fill=\"#000000\" fill-rule=\"evenodd\" fill-opacity=\"1\" /><path clip-path=\"url(#clip670)\" d=\"M306.613 1479.7 L311.497 1479.7 L311.497 1485.58 L306.613 1485.58 L306.613 1479.7 Z\" fill=\"#000000\" fill-rule=\"evenodd\" fill-opacity=\"1\" /><path clip-path=\"url(#clip670)\" d=\"M331.683 1454.1 Q328.071 1454.1 326.243 1457.66 Q324.437 1461.2 324.437 1468.33 Q324.437 1475.44 326.243 1479.01 Q328.071 1482.55 331.683 1482.55 Q335.317 1482.55 337.122 1479.01 Q338.951 1475.44 338.951 1468.33 Q338.951 1461.2 337.122 1457.66 Q335.317 1454.1 331.683 1454.1 M331.683 1450.39 Q337.493 1450.39 340.548 1455 Q343.627 1459.58 343.627 1468.33 Q343.627 1477.06 340.548 1481.67 Q337.493 1486.25 331.683 1486.25 Q325.872 1486.25 322.794 1481.67 Q319.738 1477.06 319.738 1468.33 Q319.738 1459.58 322.794 1455 Q325.872 1450.39 331.683 1450.39 Z\" fill=\"#000000\" fill-rule=\"evenodd\" fill-opacity=\"1\" /><path clip-path=\"url(#clip670)\" d=\"M683.898 1454.1 Q680.286 1454.1 678.458 1457.66 Q676.652 1461.2 676.652 1468.33 Q676.652 1475.44 678.458 1479.01 Q680.286 1482.55 683.898 1482.55 Q687.532 1482.55 689.337 1479.01 Q691.166 1475.44 691.166 1468.33 Q691.166 1461.2 689.337 1457.66 Q687.532 1454.1 683.898 1454.1 M683.898 1450.39 Q689.708 1450.39 692.763 1455 Q695.842 1459.58 695.842 1468.33 Q695.842 1477.06 692.763 1481.67 Q689.708 1486.25 683.898 1486.25 Q678.087 1486.25 675.009 1481.67 Q671.953 1477.06 671.953 1468.33 Q671.953 1459.58 675.009 1455 Q678.087 1450.39 683.898 1450.39 Z\" fill=\"#000000\" fill-rule=\"evenodd\" fill-opacity=\"1\" /><path clip-path=\"url(#clip670)\" d=\"M704.059 1479.7 L708.944 1479.7 L708.944 1485.58 L704.059 1485.58 L704.059 1479.7 Z\" fill=\"#000000\" fill-rule=\"evenodd\" fill-opacity=\"1\" /><path clip-path=\"url(#clip670)\" d=\"M719.939 1481.64 L727.578 1481.64 L727.578 1455.28 L719.268 1456.95 L719.268 1452.69 L727.532 1451.02 L732.207 1451.02 L732.207 1481.64 L739.846 1481.64 L739.846 1485.58 L719.939 1485.58 L719.939 1481.64 Z\" fill=\"#000000\" fill-rule=\"evenodd\" fill-opacity=\"1\" /><path clip-path=\"url(#clip670)\" d=\"M1080.92 1454.1 Q1077.3 1454.1 1075.48 1457.66 Q1073.67 1461.2 1073.67 1468.33 Q1073.67 1475.44 1075.48 1479.01 Q1077.3 1482.55 1080.92 1482.55 Q1084.55 1482.55 1086.36 1479.01 Q1088.18 1475.44 1088.18 1468.33 Q1088.18 1461.2 1086.36 1457.66 Q1084.55 1454.1 1080.92 1454.1 M1080.92 1450.39 Q1086.73 1450.39 1089.78 1455 Q1092.86 1459.58 1092.86 1468.33 Q1092.86 1477.06 1089.78 1481.67 Q1086.73 1486.25 1080.92 1486.25 Q1075.11 1486.25 1072.03 1481.67 Q1068.97 1477.06 1068.97 1468.33 Q1068.97 1459.58 1072.03 1455 Q1075.11 1450.39 1080.92 1450.39 Z\" fill=\"#000000\" fill-rule=\"evenodd\" fill-opacity=\"1\" /><path clip-path=\"url(#clip670)\" d=\"M1101.08 1479.7 L1105.96 1479.7 L1105.96 1485.58 L1101.08 1485.58 L1101.08 1479.7 Z\" fill=\"#000000\" fill-rule=\"evenodd\" fill-opacity=\"1\" /><path clip-path=\"url(#clip670)\" d=\"M1120.17 1481.64 L1136.49 1481.64 L1136.49 1485.58 L1114.55 1485.58 L1114.55 1481.64 Q1117.21 1478.89 1121.79 1474.26 Q1126.4 1469.61 1127.58 1468.27 Q1129.83 1465.74 1130.71 1464.01 Q1131.61 1462.25 1131.61 1460.56 Q1131.61 1457.8 1129.67 1456.07 Q1127.74 1454.33 1124.64 1454.33 Q1122.44 1454.33 1119.99 1455.09 Q1117.56 1455.86 1114.78 1457.41 L1114.78 1452.69 Q1117.61 1451.55 1120.06 1450.97 Q1122.51 1450.39 1124.55 1450.39 Q1129.92 1450.39 1133.11 1453.08 Q1136.31 1455.77 1136.31 1460.26 Q1136.31 1462.39 1135.5 1464.31 Q1134.71 1466.2 1132.61 1468.8 Q1132.03 1469.47 1128.92 1472.69 Q1125.82 1475.88 1120.17 1481.64 Z\" fill=\"#000000\" fill-rule=\"evenodd\" fill-opacity=\"1\" /><path clip-path=\"url(#clip670)\" d=\"M1477.27 1454.1 Q1473.66 1454.1 1471.83 1457.66 Q1470.03 1461.2 1470.03 1468.33 Q1470.03 1475.44 1471.83 1479.01 Q1473.66 1482.55 1477.27 1482.55 Q1480.91 1482.55 1482.71 1479.01 Q1484.54 1475.44 1484.54 1468.33 Q1484.54 1461.2 1482.71 1457.66 Q1480.91 1454.1 1477.27 1454.1 M1477.27 1450.39 Q1483.08 1450.39 1486.14 1455 Q1489.22 1459.58 1489.22 1468.33 Q1489.22 1477.06 1486.14 1481.67 Q1483.08 1486.25 1477.27 1486.25 Q1471.46 1486.25 1468.38 1481.67 Q1465.33 1477.06 1465.33 1468.33 Q1465.33 1459.58 1468.38 1455 Q1471.46 1450.39 1477.27 1450.39 Z\" fill=\"#000000\" fill-rule=\"evenodd\" fill-opacity=\"1\" /><path clip-path=\"url(#clip670)\" d=\"M1497.44 1479.7 L1502.32 1479.7 L1502.32 1485.58 L1497.44 1485.58 L1497.44 1479.7 Z\" fill=\"#000000\" fill-rule=\"evenodd\" fill-opacity=\"1\" /><path clip-path=\"url(#clip670)\" d=\"M1526.67 1466.95 Q1530.03 1467.66 1531.9 1469.93 Q1533.8 1472.2 1533.8 1475.53 Q1533.8 1480.65 1530.28 1483.45 Q1526.76 1486.25 1520.28 1486.25 Q1518.11 1486.25 1515.79 1485.81 Q1513.5 1485.39 1511.05 1484.54 L1511.05 1480.02 Q1512.99 1481.16 1515.31 1481.74 Q1517.62 1482.32 1520.14 1482.32 Q1524.54 1482.32 1526.83 1480.58 Q1529.15 1478.84 1529.15 1475.53 Q1529.15 1472.48 1527 1470.77 Q1524.87 1469.03 1521.05 1469.03 L1517.02 1469.03 L1517.02 1465.19 L1521.23 1465.19 Q1524.68 1465.19 1526.51 1463.82 Q1528.34 1462.43 1528.34 1459.84 Q1528.34 1457.18 1526.44 1455.77 Q1524.57 1454.33 1521.05 1454.33 Q1519.13 1454.33 1516.93 1454.75 Q1514.73 1455.16 1512.09 1456.04 L1512.09 1451.88 Q1514.75 1451.14 1517.07 1450.77 Q1519.4 1450.39 1521.46 1450.39 Q1526.79 1450.39 1529.89 1452.83 Q1532.99 1455.23 1532.99 1459.35 Q1532.99 1462.22 1531.35 1464.21 Q1529.7 1466.18 1526.67 1466.95 Z\" fill=\"#000000\" fill-rule=\"evenodd\" fill-opacity=\"1\" /><path clip-path=\"url(#clip670)\" d=\"M1873.54 1454.1 Q1869.93 1454.1 1868.1 1457.66 Q1866.29 1461.2 1866.29 1468.33 Q1866.29 1475.44 1868.1 1479.01 Q1869.93 1482.55 1873.54 1482.55 Q1877.17 1482.55 1878.98 1479.01 Q1880.81 1475.44 1880.81 1468.33 Q1880.81 1461.2 1878.98 1457.66 Q1877.17 1454.1 1873.54 1454.1 M1873.54 1450.39 Q1879.35 1450.39 1882.41 1455 Q1885.48 1459.58 1885.48 1468.33 Q1885.48 1477.06 1882.41 1481.67 Q1879.35 1486.25 1873.54 1486.25 Q1867.73 1486.25 1864.65 1481.67 Q1861.6 1477.06 1861.6 1468.33 Q1861.6 1459.58 1864.65 1455 Q1867.73 1450.39 1873.54 1450.39 Z\" fill=\"#000000\" fill-rule=\"evenodd\" fill-opacity=\"1\" /><path clip-path=\"url(#clip670)\" d=\"M1893.7 1479.7 L1898.59 1479.7 L1898.59 1485.58 L1893.7 1485.58 L1893.7 1479.7 Z\" fill=\"#000000\" fill-rule=\"evenodd\" fill-opacity=\"1\" /><path clip-path=\"url(#clip670)\" d=\"M1921.62 1455.09 L1909.81 1473.54 L1921.62 1473.54 L1921.62 1455.09 M1920.39 1451.02 L1926.27 1451.02 L1926.27 1473.54 L1931.2 1473.54 L1931.2 1477.43 L1926.27 1477.43 L1926.27 1485.58 L1921.62 1485.58 L1921.62 1477.43 L1906.02 1477.43 L1906.02 1472.92 L1920.39 1451.02 Z\" fill=\"#000000\" fill-rule=\"evenodd\" fill-opacity=\"1\" /><path clip-path=\"url(#clip670)\" d=\"M2271.11 1454.1 Q2267.5 1454.1 2265.67 1457.66 Q2263.87 1461.2 2263.87 1468.33 Q2263.87 1475.44 2265.67 1479.01 Q2267.5 1482.55 2271.11 1482.55 Q2274.75 1482.55 2276.55 1479.01 Q2278.38 1475.44 2278.38 1468.33 Q2278.38 1461.2 2276.55 1457.66 Q2274.75 1454.1 2271.11 1454.1 M2271.11 1450.39 Q2276.92 1450.39 2279.98 1455 Q2283.06 1459.58 2283.06 1468.33 Q2283.06 1477.06 2279.98 1481.67 Q2276.92 1486.25 2271.11 1486.25 Q2265.3 1486.25 2262.22 1481.67 Q2259.17 1477.06 2259.17 1468.33 Q2259.17 1459.58 2262.22 1455 Q2265.3 1450.39 2271.11 1450.39 Z\" fill=\"#000000\" fill-rule=\"evenodd\" fill-opacity=\"1\" /><path clip-path=\"url(#clip670)\" d=\"M2291.27 1479.7 L2296.16 1479.7 L2296.16 1485.58 L2291.27 1485.58 L2291.27 1479.7 Z\" fill=\"#000000\" fill-rule=\"evenodd\" fill-opacity=\"1\" /><path clip-path=\"url(#clip670)\" d=\"M2306.39 1451.02 L2324.75 1451.02 L2324.75 1454.96 L2310.67 1454.96 L2310.67 1463.43 Q2311.69 1463.08 2312.71 1462.92 Q2313.73 1462.73 2314.75 1462.73 Q2320.53 1462.73 2323.91 1465.9 Q2327.29 1469.08 2327.29 1474.49 Q2327.29 1480.07 2323.82 1483.17 Q2320.35 1486.25 2314.03 1486.25 Q2311.85 1486.25 2309.59 1485.88 Q2307.34 1485.51 2304.93 1484.77 L2304.93 1480.07 Q2307.02 1481.2 2309.24 1481.76 Q2311.46 1482.32 2313.94 1482.32 Q2317.94 1482.32 2320.28 1480.21 Q2322.62 1478.1 2322.62 1474.49 Q2322.62 1470.88 2320.28 1468.77 Q2317.94 1466.67 2313.94 1466.67 Q2312.06 1466.67 2310.19 1467.08 Q2308.34 1467.5 2306.39 1468.38 L2306.39 1451.02 Z\" fill=\"#000000\" fill-rule=\"evenodd\" fill-opacity=\"1\" /><path clip-path=\"url(#clip670)\" d=\"M747.285 1525.81 L747.285 1543.66 L755.369 1543.66 Q759.857 1543.66 762.308 1541.34 Q764.759 1539.02 764.759 1534.72 Q764.759 1530.45 762.308 1528.13 Q759.857 1525.81 755.369 1525.81 L747.285 1525.81 M740.855 1520.52 L755.369 1520.52 Q763.358 1520.52 767.432 1524.15 Q771.538 1527.75 771.538 1534.72 Q771.538 1541.75 767.432 1545.35 Q763.358 1548.95 755.369 1548.95 L747.285 1548.95 L747.285 1568.04 L740.855 1568.04 L740.855 1520.52 Z\" fill=\"#000000\" fill-rule=\"evenodd\" fill-opacity=\"1\" /><path clip-path=\"url(#clip670)\" d=\"M799.42 1537.87 Q798.433 1537.3 797.256 1537.04 Q796.11 1536.76 794.709 1536.76 Q789.744 1536.76 787.07 1540 Q784.429 1543.22 784.429 1549.27 L784.429 1568.04 L778.54 1568.04 L778.54 1532.4 L784.429 1532.4 L784.429 1537.93 Q786.275 1534.69 789.235 1533.13 Q792.195 1531.54 796.428 1531.54 Q797.033 1531.54 797.765 1531.63 Q798.497 1531.7 799.388 1531.85 L799.42 1537.87 Z\" fill=\"#000000\" fill-rule=\"evenodd\" fill-opacity=\"1\" /><path clip-path=\"url(#clip670)\" d=\"M817.944 1536.5 Q813.233 1536.5 810.496 1540.19 Q807.759 1543.85 807.759 1550.25 Q807.759 1556.65 810.464 1560.34 Q813.202 1564 817.944 1564 Q822.623 1564 825.36 1560.31 Q828.097 1556.62 828.097 1550.25 Q828.097 1543.92 825.36 1540.23 Q822.623 1536.5 817.944 1536.5 M817.944 1531.54 Q825.583 1531.54 829.943 1536.5 Q834.304 1541.47 834.304 1550.25 Q834.304 1559 829.943 1564 Q825.583 1568.97 817.944 1568.97 Q810.273 1568.97 805.913 1564 Q801.584 1559 801.584 1550.25 Q801.584 1541.47 805.913 1536.5 Q810.273 1531.54 817.944 1531.54 Z\" fill=\"#000000\" fill-rule=\"evenodd\" fill-opacity=\"1\" /><path clip-path=\"url(#clip670)\" d=\"M849.677 1562.7 L849.677 1581.6 L843.789 1581.6 L843.789 1532.4 L849.677 1532.4 L849.677 1537.81 Q851.523 1534.62 854.324 1533.1 Q857.157 1531.54 861.072 1531.54 Q867.565 1531.54 871.607 1536.69 Q875.681 1541.85 875.681 1550.25 Q875.681 1558.65 871.607 1563.81 Q867.565 1568.97 861.072 1568.97 Q857.157 1568.97 854.324 1567.44 Q851.523 1565.88 849.677 1562.7 M869.602 1550.25 Q869.602 1543.79 866.928 1540.13 Q864.286 1536.44 859.639 1536.44 Q854.993 1536.44 852.319 1540.13 Q849.677 1543.79 849.677 1550.25 Q849.677 1556.71 852.319 1560.4 Q854.993 1564.07 859.639 1564.07 Q864.286 1564.07 866.928 1560.4 Q869.602 1556.71 869.602 1550.25 Z\" fill=\"#000000\" fill-rule=\"evenodd\" fill-opacity=\"1\" /><path clip-path=\"url(#clip670)\" d=\"M899.202 1536.5 Q894.492 1536.5 891.754 1540.19 Q889.017 1543.85 889.017 1550.25 Q889.017 1556.65 891.723 1560.34 Q894.46 1564 899.202 1564 Q903.881 1564 906.618 1560.31 Q909.356 1556.62 909.356 1550.25 Q909.356 1543.92 906.618 1540.23 Q903.881 1536.5 899.202 1536.5 M899.202 1531.54 Q906.841 1531.54 911.202 1536.5 Q915.562 1541.47 915.562 1550.25 Q915.562 1559 911.202 1564 Q906.841 1568.97 899.202 1568.97 Q891.532 1568.97 887.171 1564 Q882.842 1559 882.842 1550.25 Q882.842 1541.47 887.171 1536.5 Q891.532 1531.54 899.202 1531.54 Z\" fill=\"#000000\" fill-rule=\"evenodd\" fill-opacity=\"1\" /><path clip-path=\"url(#clip670)\" d=\"M945.927 1537.87 Q944.94 1537.3 943.762 1537.04 Q942.616 1536.76 941.216 1536.76 Q936.251 1536.76 933.577 1540 Q930.935 1543.22 930.935 1549.27 L930.935 1568.04 L925.047 1568.04 L925.047 1532.4 L930.935 1532.4 L930.935 1537.93 Q932.781 1534.69 935.741 1533.13 Q938.702 1531.54 942.935 1531.54 Q943.539 1531.54 944.272 1531.63 Q945.004 1531.7 945.895 1531.85 L945.927 1537.87 Z\" fill=\"#000000\" fill-rule=\"evenodd\" fill-opacity=\"1\" /><path clip-path=\"url(#clip670)\" d=\"M957.862 1522.27 L957.862 1532.4 L969.925 1532.4 L969.925 1536.95 L957.862 1536.95 L957.862 1556.3 Q957.862 1560.66 959.04 1561.9 Q960.249 1563.14 963.91 1563.14 L969.925 1563.14 L969.925 1568.04 L963.91 1568.04 Q957.13 1568.04 954.552 1565.53 Q951.974 1562.98 951.974 1556.3 L951.974 1536.95 L947.677 1536.95 L947.677 1532.4 L951.974 1532.4 L951.974 1522.27 L957.862 1522.27 Z\" fill=\"#000000\" fill-rule=\"evenodd\" fill-opacity=\"1\" /><path clip-path=\"url(#clip670)\" d=\"M977.628 1532.4 L983.484 1532.4 L983.484 1568.04 L977.628 1568.04 L977.628 1532.4 M977.628 1518.52 L983.484 1518.52 L983.484 1525.93 L977.628 1525.93 L977.628 1518.52 Z\" fill=\"#000000\" fill-rule=\"evenodd\" fill-opacity=\"1\" /><path clip-path=\"url(#clip670)\" d=\"M1009.55 1536.5 Q1004.84 1536.5 1002.1 1540.19 Q999.367 1543.85 999.367 1550.25 Q999.367 1556.65 1002.07 1560.34 Q1004.81 1564 1009.55 1564 Q1014.23 1564 1016.97 1560.31 Q1019.71 1556.62 1019.71 1550.25 Q1019.71 1543.92 1016.97 1540.23 Q1014.23 1536.5 1009.55 1536.5 M1009.55 1531.54 Q1017.19 1531.54 1021.55 1536.5 Q1025.91 1541.47 1025.91 1550.25 Q1025.91 1559 1021.55 1564 Q1017.19 1568.97 1009.55 1568.97 Q1001.88 1568.97 997.521 1564 Q993.192 1559 993.192 1550.25 Q993.192 1541.47 997.521 1536.5 Q1001.88 1531.54 1009.55 1531.54 Z\" fill=\"#000000\" fill-rule=\"evenodd\" fill-opacity=\"1\" /><path clip-path=\"url(#clip670)\" d=\"M1065.25 1546.53 L1065.25 1568.04 L1059.4 1568.04 L1059.4 1546.72 Q1059.4 1541.66 1057.42 1539.14 Q1055.45 1536.63 1051.5 1536.63 Q1046.76 1536.63 1044.02 1539.65 Q1041.28 1542.68 1041.28 1547.9 L1041.28 1568.04 L1035.4 1568.04 L1035.4 1532.4 L1041.28 1532.4 L1041.28 1537.93 Q1043.39 1534.72 1046.22 1533.13 Q1049.08 1531.54 1052.81 1531.54 Q1058.95 1531.54 1062.1 1535.36 Q1065.25 1539.14 1065.25 1546.53 Z\" fill=\"#000000\" fill-rule=\"evenodd\" fill-opacity=\"1\" /><path clip-path=\"url(#clip670)\" d=\"M1111.47 1536.5 Q1106.76 1536.5 1104.02 1540.19 Q1101.28 1543.85 1101.28 1550.25 Q1101.28 1556.65 1103.99 1560.34 Q1106.72 1564 1111.47 1564 Q1116.15 1564 1118.88 1560.31 Q1121.62 1556.62 1121.62 1550.25 Q1121.62 1543.92 1118.88 1540.23 Q1116.15 1536.5 1111.47 1536.5 M1111.47 1531.54 Q1119.11 1531.54 1123.47 1536.5 Q1127.83 1541.47 1127.83 1550.25 Q1127.83 1559 1123.47 1564 Q1119.11 1568.97 1111.47 1568.97 Q1103.8 1568.97 1099.44 1564 Q1095.11 1559 1095.11 1550.25 Q1095.11 1541.47 1099.44 1536.5 Q1103.8 1531.54 1111.47 1531.54 Z\" fill=\"#000000\" fill-rule=\"evenodd\" fill-opacity=\"1\" /><path clip-path=\"url(#clip670)\" d=\"M1155.58 1518.52 L1155.58 1523.39 L1149.98 1523.39 Q1146.83 1523.39 1145.59 1524.66 Q1144.38 1525.93 1144.38 1529.24 L1144.38 1532.4 L1154.02 1532.4 L1154.02 1536.95 L1144.38 1536.95 L1144.38 1568.04 L1138.49 1568.04 L1138.49 1536.95 L1132.89 1536.95 L1132.89 1532.4 L1138.49 1532.4 L1138.49 1529.91 Q1138.49 1523.96 1141.26 1521.26 Q1144.03 1518.52 1150.04 1518.52 L1155.58 1518.52 Z\" fill=\"#000000\" fill-rule=\"evenodd\" fill-opacity=\"1\" /><path clip-path=\"url(#clip670)\" d=\"M1186.87 1562.7 L1186.87 1581.6 L1180.98 1581.6 L1180.98 1532.4 L1186.87 1532.4 L1186.87 1537.81 Q1188.71 1534.62 1191.52 1533.1 Q1194.35 1531.54 1198.26 1531.54 Q1204.76 1531.54 1208.8 1536.69 Q1212.87 1541.85 1212.87 1550.25 Q1212.87 1558.65 1208.8 1563.81 Q1204.76 1568.97 1198.26 1568.97 Q1194.35 1568.97 1191.52 1567.44 Q1188.71 1565.88 1186.87 1562.7 M1206.79 1550.25 Q1206.79 1543.79 1204.12 1540.13 Q1201.48 1536.44 1196.83 1536.44 Q1192.18 1536.44 1189.51 1540.13 Q1186.87 1543.79 1186.87 1550.25 Q1186.87 1556.71 1189.51 1560.4 Q1192.18 1564.07 1196.83 1564.07 Q1201.48 1564.07 1204.12 1560.4 Q1206.79 1556.71 1206.79 1550.25 Z\" fill=\"#000000\" fill-rule=\"evenodd\" fill-opacity=\"1\" /><path clip-path=\"url(#clip670)\" d=\"M1236.39 1536.5 Q1231.68 1536.5 1228.95 1540.19 Q1226.21 1543.85 1226.21 1550.25 Q1226.21 1556.65 1228.91 1560.34 Q1231.65 1564 1236.39 1564 Q1241.07 1564 1243.81 1560.31 Q1246.55 1556.62 1246.55 1550.25 Q1246.55 1543.92 1243.81 1540.23 Q1241.07 1536.5 1236.39 1536.5 M1236.39 1531.54 Q1244.03 1531.54 1248.39 1536.5 Q1252.75 1541.47 1252.75 1550.25 Q1252.75 1559 1248.39 1564 Q1244.03 1568.97 1236.39 1568.97 Q1228.72 1568.97 1224.36 1564 Q1220.03 1559 1220.03 1550.25 Q1220.03 1541.47 1224.36 1536.5 Q1228.72 1531.54 1236.39 1531.54 Z\" fill=\"#000000\" fill-rule=\"evenodd\" fill-opacity=\"1\" /><path clip-path=\"url(#clip670)\" d=\"M1268.13 1562.7 L1268.13 1581.6 L1262.24 1581.6 L1262.24 1532.4 L1268.13 1532.4 L1268.13 1537.81 Q1269.97 1534.62 1272.77 1533.1 Q1275.61 1531.54 1279.52 1531.54 Q1286.01 1531.54 1290.06 1536.69 Q1294.13 1541.85 1294.13 1550.25 Q1294.13 1558.65 1290.06 1563.81 Q1286.01 1568.97 1279.52 1568.97 Q1275.61 1568.97 1272.77 1567.44 Q1269.97 1565.88 1268.13 1562.7 M1288.05 1550.25 Q1288.05 1543.79 1285.38 1540.13 Q1282.74 1536.44 1278.09 1536.44 Q1273.44 1536.44 1270.77 1540.13 Q1268.13 1543.79 1268.13 1550.25 Q1268.13 1556.71 1270.77 1560.4 Q1273.44 1564.07 1278.09 1564.07 Q1282.74 1564.07 1285.38 1560.4 Q1288.05 1556.71 1288.05 1550.25 Z\" fill=\"#000000\" fill-rule=\"evenodd\" fill-opacity=\"1\" /><path clip-path=\"url(#clip670)\" d=\"M1303.23 1553.98 L1303.23 1532.4 L1309.09 1532.4 L1309.09 1553.75 Q1309.09 1558.81 1311.06 1561.36 Q1313.04 1563.87 1316.98 1563.87 Q1321.73 1563.87 1324.46 1560.85 Q1327.23 1557.83 1327.23 1552.61 L1327.23 1532.4 L1333.09 1532.4 L1333.09 1568.04 L1327.23 1568.04 L1327.23 1562.57 Q1325.1 1565.82 1322.27 1567.41 Q1319.47 1568.97 1315.74 1568.97 Q1309.6 1568.97 1306.42 1565.15 Q1303.23 1561.33 1303.23 1553.98 M1317.97 1531.54 L1317.97 1531.54 Z\" fill=\"#000000\" fill-rule=\"evenodd\" fill-opacity=\"1\" /><path clip-path=\"url(#clip670)\" d=\"M1345.15 1518.52 L1351.01 1518.52 L1351.01 1568.04 L1345.15 1568.04 L1345.15 1518.52 Z\" fill=\"#000000\" fill-rule=\"evenodd\" fill-opacity=\"1\" /><path clip-path=\"url(#clip670)\" d=\"M1379.46 1550.12 Q1372.37 1550.12 1369.63 1551.75 Q1366.89 1553.37 1366.89 1557.29 Q1366.89 1560.4 1368.93 1562.25 Q1371 1564.07 1374.53 1564.07 Q1379.4 1564.07 1382.33 1560.63 Q1385.29 1557.16 1385.29 1551.43 L1385.29 1550.12 L1379.46 1550.12 M1391.14 1547.71 L1391.14 1568.04 L1385.29 1568.04 L1385.29 1562.63 Q1383.28 1565.88 1380.29 1567.44 Q1377.3 1568.97 1372.97 1568.97 Q1367.5 1568.97 1364.25 1565.91 Q1361.03 1562.82 1361.03 1557.67 Q1361.03 1551.65 1365.04 1548.6 Q1369.09 1545.54 1377.08 1545.54 L1385.29 1545.54 L1385.29 1544.97 Q1385.29 1540.93 1382.61 1538.73 Q1379.97 1536.5 1375.17 1536.5 Q1372.11 1536.5 1369.21 1537.23 Q1366.32 1537.97 1363.64 1539.43 L1363.64 1534.02 Q1366.86 1532.78 1369.88 1532.17 Q1372.91 1531.54 1375.77 1531.54 Q1383.51 1531.54 1387.32 1535.55 Q1391.14 1539.56 1391.14 1547.71 Z\" fill=\"#000000\" fill-rule=\"evenodd\" fill-opacity=\"1\" /><path clip-path=\"url(#clip670)\" d=\"M1409 1522.27 L1409 1532.4 L1421.06 1532.4 L1421.06 1536.95 L1409 1536.95 L1409 1556.3 Q1409 1560.66 1410.18 1561.9 Q1411.39 1563.14 1415.05 1563.14 L1421.06 1563.14 L1421.06 1568.04 L1415.05 1568.04 Q1408.27 1568.04 1405.69 1565.53 Q1403.11 1562.98 1403.11 1556.3 L1403.11 1536.95 L1398.81 1536.95 L1398.81 1532.4 L1403.11 1532.4 L1403.11 1522.27 L1409 1522.27 Z\" fill=\"#000000\" fill-rule=\"evenodd\" fill-opacity=\"1\" /><path clip-path=\"url(#clip670)\" d=\"M1428.77 1532.4 L1434.62 1532.4 L1434.62 1568.04 L1428.77 1568.04 L1428.77 1532.4 M1428.77 1518.52 L1434.62 1518.52 L1434.62 1525.93 L1428.77 1525.93 L1428.77 1518.52 Z\" fill=\"#000000\" fill-rule=\"evenodd\" fill-opacity=\"1\" /><path clip-path=\"url(#clip670)\" d=\"M1460.69 1536.5 Q1455.98 1536.5 1453.24 1540.19 Q1450.5 1543.85 1450.5 1550.25 Q1450.5 1556.65 1453.21 1560.34 Q1455.95 1564 1460.69 1564 Q1465.37 1564 1468.11 1560.31 Q1470.84 1556.62 1470.84 1550.25 Q1470.84 1543.92 1468.11 1540.23 Q1465.37 1536.5 1460.69 1536.5 M1460.69 1531.54 Q1468.33 1531.54 1472.69 1536.5 Q1477.05 1541.47 1477.05 1550.25 Q1477.05 1559 1472.69 1564 Q1468.33 1568.97 1460.69 1568.97 Q1453.02 1568.97 1448.66 1564 Q1444.33 1559 1444.33 1550.25 Q1444.33 1541.47 1448.66 1536.5 Q1453.02 1531.54 1460.69 1531.54 Z\" fill=\"#000000\" fill-rule=\"evenodd\" fill-opacity=\"1\" /><path clip-path=\"url(#clip670)\" d=\"M1516.39 1546.53 L1516.39 1568.04 L1510.53 1568.04 L1510.53 1546.72 Q1510.53 1541.66 1508.56 1539.14 Q1506.59 1536.63 1502.64 1536.63 Q1497.9 1536.63 1495.16 1539.65 Q1492.42 1542.68 1492.42 1547.9 L1492.42 1568.04 L1486.53 1568.04 L1486.53 1532.4 L1492.42 1532.4 L1492.42 1537.93 Q1494.52 1534.72 1497.36 1533.13 Q1500.22 1531.54 1503.94 1531.54 Q1510.09 1531.54 1513.24 1535.36 Q1516.39 1539.14 1516.39 1546.53 Z\" fill=\"#000000\" fill-rule=\"evenodd\" fill-opacity=\"1\" /><path clip-path=\"url(#clip670)\" d=\"M1548.79 1532.4 L1554.65 1532.4 L1554.65 1568.04 L1548.79 1568.04 L1548.79 1532.4 M1548.79 1518.52 L1554.65 1518.52 L1554.65 1525.93 L1548.79 1525.93 L1548.79 1518.52 Z\" fill=\"#000000\" fill-rule=\"evenodd\" fill-opacity=\"1\" /><path clip-path=\"url(#clip670)\" d=\"M1596.53 1546.53 L1596.53 1568.04 L1590.68 1568.04 L1590.68 1546.72 Q1590.68 1541.66 1588.7 1539.14 Q1586.73 1536.63 1582.78 1536.63 Q1578.04 1536.63 1575.3 1539.65 Q1572.57 1542.68 1572.57 1547.9 L1572.57 1568.04 L1566.68 1568.04 L1566.68 1532.4 L1572.57 1532.4 L1572.57 1537.93 Q1574.67 1534.72 1577.5 1533.13 Q1580.36 1531.54 1584.09 1531.54 Q1590.23 1531.54 1593.38 1535.36 Q1596.53 1539.14 1596.53 1546.53 Z\" fill=\"#000000\" fill-rule=\"evenodd\" fill-opacity=\"1\" /><path clip-path=\"url(#clip670)\" d=\"M1626.26 1518.52 L1626.26 1523.39 L1620.66 1523.39 Q1617.51 1523.39 1616.27 1524.66 Q1615.06 1525.93 1615.06 1529.24 L1615.06 1532.4 L1624.7 1532.4 L1624.7 1536.95 L1615.06 1536.95 L1615.06 1568.04 L1609.17 1568.04 L1609.17 1536.95 L1603.57 1536.95 L1603.57 1532.4 L1609.17 1532.4 L1609.17 1529.91 Q1609.17 1523.96 1611.94 1521.26 Q1614.71 1518.52 1620.72 1518.52 L1626.26 1518.52 Z\" fill=\"#000000\" fill-rule=\"evenodd\" fill-opacity=\"1\" /><path clip-path=\"url(#clip670)\" d=\"M1661.65 1548.76 L1661.65 1551.62 L1634.73 1551.62 Q1635.11 1557.67 1638.36 1560.85 Q1641.63 1564 1647.46 1564 Q1650.83 1564 1653.98 1563.17 Q1657.17 1562.35 1660.29 1560.69 L1660.29 1566.23 Q1657.14 1567.57 1653.83 1568.27 Q1650.51 1568.97 1647.11 1568.97 Q1638.58 1568.97 1633.58 1564 Q1628.62 1559.04 1628.62 1550.57 Q1628.62 1541.82 1633.33 1536.69 Q1638.07 1531.54 1646.09 1531.54 Q1653.28 1531.54 1657.45 1536.18 Q1661.65 1540.8 1661.65 1548.76 M1655.8 1547.04 Q1655.73 1542.23 1653.09 1539.37 Q1650.48 1536.5 1646.15 1536.5 Q1641.25 1536.5 1638.29 1539.27 Q1635.36 1542.04 1634.92 1547.07 L1655.8 1547.04 Z\" fill=\"#000000\" fill-rule=\"evenodd\" fill-opacity=\"1\" /><path clip-path=\"url(#clip670)\" d=\"M1696.92 1533.76 L1696.92 1539.24 Q1694.44 1537.87 1691.92 1537.2 Q1689.44 1536.5 1686.89 1536.5 Q1681.2 1536.5 1678.05 1540.13 Q1674.9 1543.73 1674.9 1550.25 Q1674.9 1556.78 1678.05 1560.4 Q1681.2 1564 1686.89 1564 Q1689.44 1564 1691.92 1563.33 Q1694.44 1562.63 1696.92 1561.26 L1696.92 1566.68 Q1694.47 1567.82 1691.83 1568.39 Q1689.22 1568.97 1686.26 1568.97 Q1678.21 1568.97 1673.46 1563.91 Q1668.72 1558.85 1668.72 1550.25 Q1668.72 1541.53 1673.5 1536.53 Q1678.3 1531.54 1686.64 1531.54 Q1689.35 1531.54 1691.92 1532.11 Q1694.5 1532.65 1696.92 1533.76 Z\" fill=\"#000000\" fill-rule=\"evenodd\" fill-opacity=\"1\" /><path clip-path=\"url(#clip670)\" d=\"M1712.9 1522.27 L1712.9 1532.4 L1724.96 1532.4 L1724.96 1536.95 L1712.9 1536.95 L1712.9 1556.3 Q1712.9 1560.66 1714.08 1561.9 Q1715.29 1563.14 1718.95 1563.14 L1724.96 1563.14 L1724.96 1568.04 L1718.95 1568.04 Q1712.17 1568.04 1709.59 1565.53 Q1707.01 1562.98 1707.01 1556.3 L1707.01 1536.95 L1702.71 1536.95 L1702.71 1532.4 L1707.01 1532.4 L1707.01 1522.27 L1712.9 1522.27 Z\" fill=\"#000000\" fill-rule=\"evenodd\" fill-opacity=\"1\" /><path clip-path=\"url(#clip670)\" d=\"M1763.16 1548.76 L1763.16 1551.62 L1736.23 1551.62 Q1736.61 1557.67 1739.86 1560.85 Q1743.14 1564 1748.96 1564 Q1752.33 1564 1755.49 1563.17 Q1758.67 1562.35 1761.79 1560.69 L1761.79 1566.23 Q1758.64 1567.57 1755.33 1568.27 Q1752.02 1568.97 1748.61 1568.97 Q1740.08 1568.97 1735.08 1564 Q1730.12 1559.04 1730.12 1550.57 Q1730.12 1541.82 1734.83 1536.69 Q1739.57 1531.54 1747.59 1531.54 Q1754.79 1531.54 1758.95 1536.18 Q1763.16 1540.8 1763.16 1548.76 M1757.3 1547.04 Q1757.24 1542.23 1754.59 1539.37 Q1751.98 1536.5 1747.66 1536.5 Q1742.75 1536.5 1739.79 1539.27 Q1736.87 1542.04 1736.42 1547.07 L1757.3 1547.04 Z\" fill=\"#000000\" fill-rule=\"evenodd\" fill-opacity=\"1\" /><path clip-path=\"url(#clip670)\" d=\"M1796.23 1537.81 L1796.23 1518.52 L1802.08 1518.52 L1802.08 1568.04 L1796.23 1568.04 L1796.23 1562.7 Q1794.38 1565.88 1791.55 1567.44 Q1788.75 1568.97 1784.8 1568.97 Q1778.34 1568.97 1774.26 1563.81 Q1770.22 1558.65 1770.22 1550.25 Q1770.22 1541.85 1774.26 1536.69 Q1778.34 1531.54 1784.8 1531.54 Q1788.75 1531.54 1791.55 1533.1 Q1794.38 1534.62 1796.23 1537.81 M1776.27 1550.25 Q1776.27 1556.71 1778.91 1560.4 Q1781.58 1564.07 1786.23 1564.07 Q1790.88 1564.07 1793.55 1560.4 Q1796.23 1556.71 1796.23 1550.25 Q1796.23 1543.79 1793.55 1540.13 Q1790.88 1536.44 1786.23 1536.44 Q1781.58 1536.44 1778.91 1540.13 Q1776.27 1543.79 1776.27 1550.25 Z\" fill=\"#000000\" fill-rule=\"evenodd\" fill-opacity=\"1\" /><path clip-path=\"url(#clip670)\" d=\"M1815.64 1559.96 L1822.36 1559.96 L1822.36 1565.43 L1817.14 1575.62 L1813.03 1575.62 L1815.64 1565.43 L1815.64 1559.96 Z\" fill=\"#000000\" fill-rule=\"evenodd\" fill-opacity=\"1\" /><path clip-path=\"url(#clip670)\" d=\"M1855.59 1532.4 L1861.44 1532.4 L1861.44 1568.04 L1855.59 1568.04 L1855.59 1532.4 M1855.59 1518.52 L1861.44 1518.52 L1861.44 1525.93 L1855.59 1525.93 L1855.59 1518.52 Z\" fill=\"#000000\" fill-rule=\"evenodd\" fill-opacity=\"1\" /><polyline clip-path=\"url(#clip672)\" style=\"stroke:#000000; stroke-linecap:round; stroke-linejoin:round; stroke-width:2; stroke-opacity:0.1; fill:none\" points=\"\n",
       "  249.542,1384.24 2352.76,1384.24 \n",
       "  \"/>\n",
       "<polyline clip-path=\"url(#clip672)\" style=\"stroke:#000000; stroke-linecap:round; stroke-linejoin:round; stroke-width:2; stroke-opacity:0.1; fill:none\" points=\"\n",
       "  249.542,983.716 2352.76,983.716 \n",
       "  \"/>\n",
       "<polyline clip-path=\"url(#clip672)\" style=\"stroke:#000000; stroke-linecap:round; stroke-linejoin:round; stroke-width:2; stroke-opacity:0.1; fill:none\" points=\"\n",
       "  249.542,583.194 2352.76,583.194 \n",
       "  \"/>\n",
       "<polyline clip-path=\"url(#clip672)\" style=\"stroke:#000000; stroke-linecap:round; stroke-linejoin:round; stroke-width:2; stroke-opacity:0.1; fill:none\" points=\"\n",
       "  249.542,182.672 2352.76,182.672 \n",
       "  \"/>\n",
       "<polyline clip-path=\"url(#clip670)\" style=\"stroke:#000000; stroke-linecap:round; stroke-linejoin:round; stroke-width:4; stroke-opacity:1; fill:none\" points=\"\n",
       "  249.542,1423.18 249.542,47.2441 \n",
       "  \"/>\n",
       "<polyline clip-path=\"url(#clip670)\" style=\"stroke:#000000; stroke-linecap:round; stroke-linejoin:round; stroke-width:4; stroke-opacity:1; fill:none\" points=\"\n",
       "  249.542,1384.24 268.44,1384.24 \n",
       "  \"/>\n",
       "<polyline clip-path=\"url(#clip670)\" style=\"stroke:#000000; stroke-linecap:round; stroke-linejoin:round; stroke-width:4; stroke-opacity:1; fill:none\" points=\"\n",
       "  249.542,983.716 268.44,983.716 \n",
       "  \"/>\n",
       "<polyline clip-path=\"url(#clip670)\" style=\"stroke:#000000; stroke-linecap:round; stroke-linejoin:round; stroke-width:4; stroke-opacity:1; fill:none\" points=\"\n",
       "  249.542,583.194 268.44,583.194 \n",
       "  \"/>\n",
       "<polyline clip-path=\"url(#clip670)\" style=\"stroke:#000000; stroke-linecap:round; stroke-linejoin:round; stroke-width:4; stroke-opacity:1; fill:none\" points=\"\n",
       "  249.542,182.672 268.44,182.672 \n",
       "  \"/>\n",
       "<path clip-path=\"url(#clip670)\" d=\"M126.205 1370.04 Q122.593 1370.04 120.765 1373.6 Q118.959 1377.14 118.959 1384.27 Q118.959 1391.38 120.765 1394.94 Q122.593 1398.49 126.205 1398.49 Q129.839 1398.49 131.644 1394.94 Q133.473 1391.38 133.473 1384.27 Q133.473 1377.14 131.644 1373.6 Q129.839 1370.04 126.205 1370.04 M126.205 1366.33 Q132.015 1366.33 135.07 1370.94 Q138.149 1375.52 138.149 1384.27 Q138.149 1393 135.07 1397.61 Q132.015 1402.19 126.205 1402.19 Q120.394 1402.19 117.316 1397.61 Q114.26 1393 114.26 1384.27 Q114.26 1375.52 117.316 1370.94 Q120.394 1366.33 126.205 1366.33 Z\" fill=\"#000000\" fill-rule=\"evenodd\" fill-opacity=\"1\" /><path clip-path=\"url(#clip670)\" d=\"M146.366 1395.64 L151.251 1395.64 L151.251 1401.52 L146.366 1401.52 L146.366 1395.64 Z\" fill=\"#000000\" fill-rule=\"evenodd\" fill-opacity=\"1\" /><path clip-path=\"url(#clip670)\" d=\"M171.436 1370.04 Q167.825 1370.04 165.996 1373.6 Q164.19 1377.14 164.19 1384.27 Q164.19 1391.38 165.996 1394.94 Q167.825 1398.49 171.436 1398.49 Q175.07 1398.49 176.876 1394.94 Q178.704 1391.38 178.704 1384.27 Q178.704 1377.14 176.876 1373.6 Q175.07 1370.04 171.436 1370.04 M171.436 1366.33 Q177.246 1366.33 180.301 1370.94 Q183.38 1375.52 183.38 1384.27 Q183.38 1393 180.301 1397.61 Q177.246 1402.19 171.436 1402.19 Q165.626 1402.19 162.547 1397.61 Q159.491 1393 159.491 1384.27 Q159.491 1375.52 162.547 1370.94 Q165.626 1366.33 171.436 1366.33 Z\" fill=\"#000000\" fill-rule=\"evenodd\" fill-opacity=\"1\" /><path clip-path=\"url(#clip670)\" d=\"M201.598 1370.04 Q197.987 1370.04 196.158 1373.6 Q194.352 1377.14 194.352 1384.27 Q194.352 1391.38 196.158 1394.94 Q197.987 1398.49 201.598 1398.49 Q205.232 1398.49 207.037 1394.94 Q208.866 1391.38 208.866 1384.27 Q208.866 1377.14 207.037 1373.6 Q205.232 1370.04 201.598 1370.04 M201.598 1366.33 Q207.408 1366.33 210.463 1370.94 Q213.542 1375.52 213.542 1384.27 Q213.542 1393 210.463 1397.61 Q207.408 1402.19 201.598 1402.19 Q195.787 1402.19 192.709 1397.61 Q189.653 1393 189.653 1384.27 Q189.653 1375.52 192.709 1370.94 Q195.787 1366.33 201.598 1366.33 Z\" fill=\"#000000\" fill-rule=\"evenodd\" fill-opacity=\"1\" /><path clip-path=\"url(#clip670)\" d=\"M127.2 969.515 Q123.589 969.515 121.76 973.08 Q119.955 976.621 119.955 983.751 Q119.955 990.857 121.76 994.422 Q123.589 997.964 127.2 997.964 Q130.834 997.964 132.64 994.422 Q134.468 990.857 134.468 983.751 Q134.468 976.621 132.64 973.08 Q130.834 969.515 127.2 969.515 M127.2 965.811 Q133.01 965.811 136.066 970.418 Q139.144 975.001 139.144 983.751 Q139.144 992.478 136.066 997.084 Q133.01 1001.67 127.2 1001.67 Q121.39 1001.67 118.311 997.084 Q115.256 992.478 115.256 983.751 Q115.256 975.001 118.311 970.418 Q121.39 965.811 127.2 965.811 Z\" fill=\"#000000\" fill-rule=\"evenodd\" fill-opacity=\"1\" /><path clip-path=\"url(#clip670)\" d=\"M147.362 995.117 L152.246 995.117 L152.246 1001 L147.362 1001 L147.362 995.117 Z\" fill=\"#000000\" fill-rule=\"evenodd\" fill-opacity=\"1\" /><path clip-path=\"url(#clip670)\" d=\"M172.431 969.515 Q168.82 969.515 166.991 973.08 Q165.186 976.621 165.186 983.751 Q165.186 990.857 166.991 994.422 Q168.82 997.964 172.431 997.964 Q176.065 997.964 177.871 994.422 Q179.7 990.857 179.7 983.751 Q179.7 976.621 177.871 973.08 Q176.065 969.515 172.431 969.515 M172.431 965.811 Q178.241 965.811 181.297 970.418 Q184.376 975.001 184.376 983.751 Q184.376 992.478 181.297 997.084 Q178.241 1001.67 172.431 1001.67 Q166.621 1001.67 163.542 997.084 Q160.487 992.478 160.487 983.751 Q160.487 975.001 163.542 970.418 Q166.621 965.811 172.431 965.811 Z\" fill=\"#000000\" fill-rule=\"evenodd\" fill-opacity=\"1\" /><path clip-path=\"url(#clip670)\" d=\"M192.639 966.436 L210.996 966.436 L210.996 970.371 L196.922 970.371 L196.922 978.844 Q197.94 978.496 198.959 978.334 Q199.977 978.149 200.996 978.149 Q206.783 978.149 210.162 981.32 Q213.542 984.492 213.542 989.908 Q213.542 995.487 210.07 998.589 Q206.598 1001.67 200.278 1001.67 Q198.102 1001.67 195.834 1001.3 Q193.588 1000.93 191.181 1000.19 L191.181 995.487 Q193.264 996.621 195.487 997.177 Q197.709 997.732 200.186 997.732 Q204.19 997.732 206.528 995.626 Q208.866 993.519 208.866 989.908 Q208.866 986.297 206.528 984.191 Q204.19 982.084 200.186 982.084 Q198.311 982.084 196.436 982.501 Q194.584 982.918 192.639 983.797 L192.639 966.436 Z\" fill=\"#000000\" fill-rule=\"evenodd\" fill-opacity=\"1\" /><path clip-path=\"url(#clip670)\" d=\"M126.205 568.993 Q122.593 568.993 120.765 572.558 Q118.959 576.099 118.959 583.229 Q118.959 590.335 120.765 593.9 Q122.593 597.442 126.205 597.442 Q129.839 597.442 131.644 593.9 Q133.473 590.335 133.473 583.229 Q133.473 576.099 131.644 572.558 Q129.839 568.993 126.205 568.993 M126.205 565.289 Q132.015 565.289 135.07 569.896 Q138.149 574.479 138.149 583.229 Q138.149 591.956 135.07 596.562 Q132.015 601.145 126.205 601.145 Q120.394 601.145 117.316 596.562 Q114.26 591.956 114.26 583.229 Q114.26 574.479 117.316 569.896 Q120.394 565.289 126.205 565.289 Z\" fill=\"#000000\" fill-rule=\"evenodd\" fill-opacity=\"1\" /><path clip-path=\"url(#clip670)\" d=\"M146.366 594.595 L151.251 594.595 L151.251 600.474 L146.366 600.474 L146.366 594.595 Z\" fill=\"#000000\" fill-rule=\"evenodd\" fill-opacity=\"1\" /><path clip-path=\"url(#clip670)\" d=\"M162.246 596.539 L169.885 596.539 L169.885 570.173 L161.575 571.84 L161.575 567.581 L169.839 565.914 L174.514 565.914 L174.514 596.539 L182.153 596.539 L182.153 600.474 L162.246 600.474 L162.246 596.539 Z\" fill=\"#000000\" fill-rule=\"evenodd\" fill-opacity=\"1\" /><path clip-path=\"url(#clip670)\" d=\"M201.598 568.993 Q197.987 568.993 196.158 572.558 Q194.352 576.099 194.352 583.229 Q194.352 590.335 196.158 593.9 Q197.987 597.442 201.598 597.442 Q205.232 597.442 207.037 593.9 Q208.866 590.335 208.866 583.229 Q208.866 576.099 207.037 572.558 Q205.232 568.993 201.598 568.993 M201.598 565.289 Q207.408 565.289 210.463 569.896 Q213.542 574.479 213.542 583.229 Q213.542 591.956 210.463 596.562 Q207.408 601.145 201.598 601.145 Q195.787 601.145 192.709 596.562 Q189.653 591.956 189.653 583.229 Q189.653 574.479 192.709 569.896 Q195.787 565.289 201.598 565.289 Z\" fill=\"#000000\" fill-rule=\"evenodd\" fill-opacity=\"1\" /><path clip-path=\"url(#clip670)\" d=\"M127.2 168.471 Q123.589 168.471 121.76 172.036 Q119.955 175.577 119.955 182.707 Q119.955 189.813 121.76 193.378 Q123.589 196.92 127.2 196.92 Q130.834 196.92 132.64 193.378 Q134.468 189.813 134.468 182.707 Q134.468 175.577 132.64 172.036 Q130.834 168.471 127.2 168.471 M127.2 164.767 Q133.01 164.767 136.066 169.374 Q139.144 173.957 139.144 182.707 Q139.144 191.434 136.066 196.04 Q133.01 200.623 127.2 200.623 Q121.39 200.623 118.311 196.04 Q115.256 191.434 115.256 182.707 Q115.256 173.957 118.311 169.374 Q121.39 164.767 127.2 164.767 Z\" fill=\"#000000\" fill-rule=\"evenodd\" fill-opacity=\"1\" /><path clip-path=\"url(#clip670)\" d=\"M147.362 194.072 L152.246 194.072 L152.246 199.952 L147.362 199.952 L147.362 194.072 Z\" fill=\"#000000\" fill-rule=\"evenodd\" fill-opacity=\"1\" /><path clip-path=\"url(#clip670)\" d=\"M163.241 196.017 L170.88 196.017 L170.88 169.651 L162.57 171.318 L162.57 167.059 L170.834 165.392 L175.51 165.392 L175.51 196.017 L183.149 196.017 L183.149 199.952 L163.241 199.952 L163.241 196.017 Z\" fill=\"#000000\" fill-rule=\"evenodd\" fill-opacity=\"1\" /><path clip-path=\"url(#clip670)\" d=\"M192.639 165.392 L210.996 165.392 L210.996 169.327 L196.922 169.327 L196.922 177.799 Q197.94 177.452 198.959 177.29 Q199.977 177.105 200.996 177.105 Q206.783 177.105 210.162 180.276 Q213.542 183.447 213.542 188.864 Q213.542 194.443 210.07 197.545 Q206.598 200.623 200.278 200.623 Q198.102 200.623 195.834 200.253 Q193.588 199.883 191.181 199.142 L191.181 194.443 Q193.264 195.577 195.487 196.133 Q197.709 196.688 200.186 196.688 Q204.19 196.688 206.528 194.582 Q208.866 192.475 208.866 188.864 Q208.866 185.253 206.528 183.147 Q204.19 181.04 200.186 181.04 Q198.311 181.04 196.436 181.457 Q194.584 181.873 192.639 182.753 L192.639 165.392 Z\" fill=\"#000000\" fill-rule=\"evenodd\" fill-opacity=\"1\" /><path clip-path=\"url(#clip670)\" d=\"M16.4842 1052.96 L16.4842 1025.65 L21.895 1025.65 L21.895 1046.53 L35.8996 1046.53 L35.8996 1027.68 L41.3104 1027.68 L41.3104 1046.53 L64.0042 1046.53 L64.0042 1052.96 L16.4842 1052.96 Z\" fill=\"#000000\" fill-rule=\"evenodd\" fill-opacity=\"1\" /><path clip-path=\"url(#clip670)\" d=\"M32.4621 1004.23 Q32.4621 1008.94 36.1542 1011.67 Q39.8145 1014.41 46.212 1014.41 Q52.6095 1014.41 56.3017 1011.71 Q59.9619 1008.97 59.9619 1004.23 Q59.9619 999.548 56.2698 996.811 Q52.5777 994.073 46.212 994.073 Q39.8781 994.073 36.186 996.811 Q32.4621 999.548 32.4621 1004.23 M27.4968 1004.23 Q27.4968 996.588 32.4621 992.227 Q37.4273 987.867 46.212 987.867 Q54.9649 987.867 59.9619 992.227 Q64.9272 996.588 64.9272 1004.23 Q64.9272 1011.9 59.9619 1016.26 Q54.9649 1020.59 46.212 1020.59 Q37.4273 1020.59 32.4621 1016.26 Q27.4968 1011.9 27.4968 1004.23 Z\" fill=\"#000000\" fill-rule=\"evenodd\" fill-opacity=\"1\" /><path clip-path=\"url(#clip670)\" d=\"M33.8307 957.502 Q33.2578 958.489 33.0032 959.667 Q32.7167 960.813 32.7167 962.213 Q32.7167 967.178 35.9632 969.852 Q39.1779 972.494 45.2253 972.494 L64.0042 972.494 L64.0042 978.382 L28.3562 978.382 L28.3562 972.494 L33.8944 972.494 Q30.6479 970.648 29.0883 967.688 Q27.4968 964.728 27.4968 960.494 Q27.4968 959.89 27.5923 959.158 Q27.656 958.425 27.8151 957.534 L33.8307 957.502 Z\" fill=\"#000000\" fill-rule=\"evenodd\" fill-opacity=\"1\" /><path clip-path=\"url(#clip670)\" d=\"M29.7248 927.138 L35.1993 927.138 Q33.8307 929.621 33.1623 932.135 Q32.4621 934.618 32.4621 937.164 Q32.4621 942.861 36.0905 946.012 Q39.6872 949.163 46.212 949.163 Q52.7369 949.163 56.3653 946.012 Q59.9619 942.861 59.9619 937.164 Q59.9619 934.618 59.2935 932.135 Q58.5933 929.621 57.2247 927.138 L62.6355 927.138 Q63.7814 929.589 64.3543 932.231 Q64.9272 934.841 64.9272 937.801 Q64.9272 945.853 59.8664 950.596 Q54.8057 955.338 46.212 955.338 Q37.491 955.338 32.4939 950.564 Q27.4968 945.758 27.4968 937.419 Q27.4968 934.713 28.0697 932.135 Q28.6108 929.557 29.7248 927.138 Z\" fill=\"#000000\" fill-rule=\"evenodd\" fill-opacity=\"1\" /><path clip-path=\"url(#clip670)\" d=\"M44.7161 886.461 L47.5806 886.461 L47.5806 913.388 Q53.6281 913.006 56.8109 909.76 Q59.9619 906.481 59.9619 900.657 Q59.9619 897.283 59.1344 894.132 Q58.3069 890.949 56.6518 887.83 L62.1899 887.83 Q63.5267 890.981 64.227 894.291 Q64.9272 897.601 64.9272 901.007 Q64.9272 909.537 59.9619 914.534 Q54.9967 919.499 46.5303 919.499 Q37.7774 919.499 32.6531 914.789 Q27.4968 910.046 27.4968 902.025 Q27.4968 894.832 32.1438 890.663 Q36.7589 886.461 44.7161 886.461 M42.9973 892.318 Q38.1912 892.381 35.3266 895.023 Q32.4621 897.633 32.4621 901.962 Q32.4621 906.863 35.2312 909.823 Q38.0002 912.752 43.0292 913.197 L42.9973 892.318 Z\" fill=\"#000000\" fill-rule=\"evenodd\" fill-opacity=\"1\" /><path clip-path=\"url(#clip670)\" d=\"M32.4621 842.315 Q32.4621 847.026 36.1542 849.763 Q39.8145 852.5 46.212 852.5 Q52.6095 852.5 56.3017 849.795 Q59.9619 847.057 59.9619 842.315 Q59.9619 837.636 56.2698 834.899 Q52.5777 832.162 46.212 832.162 Q39.8781 832.162 36.186 834.899 Q32.4621 837.636 32.4621 842.315 M27.4968 842.315 Q27.4968 834.676 32.4621 830.316 Q37.4273 825.955 46.212 825.955 Q54.9649 825.955 59.9619 830.316 Q64.9272 834.676 64.9272 842.315 Q64.9272 849.986 59.9619 854.346 Q54.9649 858.675 46.212 858.675 Q37.4273 858.675 32.4621 854.346 Q27.4968 849.986 27.4968 842.315 Z\" fill=\"#000000\" fill-rule=\"evenodd\" fill-opacity=\"1\" /><path clip-path=\"url(#clip670)\" d=\"M14.479 798.201 L19.3487 798.201 L19.3487 803.802 Q19.3487 806.953 20.6219 808.195 Q21.895 809.404 25.2052 809.404 L28.3562 809.404 L28.3562 799.76 L32.9077 799.76 L32.9077 809.404 L64.0042 809.404 L64.0042 815.293 L32.9077 815.293 L32.9077 820.894 L28.3562 820.894 L28.3562 815.293 L25.8736 815.293 Q19.9216 815.293 17.2162 812.523 Q14.479 809.754 14.479 803.739 L14.479 798.201 Z\" fill=\"#000000\" fill-rule=\"evenodd\" fill-opacity=\"1\" /><path clip-path=\"url(#clip670)\" d=\"M28.3562 772.579 L28.3562 766.722 L64.0042 766.722 L64.0042 772.579 L28.3562 772.579 M14.479 772.579 L14.479 766.722 L21.895 766.722 L21.895 772.579 L14.479 772.579 Z\" fill=\"#000000\" fill-rule=\"evenodd\" fill-opacity=\"1\" /><path clip-path=\"url(#clip670)\" d=\"M42.4881 724.836 L64.0042 724.836 L64.0042 730.692 L42.679 730.692 Q37.6183 730.692 35.1038 732.666 Q32.5894 734.639 32.5894 738.586 Q32.5894 743.328 35.6131 746.065 Q38.6368 748.803 43.8567 748.803 L64.0042 748.803 L64.0042 754.691 L28.3562 754.691 L28.3562 748.803 L33.8944 748.803 Q30.6797 746.702 29.0883 743.869 Q27.4968 741.005 27.4968 737.281 Q27.4968 731.138 31.3163 727.987 Q35.1038 724.836 42.4881 724.836 Z\" fill=\"#000000\" fill-rule=\"evenodd\" fill-opacity=\"1\" /><path clip-path=\"url(#clip670)\" d=\"M14.479 695.108 L19.3487 695.108 L19.3487 700.71 Q19.3487 703.861 20.6219 705.102 Q21.895 706.312 25.2052 706.312 L28.3562 706.312 L28.3562 696.668 L32.9077 696.668 L32.9077 706.312 L64.0042 706.312 L64.0042 712.2 L32.9077 712.2 L32.9077 717.802 L28.3562 717.802 L28.3562 712.2 L25.8736 712.2 Q19.9216 712.2 17.2162 709.431 Q14.479 706.662 14.479 700.646 L14.479 695.108 Z\" fill=\"#000000\" fill-rule=\"evenodd\" fill-opacity=\"1\" /><path clip-path=\"url(#clip670)\" d=\"M44.7161 659.715 L47.5806 659.715 L47.5806 686.642 Q53.6281 686.26 56.8109 683.013 Q59.9619 679.735 59.9619 673.91 Q59.9619 670.536 59.1344 667.385 Q58.3069 664.203 56.6518 661.083 L62.1899 661.083 Q63.5267 664.234 64.227 667.545 Q64.9272 670.855 64.9272 674.26 Q64.9272 682.79 59.9619 687.787 Q54.9967 692.753 46.5303 692.753 Q37.7774 692.753 32.6531 688.042 Q27.4968 683.3 27.4968 675.279 Q27.4968 668.086 32.1438 663.916 Q36.7589 659.715 44.7161 659.715 M42.9973 665.571 Q38.1912 665.635 35.3266 668.277 Q32.4621 670.887 32.4621 675.215 Q32.4621 680.117 35.2312 683.077 Q38.0002 686.005 43.0292 686.451 L42.9973 665.571 Z\" fill=\"#000000\" fill-rule=\"evenodd\" fill-opacity=\"1\" /><path clip-path=\"url(#clip670)\" d=\"M29.7248 624.449 L35.1993 624.449 Q33.8307 626.931 33.1623 629.446 Q32.4621 631.928 32.4621 634.475 Q32.4621 640.172 36.0905 643.323 Q39.6872 646.474 46.212 646.474 Q52.7369 646.474 56.3653 643.323 Q59.9619 640.172 59.9619 634.475 Q59.9619 631.928 59.2935 629.446 Q58.5933 626.931 57.2247 624.449 L62.6355 624.449 Q63.7814 626.899 64.3543 629.541 Q64.9272 632.151 64.9272 635.111 Q64.9272 643.164 59.8664 647.906 Q54.8057 652.649 46.212 652.649 Q37.491 652.649 32.4939 647.874 Q27.4968 643.068 27.4968 634.729 Q27.4968 632.024 28.0697 629.446 Q28.6108 626.868 29.7248 624.449 Z\" fill=\"#000000\" fill-rule=\"evenodd\" fill-opacity=\"1\" /><path clip-path=\"url(#clip670)\" d=\"M18.2347 608.471 L28.3562 608.471 L28.3562 596.408 L32.9077 596.408 L32.9077 608.471 L52.2594 608.471 Q56.6199 608.471 57.8613 607.293 Q59.1026 606.084 59.1026 602.423 L59.1026 596.408 L64.0042 596.408 L64.0042 602.423 Q64.0042 609.203 61.4897 611.781 Q58.9434 614.359 52.2594 614.359 L32.9077 614.359 L32.9077 618.656 L28.3562 618.656 L28.3562 614.359 L18.2347 614.359 L18.2347 608.471 Z\" fill=\"#000000\" fill-rule=\"evenodd\" fill-opacity=\"1\" /><path clip-path=\"url(#clip670)\" d=\"M28.3562 588.705 L28.3562 582.849 L64.0042 582.849 L64.0042 588.705 L28.3562 588.705 M14.479 588.705 L14.479 582.849 L21.895 582.849 L21.895 588.705 L14.479 588.705 Z\" fill=\"#000000\" fill-rule=\"evenodd\" fill-opacity=\"1\" /><path clip-path=\"url(#clip670)\" d=\"M32.4621 556.781 Q32.4621 561.492 36.1542 564.229 Q39.8145 566.966 46.212 566.966 Q52.6095 566.966 56.3017 564.261 Q59.9619 561.524 59.9619 556.781 Q59.9619 552.102 56.2698 549.365 Q52.5777 546.628 46.212 546.628 Q39.8781 546.628 36.186 549.365 Q32.4621 552.102 32.4621 556.781 M27.4968 556.781 Q27.4968 549.142 32.4621 544.782 Q37.4273 540.421 46.212 540.421 Q54.9649 540.421 59.9619 544.782 Q64.9272 549.142 64.9272 556.781 Q64.9272 564.452 59.9619 568.812 Q54.9649 573.141 46.212 573.141 Q37.4273 573.141 32.4621 568.812 Q27.4968 564.452 27.4968 556.781 Z\" fill=\"#000000\" fill-rule=\"evenodd\" fill-opacity=\"1\" /><path clip-path=\"url(#clip670)\" d=\"M42.4881 501.081 L64.0042 501.081 L64.0042 506.938 L42.679 506.938 Q37.6183 506.938 35.1038 508.911 Q32.5894 510.884 32.5894 514.831 Q32.5894 519.574 35.6131 522.311 Q38.6368 525.048 43.8567 525.048 L64.0042 525.048 L64.0042 530.936 L28.3562 530.936 L28.3562 525.048 L33.8944 525.048 Q30.6797 522.947 29.0883 520.115 Q27.4968 517.25 27.4968 513.526 Q27.4968 507.383 31.3163 504.232 Q35.1038 501.081 42.4881 501.081 Z\" fill=\"#000000\" fill-rule=\"evenodd\" fill-opacity=\"1\" /><path clip-path=\"url(#clip670)\" d=\"M55.9197 487.904 L55.9197 481.188 L61.3942 481.188 L71.5793 486.408 L71.5793 490.514 L61.3942 487.904 L55.9197 487.904 Z\" fill=\"#000000\" fill-rule=\"evenodd\" fill-opacity=\"1\" /><path clip-path=\"url(#clip670)\" d=\"M20.049 433.923 L64.0042 417.468 L64.0042 423.674 L37.6501 433.668 L64.0042 445.954 L64.0042 452.161 L29.8203 436.533 L23.5183 438.888 Q19.5079 440.384 19.5079 443.79 L19.5079 446.845 L14.479 446.845 L14.5426 443.122 Q14.6381 435.928 20.049 433.923 Z\" fill=\"#000000\" fill-rule=\"evenodd\" fill-opacity=\"1\" /><circle clip-path=\"url(#clip672)\" cx=\"309.067\" cy=\"1384.24\" r=\"14.4\" fill=\"#009af9\" fill-rule=\"evenodd\" fill-opacity=\"1\" stroke=\"#000000\" stroke-opacity=\"1\" stroke-width=\"3.2\"/>\n",
       "<circle clip-path=\"url(#clip672)\" cx=\"348.75\" cy=\"1346.32\" r=\"14.4\" fill=\"#009af9\" fill-rule=\"evenodd\" fill-opacity=\"1\" stroke=\"#000000\" stroke-opacity=\"1\" stroke-width=\"3.2\"/>\n",
       "<circle clip-path=\"url(#clip672)\" cx=\"388.434\" cy=\"1306.01\" r=\"14.4\" fill=\"#009af9\" fill-rule=\"evenodd\" fill-opacity=\"1\" stroke=\"#000000\" stroke-opacity=\"1\" stroke-width=\"3.2\"/>\n",
       "<circle clip-path=\"url(#clip672)\" cx=\"428.117\" cy=\"1265.7\" r=\"14.4\" fill=\"#009af9\" fill-rule=\"evenodd\" fill-opacity=\"1\" stroke=\"#000000\" stroke-opacity=\"1\" stroke-width=\"3.2\"/>\n",
       "<circle clip-path=\"url(#clip672)\" cx=\"467.8\" cy=\"1225.39\" r=\"14.4\" fill=\"#009af9\" fill-rule=\"evenodd\" fill-opacity=\"1\" stroke=\"#000000\" stroke-opacity=\"1\" stroke-width=\"3.2\"/>\n",
       "<circle clip-path=\"url(#clip672)\" cx=\"507.483\" cy=\"1185.08\" r=\"14.4\" fill=\"#009af9\" fill-rule=\"evenodd\" fill-opacity=\"1\" stroke=\"#000000\" stroke-opacity=\"1\" stroke-width=\"3.2\"/>\n",
       "<circle clip-path=\"url(#clip672)\" cx=\"547.167\" cy=\"1144.77\" r=\"14.4\" fill=\"#009af9\" fill-rule=\"evenodd\" fill-opacity=\"1\" stroke=\"#000000\" stroke-opacity=\"1\" stroke-width=\"3.2\"/>\n",
       "<circle clip-path=\"url(#clip672)\" cx=\"586.85\" cy=\"1104.46\" r=\"14.4\" fill=\"#009af9\" fill-rule=\"evenodd\" fill-opacity=\"1\" stroke=\"#000000\" stroke-opacity=\"1\" stroke-width=\"3.2\"/>\n",
       "<circle clip-path=\"url(#clip672)\" cx=\"626.533\" cy=\"1064.15\" r=\"14.4\" fill=\"#009af9\" fill-rule=\"evenodd\" fill-opacity=\"1\" stroke=\"#000000\" stroke-opacity=\"1\" stroke-width=\"3.2\"/>\n",
       "<circle clip-path=\"url(#clip672)\" cx=\"666.216\" cy=\"1023.84\" r=\"14.4\" fill=\"#009af9\" fill-rule=\"evenodd\" fill-opacity=\"1\" stroke=\"#000000\" stroke-opacity=\"1\" stroke-width=\"3.2\"/>\n",
       "<circle clip-path=\"url(#clip672)\" cx=\"705.9\" cy=\"983.526\" r=\"14.4\" fill=\"#009af9\" fill-rule=\"evenodd\" fill-opacity=\"1\" stroke=\"#000000\" stroke-opacity=\"1\" stroke-width=\"3.2\"/>\n",
       "<circle clip-path=\"url(#clip672)\" cx=\"745.583\" cy=\"943.216\" r=\"14.4\" fill=\"#009af9\" fill-rule=\"evenodd\" fill-opacity=\"1\" stroke=\"#000000\" stroke-opacity=\"1\" stroke-width=\"3.2\"/>\n",
       "<circle clip-path=\"url(#clip672)\" cx=\"785.266\" cy=\"902.906\" r=\"14.4\" fill=\"#009af9\" fill-rule=\"evenodd\" fill-opacity=\"1\" stroke=\"#000000\" stroke-opacity=\"1\" stroke-width=\"3.2\"/>\n",
       "<circle clip-path=\"url(#clip672)\" cx=\"824.95\" cy=\"862.596\" r=\"14.4\" fill=\"#009af9\" fill-rule=\"evenodd\" fill-opacity=\"1\" stroke=\"#000000\" stroke-opacity=\"1\" stroke-width=\"3.2\"/>\n",
       "<circle clip-path=\"url(#clip672)\" cx=\"864.633\" cy=\"822.285\" r=\"14.4\" fill=\"#009af9\" fill-rule=\"evenodd\" fill-opacity=\"1\" stroke=\"#000000\" stroke-opacity=\"1\" stroke-width=\"3.2\"/>\n",
       "<circle clip-path=\"url(#clip672)\" cx=\"904.316\" cy=\"781.975\" r=\"14.4\" fill=\"#009af9\" fill-rule=\"evenodd\" fill-opacity=\"1\" stroke=\"#000000\" stroke-opacity=\"1\" stroke-width=\"3.2\"/>\n",
       "<circle clip-path=\"url(#clip672)\" cx=\"943.999\" cy=\"741.665\" r=\"14.4\" fill=\"#009af9\" fill-rule=\"evenodd\" fill-opacity=\"1\" stroke=\"#000000\" stroke-opacity=\"1\" stroke-width=\"3.2\"/>\n",
       "<circle clip-path=\"url(#clip672)\" cx=\"983.683\" cy=\"701.355\" r=\"14.4\" fill=\"#009af9\" fill-rule=\"evenodd\" fill-opacity=\"1\" stroke=\"#000000\" stroke-opacity=\"1\" stroke-width=\"3.2\"/>\n",
       "<circle clip-path=\"url(#clip672)\" cx=\"1023.37\" cy=\"661.044\" r=\"14.4\" fill=\"#009af9\" fill-rule=\"evenodd\" fill-opacity=\"1\" stroke=\"#000000\" stroke-opacity=\"1\" stroke-width=\"3.2\"/>\n",
       "<circle clip-path=\"url(#clip672)\" cx=\"1063.05\" cy=\"620.734\" r=\"14.4\" fill=\"#009af9\" fill-rule=\"evenodd\" fill-opacity=\"1\" stroke=\"#000000\" stroke-opacity=\"1\" stroke-width=\"3.2\"/>\n",
       "<circle clip-path=\"url(#clip672)\" cx=\"1102.73\" cy=\"580.424\" r=\"14.4\" fill=\"#009af9\" fill-rule=\"evenodd\" fill-opacity=\"1\" stroke=\"#000000\" stroke-opacity=\"1\" stroke-width=\"3.2\"/>\n",
       "<circle clip-path=\"url(#clip672)\" cx=\"1142.42\" cy=\"540.114\" r=\"14.4\" fill=\"#009af9\" fill-rule=\"evenodd\" fill-opacity=\"1\" stroke=\"#000000\" stroke-opacity=\"1\" stroke-width=\"3.2\"/>\n",
       "<circle clip-path=\"url(#clip672)\" cx=\"1182.1\" cy=\"499.804\" r=\"14.4\" fill=\"#009af9\" fill-rule=\"evenodd\" fill-opacity=\"1\" stroke=\"#000000\" stroke-opacity=\"1\" stroke-width=\"3.2\"/>\n",
       "<circle clip-path=\"url(#clip672)\" cx=\"1221.78\" cy=\"459.493\" r=\"14.4\" fill=\"#009af9\" fill-rule=\"evenodd\" fill-opacity=\"1\" stroke=\"#000000\" stroke-opacity=\"1\" stroke-width=\"3.2\"/>\n",
       "<circle clip-path=\"url(#clip672)\" cx=\"1261.47\" cy=\"419.183\" r=\"14.4\" fill=\"#009af9\" fill-rule=\"evenodd\" fill-opacity=\"1\" stroke=\"#000000\" stroke-opacity=\"1\" stroke-width=\"3.2\"/>\n",
       "<circle clip-path=\"url(#clip672)\" cx=\"1301.15\" cy=\"380.883\" r=\"14.4\" fill=\"#009af9\" fill-rule=\"evenodd\" fill-opacity=\"1\" stroke=\"#000000\" stroke-opacity=\"1\" stroke-width=\"3.2\"/>\n",
       "<circle clip-path=\"url(#clip672)\" cx=\"1340.83\" cy=\"369.095\" r=\"14.4\" fill=\"#009af9\" fill-rule=\"evenodd\" fill-opacity=\"1\" stroke=\"#000000\" stroke-opacity=\"1\" stroke-width=\"3.2\"/>\n",
       "<circle clip-path=\"url(#clip672)\" cx=\"1380.52\" cy=\"357.307\" r=\"14.4\" fill=\"#009af9\" fill-rule=\"evenodd\" fill-opacity=\"1\" stroke=\"#000000\" stroke-opacity=\"1\" stroke-width=\"3.2\"/>\n",
       "<circle clip-path=\"url(#clip672)\" cx=\"1420.2\" cy=\"345.519\" r=\"14.4\" fill=\"#009af9\" fill-rule=\"evenodd\" fill-opacity=\"1\" stroke=\"#000000\" stroke-opacity=\"1\" stroke-width=\"3.2\"/>\n",
       "<circle clip-path=\"url(#clip672)\" cx=\"1459.88\" cy=\"333.731\" r=\"14.4\" fill=\"#009af9\" fill-rule=\"evenodd\" fill-opacity=\"1\" stroke=\"#000000\" stroke-opacity=\"1\" stroke-width=\"3.2\"/>\n",
       "<circle clip-path=\"url(#clip672)\" cx=\"1499.57\" cy=\"321.944\" r=\"14.4\" fill=\"#009af9\" fill-rule=\"evenodd\" fill-opacity=\"1\" stroke=\"#000000\" stroke-opacity=\"1\" stroke-width=\"3.2\"/>\n",
       "<circle clip-path=\"url(#clip672)\" cx=\"1539.25\" cy=\"310.156\" r=\"14.4\" fill=\"#009af9\" fill-rule=\"evenodd\" fill-opacity=\"1\" stroke=\"#000000\" stroke-opacity=\"1\" stroke-width=\"3.2\"/>\n",
       "<circle clip-path=\"url(#clip672)\" cx=\"1578.93\" cy=\"298.368\" r=\"14.4\" fill=\"#009af9\" fill-rule=\"evenodd\" fill-opacity=\"1\" stroke=\"#000000\" stroke-opacity=\"1\" stroke-width=\"3.2\"/>\n",
       "<circle clip-path=\"url(#clip672)\" cx=\"1618.62\" cy=\"286.58\" r=\"14.4\" fill=\"#009af9\" fill-rule=\"evenodd\" fill-opacity=\"1\" stroke=\"#000000\" stroke-opacity=\"1\" stroke-width=\"3.2\"/>\n",
       "<circle clip-path=\"url(#clip672)\" cx=\"1658.3\" cy=\"274.792\" r=\"14.4\" fill=\"#009af9\" fill-rule=\"evenodd\" fill-opacity=\"1\" stroke=\"#000000\" stroke-opacity=\"1\" stroke-width=\"3.2\"/>\n",
       "<circle clip-path=\"url(#clip672)\" cx=\"1697.98\" cy=\"263.004\" r=\"14.4\" fill=\"#009af9\" fill-rule=\"evenodd\" fill-opacity=\"1\" stroke=\"#000000\" stroke-opacity=\"1\" stroke-width=\"3.2\"/>\n",
       "<circle clip-path=\"url(#clip672)\" cx=\"1737.67\" cy=\"251.216\" r=\"14.4\" fill=\"#009af9\" fill-rule=\"evenodd\" fill-opacity=\"1\" stroke=\"#000000\" stroke-opacity=\"1\" stroke-width=\"3.2\"/>\n",
       "<circle clip-path=\"url(#clip672)\" cx=\"1777.35\" cy=\"239.428\" r=\"14.4\" fill=\"#009af9\" fill-rule=\"evenodd\" fill-opacity=\"1\" stroke=\"#000000\" stroke-opacity=\"1\" stroke-width=\"3.2\"/>\n",
       "<circle clip-path=\"url(#clip672)\" cx=\"1817.03\" cy=\"227.64\" r=\"14.4\" fill=\"#009af9\" fill-rule=\"evenodd\" fill-opacity=\"1\" stroke=\"#000000\" stroke-opacity=\"1\" stroke-width=\"3.2\"/>\n",
       "<circle clip-path=\"url(#clip672)\" cx=\"1856.71\" cy=\"215.853\" r=\"14.4\" fill=\"#009af9\" fill-rule=\"evenodd\" fill-opacity=\"1\" stroke=\"#000000\" stroke-opacity=\"1\" stroke-width=\"3.2\"/>\n",
       "<circle clip-path=\"url(#clip672)\" cx=\"1896.4\" cy=\"204.065\" r=\"14.4\" fill=\"#009af9\" fill-rule=\"evenodd\" fill-opacity=\"1\" stroke=\"#000000\" stroke-opacity=\"1\" stroke-width=\"3.2\"/>\n",
       "<circle clip-path=\"url(#clip672)\" cx=\"1936.08\" cy=\"192.277\" r=\"14.4\" fill=\"#009af9\" fill-rule=\"evenodd\" fill-opacity=\"1\" stroke=\"#000000\" stroke-opacity=\"1\" stroke-width=\"3.2\"/>\n",
       "<circle clip-path=\"url(#clip672)\" cx=\"1975.76\" cy=\"180.489\" r=\"14.4\" fill=\"#009af9\" fill-rule=\"evenodd\" fill-opacity=\"1\" stroke=\"#000000\" stroke-opacity=\"1\" stroke-width=\"3.2\"/>\n",
       "<circle clip-path=\"url(#clip672)\" cx=\"2015.45\" cy=\"168.701\" r=\"14.4\" fill=\"#009af9\" fill-rule=\"evenodd\" fill-opacity=\"1\" stroke=\"#000000\" stroke-opacity=\"1\" stroke-width=\"3.2\"/>\n",
       "<circle clip-path=\"url(#clip672)\" cx=\"2055.13\" cy=\"156.913\" r=\"14.4\" fill=\"#009af9\" fill-rule=\"evenodd\" fill-opacity=\"1\" stroke=\"#000000\" stroke-opacity=\"1\" stroke-width=\"3.2\"/>\n",
       "<circle clip-path=\"url(#clip672)\" cx=\"2094.81\" cy=\"145.125\" r=\"14.4\" fill=\"#009af9\" fill-rule=\"evenodd\" fill-opacity=\"1\" stroke=\"#000000\" stroke-opacity=\"1\" stroke-width=\"3.2\"/>\n",
       "<circle clip-path=\"url(#clip672)\" cx=\"2134.5\" cy=\"133.337\" r=\"14.4\" fill=\"#009af9\" fill-rule=\"evenodd\" fill-opacity=\"1\" stroke=\"#000000\" stroke-opacity=\"1\" stroke-width=\"3.2\"/>\n",
       "<circle clip-path=\"url(#clip672)\" cx=\"2174.18\" cy=\"121.549\" r=\"14.4\" fill=\"#009af9\" fill-rule=\"evenodd\" fill-opacity=\"1\" stroke=\"#000000\" stroke-opacity=\"1\" stroke-width=\"3.2\"/>\n",
       "<circle clip-path=\"url(#clip672)\" cx=\"2213.86\" cy=\"109.761\" r=\"14.4\" fill=\"#009af9\" fill-rule=\"evenodd\" fill-opacity=\"1\" stroke=\"#000000\" stroke-opacity=\"1\" stroke-width=\"3.2\"/>\n",
       "<circle clip-path=\"url(#clip672)\" cx=\"2253.55\" cy=\"97.9736\" r=\"14.4\" fill=\"#009af9\" fill-rule=\"evenodd\" fill-opacity=\"1\" stroke=\"#000000\" stroke-opacity=\"1\" stroke-width=\"3.2\"/>\n",
       "<circle clip-path=\"url(#clip672)\" cx=\"2293.23\" cy=\"86.1857\" r=\"14.4\" fill=\"#009af9\" fill-rule=\"evenodd\" fill-opacity=\"1\" stroke=\"#000000\" stroke-opacity=\"1\" stroke-width=\"3.2\"/>\n",
       "<polyline clip-path=\"url(#clip672)\" style=\"stroke:#e26f46; stroke-linecap:round; stroke-linejoin:round; stroke-width:4; stroke-opacity:1; fill:none\" points=\"\n",
       "  -1092.78,2799.12 2997.01,-1328.69 \n",
       "  \"/>\n",
       "<polyline clip-path=\"url(#clip672)\" style=\"stroke:#3da44d; stroke-linecap:round; stroke-linejoin:round; stroke-width:4; stroke-opacity:1; fill:none\" points=\"\n",
       "  936.405,2799.12 936.405,-1328.69 \n",
       "  \"/>\n",
       "<path clip-path=\"url(#clip670)\" d=\"\n",
       "M1368.15 300.469 L2282.65 300.469 L2282.65 93.1086 L1368.15 93.1086  Z\n",
       "  \" fill=\"#ffffff\" fill-rule=\"evenodd\" fill-opacity=\"1\"/>\n",
       "<polyline clip-path=\"url(#clip670)\" style=\"stroke:#000000; stroke-linecap:round; stroke-linejoin:round; stroke-width:4; stroke-opacity:1; fill:none\" points=\"\n",
       "  1368.15,300.469 2282.65,300.469 2282.65,93.1086 1368.15,93.1086 1368.15,300.469 \n",
       "  \"/>\n",
       "<circle clip-path=\"url(#clip670)\" cx=\"1461.63\" cy=\"144.949\" r=\"23.04\" fill=\"#009af9\" fill-rule=\"evenodd\" fill-opacity=\"1\" stroke=\"#000000\" stroke-opacity=\"1\" stroke-width=\"5.12\"/>\n",
       "<path clip-path=\"url(#clip670)\" d=\"M1555.1 127.669 L1561.4 127.669 L1576.72 156.581 L1576.72 127.669 L1581.26 127.669 L1581.26 162.229 L1574.97 162.229 L1559.64 133.317 L1559.64 162.229 L1555.1 162.229 L1555.1 127.669 Z\" fill=\"#000000\" fill-rule=\"evenodd\" fill-opacity=\"1\" /><path clip-path=\"url(#clip670)\" d=\"M1612.56 148.201 L1612.56 150.284 L1592.97 150.284 Q1593.25 154.682 1595.61 156.997 Q1598 159.289 1602.23 159.289 Q1604.69 159.289 1606.98 158.687 Q1609.29 158.085 1611.56 156.881 L1611.56 160.909 Q1609.27 161.881 1606.86 162.391 Q1604.46 162.9 1601.98 162.9 Q1595.78 162.9 1592.14 159.289 Q1588.53 155.678 1588.53 149.52 Q1588.53 143.155 1591.96 139.428 Q1595.4 135.678 1601.24 135.678 Q1606.47 135.678 1609.5 139.057 Q1612.56 142.414 1612.56 148.201 M1608.3 146.951 Q1608.25 143.456 1606.33 141.372 Q1604.43 139.289 1601.28 139.289 Q1597.72 139.289 1595.57 141.303 Q1593.44 143.317 1593.11 146.974 L1608.3 146.951 Z\" fill=\"#000000\" fill-rule=\"evenodd\" fill-opacity=\"1\" /><path clip-path=\"url(#clip670)\" d=\"M1619.11 151.997 L1619.11 136.303 L1623.37 136.303 L1623.37 151.835 Q1623.37 155.516 1624.8 157.368 Q1626.24 159.196 1629.11 159.196 Q1632.56 159.196 1634.55 156.997 Q1636.56 154.798 1636.56 151.002 L1636.56 136.303 L1640.82 136.303 L1640.82 162.229 L1636.56 162.229 L1636.56 158.247 Q1635.01 160.608 1632.95 161.766 Q1630.91 162.9 1628.21 162.9 Q1623.74 162.9 1621.42 160.122 Q1619.11 157.344 1619.11 151.997 M1629.83 135.678 L1629.83 135.678 Z\" fill=\"#000000\" fill-rule=\"evenodd\" fill-opacity=\"1\" /><path clip-path=\"url(#clip670)\" d=\"M1664.62 140.284 Q1663.9 139.868 1663.04 139.682 Q1662.21 139.474 1661.19 139.474 Q1657.58 139.474 1655.64 141.835 Q1653.71 144.173 1653.71 148.571 L1653.71 162.229 L1649.43 162.229 L1649.43 136.303 L1653.71 136.303 L1653.71 140.331 Q1655.06 137.969 1657.21 136.835 Q1659.36 135.678 1662.44 135.678 Q1662.88 135.678 1663.41 135.747 Q1663.95 135.794 1664.59 135.909 L1664.62 140.284 Z\" fill=\"#000000\" fill-rule=\"evenodd\" fill-opacity=\"1\" /><path clip-path=\"url(#clip670)\" d=\"M1680.87 149.196 Q1675.71 149.196 1673.71 150.377 Q1671.72 151.557 1671.72 154.405 Q1671.72 156.673 1673.21 158.016 Q1674.71 159.335 1677.28 159.335 Q1680.82 159.335 1682.95 156.835 Q1685.1 154.312 1685.1 150.145 L1685.1 149.196 L1680.87 149.196 M1689.36 147.437 L1689.36 162.229 L1685.1 162.229 L1685.1 158.293 Q1683.65 160.655 1681.47 161.789 Q1679.29 162.9 1676.15 162.9 Q1672.16 162.9 1669.8 160.678 Q1667.46 158.432 1667.46 154.682 Q1667.46 150.307 1670.38 148.085 Q1673.32 145.863 1679.13 145.863 L1685.1 145.863 L1685.1 145.446 Q1685.1 142.507 1683.16 140.909 Q1681.24 139.289 1677.74 139.289 Q1675.52 139.289 1673.41 139.821 Q1671.31 140.354 1669.36 141.419 L1669.36 137.483 Q1671.7 136.581 1673.9 136.141 Q1676.1 135.678 1678.18 135.678 Q1683.81 135.678 1686.58 138.594 Q1689.36 141.511 1689.36 147.437 Z\" fill=\"#000000\" fill-rule=\"evenodd\" fill-opacity=\"1\" /><path clip-path=\"url(#clip670)\" d=\"M1698.14 126.21 L1702.4 126.21 L1702.4 162.229 L1698.14 162.229 L1698.14 126.21 Z\" fill=\"#000000\" fill-rule=\"evenodd\" fill-opacity=\"1\" /><path clip-path=\"url(#clip670)\" d=\"M1747.93 146.581 L1747.93 162.229 L1743.67 162.229 L1743.67 146.719 Q1743.67 143.039 1742.23 141.21 Q1740.8 139.382 1737.93 139.382 Q1734.48 139.382 1732.49 141.581 Q1730.5 143.78 1730.5 147.576 L1730.5 162.229 L1726.21 162.229 L1726.21 136.303 L1730.5 136.303 L1730.5 140.331 Q1732.02 137.993 1734.08 136.835 Q1736.17 135.678 1738.88 135.678 Q1743.34 135.678 1745.64 138.456 Q1747.93 141.21 1747.93 146.581 Z\" fill=\"#000000\" fill-rule=\"evenodd\" fill-opacity=\"1\" /><path clip-path=\"url(#clip670)\" d=\"M1778.6 148.201 L1778.6 150.284 L1759.02 150.284 Q1759.29 154.682 1761.65 156.997 Q1764.04 159.289 1768.27 159.289 Q1770.73 159.289 1773.02 158.687 Q1775.33 158.085 1777.6 156.881 L1777.6 160.909 Q1775.31 161.881 1772.9 162.391 Q1770.5 162.9 1768.02 162.9 Q1761.82 162.9 1758.18 159.289 Q1754.57 155.678 1754.57 149.52 Q1754.57 143.155 1758 139.428 Q1761.45 135.678 1767.28 135.678 Q1772.51 135.678 1775.54 139.057 Q1778.6 142.414 1778.6 148.201 M1774.34 146.951 Q1774.29 143.456 1772.37 141.372 Q1770.47 139.289 1767.33 139.289 Q1763.76 139.289 1761.61 141.303 Q1759.48 143.317 1759.15 146.974 L1774.34 146.951 Z\" fill=\"#000000\" fill-rule=\"evenodd\" fill-opacity=\"1\" /><path clip-path=\"url(#clip670)\" d=\"M1789.8 128.942 L1789.8 136.303 L1798.58 136.303 L1798.58 139.613 L1789.8 139.613 L1789.8 153.687 Q1789.8 156.858 1790.66 157.761 Q1791.54 158.664 1794.2 158.664 L1798.58 158.664 L1798.58 162.229 L1794.2 162.229 Q1789.27 162.229 1787.39 160.4 Q1785.52 158.548 1785.52 153.687 L1785.52 139.613 L1782.39 139.613 L1782.39 136.303 L1785.52 136.303 L1785.52 128.942 L1789.8 128.942 Z\" fill=\"#000000\" fill-rule=\"evenodd\" fill-opacity=\"1\" /><path clip-path=\"url(#clip670)\" d=\"M1801.7 136.303 L1805.96 136.303 L1811.28 156.534 L1816.58 136.303 L1821.61 136.303 L1826.93 156.534 L1832.23 136.303 L1836.49 136.303 L1829.71 162.229 L1824.69 162.229 L1819.11 140.979 L1813.51 162.229 L1808.48 162.229 L1801.7 136.303 Z\" fill=\"#000000\" fill-rule=\"evenodd\" fill-opacity=\"1\" /><path clip-path=\"url(#clip670)\" d=\"M1853 139.289 Q1849.57 139.289 1847.58 141.974 Q1845.59 144.636 1845.59 149.289 Q1845.59 153.942 1847.56 156.627 Q1849.55 159.289 1853 159.289 Q1856.4 159.289 1858.39 156.604 Q1860.38 153.918 1860.38 149.289 Q1860.38 144.682 1858.39 141.997 Q1856.4 139.289 1853 139.289 M1853 135.678 Q1858.55 135.678 1861.72 139.289 Q1864.89 142.9 1864.89 149.289 Q1864.89 155.655 1861.72 159.289 Q1858.55 162.9 1853 162.9 Q1847.42 162.9 1844.25 159.289 Q1841.1 155.655 1841.1 149.289 Q1841.1 142.9 1844.25 139.289 Q1847.42 135.678 1853 135.678 Z\" fill=\"#000000\" fill-rule=\"evenodd\" fill-opacity=\"1\" /><path clip-path=\"url(#clip670)\" d=\"M1886.98 140.284 Q1886.26 139.868 1885.4 139.682 Q1884.57 139.474 1883.55 139.474 Q1879.94 139.474 1878 141.835 Q1876.07 144.173 1876.07 148.571 L1876.07 162.229 L1871.79 162.229 L1871.79 136.303 L1876.07 136.303 L1876.07 140.331 Q1877.42 137.969 1879.57 136.835 Q1881.72 135.678 1884.8 135.678 Q1885.24 135.678 1885.77 135.747 Q1886.31 135.794 1886.95 135.909 L1886.98 140.284 Z\" fill=\"#000000\" fill-rule=\"evenodd\" fill-opacity=\"1\" /><path clip-path=\"url(#clip670)\" d=\"M1891.28 126.21 L1895.57 126.21 L1895.57 147.483 L1908.27 136.303 L1913.71 136.303 L1899.96 148.432 L1914.29 162.229 L1908.74 162.229 L1895.57 149.567 L1895.57 162.229 L1891.28 162.229 L1891.28 126.21 Z\" fill=\"#000000\" fill-rule=\"evenodd\" fill-opacity=\"1\" /><path clip-path=\"url(#clip670)\" d=\"M1938.09 158.34 L1938.09 172.09 L1933.81 172.09 L1933.81 136.303 L1938.09 136.303 L1938.09 140.238 Q1939.43 137.923 1941.47 136.812 Q1943.53 135.678 1946.38 135.678 Q1951.1 135.678 1954.04 139.428 Q1957 143.178 1957 149.289 Q1957 155.4 1954.04 159.15 Q1951.1 162.9 1946.38 162.9 Q1943.53 162.9 1941.47 161.789 Q1939.43 160.655 1938.09 158.34 M1952.58 149.289 Q1952.58 144.59 1950.63 141.928 Q1948.71 139.243 1945.33 139.243 Q1941.95 139.243 1940.01 141.928 Q1938.09 144.59 1938.09 149.289 Q1938.09 153.988 1940.01 156.673 Q1941.95 159.335 1945.33 159.335 Q1948.71 159.335 1950.63 156.673 Q1952.58 153.988 1952.58 149.289 Z\" fill=\"#000000\" fill-rule=\"evenodd\" fill-opacity=\"1\" /><path clip-path=\"url(#clip670)\" d=\"M1979.08 140.284 Q1978.37 139.868 1977.51 139.682 Q1976.68 139.474 1975.66 139.474 Q1972.05 139.474 1970.1 141.835 Q1968.18 144.173 1968.18 148.571 L1968.18 162.229 L1963.9 162.229 L1963.9 136.303 L1968.18 136.303 L1968.18 140.331 Q1969.52 137.969 1971.68 136.835 Q1973.83 135.678 1976.91 135.678 Q1977.35 135.678 1977.88 135.747 Q1978.41 135.794 1979.06 135.909 L1979.08 140.284 Z\" fill=\"#000000\" fill-rule=\"evenodd\" fill-opacity=\"1\" /><path clip-path=\"url(#clip670)\" d=\"M2004.69 148.201 L2004.69 150.284 L1985.1 150.284 Q1985.38 154.682 1987.74 156.997 Q1990.12 159.289 1994.36 159.289 Q1996.81 159.289 1999.11 158.687 Q2001.42 158.085 2003.69 156.881 L2003.69 160.909 Q2001.4 161.881 1998.99 162.391 Q1996.58 162.9 1994.11 162.9 Q1987.9 162.9 1984.27 159.289 Q1980.66 155.678 1980.66 149.52 Q1980.66 143.155 1984.08 139.428 Q1987.53 135.678 1993.37 135.678 Q1998.6 135.678 2001.63 139.057 Q2004.69 142.414 2004.69 148.201 M2000.43 146.951 Q2000.38 143.456 1998.46 141.372 Q1996.56 139.289 1993.41 139.289 Q1989.85 139.289 1987.69 141.303 Q1985.56 143.317 1985.24 146.974 L2000.43 146.951 Z\" fill=\"#000000\" fill-rule=\"evenodd\" fill-opacity=\"1\" /><path clip-path=\"url(#clip670)\" d=\"M2028.74 140.238 L2028.74 126.21 L2033 126.21 L2033 162.229 L2028.74 162.229 L2028.74 158.34 Q2027.39 160.655 2025.33 161.789 Q2023.3 162.9 2020.43 162.9 Q2015.73 162.9 2012.76 159.15 Q2009.82 155.4 2009.82 149.289 Q2009.82 143.178 2012.76 139.428 Q2015.73 135.678 2020.43 135.678 Q2023.3 135.678 2025.33 136.812 Q2027.39 137.923 2028.74 140.238 M2014.22 149.289 Q2014.22 153.988 2016.14 156.673 Q2018.09 159.335 2021.47 159.335 Q2024.85 159.335 2026.79 156.673 Q2028.74 153.988 2028.74 149.289 Q2028.74 144.59 2026.79 141.928 Q2024.85 139.243 2021.47 139.243 Q2018.09 139.243 2016.14 141.928 Q2014.22 144.59 2014.22 149.289 Z\" fill=\"#000000\" fill-rule=\"evenodd\" fill-opacity=\"1\" /><path clip-path=\"url(#clip670)\" d=\"M2041.77 136.303 L2046.03 136.303 L2046.03 162.229 L2041.77 162.229 L2041.77 136.303 M2041.77 126.21 L2046.03 126.21 L2046.03 131.604 L2041.77 131.604 L2041.77 126.21 Z\" fill=\"#000000\" fill-rule=\"evenodd\" fill-opacity=\"1\" /><path clip-path=\"url(#clip670)\" d=\"M2073.6 137.298 L2073.6 141.28 Q2071.79 140.284 2069.96 139.798 Q2068.16 139.289 2066.31 139.289 Q2062.16 139.289 2059.87 141.928 Q2057.58 144.544 2057.58 149.289 Q2057.58 154.034 2059.87 156.673 Q2062.16 159.289 2066.31 159.289 Q2068.16 159.289 2069.96 158.803 Q2071.79 158.293 2073.6 157.298 L2073.6 161.233 Q2071.81 162.067 2069.89 162.483 Q2067.99 162.9 2065.84 162.9 Q2059.99 162.9 2056.54 159.219 Q2053.09 155.539 2053.09 149.289 Q2053.09 142.946 2056.56 139.312 Q2060.06 135.678 2066.12 135.678 Q2068.09 135.678 2069.96 136.095 Q2071.84 136.488 2073.6 137.298 Z\" fill=\"#000000\" fill-rule=\"evenodd\" fill-opacity=\"1\" /><path clip-path=\"url(#clip670)\" d=\"M2085.22 128.942 L2085.22 136.303 L2093.99 136.303 L2093.99 139.613 L2085.22 139.613 L2085.22 153.687 Q2085.22 156.858 2086.07 157.761 Q2086.95 158.664 2089.62 158.664 L2093.99 158.664 L2093.99 162.229 L2089.62 162.229 Q2084.68 162.229 2082.81 160.4 Q2080.93 158.548 2080.93 153.687 L2080.93 139.613 L2077.81 139.613 L2077.81 136.303 L2080.93 136.303 L2080.93 128.942 L2085.22 128.942 Z\" fill=\"#000000\" fill-rule=\"evenodd\" fill-opacity=\"1\" /><path clip-path=\"url(#clip670)\" d=\"M2099.59 136.303 L2103.85 136.303 L2103.85 162.229 L2099.59 162.229 L2099.59 136.303 M2099.59 126.21 L2103.85 126.21 L2103.85 131.604 L2099.59 131.604 L2099.59 126.21 Z\" fill=\"#000000\" fill-rule=\"evenodd\" fill-opacity=\"1\" /><path clip-path=\"url(#clip670)\" d=\"M2122.81 139.289 Q2119.38 139.289 2117.39 141.974 Q2115.4 144.636 2115.4 149.289 Q2115.4 153.942 2117.37 156.627 Q2119.36 159.289 2122.81 159.289 Q2126.21 159.289 2128.2 156.604 Q2130.19 153.918 2130.19 149.289 Q2130.19 144.682 2128.2 141.997 Q2126.21 139.289 2122.81 139.289 M2122.81 135.678 Q2128.36 135.678 2131.54 139.289 Q2134.71 142.9 2134.71 149.289 Q2134.71 155.655 2131.54 159.289 Q2128.36 162.9 2122.81 162.9 Q2117.23 162.9 2114.06 159.289 Q2110.91 155.655 2110.91 149.289 Q2110.91 142.9 2114.06 139.289 Q2117.23 135.678 2122.81 135.678 Z\" fill=\"#000000\" fill-rule=\"evenodd\" fill-opacity=\"1\" /><path clip-path=\"url(#clip670)\" d=\"M2163.32 146.581 L2163.32 162.229 L2159.06 162.229 L2159.06 146.719 Q2159.06 143.039 2157.62 141.21 Q2156.19 139.382 2153.32 139.382 Q2149.87 139.382 2147.88 141.581 Q2145.89 143.78 2145.89 147.576 L2145.89 162.229 L2141.61 162.229 L2141.61 136.303 L2145.89 136.303 L2145.89 140.331 Q2147.42 137.993 2149.48 136.835 Q2151.56 135.678 2154.27 135.678 Q2158.74 135.678 2161.03 138.456 Q2163.32 141.21 2163.32 146.581 Z\" fill=\"#000000\" fill-rule=\"evenodd\" fill-opacity=\"1\" /><polyline clip-path=\"url(#clip670)\" style=\"stroke:#e26f46; stroke-linecap:round; stroke-linejoin:round; stroke-width:4; stroke-opacity:1; fill:none\" points=\"\n",
       "  1391.52,196.789 1531.74,196.789 \n",
       "  \"/>\n",
       "<path clip-path=\"url(#clip670)\" d=\"M1555.1 179.509 L1584.34 179.509 L1584.34 183.444 L1572.07 183.444 L1572.07 214.069 L1567.37 214.069 L1567.37 183.444 L1555.1 183.444 L1555.1 179.509 Z\" fill=\"#000000\" fill-rule=\"evenodd\" fill-opacity=\"1\" /><path clip-path=\"url(#clip670)\" d=\"M1596.72 192.124 Q1596.01 191.708 1595.15 191.522 Q1594.32 191.314 1593.3 191.314 Q1589.69 191.314 1587.74 193.675 Q1585.82 196.013 1585.82 200.411 L1585.82 214.069 L1581.54 214.069 L1581.54 188.143 L1585.82 188.143 L1585.82 192.171 Q1587.16 189.809 1589.32 188.675 Q1591.47 187.518 1594.55 187.518 Q1594.99 187.518 1595.52 187.587 Q1596.05 187.634 1596.7 187.749 L1596.72 192.124 Z\" fill=\"#000000\" fill-rule=\"evenodd\" fill-opacity=\"1\" /><path clip-path=\"url(#clip670)\" d=\"M1600.75 203.837 L1600.75 188.143 L1605.01 188.143 L1605.01 203.675 Q1605.01 207.356 1606.45 209.208 Q1607.88 211.036 1610.75 211.036 Q1614.2 211.036 1616.19 208.837 Q1618.21 206.638 1618.21 202.842 L1618.21 188.143 L1622.46 188.143 L1622.46 214.069 L1618.21 214.069 L1618.21 210.087 Q1616.65 212.448 1614.59 213.606 Q1612.56 214.74 1609.85 214.74 Q1605.38 214.74 1603.07 211.962 Q1600.75 209.184 1600.75 203.837 M1611.47 187.518 L1611.47 187.518 Z\" fill=\"#000000\" fill-rule=\"evenodd\" fill-opacity=\"1\" /><path clip-path=\"url(#clip670)\" d=\"M1653.41 200.041 L1653.41 202.124 L1633.83 202.124 Q1634.11 206.522 1636.47 208.837 Q1638.85 211.129 1643.09 211.129 Q1645.54 211.129 1647.84 210.527 Q1650.15 209.925 1652.42 208.721 L1652.42 212.749 Q1650.13 213.721 1647.72 214.231 Q1645.31 214.74 1642.84 214.74 Q1636.63 214.74 1633 211.129 Q1629.39 207.518 1629.39 201.36 Q1629.39 194.995 1632.81 191.268 Q1636.26 187.518 1642.09 187.518 Q1647.33 187.518 1650.36 190.897 Q1653.41 194.254 1653.41 200.041 M1649.15 198.791 Q1649.11 195.296 1647.19 193.212 Q1645.29 191.129 1642.14 191.129 Q1638.58 191.129 1636.42 193.143 Q1634.29 195.157 1633.97 198.814 L1649.15 198.791 Z\" fill=\"#000000\" fill-rule=\"evenodd\" fill-opacity=\"1\" /><path clip-path=\"url(#clip670)\" d=\"M1672.42 188.143 L1676.93 188.143 L1685.03 209.902 L1693.14 188.143 L1697.65 188.143 L1687.93 214.069 L1682.14 214.069 L1672.42 188.143 Z\" fill=\"#000000\" fill-rule=\"evenodd\" fill-opacity=\"1\" /><path clip-path=\"url(#clip670)\" d=\"M1715.31 201.036 Q1710.15 201.036 1708.16 202.217 Q1706.17 203.397 1706.17 206.245 Q1706.17 208.513 1707.65 209.856 Q1709.15 211.175 1711.72 211.175 Q1715.27 211.175 1717.39 208.675 Q1719.55 206.152 1719.55 201.985 L1719.55 201.036 L1715.31 201.036 M1723.81 199.277 L1723.81 214.069 L1719.55 214.069 L1719.55 210.133 Q1718.09 212.495 1715.91 213.629 Q1713.74 214.74 1710.59 214.74 Q1706.61 214.74 1704.25 212.518 Q1701.91 210.272 1701.91 206.522 Q1701.91 202.147 1704.83 199.925 Q1707.77 197.703 1713.58 197.703 L1719.55 197.703 L1719.55 197.286 Q1719.55 194.347 1717.6 192.749 Q1715.68 191.129 1712.19 191.129 Q1709.96 191.129 1707.86 191.661 Q1705.75 192.194 1703.81 193.259 L1703.81 189.323 Q1706.15 188.421 1708.34 187.981 Q1710.54 187.518 1712.63 187.518 Q1718.25 187.518 1721.03 190.434 Q1723.81 193.351 1723.81 199.277 Z\" fill=\"#000000\" fill-rule=\"evenodd\" fill-opacity=\"1\" /><path clip-path=\"url(#clip670)\" d=\"M1732.58 178.05 L1736.84 178.05 L1736.84 214.069 L1732.58 214.069 L1732.58 178.05 Z\" fill=\"#000000\" fill-rule=\"evenodd\" fill-opacity=\"1\" /><path clip-path=\"url(#clip670)\" d=\"M1745.31 203.837 L1745.31 188.143 L1749.57 188.143 L1749.57 203.675 Q1749.57 207.356 1751.01 209.208 Q1752.44 211.036 1755.31 211.036 Q1758.76 211.036 1760.75 208.837 Q1762.77 206.638 1762.77 202.842 L1762.77 188.143 L1767.02 188.143 L1767.02 214.069 L1762.77 214.069 L1762.77 210.087 Q1761.21 212.448 1759.15 213.606 Q1757.12 214.74 1754.41 214.74 Q1749.94 214.74 1747.63 211.962 Q1745.31 209.184 1745.31 203.837 M1756.03 187.518 L1756.03 187.518 Z\" fill=\"#000000\" fill-rule=\"evenodd\" fill-opacity=\"1\" /><path clip-path=\"url(#clip670)\" d=\"M1797.97 200.041 L1797.97 202.124 L1778.39 202.124 Q1778.67 206.522 1781.03 208.837 Q1783.41 211.129 1787.65 211.129 Q1790.1 211.129 1792.39 210.527 Q1794.71 209.925 1796.98 208.721 L1796.98 212.749 Q1794.69 213.721 1792.28 214.231 Q1789.87 214.74 1787.39 214.74 Q1781.19 214.74 1777.56 211.129 Q1773.95 207.518 1773.95 201.36 Q1773.95 194.995 1777.37 191.268 Q1780.82 187.518 1786.65 187.518 Q1791.89 187.518 1794.92 190.897 Q1797.97 194.254 1797.97 200.041 M1793.71 198.791 Q1793.67 195.296 1791.75 193.212 Q1789.85 191.129 1786.7 191.129 Q1783.14 191.129 1780.98 193.143 Q1778.85 195.157 1778.53 198.814 L1793.71 198.791 Z\" fill=\"#000000\" fill-rule=\"evenodd\" fill-opacity=\"1\" /><polyline clip-path=\"url(#clip670)\" style=\"stroke:#3da44d; stroke-linecap:round; stroke-linejoin:round; stroke-width:4; stroke-opacity:1; fill:none\" points=\"\n",
       "  1391.52,248.629 1531.74,248.629 \n",
       "  \"/>\n",
       "<path clip-path=\"url(#clip670)\" d=\"M1555.1 231.349 L1559.8 231.349 L1559.8 252.344 Q1559.8 257.899 1561.82 260.353 Q1563.83 262.784 1568.34 262.784 Q1572.84 262.784 1574.85 260.353 Q1576.86 257.899 1576.86 252.344 L1576.86 231.349 L1581.56 231.349 L1581.56 252.923 Q1581.56 259.682 1578.21 263.131 Q1574.87 266.58 1568.34 266.58 Q1561.79 266.58 1558.44 263.131 Q1555.1 259.682 1555.1 252.923 L1555.1 231.349 Z\" fill=\"#000000\" fill-rule=\"evenodd\" fill-opacity=\"1\" /><path clip-path=\"url(#clip670)\" d=\"M1594.27 262.02 L1594.27 275.77 L1589.99 275.77 L1589.99 239.983 L1594.27 239.983 L1594.27 243.918 Q1595.61 241.603 1597.65 240.492 Q1599.71 239.358 1602.56 239.358 Q1607.28 239.358 1610.22 243.108 Q1613.18 246.858 1613.18 252.969 Q1613.18 259.08 1610.22 262.83 Q1607.28 266.58 1602.56 266.58 Q1599.71 266.58 1597.65 265.469 Q1595.61 264.335 1594.27 262.02 M1608.76 252.969 Q1608.76 248.27 1606.82 245.608 Q1604.9 242.923 1601.52 242.923 Q1598.14 242.923 1596.19 245.608 Q1594.27 248.27 1594.27 252.969 Q1594.27 257.668 1596.19 260.353 Q1598.14 263.015 1601.52 263.015 Q1604.9 263.015 1606.82 260.353 Q1608.76 257.668 1608.76 252.969 Z\" fill=\"#000000\" fill-rule=\"evenodd\" fill-opacity=\"1\" /><path clip-path=\"url(#clip670)\" d=\"M1624.36 262.02 L1624.36 275.77 L1620.08 275.77 L1620.08 239.983 L1624.36 239.983 L1624.36 243.918 Q1625.71 241.603 1627.74 240.492 Q1629.8 239.358 1632.65 239.358 Q1637.37 239.358 1640.31 243.108 Q1643.27 246.858 1643.27 252.969 Q1643.27 259.08 1640.31 262.83 Q1637.37 266.58 1632.65 266.58 Q1629.8 266.58 1627.74 265.469 Q1625.71 264.335 1624.36 262.02 M1638.85 252.969 Q1638.85 248.27 1636.91 245.608 Q1634.99 242.923 1631.61 242.923 Q1628.23 242.923 1626.28 245.608 Q1624.36 248.27 1624.36 252.969 Q1624.36 257.668 1626.28 260.353 Q1628.23 263.015 1631.61 263.015 Q1634.99 263.015 1636.91 260.353 Q1638.85 257.668 1638.85 252.969 Z\" fill=\"#000000\" fill-rule=\"evenodd\" fill-opacity=\"1\" /><path clip-path=\"url(#clip670)\" d=\"M1672.51 251.881 L1672.51 253.964 L1652.93 253.964 Q1653.21 258.362 1655.57 260.677 Q1657.95 262.969 1662.19 262.969 Q1664.64 262.969 1666.93 262.367 Q1669.25 261.765 1671.52 260.561 L1671.52 264.589 Q1669.22 265.561 1666.82 266.071 Q1664.41 266.58 1661.93 266.58 Q1655.73 266.58 1652.09 262.969 Q1648.48 259.358 1648.48 253.2 Q1648.48 246.835 1651.91 243.108 Q1655.36 239.358 1661.19 239.358 Q1666.42 239.358 1669.46 242.737 Q1672.51 246.094 1672.51 251.881 M1668.25 250.631 Q1668.21 247.136 1666.28 245.052 Q1664.39 242.969 1661.24 242.969 Q1657.67 242.969 1655.52 244.983 Q1653.39 246.997 1653.07 250.654 L1668.25 250.631 Z\" fill=\"#000000\" fill-rule=\"evenodd\" fill-opacity=\"1\" /><path clip-path=\"url(#clip670)\" d=\"M1694.52 243.964 Q1693.81 243.548 1692.95 243.362 Q1692.12 243.154 1691.1 243.154 Q1687.49 243.154 1685.54 245.515 Q1683.62 247.853 1683.62 252.251 L1683.62 265.909 L1679.34 265.909 L1679.34 239.983 L1683.62 239.983 L1683.62 244.011 Q1684.96 241.649 1687.12 240.515 Q1689.27 239.358 1692.35 239.358 Q1692.79 239.358 1693.32 239.427 Q1693.85 239.474 1694.5 239.589 L1694.52 243.964 Z\" fill=\"#000000\" fill-rule=\"evenodd\" fill-opacity=\"1\" /><path clip-path=\"url(#clip670)\" d=\"M1732.67 252.969 Q1732.67 248.27 1730.73 245.608 Q1728.81 242.923 1725.43 242.923 Q1722.05 242.923 1720.1 245.608 Q1718.18 248.27 1718.18 252.969 Q1718.18 257.668 1720.1 260.353 Q1722.05 263.015 1725.43 263.015 Q1728.81 263.015 1730.73 260.353 Q1732.67 257.668 1732.67 252.969 M1718.18 243.918 Q1719.52 241.603 1721.56 240.492 Q1723.62 239.358 1726.47 239.358 Q1731.19 239.358 1734.13 243.108 Q1737.09 246.858 1737.09 252.969 Q1737.09 259.08 1734.13 262.83 Q1731.19 266.58 1726.47 266.58 Q1723.62 266.58 1721.56 265.469 Q1719.52 264.335 1718.18 262.02 L1718.18 265.909 L1713.9 265.909 L1713.9 229.89 L1718.18 229.89 L1718.18 243.918 Z\" fill=\"#000000\" fill-rule=\"evenodd\" fill-opacity=\"1\" /><path clip-path=\"url(#clip670)\" d=\"M1754.2 242.969 Q1750.77 242.969 1748.78 245.654 Q1746.79 248.316 1746.79 252.969 Q1746.79 257.622 1748.76 260.307 Q1750.75 262.969 1754.2 262.969 Q1757.6 262.969 1759.59 260.284 Q1761.58 257.598 1761.58 252.969 Q1761.58 248.362 1759.59 245.677 Q1757.6 242.969 1754.2 242.969 M1754.2 239.358 Q1759.76 239.358 1762.93 242.969 Q1766.1 246.58 1766.1 252.969 Q1766.1 259.335 1762.93 262.969 Q1759.76 266.58 1754.2 266.58 Q1748.62 266.58 1745.45 262.969 Q1742.3 259.335 1742.3 252.969 Q1742.3 246.58 1745.45 242.969 Q1748.62 239.358 1754.2 239.358 Z\" fill=\"#000000\" fill-rule=\"evenodd\" fill-opacity=\"1\" /><path clip-path=\"url(#clip670)\" d=\"M1772.72 255.677 L1772.72 239.983 L1776.98 239.983 L1776.98 255.515 Q1776.98 259.196 1778.41 261.048 Q1779.85 262.876 1782.72 262.876 Q1786.17 262.876 1788.16 260.677 Q1790.17 258.478 1790.17 254.682 L1790.17 239.983 L1794.43 239.983 L1794.43 265.909 L1790.17 265.909 L1790.17 261.927 Q1788.62 264.288 1786.56 265.446 Q1784.52 266.58 1781.82 266.58 Q1777.35 266.58 1775.03 263.802 Q1772.72 261.024 1772.72 255.677 M1783.44 239.358 L1783.44 239.358 Z\" fill=\"#000000\" fill-rule=\"evenodd\" fill-opacity=\"1\" /><path clip-path=\"url(#clip670)\" d=\"M1824.76 250.261 L1824.76 265.909 L1820.5 265.909 L1820.5 250.399 Q1820.5 246.719 1819.06 244.89 Q1817.63 243.062 1814.76 243.062 Q1811.31 243.062 1809.32 245.261 Q1807.33 247.46 1807.33 251.256 L1807.33 265.909 L1803.04 265.909 L1803.04 239.983 L1807.33 239.983 L1807.33 244.011 Q1808.85 241.673 1810.91 240.515 Q1813 239.358 1815.7 239.358 Q1820.17 239.358 1822.46 242.136 Q1824.76 244.89 1824.76 250.261 Z\" fill=\"#000000\" fill-rule=\"evenodd\" fill-opacity=\"1\" /><path clip-path=\"url(#clip670)\" d=\"M1850.31 243.918 L1850.31 229.89 L1854.57 229.89 L1854.57 265.909 L1850.31 265.909 L1850.31 262.02 Q1848.97 264.335 1846.91 265.469 Q1844.87 266.58 1842 266.58 Q1837.3 266.58 1834.34 262.83 Q1831.4 259.08 1831.4 252.969 Q1831.4 246.858 1834.34 243.108 Q1837.3 239.358 1842 239.358 Q1844.87 239.358 1846.91 240.492 Q1848.97 241.603 1850.31 243.918 M1835.8 252.969 Q1835.8 257.668 1837.72 260.353 Q1839.66 263.015 1843.04 263.015 Q1846.42 263.015 1848.37 260.353 Q1850.31 257.668 1850.31 252.969 Q1850.31 248.27 1848.37 245.608 Q1846.42 242.923 1843.04 242.923 Q1839.66 242.923 1837.72 245.608 Q1835.8 248.27 1835.8 252.969 Z\" fill=\"#000000\" fill-rule=\"evenodd\" fill-opacity=\"1\" /><path clip-path=\"url(#clip670)\" d=\"M1888.46 242.969 Q1885.03 242.969 1883.04 245.654 Q1881.05 248.316 1881.05 252.969 Q1881.05 257.622 1883.02 260.307 Q1885.01 262.969 1888.46 262.969 Q1891.86 262.969 1893.85 260.284 Q1895.84 257.598 1895.84 252.969 Q1895.84 248.362 1893.85 245.677 Q1891.86 242.969 1888.46 242.969 M1888.46 239.358 Q1894.01 239.358 1897.19 242.969 Q1900.36 246.58 1900.36 252.969 Q1900.36 259.335 1897.19 262.969 Q1894.01 266.58 1888.46 266.58 Q1882.88 266.58 1879.71 262.969 Q1876.56 259.335 1876.56 252.969 Q1876.56 246.58 1879.71 242.969 Q1882.88 239.358 1888.46 239.358 Z\" fill=\"#000000\" fill-rule=\"evenodd\" fill-opacity=\"1\" /><path clip-path=\"url(#clip670)\" d=\"M1920.54 229.89 L1920.54 233.432 L1916.47 233.432 Q1914.18 233.432 1913.27 234.358 Q1912.39 235.284 1912.39 237.691 L1912.39 239.983 L1919.41 239.983 L1919.41 243.293 L1912.39 243.293 L1912.39 265.909 L1908.11 265.909 L1908.11 243.293 L1904.04 243.293 L1904.04 239.983 L1908.11 239.983 L1908.11 238.177 Q1908.11 233.849 1910.13 231.881 Q1912.14 229.89 1916.51 229.89 L1920.54 229.89 Z\" fill=\"#000000\" fill-rule=\"evenodd\" fill-opacity=\"1\" /><path clip-path=\"url(#clip670)\" d=\"M1943.39 232.622 L1943.39 239.983 L1952.16 239.983 L1952.16 243.293 L1943.39 243.293 L1943.39 257.367 Q1943.39 260.538 1944.25 261.441 Q1945.13 262.344 1947.79 262.344 L1952.16 262.344 L1952.16 265.909 L1947.79 265.909 Q1942.86 265.909 1940.98 264.08 Q1939.11 262.228 1939.11 257.367 L1939.11 243.293 L1935.98 243.293 L1935.98 239.983 L1939.11 239.983 L1939.11 232.622 L1943.39 232.622 Z\" fill=\"#000000\" fill-rule=\"evenodd\" fill-opacity=\"1\" /><path clip-path=\"url(#clip670)\" d=\"M1972.79 243.964 Q1972.07 243.548 1971.21 243.362 Q1970.38 243.154 1969.36 243.154 Q1965.75 243.154 1963.81 245.515 Q1961.88 247.853 1961.88 252.251 L1961.88 265.909 L1957.6 265.909 L1957.6 239.983 L1961.88 239.983 L1961.88 244.011 Q1963.23 241.649 1965.38 240.515 Q1967.53 239.358 1970.61 239.358 Q1971.05 239.358 1971.58 239.427 Q1972.12 239.474 1972.76 239.589 L1972.79 243.964 Z\" fill=\"#000000\" fill-rule=\"evenodd\" fill-opacity=\"1\" /><path clip-path=\"url(#clip670)\" d=\"M1989.04 252.876 Q1983.88 252.876 1981.88 254.057 Q1979.89 255.237 1979.89 258.085 Q1979.89 260.353 1981.38 261.696 Q1982.88 263.015 1985.45 263.015 Q1988.99 263.015 1991.12 260.515 Q1993.27 257.992 1993.27 253.825 L1993.27 252.876 L1989.04 252.876 M1997.53 251.117 L1997.53 265.909 L1993.27 265.909 L1993.27 261.973 Q1991.81 264.335 1989.64 265.469 Q1987.46 266.58 1984.31 266.58 Q1980.33 266.58 1977.97 264.358 Q1975.63 262.112 1975.63 258.362 Q1975.63 253.987 1978.55 251.765 Q1981.49 249.543 1987.3 249.543 L1993.27 249.543 L1993.27 249.126 Q1993.27 246.187 1991.33 244.589 Q1989.41 242.969 1985.91 242.969 Q1983.69 242.969 1981.58 243.501 Q1979.48 244.034 1977.53 245.099 L1977.53 241.163 Q1979.87 240.261 1982.07 239.821 Q1984.27 239.358 1986.35 239.358 Q1991.98 239.358 1994.75 242.274 Q1997.53 245.191 1997.53 251.117 Z\" fill=\"#000000\" fill-rule=\"evenodd\" fill-opacity=\"1\" /><path clip-path=\"url(#clip670)\" d=\"M2006.31 239.983 L2010.56 239.983 L2010.56 265.909 L2006.31 265.909 L2006.31 239.983 M2006.31 229.89 L2010.56 229.89 L2010.56 235.284 L2006.31 235.284 L2006.31 229.89 Z\" fill=\"#000000\" fill-rule=\"evenodd\" fill-opacity=\"1\" /><path clip-path=\"url(#clip670)\" d=\"M2041.03 250.261 L2041.03 265.909 L2036.77 265.909 L2036.77 250.399 Q2036.77 246.719 2035.33 244.89 Q2033.9 243.062 2031.03 243.062 Q2027.58 243.062 2025.59 245.261 Q2023.6 247.46 2023.6 251.256 L2023.6 265.909 L2019.31 265.909 L2019.31 239.983 L2023.6 239.983 L2023.6 244.011 Q2025.12 241.673 2027.18 240.515 Q2029.27 239.358 2031.98 239.358 Q2036.44 239.358 2038.74 242.136 Q2041.03 244.89 2041.03 250.261 Z\" fill=\"#000000\" fill-rule=\"evenodd\" fill-opacity=\"1\" /><path clip-path=\"url(#clip670)\" d=\"M2049.52 239.983 L2053.78 239.983 L2053.78 265.909 L2049.52 265.909 L2049.52 239.983 M2049.52 229.89 L2053.78 229.89 L2053.78 235.284 L2049.52 235.284 L2049.52 229.89 Z\" fill=\"#000000\" fill-rule=\"evenodd\" fill-opacity=\"1\" /><path clip-path=\"url(#clip670)\" d=\"M2084.24 250.261 L2084.24 265.909 L2079.99 265.909 L2079.99 250.399 Q2079.99 246.719 2078.55 244.89 Q2077.12 243.062 2074.24 243.062 Q2070.8 243.062 2068.81 245.261 Q2066.81 247.46 2066.81 251.256 L2066.81 265.909 L2062.53 265.909 L2062.53 239.983 L2066.81 239.983 L2066.81 244.011 Q2068.34 241.673 2070.4 240.515 Q2072.49 239.358 2075.19 239.358 Q2079.66 239.358 2081.95 242.136 Q2084.24 244.89 2084.24 250.261 Z\" fill=\"#000000\" fill-rule=\"evenodd\" fill-opacity=\"1\" /><path clip-path=\"url(#clip670)\" d=\"M2109.8 252.645 Q2109.8 248.015 2107.88 245.469 Q2105.98 242.923 2102.53 242.923 Q2099.11 242.923 2097.18 245.469 Q2095.29 248.015 2095.29 252.645 Q2095.29 257.251 2097.18 259.798 Q2099.11 262.344 2102.53 262.344 Q2105.98 262.344 2107.88 259.798 Q2109.8 257.251 2109.8 252.645 M2114.06 262.691 Q2114.06 269.311 2111.12 272.529 Q2108.18 275.77 2102.12 275.77 Q2099.87 275.77 2097.88 275.422 Q2095.89 275.098 2094.01 274.404 L2094.01 270.26 Q2095.89 271.279 2097.72 271.765 Q2099.55 272.251 2101.44 272.251 Q2105.63 272.251 2107.72 270.052 Q2109.8 267.876 2109.8 263.455 L2109.8 261.348 Q2108.48 263.64 2106.42 264.774 Q2104.36 265.909 2101.49 265.909 Q2096.72 265.909 2093.8 262.274 Q2090.89 258.64 2090.89 252.645 Q2090.89 246.626 2093.8 242.992 Q2096.72 239.358 2101.49 239.358 Q2104.36 239.358 2106.42 240.492 Q2108.48 241.626 2109.8 243.918 L2109.8 239.983 L2114.06 239.983 L2114.06 262.691 Z\" fill=\"#000000\" fill-rule=\"evenodd\" fill-opacity=\"1\" /><path clip-path=\"url(#clip670)\" d=\"M2154.96 243.918 L2154.96 229.89 L2159.22 229.89 L2159.22 265.909 L2154.96 265.909 L2154.96 262.02 Q2153.62 264.335 2151.56 265.469 Q2149.52 266.58 2146.65 266.58 Q2141.95 266.58 2138.99 262.83 Q2136.05 259.08 2136.05 252.969 Q2136.05 246.858 2138.99 243.108 Q2141.95 239.358 2146.65 239.358 Q2149.52 239.358 2151.56 240.492 Q2153.62 241.603 2154.96 243.918 M2140.45 252.969 Q2140.45 257.668 2142.37 260.353 Q2144.31 263.015 2147.69 263.015 Q2151.07 263.015 2153.02 260.353 Q2154.96 257.668 2154.96 252.969 Q2154.96 248.27 2153.02 245.608 Q2151.07 242.923 2147.69 242.923 Q2144.31 242.923 2142.37 245.608 Q2140.45 248.27 2140.45 252.969 Z\" fill=\"#000000\" fill-rule=\"evenodd\" fill-opacity=\"1\" /><path clip-path=\"url(#clip670)\" d=\"M2179.78 252.876 Q2174.61 252.876 2172.62 254.057 Q2170.63 255.237 2170.63 258.085 Q2170.63 260.353 2172.11 261.696 Q2173.62 263.015 2176.19 263.015 Q2179.73 263.015 2181.86 260.515 Q2184.01 257.992 2184.01 253.825 L2184.01 252.876 L2179.78 252.876 M2188.27 251.117 L2188.27 265.909 L2184.01 265.909 L2184.01 261.973 Q2182.55 264.335 2180.38 265.469 Q2178.2 266.58 2175.05 266.58 Q2171.07 266.58 2168.71 264.358 Q2166.37 262.112 2166.37 258.362 Q2166.37 253.987 2169.29 251.765 Q2172.23 249.543 2178.04 249.543 L2184.01 249.543 L2184.01 249.126 Q2184.01 246.187 2182.07 244.589 Q2180.15 242.969 2176.65 242.969 Q2174.43 242.969 2172.32 243.501 Q2170.22 244.034 2168.27 245.099 L2168.27 241.163 Q2170.61 240.261 2172.81 239.821 Q2175.01 239.358 2177.09 239.358 Q2182.72 239.358 2185.49 242.274 Q2188.27 245.191 2188.27 251.117 Z\" fill=\"#000000\" fill-rule=\"evenodd\" fill-opacity=\"1\" /><path clip-path=\"url(#clip670)\" d=\"M2201.26 232.622 L2201.26 239.983 L2210.03 239.983 L2210.03 243.293 L2201.26 243.293 L2201.26 257.367 Q2201.26 260.538 2202.11 261.441 Q2202.99 262.344 2205.66 262.344 L2210.03 262.344 L2210.03 265.909 L2205.66 265.909 Q2200.73 265.909 2198.85 264.08 Q2196.98 262.228 2196.98 257.367 L2196.98 243.293 L2193.85 243.293 L2193.85 239.983 L2196.98 239.983 L2196.98 232.622 L2201.26 232.622 Z\" fill=\"#000000\" fill-rule=\"evenodd\" fill-opacity=\"1\" /><path clip-path=\"url(#clip670)\" d=\"M2227.42 252.876 Q2222.25 252.876 2220.26 254.057 Q2218.27 255.237 2218.27 258.085 Q2218.27 260.353 2219.75 261.696 Q2221.26 263.015 2223.83 263.015 Q2227.37 263.015 2229.5 260.515 Q2231.65 257.992 2231.65 253.825 L2231.65 252.876 L2227.42 252.876 M2235.91 251.117 L2235.91 265.909 L2231.65 265.909 L2231.65 261.973 Q2230.19 264.335 2228.02 265.469 Q2225.84 266.58 2222.69 266.58 Q2218.71 266.58 2216.35 264.358 Q2214.01 262.112 2214.01 258.362 Q2214.01 253.987 2216.93 251.765 Q2219.87 249.543 2225.68 249.543 L2231.65 249.543 L2231.65 249.126 Q2231.65 246.187 2229.71 244.589 Q2227.79 242.969 2224.29 242.969 Q2222.07 242.969 2219.96 243.501 Q2217.86 244.034 2215.91 245.099 L2215.91 241.163 Q2218.25 240.261 2220.45 239.821 Q2222.65 239.358 2224.73 239.358 Q2230.36 239.358 2233.13 242.274 Q2235.91 245.191 2235.91 251.117 Z\" fill=\"#000000\" fill-rule=\"evenodd\" fill-opacity=\"1\" /></svg>\n"
      ]
     },
     "execution_count": 28,
     "metadata": {},
     "output_type": "execute_result"
    }
   ],
   "source": [
    "λs = [foi2([I],res_ude2.minimizer, st2)[1][1] for I in Igrid]\n",
    "scatter(Igrid, λs, xlabel=\"Proportion of population infected, i\", ylab=\"Force of infection, λ\", label=\"Neural network prediction\", dpi=300)\n",
    "Plots.abline!(p[1], 0,label=\"True value\")\n",
    "Plots.vline!([Imax], label=\"Upper bound of training data\")"
   ]
  },
  {
   "cell_type": "markdown",
   "metadata": {},
   "source": [
    "## Symbolic Regression"
   ]
  },
  {
   "cell_type": "code",
   "execution_count": 29,
   "metadata": {
    "execution": {
     "iopub.execute_input": "2022-10-24T14:13:57.854000Z",
     "iopub.status.busy": "2022-10-24T14:13:57.854000Z",
     "iopub.status.idle": "2022-10-24T14:13:58.607000Z",
     "shell.execute_reply": "2022-10-24T14:13:58.607000Z"
    }
   },
   "outputs": [
    {
     "data": {
      "text/plain": [
       "1×41 Matrix{Float64}:\n",
       " 0.01  0.0124666  0.0155791  0.0194807  …  0.0201411  0.0174061  0.0150213"
      ]
     },
     "execution_count": 29,
     "metadata": {},
     "output_type": "execute_result"
    }
   ],
   "source": [
    "t_measure = tspan[1]:δt:tspan[2]\n",
    "X̂ = Is = reshape(collect(Iterators.flatten(sol_fit(t_measure, idxs=[2]).u)), 1, length(t_measure))"
   ]
  },
  {
   "cell_type": "code",
   "execution_count": 30,
   "metadata": {
    "execution": {
     "iopub.execute_input": "2022-10-24T14:13:58.611000Z",
     "iopub.status.busy": "2022-10-24T14:13:58.611000Z",
     "iopub.status.idle": "2022-10-24T14:13:58.672000Z",
     "shell.execute_reply": "2022-10-24T14:13:58.672000Z"
    }
   },
   "outputs": [
    {
     "data": {
      "text/plain": [
       "1×41 Matrix{Float64}:\n",
       " 0.00473386  0.00597508  0.00754136  …  0.00983704  0.00846075  0.00726067"
      ]
     },
     "execution_count": 30,
     "metadata": {},
     "output_type": "execute_result"
    }
   ],
   "source": [
    "Ŷ = reshape([foi2([I],res_ude2.minimizer, st2)[1][1] for I in Is], 1, length(Is))"
   ]
  },
  {
   "cell_type": "code",
   "execution_count": 31,
   "metadata": {
    "execution": {
     "iopub.execute_input": "2022-10-24T14:13:58.676000Z",
     "iopub.status.busy": "2022-10-24T14:13:58.676000Z",
     "iopub.status.idle": "2022-10-24T14:14:27.519000Z",
     "shell.execute_reply": "2022-10-24T14:14:27.519000Z"
    }
   },
   "outputs": [],
   "source": [
    "# Create a Basis\n",
    "@variables u[1:1]\n",
    "# Generate the basis functions, multivariate polynomials up to deg 5\n",
    "# and sine\n",
    "b = [polynomial_basis(u, 5); sin.(u); cos.(u); exp.(u)]\n",
    "basis = Basis(b,u);"
   ]
  },
  {
   "cell_type": "code",
   "execution_count": 32,
   "metadata": {
    "execution": {
     "iopub.execute_input": "2022-10-24T14:14:27.523000Z",
     "iopub.status.busy": "2022-10-24T14:14:27.522000Z",
     "iopub.status.idle": "2022-10-24T14:14:41.239000Z",
     "shell.execute_reply": "2022-10-24T14:14:41.239000Z"
    }
   },
   "outputs": [
    {
     "data": {
      "text/latex": [
       "$$ \\begin{align}\n",
       "\\varphi_1 =& 1 \\\\\n",
       "\\varphi_2 =& u_1 \\\\\n",
       "\\varphi_3 =& u_1^{2} \\\\\n",
       "\\varphi_4 =& u_1^{3} \\\\\n",
       "\\varphi_5 =& u_1^{4} \\\\\n",
       "\\varphi_6 =& u_1^{5} \\\\\n",
       "\\varphi_7 =& \\sin\\left( u_1 \\right) \\\\\n",
       "\\varphi_8 =& \\cos\\left( u_1 \\right) \\\\\n",
       "\\varphi_9 =& e^{u_1}\n",
       "\\end{align}\n",
       " $$"
      ],
      "text/plain": [
       "\u001b[0m\u001b[1mModel ##Basis#396 with 9 \u001b[22m\u001b[0m\u001b[1mequations\u001b[22m\n",
       "\u001b[0m\u001b[1mStates (1):\u001b[22m\n",
       "  u[1]\n",
       "\u001b[0m\u001b[1mParameters (0):\u001b[22m"
      ]
     },
     "execution_count": 32,
     "metadata": {},
     "output_type": "execute_result"
    }
   ],
   "source": [
    "basis"
   ]
  },
  {
   "cell_type": "code",
   "execution_count": 33,
   "metadata": {
    "execution": {
     "iopub.execute_input": "2022-10-24T14:14:41.244000Z",
     "iopub.status.busy": "2022-10-24T14:14:41.244000Z",
     "iopub.status.idle": "2022-10-24T14:15:21.756000Z",
     "shell.execute_reply": "2022-10-24T14:15:21.755000Z"
    }
   },
   "outputs": [
    {
     "name": "stderr",
     "output_type": "stream",
     "text": [
      "\u001b[32mSTLSQ   0%|▏                                             |  ETA: 0:11:40\u001b[39m\r\n",
      "\u001b[34m  Threshold:          0.0010232929922807535\u001b[39m\r\n",
      "\u001b[34m  Best Objective:     0.0\u001b[39m\r\n",
      "\u001b[34m  Best Sparsity:      8.0\u001b[39m\r\n",
      "\u001b[34m  Current Objective:  0.0\u001b[39m\r\n",
      "\u001b[34m  Current Sparsity:   8.0\u001b[39m"
     ]
    },
    {
     "data": {
      "text/plain": [
       "Linear Solution"
      ]
     },
     "execution_count": 33,
     "metadata": {},
     "output_type": "execute_result"
    }
   ],
   "source": [
    "λ = exp10.(-3:0.01:5)\n",
    "# Create an optimizer for the SINDy problem\n",
    "opt = STLSQ(λ)\n",
    "# Define different problems for the recovery\n",
    "nn_problem = DirectDataDrivenProblem(X̂, Ŷ)\n",
    "# Test on ideal derivative data for unknown function ( not available )\n",
    "nn_res = solve(nn_problem, basis, opt, maxiter = 10000, progress = true)"
   ]
  },
  {
   "cell_type": "code",
   "execution_count": 34,
   "metadata": {
    "execution": {
     "iopub.execute_input": "2022-10-24T14:15:21.759000Z",
     "iopub.status.busy": "2022-10-24T14:15:21.759000Z",
     "iopub.status.idle": "2022-10-24T14:15:22.108000Z",
     "shell.execute_reply": "2022-10-24T14:15:22.108000Z"
    }
   },
   "outputs": [
    {
     "data": {
      "text/latex": [
       "$$ \\begin{align}\n",
       "\\varphi_1 =& p_1 u_1\n",
       "\\end{align}\n",
       " $$"
      ],
      "text/plain": [
       "\u001b[0m\u001b[1mModel ##Basis#400 with 1 \u001b[22m\u001b[0m\u001b[1mequations\u001b[22m\n",
       "\u001b[0m\u001b[1mStates (1):\u001b[22m\n",
       "  u[1]\n",
       "\u001b[0m\u001b[1mParameters (1):\u001b[22m\n",
       "  p₁"
      ]
     },
     "execution_count": 34,
     "metadata": {},
     "output_type": "execute_result"
    }
   ],
   "source": [
    "result(nn_res)"
   ]
  },
  {
   "cell_type": "code",
   "execution_count": 35,
   "metadata": {
    "execution": {
     "iopub.execute_input": "2022-10-24T14:15:22.112000Z",
     "iopub.status.busy": "2022-10-24T14:15:22.112000Z",
     "iopub.status.idle": "2022-10-24T14:15:22.580000Z",
     "shell.execute_reply": "2022-10-24T14:15:22.580000Z"
    }
   },
   "outputs": [
    {
     "data": {
      "text/plain": [
       "1-element Vector{Float64}:\n",
       " 0.5"
      ]
     },
     "execution_count": 35,
     "metadata": {},
     "output_type": "execute_result"
    }
   ],
   "source": [
    "parameters(nn_res)"
   ]
  },
  {
   "cell_type": "code",
   "execution_count": 36,
   "metadata": {
    "execution": {
     "iopub.execute_input": "2022-10-24T14:15:22.583000Z",
     "iopub.status.busy": "2022-10-24T14:15:22.583000Z",
     "iopub.status.idle": "2022-10-24T14:15:22.676000Z",
     "shell.execute_reply": "2022-10-24T14:15:22.676000Z"
    }
   },
   "outputs": [
    {
     "data": {
      "image/svg+xml": [
       "<?xml version=\"1.0\" encoding=\"utf-8\"?>\n",
       "<svg xmlns=\"http://www.w3.org/2000/svg\" xmlns:xlink=\"http://www.w3.org/1999/xlink\" width=\"600\" height=\"400\" viewBox=\"0 0 2400 1600\">\n",
       "<defs>\n",
       "  <clipPath id=\"clip710\">\n",
       "    <rect x=\"0\" y=\"0\" width=\"2400\" height=\"1600\"/>\n",
       "  </clipPath>\n",
       "</defs>\n",
       "<path clip-path=\"url(#clip710)\" d=\"\n",
       "M0 1600 L2400 1600 L2400 0 L0 0  Z\n",
       "  \" fill=\"#ffffff\" fill-rule=\"evenodd\" fill-opacity=\"1\"/>\n",
       "<defs>\n",
       "  <clipPath id=\"clip711\">\n",
       "    <rect x=\"480\" y=\"0\" width=\"1681\" height=\"1600\"/>\n",
       "  </clipPath>\n",
       "</defs>\n",
       "<path clip-path=\"url(#clip710)\" d=\"\n",
       "M249.542 1423.18 L2352.76 1423.18 L2352.76 47.2441 L249.542 47.2441  Z\n",
       "  \" fill=\"#ffffff\" fill-rule=\"evenodd\" fill-opacity=\"1\"/>\n",
       "<defs>\n",
       "  <clipPath id=\"clip712\">\n",
       "    <rect x=\"249\" y=\"47\" width=\"2104\" height=\"1377\"/>\n",
       "  </clipPath>\n",
       "</defs>\n",
       "<polyline clip-path=\"url(#clip712)\" style=\"stroke:#000000; stroke-linecap:round; stroke-linejoin:round; stroke-width:2; stroke-opacity:0.1; fill:none\" points=\"\n",
       "  309.067,1423.18 309.067,47.2441 \n",
       "  \"/>\n",
       "<polyline clip-path=\"url(#clip712)\" style=\"stroke:#000000; stroke-linecap:round; stroke-linejoin:round; stroke-width:2; stroke-opacity:0.1; fill:none\" points=\"\n",
       "  705.9,1423.18 705.9,47.2441 \n",
       "  \"/>\n",
       "<polyline clip-path=\"url(#clip712)\" style=\"stroke:#000000; stroke-linecap:round; stroke-linejoin:round; stroke-width:2; stroke-opacity:0.1; fill:none\" points=\"\n",
       "  1102.73,1423.18 1102.73,47.2441 \n",
       "  \"/>\n",
       "<polyline clip-path=\"url(#clip712)\" style=\"stroke:#000000; stroke-linecap:round; stroke-linejoin:round; stroke-width:2; stroke-opacity:0.1; fill:none\" points=\"\n",
       "  1499.57,1423.18 1499.57,47.2441 \n",
       "  \"/>\n",
       "<polyline clip-path=\"url(#clip712)\" style=\"stroke:#000000; stroke-linecap:round; stroke-linejoin:round; stroke-width:2; stroke-opacity:0.1; fill:none\" points=\"\n",
       "  1896.4,1423.18 1896.4,47.2441 \n",
       "  \"/>\n",
       "<polyline clip-path=\"url(#clip712)\" style=\"stroke:#000000; stroke-linecap:round; stroke-linejoin:round; stroke-width:2; stroke-opacity:0.1; fill:none\" points=\"\n",
       "  2293.23,1423.18 2293.23,47.2441 \n",
       "  \"/>\n",
       "<polyline clip-path=\"url(#clip710)\" style=\"stroke:#000000; stroke-linecap:round; stroke-linejoin:round; stroke-width:4; stroke-opacity:1; fill:none\" points=\"\n",
       "  249.542,1423.18 2352.76,1423.18 \n",
       "  \"/>\n",
       "<polyline clip-path=\"url(#clip710)\" style=\"stroke:#000000; stroke-linecap:round; stroke-linejoin:round; stroke-width:4; stroke-opacity:1; fill:none\" points=\"\n",
       "  309.067,1423.18 309.067,1404.28 \n",
       "  \"/>\n",
       "<polyline clip-path=\"url(#clip710)\" style=\"stroke:#000000; stroke-linecap:round; stroke-linejoin:round; stroke-width:4; stroke-opacity:1; fill:none\" points=\"\n",
       "  705.9,1423.18 705.9,1404.28 \n",
       "  \"/>\n",
       "<polyline clip-path=\"url(#clip710)\" style=\"stroke:#000000; stroke-linecap:round; stroke-linejoin:round; stroke-width:4; stroke-opacity:1; fill:none\" points=\"\n",
       "  1102.73,1423.18 1102.73,1404.28 \n",
       "  \"/>\n",
       "<polyline clip-path=\"url(#clip710)\" style=\"stroke:#000000; stroke-linecap:round; stroke-linejoin:round; stroke-width:4; stroke-opacity:1; fill:none\" points=\"\n",
       "  1499.57,1423.18 1499.57,1404.28 \n",
       "  \"/>\n",
       "<polyline clip-path=\"url(#clip710)\" style=\"stroke:#000000; stroke-linecap:round; stroke-linejoin:round; stroke-width:4; stroke-opacity:1; fill:none\" points=\"\n",
       "  1896.4,1423.18 1896.4,1404.28 \n",
       "  \"/>\n",
       "<polyline clip-path=\"url(#clip710)\" style=\"stroke:#000000; stroke-linecap:round; stroke-linejoin:round; stroke-width:4; stroke-opacity:1; fill:none\" points=\"\n",
       "  2293.23,1423.18 2293.23,1404.28 \n",
       "  \"/>\n",
       "<path clip-path=\"url(#clip710)\" d=\"M286.451 1454.1 Q282.84 1454.1 281.012 1457.66 Q279.206 1461.2 279.206 1468.33 Q279.206 1475.44 281.012 1479.01 Q282.84 1482.55 286.451 1482.55 Q290.086 1482.55 291.891 1479.01 Q293.72 1475.44 293.72 1468.33 Q293.72 1461.2 291.891 1457.66 Q290.086 1454.1 286.451 1454.1 M286.451 1450.39 Q292.261 1450.39 295.317 1455 Q298.396 1459.58 298.396 1468.33 Q298.396 1477.06 295.317 1481.67 Q292.261 1486.25 286.451 1486.25 Q280.641 1486.25 277.562 1481.67 Q274.507 1477.06 274.507 1468.33 Q274.507 1459.58 277.562 1455 Q280.641 1450.39 286.451 1450.39 Z\" fill=\"#000000\" fill-rule=\"evenodd\" fill-opacity=\"1\" /><path clip-path=\"url(#clip710)\" d=\"M306.613 1479.7 L311.497 1479.7 L311.497 1485.58 L306.613 1485.58 L306.613 1479.7 Z\" fill=\"#000000\" fill-rule=\"evenodd\" fill-opacity=\"1\" /><path clip-path=\"url(#clip710)\" d=\"M331.683 1454.1 Q328.071 1454.1 326.243 1457.66 Q324.437 1461.2 324.437 1468.33 Q324.437 1475.44 326.243 1479.01 Q328.071 1482.55 331.683 1482.55 Q335.317 1482.55 337.122 1479.01 Q338.951 1475.44 338.951 1468.33 Q338.951 1461.2 337.122 1457.66 Q335.317 1454.1 331.683 1454.1 M331.683 1450.39 Q337.493 1450.39 340.548 1455 Q343.627 1459.58 343.627 1468.33 Q343.627 1477.06 340.548 1481.67 Q337.493 1486.25 331.683 1486.25 Q325.872 1486.25 322.794 1481.67 Q319.738 1477.06 319.738 1468.33 Q319.738 1459.58 322.794 1455 Q325.872 1450.39 331.683 1450.39 Z\" fill=\"#000000\" fill-rule=\"evenodd\" fill-opacity=\"1\" /><path clip-path=\"url(#clip710)\" d=\"M683.898 1454.1 Q680.286 1454.1 678.458 1457.66 Q676.652 1461.2 676.652 1468.33 Q676.652 1475.44 678.458 1479.01 Q680.286 1482.55 683.898 1482.55 Q687.532 1482.55 689.337 1479.01 Q691.166 1475.44 691.166 1468.33 Q691.166 1461.2 689.337 1457.66 Q687.532 1454.1 683.898 1454.1 M683.898 1450.39 Q689.708 1450.39 692.763 1455 Q695.842 1459.58 695.842 1468.33 Q695.842 1477.06 692.763 1481.67 Q689.708 1486.25 683.898 1486.25 Q678.087 1486.25 675.009 1481.67 Q671.953 1477.06 671.953 1468.33 Q671.953 1459.58 675.009 1455 Q678.087 1450.39 683.898 1450.39 Z\" fill=\"#000000\" fill-rule=\"evenodd\" fill-opacity=\"1\" /><path clip-path=\"url(#clip710)\" d=\"M704.059 1479.7 L708.944 1479.7 L708.944 1485.58 L704.059 1485.58 L704.059 1479.7 Z\" fill=\"#000000\" fill-rule=\"evenodd\" fill-opacity=\"1\" /><path clip-path=\"url(#clip710)\" d=\"M719.939 1481.64 L727.578 1481.64 L727.578 1455.28 L719.268 1456.95 L719.268 1452.69 L727.532 1451.02 L732.207 1451.02 L732.207 1481.64 L739.846 1481.64 L739.846 1485.58 L719.939 1485.58 L719.939 1481.64 Z\" fill=\"#000000\" fill-rule=\"evenodd\" fill-opacity=\"1\" /><path clip-path=\"url(#clip710)\" d=\"M1080.92 1454.1 Q1077.3 1454.1 1075.48 1457.66 Q1073.67 1461.2 1073.67 1468.33 Q1073.67 1475.44 1075.48 1479.01 Q1077.3 1482.55 1080.92 1482.55 Q1084.55 1482.55 1086.36 1479.01 Q1088.18 1475.44 1088.18 1468.33 Q1088.18 1461.2 1086.36 1457.66 Q1084.55 1454.1 1080.92 1454.1 M1080.92 1450.39 Q1086.73 1450.39 1089.78 1455 Q1092.86 1459.58 1092.86 1468.33 Q1092.86 1477.06 1089.78 1481.67 Q1086.73 1486.25 1080.92 1486.25 Q1075.11 1486.25 1072.03 1481.67 Q1068.97 1477.06 1068.97 1468.33 Q1068.97 1459.58 1072.03 1455 Q1075.11 1450.39 1080.92 1450.39 Z\" fill=\"#000000\" fill-rule=\"evenodd\" fill-opacity=\"1\" /><path clip-path=\"url(#clip710)\" d=\"M1101.08 1479.7 L1105.96 1479.7 L1105.96 1485.58 L1101.08 1485.58 L1101.08 1479.7 Z\" fill=\"#000000\" fill-rule=\"evenodd\" fill-opacity=\"1\" /><path clip-path=\"url(#clip710)\" d=\"M1120.17 1481.64 L1136.49 1481.64 L1136.49 1485.58 L1114.55 1485.58 L1114.55 1481.64 Q1117.21 1478.89 1121.79 1474.26 Q1126.4 1469.61 1127.58 1468.27 Q1129.83 1465.74 1130.71 1464.01 Q1131.61 1462.25 1131.61 1460.56 Q1131.61 1457.8 1129.67 1456.07 Q1127.74 1454.33 1124.64 1454.33 Q1122.44 1454.33 1119.99 1455.09 Q1117.56 1455.86 1114.78 1457.41 L1114.78 1452.69 Q1117.61 1451.55 1120.06 1450.97 Q1122.51 1450.39 1124.55 1450.39 Q1129.92 1450.39 1133.11 1453.08 Q1136.31 1455.77 1136.31 1460.26 Q1136.31 1462.39 1135.5 1464.31 Q1134.71 1466.2 1132.61 1468.8 Q1132.03 1469.47 1128.92 1472.69 Q1125.82 1475.88 1120.17 1481.64 Z\" fill=\"#000000\" fill-rule=\"evenodd\" fill-opacity=\"1\" /><path clip-path=\"url(#clip710)\" d=\"M1477.27 1454.1 Q1473.66 1454.1 1471.83 1457.66 Q1470.03 1461.2 1470.03 1468.33 Q1470.03 1475.44 1471.83 1479.01 Q1473.66 1482.55 1477.27 1482.55 Q1480.91 1482.55 1482.71 1479.01 Q1484.54 1475.44 1484.54 1468.33 Q1484.54 1461.2 1482.71 1457.66 Q1480.91 1454.1 1477.27 1454.1 M1477.27 1450.39 Q1483.08 1450.39 1486.14 1455 Q1489.22 1459.58 1489.22 1468.33 Q1489.22 1477.06 1486.14 1481.67 Q1483.08 1486.25 1477.27 1486.25 Q1471.46 1486.25 1468.38 1481.67 Q1465.33 1477.06 1465.33 1468.33 Q1465.33 1459.58 1468.38 1455 Q1471.46 1450.39 1477.27 1450.39 Z\" fill=\"#000000\" fill-rule=\"evenodd\" fill-opacity=\"1\" /><path clip-path=\"url(#clip710)\" d=\"M1497.44 1479.7 L1502.32 1479.7 L1502.32 1485.58 L1497.44 1485.58 L1497.44 1479.7 Z\" fill=\"#000000\" fill-rule=\"evenodd\" fill-opacity=\"1\" /><path clip-path=\"url(#clip710)\" d=\"M1526.67 1466.95 Q1530.03 1467.66 1531.9 1469.93 Q1533.8 1472.2 1533.8 1475.53 Q1533.8 1480.65 1530.28 1483.45 Q1526.76 1486.25 1520.28 1486.25 Q1518.11 1486.25 1515.79 1485.81 Q1513.5 1485.39 1511.05 1484.54 L1511.05 1480.02 Q1512.99 1481.16 1515.31 1481.74 Q1517.62 1482.32 1520.14 1482.32 Q1524.54 1482.32 1526.83 1480.58 Q1529.15 1478.84 1529.15 1475.53 Q1529.15 1472.48 1527 1470.77 Q1524.87 1469.03 1521.05 1469.03 L1517.02 1469.03 L1517.02 1465.19 L1521.23 1465.19 Q1524.68 1465.19 1526.51 1463.82 Q1528.34 1462.43 1528.34 1459.84 Q1528.34 1457.18 1526.44 1455.77 Q1524.57 1454.33 1521.05 1454.33 Q1519.13 1454.33 1516.93 1454.75 Q1514.73 1455.16 1512.09 1456.04 L1512.09 1451.88 Q1514.75 1451.14 1517.07 1450.77 Q1519.4 1450.39 1521.46 1450.39 Q1526.79 1450.39 1529.89 1452.83 Q1532.99 1455.23 1532.99 1459.35 Q1532.99 1462.22 1531.35 1464.21 Q1529.7 1466.18 1526.67 1466.95 Z\" fill=\"#000000\" fill-rule=\"evenodd\" fill-opacity=\"1\" /><path clip-path=\"url(#clip710)\" d=\"M1873.54 1454.1 Q1869.93 1454.1 1868.1 1457.66 Q1866.29 1461.2 1866.29 1468.33 Q1866.29 1475.44 1868.1 1479.01 Q1869.93 1482.55 1873.54 1482.55 Q1877.17 1482.55 1878.98 1479.01 Q1880.81 1475.44 1880.81 1468.33 Q1880.81 1461.2 1878.98 1457.66 Q1877.17 1454.1 1873.54 1454.1 M1873.54 1450.39 Q1879.35 1450.39 1882.41 1455 Q1885.48 1459.58 1885.48 1468.33 Q1885.48 1477.06 1882.41 1481.67 Q1879.35 1486.25 1873.54 1486.25 Q1867.73 1486.25 1864.65 1481.67 Q1861.6 1477.06 1861.6 1468.33 Q1861.6 1459.58 1864.65 1455 Q1867.73 1450.39 1873.54 1450.39 Z\" fill=\"#000000\" fill-rule=\"evenodd\" fill-opacity=\"1\" /><path clip-path=\"url(#clip710)\" d=\"M1893.7 1479.7 L1898.59 1479.7 L1898.59 1485.58 L1893.7 1485.58 L1893.7 1479.7 Z\" fill=\"#000000\" fill-rule=\"evenodd\" fill-opacity=\"1\" /><path clip-path=\"url(#clip710)\" d=\"M1921.62 1455.09 L1909.81 1473.54 L1921.62 1473.54 L1921.62 1455.09 M1920.39 1451.02 L1926.27 1451.02 L1926.27 1473.54 L1931.2 1473.54 L1931.2 1477.43 L1926.27 1477.43 L1926.27 1485.58 L1921.62 1485.58 L1921.62 1477.43 L1906.02 1477.43 L1906.02 1472.92 L1920.39 1451.02 Z\" fill=\"#000000\" fill-rule=\"evenodd\" fill-opacity=\"1\" /><path clip-path=\"url(#clip710)\" d=\"M2271.11 1454.1 Q2267.5 1454.1 2265.67 1457.66 Q2263.87 1461.2 2263.87 1468.33 Q2263.87 1475.44 2265.67 1479.01 Q2267.5 1482.55 2271.11 1482.55 Q2274.75 1482.55 2276.55 1479.01 Q2278.38 1475.44 2278.38 1468.33 Q2278.38 1461.2 2276.55 1457.66 Q2274.75 1454.1 2271.11 1454.1 M2271.11 1450.39 Q2276.92 1450.39 2279.98 1455 Q2283.06 1459.58 2283.06 1468.33 Q2283.06 1477.06 2279.98 1481.67 Q2276.92 1486.25 2271.11 1486.25 Q2265.3 1486.25 2262.22 1481.67 Q2259.17 1477.06 2259.17 1468.33 Q2259.17 1459.58 2262.22 1455 Q2265.3 1450.39 2271.11 1450.39 Z\" fill=\"#000000\" fill-rule=\"evenodd\" fill-opacity=\"1\" /><path clip-path=\"url(#clip710)\" d=\"M2291.27 1479.7 L2296.16 1479.7 L2296.16 1485.58 L2291.27 1485.58 L2291.27 1479.7 Z\" fill=\"#000000\" fill-rule=\"evenodd\" fill-opacity=\"1\" /><path clip-path=\"url(#clip710)\" d=\"M2306.39 1451.02 L2324.75 1451.02 L2324.75 1454.96 L2310.67 1454.96 L2310.67 1463.43 Q2311.69 1463.08 2312.71 1462.92 Q2313.73 1462.73 2314.75 1462.73 Q2320.53 1462.73 2323.91 1465.9 Q2327.29 1469.08 2327.29 1474.49 Q2327.29 1480.07 2323.82 1483.17 Q2320.35 1486.25 2314.03 1486.25 Q2311.85 1486.25 2309.59 1485.88 Q2307.34 1485.51 2304.93 1484.77 L2304.93 1480.07 Q2307.02 1481.2 2309.24 1481.76 Q2311.46 1482.32 2313.94 1482.32 Q2317.94 1482.32 2320.28 1480.21 Q2322.62 1478.1 2322.62 1474.49 Q2322.62 1470.88 2320.28 1468.77 Q2317.94 1466.67 2313.94 1466.67 Q2312.06 1466.67 2310.19 1467.08 Q2308.34 1467.5 2306.39 1468.38 L2306.39 1451.02 Z\" fill=\"#000000\" fill-rule=\"evenodd\" fill-opacity=\"1\" /><path clip-path=\"url(#clip710)\" d=\"M747.285 1525.81 L747.285 1543.66 L755.369 1543.66 Q759.857 1543.66 762.308 1541.34 Q764.759 1539.02 764.759 1534.72 Q764.759 1530.45 762.308 1528.13 Q759.857 1525.81 755.369 1525.81 L747.285 1525.81 M740.855 1520.52 L755.369 1520.52 Q763.358 1520.52 767.432 1524.15 Q771.538 1527.75 771.538 1534.72 Q771.538 1541.75 767.432 1545.35 Q763.358 1548.95 755.369 1548.95 L747.285 1548.95 L747.285 1568.04 L740.855 1568.04 L740.855 1520.52 Z\" fill=\"#000000\" fill-rule=\"evenodd\" fill-opacity=\"1\" /><path clip-path=\"url(#clip710)\" d=\"M799.42 1537.87 Q798.433 1537.3 797.256 1537.04 Q796.11 1536.76 794.709 1536.76 Q789.744 1536.76 787.07 1540 Q784.429 1543.22 784.429 1549.27 L784.429 1568.04 L778.54 1568.04 L778.54 1532.4 L784.429 1532.4 L784.429 1537.93 Q786.275 1534.69 789.235 1533.13 Q792.195 1531.54 796.428 1531.54 Q797.033 1531.54 797.765 1531.63 Q798.497 1531.7 799.388 1531.85 L799.42 1537.87 Z\" fill=\"#000000\" fill-rule=\"evenodd\" fill-opacity=\"1\" /><path clip-path=\"url(#clip710)\" d=\"M817.944 1536.5 Q813.233 1536.5 810.496 1540.19 Q807.759 1543.85 807.759 1550.25 Q807.759 1556.65 810.464 1560.34 Q813.202 1564 817.944 1564 Q822.623 1564 825.36 1560.31 Q828.097 1556.62 828.097 1550.25 Q828.097 1543.92 825.36 1540.23 Q822.623 1536.5 817.944 1536.5 M817.944 1531.54 Q825.583 1531.54 829.943 1536.5 Q834.304 1541.47 834.304 1550.25 Q834.304 1559 829.943 1564 Q825.583 1568.97 817.944 1568.97 Q810.273 1568.97 805.913 1564 Q801.584 1559 801.584 1550.25 Q801.584 1541.47 805.913 1536.5 Q810.273 1531.54 817.944 1531.54 Z\" fill=\"#000000\" fill-rule=\"evenodd\" fill-opacity=\"1\" /><path clip-path=\"url(#clip710)\" d=\"M849.677 1562.7 L849.677 1581.6 L843.789 1581.6 L843.789 1532.4 L849.677 1532.4 L849.677 1537.81 Q851.523 1534.62 854.324 1533.1 Q857.157 1531.54 861.072 1531.54 Q867.565 1531.54 871.607 1536.69 Q875.681 1541.85 875.681 1550.25 Q875.681 1558.65 871.607 1563.81 Q867.565 1568.97 861.072 1568.97 Q857.157 1568.97 854.324 1567.44 Q851.523 1565.88 849.677 1562.7 M869.602 1550.25 Q869.602 1543.79 866.928 1540.13 Q864.286 1536.44 859.639 1536.44 Q854.993 1536.44 852.319 1540.13 Q849.677 1543.79 849.677 1550.25 Q849.677 1556.71 852.319 1560.4 Q854.993 1564.07 859.639 1564.07 Q864.286 1564.07 866.928 1560.4 Q869.602 1556.71 869.602 1550.25 Z\" fill=\"#000000\" fill-rule=\"evenodd\" fill-opacity=\"1\" /><path clip-path=\"url(#clip710)\" d=\"M899.202 1536.5 Q894.492 1536.5 891.754 1540.19 Q889.017 1543.85 889.017 1550.25 Q889.017 1556.65 891.723 1560.34 Q894.46 1564 899.202 1564 Q903.881 1564 906.618 1560.31 Q909.356 1556.62 909.356 1550.25 Q909.356 1543.92 906.618 1540.23 Q903.881 1536.5 899.202 1536.5 M899.202 1531.54 Q906.841 1531.54 911.202 1536.5 Q915.562 1541.47 915.562 1550.25 Q915.562 1559 911.202 1564 Q906.841 1568.97 899.202 1568.97 Q891.532 1568.97 887.171 1564 Q882.842 1559 882.842 1550.25 Q882.842 1541.47 887.171 1536.5 Q891.532 1531.54 899.202 1531.54 Z\" fill=\"#000000\" fill-rule=\"evenodd\" fill-opacity=\"1\" /><path clip-path=\"url(#clip710)\" d=\"M945.927 1537.87 Q944.94 1537.3 943.762 1537.04 Q942.616 1536.76 941.216 1536.76 Q936.251 1536.76 933.577 1540 Q930.935 1543.22 930.935 1549.27 L930.935 1568.04 L925.047 1568.04 L925.047 1532.4 L930.935 1532.4 L930.935 1537.93 Q932.781 1534.69 935.741 1533.13 Q938.702 1531.54 942.935 1531.54 Q943.539 1531.54 944.272 1531.63 Q945.004 1531.7 945.895 1531.85 L945.927 1537.87 Z\" fill=\"#000000\" fill-rule=\"evenodd\" fill-opacity=\"1\" /><path clip-path=\"url(#clip710)\" d=\"M957.862 1522.27 L957.862 1532.4 L969.925 1532.4 L969.925 1536.95 L957.862 1536.95 L957.862 1556.3 Q957.862 1560.66 959.04 1561.9 Q960.249 1563.14 963.91 1563.14 L969.925 1563.14 L969.925 1568.04 L963.91 1568.04 Q957.13 1568.04 954.552 1565.53 Q951.974 1562.98 951.974 1556.3 L951.974 1536.95 L947.677 1536.95 L947.677 1532.4 L951.974 1532.4 L951.974 1522.27 L957.862 1522.27 Z\" fill=\"#000000\" fill-rule=\"evenodd\" fill-opacity=\"1\" /><path clip-path=\"url(#clip710)\" d=\"M977.628 1532.4 L983.484 1532.4 L983.484 1568.04 L977.628 1568.04 L977.628 1532.4 M977.628 1518.52 L983.484 1518.52 L983.484 1525.93 L977.628 1525.93 L977.628 1518.52 Z\" fill=\"#000000\" fill-rule=\"evenodd\" fill-opacity=\"1\" /><path clip-path=\"url(#clip710)\" d=\"M1009.55 1536.5 Q1004.84 1536.5 1002.1 1540.19 Q999.367 1543.85 999.367 1550.25 Q999.367 1556.65 1002.07 1560.34 Q1004.81 1564 1009.55 1564 Q1014.23 1564 1016.97 1560.31 Q1019.71 1556.62 1019.71 1550.25 Q1019.71 1543.92 1016.97 1540.23 Q1014.23 1536.5 1009.55 1536.5 M1009.55 1531.54 Q1017.19 1531.54 1021.55 1536.5 Q1025.91 1541.47 1025.91 1550.25 Q1025.91 1559 1021.55 1564 Q1017.19 1568.97 1009.55 1568.97 Q1001.88 1568.97 997.521 1564 Q993.192 1559 993.192 1550.25 Q993.192 1541.47 997.521 1536.5 Q1001.88 1531.54 1009.55 1531.54 Z\" fill=\"#000000\" fill-rule=\"evenodd\" fill-opacity=\"1\" /><path clip-path=\"url(#clip710)\" d=\"M1065.25 1546.53 L1065.25 1568.04 L1059.4 1568.04 L1059.4 1546.72 Q1059.4 1541.66 1057.42 1539.14 Q1055.45 1536.63 1051.5 1536.63 Q1046.76 1536.63 1044.02 1539.65 Q1041.28 1542.68 1041.28 1547.9 L1041.28 1568.04 L1035.4 1568.04 L1035.4 1532.4 L1041.28 1532.4 L1041.28 1537.93 Q1043.39 1534.72 1046.22 1533.13 Q1049.08 1531.54 1052.81 1531.54 Q1058.95 1531.54 1062.1 1535.36 Q1065.25 1539.14 1065.25 1546.53 Z\" fill=\"#000000\" fill-rule=\"evenodd\" fill-opacity=\"1\" /><path clip-path=\"url(#clip710)\" d=\"M1111.47 1536.5 Q1106.76 1536.5 1104.02 1540.19 Q1101.28 1543.85 1101.28 1550.25 Q1101.28 1556.65 1103.99 1560.34 Q1106.72 1564 1111.47 1564 Q1116.15 1564 1118.88 1560.31 Q1121.62 1556.62 1121.62 1550.25 Q1121.62 1543.92 1118.88 1540.23 Q1116.15 1536.5 1111.47 1536.5 M1111.47 1531.54 Q1119.11 1531.54 1123.47 1536.5 Q1127.83 1541.47 1127.83 1550.25 Q1127.83 1559 1123.47 1564 Q1119.11 1568.97 1111.47 1568.97 Q1103.8 1568.97 1099.44 1564 Q1095.11 1559 1095.11 1550.25 Q1095.11 1541.47 1099.44 1536.5 Q1103.8 1531.54 1111.47 1531.54 Z\" fill=\"#000000\" fill-rule=\"evenodd\" fill-opacity=\"1\" /><path clip-path=\"url(#clip710)\" d=\"M1155.58 1518.52 L1155.58 1523.39 L1149.98 1523.39 Q1146.83 1523.39 1145.59 1524.66 Q1144.38 1525.93 1144.38 1529.24 L1144.38 1532.4 L1154.02 1532.4 L1154.02 1536.95 L1144.38 1536.95 L1144.38 1568.04 L1138.49 1568.04 L1138.49 1536.95 L1132.89 1536.95 L1132.89 1532.4 L1138.49 1532.4 L1138.49 1529.91 Q1138.49 1523.96 1141.26 1521.26 Q1144.03 1518.52 1150.04 1518.52 L1155.58 1518.52 Z\" fill=\"#000000\" fill-rule=\"evenodd\" fill-opacity=\"1\" /><path clip-path=\"url(#clip710)\" d=\"M1186.87 1562.7 L1186.87 1581.6 L1180.98 1581.6 L1180.98 1532.4 L1186.87 1532.4 L1186.87 1537.81 Q1188.71 1534.62 1191.52 1533.1 Q1194.35 1531.54 1198.26 1531.54 Q1204.76 1531.54 1208.8 1536.69 Q1212.87 1541.85 1212.87 1550.25 Q1212.87 1558.65 1208.8 1563.81 Q1204.76 1568.97 1198.26 1568.97 Q1194.35 1568.97 1191.52 1567.44 Q1188.71 1565.88 1186.87 1562.7 M1206.79 1550.25 Q1206.79 1543.79 1204.12 1540.13 Q1201.48 1536.44 1196.83 1536.44 Q1192.18 1536.44 1189.51 1540.13 Q1186.87 1543.79 1186.87 1550.25 Q1186.87 1556.71 1189.51 1560.4 Q1192.18 1564.07 1196.83 1564.07 Q1201.48 1564.07 1204.12 1560.4 Q1206.79 1556.71 1206.79 1550.25 Z\" fill=\"#000000\" fill-rule=\"evenodd\" fill-opacity=\"1\" /><path clip-path=\"url(#clip710)\" d=\"M1236.39 1536.5 Q1231.68 1536.5 1228.95 1540.19 Q1226.21 1543.85 1226.21 1550.25 Q1226.21 1556.65 1228.91 1560.34 Q1231.65 1564 1236.39 1564 Q1241.07 1564 1243.81 1560.31 Q1246.55 1556.62 1246.55 1550.25 Q1246.55 1543.92 1243.81 1540.23 Q1241.07 1536.5 1236.39 1536.5 M1236.39 1531.54 Q1244.03 1531.54 1248.39 1536.5 Q1252.75 1541.47 1252.75 1550.25 Q1252.75 1559 1248.39 1564 Q1244.03 1568.97 1236.39 1568.97 Q1228.72 1568.97 1224.36 1564 Q1220.03 1559 1220.03 1550.25 Q1220.03 1541.47 1224.36 1536.5 Q1228.72 1531.54 1236.39 1531.54 Z\" fill=\"#000000\" fill-rule=\"evenodd\" fill-opacity=\"1\" /><path clip-path=\"url(#clip710)\" d=\"M1268.13 1562.7 L1268.13 1581.6 L1262.24 1581.6 L1262.24 1532.4 L1268.13 1532.4 L1268.13 1537.81 Q1269.97 1534.62 1272.77 1533.1 Q1275.61 1531.54 1279.52 1531.54 Q1286.01 1531.54 1290.06 1536.69 Q1294.13 1541.85 1294.13 1550.25 Q1294.13 1558.65 1290.06 1563.81 Q1286.01 1568.97 1279.52 1568.97 Q1275.61 1568.97 1272.77 1567.44 Q1269.97 1565.88 1268.13 1562.7 M1288.05 1550.25 Q1288.05 1543.79 1285.38 1540.13 Q1282.74 1536.44 1278.09 1536.44 Q1273.44 1536.44 1270.77 1540.13 Q1268.13 1543.79 1268.13 1550.25 Q1268.13 1556.71 1270.77 1560.4 Q1273.44 1564.07 1278.09 1564.07 Q1282.74 1564.07 1285.38 1560.4 Q1288.05 1556.71 1288.05 1550.25 Z\" fill=\"#000000\" fill-rule=\"evenodd\" fill-opacity=\"1\" /><path clip-path=\"url(#clip710)\" d=\"M1303.23 1553.98 L1303.23 1532.4 L1309.09 1532.4 L1309.09 1553.75 Q1309.09 1558.81 1311.06 1561.36 Q1313.04 1563.87 1316.98 1563.87 Q1321.73 1563.87 1324.46 1560.85 Q1327.23 1557.83 1327.23 1552.61 L1327.23 1532.4 L1333.09 1532.4 L1333.09 1568.04 L1327.23 1568.04 L1327.23 1562.57 Q1325.1 1565.82 1322.27 1567.41 Q1319.47 1568.97 1315.74 1568.97 Q1309.6 1568.97 1306.42 1565.15 Q1303.23 1561.33 1303.23 1553.98 M1317.97 1531.54 L1317.97 1531.54 Z\" fill=\"#000000\" fill-rule=\"evenodd\" fill-opacity=\"1\" /><path clip-path=\"url(#clip710)\" d=\"M1345.15 1518.52 L1351.01 1518.52 L1351.01 1568.04 L1345.15 1568.04 L1345.15 1518.52 Z\" fill=\"#000000\" fill-rule=\"evenodd\" fill-opacity=\"1\" /><path clip-path=\"url(#clip710)\" d=\"M1379.46 1550.12 Q1372.37 1550.12 1369.63 1551.75 Q1366.89 1553.37 1366.89 1557.29 Q1366.89 1560.4 1368.93 1562.25 Q1371 1564.07 1374.53 1564.07 Q1379.4 1564.07 1382.33 1560.63 Q1385.29 1557.16 1385.29 1551.43 L1385.29 1550.12 L1379.46 1550.12 M1391.14 1547.71 L1391.14 1568.04 L1385.29 1568.04 L1385.29 1562.63 Q1383.28 1565.88 1380.29 1567.44 Q1377.3 1568.97 1372.97 1568.97 Q1367.5 1568.97 1364.25 1565.91 Q1361.03 1562.82 1361.03 1557.67 Q1361.03 1551.65 1365.04 1548.6 Q1369.09 1545.54 1377.08 1545.54 L1385.29 1545.54 L1385.29 1544.97 Q1385.29 1540.93 1382.61 1538.73 Q1379.97 1536.5 1375.17 1536.5 Q1372.11 1536.5 1369.21 1537.23 Q1366.32 1537.97 1363.64 1539.43 L1363.64 1534.02 Q1366.86 1532.78 1369.88 1532.17 Q1372.91 1531.54 1375.77 1531.54 Q1383.51 1531.54 1387.32 1535.55 Q1391.14 1539.56 1391.14 1547.71 Z\" fill=\"#000000\" fill-rule=\"evenodd\" fill-opacity=\"1\" /><path clip-path=\"url(#clip710)\" d=\"M1409 1522.27 L1409 1532.4 L1421.06 1532.4 L1421.06 1536.95 L1409 1536.95 L1409 1556.3 Q1409 1560.66 1410.18 1561.9 Q1411.39 1563.14 1415.05 1563.14 L1421.06 1563.14 L1421.06 1568.04 L1415.05 1568.04 Q1408.27 1568.04 1405.69 1565.53 Q1403.11 1562.98 1403.11 1556.3 L1403.11 1536.95 L1398.81 1536.95 L1398.81 1532.4 L1403.11 1532.4 L1403.11 1522.27 L1409 1522.27 Z\" fill=\"#000000\" fill-rule=\"evenodd\" fill-opacity=\"1\" /><path clip-path=\"url(#clip710)\" d=\"M1428.77 1532.4 L1434.62 1532.4 L1434.62 1568.04 L1428.77 1568.04 L1428.77 1532.4 M1428.77 1518.52 L1434.62 1518.52 L1434.62 1525.93 L1428.77 1525.93 L1428.77 1518.52 Z\" fill=\"#000000\" fill-rule=\"evenodd\" fill-opacity=\"1\" /><path clip-path=\"url(#clip710)\" d=\"M1460.69 1536.5 Q1455.98 1536.5 1453.24 1540.19 Q1450.5 1543.85 1450.5 1550.25 Q1450.5 1556.65 1453.21 1560.34 Q1455.95 1564 1460.69 1564 Q1465.37 1564 1468.11 1560.31 Q1470.84 1556.62 1470.84 1550.25 Q1470.84 1543.92 1468.11 1540.23 Q1465.37 1536.5 1460.69 1536.5 M1460.69 1531.54 Q1468.33 1531.54 1472.69 1536.5 Q1477.05 1541.47 1477.05 1550.25 Q1477.05 1559 1472.69 1564 Q1468.33 1568.97 1460.69 1568.97 Q1453.02 1568.97 1448.66 1564 Q1444.33 1559 1444.33 1550.25 Q1444.33 1541.47 1448.66 1536.5 Q1453.02 1531.54 1460.69 1531.54 Z\" fill=\"#000000\" fill-rule=\"evenodd\" fill-opacity=\"1\" /><path clip-path=\"url(#clip710)\" d=\"M1516.39 1546.53 L1516.39 1568.04 L1510.53 1568.04 L1510.53 1546.72 Q1510.53 1541.66 1508.56 1539.14 Q1506.59 1536.63 1502.64 1536.63 Q1497.9 1536.63 1495.16 1539.65 Q1492.42 1542.68 1492.42 1547.9 L1492.42 1568.04 L1486.53 1568.04 L1486.53 1532.4 L1492.42 1532.4 L1492.42 1537.93 Q1494.52 1534.72 1497.36 1533.13 Q1500.22 1531.54 1503.94 1531.54 Q1510.09 1531.54 1513.24 1535.36 Q1516.39 1539.14 1516.39 1546.53 Z\" fill=\"#000000\" fill-rule=\"evenodd\" fill-opacity=\"1\" /><path clip-path=\"url(#clip710)\" d=\"M1548.79 1532.4 L1554.65 1532.4 L1554.65 1568.04 L1548.79 1568.04 L1548.79 1532.4 M1548.79 1518.52 L1554.65 1518.52 L1554.65 1525.93 L1548.79 1525.93 L1548.79 1518.52 Z\" fill=\"#000000\" fill-rule=\"evenodd\" fill-opacity=\"1\" /><path clip-path=\"url(#clip710)\" d=\"M1596.53 1546.53 L1596.53 1568.04 L1590.68 1568.04 L1590.68 1546.72 Q1590.68 1541.66 1588.7 1539.14 Q1586.73 1536.63 1582.78 1536.63 Q1578.04 1536.63 1575.3 1539.65 Q1572.57 1542.68 1572.57 1547.9 L1572.57 1568.04 L1566.68 1568.04 L1566.68 1532.4 L1572.57 1532.4 L1572.57 1537.93 Q1574.67 1534.72 1577.5 1533.13 Q1580.36 1531.54 1584.09 1531.54 Q1590.23 1531.54 1593.38 1535.36 Q1596.53 1539.14 1596.53 1546.53 Z\" fill=\"#000000\" fill-rule=\"evenodd\" fill-opacity=\"1\" /><path clip-path=\"url(#clip710)\" d=\"M1626.26 1518.52 L1626.26 1523.39 L1620.66 1523.39 Q1617.51 1523.39 1616.27 1524.66 Q1615.06 1525.93 1615.06 1529.24 L1615.06 1532.4 L1624.7 1532.4 L1624.7 1536.95 L1615.06 1536.95 L1615.06 1568.04 L1609.17 1568.04 L1609.17 1536.95 L1603.57 1536.95 L1603.57 1532.4 L1609.17 1532.4 L1609.17 1529.91 Q1609.17 1523.96 1611.94 1521.26 Q1614.71 1518.52 1620.72 1518.52 L1626.26 1518.52 Z\" fill=\"#000000\" fill-rule=\"evenodd\" fill-opacity=\"1\" /><path clip-path=\"url(#clip710)\" d=\"M1661.65 1548.76 L1661.65 1551.62 L1634.73 1551.62 Q1635.11 1557.67 1638.36 1560.85 Q1641.63 1564 1647.46 1564 Q1650.83 1564 1653.98 1563.17 Q1657.17 1562.35 1660.29 1560.69 L1660.29 1566.23 Q1657.14 1567.57 1653.83 1568.27 Q1650.51 1568.97 1647.11 1568.97 Q1638.58 1568.97 1633.58 1564 Q1628.62 1559.04 1628.62 1550.57 Q1628.62 1541.82 1633.33 1536.69 Q1638.07 1531.54 1646.09 1531.54 Q1653.28 1531.54 1657.45 1536.18 Q1661.65 1540.8 1661.65 1548.76 M1655.8 1547.04 Q1655.73 1542.23 1653.09 1539.37 Q1650.48 1536.5 1646.15 1536.5 Q1641.25 1536.5 1638.29 1539.27 Q1635.36 1542.04 1634.92 1547.07 L1655.8 1547.04 Z\" fill=\"#000000\" fill-rule=\"evenodd\" fill-opacity=\"1\" /><path clip-path=\"url(#clip710)\" d=\"M1696.92 1533.76 L1696.92 1539.24 Q1694.44 1537.87 1691.92 1537.2 Q1689.44 1536.5 1686.89 1536.5 Q1681.2 1536.5 1678.05 1540.13 Q1674.9 1543.73 1674.9 1550.25 Q1674.9 1556.78 1678.05 1560.4 Q1681.2 1564 1686.89 1564 Q1689.44 1564 1691.92 1563.33 Q1694.44 1562.63 1696.92 1561.26 L1696.92 1566.68 Q1694.47 1567.82 1691.83 1568.39 Q1689.22 1568.97 1686.26 1568.97 Q1678.21 1568.97 1673.46 1563.91 Q1668.72 1558.85 1668.72 1550.25 Q1668.72 1541.53 1673.5 1536.53 Q1678.3 1531.54 1686.64 1531.54 Q1689.35 1531.54 1691.92 1532.11 Q1694.5 1532.65 1696.92 1533.76 Z\" fill=\"#000000\" fill-rule=\"evenodd\" fill-opacity=\"1\" /><path clip-path=\"url(#clip710)\" d=\"M1712.9 1522.27 L1712.9 1532.4 L1724.96 1532.4 L1724.96 1536.95 L1712.9 1536.95 L1712.9 1556.3 Q1712.9 1560.66 1714.08 1561.9 Q1715.29 1563.14 1718.95 1563.14 L1724.96 1563.14 L1724.96 1568.04 L1718.95 1568.04 Q1712.17 1568.04 1709.59 1565.53 Q1707.01 1562.98 1707.01 1556.3 L1707.01 1536.95 L1702.71 1536.95 L1702.71 1532.4 L1707.01 1532.4 L1707.01 1522.27 L1712.9 1522.27 Z\" fill=\"#000000\" fill-rule=\"evenodd\" fill-opacity=\"1\" /><path clip-path=\"url(#clip710)\" d=\"M1763.16 1548.76 L1763.16 1551.62 L1736.23 1551.62 Q1736.61 1557.67 1739.86 1560.85 Q1743.14 1564 1748.96 1564 Q1752.33 1564 1755.49 1563.17 Q1758.67 1562.35 1761.79 1560.69 L1761.79 1566.23 Q1758.64 1567.57 1755.33 1568.27 Q1752.02 1568.97 1748.61 1568.97 Q1740.08 1568.97 1735.08 1564 Q1730.12 1559.04 1730.12 1550.57 Q1730.12 1541.82 1734.83 1536.69 Q1739.57 1531.54 1747.59 1531.54 Q1754.79 1531.54 1758.95 1536.18 Q1763.16 1540.8 1763.16 1548.76 M1757.3 1547.04 Q1757.24 1542.23 1754.59 1539.37 Q1751.98 1536.5 1747.66 1536.5 Q1742.75 1536.5 1739.79 1539.27 Q1736.87 1542.04 1736.42 1547.07 L1757.3 1547.04 Z\" fill=\"#000000\" fill-rule=\"evenodd\" fill-opacity=\"1\" /><path clip-path=\"url(#clip710)\" d=\"M1796.23 1537.81 L1796.23 1518.52 L1802.08 1518.52 L1802.08 1568.04 L1796.23 1568.04 L1796.23 1562.7 Q1794.38 1565.88 1791.55 1567.44 Q1788.75 1568.97 1784.8 1568.97 Q1778.34 1568.97 1774.26 1563.81 Q1770.22 1558.65 1770.22 1550.25 Q1770.22 1541.85 1774.26 1536.69 Q1778.34 1531.54 1784.8 1531.54 Q1788.75 1531.54 1791.55 1533.1 Q1794.38 1534.62 1796.23 1537.81 M1776.27 1550.25 Q1776.27 1556.71 1778.91 1560.4 Q1781.58 1564.07 1786.23 1564.07 Q1790.88 1564.07 1793.55 1560.4 Q1796.23 1556.71 1796.23 1550.25 Q1796.23 1543.79 1793.55 1540.13 Q1790.88 1536.44 1786.23 1536.44 Q1781.58 1536.44 1778.91 1540.13 Q1776.27 1543.79 1776.27 1550.25 Z\" fill=\"#000000\" fill-rule=\"evenodd\" fill-opacity=\"1\" /><path clip-path=\"url(#clip710)\" d=\"M1815.64 1559.96 L1822.36 1559.96 L1822.36 1565.43 L1817.14 1575.62 L1813.03 1575.62 L1815.64 1565.43 L1815.64 1559.96 Z\" fill=\"#000000\" fill-rule=\"evenodd\" fill-opacity=\"1\" /><path clip-path=\"url(#clip710)\" d=\"M1855.59 1532.4 L1861.44 1532.4 L1861.44 1568.04 L1855.59 1568.04 L1855.59 1532.4 M1855.59 1518.52 L1861.44 1518.52 L1861.44 1525.93 L1855.59 1525.93 L1855.59 1518.52 Z\" fill=\"#000000\" fill-rule=\"evenodd\" fill-opacity=\"1\" /><polyline clip-path=\"url(#clip712)\" style=\"stroke:#000000; stroke-linecap:round; stroke-linejoin:round; stroke-width:2; stroke-opacity:0.1; fill:none\" points=\"\n",
       "  249.542,1384.24 2352.76,1384.24 \n",
       "  \"/>\n",
       "<polyline clip-path=\"url(#clip712)\" style=\"stroke:#000000; stroke-linecap:round; stroke-linejoin:round; stroke-width:2; stroke-opacity:0.1; fill:none\" points=\"\n",
       "  249.542,1124.63 2352.76,1124.63 \n",
       "  \"/>\n",
       "<polyline clip-path=\"url(#clip712)\" style=\"stroke:#000000; stroke-linecap:round; stroke-linejoin:round; stroke-width:2; stroke-opacity:0.1; fill:none\" points=\"\n",
       "  249.542,865.017 2352.76,865.017 \n",
       "  \"/>\n",
       "<polyline clip-path=\"url(#clip712)\" style=\"stroke:#000000; stroke-linecap:round; stroke-linejoin:round; stroke-width:2; stroke-opacity:0.1; fill:none\" points=\"\n",
       "  249.542,605.407 2352.76,605.407 \n",
       "  \"/>\n",
       "<polyline clip-path=\"url(#clip712)\" style=\"stroke:#000000; stroke-linecap:round; stroke-linejoin:round; stroke-width:2; stroke-opacity:0.1; fill:none\" points=\"\n",
       "  249.542,345.796 2352.76,345.796 \n",
       "  \"/>\n",
       "<polyline clip-path=\"url(#clip712)\" style=\"stroke:#000000; stroke-linecap:round; stroke-linejoin:round; stroke-width:2; stroke-opacity:0.1; fill:none\" points=\"\n",
       "  249.542,86.1857 2352.76,86.1857 \n",
       "  \"/>\n",
       "<polyline clip-path=\"url(#clip710)\" style=\"stroke:#000000; stroke-linecap:round; stroke-linejoin:round; stroke-width:4; stroke-opacity:1; fill:none\" points=\"\n",
       "  249.542,1423.18 249.542,47.2441 \n",
       "  \"/>\n",
       "<polyline clip-path=\"url(#clip710)\" style=\"stroke:#000000; stroke-linecap:round; stroke-linejoin:round; stroke-width:4; stroke-opacity:1; fill:none\" points=\"\n",
       "  249.542,1384.24 268.44,1384.24 \n",
       "  \"/>\n",
       "<polyline clip-path=\"url(#clip710)\" style=\"stroke:#000000; stroke-linecap:round; stroke-linejoin:round; stroke-width:4; stroke-opacity:1; fill:none\" points=\"\n",
       "  249.542,1124.63 268.44,1124.63 \n",
       "  \"/>\n",
       "<polyline clip-path=\"url(#clip710)\" style=\"stroke:#000000; stroke-linecap:round; stroke-linejoin:round; stroke-width:4; stroke-opacity:1; fill:none\" points=\"\n",
       "  249.542,865.017 268.44,865.017 \n",
       "  \"/>\n",
       "<polyline clip-path=\"url(#clip710)\" style=\"stroke:#000000; stroke-linecap:round; stroke-linejoin:round; stroke-width:4; stroke-opacity:1; fill:none\" points=\"\n",
       "  249.542,605.407 268.44,605.407 \n",
       "  \"/>\n",
       "<polyline clip-path=\"url(#clip710)\" style=\"stroke:#000000; stroke-linecap:round; stroke-linejoin:round; stroke-width:4; stroke-opacity:1; fill:none\" points=\"\n",
       "  249.542,345.796 268.44,345.796 \n",
       "  \"/>\n",
       "<polyline clip-path=\"url(#clip710)\" style=\"stroke:#000000; stroke-linecap:round; stroke-linejoin:round; stroke-width:4; stroke-opacity:1; fill:none\" points=\"\n",
       "  249.542,86.1857 268.44,86.1857 \n",
       "  \"/>\n",
       "<path clip-path=\"url(#clip710)\" d=\"M126.205 1370.04 Q122.593 1370.04 120.765 1373.6 Q118.959 1377.14 118.959 1384.27 Q118.959 1391.38 120.765 1394.94 Q122.593 1398.49 126.205 1398.49 Q129.839 1398.49 131.644 1394.94 Q133.473 1391.38 133.473 1384.27 Q133.473 1377.14 131.644 1373.6 Q129.839 1370.04 126.205 1370.04 M126.205 1366.33 Q132.015 1366.33 135.07 1370.94 Q138.149 1375.52 138.149 1384.27 Q138.149 1393 135.07 1397.61 Q132.015 1402.19 126.205 1402.19 Q120.394 1402.19 117.316 1397.61 Q114.26 1393 114.26 1384.27 Q114.26 1375.52 117.316 1370.94 Q120.394 1366.33 126.205 1366.33 Z\" fill=\"#000000\" fill-rule=\"evenodd\" fill-opacity=\"1\" /><path clip-path=\"url(#clip710)\" d=\"M146.366 1395.64 L151.251 1395.64 L151.251 1401.52 L146.366 1401.52 L146.366 1395.64 Z\" fill=\"#000000\" fill-rule=\"evenodd\" fill-opacity=\"1\" /><path clip-path=\"url(#clip710)\" d=\"M171.436 1370.04 Q167.825 1370.04 165.996 1373.6 Q164.19 1377.14 164.19 1384.27 Q164.19 1391.38 165.996 1394.94 Q167.825 1398.49 171.436 1398.49 Q175.07 1398.49 176.876 1394.94 Q178.704 1391.38 178.704 1384.27 Q178.704 1377.14 176.876 1373.6 Q175.07 1370.04 171.436 1370.04 M171.436 1366.33 Q177.246 1366.33 180.301 1370.94 Q183.38 1375.52 183.38 1384.27 Q183.38 1393 180.301 1397.61 Q177.246 1402.19 171.436 1402.19 Q165.626 1402.19 162.547 1397.61 Q159.491 1393 159.491 1384.27 Q159.491 1375.52 162.547 1370.94 Q165.626 1366.33 171.436 1366.33 Z\" fill=\"#000000\" fill-rule=\"evenodd\" fill-opacity=\"1\" /><path clip-path=\"url(#clip710)\" d=\"M201.598 1370.04 Q197.987 1370.04 196.158 1373.6 Q194.352 1377.14 194.352 1384.27 Q194.352 1391.38 196.158 1394.94 Q197.987 1398.49 201.598 1398.49 Q205.232 1398.49 207.037 1394.94 Q208.866 1391.38 208.866 1384.27 Q208.866 1377.14 207.037 1373.6 Q205.232 1370.04 201.598 1370.04 M201.598 1366.33 Q207.408 1366.33 210.463 1370.94 Q213.542 1375.52 213.542 1384.27 Q213.542 1393 210.463 1397.61 Q207.408 1402.19 201.598 1402.19 Q195.787 1402.19 192.709 1397.61 Q189.653 1393 189.653 1384.27 Q189.653 1375.52 192.709 1370.94 Q195.787 1366.33 201.598 1366.33 Z\" fill=\"#000000\" fill-rule=\"evenodd\" fill-opacity=\"1\" /><path clip-path=\"url(#clip710)\" d=\"M127.2 1110.43 Q123.589 1110.43 121.76 1113.99 Q119.955 1117.53 119.955 1124.66 Q119.955 1131.77 121.76 1135.33 Q123.589 1138.88 127.2 1138.88 Q130.834 1138.88 132.64 1135.33 Q134.468 1131.77 134.468 1124.66 Q134.468 1117.53 132.64 1113.99 Q130.834 1110.43 127.2 1110.43 M127.2 1106.72 Q133.01 1106.72 136.066 1111.33 Q139.144 1115.91 139.144 1124.66 Q139.144 1133.39 136.066 1138 Q133.01 1142.58 127.2 1142.58 Q121.39 1142.58 118.311 1138 Q115.256 1133.39 115.256 1124.66 Q115.256 1115.91 118.311 1111.33 Q121.39 1106.72 127.2 1106.72 Z\" fill=\"#000000\" fill-rule=\"evenodd\" fill-opacity=\"1\" /><path clip-path=\"url(#clip710)\" d=\"M147.362 1136.03 L152.246 1136.03 L152.246 1141.91 L147.362 1141.91 L147.362 1136.03 Z\" fill=\"#000000\" fill-rule=\"evenodd\" fill-opacity=\"1\" /><path clip-path=\"url(#clip710)\" d=\"M172.431 1110.43 Q168.82 1110.43 166.991 1113.99 Q165.186 1117.53 165.186 1124.66 Q165.186 1131.77 166.991 1135.33 Q168.82 1138.88 172.431 1138.88 Q176.065 1138.88 177.871 1135.33 Q179.7 1131.77 179.7 1124.66 Q179.7 1117.53 177.871 1113.99 Q176.065 1110.43 172.431 1110.43 M172.431 1106.72 Q178.241 1106.72 181.297 1111.33 Q184.376 1115.91 184.376 1124.66 Q184.376 1133.39 181.297 1138 Q178.241 1142.58 172.431 1142.58 Q166.621 1142.58 163.542 1138 Q160.487 1133.39 160.487 1124.66 Q160.487 1115.91 163.542 1111.33 Q166.621 1106.72 172.431 1106.72 Z\" fill=\"#000000\" fill-rule=\"evenodd\" fill-opacity=\"1\" /><path clip-path=\"url(#clip710)\" d=\"M192.639 1107.35 L210.996 1107.35 L210.996 1111.28 L196.922 1111.28 L196.922 1119.76 Q197.94 1119.41 198.959 1119.25 Q199.977 1119.06 200.996 1119.06 Q206.783 1119.06 210.162 1122.23 Q213.542 1125.4 213.542 1130.82 Q213.542 1136.4 210.07 1139.5 Q206.598 1142.58 200.278 1142.58 Q198.102 1142.58 195.834 1142.21 Q193.588 1141.84 191.181 1141.1 L191.181 1136.4 Q193.264 1137.53 195.487 1138.09 Q197.709 1138.64 200.186 1138.64 Q204.19 1138.64 206.528 1136.54 Q208.866 1134.43 208.866 1130.82 Q208.866 1127.21 206.528 1125.1 Q204.19 1123 200.186 1123 Q198.311 1123 196.436 1123.41 Q194.584 1123.83 192.639 1124.71 L192.639 1107.35 Z\" fill=\"#000000\" fill-rule=\"evenodd\" fill-opacity=\"1\" /><path clip-path=\"url(#clip710)\" d=\"M126.205 850.816 Q122.593 850.816 120.765 854.381 Q118.959 857.922 118.959 865.052 Q118.959 872.158 120.765 875.723 Q122.593 879.265 126.205 879.265 Q129.839 879.265 131.644 875.723 Q133.473 872.158 133.473 865.052 Q133.473 857.922 131.644 854.381 Q129.839 850.816 126.205 850.816 M126.205 847.112 Q132.015 847.112 135.07 851.719 Q138.149 856.302 138.149 865.052 Q138.149 873.779 135.07 878.385 Q132.015 882.969 126.205 882.969 Q120.394 882.969 117.316 878.385 Q114.26 873.779 114.26 865.052 Q114.26 856.302 117.316 851.719 Q120.394 847.112 126.205 847.112 Z\" fill=\"#000000\" fill-rule=\"evenodd\" fill-opacity=\"1\" /><path clip-path=\"url(#clip710)\" d=\"M146.366 876.418 L151.251 876.418 L151.251 882.297 L146.366 882.297 L146.366 876.418 Z\" fill=\"#000000\" fill-rule=\"evenodd\" fill-opacity=\"1\" /><path clip-path=\"url(#clip710)\" d=\"M162.246 878.362 L169.885 878.362 L169.885 851.996 L161.575 853.663 L161.575 849.404 L169.839 847.737 L174.514 847.737 L174.514 878.362 L182.153 878.362 L182.153 882.297 L162.246 882.297 L162.246 878.362 Z\" fill=\"#000000\" fill-rule=\"evenodd\" fill-opacity=\"1\" /><path clip-path=\"url(#clip710)\" d=\"M201.598 850.816 Q197.987 850.816 196.158 854.381 Q194.352 857.922 194.352 865.052 Q194.352 872.158 196.158 875.723 Q197.987 879.265 201.598 879.265 Q205.232 879.265 207.037 875.723 Q208.866 872.158 208.866 865.052 Q208.866 857.922 207.037 854.381 Q205.232 850.816 201.598 850.816 M201.598 847.112 Q207.408 847.112 210.463 851.719 Q213.542 856.302 213.542 865.052 Q213.542 873.779 210.463 878.385 Q207.408 882.969 201.598 882.969 Q195.787 882.969 192.709 878.385 Q189.653 873.779 189.653 865.052 Q189.653 856.302 192.709 851.719 Q195.787 847.112 201.598 847.112 Z\" fill=\"#000000\" fill-rule=\"evenodd\" fill-opacity=\"1\" /><path clip-path=\"url(#clip710)\" d=\"M127.2 591.205 Q123.589 591.205 121.76 594.77 Q119.955 598.312 119.955 605.441 Q119.955 612.548 121.76 616.113 Q123.589 619.654 127.2 619.654 Q130.834 619.654 132.64 616.113 Q134.468 612.548 134.468 605.441 Q134.468 598.312 132.64 594.77 Q130.834 591.205 127.2 591.205 M127.2 587.502 Q133.01 587.502 136.066 592.108 Q139.144 596.691 139.144 605.441 Q139.144 614.168 136.066 618.775 Q133.01 623.358 127.2 623.358 Q121.39 623.358 118.311 618.775 Q115.256 614.168 115.256 605.441 Q115.256 596.691 118.311 592.108 Q121.39 587.502 127.2 587.502 Z\" fill=\"#000000\" fill-rule=\"evenodd\" fill-opacity=\"1\" /><path clip-path=\"url(#clip710)\" d=\"M147.362 616.807 L152.246 616.807 L152.246 622.687 L147.362 622.687 L147.362 616.807 Z\" fill=\"#000000\" fill-rule=\"evenodd\" fill-opacity=\"1\" /><path clip-path=\"url(#clip710)\" d=\"M163.241 618.752 L170.88 618.752 L170.88 592.386 L162.57 594.053 L162.57 589.793 L170.834 588.127 L175.51 588.127 L175.51 618.752 L183.149 618.752 L183.149 622.687 L163.241 622.687 L163.241 618.752 Z\" fill=\"#000000\" fill-rule=\"evenodd\" fill-opacity=\"1\" /><path clip-path=\"url(#clip710)\" d=\"M192.639 588.127 L210.996 588.127 L210.996 592.062 L196.922 592.062 L196.922 600.534 Q197.94 600.187 198.959 600.025 Q199.977 599.84 200.996 599.84 Q206.783 599.84 210.162 603.011 Q213.542 606.182 213.542 611.599 Q213.542 617.177 210.07 620.279 Q206.598 623.358 200.278 623.358 Q198.102 623.358 195.834 622.988 Q193.588 622.617 191.181 621.877 L191.181 617.177 Q193.264 618.312 195.487 618.867 Q197.709 619.423 200.186 619.423 Q204.19 619.423 206.528 617.316 Q208.866 615.21 208.866 611.599 Q208.866 607.988 206.528 605.881 Q204.19 603.775 200.186 603.775 Q198.311 603.775 196.436 604.191 Q194.584 604.608 192.639 605.488 L192.639 588.127 Z\" fill=\"#000000\" fill-rule=\"evenodd\" fill-opacity=\"1\" /><path clip-path=\"url(#clip710)\" d=\"M126.205 331.595 Q122.593 331.595 120.765 335.16 Q118.959 338.701 118.959 345.831 Q118.959 352.937 120.765 356.502 Q122.593 360.044 126.205 360.044 Q129.839 360.044 131.644 356.502 Q133.473 352.937 133.473 345.831 Q133.473 338.701 131.644 335.16 Q129.839 331.595 126.205 331.595 M126.205 327.891 Q132.015 327.891 135.07 332.498 Q138.149 337.081 138.149 345.831 Q138.149 354.558 135.07 359.164 Q132.015 363.747 126.205 363.747 Q120.394 363.747 117.316 359.164 Q114.26 354.558 114.26 345.831 Q114.26 337.081 117.316 332.498 Q120.394 327.891 126.205 327.891 Z\" fill=\"#000000\" fill-rule=\"evenodd\" fill-opacity=\"1\" /><path clip-path=\"url(#clip710)\" d=\"M146.366 357.197 L151.251 357.197 L151.251 363.076 L146.366 363.076 L146.366 357.197 Z\" fill=\"#000000\" fill-rule=\"evenodd\" fill-opacity=\"1\" /><path clip-path=\"url(#clip710)\" d=\"M165.464 359.141 L181.783 359.141 L181.783 363.076 L159.839 363.076 L159.839 359.141 Q162.501 356.386 167.084 351.757 Q171.69 347.104 172.871 345.761 Q175.116 343.238 175.996 341.502 Q176.899 339.743 176.899 338.053 Q176.899 335.299 174.954 333.562 Q173.033 331.826 169.931 331.826 Q167.732 331.826 165.278 332.59 Q162.848 333.354 160.07 334.905 L160.07 330.183 Q162.894 329.049 165.348 328.47 Q167.802 327.891 169.839 327.891 Q175.209 327.891 178.403 330.576 Q181.598 333.262 181.598 337.752 Q181.598 339.882 180.788 341.803 Q180.001 343.701 177.894 346.294 Q177.315 346.965 174.214 350.183 Q171.112 353.377 165.464 359.141 Z\" fill=\"#000000\" fill-rule=\"evenodd\" fill-opacity=\"1\" /><path clip-path=\"url(#clip710)\" d=\"M201.598 331.595 Q197.987 331.595 196.158 335.16 Q194.352 338.701 194.352 345.831 Q194.352 352.937 196.158 356.502 Q197.987 360.044 201.598 360.044 Q205.232 360.044 207.037 356.502 Q208.866 352.937 208.866 345.831 Q208.866 338.701 207.037 335.16 Q205.232 331.595 201.598 331.595 M201.598 327.891 Q207.408 327.891 210.463 332.498 Q213.542 337.081 213.542 345.831 Q213.542 354.558 210.463 359.164 Q207.408 363.747 201.598 363.747 Q195.787 363.747 192.709 359.164 Q189.653 354.558 189.653 345.831 Q189.653 337.081 192.709 332.498 Q195.787 327.891 201.598 327.891 Z\" fill=\"#000000\" fill-rule=\"evenodd\" fill-opacity=\"1\" /><path clip-path=\"url(#clip710)\" d=\"M127.2 71.9844 Q123.589 71.9844 121.76 75.5492 Q119.955 79.0908 119.955 86.2204 Q119.955 93.3268 121.76 96.8916 Q123.589 100.433 127.2 100.433 Q130.834 100.433 132.64 96.8916 Q134.468 93.3268 134.468 86.2204 Q134.468 79.0908 132.64 75.5492 Q130.834 71.9844 127.2 71.9844 M127.2 68.2807 Q133.01 68.2807 136.066 72.8871 Q139.144 77.4704 139.144 86.2204 Q139.144 94.9472 136.066 99.5537 Q133.01 104.137 127.2 104.137 Q121.39 104.137 118.311 99.5537 Q115.256 94.9472 115.256 86.2204 Q115.256 77.4704 118.311 72.8871 Q121.39 68.2807 127.2 68.2807 Z\" fill=\"#000000\" fill-rule=\"evenodd\" fill-opacity=\"1\" /><path clip-path=\"url(#clip710)\" d=\"M147.362 97.5861 L152.246 97.5861 L152.246 103.466 L147.362 103.466 L147.362 97.5861 Z\" fill=\"#000000\" fill-rule=\"evenodd\" fill-opacity=\"1\" /><path clip-path=\"url(#clip710)\" d=\"M166.459 99.5305 L182.778 99.5305 L182.778 103.466 L160.834 103.466 L160.834 99.5305 Q163.496 96.7759 168.079 92.1463 Q172.686 87.4935 173.866 86.151 Q176.112 83.6278 176.991 81.8917 Q177.894 80.1325 177.894 78.4427 Q177.894 75.688 175.95 73.9519 Q174.028 72.2158 170.927 72.2158 Q168.727 72.2158 166.274 72.9797 Q163.843 73.7436 161.065 75.2945 L161.065 70.5723 Q163.89 69.4381 166.343 68.8594 Q168.797 68.2807 170.834 68.2807 Q176.204 68.2807 179.399 70.9658 Q182.593 73.651 182.593 78.1417 Q182.593 80.2714 181.783 82.1926 Q180.996 84.0908 178.889 86.6834 Q178.311 87.3546 175.209 90.5722 Q172.107 93.7667 166.459 99.5305 Z\" fill=\"#000000\" fill-rule=\"evenodd\" fill-opacity=\"1\" /><path clip-path=\"url(#clip710)\" d=\"M192.639 68.9057 L210.996 68.9057 L210.996 72.8408 L196.922 72.8408 L196.922 81.313 Q197.94 80.9658 198.959 80.8038 Q199.977 80.6186 200.996 80.6186 Q206.783 80.6186 210.162 83.7899 Q213.542 86.9611 213.542 92.3778 Q213.542 97.9564 210.07 101.058 Q206.598 104.137 200.278 104.137 Q198.102 104.137 195.834 103.767 Q193.588 103.396 191.181 102.655 L191.181 97.9564 Q193.264 99.0907 195.487 99.6462 Q197.709 100.202 200.186 100.202 Q204.19 100.202 206.528 98.0953 Q208.866 95.9889 208.866 92.3778 Q208.866 88.7667 206.528 86.6602 Q204.19 84.5537 200.186 84.5537 Q198.311 84.5537 196.436 84.9704 Q194.584 85.3871 192.639 86.2667 L192.639 68.9057 Z\" fill=\"#000000\" fill-rule=\"evenodd\" fill-opacity=\"1\" /><path clip-path=\"url(#clip710)\" d=\"M16.4842 1052.96 L16.4842 1025.65 L21.895 1025.65 L21.895 1046.53 L35.8996 1046.53 L35.8996 1027.68 L41.3104 1027.68 L41.3104 1046.53 L64.0042 1046.53 L64.0042 1052.96 L16.4842 1052.96 Z\" fill=\"#000000\" fill-rule=\"evenodd\" fill-opacity=\"1\" /><path clip-path=\"url(#clip710)\" d=\"M32.4621 1004.23 Q32.4621 1008.94 36.1542 1011.67 Q39.8145 1014.41 46.212 1014.41 Q52.6095 1014.41 56.3017 1011.71 Q59.9619 1008.97 59.9619 1004.23 Q59.9619 999.548 56.2698 996.811 Q52.5777 994.073 46.212 994.073 Q39.8781 994.073 36.186 996.811 Q32.4621 999.548 32.4621 1004.23 M27.4968 1004.23 Q27.4968 996.588 32.4621 992.227 Q37.4273 987.867 46.212 987.867 Q54.9649 987.867 59.9619 992.227 Q64.9272 996.588 64.9272 1004.23 Q64.9272 1011.9 59.9619 1016.26 Q54.9649 1020.59 46.212 1020.59 Q37.4273 1020.59 32.4621 1016.26 Q27.4968 1011.9 27.4968 1004.23 Z\" fill=\"#000000\" fill-rule=\"evenodd\" fill-opacity=\"1\" /><path clip-path=\"url(#clip710)\" d=\"M33.8307 957.502 Q33.2578 958.489 33.0032 959.667 Q32.7167 960.813 32.7167 962.213 Q32.7167 967.178 35.9632 969.852 Q39.1779 972.494 45.2253 972.494 L64.0042 972.494 L64.0042 978.382 L28.3562 978.382 L28.3562 972.494 L33.8944 972.494 Q30.6479 970.648 29.0883 967.688 Q27.4968 964.728 27.4968 960.494 Q27.4968 959.89 27.5923 959.158 Q27.656 958.425 27.8151 957.534 L33.8307 957.502 Z\" fill=\"#000000\" fill-rule=\"evenodd\" fill-opacity=\"1\" /><path clip-path=\"url(#clip710)\" d=\"M29.7248 927.138 L35.1993 927.138 Q33.8307 929.621 33.1623 932.135 Q32.4621 934.618 32.4621 937.164 Q32.4621 942.861 36.0905 946.012 Q39.6872 949.163 46.212 949.163 Q52.7369 949.163 56.3653 946.012 Q59.9619 942.861 59.9619 937.164 Q59.9619 934.618 59.2935 932.135 Q58.5933 929.621 57.2247 927.138 L62.6355 927.138 Q63.7814 929.589 64.3543 932.231 Q64.9272 934.841 64.9272 937.801 Q64.9272 945.853 59.8664 950.596 Q54.8057 955.338 46.212 955.338 Q37.491 955.338 32.4939 950.564 Q27.4968 945.758 27.4968 937.419 Q27.4968 934.713 28.0697 932.135 Q28.6108 929.557 29.7248 927.138 Z\" fill=\"#000000\" fill-rule=\"evenodd\" fill-opacity=\"1\" /><path clip-path=\"url(#clip710)\" d=\"M44.7161 886.461 L47.5806 886.461 L47.5806 913.388 Q53.6281 913.006 56.8109 909.76 Q59.9619 906.481 59.9619 900.657 Q59.9619 897.283 59.1344 894.132 Q58.3069 890.949 56.6518 887.83 L62.1899 887.83 Q63.5267 890.981 64.227 894.291 Q64.9272 897.601 64.9272 901.007 Q64.9272 909.537 59.9619 914.534 Q54.9967 919.499 46.5303 919.499 Q37.7774 919.499 32.6531 914.789 Q27.4968 910.046 27.4968 902.025 Q27.4968 894.832 32.1438 890.663 Q36.7589 886.461 44.7161 886.461 M42.9973 892.318 Q38.1912 892.381 35.3266 895.023 Q32.4621 897.633 32.4621 901.962 Q32.4621 906.863 35.2312 909.823 Q38.0002 912.752 43.0292 913.197 L42.9973 892.318 Z\" fill=\"#000000\" fill-rule=\"evenodd\" fill-opacity=\"1\" /><path clip-path=\"url(#clip710)\" d=\"M32.4621 842.315 Q32.4621 847.026 36.1542 849.763 Q39.8145 852.5 46.212 852.5 Q52.6095 852.5 56.3017 849.795 Q59.9619 847.057 59.9619 842.315 Q59.9619 837.636 56.2698 834.899 Q52.5777 832.162 46.212 832.162 Q39.8781 832.162 36.186 834.899 Q32.4621 837.636 32.4621 842.315 M27.4968 842.315 Q27.4968 834.676 32.4621 830.316 Q37.4273 825.955 46.212 825.955 Q54.9649 825.955 59.9619 830.316 Q64.9272 834.676 64.9272 842.315 Q64.9272 849.986 59.9619 854.346 Q54.9649 858.675 46.212 858.675 Q37.4273 858.675 32.4621 854.346 Q27.4968 849.986 27.4968 842.315 Z\" fill=\"#000000\" fill-rule=\"evenodd\" fill-opacity=\"1\" /><path clip-path=\"url(#clip710)\" d=\"M14.479 798.201 L19.3487 798.201 L19.3487 803.802 Q19.3487 806.953 20.6219 808.195 Q21.895 809.404 25.2052 809.404 L28.3562 809.404 L28.3562 799.76 L32.9077 799.76 L32.9077 809.404 L64.0042 809.404 L64.0042 815.293 L32.9077 815.293 L32.9077 820.894 L28.3562 820.894 L28.3562 815.293 L25.8736 815.293 Q19.9216 815.293 17.2162 812.523 Q14.479 809.754 14.479 803.739 L14.479 798.201 Z\" fill=\"#000000\" fill-rule=\"evenodd\" fill-opacity=\"1\" /><path clip-path=\"url(#clip710)\" d=\"M28.3562 772.579 L28.3562 766.722 L64.0042 766.722 L64.0042 772.579 L28.3562 772.579 M14.479 772.579 L14.479 766.722 L21.895 766.722 L21.895 772.579 L14.479 772.579 Z\" fill=\"#000000\" fill-rule=\"evenodd\" fill-opacity=\"1\" /><path clip-path=\"url(#clip710)\" d=\"M42.4881 724.836 L64.0042 724.836 L64.0042 730.692 L42.679 730.692 Q37.6183 730.692 35.1038 732.666 Q32.5894 734.639 32.5894 738.586 Q32.5894 743.328 35.6131 746.065 Q38.6368 748.803 43.8567 748.803 L64.0042 748.803 L64.0042 754.691 L28.3562 754.691 L28.3562 748.803 L33.8944 748.803 Q30.6797 746.702 29.0883 743.869 Q27.4968 741.005 27.4968 737.281 Q27.4968 731.138 31.3163 727.987 Q35.1038 724.836 42.4881 724.836 Z\" fill=\"#000000\" fill-rule=\"evenodd\" fill-opacity=\"1\" /><path clip-path=\"url(#clip710)\" d=\"M14.479 695.108 L19.3487 695.108 L19.3487 700.71 Q19.3487 703.861 20.6219 705.102 Q21.895 706.312 25.2052 706.312 L28.3562 706.312 L28.3562 696.668 L32.9077 696.668 L32.9077 706.312 L64.0042 706.312 L64.0042 712.2 L32.9077 712.2 L32.9077 717.802 L28.3562 717.802 L28.3562 712.2 L25.8736 712.2 Q19.9216 712.2 17.2162 709.431 Q14.479 706.662 14.479 700.646 L14.479 695.108 Z\" fill=\"#000000\" fill-rule=\"evenodd\" fill-opacity=\"1\" /><path clip-path=\"url(#clip710)\" d=\"M44.7161 659.715 L47.5806 659.715 L47.5806 686.642 Q53.6281 686.26 56.8109 683.013 Q59.9619 679.735 59.9619 673.91 Q59.9619 670.536 59.1344 667.385 Q58.3069 664.203 56.6518 661.083 L62.1899 661.083 Q63.5267 664.234 64.227 667.545 Q64.9272 670.855 64.9272 674.26 Q64.9272 682.79 59.9619 687.787 Q54.9967 692.753 46.5303 692.753 Q37.7774 692.753 32.6531 688.042 Q27.4968 683.3 27.4968 675.279 Q27.4968 668.086 32.1438 663.916 Q36.7589 659.715 44.7161 659.715 M42.9973 665.571 Q38.1912 665.635 35.3266 668.277 Q32.4621 670.887 32.4621 675.215 Q32.4621 680.117 35.2312 683.077 Q38.0002 686.005 43.0292 686.451 L42.9973 665.571 Z\" fill=\"#000000\" fill-rule=\"evenodd\" fill-opacity=\"1\" /><path clip-path=\"url(#clip710)\" d=\"M29.7248 624.449 L35.1993 624.449 Q33.8307 626.931 33.1623 629.446 Q32.4621 631.928 32.4621 634.475 Q32.4621 640.172 36.0905 643.323 Q39.6872 646.474 46.212 646.474 Q52.7369 646.474 56.3653 643.323 Q59.9619 640.172 59.9619 634.475 Q59.9619 631.928 59.2935 629.446 Q58.5933 626.931 57.2247 624.449 L62.6355 624.449 Q63.7814 626.899 64.3543 629.541 Q64.9272 632.151 64.9272 635.111 Q64.9272 643.164 59.8664 647.906 Q54.8057 652.649 46.212 652.649 Q37.491 652.649 32.4939 647.874 Q27.4968 643.068 27.4968 634.729 Q27.4968 632.024 28.0697 629.446 Q28.6108 626.868 29.7248 624.449 Z\" fill=\"#000000\" fill-rule=\"evenodd\" fill-opacity=\"1\" /><path clip-path=\"url(#clip710)\" d=\"M18.2347 608.471 L28.3562 608.471 L28.3562 596.408 L32.9077 596.408 L32.9077 608.471 L52.2594 608.471 Q56.6199 608.471 57.8613 607.293 Q59.1026 606.084 59.1026 602.423 L59.1026 596.408 L64.0042 596.408 L64.0042 602.423 Q64.0042 609.203 61.4897 611.781 Q58.9434 614.359 52.2594 614.359 L32.9077 614.359 L32.9077 618.656 L28.3562 618.656 L28.3562 614.359 L18.2347 614.359 L18.2347 608.471 Z\" fill=\"#000000\" fill-rule=\"evenodd\" fill-opacity=\"1\" /><path clip-path=\"url(#clip710)\" d=\"M28.3562 588.705 L28.3562 582.849 L64.0042 582.849 L64.0042 588.705 L28.3562 588.705 M14.479 588.705 L14.479 582.849 L21.895 582.849 L21.895 588.705 L14.479 588.705 Z\" fill=\"#000000\" fill-rule=\"evenodd\" fill-opacity=\"1\" /><path clip-path=\"url(#clip710)\" d=\"M32.4621 556.781 Q32.4621 561.492 36.1542 564.229 Q39.8145 566.966 46.212 566.966 Q52.6095 566.966 56.3017 564.261 Q59.9619 561.524 59.9619 556.781 Q59.9619 552.102 56.2698 549.365 Q52.5777 546.628 46.212 546.628 Q39.8781 546.628 36.186 549.365 Q32.4621 552.102 32.4621 556.781 M27.4968 556.781 Q27.4968 549.142 32.4621 544.782 Q37.4273 540.421 46.212 540.421 Q54.9649 540.421 59.9619 544.782 Q64.9272 549.142 64.9272 556.781 Q64.9272 564.452 59.9619 568.812 Q54.9649 573.141 46.212 573.141 Q37.4273 573.141 32.4621 568.812 Q27.4968 564.452 27.4968 556.781 Z\" fill=\"#000000\" fill-rule=\"evenodd\" fill-opacity=\"1\" /><path clip-path=\"url(#clip710)\" d=\"M42.4881 501.081 L64.0042 501.081 L64.0042 506.938 L42.679 506.938 Q37.6183 506.938 35.1038 508.911 Q32.5894 510.884 32.5894 514.831 Q32.5894 519.574 35.6131 522.311 Q38.6368 525.048 43.8567 525.048 L64.0042 525.048 L64.0042 530.936 L28.3562 530.936 L28.3562 525.048 L33.8944 525.048 Q30.6797 522.947 29.0883 520.115 Q27.4968 517.25 27.4968 513.526 Q27.4968 507.383 31.3163 504.232 Q35.1038 501.081 42.4881 501.081 Z\" fill=\"#000000\" fill-rule=\"evenodd\" fill-opacity=\"1\" /><path clip-path=\"url(#clip710)\" d=\"M55.9197 487.904 L55.9197 481.188 L61.3942 481.188 L71.5793 486.408 L71.5793 490.514 L61.3942 487.904 L55.9197 487.904 Z\" fill=\"#000000\" fill-rule=\"evenodd\" fill-opacity=\"1\" /><path clip-path=\"url(#clip710)\" d=\"M20.049 433.923 L64.0042 417.468 L64.0042 423.674 L37.6501 433.668 L64.0042 445.954 L64.0042 452.161 L29.8203 436.533 L23.5183 438.888 Q19.5079 440.384 19.5079 443.79 L19.5079 446.845 L14.479 446.845 L14.5426 443.122 Q14.6381 435.928 20.049 433.923 Z\" fill=\"#000000\" fill-rule=\"evenodd\" fill-opacity=\"1\" /><circle clip-path=\"url(#clip712)\" cx=\"309.067\" cy=\"1384.24\" r=\"14.4\" fill=\"#009af9\" fill-rule=\"evenodd\" fill-opacity=\"1\" stroke=\"#000000\" stroke-opacity=\"1\" stroke-width=\"3.2\"/>\n",
       "<circle clip-path=\"url(#clip712)\" cx=\"348.75\" cy=\"1358.28\" r=\"14.4\" fill=\"#009af9\" fill-rule=\"evenodd\" fill-opacity=\"1\" stroke=\"#000000\" stroke-opacity=\"1\" stroke-width=\"3.2\"/>\n",
       "<circle clip-path=\"url(#clip712)\" cx=\"388.434\" cy=\"1332.32\" r=\"14.4\" fill=\"#009af9\" fill-rule=\"evenodd\" fill-opacity=\"1\" stroke=\"#000000\" stroke-opacity=\"1\" stroke-width=\"3.2\"/>\n",
       "<circle clip-path=\"url(#clip712)\" cx=\"428.117\" cy=\"1306.36\" r=\"14.4\" fill=\"#009af9\" fill-rule=\"evenodd\" fill-opacity=\"1\" stroke=\"#000000\" stroke-opacity=\"1\" stroke-width=\"3.2\"/>\n",
       "<circle clip-path=\"url(#clip712)\" cx=\"467.8\" cy=\"1280.39\" r=\"14.4\" fill=\"#009af9\" fill-rule=\"evenodd\" fill-opacity=\"1\" stroke=\"#000000\" stroke-opacity=\"1\" stroke-width=\"3.2\"/>\n",
       "<circle clip-path=\"url(#clip712)\" cx=\"507.483\" cy=\"1254.43\" r=\"14.4\" fill=\"#009af9\" fill-rule=\"evenodd\" fill-opacity=\"1\" stroke=\"#000000\" stroke-opacity=\"1\" stroke-width=\"3.2\"/>\n",
       "<circle clip-path=\"url(#clip712)\" cx=\"547.167\" cy=\"1228.47\" r=\"14.4\" fill=\"#009af9\" fill-rule=\"evenodd\" fill-opacity=\"1\" stroke=\"#000000\" stroke-opacity=\"1\" stroke-width=\"3.2\"/>\n",
       "<circle clip-path=\"url(#clip712)\" cx=\"586.85\" cy=\"1202.51\" r=\"14.4\" fill=\"#009af9\" fill-rule=\"evenodd\" fill-opacity=\"1\" stroke=\"#000000\" stroke-opacity=\"1\" stroke-width=\"3.2\"/>\n",
       "<circle clip-path=\"url(#clip712)\" cx=\"626.533\" cy=\"1176.55\" r=\"14.4\" fill=\"#009af9\" fill-rule=\"evenodd\" fill-opacity=\"1\" stroke=\"#000000\" stroke-opacity=\"1\" stroke-width=\"3.2\"/>\n",
       "<circle clip-path=\"url(#clip712)\" cx=\"666.216\" cy=\"1150.59\" r=\"14.4\" fill=\"#009af9\" fill-rule=\"evenodd\" fill-opacity=\"1\" stroke=\"#000000\" stroke-opacity=\"1\" stroke-width=\"3.2\"/>\n",
       "<circle clip-path=\"url(#clip712)\" cx=\"705.9\" cy=\"1124.63\" r=\"14.4\" fill=\"#009af9\" fill-rule=\"evenodd\" fill-opacity=\"1\" stroke=\"#000000\" stroke-opacity=\"1\" stroke-width=\"3.2\"/>\n",
       "<circle clip-path=\"url(#clip712)\" cx=\"745.583\" cy=\"1098.67\" r=\"14.4\" fill=\"#009af9\" fill-rule=\"evenodd\" fill-opacity=\"1\" stroke=\"#000000\" stroke-opacity=\"1\" stroke-width=\"3.2\"/>\n",
       "<circle clip-path=\"url(#clip712)\" cx=\"785.266\" cy=\"1072.71\" r=\"14.4\" fill=\"#009af9\" fill-rule=\"evenodd\" fill-opacity=\"1\" stroke=\"#000000\" stroke-opacity=\"1\" stroke-width=\"3.2\"/>\n",
       "<circle clip-path=\"url(#clip712)\" cx=\"824.95\" cy=\"1046.74\" r=\"14.4\" fill=\"#009af9\" fill-rule=\"evenodd\" fill-opacity=\"1\" stroke=\"#000000\" stroke-opacity=\"1\" stroke-width=\"3.2\"/>\n",
       "<circle clip-path=\"url(#clip712)\" cx=\"864.633\" cy=\"1020.78\" r=\"14.4\" fill=\"#009af9\" fill-rule=\"evenodd\" fill-opacity=\"1\" stroke=\"#000000\" stroke-opacity=\"1\" stroke-width=\"3.2\"/>\n",
       "<circle clip-path=\"url(#clip712)\" cx=\"904.316\" cy=\"994.822\" r=\"14.4\" fill=\"#009af9\" fill-rule=\"evenodd\" fill-opacity=\"1\" stroke=\"#000000\" stroke-opacity=\"1\" stroke-width=\"3.2\"/>\n",
       "<circle clip-path=\"url(#clip712)\" cx=\"943.999\" cy=\"968.861\" r=\"14.4\" fill=\"#009af9\" fill-rule=\"evenodd\" fill-opacity=\"1\" stroke=\"#000000\" stroke-opacity=\"1\" stroke-width=\"3.2\"/>\n",
       "<circle clip-path=\"url(#clip712)\" cx=\"983.683\" cy=\"942.9\" r=\"14.4\" fill=\"#009af9\" fill-rule=\"evenodd\" fill-opacity=\"1\" stroke=\"#000000\" stroke-opacity=\"1\" stroke-width=\"3.2\"/>\n",
       "<circle clip-path=\"url(#clip712)\" cx=\"1023.37\" cy=\"916.939\" r=\"14.4\" fill=\"#009af9\" fill-rule=\"evenodd\" fill-opacity=\"1\" stroke=\"#000000\" stroke-opacity=\"1\" stroke-width=\"3.2\"/>\n",
       "<circle clip-path=\"url(#clip712)\" cx=\"1063.05\" cy=\"890.978\" r=\"14.4\" fill=\"#009af9\" fill-rule=\"evenodd\" fill-opacity=\"1\" stroke=\"#000000\" stroke-opacity=\"1\" stroke-width=\"3.2\"/>\n",
       "<circle clip-path=\"url(#clip712)\" cx=\"1102.73\" cy=\"865.017\" r=\"14.4\" fill=\"#009af9\" fill-rule=\"evenodd\" fill-opacity=\"1\" stroke=\"#000000\" stroke-opacity=\"1\" stroke-width=\"3.2\"/>\n",
       "<circle clip-path=\"url(#clip712)\" cx=\"1142.42\" cy=\"839.056\" r=\"14.4\" fill=\"#009af9\" fill-rule=\"evenodd\" fill-opacity=\"1\" stroke=\"#000000\" stroke-opacity=\"1\" stroke-width=\"3.2\"/>\n",
       "<circle clip-path=\"url(#clip712)\" cx=\"1182.1\" cy=\"813.095\" r=\"14.4\" fill=\"#009af9\" fill-rule=\"evenodd\" fill-opacity=\"1\" stroke=\"#000000\" stroke-opacity=\"1\" stroke-width=\"3.2\"/>\n",
       "<circle clip-path=\"url(#clip712)\" cx=\"1221.78\" cy=\"787.134\" r=\"14.4\" fill=\"#009af9\" fill-rule=\"evenodd\" fill-opacity=\"1\" stroke=\"#000000\" stroke-opacity=\"1\" stroke-width=\"3.2\"/>\n",
       "<circle clip-path=\"url(#clip712)\" cx=\"1261.47\" cy=\"761.173\" r=\"14.4\" fill=\"#009af9\" fill-rule=\"evenodd\" fill-opacity=\"1\" stroke=\"#000000\" stroke-opacity=\"1\" stroke-width=\"3.2\"/>\n",
       "<circle clip-path=\"url(#clip712)\" cx=\"1301.15\" cy=\"735.212\" r=\"14.4\" fill=\"#009af9\" fill-rule=\"evenodd\" fill-opacity=\"1\" stroke=\"#000000\" stroke-opacity=\"1\" stroke-width=\"3.2\"/>\n",
       "<circle clip-path=\"url(#clip712)\" cx=\"1340.83\" cy=\"709.251\" r=\"14.4\" fill=\"#009af9\" fill-rule=\"evenodd\" fill-opacity=\"1\" stroke=\"#000000\" stroke-opacity=\"1\" stroke-width=\"3.2\"/>\n",
       "<circle clip-path=\"url(#clip712)\" cx=\"1380.52\" cy=\"683.29\" r=\"14.4\" fill=\"#009af9\" fill-rule=\"evenodd\" fill-opacity=\"1\" stroke=\"#000000\" stroke-opacity=\"1\" stroke-width=\"3.2\"/>\n",
       "<circle clip-path=\"url(#clip712)\" cx=\"1420.2\" cy=\"657.329\" r=\"14.4\" fill=\"#009af9\" fill-rule=\"evenodd\" fill-opacity=\"1\" stroke=\"#000000\" stroke-opacity=\"1\" stroke-width=\"3.2\"/>\n",
       "<circle clip-path=\"url(#clip712)\" cx=\"1459.88\" cy=\"631.368\" r=\"14.4\" fill=\"#009af9\" fill-rule=\"evenodd\" fill-opacity=\"1\" stroke=\"#000000\" stroke-opacity=\"1\" stroke-width=\"3.2\"/>\n",
       "<circle clip-path=\"url(#clip712)\" cx=\"1499.57\" cy=\"605.407\" r=\"14.4\" fill=\"#009af9\" fill-rule=\"evenodd\" fill-opacity=\"1\" stroke=\"#000000\" stroke-opacity=\"1\" stroke-width=\"3.2\"/>\n",
       "<circle clip-path=\"url(#clip712)\" cx=\"1539.25\" cy=\"579.446\" r=\"14.4\" fill=\"#009af9\" fill-rule=\"evenodd\" fill-opacity=\"1\" stroke=\"#000000\" stroke-opacity=\"1\" stroke-width=\"3.2\"/>\n",
       "<circle clip-path=\"url(#clip712)\" cx=\"1578.93\" cy=\"553.485\" r=\"14.4\" fill=\"#009af9\" fill-rule=\"evenodd\" fill-opacity=\"1\" stroke=\"#000000\" stroke-opacity=\"1\" stroke-width=\"3.2\"/>\n",
       "<circle clip-path=\"url(#clip712)\" cx=\"1618.62\" cy=\"527.524\" r=\"14.4\" fill=\"#009af9\" fill-rule=\"evenodd\" fill-opacity=\"1\" stroke=\"#000000\" stroke-opacity=\"1\" stroke-width=\"3.2\"/>\n",
       "<circle clip-path=\"url(#clip712)\" cx=\"1658.3\" cy=\"501.563\" r=\"14.4\" fill=\"#009af9\" fill-rule=\"evenodd\" fill-opacity=\"1\" stroke=\"#000000\" stroke-opacity=\"1\" stroke-width=\"3.2\"/>\n",
       "<circle clip-path=\"url(#clip712)\" cx=\"1697.98\" cy=\"475.601\" r=\"14.4\" fill=\"#009af9\" fill-rule=\"evenodd\" fill-opacity=\"1\" stroke=\"#000000\" stroke-opacity=\"1\" stroke-width=\"3.2\"/>\n",
       "<circle clip-path=\"url(#clip712)\" cx=\"1737.67\" cy=\"449.64\" r=\"14.4\" fill=\"#009af9\" fill-rule=\"evenodd\" fill-opacity=\"1\" stroke=\"#000000\" stroke-opacity=\"1\" stroke-width=\"3.2\"/>\n",
       "<circle clip-path=\"url(#clip712)\" cx=\"1777.35\" cy=\"423.679\" r=\"14.4\" fill=\"#009af9\" fill-rule=\"evenodd\" fill-opacity=\"1\" stroke=\"#000000\" stroke-opacity=\"1\" stroke-width=\"3.2\"/>\n",
       "<circle clip-path=\"url(#clip712)\" cx=\"1817.03\" cy=\"397.718\" r=\"14.4\" fill=\"#009af9\" fill-rule=\"evenodd\" fill-opacity=\"1\" stroke=\"#000000\" stroke-opacity=\"1\" stroke-width=\"3.2\"/>\n",
       "<circle clip-path=\"url(#clip712)\" cx=\"1856.71\" cy=\"371.757\" r=\"14.4\" fill=\"#009af9\" fill-rule=\"evenodd\" fill-opacity=\"1\" stroke=\"#000000\" stroke-opacity=\"1\" stroke-width=\"3.2\"/>\n",
       "<circle clip-path=\"url(#clip712)\" cx=\"1896.4\" cy=\"345.796\" r=\"14.4\" fill=\"#009af9\" fill-rule=\"evenodd\" fill-opacity=\"1\" stroke=\"#000000\" stroke-opacity=\"1\" stroke-width=\"3.2\"/>\n",
       "<circle clip-path=\"url(#clip712)\" cx=\"1936.08\" cy=\"319.835\" r=\"14.4\" fill=\"#009af9\" fill-rule=\"evenodd\" fill-opacity=\"1\" stroke=\"#000000\" stroke-opacity=\"1\" stroke-width=\"3.2\"/>\n",
       "<circle clip-path=\"url(#clip712)\" cx=\"1975.76\" cy=\"293.874\" r=\"14.4\" fill=\"#009af9\" fill-rule=\"evenodd\" fill-opacity=\"1\" stroke=\"#000000\" stroke-opacity=\"1\" stroke-width=\"3.2\"/>\n",
       "<circle clip-path=\"url(#clip712)\" cx=\"2015.45\" cy=\"267.913\" r=\"14.4\" fill=\"#009af9\" fill-rule=\"evenodd\" fill-opacity=\"1\" stroke=\"#000000\" stroke-opacity=\"1\" stroke-width=\"3.2\"/>\n",
       "<circle clip-path=\"url(#clip712)\" cx=\"2055.13\" cy=\"241.952\" r=\"14.4\" fill=\"#009af9\" fill-rule=\"evenodd\" fill-opacity=\"1\" stroke=\"#000000\" stroke-opacity=\"1\" stroke-width=\"3.2\"/>\n",
       "<circle clip-path=\"url(#clip712)\" cx=\"2094.81\" cy=\"215.991\" r=\"14.4\" fill=\"#009af9\" fill-rule=\"evenodd\" fill-opacity=\"1\" stroke=\"#000000\" stroke-opacity=\"1\" stroke-width=\"3.2\"/>\n",
       "<circle clip-path=\"url(#clip712)\" cx=\"2134.5\" cy=\"190.03\" r=\"14.4\" fill=\"#009af9\" fill-rule=\"evenodd\" fill-opacity=\"1\" stroke=\"#000000\" stroke-opacity=\"1\" stroke-width=\"3.2\"/>\n",
       "<circle clip-path=\"url(#clip712)\" cx=\"2174.18\" cy=\"164.069\" r=\"14.4\" fill=\"#009af9\" fill-rule=\"evenodd\" fill-opacity=\"1\" stroke=\"#000000\" stroke-opacity=\"1\" stroke-width=\"3.2\"/>\n",
       "<circle clip-path=\"url(#clip712)\" cx=\"2213.86\" cy=\"138.108\" r=\"14.4\" fill=\"#009af9\" fill-rule=\"evenodd\" fill-opacity=\"1\" stroke=\"#000000\" stroke-opacity=\"1\" stroke-width=\"3.2\"/>\n",
       "<circle clip-path=\"url(#clip712)\" cx=\"2253.55\" cy=\"112.147\" r=\"14.4\" fill=\"#009af9\" fill-rule=\"evenodd\" fill-opacity=\"1\" stroke=\"#000000\" stroke-opacity=\"1\" stroke-width=\"3.2\"/>\n",
       "<circle clip-path=\"url(#clip712)\" cx=\"2293.23\" cy=\"86.1857\" r=\"14.4\" fill=\"#009af9\" fill-rule=\"evenodd\" fill-opacity=\"1\" stroke=\"#000000\" stroke-opacity=\"1\" stroke-width=\"3.2\"/>\n",
       "<polyline clip-path=\"url(#clip712)\" style=\"stroke:#e26f46; stroke-linecap:round; stroke-linejoin:round; stroke-width:4; stroke-opacity:1; fill:none\" points=\"\n",
       "  -1853.67,2799.12 4455.97,-1328.69 \n",
       "  \"/>\n",
       "<polyline clip-path=\"url(#clip712)\" style=\"stroke:#3da44d; stroke-linecap:round; stroke-linejoin:round; stroke-width:4; stroke-opacity:1; fill:none\" points=\"\n",
       "  936.405,2799.12 936.405,-1328.69 \n",
       "  \"/>\n",
       "<path clip-path=\"url(#clip710)\" d=\"\n",
       "M1368.15 300.469 L2282.65 300.469 L2282.65 93.1086 L1368.15 93.1086  Z\n",
       "  \" fill=\"#ffffff\" fill-rule=\"evenodd\" fill-opacity=\"1\"/>\n",
       "<polyline clip-path=\"url(#clip710)\" style=\"stroke:#000000; stroke-linecap:round; stroke-linejoin:round; stroke-width:4; stroke-opacity:1; fill:none\" points=\"\n",
       "  1368.15,300.469 2282.65,300.469 2282.65,93.1086 1368.15,93.1086 1368.15,300.469 \n",
       "  \"/>\n",
       "<circle clip-path=\"url(#clip710)\" cx=\"1461.63\" cy=\"144.949\" r=\"23.04\" fill=\"#009af9\" fill-rule=\"evenodd\" fill-opacity=\"1\" stroke=\"#000000\" stroke-opacity=\"1\" stroke-width=\"5.12\"/>\n",
       "<path clip-path=\"url(#clip710)\" d=\"M1577.35 128.803 L1577.35 133.363 Q1574.69 132.09 1572.33 131.465 Q1569.97 130.84 1567.77 130.84 Q1563.95 130.84 1561.86 132.321 Q1559.8 133.803 1559.8 136.534 Q1559.8 138.826 1561.17 140.007 Q1562.56 141.164 1566.4 141.882 L1569.22 142.46 Q1574.46 143.456 1576.93 145.979 Q1579.43 148.479 1579.43 152.692 Q1579.43 157.715 1576.05 160.307 Q1572.7 162.9 1566.19 162.9 Q1563.74 162.9 1560.96 162.344 Q1558.21 161.789 1555.24 160.701 L1555.24 155.886 Q1558.09 157.483 1560.82 158.293 Q1563.55 159.104 1566.19 159.104 Q1570.2 159.104 1572.37 157.53 Q1574.55 155.956 1574.55 153.039 Q1574.55 150.493 1572.97 149.057 Q1571.42 147.622 1567.86 146.905 L1565.01 146.349 Q1559.78 145.307 1557.44 143.085 Q1555.1 140.863 1555.1 136.905 Q1555.1 132.321 1558.32 129.682 Q1561.56 127.044 1567.23 127.044 Q1569.66 127.044 1572.19 127.483 Q1574.71 127.923 1577.35 128.803 Z\" fill=\"#000000\" fill-rule=\"evenodd\" fill-opacity=\"1\" /><path clip-path=\"url(#clip710)\" d=\"M1597.33 164.636 Q1595.52 169.266 1593.81 170.678 Q1592.09 172.09 1589.22 172.09 L1585.82 172.09 L1585.82 168.525 L1588.32 168.525 Q1590.08 168.525 1591.05 167.692 Q1592.03 166.858 1593.21 163.756 L1593.97 161.812 L1583.48 136.303 L1588 136.303 L1596.1 156.581 L1604.2 136.303 L1608.71 136.303 L1597.33 164.636 Z\" fill=\"#000000\" fill-rule=\"evenodd\" fill-opacity=\"1\" /><path clip-path=\"url(#clip710)\" d=\"M1634.78 141.28 Q1636.38 138.409 1638.6 137.044 Q1640.82 135.678 1643.83 135.678 Q1647.88 135.678 1650.08 138.525 Q1652.28 141.349 1652.28 146.581 L1652.28 162.229 L1648 162.229 L1648 146.719 Q1648 142.993 1646.68 141.187 Q1645.36 139.382 1642.65 139.382 Q1639.34 139.382 1637.42 141.581 Q1635.5 143.78 1635.5 147.576 L1635.5 162.229 L1631.21 162.229 L1631.21 146.719 Q1631.21 142.969 1629.9 141.187 Q1628.58 139.382 1625.82 139.382 Q1622.56 139.382 1620.64 141.604 Q1618.71 143.803 1618.71 147.576 L1618.71 162.229 L1614.43 162.229 L1614.43 136.303 L1618.71 136.303 L1618.71 140.331 Q1620.17 137.946 1622.21 136.812 Q1624.25 135.678 1627.05 135.678 Q1629.87 135.678 1631.84 137.113 Q1633.83 138.548 1634.78 141.28 Z\" fill=\"#000000\" fill-rule=\"evenodd\" fill-opacity=\"1\" /><path clip-path=\"url(#clip710)\" d=\"M1679.39 149.289 Q1679.39 144.59 1677.44 141.928 Q1675.52 139.243 1672.14 139.243 Q1668.76 139.243 1666.82 141.928 Q1664.9 144.59 1664.9 149.289 Q1664.9 153.988 1666.82 156.673 Q1668.76 159.335 1672.14 159.335 Q1675.52 159.335 1677.44 156.673 Q1679.39 153.988 1679.39 149.289 M1664.9 140.238 Q1666.24 137.923 1668.27 136.812 Q1670.34 135.678 1673.18 135.678 Q1677.9 135.678 1680.84 139.428 Q1683.81 143.178 1683.81 149.289 Q1683.81 155.4 1680.84 159.15 Q1677.9 162.9 1673.18 162.9 Q1670.34 162.9 1668.27 161.789 Q1666.24 160.655 1664.9 158.34 L1664.9 162.229 L1660.61 162.229 L1660.61 126.21 L1664.9 126.21 L1664.9 140.238 Z\" fill=\"#000000\" fill-rule=\"evenodd\" fill-opacity=\"1\" /><path clip-path=\"url(#clip710)\" d=\"M1700.91 139.289 Q1697.49 139.289 1695.5 141.974 Q1693.51 144.636 1693.51 149.289 Q1693.51 153.942 1695.47 156.627 Q1697.46 159.289 1700.91 159.289 Q1704.32 159.289 1706.31 156.604 Q1708.3 153.918 1708.3 149.289 Q1708.3 144.682 1706.31 141.997 Q1704.32 139.289 1700.91 139.289 M1700.91 135.678 Q1706.47 135.678 1709.64 139.289 Q1712.81 142.9 1712.81 149.289 Q1712.81 155.655 1709.64 159.289 Q1706.47 162.9 1700.91 162.9 Q1695.33 162.9 1692.16 159.289 Q1689.02 155.655 1689.02 149.289 Q1689.02 142.9 1692.16 139.289 Q1695.33 135.678 1700.91 135.678 Z\" fill=\"#000000\" fill-rule=\"evenodd\" fill-opacity=\"1\" /><path clip-path=\"url(#clip710)\" d=\"M1719.87 126.21 L1724.13 126.21 L1724.13 162.229 L1719.87 162.229 L1719.87 126.21 Z\" fill=\"#000000\" fill-rule=\"evenodd\" fill-opacity=\"1\" /><path clip-path=\"url(#clip710)\" d=\"M1733.04 136.303 L1737.3 136.303 L1737.3 162.229 L1733.04 162.229 L1733.04 136.303 M1733.04 126.21 L1737.3 126.21 L1737.3 131.604 L1733.04 131.604 L1733.04 126.21 Z\" fill=\"#000000\" fill-rule=\"evenodd\" fill-opacity=\"1\" /><path clip-path=\"url(#clip710)\" d=\"M1764.87 137.298 L1764.87 141.28 Q1763.07 140.284 1761.24 139.798 Q1759.43 139.289 1757.58 139.289 Q1753.44 139.289 1751.14 141.928 Q1748.85 144.544 1748.85 149.289 Q1748.85 154.034 1751.14 156.673 Q1753.44 159.289 1757.58 159.289 Q1759.43 159.289 1761.24 158.803 Q1763.07 158.293 1764.87 157.298 L1764.87 161.233 Q1763.09 162.067 1761.17 162.483 Q1759.27 162.9 1757.12 162.9 Q1751.26 162.9 1747.81 159.219 Q1744.36 155.539 1744.36 149.289 Q1744.36 142.946 1747.83 139.312 Q1751.33 135.678 1757.39 135.678 Q1759.36 135.678 1761.24 136.095 Q1763.11 136.488 1764.87 137.298 Z\" fill=\"#000000\" fill-rule=\"evenodd\" fill-opacity=\"1\" /><path clip-path=\"url(#clip710)\" d=\"M1803.92 146.025 Q1805.43 146.534 1806.84 148.201 Q1808.27 149.868 1809.71 152.784 L1814.45 162.229 L1809.43 162.229 L1805.01 153.363 Q1803.3 149.891 1801.68 148.756 Q1800.08 147.622 1797.3 147.622 L1792.21 147.622 L1792.21 162.229 L1787.53 162.229 L1787.53 127.669 L1798.09 127.669 Q1804.01 127.669 1806.93 130.145 Q1809.85 132.622 1809.85 137.622 Q1809.85 140.886 1808.32 143.039 Q1806.82 145.192 1803.92 146.025 M1792.21 131.511 L1792.21 143.78 L1798.09 143.78 Q1801.47 143.78 1803.18 142.229 Q1804.92 140.655 1804.92 137.622 Q1804.92 134.59 1803.18 133.062 Q1801.47 131.511 1798.09 131.511 L1792.21 131.511 Z\" fill=\"#000000\" fill-rule=\"evenodd\" fill-opacity=\"1\" /><path clip-path=\"url(#clip710)\" d=\"M1840.33 148.201 L1840.33 150.284 L1820.75 150.284 Q1821.03 154.682 1823.39 156.997 Q1825.77 159.289 1830.01 159.289 Q1832.46 159.289 1834.76 158.687 Q1837.07 158.085 1839.34 156.881 L1839.34 160.909 Q1837.05 161.881 1834.64 162.391 Q1832.23 162.9 1829.76 162.9 Q1823.55 162.9 1819.92 159.289 Q1816.31 155.678 1816.31 149.52 Q1816.31 143.155 1819.73 139.428 Q1823.18 135.678 1829.01 135.678 Q1834.25 135.678 1837.28 139.057 Q1840.33 142.414 1840.33 148.201 M1836.07 146.951 Q1836.03 143.456 1834.11 141.372 Q1832.21 139.289 1829.06 139.289 Q1825.5 139.289 1823.34 141.303 Q1821.21 143.317 1820.89 146.974 L1836.07 146.951 Z\" fill=\"#000000\" fill-rule=\"evenodd\" fill-opacity=\"1\" /><path clip-path=\"url(#clip710)\" d=\"M1864.38 148.965 Q1864.38 144.335 1862.46 141.789 Q1860.57 139.243 1857.12 139.243 Q1853.69 139.243 1851.77 141.789 Q1849.87 144.335 1849.87 148.965 Q1849.87 153.571 1851.77 156.118 Q1853.69 158.664 1857.12 158.664 Q1860.57 158.664 1862.46 156.118 Q1864.38 153.571 1864.38 148.965 M1868.64 159.011 Q1868.64 165.631 1865.7 168.849 Q1862.76 172.09 1856.7 172.09 Q1854.45 172.09 1852.46 171.742 Q1850.47 171.418 1848.6 170.724 L1848.6 166.58 Q1850.47 167.599 1852.3 168.085 Q1854.13 168.571 1856.03 168.571 Q1860.22 168.571 1862.3 166.372 Q1864.38 164.196 1864.38 159.775 L1864.38 157.668 Q1863.07 159.96 1861.01 161.094 Q1858.95 162.229 1856.07 162.229 Q1851.31 162.229 1848.39 158.594 Q1845.47 154.96 1845.47 148.965 Q1845.47 142.946 1848.39 139.312 Q1851.31 135.678 1856.07 135.678 Q1858.95 135.678 1861.01 136.812 Q1863.07 137.946 1864.38 140.238 L1864.38 136.303 L1868.64 136.303 L1868.64 159.011 Z\" fill=\"#000000\" fill-rule=\"evenodd\" fill-opacity=\"1\" /><path clip-path=\"url(#clip710)\" d=\"M1892.44 140.284 Q1891.72 139.868 1890.87 139.682 Q1890.03 139.474 1889.01 139.474 Q1885.4 139.474 1883.46 141.835 Q1881.54 144.173 1881.54 148.571 L1881.54 162.229 L1877.26 162.229 L1877.26 136.303 L1881.54 136.303 L1881.54 140.331 Q1882.88 137.969 1885.03 136.835 Q1887.19 135.678 1890.26 135.678 Q1890.7 135.678 1891.24 135.747 Q1891.77 135.794 1892.42 135.909 L1892.44 140.284 Z\" fill=\"#000000\" fill-rule=\"evenodd\" fill-opacity=\"1\" /><path clip-path=\"url(#clip710)\" d=\"M1918.04 148.201 L1918.04 150.284 L1898.46 150.284 Q1898.74 154.682 1901.1 156.997 Q1903.48 159.289 1907.72 159.289 Q1910.17 159.289 1912.46 158.687 Q1914.78 158.085 1917.05 156.881 L1917.05 160.909 Q1914.76 161.881 1912.35 162.391 Q1909.94 162.9 1907.46 162.9 Q1901.26 162.9 1897.63 159.289 Q1894.01 155.678 1894.01 149.52 Q1894.01 143.155 1897.44 139.428 Q1900.89 135.678 1906.72 135.678 Q1911.95 135.678 1914.99 139.057 Q1918.04 142.414 1918.04 148.201 M1913.78 146.951 Q1913.74 143.456 1911.82 141.372 Q1909.92 139.289 1906.77 139.289 Q1903.2 139.289 1901.05 141.303 Q1898.92 143.317 1898.6 146.974 L1913.78 146.951 Z\" fill=\"#000000\" fill-rule=\"evenodd\" fill-opacity=\"1\" /><path clip-path=\"url(#clip710)\" d=\"M1941.56 137.067 L1941.56 141.094 Q1939.75 140.169 1937.81 139.706 Q1935.87 139.243 1933.78 139.243 Q1930.61 139.243 1929.01 140.215 Q1927.44 141.187 1927.44 143.131 Q1927.44 144.613 1928.57 145.469 Q1929.71 146.303 1933.13 147.067 L1934.59 147.391 Q1939.13 148.363 1941.03 150.145 Q1942.95 151.905 1942.95 155.076 Q1942.95 158.687 1940.08 160.793 Q1937.23 162.9 1932.23 162.9 Q1930.15 162.9 1927.88 162.483 Q1925.63 162.09 1923.13 161.28 L1923.13 156.881 Q1925.5 158.108 1927.79 158.733 Q1930.08 159.335 1932.32 159.335 Q1935.33 159.335 1936.95 158.317 Q1938.57 157.275 1938.57 155.4 Q1938.57 153.664 1937.39 152.738 Q1936.24 151.812 1932.28 150.956 L1930.8 150.608 Q1926.84 149.775 1925.08 148.062 Q1923.32 146.326 1923.32 143.317 Q1923.32 139.659 1925.91 137.669 Q1928.5 135.678 1933.27 135.678 Q1935.63 135.678 1937.72 136.025 Q1939.8 136.372 1941.56 137.067 Z\" fill=\"#000000\" fill-rule=\"evenodd\" fill-opacity=\"1\" /><path clip-path=\"url(#clip710)\" d=\"M1966.26 137.067 L1966.26 141.094 Q1964.45 140.169 1962.51 139.706 Q1960.56 139.243 1958.48 139.243 Q1955.31 139.243 1953.71 140.215 Q1952.14 141.187 1952.14 143.131 Q1952.14 144.613 1953.27 145.469 Q1954.41 146.303 1957.83 147.067 L1959.29 147.391 Q1963.83 148.363 1965.73 150.145 Q1967.65 151.905 1967.65 155.076 Q1967.65 158.687 1964.78 160.793 Q1961.93 162.9 1956.93 162.9 Q1954.85 162.9 1952.58 162.483 Q1950.33 162.09 1947.83 161.28 L1947.83 156.881 Q1950.19 158.108 1952.49 158.733 Q1954.78 159.335 1957.02 159.335 Q1960.03 159.335 1961.65 158.317 Q1963.27 157.275 1963.27 155.4 Q1963.27 153.664 1962.09 152.738 Q1960.94 151.812 1956.98 150.956 L1955.5 150.608 Q1951.54 149.775 1949.78 148.062 Q1948.02 146.326 1948.02 143.317 Q1948.02 139.659 1950.61 137.669 Q1953.2 135.678 1957.97 135.678 Q1960.33 135.678 1962.42 136.025 Q1964.5 136.372 1966.26 137.067 Z\" fill=\"#000000\" fill-rule=\"evenodd\" fill-opacity=\"1\" /><path clip-path=\"url(#clip710)\" d=\"M1974.43 136.303 L1978.69 136.303 L1978.69 162.229 L1974.43 162.229 L1974.43 136.303 M1974.43 126.21 L1978.69 126.21 L1978.69 131.604 L1974.43 131.604 L1974.43 126.21 Z\" fill=\"#000000\" fill-rule=\"evenodd\" fill-opacity=\"1\" /><path clip-path=\"url(#clip710)\" d=\"M1997.65 139.289 Q1994.22 139.289 1992.23 141.974 Q1990.24 144.636 1990.24 149.289 Q1990.24 153.942 1992.21 156.627 Q1994.2 159.289 1997.65 159.289 Q2001.05 159.289 2003.04 156.604 Q2005.03 153.918 2005.03 149.289 Q2005.03 144.682 2003.04 141.997 Q2001.05 139.289 1997.65 139.289 M1997.65 135.678 Q2003.2 135.678 2006.37 139.289 Q2009.55 142.9 2009.55 149.289 Q2009.55 155.655 2006.37 159.289 Q2003.2 162.9 1997.65 162.9 Q1992.07 162.9 1988.9 159.289 Q1985.75 155.655 1985.75 149.289 Q1985.75 142.9 1988.9 139.289 Q1992.07 135.678 1997.65 135.678 Z\" fill=\"#000000\" fill-rule=\"evenodd\" fill-opacity=\"1\" /><path clip-path=\"url(#clip710)\" d=\"M2038.16 146.581 L2038.16 162.229 L2033.9 162.229 L2033.9 146.719 Q2033.9 143.039 2032.46 141.21 Q2031.03 139.382 2028.16 139.382 Q2024.71 139.382 2022.72 141.581 Q2020.73 143.78 2020.73 147.576 L2020.73 162.229 L2016.44 162.229 L2016.44 136.303 L2020.73 136.303 L2020.73 140.331 Q2022.25 137.993 2024.31 136.835 Q2026.4 135.678 2029.11 135.678 Q2033.57 135.678 2035.87 138.456 Q2038.16 141.21 2038.16 146.581 Z\" fill=\"#000000\" fill-rule=\"evenodd\" fill-opacity=\"1\" /><polyline clip-path=\"url(#clip710)\" style=\"stroke:#e26f46; stroke-linecap:round; stroke-linejoin:round; stroke-width:4; stroke-opacity:1; fill:none\" points=\"\n",
       "  1391.52,196.789 1531.74,196.789 \n",
       "  \"/>\n",
       "<path clip-path=\"url(#clip710)\" d=\"M1555.1 179.509 L1584.34 179.509 L1584.34 183.444 L1572.07 183.444 L1572.07 214.069 L1567.37 214.069 L1567.37 183.444 L1555.1 183.444 L1555.1 179.509 Z\" fill=\"#000000\" fill-rule=\"evenodd\" fill-opacity=\"1\" /><path clip-path=\"url(#clip710)\" d=\"M1596.72 192.124 Q1596.01 191.708 1595.15 191.522 Q1594.32 191.314 1593.3 191.314 Q1589.69 191.314 1587.74 193.675 Q1585.82 196.013 1585.82 200.411 L1585.82 214.069 L1581.54 214.069 L1581.54 188.143 L1585.82 188.143 L1585.82 192.171 Q1587.16 189.809 1589.32 188.675 Q1591.47 187.518 1594.55 187.518 Q1594.99 187.518 1595.52 187.587 Q1596.05 187.634 1596.7 187.749 L1596.72 192.124 Z\" fill=\"#000000\" fill-rule=\"evenodd\" fill-opacity=\"1\" /><path clip-path=\"url(#clip710)\" d=\"M1600.75 203.837 L1600.75 188.143 L1605.01 188.143 L1605.01 203.675 Q1605.01 207.356 1606.45 209.208 Q1607.88 211.036 1610.75 211.036 Q1614.2 211.036 1616.19 208.837 Q1618.21 206.638 1618.21 202.842 L1618.21 188.143 L1622.46 188.143 L1622.46 214.069 L1618.21 214.069 L1618.21 210.087 Q1616.65 212.448 1614.59 213.606 Q1612.56 214.74 1609.85 214.74 Q1605.38 214.74 1603.07 211.962 Q1600.75 209.184 1600.75 203.837 M1611.47 187.518 L1611.47 187.518 Z\" fill=\"#000000\" fill-rule=\"evenodd\" fill-opacity=\"1\" /><path clip-path=\"url(#clip710)\" d=\"M1653.41 200.041 L1653.41 202.124 L1633.83 202.124 Q1634.11 206.522 1636.47 208.837 Q1638.85 211.129 1643.09 211.129 Q1645.54 211.129 1647.84 210.527 Q1650.15 209.925 1652.42 208.721 L1652.42 212.749 Q1650.13 213.721 1647.72 214.231 Q1645.31 214.74 1642.84 214.74 Q1636.63 214.74 1633 211.129 Q1629.39 207.518 1629.39 201.36 Q1629.39 194.995 1632.81 191.268 Q1636.26 187.518 1642.09 187.518 Q1647.33 187.518 1650.36 190.897 Q1653.41 194.254 1653.41 200.041 M1649.15 198.791 Q1649.11 195.296 1647.19 193.212 Q1645.29 191.129 1642.14 191.129 Q1638.58 191.129 1636.42 193.143 Q1634.29 195.157 1633.97 198.814 L1649.15 198.791 Z\" fill=\"#000000\" fill-rule=\"evenodd\" fill-opacity=\"1\" /><path clip-path=\"url(#clip710)\" d=\"M1672.42 188.143 L1676.93 188.143 L1685.03 209.902 L1693.14 188.143 L1697.65 188.143 L1687.93 214.069 L1682.14 214.069 L1672.42 188.143 Z\" fill=\"#000000\" fill-rule=\"evenodd\" fill-opacity=\"1\" /><path clip-path=\"url(#clip710)\" d=\"M1715.31 201.036 Q1710.15 201.036 1708.16 202.217 Q1706.17 203.397 1706.17 206.245 Q1706.17 208.513 1707.65 209.856 Q1709.15 211.175 1711.72 211.175 Q1715.27 211.175 1717.39 208.675 Q1719.55 206.152 1719.55 201.985 L1719.55 201.036 L1715.31 201.036 M1723.81 199.277 L1723.81 214.069 L1719.55 214.069 L1719.55 210.133 Q1718.09 212.495 1715.91 213.629 Q1713.74 214.74 1710.59 214.74 Q1706.61 214.74 1704.25 212.518 Q1701.91 210.272 1701.91 206.522 Q1701.91 202.147 1704.83 199.925 Q1707.77 197.703 1713.58 197.703 L1719.55 197.703 L1719.55 197.286 Q1719.55 194.347 1717.6 192.749 Q1715.68 191.129 1712.19 191.129 Q1709.96 191.129 1707.86 191.661 Q1705.75 192.194 1703.81 193.259 L1703.81 189.323 Q1706.15 188.421 1708.34 187.981 Q1710.54 187.518 1712.63 187.518 Q1718.25 187.518 1721.03 190.434 Q1723.81 193.351 1723.81 199.277 Z\" fill=\"#000000\" fill-rule=\"evenodd\" fill-opacity=\"1\" /><path clip-path=\"url(#clip710)\" d=\"M1732.58 178.05 L1736.84 178.05 L1736.84 214.069 L1732.58 214.069 L1732.58 178.05 Z\" fill=\"#000000\" fill-rule=\"evenodd\" fill-opacity=\"1\" /><path clip-path=\"url(#clip710)\" d=\"M1745.31 203.837 L1745.31 188.143 L1749.57 188.143 L1749.57 203.675 Q1749.57 207.356 1751.01 209.208 Q1752.44 211.036 1755.31 211.036 Q1758.76 211.036 1760.75 208.837 Q1762.77 206.638 1762.77 202.842 L1762.77 188.143 L1767.02 188.143 L1767.02 214.069 L1762.77 214.069 L1762.77 210.087 Q1761.21 212.448 1759.15 213.606 Q1757.12 214.74 1754.41 214.74 Q1749.94 214.74 1747.63 211.962 Q1745.31 209.184 1745.31 203.837 M1756.03 187.518 L1756.03 187.518 Z\" fill=\"#000000\" fill-rule=\"evenodd\" fill-opacity=\"1\" /><path clip-path=\"url(#clip710)\" d=\"M1797.97 200.041 L1797.97 202.124 L1778.39 202.124 Q1778.67 206.522 1781.03 208.837 Q1783.41 211.129 1787.65 211.129 Q1790.1 211.129 1792.39 210.527 Q1794.71 209.925 1796.98 208.721 L1796.98 212.749 Q1794.69 213.721 1792.28 214.231 Q1789.87 214.74 1787.39 214.74 Q1781.19 214.74 1777.56 211.129 Q1773.95 207.518 1773.95 201.36 Q1773.95 194.995 1777.37 191.268 Q1780.82 187.518 1786.65 187.518 Q1791.89 187.518 1794.92 190.897 Q1797.97 194.254 1797.97 200.041 M1793.71 198.791 Q1793.67 195.296 1791.75 193.212 Q1789.85 191.129 1786.7 191.129 Q1783.14 191.129 1780.98 193.143 Q1778.85 195.157 1778.53 198.814 L1793.71 198.791 Z\" fill=\"#000000\" fill-rule=\"evenodd\" fill-opacity=\"1\" /><polyline clip-path=\"url(#clip710)\" style=\"stroke:#3da44d; stroke-linecap:round; stroke-linejoin:round; stroke-width:4; stroke-opacity:1; fill:none\" points=\"\n",
       "  1391.52,248.629 1531.74,248.629 \n",
       "  \"/>\n",
       "<path clip-path=\"url(#clip710)\" d=\"M1555.1 231.349 L1559.8 231.349 L1559.8 252.344 Q1559.8 257.899 1561.82 260.353 Q1563.83 262.784 1568.34 262.784 Q1572.84 262.784 1574.85 260.353 Q1576.86 257.899 1576.86 252.344 L1576.86 231.349 L1581.56 231.349 L1581.56 252.923 Q1581.56 259.682 1578.21 263.131 Q1574.87 266.58 1568.34 266.58 Q1561.79 266.58 1558.44 263.131 Q1555.1 259.682 1555.1 252.923 L1555.1 231.349 Z\" fill=\"#000000\" fill-rule=\"evenodd\" fill-opacity=\"1\" /><path clip-path=\"url(#clip710)\" d=\"M1594.27 262.02 L1594.27 275.77 L1589.99 275.77 L1589.99 239.983 L1594.27 239.983 L1594.27 243.918 Q1595.61 241.603 1597.65 240.492 Q1599.71 239.358 1602.56 239.358 Q1607.28 239.358 1610.22 243.108 Q1613.18 246.858 1613.18 252.969 Q1613.18 259.08 1610.22 262.83 Q1607.28 266.58 1602.56 266.58 Q1599.71 266.58 1597.65 265.469 Q1595.61 264.335 1594.27 262.02 M1608.76 252.969 Q1608.76 248.27 1606.82 245.608 Q1604.9 242.923 1601.52 242.923 Q1598.14 242.923 1596.19 245.608 Q1594.27 248.27 1594.27 252.969 Q1594.27 257.668 1596.19 260.353 Q1598.14 263.015 1601.52 263.015 Q1604.9 263.015 1606.82 260.353 Q1608.76 257.668 1608.76 252.969 Z\" fill=\"#000000\" fill-rule=\"evenodd\" fill-opacity=\"1\" /><path clip-path=\"url(#clip710)\" d=\"M1624.36 262.02 L1624.36 275.77 L1620.08 275.77 L1620.08 239.983 L1624.36 239.983 L1624.36 243.918 Q1625.71 241.603 1627.74 240.492 Q1629.8 239.358 1632.65 239.358 Q1637.37 239.358 1640.31 243.108 Q1643.27 246.858 1643.27 252.969 Q1643.27 259.08 1640.31 262.83 Q1637.37 266.58 1632.65 266.58 Q1629.8 266.58 1627.74 265.469 Q1625.71 264.335 1624.36 262.02 M1638.85 252.969 Q1638.85 248.27 1636.91 245.608 Q1634.99 242.923 1631.61 242.923 Q1628.23 242.923 1626.28 245.608 Q1624.36 248.27 1624.36 252.969 Q1624.36 257.668 1626.28 260.353 Q1628.23 263.015 1631.61 263.015 Q1634.99 263.015 1636.91 260.353 Q1638.85 257.668 1638.85 252.969 Z\" fill=\"#000000\" fill-rule=\"evenodd\" fill-opacity=\"1\" /><path clip-path=\"url(#clip710)\" d=\"M1672.51 251.881 L1672.51 253.964 L1652.93 253.964 Q1653.21 258.362 1655.57 260.677 Q1657.95 262.969 1662.19 262.969 Q1664.64 262.969 1666.93 262.367 Q1669.25 261.765 1671.52 260.561 L1671.52 264.589 Q1669.22 265.561 1666.82 266.071 Q1664.41 266.58 1661.93 266.58 Q1655.73 266.58 1652.09 262.969 Q1648.48 259.358 1648.48 253.2 Q1648.48 246.835 1651.91 243.108 Q1655.36 239.358 1661.19 239.358 Q1666.42 239.358 1669.46 242.737 Q1672.51 246.094 1672.51 251.881 M1668.25 250.631 Q1668.21 247.136 1666.28 245.052 Q1664.39 242.969 1661.24 242.969 Q1657.67 242.969 1655.52 244.983 Q1653.39 246.997 1653.07 250.654 L1668.25 250.631 Z\" fill=\"#000000\" fill-rule=\"evenodd\" fill-opacity=\"1\" /><path clip-path=\"url(#clip710)\" d=\"M1694.52 243.964 Q1693.81 243.548 1692.95 243.362 Q1692.12 243.154 1691.1 243.154 Q1687.49 243.154 1685.54 245.515 Q1683.62 247.853 1683.62 252.251 L1683.62 265.909 L1679.34 265.909 L1679.34 239.983 L1683.62 239.983 L1683.62 244.011 Q1684.96 241.649 1687.12 240.515 Q1689.27 239.358 1692.35 239.358 Q1692.79 239.358 1693.32 239.427 Q1693.85 239.474 1694.5 239.589 L1694.52 243.964 Z\" fill=\"#000000\" fill-rule=\"evenodd\" fill-opacity=\"1\" /><path clip-path=\"url(#clip710)\" d=\"M1732.67 252.969 Q1732.67 248.27 1730.73 245.608 Q1728.81 242.923 1725.43 242.923 Q1722.05 242.923 1720.1 245.608 Q1718.18 248.27 1718.18 252.969 Q1718.18 257.668 1720.1 260.353 Q1722.05 263.015 1725.43 263.015 Q1728.81 263.015 1730.73 260.353 Q1732.67 257.668 1732.67 252.969 M1718.18 243.918 Q1719.52 241.603 1721.56 240.492 Q1723.62 239.358 1726.47 239.358 Q1731.19 239.358 1734.13 243.108 Q1737.09 246.858 1737.09 252.969 Q1737.09 259.08 1734.13 262.83 Q1731.19 266.58 1726.47 266.58 Q1723.62 266.58 1721.56 265.469 Q1719.52 264.335 1718.18 262.02 L1718.18 265.909 L1713.9 265.909 L1713.9 229.89 L1718.18 229.89 L1718.18 243.918 Z\" fill=\"#000000\" fill-rule=\"evenodd\" fill-opacity=\"1\" /><path clip-path=\"url(#clip710)\" d=\"M1754.2 242.969 Q1750.77 242.969 1748.78 245.654 Q1746.79 248.316 1746.79 252.969 Q1746.79 257.622 1748.76 260.307 Q1750.75 262.969 1754.2 262.969 Q1757.6 262.969 1759.59 260.284 Q1761.58 257.598 1761.58 252.969 Q1761.58 248.362 1759.59 245.677 Q1757.6 242.969 1754.2 242.969 M1754.2 239.358 Q1759.76 239.358 1762.93 242.969 Q1766.1 246.58 1766.1 252.969 Q1766.1 259.335 1762.93 262.969 Q1759.76 266.58 1754.2 266.58 Q1748.62 266.58 1745.45 262.969 Q1742.3 259.335 1742.3 252.969 Q1742.3 246.58 1745.45 242.969 Q1748.62 239.358 1754.2 239.358 Z\" fill=\"#000000\" fill-rule=\"evenodd\" fill-opacity=\"1\" /><path clip-path=\"url(#clip710)\" d=\"M1772.72 255.677 L1772.72 239.983 L1776.98 239.983 L1776.98 255.515 Q1776.98 259.196 1778.41 261.048 Q1779.85 262.876 1782.72 262.876 Q1786.17 262.876 1788.16 260.677 Q1790.17 258.478 1790.17 254.682 L1790.17 239.983 L1794.43 239.983 L1794.43 265.909 L1790.17 265.909 L1790.17 261.927 Q1788.62 264.288 1786.56 265.446 Q1784.52 266.58 1781.82 266.58 Q1777.35 266.58 1775.03 263.802 Q1772.72 261.024 1772.72 255.677 M1783.44 239.358 L1783.44 239.358 Z\" fill=\"#000000\" fill-rule=\"evenodd\" fill-opacity=\"1\" /><path clip-path=\"url(#clip710)\" d=\"M1824.76 250.261 L1824.76 265.909 L1820.5 265.909 L1820.5 250.399 Q1820.5 246.719 1819.06 244.89 Q1817.63 243.062 1814.76 243.062 Q1811.31 243.062 1809.32 245.261 Q1807.33 247.46 1807.33 251.256 L1807.33 265.909 L1803.04 265.909 L1803.04 239.983 L1807.33 239.983 L1807.33 244.011 Q1808.85 241.673 1810.91 240.515 Q1813 239.358 1815.7 239.358 Q1820.17 239.358 1822.46 242.136 Q1824.76 244.89 1824.76 250.261 Z\" fill=\"#000000\" fill-rule=\"evenodd\" fill-opacity=\"1\" /><path clip-path=\"url(#clip710)\" d=\"M1850.31 243.918 L1850.31 229.89 L1854.57 229.89 L1854.57 265.909 L1850.31 265.909 L1850.31 262.02 Q1848.97 264.335 1846.91 265.469 Q1844.87 266.58 1842 266.58 Q1837.3 266.58 1834.34 262.83 Q1831.4 259.08 1831.4 252.969 Q1831.4 246.858 1834.34 243.108 Q1837.3 239.358 1842 239.358 Q1844.87 239.358 1846.91 240.492 Q1848.97 241.603 1850.31 243.918 M1835.8 252.969 Q1835.8 257.668 1837.72 260.353 Q1839.66 263.015 1843.04 263.015 Q1846.42 263.015 1848.37 260.353 Q1850.31 257.668 1850.31 252.969 Q1850.31 248.27 1848.37 245.608 Q1846.42 242.923 1843.04 242.923 Q1839.66 242.923 1837.72 245.608 Q1835.8 248.27 1835.8 252.969 Z\" fill=\"#000000\" fill-rule=\"evenodd\" fill-opacity=\"1\" /><path clip-path=\"url(#clip710)\" d=\"M1888.46 242.969 Q1885.03 242.969 1883.04 245.654 Q1881.05 248.316 1881.05 252.969 Q1881.05 257.622 1883.02 260.307 Q1885.01 262.969 1888.46 262.969 Q1891.86 262.969 1893.85 260.284 Q1895.84 257.598 1895.84 252.969 Q1895.84 248.362 1893.85 245.677 Q1891.86 242.969 1888.46 242.969 M1888.46 239.358 Q1894.01 239.358 1897.19 242.969 Q1900.36 246.58 1900.36 252.969 Q1900.36 259.335 1897.19 262.969 Q1894.01 266.58 1888.46 266.58 Q1882.88 266.58 1879.71 262.969 Q1876.56 259.335 1876.56 252.969 Q1876.56 246.58 1879.71 242.969 Q1882.88 239.358 1888.46 239.358 Z\" fill=\"#000000\" fill-rule=\"evenodd\" fill-opacity=\"1\" /><path clip-path=\"url(#clip710)\" d=\"M1920.54 229.89 L1920.54 233.432 L1916.47 233.432 Q1914.18 233.432 1913.27 234.358 Q1912.39 235.284 1912.39 237.691 L1912.39 239.983 L1919.41 239.983 L1919.41 243.293 L1912.39 243.293 L1912.39 265.909 L1908.11 265.909 L1908.11 243.293 L1904.04 243.293 L1904.04 239.983 L1908.11 239.983 L1908.11 238.177 Q1908.11 233.849 1910.13 231.881 Q1912.14 229.89 1916.51 229.89 L1920.54 229.89 Z\" fill=\"#000000\" fill-rule=\"evenodd\" fill-opacity=\"1\" /><path clip-path=\"url(#clip710)\" d=\"M1943.39 232.622 L1943.39 239.983 L1952.16 239.983 L1952.16 243.293 L1943.39 243.293 L1943.39 257.367 Q1943.39 260.538 1944.25 261.441 Q1945.13 262.344 1947.79 262.344 L1952.16 262.344 L1952.16 265.909 L1947.79 265.909 Q1942.86 265.909 1940.98 264.08 Q1939.11 262.228 1939.11 257.367 L1939.11 243.293 L1935.98 243.293 L1935.98 239.983 L1939.11 239.983 L1939.11 232.622 L1943.39 232.622 Z\" fill=\"#000000\" fill-rule=\"evenodd\" fill-opacity=\"1\" /><path clip-path=\"url(#clip710)\" d=\"M1972.79 243.964 Q1972.07 243.548 1971.21 243.362 Q1970.38 243.154 1969.36 243.154 Q1965.75 243.154 1963.81 245.515 Q1961.88 247.853 1961.88 252.251 L1961.88 265.909 L1957.6 265.909 L1957.6 239.983 L1961.88 239.983 L1961.88 244.011 Q1963.23 241.649 1965.38 240.515 Q1967.53 239.358 1970.61 239.358 Q1971.05 239.358 1971.58 239.427 Q1972.12 239.474 1972.76 239.589 L1972.79 243.964 Z\" fill=\"#000000\" fill-rule=\"evenodd\" fill-opacity=\"1\" /><path clip-path=\"url(#clip710)\" d=\"M1989.04 252.876 Q1983.88 252.876 1981.88 254.057 Q1979.89 255.237 1979.89 258.085 Q1979.89 260.353 1981.38 261.696 Q1982.88 263.015 1985.45 263.015 Q1988.99 263.015 1991.12 260.515 Q1993.27 257.992 1993.27 253.825 L1993.27 252.876 L1989.04 252.876 M1997.53 251.117 L1997.53 265.909 L1993.27 265.909 L1993.27 261.973 Q1991.81 264.335 1989.64 265.469 Q1987.46 266.58 1984.31 266.58 Q1980.33 266.58 1977.97 264.358 Q1975.63 262.112 1975.63 258.362 Q1975.63 253.987 1978.55 251.765 Q1981.49 249.543 1987.3 249.543 L1993.27 249.543 L1993.27 249.126 Q1993.27 246.187 1991.33 244.589 Q1989.41 242.969 1985.91 242.969 Q1983.69 242.969 1981.58 243.501 Q1979.48 244.034 1977.53 245.099 L1977.53 241.163 Q1979.87 240.261 1982.07 239.821 Q1984.27 239.358 1986.35 239.358 Q1991.98 239.358 1994.75 242.274 Q1997.53 245.191 1997.53 251.117 Z\" fill=\"#000000\" fill-rule=\"evenodd\" fill-opacity=\"1\" /><path clip-path=\"url(#clip710)\" d=\"M2006.31 239.983 L2010.56 239.983 L2010.56 265.909 L2006.31 265.909 L2006.31 239.983 M2006.31 229.89 L2010.56 229.89 L2010.56 235.284 L2006.31 235.284 L2006.31 229.89 Z\" fill=\"#000000\" fill-rule=\"evenodd\" fill-opacity=\"1\" /><path clip-path=\"url(#clip710)\" d=\"M2041.03 250.261 L2041.03 265.909 L2036.77 265.909 L2036.77 250.399 Q2036.77 246.719 2035.33 244.89 Q2033.9 243.062 2031.03 243.062 Q2027.58 243.062 2025.59 245.261 Q2023.6 247.46 2023.6 251.256 L2023.6 265.909 L2019.31 265.909 L2019.31 239.983 L2023.6 239.983 L2023.6 244.011 Q2025.12 241.673 2027.18 240.515 Q2029.27 239.358 2031.98 239.358 Q2036.44 239.358 2038.74 242.136 Q2041.03 244.89 2041.03 250.261 Z\" fill=\"#000000\" fill-rule=\"evenodd\" fill-opacity=\"1\" /><path clip-path=\"url(#clip710)\" d=\"M2049.52 239.983 L2053.78 239.983 L2053.78 265.909 L2049.52 265.909 L2049.52 239.983 M2049.52 229.89 L2053.78 229.89 L2053.78 235.284 L2049.52 235.284 L2049.52 229.89 Z\" fill=\"#000000\" fill-rule=\"evenodd\" fill-opacity=\"1\" /><path clip-path=\"url(#clip710)\" d=\"M2084.24 250.261 L2084.24 265.909 L2079.99 265.909 L2079.99 250.399 Q2079.99 246.719 2078.55 244.89 Q2077.12 243.062 2074.24 243.062 Q2070.8 243.062 2068.81 245.261 Q2066.81 247.46 2066.81 251.256 L2066.81 265.909 L2062.53 265.909 L2062.53 239.983 L2066.81 239.983 L2066.81 244.011 Q2068.34 241.673 2070.4 240.515 Q2072.49 239.358 2075.19 239.358 Q2079.66 239.358 2081.95 242.136 Q2084.24 244.89 2084.24 250.261 Z\" fill=\"#000000\" fill-rule=\"evenodd\" fill-opacity=\"1\" /><path clip-path=\"url(#clip710)\" d=\"M2109.8 252.645 Q2109.8 248.015 2107.88 245.469 Q2105.98 242.923 2102.53 242.923 Q2099.11 242.923 2097.18 245.469 Q2095.29 248.015 2095.29 252.645 Q2095.29 257.251 2097.18 259.798 Q2099.11 262.344 2102.53 262.344 Q2105.98 262.344 2107.88 259.798 Q2109.8 257.251 2109.8 252.645 M2114.06 262.691 Q2114.06 269.311 2111.12 272.529 Q2108.18 275.77 2102.12 275.77 Q2099.87 275.77 2097.88 275.422 Q2095.89 275.098 2094.01 274.404 L2094.01 270.26 Q2095.89 271.279 2097.72 271.765 Q2099.55 272.251 2101.44 272.251 Q2105.63 272.251 2107.72 270.052 Q2109.8 267.876 2109.8 263.455 L2109.8 261.348 Q2108.48 263.64 2106.42 264.774 Q2104.36 265.909 2101.49 265.909 Q2096.72 265.909 2093.8 262.274 Q2090.89 258.64 2090.89 252.645 Q2090.89 246.626 2093.8 242.992 Q2096.72 239.358 2101.49 239.358 Q2104.36 239.358 2106.42 240.492 Q2108.48 241.626 2109.8 243.918 L2109.8 239.983 L2114.06 239.983 L2114.06 262.691 Z\" fill=\"#000000\" fill-rule=\"evenodd\" fill-opacity=\"1\" /><path clip-path=\"url(#clip710)\" d=\"M2154.96 243.918 L2154.96 229.89 L2159.22 229.89 L2159.22 265.909 L2154.96 265.909 L2154.96 262.02 Q2153.62 264.335 2151.56 265.469 Q2149.52 266.58 2146.65 266.58 Q2141.95 266.58 2138.99 262.83 Q2136.05 259.08 2136.05 252.969 Q2136.05 246.858 2138.99 243.108 Q2141.95 239.358 2146.65 239.358 Q2149.52 239.358 2151.56 240.492 Q2153.62 241.603 2154.96 243.918 M2140.45 252.969 Q2140.45 257.668 2142.37 260.353 Q2144.31 263.015 2147.69 263.015 Q2151.07 263.015 2153.02 260.353 Q2154.96 257.668 2154.96 252.969 Q2154.96 248.27 2153.02 245.608 Q2151.07 242.923 2147.69 242.923 Q2144.31 242.923 2142.37 245.608 Q2140.45 248.27 2140.45 252.969 Z\" fill=\"#000000\" fill-rule=\"evenodd\" fill-opacity=\"1\" /><path clip-path=\"url(#clip710)\" d=\"M2179.78 252.876 Q2174.61 252.876 2172.62 254.057 Q2170.63 255.237 2170.63 258.085 Q2170.63 260.353 2172.11 261.696 Q2173.62 263.015 2176.19 263.015 Q2179.73 263.015 2181.86 260.515 Q2184.01 257.992 2184.01 253.825 L2184.01 252.876 L2179.78 252.876 M2188.27 251.117 L2188.27 265.909 L2184.01 265.909 L2184.01 261.973 Q2182.55 264.335 2180.38 265.469 Q2178.2 266.58 2175.05 266.58 Q2171.07 266.58 2168.71 264.358 Q2166.37 262.112 2166.37 258.362 Q2166.37 253.987 2169.29 251.765 Q2172.23 249.543 2178.04 249.543 L2184.01 249.543 L2184.01 249.126 Q2184.01 246.187 2182.07 244.589 Q2180.15 242.969 2176.65 242.969 Q2174.43 242.969 2172.32 243.501 Q2170.22 244.034 2168.27 245.099 L2168.27 241.163 Q2170.61 240.261 2172.81 239.821 Q2175.01 239.358 2177.09 239.358 Q2182.72 239.358 2185.49 242.274 Q2188.27 245.191 2188.27 251.117 Z\" fill=\"#000000\" fill-rule=\"evenodd\" fill-opacity=\"1\" /><path clip-path=\"url(#clip710)\" d=\"M2201.26 232.622 L2201.26 239.983 L2210.03 239.983 L2210.03 243.293 L2201.26 243.293 L2201.26 257.367 Q2201.26 260.538 2202.11 261.441 Q2202.99 262.344 2205.66 262.344 L2210.03 262.344 L2210.03 265.909 L2205.66 265.909 Q2200.73 265.909 2198.85 264.08 Q2196.98 262.228 2196.98 257.367 L2196.98 243.293 L2193.85 243.293 L2193.85 239.983 L2196.98 239.983 L2196.98 232.622 L2201.26 232.622 Z\" fill=\"#000000\" fill-rule=\"evenodd\" fill-opacity=\"1\" /><path clip-path=\"url(#clip710)\" d=\"M2227.42 252.876 Q2222.25 252.876 2220.26 254.057 Q2218.27 255.237 2218.27 258.085 Q2218.27 260.353 2219.75 261.696 Q2221.26 263.015 2223.83 263.015 Q2227.37 263.015 2229.5 260.515 Q2231.65 257.992 2231.65 253.825 L2231.65 252.876 L2227.42 252.876 M2235.91 251.117 L2235.91 265.909 L2231.65 265.909 L2231.65 261.973 Q2230.19 264.335 2228.02 265.469 Q2225.84 266.58 2222.69 266.58 Q2218.71 266.58 2216.35 264.358 Q2214.01 262.112 2214.01 258.362 Q2214.01 253.987 2216.93 251.765 Q2219.87 249.543 2225.68 249.543 L2231.65 249.543 L2231.65 249.126 Q2231.65 246.187 2229.71 244.589 Q2227.79 242.969 2224.29 242.969 Q2222.07 242.969 2219.96 243.501 Q2217.86 244.034 2215.91 245.099 L2215.91 241.163 Q2218.25 240.261 2220.45 239.821 Q2222.65 239.358 2224.73 239.358 Q2230.36 239.358 2233.13 242.274 Q2235.91 245.191 2235.91 251.117 Z\" fill=\"#000000\" fill-rule=\"evenodd\" fill-opacity=\"1\" /></svg>\n"
      ]
     },
     "execution_count": 36,
     "metadata": {},
     "output_type": "execute_result"
    }
   ],
   "source": [
    "scatter(Igrid, [nn_res([I], parameters(nn_res))[1] for I in Igrid], xlabel=\"Proportion of population infected, i\", ylab=\"Force of infection, λ\", label=\"Symbolic Regression\")\n",
    "Plots.abline!(p[1], 0,label=\"True value\")\n",
    "Plots.vline!([Imax], label=\"Upper bound of training data\")"
   ]
  }
 ],
 "metadata": {
  "kernelspec": {
   "display_name": "Julia 1.8.0",
   "language": "julia",
   "name": "julia-1.8"
  },
  "language_info": {
   "file_extension": ".jl",
   "mimetype": "application/julia",
   "name": "julia",
   "version": "1.8.2"
  }
 },
 "nbformat": 4,
 "nbformat_minor": 4
}
